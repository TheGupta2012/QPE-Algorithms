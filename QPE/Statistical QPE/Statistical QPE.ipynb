{
 "cells": [
  {
   "cell_type": "markdown",
   "metadata": {},
   "source": [
    "## Making SPEA algorithm for arbitrary unitaries\n",
    "- This is an implementation of the Statistical Phase Estimation algorithm for arbitrary unitaries.\n",
    "- It aims to provide the user one of the **eigenvector-eigenphase** pair of the given unitary matrix.\n",
    "- The hardware structure is quite similar to that of the IPE algorithm and uses the circuit present in the last stage of the IPE algorithm.\n",
    "- A scipy class called **unitary_group** is used for sampling a random basis for the algorithm"
   ]
  },
  {
   "cell_type": "code",
   "execution_count": 3,
   "metadata": {
    "ExecuteTime": {
     "end_time": "2021-06-02T08:06:03.437369Z",
     "start_time": "2021-06-02T08:06:00.552851Z"
    }
   },
   "outputs": [],
   "source": [
    "from qiskit import QuantumCircuit, execute, transpile, Aer \n",
    "from qiskit.extensions import UnitaryGate,Initialize\n",
    "from qiskit.tools.visualization import plot_histogram \n",
    "import numpy as np \n",
    "from time import sleep \n",
    "from qiskit.extensions import UnitaryGate\n",
    "from qiskit.quantum_info import Statevector \n",
    "import sys \n",
    "from scipy.stats import unitary_group \n",
    "import matplotlib.pyplot as plt \n",
    "%matplotlib inline "
   ]
  },
  {
   "cell_type": "code",
   "execution_count": 1,
   "metadata": {
    "ExecuteTime": {
     "end_time": "2021-06-02T08:05:48.796102Z",
     "start_time": "2021-06-02T08:05:48.754483Z"
    }
   },
   "outputs": [],
   "source": [
    "class SPEA():\n",
    "    def __init__(self,unitary,resolution = 100, error = 3, max_iters = 20):\n",
    "        # handle resolution \n",
    "        if not isinstance(resolution,int):\n",
    "            raise TypeError(\"Please enter the number of intervals as an integer value\")  \n",
    "        if resolution < 10 or resolution > 1e6:\n",
    "            raise ValueError(\"Resolution needs to be atleast 0.1 and greater than 0.000001\")\n",
    "        \n",
    "        self.resolution = resolution \n",
    "        \n",
    "        # handle unitary\n",
    "        if not isinstance(unitary, np.ndarray) and not isinstance(unitary, QuantumCircuit)\\\n",
    "                and not isinstance(unitary, UnitaryGate):\n",
    "            raise TypeError(\"A numpy array or Quantum Circuit or UnitaryGate needs to be passed as the unitary matrix\")\n",
    "\n",
    "        # convert circuit to numpy array for uniformity \n",
    "        if isinstance(unitary, UnitaryGate):\n",
    "            U = unitary.to_matrix()\n",
    "        else: # both QC and ndarray type \n",
    "            U = unitary\n",
    "        \n",
    "        # note - the unitary here is not just a single qubit unitary \n",
    "        if isinstance(U,np.ndarray):\n",
    "            self.dims = U.shape[0]\n",
    "        else:\n",
    "            self.dims = 2**(U.num_qubits)\n",
    "        \n",
    "        if isinstance(U,np.ndarray):\n",
    "            self.c_unitary_gate = UnitaryGate(data = U).control(num_ctrl_qubits = 1,label = 'CU',ctrl_state = '1')\n",
    "        else:\n",
    "            self.c_unitary_gate = U.control(num_ctrl_qubits = 1,label = 'CU',ctrl_state = '1')\n",
    "        \n",
    "        # handle error \n",
    "        if not isinstance(error,int):\n",
    "            raise TypeError(\"The allowable error should be provided as an int. Interpreted as 10**(-error)\")\n",
    "        if error <= 0:\n",
    "            raise ValueError(\"The error threshold must be finite and greater than 0.\")\n",
    "            \n",
    "        self.error = error \n",
    "        \n",
    "        # handle max_iters \n",
    "        if not isinstance(max_iters,int):\n",
    "            raise TypeError(\"Max iterations must be of integer type\")\n",
    "        if max_iters <= 0 and max_iters > 1e5:\n",
    "            raise ValueError(\"Max iterations should be atleast 1 and less than 1e5\")\n",
    "        \n",
    "        self.iterations = max_iters \n",
    "        self.basis = []\n",
    "    \n",
    "    def get_basis_vectors(self,randomize = True):\n",
    "        # get the d dimensional basis for the unitary provided \n",
    "        if randomize == True:\n",
    "            UR = unitary_group.rvs(self.dims)\n",
    "        else:\n",
    "            UR = np.identity(self.dims)\n",
    "\n",
    "        basis = []\n",
    "        for k in UR:\n",
    "            basis.append(np.array(k,dtype = complex))\n",
    "        return basis \n",
    "    def get_cost(self,angles,state,backend):\n",
    "\n",
    "        '''Given an initial state and a set of angles,\n",
    "          return the best cost and the associated angle\n",
    "          state is a normalized state in ndarray form'''\n",
    "        result = {'cost' : -1, 'theta' : -1}\n",
    "        # all theta values are iterated over for the same state\n",
    "        phi = Initialize(state)\n",
    "        shots = 512\n",
    "        circuits = []\n",
    "\n",
    "        for theta in angles:\n",
    "            qc = QuantumCircuit(1 + int(np.log2(self.dims)), 1)\n",
    "            # initialize the circuit \n",
    "            qc = qc.compose(phi, qubits = list(range(1,int(np.log2(self.dims))+1)))\n",
    "            # add hadamard\n",
    "            qc.h(0)\n",
    "            # add unitary which produces a phase kickback on control qubit\n",
    "            qc = qc.compose(self.c_unitary_gate,qubits = range(1+int(np.log2(self.dims))))\n",
    "            # add the inv rotation \n",
    "            qc.p(-2*np.pi*theta,0)\n",
    "            # add hadamard \n",
    "            qc.h(0)\n",
    "            # measure \n",
    "            qc.measure([0],[0])\n",
    "            #generate all the circuits...\n",
    "            circuits.append(qc)\n",
    "\n",
    "        #execute only once...\n",
    "        counts = execute(circuits,backend = backend,shots = shots).result().get_counts()\n",
    "        # get the cost for this theta \n",
    "        for k,theta in zip(counts,angles):\n",
    "            # for all experiments you ran \n",
    "            try:\n",
    "                C_val = (k['0'])/shots\n",
    "            except:\n",
    "                C_val = 0 \n",
    "\n",
    "            if C_val > result['cost']:\n",
    "                # means this is a better theta value  \n",
    "                result['theta'] = theta \n",
    "                result['cost'] = C_val \n",
    "\n",
    "        return result \n",
    "\n",
    "    \n",
    "    def get_eigen_pair(self,backend,progress = False,randomize = True, target_cost = None):\n",
    "        '''Finding the eigenstate pair for the unitary'''\n",
    "        \n",
    "        if not isinstance(progress,bool):\n",
    "            raise TypeError(\"Progress must be a boolean variable\")\n",
    "        \n",
    "        if not isinstance(randomize,bool):\n",
    "            raise Exception(\"Randomize must be a boolean variable\")\n",
    "        if not isinstance(target_cost, float) or target_cost <= 0 or target_cost >= 1:\n",
    "            raise ValueError(\"Target cost must be a float value between 0 and 1\")\n",
    "        \n",
    "        results = dict() \n",
    "        \n",
    "        # first initialize the state phi \n",
    "        self.basis = self.get_basis_vectors(randomize)\n",
    "        \n",
    "        ind = np.random.choice(self.dims) \n",
    "        phi = self.basis[ind]\n",
    "        \n",
    "        # doing the method 1 of our algorithm \n",
    "        # define resolution of angles and precision \n",
    "        if target_cost == None:\n",
    "            precision = 1/10**self.error \n",
    "        else:\n",
    "            precision = 1 - target_cost \n",
    "            \n",
    "        samples = self.resolution \n",
    "        \n",
    "        # initialization of range \n",
    "        left,right = 0,1\n",
    "        # generate the angles\n",
    "        angles = np.linspace(left,right,samples)\n",
    "\n",
    "        # iterate once \n",
    "        result = self.get_cost(angles,phi,backend)\n",
    "        \n",
    "        # get initial estimates \n",
    "        cost = result['cost']\n",
    "        theta_max = result['theta']\n",
    "        \n",
    "        # the range upto which theta extends iin each iteration \n",
    "        angle_range = 0.5\n",
    "        # a parameter \n",
    "        a = 1 \n",
    "        # start algorithm        \n",
    "        iters = 0 \n",
    "        best_phi = phi \n",
    "        found = True\n",
    "        plus = (1/np.sqrt(2))*np.array([[1,1]])\n",
    "        minus = (1/np.sqrt(2))*np.array([[1,-1]])\n",
    "        while 1 - cost >= precision:\n",
    "            # get angles, note if theta didn't change, then we need to \n",
    "            # again generate the same range again \n",
    "            right = min(1,theta_max + angle_range/2)\n",
    "            left = max(0,theta_max - angle_range/2)\n",
    "            if progress:\n",
    "                print(\"Right :\",right) \n",
    "                print(\"Left :\",left)\n",
    "            # generate the angles only if the theta has been updated \n",
    "            if found == True: \n",
    "                angles = np.linspace(left,right,samples)\n",
    "            \n",
    "            found = False # for this iteration \n",
    "            if progress:\n",
    "                print(\"ITERATION NUMBER\",iters+1,\"...\")\n",
    "            for i in range((2*self.dims)):\n",
    "                # everyone is supplied with the same range of theta in one iteration \n",
    "                #define z\n",
    "                if i < self.dims:\n",
    "                    z = 1 \n",
    "                else:\n",
    "                    z = 1j \n",
    "                    \n",
    "                # alter and normalise phi \n",
    "                curr_phi = best_phi + z*a*(1 - cost)*self.basis[i % self.dims]\n",
    "                curr_phi = curr_phi / np.linalg.norm(curr_phi)\n",
    "                \n",
    "                # iterate (angles would be same until theta is changed)\n",
    "                res = self.get_cost(angles,curr_phi,backend)\n",
    "                curr_cost = res['cost']\n",
    "                curr_theta = res['theta']\n",
    "                \n",
    "                # at this point I have the best Cost for the state PHI and the \n",
    "#   \n",
    "                print(curr_phi)\n",
    "               \n",
    "                if curr_cost > cost:\n",
    "                    theta_max = float(curr_theta) \n",
    "                    cost = float(curr_cost) \n",
    "                    best_phi = curr_phi\n",
    "                    found = True\n",
    "                if progress:\n",
    "                    sys.stdout.write('\\r')\n",
    "                    sys.stdout.write(\"%f %%completed\" % (100*(i+1)/(2*self.dims)))\n",
    "                    sys.stdout.flush()\n",
    "                    sleep(0.2)\n",
    "                \n",
    "            # iteration completes\n",
    "            \n",
    "            if found == False:\n",
    "                # phi was not updated , change a \n",
    "                a = a/2\n",
    "                if progress:\n",
    "                    print(\"\\nNo change, updating a...\")\n",
    "            else:\n",
    "                angle_range /= 2 # updated phi and thus theta too -> refine theta range\n",
    "            \n",
    "            iters+=1 \n",
    "            if progress:\n",
    "                print(\"\\nCOST :\",cost)\n",
    "                print(\"THETA :\",theta_max)\n",
    "            \n",
    "            if iters >= self.iterations:\n",
    "                print(\"Maximum iterations reached for the estimation.\\nTerminating algorithm...\")\n",
    "                break\n",
    "            # add the warning that iters maxed out \n",
    "        \n",
    "        # add cost, eigenvector and theta to the dict \n",
    "        results['cost'] = cost \n",
    "        results['theta'] = theta_max \n",
    "        results['state'] = best_phi \n",
    "        return results\n",
    "            "
   ]
  },
  {
   "cell_type": "markdown",
   "metadata": {},
   "source": [
    "## Testing the circuit\n",
    "- With phase = 1/6 , we test the circuit and X gate"
   ]
  },
  {
   "cell_type": "code",
   "execution_count": 1,
   "metadata": {
    "ExecuteTime": {
     "end_time": "2021-05-29T17:52:10.862994Z",
     "start_time": "2021-05-29T17:51:57.253824Z"
    }
   },
   "outputs": [],
   "source": [
    "from qiskit import IBMQ \n",
    "IBMQ.load_account()\n",
    "provider = IBMQ.get_provider(hub='ibm-q-education')\n",
    "santiago = provider.get_backend('ibmq_santiago')\n",
    "casablanca = provider.get_backend('ibmq_casablanca')"
   ]
  },
  {
   "cell_type": "code",
   "execution_count": 6,
   "metadata": {
    "ExecuteTime": {
     "end_time": "2021-06-02T08:07:19.759449Z",
     "start_time": "2021-06-02T08:07:19.751419Z"
    }
   },
   "outputs": [],
   "source": [
    "U = UnitaryGate(data=np.array([[0,1],\n",
    "                               [1,0]]))"
   ]
  },
  {
   "cell_type": "code",
   "execution_count": 5,
   "metadata": {
    "ExecuteTime": {
     "end_time": "2021-05-29T17:52:22.962510Z",
     "start_time": "2021-05-29T17:52:22.948145Z"
    }
   },
   "outputs": [],
   "source": [
    "U = UnitaryGate(data=np.array([[1,0],\n",
    "                               [0, np.exp(2*np.pi*1j*(1/5))]]))"
   ]
  },
  {
   "cell_type": "code",
   "execution_count": 7,
   "metadata": {
    "ExecuteTime": {
     "end_time": "2021-06-02T08:07:21.576341Z",
     "start_time": "2021-06-02T08:07:21.548575Z"
    }
   },
   "outputs": [],
   "source": [
    "spe = SPEA(U,resolution= 40,error = 4,max_iters=15)"
   ]
  },
  {
   "cell_type": "code",
   "execution_count": 15,
   "metadata": {
    "ExecuteTime": {
     "end_time": "2021-06-02T08:12:10.593551Z",
     "start_time": "2021-06-02T08:11:51.313660Z"
    }
   },
   "outputs": [
    {
     "name": "stdout",
     "output_type": "stream",
     "text": [
      "Right : 0.40384615384615385\n",
      "Left : 0\n",
      "ITERATION NUMBER 1 ...\n",
      "[-0.65628372+0.06238486j -0.2076345 -0.72269477j]\n",
      "25.000000 %completed[-0.5641568 +0.06672209j -0.21624372-0.79404907j]\n",
      "50.000000 %completed[-0.61069513-0.27762994j -0.29608996-0.67992927j]\n",
      "75.000000 %completed[-0.61512919-0.30835283j -0.18578673-0.70143988j]\n",
      "100.000000 %completed\n",
      "COST : 0.8828125\n",
      "THETA : 0.051775147928994084\n",
      "Right : 0.17677514792899407\n",
      "Left : 0\n",
      "ITERATION NUMBER 2 ...\n",
      "[-0.68736335-0.26520732j -0.28258547-0.61428182j]\n",
      "25.000000 %completed[-0.58432959-0.24424232j -0.29274275-0.71638418j]\n",
      "50.000000 %completed[-0.58211703-0.3723176j  -0.31523551-0.65049669j]\n",
      "75.000000 %completed[-0.58551055-0.38856971j -0.25842911-0.66287658j]\n",
      "100.000000 %completed\n",
      "COST : 0.939453125\n",
      "THETA : 0.02719617660446063\n"
     ]
    }
   ],
   "source": [
    "result = spe.get_eigen_pair(progress = True,backend = Aer.get_backend('qasm_simulator'),target_cost=0.9)"
   ]
  },
  {
   "cell_type": "code",
   "execution_count": 17,
   "metadata": {
    "ExecuteTime": {
     "end_time": "2021-06-02T08:26:11.841116Z",
     "start_time": "2021-06-02T08:26:11.831141Z"
    }
   },
   "outputs": [
    {
     "data": {
      "text/plain": [
       "{'cost': 0.939453125,\n",
       " 'theta': 0.02719617660446063,\n",
       " 'state': array([-0.58211703-0.3723176j , -0.31523551-0.65049669j])}"
      ]
     },
     "execution_count": 17,
     "metadata": {},
     "output_type": "execute_result"
    }
   ],
   "source": [
    " result "
   ]
  },
  {
   "cell_type": "code",
   "execution_count": 18,
   "metadata": {
    "ExecuteTime": {
     "end_time": "2021-05-25T07:12:11.815519Z",
     "start_time": "2021-05-25T07:12:11.796600Z"
    }
   },
   "outputs": [
    {
     "name": "stdout",
     "output_type": "stream",
     "text": [
      "+ overlap : 0.08614097405151126\n",
      "- overlap : 0.9138590161879572\n"
     ]
    }
   ],
   "source": [
    "s = np.array([[-0.2776236 -0.38089485j,  0.58410852+0.66080366j]])\n",
    "plus = (1/np.sqrt(2))*np.array([[1,1]])\n",
    "minus = (1/np.sqrt(2))*np.array([[1,-1]])\n",
    "print(\"+ overlap :\",np.linalg.norm(np.dot(plus,s.conjugate().T))**2)\n",
    "print(\"- overlap :\",np.linalg.norm(np.dot(minus,s.conjugate().T))**2)\n"
   ]
  },
  {
   "cell_type": "code",
   "execution_count": 3,
   "metadata": {
    "ExecuteTime": {
     "end_time": "2021-05-23T17:31:45.537659Z",
     "start_time": "2021-05-23T17:31:45.399630Z"
    }
   },
   "outputs": [],
   "source": [
    "u2 = UnitaryGate(data=np.array([[1,0],\n",
    "                               [0, np.exp(2*np.pi*1j*(1/5))]]))"
   ]
  },
  {
   "cell_type": "code",
   "execution_count": 68,
   "metadata": {
    "ExecuteTime": {
     "end_time": "2021-05-24T08:48:23.349904Z",
     "start_time": "2021-05-24T08:48:23.322303Z"
    }
   },
   "outputs": [
    {
     "ename": "NameError",
     "evalue": "name 'u2' is not defined",
     "output_type": "error",
     "traceback": [
      "\u001b[1;31m---------------------------------------------------------------------------\u001b[0m",
      "\u001b[1;31mNameError\u001b[0m                                 Traceback (most recent call last)",
      "\u001b[1;32m<ipython-input-68-c905b1eb3da8>\u001b[0m in \u001b[0;36m<module>\u001b[1;34m\u001b[0m\n\u001b[0;32m      1\u001b[0m \u001b[0mt\u001b[0m \u001b[1;33m=\u001b[0m \u001b[1;33m[\u001b[0m\u001b[1;33m]\u001b[0m\u001b[1;33m\u001b[0m\u001b[1;33m\u001b[0m\u001b[0m\n\u001b[0;32m      2\u001b[0m \u001b[1;32mfor\u001b[0m \u001b[0mresolution\u001b[0m \u001b[1;32min\u001b[0m \u001b[0mrange\u001b[0m\u001b[1;33m(\u001b[0m\u001b[1;36m20\u001b[0m\u001b[1;33m,\u001b[0m\u001b[1;36m100\u001b[0m\u001b[1;33m,\u001b[0m\u001b[1;36m5\u001b[0m\u001b[1;33m)\u001b[0m\u001b[1;33m:\u001b[0m\u001b[1;33m\u001b[0m\u001b[1;33m\u001b[0m\u001b[0m\n\u001b[1;32m----> 3\u001b[1;33m     \u001b[0mspe\u001b[0m \u001b[1;33m=\u001b[0m \u001b[0mSPEA\u001b[0m\u001b[1;33m(\u001b[0m\u001b[0mu2\u001b[0m\u001b[1;33m,\u001b[0m\u001b[0mresolution\u001b[0m\u001b[1;33m=\u001b[0m \u001b[1;36m100\u001b[0m\u001b[1;33m,\u001b[0m\u001b[0merror\u001b[0m \u001b[1;33m=\u001b[0m \u001b[1;36m4\u001b[0m\u001b[1;33m,\u001b[0m\u001b[0mmax_iters\u001b[0m\u001b[1;33m=\u001b[0m\u001b[1;36m10\u001b[0m\u001b[1;33m)\u001b[0m\u001b[1;33m\u001b[0m\u001b[1;33m\u001b[0m\u001b[0m\n\u001b[0m\u001b[0;32m      4\u001b[0m     \u001b[0mres\u001b[0m \u001b[1;33m=\u001b[0m \u001b[0mspe\u001b[0m\u001b[1;33m.\u001b[0m\u001b[0mget_eigen_pair\u001b[0m\u001b[1;33m(\u001b[0m\u001b[1;33m)\u001b[0m\u001b[1;33m\u001b[0m\u001b[1;33m\u001b[0m\u001b[0m\n\u001b[0;32m      5\u001b[0m     \u001b[0mtheta\u001b[0m \u001b[1;33m=\u001b[0m \u001b[0mres\u001b[0m\u001b[1;33m[\u001b[0m\u001b[1;34m'theta'\u001b[0m\u001b[1;33m]\u001b[0m\u001b[1;33m\u001b[0m\u001b[1;33m\u001b[0m\u001b[0m\n",
      "\u001b[1;31mNameError\u001b[0m: name 'u2' is not defined"
     ]
    }
   ],
   "source": [
    "t = []\n",
    "for resolution in range(20,100,5):\n",
    "    spe = SPEA(u2,resolution= 100,error = 4,max_iters=10)    \n",
    "    res = spe.get_eigen_pair()\n",
    "    theta = res['theta']\n",
    "    t.append(theta)"
   ]
  },
  {
   "cell_type": "code",
   "execution_count": 7,
   "metadata": {
    "ExecuteTime": {
     "end_time": "2021-05-23T17:34:57.778895Z",
     "start_time": "2021-05-23T17:34:57.132187Z"
    }
   },
   "outputs": [
    {
     "data": {
      "image/png": "[encoded data removed]",
      "text/plain": [
       "<Figure size 432x288 with 1 Axes>"
      ]
     },
     "metadata": {
      "needs_background": "light"
     },
     "output_type": "display_data"
    }
   ],
   "source": [
    "plt.title(\"Eigenphase estimation for theta = 1/5, 0\",fontsize = 15)\n",
    "plt.grid()\n",
    "plt.plot(list(range(20,100,5)),t,marker = 'o',color='g',label = 'Estimates',alpha=0.7)\n",
    "plt.plot(list(range(20,100,1)),[0.2 for i in range(20,100,1)],color='black',label = \"True\")\n",
    "plt.legend()\n",
    "plt.xlabel(\"Resolution of theta \")\n",
    "plt.ylabel(\"Estimates\")\n",
    "plt.savefig(\"SPE_PLOT.jpg\",dpi = 200)"
   ]
  },
  {
   "cell_type": "markdown",
   "metadata": {},
   "source": [
    "## Generating Random Unitaries for checking\n",
    "- Using the **unitary_group** class for the checking of our algorithm\n",
    "- 5 random matrices are checked with the **SPEA** class\n"
   ]
  },
  {
   "cell_type": "code",
   "execution_count": 6,
   "metadata": {
    "ExecuteTime": {
     "end_time": "2021-05-26T06:02:24.077563Z",
     "start_time": "2021-05-26T06:02:24.045973Z"
    }
   },
   "outputs": [],
   "source": [
    "def generate_random_estimation(experiments=5,resolution = 40):\n",
    "    \n",
    "    best_costs, errors_in_phases = [] , [] \n",
    "    for exp in range(experiments):\n",
    "        u_rand = unitary_group.rvs(2)\n",
    "\n",
    "        # generate the phases and vectors \n",
    "        eigen_phases, eigen_vectors = np.linalg.eig(u_rand)\n",
    "        eigen_phases = np.angle(eigen_phases)\n",
    "        ep = []\n",
    "        # doing this as phase maybe be negative \n",
    "        for k in eigen_phases:\n",
    "            if k < 0:\n",
    "                ep.append(k + 2*np.pi)\n",
    "            else:\n",
    "                ep.append(k)\n",
    "        eigen_phases = ep\n",
    "        \n",
    "        ev1 , ev2 = eigen_vectors[0] , eigen_vectors[1]\n",
    "        ev1 = ev1 / np.linalg.norm(ev1)\n",
    "        ev2 = ev2 / np.linalg.norm(ev2)\n",
    "        # generate their corresponding init statevectors \n",
    "        sv1 = Initialize(ev1)\n",
    "        sv2 = Initialize(ev2)\n",
    "        print(\"Eigenvectors\",ev1,ev2)\n",
    "        print(\"Eigenphases\",eigen_phases)\n",
    "        # run the algorithm \n",
    "        spea = SPEA(resolution = resolution, max_iters = 10, unitary = u_rand,error = 4)\n",
    "        result = spea.get_eigen_pair(progress = False, randomize = True)\n",
    "        # get the results \n",
    "        res_state = result['state']\n",
    "        res_theta = 2*np.pi*result['theta']\n",
    "        sv_res = Initialize(res_state)\n",
    "        print(\"Result\",result)\n",
    "        # get the dot products \n",
    "        d1 = np.linalg.norm(np.dot(ev1, res_state.conjugate().T))**2 \n",
    "        d2 = np.linalg.norm(np.dot(ev2, res_state.conjugate().T))**2 \n",
    "        \n",
    "        # make a bloch sphere\n",
    "        qc = QuantumCircuit(2)\n",
    "        qc = qc.compose(sv_res,qubits = [0])\n",
    "        if d1 > d2:\n",
    "            # it is closer to the first\n",
    "            qc = qc.compose(sv1,qubits = [1])\n",
    "            best_costs.append(result['cost'])\n",
    "            errors_in_phases.append(abs(res_theta - eigen_phases[0]))\n",
    "        else:\n",
    "            # it is closer to the second\n",
    "            qc = qc.compose(sv2,qubits = [1])\n",
    "            best_costs.append(result['cost'])\n",
    "            errors_in_phases.append(abs(res_theta - eigen_phases[1]))\n",
    "        print(\"Bloch Sphere for the states...\")\n",
    "        s = Statevector.from_instruction(qc)\n",
    "        display(plot_bloch_multivector(s))\n",
    "    \n",
    "    plt.title(\"Experiments for Random Matrices\",fontsize= 16)\n",
    "    plt.xlabel(\"Experiment Number\")\n",
    "    plt.ylabel(\"Metric value\")\n",
    "    plt.plot([i for i in range(experiments)], best_costs, label = 'Best Costs', alpha = 0.5, color = 'g',marker='o')\n",
    "    plt.plot([i for i in range(experiments)], errors_in_phases, label = 'Corresponding Error in Phase', alpha = 0.5, color = 'b',marker='s') \n",
    "    plt.legend()\n",
    "    plt.grid()\n",
    "    return "
   ]
  },
  {
   "cell_type": "code",
   "execution_count": 7,
   "metadata": {
    "ExecuteTime": {
     "end_time": "2021-05-26T06:05:56.607347Z",
     "start_time": "2021-05-26T06:02:24.493763Z"
    }
   },
   "outputs": [
    {
     "name": "stdout",
     "output_type": "stream",
     "text": [
      "Eigenvectors [ 0.84293567+0.j         -0.51745107-0.14732223j] [0.51745107-0.14732223j 0.84293567+0.j        ]\n",
      "Eigenphases [3.6513816248842383, 1.4444487462918403]\n",
      "[ 0.21608479+0.42867033j -0.76528937+0.42881381j]\n",
      "[ 0.18718667+0.426299j  -0.76535454+0.4443678j]\n",
      "[ 0.18534064+0.57970226j -0.68782974+0.39558106j]\n",
      "[ 0.14200279+0.425694j   -0.844975  +0.29092452j]\n",
      "[ 0.28262941+0.43094596j -0.82941077+0.21560142j]\n",
      "[ 0.25683927+0.43161144j -0.82769204+0.25034183j]\n",
      "[ 0.26211403+0.53449704j -0.77920248+0.19609343j]\n",
      "[ 0.22838806+0.42219501j -0.86860346+0.12295649j]\n",
      "[ 0.30450187+0.42108703j -0.8503303 +0.08308246j]\n",
      "[ 0.28924496+0.42357056j -0.8511853 +0.11139531j]\n",
      "[ 0.29345397+0.4798541j  -0.82360294+0.07282175j]\n",
      "[ 0.27226352+0.41426515j -0.86786683+0.03262098j]\n",
      "[ 0.31806649+0.41241333j -0.8536135 +0.00964083j]\n",
      "[ 0.30626388+0.4154992j  -0.85577827+0.03473343j]\n",
      "[ 0.30971327+0.45757144j -0.83348809+0.00191458j]\n",
      "[ 0.29246434+0.40642121j -0.86516136-0.02796843j]\n",
      "[ 0.32722169+0.40452712j -0.85281897-0.04453746j]\n",
      "[ 0.31949975+0.40722877j -0.85520959-0.02648007j]\n",
      "[ 0.32184355+0.43419981j -0.83989942-0.04956031j]\n",
      "[ 0.30999217+0.4003029j  -0.85962554-0.06860301j]\n",
      "[ 0.3286283 +0.39913306j -0.85249433-0.07713407j]\n",
      "[ 0.30447303+0.40257278j -0.86156152-0.05425014j]\n",
      "[ 0.30591651+0.42304042j -0.84982593-0.07244155j]\n",
      "[ 0.29675351+0.39685433j -0.86424135-0.08678061j]\n",
      "[ 0.31938879+0.39973784j -0.85608763-0.07290017j]\n",
      "[ 0.30721489+0.40146131j -0.86062944-0.06135789j]\n",
      "[ 0.30797882+0.41170665j -0.8547938 -0.07052827j]\n",
      "[ 0.30237412+0.41021826j -0.856835  -0.07826012j]\n",
      "[ 0.31595098+0.4111701j  -0.8518302 -0.07415814j]\n",
      "[ 0.30564342+0.41259554j -0.8556887 -0.06437284j]\n",
      "[ 0.30623679+0.4213023j  -0.85059864-0.07214815j]\n",
      "[ 0.30237412+0.41021826j -0.856835  -0.07826012j]\n",
      "[ 0.31197897+0.41144207j -0.85331717-0.07234887j]\n",
      "[ 0.30680798+0.41215526j -0.85524792-0.06743811j]\n",
      "[ 0.30711215+0.41651095j -0.85270831-0.07133932j]\n",
      "[ 0.30517436+0.41096592j -0.85582696-0.07440315j]\n",
      "[ 0.30998242+0.41157529j -0.85405679-0.07143998j]\n",
      "[ 0.30739261+0.41193201j -0.85502254-0.06898007j]\n",
      "[ 0.30754658+0.41411039j -0.85375409-0.07093407j]\n",
      "[ 0.30657608+0.41133716j -0.85531354-0.07246794j]\n",
      "[ 0.3089815 +0.41164121j -0.85442563-0.07098448j]\n",
      "[ 0.30768552+0.4118196j  -0.8549086 -0.06975339j]\n",
      "[ 0.30776297+0.41290892j -0.8542747 -0.07073124j]\n",
      "[ 0.30727732+0.41152213j -0.85505446-0.07149866j]\n",
      "Result {'cost': 0.978515625, 'theta': 0.24859775641025647, 'state': array([ 0.30797882+0.41170665j, -0.8547938 -0.07052827j])}\n",
      "Bloch Sphere for the states...\n"
     ]
    },
    {
     "ename": "NameError",
     "evalue": "name 'Statevector' is not defined",
     "output_type": "error",
     "traceback": [
      "\u001b[1;31m---------------------------------------------------------------------------\u001b[0m",
      "\u001b[1;31mNameError\u001b[0m                                 Traceback (most recent call last)",
      "\u001b[1;32m<ipython-input-7-ecb11ad92ccb>\u001b[0m in \u001b[0;36m<module>\u001b[1;34m\u001b[0m\n\u001b[1;32m----> 1\u001b[1;33m \u001b[0mgenerate_random_estimation\u001b[0m\u001b[1;33m(\u001b[0m\u001b[1;33m)\u001b[0m\u001b[1;33m\u001b[0m\u001b[1;33m\u001b[0m\u001b[0m\n\u001b[0m",
      "\u001b[1;32m<ipython-input-6-fcac9bdc3b98>\u001b[0m in \u001b[0;36mgenerate_random_estimation\u001b[1;34m(experiments, resolution)\u001b[0m\n\u001b[0;32m     51\u001b[0m             \u001b[0merrors_in_phases\u001b[0m\u001b[1;33m.\u001b[0m\u001b[0mappend\u001b[0m\u001b[1;33m(\u001b[0m\u001b[0mabs\u001b[0m\u001b[1;33m(\u001b[0m\u001b[0mres_theta\u001b[0m \u001b[1;33m-\u001b[0m \u001b[0meigen_phases\u001b[0m\u001b[1;33m[\u001b[0m\u001b[1;36m1\u001b[0m\u001b[1;33m]\u001b[0m\u001b[1;33m)\u001b[0m\u001b[1;33m)\u001b[0m\u001b[1;33m\u001b[0m\u001b[1;33m\u001b[0m\u001b[0m\n\u001b[0;32m     52\u001b[0m         \u001b[0mprint\u001b[0m\u001b[1;33m(\u001b[0m\u001b[1;34m\"Bloch Sphere for the states...\"\u001b[0m\u001b[1;33m)\u001b[0m\u001b[1;33m\u001b[0m\u001b[1;33m\u001b[0m\u001b[0m\n\u001b[1;32m---> 53\u001b[1;33m         \u001b[0ms\u001b[0m \u001b[1;33m=\u001b[0m \u001b[0mStatevector\u001b[0m\u001b[1;33m.\u001b[0m\u001b[0mfrom_instruction\u001b[0m\u001b[1;33m(\u001b[0m\u001b[0mqc\u001b[0m\u001b[1;33m)\u001b[0m\u001b[1;33m\u001b[0m\u001b[1;33m\u001b[0m\u001b[0m\n\u001b[0m\u001b[0;32m     54\u001b[0m         \u001b[0mdisplay\u001b[0m\u001b[1;33m(\u001b[0m\u001b[0mplot_bloch_multivector\u001b[0m\u001b[1;33m(\u001b[0m\u001b[0ms\u001b[0m\u001b[1;33m)\u001b[0m\u001b[1;33m)\u001b[0m\u001b[1;33m\u001b[0m\u001b[1;33m\u001b[0m\u001b[0m\n\u001b[0;32m     55\u001b[0m \u001b[1;33m\u001b[0m\u001b[0m\n",
      "\u001b[1;31mNameError\u001b[0m: name 'Statevector' is not defined"
     ]
    }
   ],
   "source": [
    "generate_random_estimation()"
   ]
  },
  {
   "cell_type": "code",
   "execution_count": null,
   "metadata": {},
   "outputs": [],
   "source": []
  }
 ],
 "metadata": {
  "kernelspec": {
   "display_name": "Python 3",
   "language": "python",
   "name": "python3"
  },
  "language_info": {
   "codemirror_mode": {
    "name": "ipython",
    "version": 3
   },
   "file_extension": ".py",
   "mimetype": "text/x-python",
   "name": "python",
   "nbconvert_exporter": "python",
   "pygments_lexer": "ipython3",
   "version": "3.7.4"
  },
  "varInspector": {
   "cols": {
    "lenName": 16,
    "lenType": 16,
    "lenVar": 40
   },
   "kernels_config": {
    "python": {
     "delete_cmd_postfix": "",
     "delete_cmd_prefix": "del ",
     "library": "var_list.py",
     "varRefreshCmd": "print(var_dic_list())"
    },
    "r": {
     "delete_cmd_postfix": ") ",
     "delete_cmd_prefix": "rm(",
     "library": "var_list.r",
     "varRefreshCmd": "cat(var_dic_list()) "
    }
   },
   "types_to_exclude": [
    "module",
    "function",
    "builtin_function_or_method",
    "instance",
    "_Feature"
   ],
   "window_display": false
  }
 },
 "nbformat": 4,
 "nbformat_minor": 2
}
