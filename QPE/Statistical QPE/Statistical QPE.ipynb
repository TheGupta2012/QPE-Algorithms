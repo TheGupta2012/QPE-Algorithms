{
 "cells": [
  {
   "cell_type": "markdown",
   "metadata": {},
   "source": [
    "## Making SPEA algorithm for arbitrary unitaries\n",
    "- This is an implementation of the Statistical Phase Estimation algorithm for arbitrary unitaries.\n",
    "- It aims to provide the user one of the **eigenvector-eigenphase** pair of the given unitary matrix.\n",
    "- The hardware structure is quite similar to that of the IPE algorithm and uses the circuit present in the last stage of the IPE algorithm.\n",
    "- A scipy class called **unitary_group** is used for sampling a random basis for the algorithm"
   ]
  },
  {
   "cell_type": "code",
   "execution_count": 1,
   "metadata": {
    "ExecuteTime": {
     "end_time": "2021-06-20T16:56:57.399433Z",
     "start_time": "2021-06-20T16:56:49.996157Z"
    }
   },
   "outputs": [],
   "source": [
    "from qiskit import QuantumCircuit, execute, transpile, Aer \n",
    "from qiskit.extensions import UnitaryGate,Initialize\n",
    "from qiskit.tools.visualization import plot_histogram \n",
    "import numpy as np \n",
    "from time import sleep \n",
    "from qiskit.extensions import UnitaryGate\n",
    "from qiskit.quantum_info import Statevector \n",
    "import sys \n",
    "from scipy.stats import unitary_group \n",
    "import matplotlib.pyplot as plt \n",
    "%matplotlib inline "
   ]
  },
  {
   "cell_type": "code",
   "execution_count": 2,
   "metadata": {
    "ExecuteTime": {
     "end_time": "2021-06-20T16:56:58.221270Z",
     "start_time": "2021-06-20T16:56:58.037760Z"
    }
   },
   "outputs": [],
   "source": [
    "from normal_SPEA import SPEA "
   ]
  },
  {
   "cell_type": "markdown",
   "metadata": {},
   "source": [
    "## Testing the circuit\n",
    "- With phase = 1/6 , we test the circuit and X gate"
   ]
  },
  {
   "cell_type": "code",
   "execution_count": null,
   "metadata": {
    "ExecuteTime": {
     "end_time": "2021-06-16T07:06:11.688574Z",
     "start_time": "2021-06-16T07:06:11.256919Z"
    }
   },
   "outputs": [],
   "source": [
    "from qiskit import IBMQ \n",
    "IBMQ.load_account()\n",
    "provider = IBMQ.get_provider(hub='ibm-q-education')\n",
    "santiago = provider.get_backend('ibmq_santiago')\n",
    "casablanca = provider.get_backend('ibmq_casablanca')\n"
   ]
  },
  {
   "cell_type": "code",
   "execution_count": 4,
   "metadata": {
    "ExecuteTime": {
     "end_time": "2021-06-20T16:57:04.638283Z",
     "start_time": "2021-06-20T16:57:04.624270Z"
    }
   },
   "outputs": [],
   "source": [
    "sim = Aer.get_backend('qasm_simulator')"
   ]
  },
  {
   "cell_type": "code",
   "execution_count": 5,
   "metadata": {
    "ExecuteTime": {
     "end_time": "2021-06-20T16:57:07.942402Z",
     "start_time": "2021-06-20T16:57:07.920462Z"
    }
   },
   "outputs": [],
   "source": [
    "U = UnitaryGate(data=np.array([[0,1],\n",
    "                               [1,0]]))"
   ]
  },
  {
   "cell_type": "code",
   "execution_count": 6,
   "metadata": {
    "ExecuteTime": {
     "end_time": "2021-06-20T16:57:22.212660Z",
     "start_time": "2021-06-20T16:57:22.197666Z"
    }
   },
   "outputs": [],
   "source": [
    "U = UnitaryGate(data=np.array([[1,0],\n",
    "                               [0, np.exp(2*np.pi*1j*(1/5))]]))"
   ]
  },
  {
   "cell_type": "code",
   "execution_count": 7,
   "metadata": {
    "ExecuteTime": {
     "end_time": "2021-06-20T16:58:04.197151Z",
     "start_time": "2021-06-20T16:58:04.130819Z"
    }
   },
   "outputs": [],
   "source": [
    "spe = SPEA(U,resolution= 40,error = 4,max_iters=15)"
   ]
  },
  {
   "cell_type": "code",
   "execution_count": 8,
   "metadata": {
    "ExecuteTime": {
     "end_time": "2021-06-20T16:58:16.701031Z",
     "start_time": "2021-06-20T16:58:14.070453Z"
    }
   },
   "outputs": [
    {
     "name": "stderr",
     "output_type": "stream",
     "text": [
      "E:\\ANACONDA\\lib\\site-packages\\qiskit\\circuit\\quantumcircuit.py:869: DeprecationWarning: The QuantumCircuit.combine() method is being deprecated. Use the compose() method which is more flexible w.r.t circuit register compatibility.\n",
      "  return self.combine(rhs)\n"
     ]
    }
   ],
   "source": [
    "result = spe.get_eigen_pair(progress = True,algo = 'standard',backend = Aer.get_backend('qasm_simulator'),target_cost=0.9)"
   ]
  },
  {
   "cell_type": "code",
   "execution_count": 9,
   "metadata": {
    "ExecuteTime": {
     "end_time": "2021-06-20T16:58:18.698689Z",
     "start_time": "2021-06-20T16:58:18.682730Z"
    }
   },
   "outputs": [
    {
     "data": {
      "text/plain": [
       "{'cost': 0.955078125,\n",
       " 'theta': 0.15384615384615385,\n",
       " 'state': array([ 0.38774284+0.04666234j, -0.88469129-0.25455734j])}"
      ]
     },
     "execution_count": 9,
     "metadata": {},
     "output_type": "execute_result"
    }
   ],
   "source": [
    " result \n",
    "    # original theta = 0.2 "
   ]
  },
  {
   "cell_type": "code",
   "execution_count": 10,
   "metadata": {
    "ExecuteTime": {
     "end_time": "2021-06-20T16:59:14.625980Z",
     "start_time": "2021-06-20T16:59:14.610025Z"
    }
   },
   "outputs": [],
   "source": [
    "u2 = UnitaryGate(data=np.array([[1,0],\n",
    "                               [0, np.exp(2*np.pi*1j*(1/5))]]))"
   ]
  },
  {
   "cell_type": "code",
   "execution_count": 101,
   "metadata": {
    "ExecuteTime": {
     "end_time": "2021-06-16T07:14:27.414155Z",
     "start_time": "2021-06-16T07:14:10.750170Z"
    }
   },
   "outputs": [
    {
     "name": "stdout",
     "output_type": "stream",
     "text": [
      "Maximum iterations reached for the estimation.\n",
      "Terminating algorithm...\n",
      "Maximum iterations reached for the estimation.\n",
      "Terminating algorithm...\n",
      "Maximum iterations reached for the estimation.\n",
      "Terminating algorithm...\n",
      "Maximum iterations reached for the estimation.\n",
      "Terminating algorithm...\n",
      "Maximum iterations reached for the estimation.\n",
      "Terminating algorithm...\n",
      "Maximum iterations reached for the estimation.\n",
      "Terminating algorithm...\n",
      "Maximum iterations reached for the estimation.\n",
      "Terminating algorithm...\n",
      "Maximum iterations reached for the estimation.\n",
      "Terminating algorithm...\n",
      "Maximum iterations reached for the estimation.\n",
      "Terminating algorithm...\n"
     ]
    }
   ],
   "source": [
    "t = []\n",
    "for resolution in range(20,80,5):\n",
    "    spe = SPEA(u2,resolution= resolution,max_iters=10)    \n",
    "    res = spe.get_eigen_pair(backend = sim,algo = 'standard',target_cost = 0.94)\n",
    "    theta = res['theta']\n",
    "    t.append(theta)"
   ]
  },
  {
   "cell_type": "code",
   "execution_count": 102,
   "metadata": {
    "ExecuteTime": {
     "end_time": "2021-06-16T07:18:31.160341Z",
     "start_time": "2021-06-16T07:18:30.145663Z"
    }
   },
   "outputs": [
    {
     "data": {
      "image/png": "[encoded data removed]",
      "text/plain": [
       "<Figure size 432x288 with 1 Axes>"
      ]
     },
     "metadata": {
      "needs_background": "light"
     },
     "output_type": "display_data"
    }
   ],
   "source": [
    "plt.title(\"Eigenphase estimation for theta = 1/5, 0\",fontsize = 15)\n",
    "plt.grid()\n",
    "plt.plot(list(range(20,100,5)),t,marker = 'o',color='g',label = 'Estimates',alpha=0.7)\n",
    "plt.plot(list(range(20,100,1)),[0.2 for i in range(20,100,1)],color='black',label = \"True\")\n",
    "plt.legend()\n",
    "plt.xlabel(\"Resolution of theta \")\n",
    "plt.ylabel(\"Estimates\")\n",
    "plt.savefig(\"SPE_PLOT.jpg\",dpi = 200)"
   ]
  },
  {
   "cell_type": "code",
   "execution_count": null,
   "metadata": {},
   "outputs": [],
   "source": []
  }
 ],
 "metadata": {
  "kernelspec": {
   "display_name": "Python 3",
   "language": "python",
   "name": "python3"
  },
  "language_info": {
   "codemirror_mode": {
    "name": "ipython",
    "version": 3
   },
   "file_extension": ".py",
   "mimetype": "text/x-python",
   "name": "python",
   "nbconvert_exporter": "python",
   "pygments_lexer": "ipython3",
   "version": "3.7.4"
  },
  "varInspector": {
   "cols": {
    "lenName": 16,
    "lenType": 16,
    "lenVar": 40
   },
   "kernels_config": {
    "python": {
     "delete_cmd_postfix": "",
     "delete_cmd_prefix": "del ",
     "library": "var_list.py",
     "varRefreshCmd": "print(var_dic_list())"
    },
    "r": {
     "delete_cmd_postfix": ") ",
     "delete_cmd_prefix": "rm(",
     "library": "var_list.r",
     "varRefreshCmd": "cat(var_dic_list()) "
    }
   },
   "types_to_exclude": [
    "module",
    "function",
    "builtin_function_or_method",
    "instance",
    "_Feature"
   ],
   "window_display": false
  }
 },
 "nbformat": 4,
 "nbformat_minor": 2
}
