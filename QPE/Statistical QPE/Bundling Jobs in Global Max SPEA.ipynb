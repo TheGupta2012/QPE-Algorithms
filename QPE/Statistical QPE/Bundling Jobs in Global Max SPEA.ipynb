{
 "cells": [
  {
   "cell_type": "markdown",
   "metadata": {},
   "source": [
    "## Global Max SPEA with job bundling\n",
    "- This is a variant of the SPEA algorithm in which the jobs are bundled together into 1 big circuit and sent to the backend.\n",
    "- Note, the total API calls are bound by just **MAX_ITERS** as the job manager sends the circuits in a bundle and executes according to the backend limit on which we are executing"
   ]
  },
  {
   "cell_type": "markdown",
   "metadata": {},
   "source": [
    "#### Trying out Job manager \n",
    "- This manager is used to **optimize** the api call time that is needed in the backend execution"
   ]
  },
  {
   "cell_type": "code",
   "execution_count": null,
   "metadata": {
    "ExecuteTime": {
     "end_time": "2021-06-26T08:18:27.761998Z",
     "start_time": "2021-06-26T08:18:17.067483Z"
    }
   },
   "outputs": [],
   "source": [
    "from qiskit.providers.ibmq.managed import IBMQJobManager\n",
    "from qiskit import IBMQ \n",
    "IBMQ.load_account()\n",
    "provider = IBMQ.get_provider(hub='ibm-q-education')"
   ]
  },
  {
   "cell_type": "code",
   "execution_count": 1,
   "metadata": {
    "ExecuteTime": {
     "end_time": "2021-06-27T07:28:12.878772Z",
     "start_time": "2021-06-27T07:28:09.643775Z"
    }
   },
   "outputs": [],
   "source": [
    "from qiskit import QuantumCircuit, execute, transpile, Aer \n",
    "from qiskit.extensions import UnitaryGate,Initialize\n",
    "from qiskit.quantum_info import Statevector \n",
    "from qiskit.tools.visualization import plot_bloch_vector\n",
    "from qiskit.tools.visualization import plot_histogram,plot_bloch_multivector  \n",
    "import numpy as np \n",
    "from time import sleep \n",
    "import sys \n",
    "sys.path.append(\"..\")\n",
    "from scipy.stats import unitary_group \n",
    "import matplotlib.pyplot as plt \n",
    "%matplotlib inline "
   ]
  },
  {
   "cell_type": "markdown",
   "metadata": {},
   "source": [
    "- So what job manager does is that it takes all circuits, executes them in batches of 75 and brings back the results.\n",
    "- This means, what I can do is I need (2Bm) jobs each consisting of resolution number of circuits.\n",
    "- This means, I can bundle all the (2Bm.resolution) jobs together , get the result \n",
    "- Now, take first resolution number of jobs, get the max theta and cost and append to the list \n",
    "- At the end you will only have **max_iters** jobs that are sent to the backend instead of **max_iters.2*Bm** jobs, exponentially lesser api calls"
   ]
  },
  {
   "cell_type": "code",
   "execution_count": 2,
   "metadata": {
    "ExecuteTime": {
     "end_time": "2021-06-27T07:28:14.931057Z",
     "start_time": "2021-06-27T07:28:14.494170Z"
    }
   },
   "outputs": [],
   "source": [
    "from Modules.changed_SPEA import bundled_changed_SPEA"
   ]
  },
  {
   "cell_type": "markdown",
   "metadata": {},
   "source": [
    "### Testing\n",
    "- This algorithm is tested for a phase gate of $ \\theta = \\frac{1}{9} $ "
   ]
  },
  {
   "cell_type": "code",
   "execution_count": 3,
   "metadata": {
    "ExecuteTime": {
     "end_time": "2021-06-26T08:18:41.132028Z",
     "start_time": "2021-06-26T08:18:40.818826Z"
    }
   },
   "outputs": [
    {
     "data": {
      "image/png": "[encoded data removed]",
      "text/plain": [
       "<Figure size 206.852x144.48 with 1 Axes>"
      ]
     },
     "execution_count": 3,
     "metadata": {},
     "output_type": "execute_result"
    }
   ],
   "source": [
    "q = QuantumCircuit(2)\n",
    "q.cp(2*np.pi*(1/9),0,1)\n",
    "q.draw('mpl')"
   ]
  },
  {
   "cell_type": "code",
   "execution_count": 4,
   "metadata": {
    "ExecuteTime": {
     "end_time": "2021-06-26T08:22:08.787096Z",
     "start_time": "2021-06-26T08:22:08.772153Z"
    }
   },
   "outputs": [],
   "source": [
    "spe = bundled_changed_SPEA(q,resolution=20,error = 3,max_iters=10)"
   ]
  },
  {
   "cell_type": "markdown",
   "metadata": {},
   "source": [
    "- Choosing backend as **ibmq_jakarta**"
   ]
  },
  {
   "cell_type": "code",
   "execution_count": 10,
   "metadata": {
    "ExecuteTime": {
     "end_time": "2021-06-26T08:22:10.608939Z",
     "start_time": "2021-06-26T08:22:10.602955Z"
    }
   },
   "outputs": [],
   "source": [
    "jakarta = provider.get_backend('ibmq_jakarta')"
   ]
  },
  {
   "cell_type": "code",
   "execution_count": null,
   "metadata": {
    "ExecuteTime": {
     "start_time": "2021-06-26T08:22:11.305Z"
    }
   },
   "outputs": [
    {
     "name": "stdout",
     "output_type": "stream",
     "text": [
      "Right : 0.40789473684210525\n",
      "Left : 0\n",
      "ITERATION NUMBER 1 ...\n",
      "Transpiling circuits...\n",
      "Transpilation Done!\n",
      "Job sent...\n",
      "Job has returned\n",
      "100.000000 %completed\n",
      "No change, updating a...\n",
      "\n",
      "COST : 0.76953125\n",
      "THETA : 0.15789473684210525\n",
      "Right : 0.40789473684210525\n",
      "Left : 0\n",
      "ITERATION NUMBER 2 ...\n",
      "Transpiling circuits...\n",
      "Transpilation Done!\n",
      "Job sent...\n",
      "Job has returned\n",
      "100.000000 %completed\n",
      "No change, updating a...\n",
      "\n",
      "COST : 0.76953125\n",
      "THETA : 0.15789473684210525\n",
      "Right : 0.40789473684210525\n",
      "Left : 0\n",
      "ITERATION NUMBER 3 ...\n",
      "Transpiling circuits...\n",
      "Transpilation Done!\n",
      "Job sent...\n",
      "Job has returned\n",
      "100.000000 %completed\n",
      "No change, updating a...\n",
      "\n",
      "COST : 0.76953125\n",
      "THETA : 0.15789473684210525\n",
      "Right : 0.40789473684210525\n",
      "Left : 0\n",
      "ITERATION NUMBER 4 ...\n",
      "Transpiling circuits...\n",
      "Transpilation Done!\n",
      "Job sent...\n",
      "Job has returned\n",
      "100.000000 %completed\n",
      "No change, updating a...\n",
      "\n",
      "COST : 0.76953125\n",
      "THETA : 0.15789473684210525\n",
      "Right : 0.40789473684210525\n",
      "Left : 0\n",
      "ITERATION NUMBER 5 ...\n",
      "Transpiling circuits...\n",
      "Transpilation Done!\n",
      "Job sent...\n",
      "Job has returned\n",
      "100.000000 %completed\n",
      "No change, updating a...\n",
      "\n",
      "COST : 0.76953125\n",
      "THETA : 0.15789473684210525\n",
      "Right : 0.40789473684210525\n",
      "Left : 0\n",
      "ITERATION NUMBER 6 ...\n",
      "Transpiling circuits...\n",
      "Transpilation Done!\n",
      "Job sent...\n",
      "Job has returned\n",
      "100.000000 %completed\n",
      "No change, updating a...\n",
      "\n",
      "COST : 0.76953125\n",
      "THETA : 0.15789473684210525\n",
      "Right : 0.40789473684210525\n",
      "Left : 0\n",
      "ITERATION NUMBER 7 ...\n",
      "Transpiling circuits...\n",
      "Transpilation Done!\n",
      "Job sent...\n",
      "Job has returned\n",
      "100.000000 %completed\n",
      "No change, updating a...\n",
      "\n",
      "COST : 0.76953125\n",
      "THETA : 0.15789473684210525\n",
      "Right : 0.40789473684210525\n",
      "Left : 0\n",
      "ITERATION NUMBER 8 ...\n",
      "Transpiling circuits...\n",
      "Transpilation Done!\n",
      "Job sent...\n",
      "Job has returned\n",
      "100.000000 %completed\n",
      "No change, updating a...\n",
      "\n",
      "COST : 0.76953125\n",
      "THETA : 0.15789473684210525\n",
      "Right : 0.40789473684210525\n",
      "Left : 0\n",
      "ITERATION NUMBER 9 ...\n",
      "Transpiling circuits...\n",
      "Transpilation Done!\n",
      "Job sent...\n"
     ]
    }
   ],
   "source": [
    "thetas = []\n",
    "for k in range(5):\n",
    "    result = spe.get_eigen_pair(backend=jakarta,progress=True)\n",
    "    print(\"Result is :\",result)\n",
    "    thetas.append(result['theta'])"
   ]
  },
  {
   "cell_type": "code",
   "execution_count": null,
   "metadata": {
    "ExecuteTime": {
     "end_time": "2021-06-26T08:21:59.307315Z",
     "start_time": "2021-06-26T08:19:31.641Z"
    }
   },
   "outputs": [],
   "source": [
    "thetas"
   ]
  },
  {
   "cell_type": "code",
   "execution_count": null,
   "metadata": {
    "ExecuteTime": {
     "end_time": "2021-06-26T08:21:59.310307Z",
     "start_time": "2021-06-26T08:19:35.011Z"
    }
   },
   "outputs": [],
   "source": [
    "plt.title(\"Plot for returned Eigenvalues\",fontsize = 16)\n",
    "plt.xlabel(\"Experiment number\")\n",
    "plt.ylabel(\"Eigenvalues\")\n",
    "plt.plot([0,6],[0,0],color = 'black')\n",
    "plt.plot([0,6],[1,1],color = 'black')\n",
    "plt.plot([0,6],[0.111,0.111],color = 'black')\n",
    "plt.plot(list(range(5)), thetas, label = 'Estimates', color = 'cyan', linewidth = 2, marker = 's')\n",
    "plt.legend()\n",
    "plt.grid()"
   ]
  },
  {
   "cell_type": "code",
   "execution_count": null,
   "metadata": {},
   "outputs": [],
   "source": []
  },
  {
   "cell_type": "code",
   "execution_count": null,
   "metadata": {},
   "outputs": [],
   "source": []
  },
  {
   "cell_type": "code",
   "execution_count": null,
   "metadata": {},
   "outputs": [],
   "source": []
  },
  {
   "cell_type": "code",
   "execution_count": null,
   "metadata": {},
   "outputs": [],
   "source": []
  }
 ],
 "metadata": {
  "kernelspec": {
   "display_name": "qpe_test",
   "language": "python",
   "name": "qpe_test"
  },
  "language_info": {
   "codemirror_mode": {
    "name": "ipython",
    "version": 3
   },
   "file_extension": ".py",
   "mimetype": "text/x-python",
   "name": "python",
   "nbconvert_exporter": "python",
   "pygments_lexer": "ipython3",
   "version": "3.9.5"
  },
  "varInspector": {
   "cols": {
    "lenName": 16,
    "lenType": 16,
    "lenVar": 40
   },
   "kernels_config": {
    "python": {
     "delete_cmd_postfix": "",
     "delete_cmd_prefix": "del ",
     "library": "var_list.py",
     "varRefreshCmd": "print(var_dic_list())"
    },
    "r": {
     "delete_cmd_postfix": ") ",
     "delete_cmd_prefix": "rm(",
     "library": "var_list.r",
     "varRefreshCmd": "cat(var_dic_list()) "
    }
   },
   "types_to_exclude": [
    "module",
    "function",
    "builtin_function_or_method",
    "instance",
    "_Feature"
   ],
   "window_display": false
  }
 },
 "nbformat": 4,
 "nbformat_minor": 2
}
