{
 "cells": [
  {
   "cell_type": "markdown",
   "metadata": {
    "heading_collapsed": true
   },
   "source": [
    "# Backend Results"
   ]
  },
  {
   "cell_type": "markdown",
   "metadata": {
    "heading_collapsed": true,
    "hidden": true
   },
   "source": [
    "## Experiment 3 - Alternate Approach\n",
    "- Seeing which algorithm **converges faster**, given a particular unitary size and given error threshold\n",
    "- <font color = 'green'>Means, let us say the algorithm stopped at $x$ cost. Its target cost, in this iteration, is let's say $y$. Then, which algorithm actually stopped **closer** to the target cost, given the same iterations and resolution is the aim of this experiment.</font>\n",
    "- Thresholds range from [0.001,0.3] with doubling the threshold at each iteration. \n",
    "- Resolution is 30 and max iterations is 12."
   ]
  },
  {
   "cell_type": "code",
   "execution_count": 28,
   "metadata": {
    "ExecuteTime": {
     "end_time": "2021-06-14T06:54:02.282159Z",
     "start_time": "2021-06-14T06:54:02.257216Z"
    },
    "hidden": true,
    "scrolled": false
   },
   "outputs": [
    {
     "name": "stdout",
     "output_type": "stream",
     "text": [
      "Threshold : [0.002, 0.004, 0.008, 0.016, 0.032, 0.064, 0.128, 0.256]\n",
      "Target costs : [0.998, 0.996, 0.992, 0.984, 0.968, 0.936, 0.872, 0.744]\n"
     ]
    }
   ],
   "source": [
    "error = 0.002\n",
    "thresholds, targets = [], []\n",
    "while error < 0.4:\n",
    "    thresholds.append(error)\n",
    "    targets.append(round(1-error, 3))\n",
    "    error *= 2\n",
    "print(\"Threshold :\", thresholds)\n",
    "print(\"Target costs :\", targets)"
   ]
  },
  {
   "cell_type": "markdown",
   "metadata": {
    "heading_collapsed": true,
    "hidden": true
   },
   "source": [
    "### Metrics Plotted\n",
    "- The cost returned by the algorithm is plotted in each case \n",
    "- Along with cost, the average error from the **closest eigenvalue** is calculated.\n",
    "- Note that each trial with given error threshold is executed 4 times to get a good estimate of the result. "
   ]
  },
  {
   "cell_type": "markdown",
   "metadata": {
    "heading_collapsed": true,
    "hidden": true
   },
   "source": [
    "### Imports"
   ]
  },
  {
   "cell_type": "code",
   "execution_count": 8,
   "metadata": {
    "ExecuteTime": {
     "end_time": "2021-06-14T06:33:39.589100Z",
     "start_time": "2021-06-14T06:33:29.386634Z"
    },
    "hidden": true
   },
   "outputs": [],
   "source": [
    "from qiskit import IBMQ\n",
    "from qiskit import QuantumCircuit, execute, transpile, Aer\n",
    "from qiskit.extensions import UnitaryGate, Initialize\n",
    "from qiskit.quantum_info import Statevector\n",
    "from qiskit.tools.visualization import plot_bloch_vector\n",
    "from qiskit.tools.visualization import plot_histogram, plot_bloch_multivector\n",
    "import numpy as np\n",
    "from time import sleep\n",
    "import sys\n",
    "import os\n",
    "from scipy.stats import unitary_group\n",
    "import matplotlib.pyplot as plt\n",
    "%matplotlib inline\n",
    "\n",
    "IBMQ.load_account()\n",
    "\n",
    "provider = IBMQ.get_provider(hub='ibm-q-research')\n",
    "bogota = provider.get_backend('ibmq_bogota')\n",
    "sim = Aer.get_backend('qasm_simulator')"
   ]
  },
  {
   "cell_type": "code",
   "execution_count": 9,
   "metadata": {
    "ExecuteTime": {
     "end_time": "2021-06-14T06:33:39.635975Z",
     "start_time": "2021-06-14T06:33:39.624008Z"
    },
    "hidden": true
   },
   "outputs": [],
   "source": [
    "from normal_SPEA import SPEA\n",
    "from changed_SPEA import global_max_SPEA"
   ]
  },
  {
   "cell_type": "markdown",
   "metadata": {
    "heading_collapsed": true,
    "hidden": true
   },
   "source": [
    "### Plotter function"
   ]
  },
  {
   "cell_type": "code",
   "execution_count": 10,
   "metadata": {
    "ExecuteTime": {
     "end_time": "2021-06-14T06:33:39.746058Z",
     "start_time": "2021-06-14T06:33:39.669883Z"
    },
    "hidden": true
   },
   "outputs": [],
   "source": [
    "def generate_plots(unitary_size, costs, overlaps, errors_eigen, errors_cost, algorithm):\n",
    "    import random\n",
    "    colors = ['red', 'brown', 'cyan', 'green',\n",
    "              'grey', 'blue', 'purple', 'black', 'orange']\n",
    "    c1, c2, c3, c4 = random.sample(colors, 4)\n",
    "\n",
    "    # plot\n",
    "    os.makedirs(\"Experiment_3/\"+str(unitary_size) +\n",
    "                \"_qubit(random)(backend)/\", exist_ok=True)\n",
    "    # plot 1\n",
    "    fig = plt.figure(figsize=(13, 6))\n",
    "    ax1 = fig.add_subplot(1, 2, 1)\n",
    "    ax1.set_title(str(unitary_size)+\" qubit \"+algorithm +\n",
    "                  \" Cost vs Error threshold\", fontsize=16)\n",
    "    ax1.set_xlabel(\"Target costs \", fontsize=15)\n",
    "    ax1.set_ylabel(\"Metrics Returned for unitary \", fontsize=15)\n",
    "    # plot metrics\n",
    "    ax1.plot(targets, costs, label='Costs of Unitary',\n",
    "             marker='o', color=c1, alpha=0.7)\n",
    "    ax1.plot(targets, overlaps, label='Average overlap from nearest eigenvector',\n",
    "             marker='s', color=c2, alpha=0.6)\n",
    "    ax1.plot()\n",
    "    ax1.legend(loc='best')\n",
    "    ax1.grid()\n",
    "    # plot 2\n",
    "    ax2 = fig.add_subplot(1, 2, 2)\n",
    "    ax2.set_title(str(unitary_size)+\" qubit \"+algorithm +\n",
    "                  \" % Errors v/s thresholds\", fontsize=16)\n",
    "    ax2.set_xlabel(\"Target Costs\", fontsize=15)\n",
    "    ax2.set_ylabel(\"% errors\", fontsize=15)\n",
    "    # plot errors\n",
    "    ax2.plot(targets, errors_eigen, label='Average error from nearest eigenvalue',\n",
    "             marker='o', color=c3, alpha=0.6)\n",
    "    ax2.plot(targets, errors_cost, label='Average deviation from desired cost',\n",
    "             marker='s', color=c4, alpha=0.7)\n",
    "    ax2.legend(loc='best')\n",
    "    ax2.grid()\n",
    "    # save axure\n",
    "    fig.savefig(\"Experiment_3/\"+str(unitary_size)+\"_qubit(random)(backend)/\" +\n",
    "                algorithm+\" Algorithm (alternate).JPG\", dpi=200)"
   ]
  },
  {
   "cell_type": "markdown",
   "metadata": {
    "heading_collapsed": true,
    "hidden": true
   },
   "source": [
    "### Result Generator"
   ]
  },
  {
   "cell_type": "code",
   "execution_count": 26,
   "metadata": {
    "ExecuteTime": {
     "end_time": "2021-06-14T06:35:34.211814Z",
     "start_time": "2021-06-14T06:35:34.197882Z"
    },
    "hidden": true
   },
   "outputs": [],
   "source": [
    "def get_results(eig_vals, eig_vect, bases, basis_indices, unitary, algorithm, experiments):\n",
    "    '''Return the results of running the algorithm for this particular unitary matrix'''\n",
    "    costs_g = []\n",
    "    errors_eig_g = []\n",
    "    max_overlaps_g = []\n",
    "    errors_costs_g = []\n",
    "    # find how the cost converges with increasing iterations\n",
    "    for error, target in zip(thresholds, targets):\n",
    "        costs = []\n",
    "        errors_eig = []\n",
    "        errors_costs = []\n",
    "        overlaps = []\n",
    "        \n",
    "        i = 0\n",
    "        # run the experiments ...\n",
    "        while len(costs) < experiments:\n",
    "            if algorithm == 'original':\n",
    "                spea = SPEA(unitary, resolution=30, max_iters=10)\n",
    "            else:\n",
    "                spea = global_max_SPEA(unitary, resolution=30, max_iters=10)\n",
    "\n",
    "            result = spea.get_eigen_pair(\n",
    "                progress=False, backend=bogota, target_cost=target,\n",
    "                basis=bases[i], basis_ind=basis_indices[i], algo='alternate', randomize=False,shots=200)\n",
    "            # results\n",
    "            theta = result['theta']\n",
    "            res_state = result['state']\n",
    "\n",
    "            # get the results\n",
    "            if result['cost'] < 0.70:\n",
    "                continue\n",
    "\n",
    "            i+=1 \n",
    "            # find the abs difference in this theta with the closest eigenvalue\n",
    "            # and append that to the errors ...\n",
    "            min_error = 1e5\n",
    "            for e in eig_vals:\n",
    "                error = abs(e - theta)\n",
    "                if error < min_error:\n",
    "                    min_error = error\n",
    "                    perc_error = ((error)/e)*100\n",
    "\n",
    "            # get costs\n",
    "            costs.append(result['cost'])\n",
    "            # get eigenvalue error\n",
    "            errors_eig.append(perc_error)\n",
    "\n",
    "            # append the perc error from original target cost\n",
    "            if target >= result['cost']:\n",
    "                deviation = abs(target - result['cost'])/(target)\n",
    "            else:  # if we have stopped with a better cost, no sense of deviation\n",
    "                deviation = 0\n",
    "            errors_costs.append(deviation*100)\n",
    "\n",
    "            # find overlaps\n",
    "            max_overlap = -1\n",
    "            for k in eig_vect:\n",
    "                dot = np.linalg.norm(np.dot(k, res_state.conjugate().T))**2\n",
    "                max_overlap = max(max_overlap, dot)\n",
    "            overlaps.append(max_overlap)\n",
    "        print(costs, errors_costs)\n",
    "        print(\"Result with\", target, \" target cost :\")\n",
    "        print(\"AVG. COST :\", np.average(costs))\n",
    "        print(\"AVG. EIGENVALUE ERROR :\", np.average(errors_eig))\n",
    "        print(\"AVG. DEVIATION FROM TARGET COST\", np.average(errors_costs))\n",
    "\n",
    "        # append the average result of your algorithm ...\n",
    "        costs_g.append(np.average(costs))\n",
    "        errors_eig_g.append(np.average(errors_eig))\n",
    "        errors_costs_g.append(np.average(errors_costs))\n",
    "        max_overlaps_g.append(np.average(overlaps))\n",
    "\n",
    "    return costs_g, errors_eig_g, errors_costs_g, max_overlaps_g"
   ]
  },
  {
   "cell_type": "markdown",
   "metadata": {
    "heading_collapsed": true,
    "hidden": true
   },
   "source": [
    "## 2 - qubit unitary\n"
   ]
  },
  {
   "cell_type": "code",
   "execution_count": 22,
   "metadata": {
    "ExecuteTime": {
     "end_time": "2021-06-14T06:34:40.829218Z",
     "start_time": "2021-06-14T06:34:40.823242Z"
    },
    "hidden": true,
    "scrolled": true
   },
   "outputs": [
    {
     "data": {
      "text/plain": [
       "array([[-0.79649848+0.18219131j,  0.40358364-0.27672868j,\n",
       "         0.16117637+0.07254986j,  0.23362166-0.08436585j],\n",
       "       [ 0.23740687-0.42800646j, -0.02963973-0.75429494j,\n",
       "         0.39065399-0.02402369j,  0.09889995+0.1662534j ],\n",
       "       [-0.24928427+0.06096331j, -0.00107852-0.16895111j,\n",
       "        -0.21502862-0.19959412j, -0.66263205+0.61679723j],\n",
       "       [ 0.0417636 -0.15887594j,  0.11814958-0.38496382j,\n",
       "        -0.85317585-0.03983548j,  0.11251178-0.26211251j]])"
      ]
     },
     "execution_count": 22,
     "metadata": {},
     "output_type": "execute_result"
    }
   ],
   "source": [
    "unit_2 = unitary_group.rvs(4)\n",
    "unit_2"
   ]
  },
  {
   "cell_type": "markdown",
   "metadata": {
    "hidden": true
   },
   "source": [
    "- Generating eigenvalues to benchmark against\n"
   ]
  },
  {
   "cell_type": "code",
   "execution_count": 23,
   "metadata": {
    "ExecuteTime": {
     "end_time": "2021-06-14T06:34:41.211070Z",
     "start_time": "2021-06-14T06:34:41.195114Z"
    },
    "hidden": true
   },
   "outputs": [
    {
     "name": "stdout",
     "output_type": "stream",
     "text": [
      "Eigenstates : [[ 0.83452004+0.j         -0.09523063+0.41680627j  0.3187381 +0.1100424j\n",
      "   0.06008352+0.05887817j]\n",
      " [-0.18745159-0.02103148j -0.14796578-0.35392152j  0.86308816+0.j\n",
      "  -0.01738267+0.26840628j]\n",
      " [ 0.1151535 +0.38350339j  0.61817049+0.j          0.04350635-0.32907364j\n",
      "  -0.51984315+0.27768852j]\n",
      " [-0.12466584+0.30351135j  0.52165463+0.12566244j  0.13652943+0.11204004j\n",
      "   0.75712049+0.j        ]]\n",
      "Eigenvalues : [0.43174567 0.49207314 0.76869591 0.91550334]\n"
     ]
    }
   ],
   "source": [
    "eig_vals2, eig_vect2 = np.linalg.eig(unit_2)\n",
    "eig_vals2 = np.angle(eig_vals2)\n",
    "e = []\n",
    "for k in eig_vals2:\n",
    "    if k < 0:\n",
    "        v = (k + 2*np.pi)/(2*np.pi)\n",
    "    else:\n",
    "        v = (k)/(2*np.pi)\n",
    "    e.append(v)\n",
    "eig_vals2 = np.array(e)\n",
    "print(\"Eigenstates :\", eig_vect2)\n",
    "print(\"Eigenvalues :\", eig_vals2)"
   ]
  },
  {
   "cell_type": "markdown",
   "metadata": {
    "heading_collapsed": true,
    "hidden": true
   },
   "source": [
    "### Generating Basis"
   ]
  },
  {
   "cell_type": "code",
   "execution_count": 24,
   "metadata": {
    "ExecuteTime": {
     "end_time": "2021-06-14T06:34:41.808378Z",
     "start_time": "2021-06-14T06:34:41.791424Z"
    },
    "hidden": true
   },
   "outputs": [
    {
     "name": "stdout",
     "output_type": "stream",
     "text": [
      "Basis set : [[array([-0.43932591+0.41483178j,  0.66677919+0.27849641j,\n",
      "       -0.08757463+0.00536249j, -0.10839436-0.30545899j]), array([-0.20012147+0.49877896j, -0.1822852 -0.06659029j,\n",
      "       -0.42194614-0.05063556j,  0.55528157+0.42961455j]), array([0.30906966+0.30387471j, 0.08419583+0.30973348j,\n",
      "       0.61935552-0.50749238j, 0.18719713+0.18143812j]), array([ 0.27212442+0.29010808j, -0.31889249+0.48524933j,\n",
      "       -0.40172728-0.09573315j, -0.57419387+0.06616664j])], [array([-0.30277353+0.54824269j,  0.08565378+0.55561365j,\n",
      "        0.2725551 +0.43913509j,  0.15470287+0.02561554j]), array([ 0.40678003-0.37139826j,  0.23121591-0.07272273j,\n",
      "       -0.00575011+0.7536986j ,  0.07419993+0.25346333j]), array([-0.19341859+0.0194406j ,  0.13829429-0.06375566j,\n",
      "        0.23632287+0.03671137j, -0.87291335+0.34618965j]), array([-0.26862915+0.44090949j,  0.12776627-0.76530595j,\n",
      "       -0.15317754+0.29003423j,  0.05974895-0.14236097j])], [array([-0.00962099-0.77687592j,  0.504564  +0.22708721j,\n",
      "        0.06132174+0.10990173j,  0.01495192+0.27231508j]), array([-0.42781405+0.1804425j , -0.24242388+0.70430062j,\n",
      "        0.30344222-0.09594267j,  0.15396011+0.32345177j]), array([-0.03386553+0.03803552j,  0.14566282-0.11430848j,\n",
      "        0.29861422-0.61979459j, -0.68290317+0.15313331j]), array([-0.4005506 -0.1332386j , -0.00716177+0.32357765j,\n",
      "       -0.63147505-0.10393532j, -0.32568144-0.44879976j])], [array([-0.19743933-0.60447383j, -0.34164651-0.43427175j,\n",
      "       -0.12220324+0.4425888j , -0.27679301+0.05368382j]), array([-0.34261671-0.21084439j,  0.78407951+0.21652971j,\n",
      "        0.03383873+0.19709888j, -0.24962417+0.27237361j]), array([ 0.02835516-0.31580611j, -0.13229341+0.00969683j,\n",
      "       -0.19485048-0.63927023j,  0.00930315+0.6596569j ]), array([ 0.57727768+0.00070207j, -0.01548742+0.12322532j,\n",
      "        0.17293152+0.52215902j,  0.27265176+0.52386192j])]]\n",
      "Basis indices : [3, 2, 2, 0]\n"
     ]
    }
   ],
   "source": [
    "bases2 , basis_indices2 = [], []\n",
    "for _ in range(4):\n",
    "    sample = unitary_group.rvs(4)\n",
    "    basis = []\n",
    "    for k in sample:\n",
    "        basis.append(np.array(k, dtype=complex))\n",
    "    ind = np.random.choice(range(4))\n",
    "    bases2.append(basis)\n",
    "    basis_indices2.append(ind)\n",
    "print(\"Basis set :\",bases2)\n",
    "print(\"Basis indices :\",basis_indices2)"
   ]
  },
  {
   "cell_type": "markdown",
   "metadata": {
    "heading_collapsed": true,
    "hidden": true
   },
   "source": [
    "#### Algorithm 1"
   ]
  },
  {
   "cell_type": "code",
   "execution_count": null,
   "metadata": {
    "ExecuteTime": {
     "end_time": "2021-06-14T06:44:13.529627Z",
     "start_time": "2021-06-14T06:35:39.750784Z"
    },
    "hidden": true
   },
   "outputs": [],
   "source": [
    "costs_2qubit_b, errors_eig_2qubit_b, errors_costs_2qubit_b, max_overlaps_2qubit_b = get_results(\n",
    "    eig_vals2, eig_vect2, bases2, basis_indices2, unit_2, 'original', 4)"
   ]
  },
  {
   "cell_type": "code",
   "execution_count": null,
   "metadata": {
    "ExecuteTime": {
     "end_time": "2021-06-14T06:44:13.540598Z",
     "start_time": "2021-06-14T06:35:41.913Z"
    },
    "hidden": true
   },
   "outputs": [],
   "source": [
    "generate_plots(2, costs_2qubit_b, max_overlaps_2qubit_b,\n",
    "               errors_eig_2qubit_b, errors_costs_2qubit_b, \"Original\")"
   ]
  },
  {
   "cell_type": "markdown",
   "metadata": {
    "heading_collapsed": true,
    "hidden": true
   },
   "source": [
    "#### Algorithm 2"
   ]
  },
  {
   "cell_type": "code",
   "execution_count": 53,
   "metadata": {
    "ExecuteTime": {
     "end_time": "2021-06-08T07:31:41.286208Z",
     "start_time": "2021-06-08T07:06:35.590142Z"
    },
    "hidden": true,
    "scrolled": true
   },
   "outputs": [
    {
     "name": "stdout",
     "output_type": "stream",
     "text": [
      "Maximum iterations reached for the estimation.\n",
      "Terminating algorithm...\n",
      "Maximum iterations reached for the estimation.\n",
      "Terminating algorithm...\n",
      "Maximum iterations reached for the estimation.\n",
      "Terminating algorithm...\n",
      "Maximum iterations reached for the estimation.\n",
      "Terminating algorithm...\n",
      "[0.9609375, 0.83203125, 0.673828125, 0.921875] [3.713677354709419, 16.630135270541082, 32.48215180360721, 7.627755511022044]\n",
      "Result with 0.998  target cost :\n",
      "AVG. COST : 0.84716796875\n",
      "AVG. EIGENVALUE ERROR : 14.653426763763985\n",
      "AVG. DEVIATION FROM TARGET COST 15.113429984969939\n",
      "Maximum iterations reached for the estimation.\n",
      "Terminating algorithm...\n",
      "Maximum iterations reached for the estimation.\n",
      "Terminating algorithm...\n",
      "Maximum iterations reached for the estimation.\n",
      "Terminating algorithm...\n",
      "Maximum iterations reached for the estimation.\n",
      "Terminating algorithm...\n",
      "[0.841796875, 0.740234375, 0.912109375, 0.890625] [15.482241465863453, 25.679279618473892, 8.422753514056225, 10.579819277108433]\n",
      "Result with 0.996  target cost :\n",
      "AVG. COST : 0.84619140625\n",
      "AVG. EIGENVALUE ERROR : 19.593797588989307\n",
      "AVG. DEVIATION FROM TARGET COST 15.041023468875501\n",
      "Maximum iterations reached for the estimation.\n",
      "Terminating algorithm...\n",
      "Maximum iterations reached for the estimation.\n",
      "Terminating algorithm...\n",
      "Maximum iterations reached for the estimation.\n",
      "Terminating algorithm...\n",
      "Maximum iterations reached for the estimation.\n",
      "Terminating algorithm...\n",
      "[0.86328125, 0.939453125, 0.8984375, 0.869140625] [12.975680443548388, 5.297064012096773, 9.431703629032258, 12.385017641129032]\n",
      "Result with 0.992  target cost :\n",
      "AVG. COST : 0.892578125\n",
      "AVG. EIGENVALUE ERROR : 14.022391810374152\n",
      "AVG. DEVIATION FROM TARGET COST 10.022366431451612\n",
      "Maximum iterations reached for the estimation.\n",
      "Terminating algorithm...\n",
      "Maximum iterations reached for the estimation.\n",
      "Terminating algorithm...\n",
      "Maximum iterations reached for the estimation.\n",
      "Terminating algorithm...\n",
      "Maximum iterations reached for the estimation.\n",
      "Terminating algorithm...\n",
      "[0.818359375, 0.892578125, 0.919921875, 0.869140625] [16.833396849593495, 9.290840955284551, 6.512004573170731, 11.672700711382113]\n",
      "Result with 0.984  target cost :\n",
      "AVG. COST : 0.875\n",
      "AVG. EIGENVALUE ERROR : 6.912015405851796\n",
      "AVG. DEVIATION FROM TARGET COST 11.077235772357723\n",
      "Maximum iterations reached for the estimation.\n",
      "Terminating algorithm...\n",
      "Maximum iterations reached for the estimation.\n",
      "Terminating algorithm...\n",
      "Maximum iterations reached for the estimation.\n",
      "Terminating algorithm...\n",
      "Maximum iterations reached for the estimation.\n",
      "Terminating algorithm...\n",
      "[0.94921875, 0.853515625, 0.921875, 0.958984375] [1.9402117768595013, 11.82689824380165, 4.764979338842972, 0.9313662190082614]\n",
      "Result with 0.968  target cost :\n",
      "AVG. COST : 0.9208984375\n",
      "AVG. EIGENVALUE ERROR : 14.26039069162738\n",
      "AVG. DEVIATION FROM TARGET COST 4.865863894628096\n",
      "Maximum iterations reached for the estimation.\n",
      "Terminating algorithm...\n",
      "Maximum iterations reached for the estimation.\n",
      "Terminating algorithm...\n",
      "Maximum iterations reached for the estimation.\n",
      "Terminating algorithm...\n",
      "Maximum iterations reached for the estimation.\n",
      "Terminating algorithm...\n",
      "[0.630859375, 0.89453125, 0.908203125, 0.81640625] [32.600494123931625, 4.430422008547015, 2.9697516025641084, 12.777110042735048]\n",
      "Result with 0.936  target cost :\n",
      "AVG. COST : 0.8125\n",
      "AVG. EIGENVALUE ERROR : 13.54794376420624\n",
      "AVG. DEVIATION FROM TARGET COST 13.194444444444448\n",
      "Maximum iterations reached for the estimation.\n",
      "Terminating algorithm...\n",
      "Maximum iterations reached for the estimation.\n",
      "Terminating algorithm...\n",
      "[0.931640625, 0.8671875, 0.880859375, 0.849609375] [0, 0.5518922018348621, 0, 2.567732224770642]\n",
      "Result with 0.872  target cost :\n",
      "AVG. COST : 0.88232421875\n",
      "AVG. EIGENVALUE ERROR : 13.250106934380586\n",
      "AVG. DEVIATION FROM TARGET COST 0.779906106651376\n",
      "[0.76953125, 0.771484375, 0.814453125, 0.744140625] [0, 0, 0, 0]\n",
      "Result with 0.744  target cost :\n",
      "AVG. COST : 0.77490234375\n",
      "AVG. EIGENVALUE ERROR : 22.779591806112272\n",
      "AVG. DEVIATION FROM TARGET COST 0.0\n"
     ]
    }
   ],
   "source": [
    "costs_2qubit_c, errors_eig_2qubit_c, errors_costs_2qubit_c, max_overlaps_2qubit_c = get_results(\n",
    "    eig_vals2, eig_vect2, basis2, ind2, unit_2, 'modified', 4)"
   ]
  },
  {
   "cell_type": "code",
   "execution_count": 54,
   "metadata": {
    "ExecuteTime": {
     "end_time": "2021-06-08T07:31:42.324749Z",
     "start_time": "2021-06-08T07:31:41.383438Z"
    },
    "hidden": true
   },
   "outputs": [
    {
     "data": {
      "image/png": "[encoded data removed]",
      "text/plain": [
       "<Figure size 936x432 with 2 Axes>"
      ]
     },
     "metadata": {
      "needs_background": "light"
     },
     "output_type": "display_data"
    }
   ],
   "source": [
    "generate_plots(2, costs_2qubit_c, max_overlaps_2qubit_c,\n",
    "               errors_eig_2qubit_c, errors_costs_2qubit_c, \"Modified\")"
   ]
  },
  {
   "cell_type": "markdown",
   "metadata": {
    "heading_collapsed": true,
    "hidden": true
   },
   "source": [
    "### Inference\n",
    "- The inference from these plots is that the algorithms perform fairly similarly when run against each other. \n",
    "- One main advantage of the global maximum approach lies in the fact that there is a speedup incurred in the running of the circuits on actual quantum computers. **Global_max** approach contains independent circuits which can be run as a particular job so as to <font color ='orange'>reduce the **network latency** and **API call time** on the actual backends.</font>"
   ]
  },
  {
   "cell_type": "markdown",
   "metadata": {
    "heading_collapsed": true,
    "hidden": true
   },
   "source": [
    "## 3 - qubit unitary"
   ]
  },
  {
   "cell_type": "code",
   "execution_count": 55,
   "metadata": {
    "ExecuteTime": {
     "end_time": "2021-06-08T07:39:07.984341Z",
     "start_time": "2021-06-08T07:39:07.925431Z"
    },
    "hidden": true
   },
   "outputs": [
    {
     "data": {
      "text/plain": [
       "array([[-0.07450835-5.73338803e-03j,  0.03716449-2.58946848e-01j,\n",
       "         0.29343464+5.46297143e-01j,  0.27542622+8.35837413e-02j,\n",
       "        -0.02343625-1.34804498e-01j, -0.22456874-3.63622482e-01j,\n",
       "        -0.33635609-4.39777711e-02j,  0.28526456+2.46518547e-01j],\n",
       "       [-0.02463897-1.31814845e-01j,  0.36108071+3.54818046e-02j,\n",
       "         0.38040727-2.57698549e-01j,  0.03516214-2.29015994e-01j,\n",
       "         0.58181656-8.49352113e-02j, -0.08899418-1.35974282e-02j,\n",
       "        -0.07785706-6.17890028e-02j, -0.34590523+3.19714268e-01j],\n",
       "       [ 0.37293379-5.33233453e-04j,  0.44214977-6.69063225e-02j,\n",
       "        -0.14840416+2.49774824e-01j,  0.37051253-2.04989437e-01j,\n",
       "        -0.0017178 +2.32349424e-03j,  0.09484406+4.11415748e-01j,\n",
       "         0.23099135+3.43844663e-01j,  0.19117724+1.04087528e-01j],\n",
       "       [-0.02302645+2.37996361e-01j, -0.35185137+4.37796016e-02j,\n",
       "        -0.17735739+2.35071748e-01j, -0.0198246 -2.08315905e-01j,\n",
       "         0.29320232-2.04303765e-01j, -0.35364972-2.24543242e-01j,\n",
       "         0.58313234+1.47136424e-01j, -0.11240766+9.53164130e-02j],\n",
       "       [-0.19062661-3.02200999e-01j, -0.1245794 -2.03487100e-01j,\n",
       "        -0.1580287 -2.02814726e-01j,  0.31535934+2.15439440e-01j,\n",
       "         0.16445878+4.10267674e-01j, -0.31339441+2.11496027e-01j,\n",
       "         0.23499964-3.31268285e-01j,  0.26246883+1.76833844e-01j],\n",
       "       [ 0.50912975-1.65596824e-01j, -0.26320462-4.11227259e-01j,\n",
       "        -0.22459177+5.02658032e-02j,  0.0039399 -8.61080097e-02j,\n",
       "         0.02288978-6.09108047e-02j, -0.27890224+1.54603792e-01j,\n",
       "        -0.33760954-9.80239930e-02j, -0.41366456-1.18117298e-01j],\n",
       "       [-0.3329892 -1.58975787e-01j,  0.28453701-1.77411328e-01j,\n",
       "         0.03210055+2.77785212e-01j, -0.30561446+3.97628399e-01j,\n",
       "         0.19762293-1.57827453e-01j, -0.24631158+2.87756844e-01j,\n",
       "         0.06971981+1.95459621e-01j, -0.10108983-4.01226869e-01j],\n",
       "       [-0.38314706+2.87966803e-01j,  0.17329286-1.90945332e-01j,\n",
       "        -0.08748548+1.68190101e-01j, -0.2444611 -4.19303207e-01j,\n",
       "        -0.31908761+3.77434045e-01j, -0.18012058+1.86934149e-01j,\n",
       "        -0.07825864-6.34837246e-02j, -0.22678051+2.42939763e-01j]])"
      ]
     },
     "execution_count": 55,
     "metadata": {},
     "output_type": "execute_result"
    }
   ],
   "source": [
    "unit_3 = unitary_group.rvs(8)\n",
    "unit_3"
   ]
  },
  {
   "cell_type": "code",
   "execution_count": 56,
   "metadata": {
    "ExecuteTime": {
     "end_time": "2021-06-08T07:39:09.035570Z",
     "start_time": "2021-06-08T07:39:08.987683Z"
    },
    "hidden": true
   },
   "outputs": [
    {
     "name": "stdout",
     "output_type": "stream",
     "text": [
      "Eigenstates : [[ 0.15375062+0.40819369j -0.28697288-0.31592332j  0.24887739+0.26382225j\n",
      "  -0.12483038+0.19665677j -0.30428685+0.05147094j -0.02996298-0.32061789j\n",
      "   0.23377171-0.42893659j  0.03311578+0.05579617j]\n",
      " [-0.15683605+0.37268114j  0.04564973-0.03073394j  0.26281441-0.27275645j\n",
      "   0.59782761+0.j         -0.09467633+0.01341126j -0.00246067-0.31976031j\n",
      "   0.03712057+0.39647749j -0.0057311 -0.25023196j]\n",
      " [-0.01260367+0.1077381j   0.14094085+0.35747592j -0.36022074+0.12204962j\n",
      "   0.33418987+0.1448115j   0.24087742-0.40855739j -0.06122799-0.32914535j\n",
      "  -0.04829013-0.42655866j -0.19364998+0.06678935j]\n",
      " [ 0.44099429+0.j          0.56191446+0.j          0.20069334-0.26389354j\n",
      "   0.02401702+0.07925253j -0.09653457+0.08880755j  0.53452932+0.j\n",
      "   0.02939593-0.16470958j -0.12301594+0.16415599j]\n",
      " [ 0.24603894+0.1854739j  -0.17019951-0.13824733j -0.17917932+0.11788214j\n",
      "   0.35032466-0.16135503j  0.21966878-0.10158906j  0.28804914+0.30909877j\n",
      "   0.02521104-0.08255114j  0.64628204+0.j        ]\n",
      " [-0.10700712+0.34240795j  0.22152576-0.19900639j  0.31151551-0.03607965j\n",
      "  -0.29821497-0.20568972j  0.65893372+0.j         -0.10528173-0.07040247j\n",
      "  -0.27033267-0.13142244j  0.01187049-0.11098679j]\n",
      " [-0.10341223-0.2258529j  -0.2205501 -0.38471082j  0.21359353+0.13268748j\n",
      "   0.39368632-0.08944507j  0.14125346-0.0801883j   0.15952103+0.33978061j\n",
      "  -0.00250627-0.19479458j -0.55591535-0.03406617j]\n",
      " [ 0.02084251-0.39273411j  0.07123722+0.11372082j  0.51268355+0.j\n",
      "   0.07005882-0.0305581j   0.18855856-0.31426838j -0.2290146 -0.09135615j\n",
      "   0.50473869+0.j          0.25698089+0.20668574j]]\n",
      "Eigenvalues : [0.80108272 0.64474354 0.54975299 0.97686599 0.38631864 0.10805002\n",
      " 0.22289503 0.26347495]\n"
     ]
    }
   ],
   "source": [
    "eig_vals3, eig_vect3 = np.linalg.eig(unit_3)\n",
    "eig_vals3 = np.angle(eig_vals3)\n",
    "e = []\n",
    "for k in eig_vals3:\n",
    "    if k < 0:\n",
    "        v = (k + 2*np.pi)/(2*np.pi)\n",
    "    else:\n",
    "        v = (k)/(2*np.pi)\n",
    "    e.append(v)\n",
    "eig_vals3 = np.array(e)\n",
    "print(\"Eigenstates :\", eig_vect3)\n",
    "print(\"Eigenvalues :\", eig_vals3)"
   ]
  },
  {
   "cell_type": "markdown",
   "metadata": {
    "heading_collapsed": true,
    "hidden": true
   },
   "source": [
    "### Generate Basis"
   ]
  },
  {
   "cell_type": "code",
   "execution_count": null,
   "metadata": {
    "hidden": true
   },
   "outputs": [],
   "source": [
    "bases3 , basis_indices3 = [], []\n",
    "for _ in range(4):\n",
    "    sample = unitary_group.rvs(8)\n",
    "    basis = []\n",
    "    for k in sample:\n",
    "        basis.append(np.array(k, dtype=complex))\n",
    "    ind = np.random.choice(range(8))\n",
    "    bases3.append(basis)\n",
    "    basis_indices3.append(ind)\n",
    "print(\"Basis set :\",bases3)\n",
    "print(\"Basis indices :\",basis_indices3)"
   ]
  },
  {
   "cell_type": "markdown",
   "metadata": {
    "heading_collapsed": true,
    "hidden": true
   },
   "source": [
    "#### Algorithm 1"
   ]
  },
  {
   "cell_type": "code",
   "execution_count": null,
   "metadata": {
    "ExecuteTime": {
     "end_time": "2021-06-08T08:06:20.413823Z",
     "start_time": "2021-06-08T07:40:47.942911Z"
    },
    "hidden": true
   },
   "outputs": [],
   "source": [
    "costs_3qubit_b, errors_eig_3qubit_b, errors_costs_3qubit_b, max_overlaps_3qubit_b = get_results(\n",
    "    eig_vals3, eig_vect3, bases3, basis_indices3, unit_3, 'original', 4)\n",
    "generate_plots(3, costs_3qubit_b, max_overlaps_3qubit_b,\n",
    "               errors_eig_3qubit_b, errors_costs_3qubit_b, \"Original\")"
   ]
  },
  {
   "cell_type": "markdown",
   "metadata": {
    "heading_collapsed": true,
    "hidden": true
   },
   "source": [
    "#### Algorithm 2"
   ]
  },
  {
   "cell_type": "code",
   "execution_count": null,
   "metadata": {
    "ExecuteTime": {
     "end_time": "2021-06-08T08:06:20.413823Z",
     "start_time": "2021-06-08T07:40:50.058Z"
    },
    "hidden": true
   },
   "outputs": [],
   "source": [
    "costs_3qubit_c, errors_eig_3qubit_c, errors_costs_3qubit_c, max_overlaps_3qubit_c = get_results(\n",
    "    eig_vals3, eig_vect3, bases3, basis_indices3, unit_3, 'modified', 4)\n",
    "generate_plots(3, costs_3qubit_c, max_overlaps_3qubit_c,\n",
    "               errors_eig_3qubit_c, errors_costs_3qubit_c, \"Modified\")"
   ]
  },
  {
   "cell_type": "markdown",
   "metadata": {
    "heading_collapsed": true,
    "hidden": true
   },
   "source": [
    "## 4 - qubit unitary"
   ]
  },
  {
   "cell_type": "code",
   "execution_count": null,
   "metadata": {
    "hidden": true
   },
   "outputs": [],
   "source": [
    "unit_4 = unitary_group.rvs(16)\n",
    "unit_4"
   ]
  },
  {
   "cell_type": "code",
   "execution_count": null,
   "metadata": {
    "hidden": true
   },
   "outputs": [],
   "source": [
    "eig_vals4, eig_vect4 = np.linalg.eig(unit_4)\n",
    "eig_vals4 = np.angle(eig_vals4)\n",
    "e = []\n",
    "for k in eig_vals4:\n",
    "    if k < 0:\n",
    "        v = (k + 2*np.pi)/(2*np.pi)\n",
    "    else:\n",
    "        v = (k)/(2*np.pi)\n",
    "    e.append(v)\n",
    "eig_vals4 = np.array(e)\n",
    "print(\"Eigenstates :\", eig_vect4)\n",
    "print(\"Eigenvalues :\", eig_vals4)"
   ]
  },
  {
   "cell_type": "markdown",
   "metadata": {
    "heading_collapsed": true,
    "hidden": true
   },
   "source": [
    "### Generate basis set"
   ]
  },
  {
   "cell_type": "code",
   "execution_count": null,
   "metadata": {
    "hidden": true
   },
   "outputs": [],
   "source": [
    "bases4 , basis_indices4 = [], []\n",
    "for _ in range(4):\n",
    "    sample = unitary_group.rvs(16)\n",
    "    basis = []\n",
    "    for k in sample:\n",
    "        basis.append(np.array(k, dtype=complex))\n",
    "    ind = np.random.choice(range(16))\n",
    "    bases4.append(basis)\n",
    "    basis_indices4.append(ind)\n",
    "print(\"Basis set :\",bases4)\n",
    "print(\"Basis indices :\",basis_indices4)"
   ]
  },
  {
   "cell_type": "markdown",
   "metadata": {
    "hidden": true
   },
   "source": [
    "- Algorithm 1"
   ]
  },
  {
   "cell_type": "code",
   "execution_count": null,
   "metadata": {
    "hidden": true
   },
   "outputs": [],
   "source": [
    "costs_4qubit_b, errors_eig_4qubit_b, errors_costs_4qubit_b, max_overlaps_4qubit_b = get_results(\n",
    "    eig_vals4, eig_vect4, bases4, basis_indices4, unit_4, 'original', 4)\n",
    "generate_plots(4, costs_4qubit_b, max_overlaps_4qubit_b,\n",
    "               errors_eig_4qubit_b, errors_costs_4qubit_b, \"Original\")"
   ]
  },
  {
   "cell_type": "markdown",
   "metadata": {
    "hidden": true
   },
   "source": [
    "- Algorithm 2"
   ]
  },
  {
   "cell_type": "code",
   "execution_count": null,
   "metadata": {
    "hidden": true
   },
   "outputs": [],
   "source": [
    "costs_4qubit_c, errors_eig_4qubit_c, errors_costs_4qubit_c, max_overlaps_4qubit_c = get_results(\n",
    "    eig_vals4, eig_vect4, bases4, basis_indices4, unit_4, 'modified', 4)\n",
    "generate_plots(4, costs_4qubit_c, max_overlaps_4qubit_c,\n",
    "               errors_eig_4qubit_c, errors_costs_4qubit_c, \"Modified\")"
   ]
  },
  {
   "cell_type": "code",
   "execution_count": null,
   "metadata": {
    "hidden": true
   },
   "outputs": [],
   "source": []
  }
 ],
 "metadata": {
  "kernelspec": {
   "display_name": "Python 3",
   "language": "python",
   "name": "python3"
  },
  "language_info": {
   "codemirror_mode": {
    "name": "ipython",
    "version": 3
   },
   "file_extension": ".py",
   "mimetype": "text/x-python",
   "name": "python",
   "nbconvert_exporter": "python",
   "pygments_lexer": "ipython3",
   "version": "3.7.4"
  },
  "varInspector": {
   "cols": {
    "lenName": 16,
    "lenType": 16,
    "lenVar": 40
   },
   "kernels_config": {
    "python": {
     "delete_cmd_postfix": "",
     "delete_cmd_prefix": "del ",
     "library": "var_list.py",
     "varRefreshCmd": "print(var_dic_list())"
    },
    "r": {
     "delete_cmd_postfix": ") ",
     "delete_cmd_prefix": "rm(",
     "library": "var_list.r",
     "varRefreshCmd": "cat(var_dic_list()) "
    }
   },
   "types_to_exclude": [
    "module",
    "function",
    "builtin_function_or_method",
    "instance",
    "_Feature"
   ],
   "window_display": false
  }
 },
 "nbformat": 4,
 "nbformat_minor": 2
}
