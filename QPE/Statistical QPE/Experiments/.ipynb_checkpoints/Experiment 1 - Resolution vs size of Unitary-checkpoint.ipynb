{
 "cells": [
  {
   "cell_type": "code",
   "execution_count": 8,
   "metadata": {
    "ExecuteTime": {
     "end_time": "2021-06-04T08:21:09.004759Z",
     "start_time": "2021-06-04T08:20:57.847455Z"
    }
   },
   "outputs": [
    {
     "name": "stderr",
     "output_type": "stream",
     "text": [
      "ibmqfactory.load_account:WARNING:2021-06-04 13:50:59,533: Credentials are already in use. The existing account in the session will be replaced.\n"
     ]
    }
   ],
   "source": [
    "from qiskit import QuantumCircuit, execute, transpile, Aer \n",
    "from qiskit.extensions import UnitaryGate,Initialize\n",
    "from qiskit.quantum_info import Statevector \n",
    "from qiskit.tools.visualization import plot_bloch_vector\n",
    "from qiskit.tools.visualization import plot_histogram,plot_bloch_multivector  \n",
    "import numpy as np \n",
    "from time import sleep \n",
    "import sys \n",
    "import os \n",
    "from scipy.stats import unitary_group \n",
    "import matplotlib.pyplot as plt \n",
    "%matplotlib inline \n",
    "\n",
    "from qiskit import IBMQ \n",
    "IBMQ.load_account()\n",
    "provider = IBMQ.get_provider(hub='ibm-q-education')\n",
    "santiago = provider.get_backend('ibmq_santiago')\n",
    "casablanca = provider.get_backend('ibmq_casablanca')\n",
    "bogota = provider.get_backend('ibmq_bogota')\n",
    "sim = Aer.get_backend('qasm_simulator')\n",
    "athens = provider.get_backend('ibmq_athens')"
   ]
  },
  {
   "cell_type": "code",
   "execution_count": 20,
   "metadata": {
    "ExecuteTime": {
     "end_time": "2021-06-04T08:27:18.792462Z",
     "start_time": "2021-06-04T08:26:44.489481Z"
    }
   },
   "outputs": [
    {
     "data": {
      "application/vnd.jupyter.widget-view+json": {
       "model_id": "9d5ef3c6500440b182fbce9c8c3002c4",
       "version_major": 2,
       "version_minor": 0
      },
      "text/plain": [
       "VBox(children=(HTML(value=\"<h2 style ='color:#ffffff; background-color:#000000;padding-top: 1%; padding-bottom…"
      ]
     },
     "metadata": {},
     "output_type": "display_data"
    }
   ],
   "source": [
    "%qiskit_backend_overview"
   ]
  },
  {
   "cell_type": "code",
   "execution_count": 2,
   "metadata": {
    "ExecuteTime": {
     "end_time": "2021-06-01T04:05:41.994538Z",
     "start_time": "2021-06-01T04:05:41.961933Z"
    }
   },
   "outputs": [],
   "source": [
    "from normal_SPEA import SPEA \n",
    "from changed_SPEA import global_max_SPEA "
   ]
  },
  {
   "cell_type": "markdown",
   "metadata": {},
   "source": [
    "## Experiment 1 \n",
    "- Seeing which algorithm converges faster given a particular unitary size and given resolution \n",
    "- Resolution ranges from [10,50] with a changed of 5 in between \n",
    "- Max iterations is 10 and error threshold is $10^{-3}$"
   ]
  },
  {
   "cell_type": "code",
   "execution_count": 3,
   "metadata": {
    "ExecuteTime": {
     "end_time": "2021-06-01T04:05:42.063778Z",
     "start_time": "2021-06-01T04:05:42.018179Z"
    },
    "scrolled": false
   },
   "outputs": [
    {
     "data": {
      "text/plain": [
       "[10, 15, 20, 25, 30, 35, 40, 45, 50]"
      ]
     },
     "execution_count": 3,
     "metadata": {},
     "output_type": "execute_result"
    }
   ],
   "source": [
    "resolutions = [i for i in range(10,55,5)]\n",
    "resolutions "
   ]
  },
  {
   "cell_type": "markdown",
   "metadata": {},
   "source": [
    "## 1 - qubit "
   ]
  },
  {
   "cell_type": "code",
   "execution_count": 9,
   "metadata": {},
   "outputs": [
    {
     "data": {
      "text/plain": [
       "array([[-0.66318603+0.53785993j,  0.05880755-0.51713892j],\n",
       "       [ 0.52018538-0.01726729j,  0.58916791-0.61805355j]])"
      ]
     },
     "execution_count": 9,
     "metadata": {},
     "output_type": "execute_result"
    }
   ],
   "source": [
    "unit = unitary_group.rvs(2)\n",
    "unit "
   ]
  },
  {
   "cell_type": "code",
   "execution_count": 5,
   "metadata": {
    "ExecuteTime": {
     "end_time": "2021-06-04T06:29:00.987114Z",
     "start_time": "2021-06-04T06:29:00.971297Z"
    }
   },
   "outputs": [],
   "source": [
    "eigval, eigvaligvec = np.linalg.eig(np.array([[-0.66318603+0.53785993j,  0.05880755-0.51713892j],\n",
    "       [ 0.52018538-0.01726729j,  0.58916791-0.61805355j]]))\n",
    "eigval = np.angle(eigval) \n"
   ]
  },
  {
   "cell_type": "code",
   "execution_count": null,
   "metadata": {},
   "outputs": [],
   "source": []
  },
  {
   "cell_type": "code",
   "execution_count": 7,
   "metadata": {
    "ExecuteTime": {
     "end_time": "2021-06-04T06:30:12.361087Z",
     "start_time": "2021-06-04T06:30:12.342592Z"
    }
   },
   "outputs": [
    {
     "name": "stdout",
     "output_type": "stream",
     "text": [
      "0.39005877777434567\n",
      "0.8726813189559303\n"
     ]
    }
   ],
   "source": [
    "for k in eigval:\n",
    "    if(k<0):\n",
    "        v = k + 2*np.pi \n",
    "        v /= 2*np.pi \n",
    "    else:\n",
    "        v = k/(2*np.pi) \n",
    "    print(v)"
   ]
  },
  {
   "cell_type": "markdown",
   "metadata": {},
   "source": [
    "- Algorithm 1"
   ]
  },
  {
   "cell_type": "code",
   "execution_count": 10,
   "metadata": {},
   "outputs": [
    {
     "name": "stdout",
     "output_type": "stream",
     "text": [
      "Maximum iterations reached for the estimation.\n",
      "Terminating algorithm...\n",
      "Result with 10  resolution : {'cost': 0.962890625, 'theta': 0.36979166666666663, 'state': array([-0.69493239+0.51035309j,  0.50655943+0.00249749j])}\n",
      "Maximum iterations reached for the estimation.\n",
      "Terminating algorithm...\n",
      "Result with 15  resolution : {'cost': 0.96484375, 'theta': 0.8711734693877551, 'state': array([ 0.11801257+0.10030011j, -0.81331617+0.5608295j ])}\n",
      "Maximum iterations reached for the estimation.\n",
      "Terminating algorithm...\n",
      "Result with 20  resolution : {'cost': 0.98046875, 'theta': 0.38075657894736836, 'state': array([-0.95403035-0.17008627j, -0.03876716+0.24370855j])}\n",
      "Maximum iterations reached for the estimation.\n",
      "Terminating algorithm...\n",
      "Result with 25  resolution : {'cost': 0.861328125, 'theta': 0.4244791666666666, 'state': array([ 0.73114182-0.26849157j, -0.41231783-0.47258642j])}\n",
      "Maximum iterations reached for the estimation.\n",
      "Terminating algorithm...\n",
      "Result with 30  resolution : {'cost': 0.97265625, 'theta': 0.39682112068965514, 'state': array([-0.94444159+0.30160351j,  0.10516149-0.07750146j])}\n",
      "Maximum iterations reached for the estimation.\n",
      "Terminating algorithm...\n",
      "Result with 35  resolution : {'cost': 0.919921875, 'theta': 0.8923010380622838, 'state': array([-0.26465915-0.18255748j, -0.94558196-0.05003067j])}\n",
      "Maximum iterations reached for the estimation.\n",
      "Terminating algorithm...\n",
      "Result with 40  resolution : {'cost': 0.986328125, 'theta': 0.9063732741617357, 'state': array([-0.31118179-0.29199966j, -0.30782423-0.85038012j])}\n",
      "Maximum iterations reached for the estimation.\n",
      "Terminating algorithm...\n",
      "Result with 45  resolution : {'cost': 0.740234375, 'theta': 0.8789678812922614, 'state': array([-0.55029415-0.52293221j,  0.19854824-0.6199168j ])}\n",
      "Maximum iterations reached for the estimation.\n",
      "Terminating algorithm...\n",
      "Result with 50  resolution : {'cost': 0.9140625, 'theta': 0.8734902124114952, 'state': array([-0.28920759+0.008343j  , -0.70197299+0.65078667j])}\n"
     ]
    },
    {
     "data": {
      "image/png": "[encoded data removed]",
      "text/plain": [
       "<Figure size 432x288 with 1 Axes>"
      ]
     },
     "metadata": {
      "needs_background": "light"
     },
     "output_type": "display_data"
    }
   ],
   "source": [
    "costs = []\n",
    "thetas = []\n",
    "# find how the cost converges with increasing resolution\n",
    "for res in resolutions:\n",
    "    spea = SPEA(unit,resolution=res,error = 3,max_iters=10)\n",
    "    result = spea.get_eigen_pair(progress=False,backend = sim)\n",
    "    print(\"Result with\",res,\" resolution :\",result)\n",
    "    costs.append(result['cost'])\n",
    "    thetas.append(result['theta'])\n",
    "\n",
    "# plot \n",
    "plt.title(\"1-qubit(basic) unitary cost v/s resolution\",fontsize = 16)\n",
    "plt.xlabel(\"Resolution of $\\theta$ \",fontsize = 15)\n",
    "plt.ylabel(\"Cost Returned for unitary \",fontsize = 15)\n",
    "plt.plot(resolutions, costs, label = 'Costs of Unitary', marker = 's',color = 'red',alpha = 0.5)\n",
    "plt.plot(resolutions, thetas, label = 'Eigenvalues', marker = 'o',color = 'green',alpha = 0.5)\n",
    "plt.legend()\n",
    "plt.grid()\n",
    "os.makedirs(\"SPE/Experiment_1/1_qubit/\",exist_ok = True)\n",
    "plt.savefig(\"Basic Algorithm Result.JPG\",dpi = 200)"
   ]
  },
  {
   "cell_type": "markdown",
   "metadata": {},
   "source": [
    "- Algorithm 2"
   ]
  },
  {
   "cell_type": "code",
   "execution_count": 11,
   "metadata": {},
   "outputs": [
    {
     "name": "stdout",
     "output_type": "stream",
     "text": [
      "Maximum iterations reached for the estimation.\n",
      "Terminating algorithm...\n",
      "Result with 10  resolution : {'cost': 0.98828125, 'theta': 0.8519643775720165, 'state': array([-0.35556437+0.18974294j, -0.83009444-0.38537621j])}\n",
      "Maximum iterations reached for the estimation.\n",
      "Terminating algorithm...\n",
      "Result with 15  resolution : {'cost': 0.990234375, 'theta': 0.8761160714285715, 'state': array([0.17814298-0.18154532j, 0.80882622+0.53019479j])}\n",
      "Maximum iterations reached for the estimation.\n",
      "Terminating algorithm...\n",
      "Result with 20  resolution : {'cost': 0.9765625, 'theta': 0.8615721588423968, 'state': array([0.10973605+0.27619321j, 0.42983366+0.85259506j])}\n",
      "Maximum iterations reached for the estimation.\n",
      "Terminating algorithm...\n",
      "Result with 25  resolution : {'cost': 0.71484375, 'theta': 0.3437499999999999, 'state': array([ 0.85341781+0.36891477j, -0.03886348+0.36615511j])}\n",
      "Maximum iterations reached for the estimation.\n",
      "Terminating algorithm...\n",
      "Result with 30  resolution : {'cost': 0.990234375, 'theta': 0.3981681034482758, 'state': array([0.13218987+0.92722259j, 0.02083744-0.3497855j ])}\n",
      "Maximum iterations reached for the estimation.\n",
      "Terminating algorithm...\n",
      "Result with 35  resolution : {'cost': 0.98828125, 'theta': 0.8883542387543253, 'state': array([-0.12017477+0.09669701j, -0.83084954+0.53469314j])}\n",
      "Maximum iterations reached for the estimation.\n",
      "Terminating algorithm...\n",
      "Result with 40  resolution : {'cost': 0.93359375, 'theta': 0.8863823142669296, 'state': array([0.44312141-0.25098816j, 0.76907543-0.38622706j])}\n",
      "Maximum iterations reached for the estimation.\n",
      "Terminating algorithm...\n",
      "Result with 45  resolution : {'cost': 0.994140625, 'theta': 0.38077059659090906, 'state': array([-0.80011942-0.5761351j ,  0.11929306+0.11681791j])}\n",
      "Maximum iterations reached for the estimation.\n",
      "Terminating algorithm...\n",
      "Result with 50  resolution : {'cost': 0.9921875, 'theta': 0.8700425896097715, 'state': array([ 0.01721579+0.40490834j, -0.44321355+0.79957151j])}\n"
     ]
    },
    {
     "data": {
      "image/png": "[encoded data removed]",
      "text/plain": [
       "<Figure size 432x288 with 1 Axes>"
      ]
     },
     "metadata": {
      "needs_background": "light"
     },
     "output_type": "display_data"
    }
   ],
   "source": [
    "costs = []\n",
    "thetas = []\n",
    "\n",
    "# find how the cost converges with increasing resolution\n",
    "for res in resolutions:\n",
    "    spea = global_max_SPEA(unit,resolution=res,error = 3,max_iters=10)\n",
    "    result = spea.get_eigen_pair(progress=False,backend = sim)\n",
    "    print(\"Result with\",res,\" resolution :\",result)\n",
    "    costs.append(result['cost'])\n",
    "    thetas.append(result['theta'])\n",
    "\n",
    "    \n",
    "# plot \n",
    "plt.title(\"1-qubit(modified) unitary cost v/s resolution\",fontsize = 16)\n",
    "plt.xlabel(\"Resolution of $\\theta$ \",fontsize = 15)\n",
    "plt.ylabel(\"Cost Returned for unitary \",fontsize = 15)\n",
    "plt.plot(resolutions, costs, label = 'Costs of Unitary', marker = 's',color = 'grey',alpha = 0.8)\n",
    "plt.plot(resolutions, thetas, label = 'Eigenvalues', marker = 'o',color = 'red',alpha = 0.5)\n",
    "\n",
    "plt.legend()\n",
    "plt.grid()\n",
    "os.makedirs(\"SPE/Experiment_1/1_qubit/\",exist_ok = True)\n",
    "plt.savefig(\"SPE/Experiment_1/1_qubit/Modified Algorithm Result.JPG\",dpi = 200)"
   ]
  },
  {
   "cell_type": "markdown",
   "metadata": {},
   "source": [
    "## 2 - qubit\n"
   ]
  },
  {
   "cell_type": "code",
   "execution_count": 4,
   "metadata": {
    "ExecuteTime": {
     "end_time": "2021-06-01T04:05:42.135293Z",
     "start_time": "2021-06-01T04:05:42.084806Z"
    },
    "scrolled": false
   },
   "outputs": [
    {
     "data": {
      "text/plain": [
       "array([[-0.68205544+0.14351861j,  0.23605399+0.15587364j,\n",
       "         0.06672839-0.54914359j,  0.3475779 -0.08580769j],\n",
       "       [ 0.17311249-0.28663492j,  0.25209692+0.59131643j,\n",
       "        -0.48298838-0.31604267j, -0.35252408+0.13126521j],\n",
       "       [-0.40964045-0.30878705j, -0.62351731-0.24948831j,\n",
       "        -0.5269945 -0.02265937j, -0.08252289-0.02793429j],\n",
       "       [-0.09382646+0.36071753j, -0.09924417-0.21425753j,\n",
       "         0.11897346-0.26160383j, -0.42378703+0.73697834j]])"
      ]
     },
     "execution_count": 4,
     "metadata": {},
     "output_type": "execute_result"
    }
   ],
   "source": [
    "unit_2 =  unitary_group.rvs(4)\n",
    "unit_2"
   ]
  },
  {
   "cell_type": "markdown",
   "metadata": {},
   "source": [
    "## Run all cells below...\n",
    "- Run again for the above unitary "
   ]
  },
  {
   "cell_type": "code",
   "execution_count": 5,
   "metadata": {
    "ExecuteTime": {
     "end_time": "2021-06-01T05:14:02.818533Z",
     "start_time": "2021-06-01T04:05:43.179445Z"
    }
   },
   "outputs": [
    {
     "name": "stdout",
     "output_type": "stream",
     "text": [
      " Right : 0.6944444444444444\n",
      "Left : 0.19444444444444442\n",
      "ITERATION NUMBER 1 ...\n",
      "100.000000 %completed\n",
      "COST : 0.890625\n",
      "THETA : 0.41666666666666663\n",
      "Right : 0.5416666666666666\n",
      "Left : 0.29166666666666663\n",
      "ITERATION NUMBER 2 ...\n",
      "100.000000 %completed\n",
      "COST : 0.912109375\n",
      "THETA : 0.40277777777777773\n",
      "Right : 0.46527777777777773\n",
      "Left : 0.34027777777777773\n",
      "ITERATION NUMBER 3 ...\n",
      "100.000000 %completed\n",
      "No change, updating a...\n",
      "\n",
      "COST : 0.912109375\n",
      "THETA : 0.40277777777777773\n",
      "Right : 0.46527777777777773\n",
      "Left : 0.34027777777777773\n",
      "ITERATION NUMBER 4 ...\n",
      "100.000000 %completed\n",
      "No change, updating a...\n",
      "\n",
      "COST : 0.912109375\n",
      "THETA : 0.40277777777777773\n",
      "Right : 0.46527777777777773\n",
      "Left : 0.34027777777777773\n",
      "ITERATION NUMBER 5 ...\n",
      "100.000000 %completed\n",
      "No change, updating a...\n",
      "\n",
      "COST : 0.912109375\n",
      "THETA : 0.40277777777777773\n",
      "Right : 0.46527777777777773\n",
      "Left : 0.34027777777777773\n",
      "ITERATION NUMBER 6 ...\n",
      "100.000000 %completed\n",
      "No change, updating a...\n",
      "\n",
      "COST : 0.912109375\n",
      "THETA : 0.40277777777777773\n",
      "Right : 0.46527777777777773\n",
      "Left : 0.34027777777777773\n",
      "ITERATION NUMBER 7 ...\n",
      "100.000000 %completed\n",
      "No change, updating a...\n",
      "\n",
      "COST : 0.912109375\n",
      "THETA : 0.40277777777777773\n",
      "Right : 0.46527777777777773\n",
      "Left : 0.34027777777777773\n",
      "ITERATION NUMBER 8 ...\n",
      "100.000000 %completed\n",
      "No change, updating a...\n",
      "\n",
      "COST : 0.912109375\n",
      "THETA : 0.40277777777777773\n",
      "Maximum iterations reached for the estimation.\n",
      "Terminating algorithm...\n",
      "Result with 10  resolution : {'cost': 0.912109375, 'theta': 0.40277777777777773, 'state': array([ 0.36749934+0.27317871j, -0.17309978+0.49337465j,\n",
      "        0.12703217+0.14299054j, -0.6691535 +0.18051502j])}\n",
      "Right : 0.39285714285714285\n",
      "Left : 0\n",
      "ITERATION NUMBER 1 ...\n",
      "100.000000 %completed\n",
      "COST : 0.9296875\n",
      "THETA : 0.1683673469387755\n",
      "Right : 0.29336734693877553\n",
      "Left : 0.0433673469387755\n",
      "ITERATION NUMBER 2 ...\n",
      "100.000000 %completed\n",
      "COST : 0.9375\n",
      "THETA : 0.1683673469387755\n",
      "Right : 0.2308673469387755\n",
      "Left : 0.1058673469387755\n",
      "ITERATION NUMBER 3 ...\n",
      "100.000000 %completed\n",
      "COST : 0.943359375\n",
      "THETA : 0.14158163265306123\n",
      "Right : 0.17283163265306123\n",
      "Left : 0.11033163265306123\n",
      "ITERATION NUMBER 4 ...\n",
      "100.000000 %completed\n",
      "COST : 0.94921875\n",
      "THETA : 0.14158163265306123\n",
      "Right : 0.15720663265306123\n",
      "Left : 0.12595663265306123\n",
      "ITERATION NUMBER 5 ...\n",
      "100.000000 %completed\n",
      "No change, updating a...\n",
      "\n",
      "COST : 0.94921875\n",
      "THETA : 0.14158163265306123\n",
      "Right : 0.15720663265306123\n",
      "Left : 0.12595663265306123\n",
      "ITERATION NUMBER 6 ...\n",
      "100.000000 %completed\n",
      "No change, updating a...\n",
      "\n",
      "COST : 0.94921875\n",
      "THETA : 0.14158163265306123\n",
      "Right : 0.15720663265306123\n",
      "Left : 0.12595663265306123\n",
      "ITERATION NUMBER 7 ...\n",
      "100.000000 %completed\n",
      "No change, updating a...\n",
      "\n",
      "COST : 0.94921875\n",
      "THETA : 0.14158163265306123\n",
      "Right : 0.15720663265306123\n",
      "Left : 0.12595663265306123\n",
      "ITERATION NUMBER 8 ...\n",
      "100.000000 %completed\n",
      "No change, updating a...\n",
      "\n",
      "COST : 0.94921875\n",
      "THETA : 0.14158163265306123\n",
      "Maximum iterations reached for the estimation.\n",
      "Terminating algorithm...\n",
      "Result with 15  resolution : {'cost': 0.94921875, 'theta': 0.14158163265306123, 'state': array([-0.37107491-0.23935356j, -0.78439872+0.12108001j,\n",
      "        0.25218635-0.25530977j,  0.12040583+0.17830584j])}\n",
      "Right : 0.513157894736842\n",
      "Left : 0.01315789473684209\n",
      "ITERATION NUMBER 1 ...\n",
      "100.000000 %completed\n",
      "COST : 0.9453125\n",
      "THETA : 0.2763157894736842\n",
      "Right : 0.4013157894736842\n",
      "Left : 0.15131578947368418\n",
      "ITERATION NUMBER 2 ...\n",
      "100.000000 %completed\n",
      "COST : 0.955078125\n",
      "THETA : 0.256578947368421\n",
      "Right : 0.319078947368421\n",
      "Left : 0.19407894736842102\n",
      "ITERATION NUMBER 3 ...\n",
      "100.000000 %completed\n",
      "COST : 0.95703125\n",
      "THETA : 0.2532894736842105\n",
      "Right : 0.2845394736842105\n",
      "Left : 0.2220394736842105\n",
      "ITERATION NUMBER 4 ...\n",
      "100.000000 %completed\n",
      "No change, updating a...\n",
      "\n",
      "COST : 0.95703125\n",
      "THETA : 0.2532894736842105\n",
      "Right : 0.2845394736842105\n",
      "Left : 0.2220394736842105\n",
      "ITERATION NUMBER 5 ...\n",
      "100.000000 %completed\n",
      "No change, updating a...\n",
      "\n",
      "COST : 0.95703125\n",
      "THETA : 0.2532894736842105\n",
      "Right : 0.2845394736842105\n",
      "Left : 0.2220394736842105\n",
      "ITERATION NUMBER 6 ...\n",
      "100.000000 %completed\n",
      "No change, updating a...\n",
      "\n",
      "COST : 0.95703125\n",
      "THETA : 0.2532894736842105\n",
      "Right : 0.2845394736842105\n",
      "Left : 0.2220394736842105\n",
      "ITERATION NUMBER 7 ...\n",
      "100.000000 %completed\n",
      "No change, updating a...\n",
      "\n",
      "COST : 0.95703125\n",
      "THETA : 0.2532894736842105\n",
      "Right : 0.2845394736842105\n",
      "Left : 0.2220394736842105\n",
      "ITERATION NUMBER 8 ...\n",
      "100.000000 %completed\n",
      "No change, updating a...\n",
      "\n",
      "COST : 0.95703125\n",
      "THETA : 0.2532894736842105\n",
      "Maximum iterations reached for the estimation.\n",
      "Terminating algorithm...\n",
      "Result with 20  resolution : {'cost': 0.95703125, 'theta': 0.2532894736842105, 'state': array([-0.46108193+0.30195905j, -0.30360201+0.1192775j ,\n",
      "        0.1786012 -0.52454524j, -0.5241946 +0.08942481j])}\n",
      "Right : 0.5416666666666666\n",
      "Left : 0.04166666666666663\n",
      "ITERATION NUMBER 1 ...\n",
      "100.000000 %completed\n",
      "COST : 0.88671875\n",
      "THETA : 0.24999999999999994\n",
      "Right : 0.37499999999999994\n",
      "Left : 0.12499999999999994\n",
      "ITERATION NUMBER 2 ...\n",
      "100.000000 %completed\n",
      "COST : 0.9296875\n",
      "THETA : 0.29166666666666663\n",
      "Right : 0.35416666666666663\n",
      "Left : 0.22916666666666663\n",
      "ITERATION NUMBER 3 ...\n",
      "100.000000 %completed\n",
      "COST : 0.947265625\n",
      "THETA : 0.30729166666666663\n",
      "Right : 0.33854166666666663\n",
      "Left : 0.27604166666666663\n",
      "ITERATION NUMBER 4 ...\n",
      "100.000000 %completed\n",
      "No change, updating a...\n",
      "\n",
      "COST : 0.947265625\n",
      "THETA : 0.30729166666666663\n",
      "Right : 0.33854166666666663\n",
      "Left : 0.27604166666666663\n",
      "ITERATION NUMBER 5 ...\n",
      "100.000000 %completed\n",
      "COST : 0.94921875\n",
      "THETA : 0.31510416666666663\n",
      "Right : 0.33072916666666663\n",
      "Left : 0.29947916666666663\n",
      "ITERATION NUMBER 6 ...\n",
      "100.000000 %completed\n",
      "COST : 0.953125\n",
      "THETA : 0.31510416666666663\n",
      "Right : 0.32291666666666663\n",
      "Left : 0.30729166666666663\n",
      "ITERATION NUMBER 7 ...\n",
      "100.000000 %completed\n",
      "No change, updating a...\n",
      "\n",
      "COST : 0.953125\n",
      "THETA : 0.31510416666666663\n",
      "Right : 0.32291666666666663\n",
      "Left : 0.30729166666666663\n",
      "ITERATION NUMBER 8 ...\n",
      "100.000000 %completed\n",
      "COST : 0.955078125\n",
      "THETA : 0.31835937499999994\n",
      "Maximum iterations reached for the estimation.\n",
      "Terminating algorithm...\n",
      "Result with 25  resolution : {'cost': 0.955078125, 'theta': 0.31835937499999994, 'state': array([-0.01180963-0.04346543j,  0.34030102-0.16204435j,\n",
      "       -0.00615516+0.04519494j, -0.11676843-0.91662031j])}\n",
      "Right : 0.6637931034482758\n",
      "Left : 0.16379310344827586\n",
      "ITERATION NUMBER 1 ...\n",
      "100.000000 %completed\n",
      "COST : 0.87890625\n",
      "THETA : 0.49137931034482757\n",
      "Right : 0.6163793103448276\n",
      "Left : 0.36637931034482757\n",
      "ITERATION NUMBER 2 ...\n",
      "100.000000 %completed\n",
      "COST : 0.91015625\n",
      "THETA : 0.44396551724137934\n",
      "Right : 0.5064655172413793\n",
      "Left : 0.38146551724137934\n",
      "ITERATION NUMBER 3 ...\n",
      "100.000000 %completed\n",
      "COST : 0.91796875\n",
      "THETA : 0.4288793103448276\n",
      "Right : 0.4601293103448276\n",
      "Left : 0.3976293103448276\n",
      "ITERATION NUMBER 4 ...\n",
      "100.000000 %completed\n",
      "No change, updating a...\n",
      "\n",
      "COST : 0.91796875\n",
      "THETA : 0.4288793103448276\n",
      "Right : 0.4601293103448276\n",
      "Left : 0.3976293103448276\n",
      "ITERATION NUMBER 5 ...\n",
      "100.000000 %completed\n",
      "COST : 0.921875\n",
      "THETA : 0.4385775862068966\n",
      "Right : 0.4542025862068966\n",
      "Left : 0.4229525862068966\n",
      "ITERATION NUMBER 6 ...\n",
      "100.000000 %completed\n",
      "No change, updating a...\n",
      "\n",
      "COST : 0.921875\n",
      "THETA : 0.4385775862068966\n",
      "Right : 0.4542025862068966\n",
      "Left : 0.4229525862068966\n",
      "ITERATION NUMBER 7 ...\n",
      "100.000000 %completed\n",
      "No change, updating a...\n",
      "\n",
      "COST : 0.921875\n",
      "THETA : 0.4385775862068966\n",
      "Right : 0.4542025862068966\n",
      "Left : 0.4229525862068966\n",
      "ITERATION NUMBER 8 ...\n",
      "100.000000 %completed\n",
      "No change, updating a...\n",
      "\n",
      "COST : 0.921875\n",
      "THETA : 0.4385775862068966\n",
      "Maximum iterations reached for the estimation.\n",
      "Terminating algorithm...\n",
      "Result with 30  resolution : {'cost': 0.921875, 'theta': 0.4385775862068966, 'state': array([ 0.25774303-0.50734843j, -0.41339782-0.07419555j,\n",
      "       -0.17294856-0.10545226j, -0.6626645 -0.14002766j])}\n",
      "Right : 0.5147058823529411\n",
      "Left : 0.01470588235294118\n",
      "ITERATION NUMBER 1 ...\n",
      "100.000000 %completed\n",
      "COST : 0.8984375\n",
      "THETA : 0.14705882352941174\n",
      "Right : 0.27205882352941174\n",
      "Left : 0.022058823529411742\n",
      "ITERATION NUMBER 2 ...\n",
      "100.000000 %completed\n",
      "COST : 0.947265625\n",
      "THETA : 0.19852941176470584\n",
      "Right : 0.26102941176470584\n",
      "Left : 0.13602941176470584\n",
      "ITERATION NUMBER 3 ...\n",
      "100.000000 %completed\n",
      "COST : 0.94921875\n",
      "THETA : 0.1544117647058823\n",
      "Right : 0.1856617647058823\n",
      "Left : 0.1231617647058823\n",
      "ITERATION NUMBER 4 ...\n"
     ]
    },
    {
     "name": "stdout",
     "output_type": "stream",
     "text": [
      "100.000000 %completed\n",
      "COST : 0.953125\n",
      "THETA : 0.17830882352941171\n",
      "Right : 0.19393382352941171\n",
      "Left : 0.16268382352941171\n",
      "ITERATION NUMBER 5 ...\n",
      "100.000000 %completed\n",
      "No change, updating a...\n",
      "\n",
      "COST : 0.953125\n",
      "THETA : 0.17830882352941171\n",
      "Right : 0.19393382352941171\n",
      "Left : 0.16268382352941171\n",
      "ITERATION NUMBER 6 ...\n",
      "100.000000 %completed\n",
      "COST : 0.958984375\n",
      "THETA : 0.16544117647058817\n",
      "Right : 0.17325367647058817\n",
      "Left : 0.15762867647058817\n",
      "ITERATION NUMBER 7 ...\n",
      "100.000000 %completed\n",
      "No change, updating a...\n",
      "\n",
      "COST : 0.958984375\n",
      "THETA : 0.16544117647058817\n",
      "Right : 0.17325367647058817\n",
      "Left : 0.15762867647058817\n",
      "ITERATION NUMBER 8 ...\n",
      "100.000000 %completed\n",
      "No change, updating a...\n",
      "\n",
      "COST : 0.958984375\n",
      "THETA : 0.16544117647058817\n",
      "Maximum iterations reached for the estimation.\n",
      "Terminating algorithm...\n",
      "Result with 35  resolution : {'cost': 0.958984375, 'theta': 0.16544117647058817, 'state': array([ 0.06030649-0.37915066j, -0.63756896+0.16397966j,\n",
      "        0.354417  +0.0273168j ,  0.45719479-0.28955087j])}\n",
      "Right : 0.6346153846153846\n",
      "Left : 0.13461538461538458\n",
      "ITERATION NUMBER 1 ...\n",
      "100.000000 %completed\n",
      "COST : 0.8046875\n",
      "THETA : 0.3397435897435897\n",
      "Right : 0.4647435897435897\n",
      "Left : 0.2147435897435897\n",
      "ITERATION NUMBER 2 ...\n",
      "100.000000 %completed\n",
      "COST : 0.861328125\n",
      "THETA : 0.2532051282051282\n",
      "Right : 0.3157051282051282\n",
      "Left : 0.1907051282051282\n",
      "ITERATION NUMBER 3 ...\n",
      "100.000000 %completed\n",
      "COST : 0.908203125\n",
      "THETA : 0.22916666666666666\n",
      "Right : 0.26041666666666663\n",
      "Left : 0.19791666666666666\n",
      "ITERATION NUMBER 4 ...\n",
      "100.000000 %completed\n",
      "COST : 0.921875\n",
      "THETA : 0.21554487179487178\n",
      "Right : 0.23116987179487178\n",
      "Left : 0.19991987179487178\n",
      "ITERATION NUMBER 5 ...\n",
      "100.000000 %completed\n",
      "COST : 0.9375\n",
      "THETA : 0.2175480769230769\n",
      "Right : 0.2253605769230769\n",
      "Left : 0.2097355769230769\n",
      "ITERATION NUMBER 6 ...\n",
      "100.000000 %completed\n",
      "No change, updating a...\n",
      "\n",
      "COST : 0.9375\n",
      "THETA : 0.2175480769230769\n",
      "Right : 0.2253605769230769\n",
      "Left : 0.2097355769230769\n",
      "ITERATION NUMBER 7 ...\n",
      "100.000000 %completed\n",
      "No change, updating a...\n",
      "\n",
      "COST : 0.9375\n",
      "THETA : 0.2175480769230769\n",
      "Right : 0.2253605769230769\n",
      "Left : 0.2097355769230769\n",
      "ITERATION NUMBER 8 ...\n",
      "100.000000 %completed\n",
      "No change, updating a...\n",
      "\n",
      "COST : 0.9375\n",
      "THETA : 0.2175480769230769\n",
      "Maximum iterations reached for the estimation.\n",
      "Terminating algorithm...\n",
      "Result with 40  resolution : {'cost': 0.9375, 'theta': 0.2175480769230769, 'state': array([-0.08322504+0.06274654j,  0.51151346+0.34893655j,\n",
      "       -0.35325034-0.08111949j,  0.11926405-0.67833888j])}\n",
      "Right : 0.5227272727272727\n",
      "Left : 0.022727272727272707\n",
      "ITERATION NUMBER 1 ...\n",
      "100.000000 %completed\n",
      "COST : 0.857421875\n",
      "THETA : 0.25\n",
      "Right : 0.375\n",
      "Left : 0.125\n",
      "ITERATION NUMBER 2 ...\n",
      "100.000000 %completed\n",
      "COST : 0.912109375\n",
      "THETA : 0.2159090909090909\n",
      "Right : 0.27840909090909094\n",
      "Left : 0.1534090909090909\n",
      "ITERATION NUMBER 3 ...\n",
      "100.000000 %completed\n",
      "COST : 0.927734375\n",
      "THETA : 0.1960227272727273\n",
      "Right : 0.2272727272727273\n",
      "Left : 0.1647727272727273\n",
      "ITERATION NUMBER 4 ...\n",
      "100.000000 %completed\n",
      "COST : 0.935546875\n",
      "THETA : 0.1960227272727273\n",
      "Right : 0.2116477272727273\n",
      "Left : 0.1803977272727273\n",
      "ITERATION NUMBER 5 ...\n",
      "100.000000 %completed\n",
      "COST : 0.94140625\n",
      "THETA : 0.18465909090909094\n",
      "Right : 0.19247159090909094\n",
      "Left : 0.17684659090909094\n",
      "ITERATION NUMBER 6 ...\n",
      "100.000000 %completed\n",
      "No change, updating a...\n",
      "\n",
      "COST : 0.94140625\n",
      "THETA : 0.18465909090909094\n",
      "Right : 0.19247159090909094\n",
      "Left : 0.17684659090909094\n",
      "ITERATION NUMBER 7 ...\n",
      "100.000000 %completed\n",
      "COST : 0.9453125\n",
      "THETA : 0.1775568181818182\n",
      "Right : 0.1814630681818182\n",
      "Left : 0.1736505681818182\n",
      "ITERATION NUMBER 8 ...\n",
      "100.000000 %completed\n",
      "No change, updating a...\n",
      "\n",
      "COST : 0.9453125\n",
      "THETA : 0.1775568181818182\n",
      "Maximum iterations reached for the estimation.\n",
      "Terminating algorithm...\n",
      "Result with 45  resolution : {'cost': 0.9453125, 'theta': 0.1775568181818182, 'state': array([-0.17351398-0.03634685j, -0.66640511-0.15655529j,\n",
      "        0.34006849-0.19293908j, -0.15438412+0.56855954j])}\n",
      "Right : 0.6581632653061225\n",
      "Left : 0.1581632653061224\n",
      "ITERATION NUMBER 1 ...\n",
      "100.000000 %completed\n",
      "COST : 0.84375\n",
      "THETA : 0.47448979591836726\n",
      "Right : 0.5994897959183673\n",
      "Left : 0.34948979591836726\n",
      "ITERATION NUMBER 2 ...\n",
      "100.000000 %completed\n",
      "COST : 0.90234375\n",
      "THETA : 0.5637755102040816\n",
      "Right : 0.6262755102040816\n",
      "Left : 0.5012755102040816\n",
      "ITERATION NUMBER 3 ...\n",
      "100.000000 %completed\n",
      "COST : 0.92578125\n",
      "THETA : 0.5548469387755102\n",
      "Right : 0.5860969387755102\n",
      "Left : 0.5235969387755102\n",
      "ITERATION NUMBER 4 ...\n",
      "100.000000 %completed\n",
      "COST : 0.935546875\n",
      "THETA : 0.5414540816326531\n",
      "Right : 0.5570790816326531\n",
      "Left : 0.5258290816326531\n",
      "ITERATION NUMBER 5 ...\n",
      "100.000000 %completed\n",
      "COST : 0.953125\n",
      "THETA : 0.5487882653061225\n",
      "Right : 0.5566007653061225\n",
      "Left : 0.5409757653061225\n",
      "ITERATION NUMBER 6 ...\n",
      "100.000000 %completed\n",
      "COST : 0.955078125\n",
      "THETA : 0.5470344387755102\n",
      "Right : 0.5509406887755102\n",
      "Left : 0.5431281887755102\n",
      "ITERATION NUMBER 7 ...\n",
      "100.000000 %completed\n",
      "No change, updating a...\n",
      "\n",
      "COST : 0.955078125\n",
      "THETA : 0.5470344387755102\n",
      "Right : 0.5509406887755102\n",
      "Left : 0.5431281887755102\n",
      "ITERATION NUMBER 8 ...\n",
      "100.000000 %completed\n",
      "No change, updating a...\n",
      "\n",
      "COST : 0.955078125\n",
      "THETA : 0.5470344387755102\n",
      "Maximum iterations reached for the estimation.\n",
      "Terminating algorithm...\n",
      "Result with 50  resolution : {'cost': 0.955078125, 'theta': 0.5470344387755102, 'state': array([0.26851861+0.45838946j, 0.10642438-0.09432655j,\n",
      "       0.73012723-0.35198233j, 0.02217719-0.20021002j])}\n"
     ]
    },
    {
     "data": {
      "image/png": "[encoded data removed]",
      "text/plain": [
       "<Figure size 432x288 with 1 Axes>"
      ]
     },
     "metadata": {
      "needs_background": "light"
     },
     "output_type": "display_data"
    }
   ],
   "source": [
    "%prun \n",
    "costs = []\n",
    "thetas = []\n",
    "# find how the cost converges with increasing resolution\n",
    "for res in resolutions:\n",
    "    spea = SPEA(unit_2,resolution=res,error = 3,max_iters=8)\n",
    "    result = spea.get_eigen_pair(progress=True,backend = sim)\n",
    "    print(\"Result with\",res,\" resolution :\",result)\n",
    "    costs.append(result['cost'])\n",
    "    thetas.append(result['theta'])\n",
    "\n",
    "# plot \n",
    "plt.title(\"2-qubit(basic) unitary cost v/s resolution\",fontsize = 16)\n",
    "plt.xlabel(\"Resolution \",fontsize = 15)\n",
    "plt.ylabel(\"Cost Returned for unitary \",fontsize = 15)\n",
    "plt.plot(resolutions, costs, label = 'Costs of unitary', marker = 's',color = 'blue',alpha = 0.5)\n",
    "plt.plot(resolutions, thetas, label = 'Eigenvalues', marker = 'o',color = 'cyan',alpha = 0.5)\n",
    "plt.legend()\n",
    "plt.grid()\n",
    "os.makedirs(\"SPE/Experiment_1/2_qubit/\",exist_ok = True)\n",
    "plt.savefig(\"SPE/Experiment_1/2_qubit/Basic Algorithm Result\",dpi = 200)"
   ]
  },
  {
   "cell_type": "markdown",
   "metadata": {},
   "source": [
    "- Algorithm 2"
   ]
  },
  {
   "cell_type": "code",
   "execution_count": 6,
   "metadata": {
    "ExecuteTime": {
     "end_time": "2021-06-01T07:36:22.133902Z",
     "start_time": "2021-06-01T05:14:02.853433Z"
    },
    "scrolled": true
   },
   "outputs": [
    {
     "name": "stdout",
     "output_type": "stream",
     "text": [
      "Job Status: job has successfully run\n"
     ]
    },
    {
     "data": {
      "text/plain": [
       "None"
      ]
     },
     "metadata": {},
     "output_type": "display_data"
    },
    {
     "name": "stdout",
     "output_type": "stream",
     "text": [
      "Right : 0.5833333333333333\n",
      "Left : 0.08333333333333331\n",
      "ITERATION NUMBER 1 ...\n",
      "Job Status: job has successfully run\n"
     ]
    },
    {
     "data": {
      "text/plain": [
       "None"
      ]
     },
     "metadata": {},
     "output_type": "display_data"
    },
    {
     "name": "stdout",
     "output_type": "stream",
     "text": [
      "Job Status: job has successfully run\n"
     ]
    },
    {
     "data": {
      "text/plain": [
       "None"
      ]
     },
     "metadata": {},
     "output_type": "display_data"
    },
    {
     "name": "stdout",
     "output_type": "stream",
     "text": [
      "Job Status: job has successfully run\n"
     ]
    },
    {
     "data": {
      "text/plain": [
       "None"
      ]
     },
     "metadata": {},
     "output_type": "display_data"
    },
    {
     "name": "stdout",
     "output_type": "stream",
     "text": [
      "Job Status: job has successfully run\n"
     ]
    },
    {
     "data": {
      "text/plain": [
       "None"
      ]
     },
     "metadata": {},
     "output_type": "display_data"
    },
    {
     "name": "stdout",
     "output_type": "stream",
     "text": [
      "Job Status: job has successfully run\n"
     ]
    },
    {
     "data": {
      "text/plain": [
       "None"
      ]
     },
     "metadata": {},
     "output_type": "display_data"
    },
    {
     "name": "stdout",
     "output_type": "stream",
     "text": [
      "Job Status: job has successfully run\n"
     ]
    },
    {
     "data": {
      "text/plain": [
       "None"
      ]
     },
     "metadata": {},
     "output_type": "display_data"
    },
    {
     "name": "stdout",
     "output_type": "stream",
     "text": [
      "Job Status: job has successfully run\n"
     ]
    },
    {
     "data": {
      "text/plain": [
       "None"
      ]
     },
     "metadata": {},
     "output_type": "display_data"
    },
    {
     "name": "stdout",
     "output_type": "stream",
     "text": [
      "Job Status: job has successfully run\n"
     ]
    },
    {
     "data": {
      "text/plain": [
       "None"
      ]
     },
     "metadata": {},
     "output_type": "display_data"
    },
    {
     "name": "stdout",
     "output_type": "stream",
     "text": [
      "100.000000 %completedBest Phi is : [0.08524201-0.24885608j 0.03755423+0.10890529j 0.26777254+0.29433074j\n",
      " 0.43664796-0.75401565j]\n",
      "Theta estimate : 0.3055555555555555\n",
      "Current cost : 0.951171875\n",
      "\n",
      "COST : 0.951171875\n",
      "THETA : 0.3055555555555555\n",
      "Right : 0.4305555555555555\n",
      "Left : 0.18055555555555552\n",
      "ITERATION NUMBER 2 ...\n",
      "Job Status: job has successfully run\n"
     ]
    },
    {
     "data": {
      "text/plain": [
       "None"
      ]
     },
     "metadata": {},
     "output_type": "display_data"
    },
    {
     "name": "stdout",
     "output_type": "stream",
     "text": [
      "Job Status: job has successfully run\n"
     ]
    },
    {
     "data": {
      "text/plain": [
       "None"
      ]
     },
     "metadata": {},
     "output_type": "display_data"
    },
    {
     "name": "stdout",
     "output_type": "stream",
     "text": [
      "Job Status: job has successfully run\n"
     ]
    },
    {
     "data": {
      "text/plain": [
       "None"
      ]
     },
     "metadata": {},
     "output_type": "display_data"
    },
    {
     "name": "stdout",
     "output_type": "stream",
     "text": [
      "Job Status: job has successfully run\n"
     ]
    },
    {
     "data": {
      "text/plain": [
       "None"
      ]
     },
     "metadata": {},
     "output_type": "display_data"
    },
    {
     "name": "stdout",
     "output_type": "stream",
     "text": [
      "Job Status: job has successfully run\n"
     ]
    },
    {
     "data": {
      "text/plain": [
       "None"
      ]
     },
     "metadata": {},
     "output_type": "display_data"
    },
    {
     "name": "stdout",
     "output_type": "stream",
     "text": [
      "Job Status: job has successfully run\n"
     ]
    },
    {
     "data": {
      "text/plain": [
       "None"
      ]
     },
     "metadata": {},
     "output_type": "display_data"
    },
    {
     "name": "stdout",
     "output_type": "stream",
     "text": [
      "Job Status: job has successfully run\n"
     ]
    },
    {
     "data": {
      "text/plain": [
       "None"
      ]
     },
     "metadata": {},
     "output_type": "display_data"
    },
    {
     "name": "stdout",
     "output_type": "stream",
     "text": [
      "Job Status: job has successfully run\n"
     ]
    },
    {
     "data": {
      "text/plain": [
       "None"
      ]
     },
     "metadata": {},
     "output_type": "display_data"
    },
    {
     "name": "stdout",
     "output_type": "stream",
     "text": [
      "100.000000 %completedBest Phi is : [0.08204663-0.222896j   0.05183817+0.13444528j 0.24296638+0.30010345j\n",
      " 0.4311685 -0.76669549j]\n",
      "Theta estimate : 0.3194444444444444\n",
      "Current cost : 0.95703125\n",
      "\n",
      "COST : 0.95703125\n",
      "THETA : 0.3194444444444444\n",
      "Right : 0.3819444444444444\n",
      "Left : 0.2569444444444444\n",
      "ITERATION NUMBER 3 ...\n",
      "Job Status: job has successfully run\n"
     ]
    },
    {
     "data": {
      "text/plain": [
       "None"
      ]
     },
     "metadata": {},
     "output_type": "display_data"
    },
    {
     "name": "stdout",
     "output_type": "stream",
     "text": [
      "Job Status: job has successfully run\n"
     ]
    },
    {
     "data": {
      "text/plain": [
       "None"
      ]
     },
     "metadata": {},
     "output_type": "display_data"
    },
    {
     "name": "stdout",
     "output_type": "stream",
     "text": [
      "Job Status: job has successfully run\n"
     ]
    },
    {
     "data": {
      "text/plain": [
       "None"
      ]
     },
     "metadata": {},
     "output_type": "display_data"
    },
    {
     "name": "stdout",
     "output_type": "stream",
     "text": [
      "Job Status: job has successfully run\n"
     ]
    },
    {
     "data": {
      "text/plain": [
       "None"
      ]
     },
     "metadata": {},
     "output_type": "display_data"
    },
    {
     "name": "stdout",
     "output_type": "stream",
     "text": [
      "Job Status: job has successfully run\n"
     ]
    },
    {
     "data": {
      "text/plain": [
       "None"
      ]
     },
     "metadata": {},
     "output_type": "display_data"
    },
    {
     "name": "stdout",
     "output_type": "stream",
     "text": [
      "Job Status: job has successfully run\n"
     ]
    },
    {
     "data": {
      "text/plain": [
       "None"
      ]
     },
     "metadata": {},
     "output_type": "display_data"
    },
    {
     "name": "stdout",
     "output_type": "stream",
     "text": [
      "Job Status: job has successfully run\n"
     ]
    },
    {
     "data": {
      "text/plain": [
       "None"
      ]
     },
     "metadata": {},
     "output_type": "display_data"
    },
    {
     "name": "stdout",
     "output_type": "stream",
     "text": [
      "Job Status: job has successfully run\n"
     ]
    },
    {
     "data": {
      "text/plain": [
       "None"
      ]
     },
     "metadata": {},
     "output_type": "display_data"
    },
    {
     "name": "stdout",
     "output_type": "stream",
     "text": [
      "100.000000 %completedBest Phi is : [0.05938065-0.22541392j 0.02919509+0.14693392j 0.23735275+0.27827199j\n",
      " 0.44272206-0.77035454j]\n",
      "Theta estimate : 0.35416666666666663\n",
      "Current cost : 0.958984375\n",
      "\n",
      "COST : 0.958984375\n",
      "THETA : 0.35416666666666663\n",
      "Right : 0.38541666666666663\n",
      "Left : 0.32291666666666663\n",
      "ITERATION NUMBER 4 ...\n",
      "Job Status: job has successfully run\n"
     ]
    },
    {
     "data": {
      "text/plain": [
       "None"
      ]
     },
     "metadata": {},
     "output_type": "display_data"
    },
    {
     "name": "stdout",
     "output_type": "stream",
     "text": [
      "Job Status: job has successfully run\n"
     ]
    },
    {
     "data": {
      "text/plain": [
       "None"
      ]
     },
     "metadata": {},
     "output_type": "display_data"
    },
    {
     "name": "stdout",
     "output_type": "stream",
     "text": [
      "Job Status: job has successfully run\n"
     ]
    },
    {
     "data": {
      "text/plain": [
       "None"
      ]
     },
     "metadata": {},
     "output_type": "display_data"
    },
    {
     "name": "stdout",
     "output_type": "stream",
     "text": [
      "Job Status: job has successfully run\n"
     ]
    },
    {
     "data": {
      "text/plain": [
       "None"
      ]
     },
     "metadata": {},
     "output_type": "display_data"
    },
    {
     "name": "stdout",
     "output_type": "stream",
     "text": [
      "Job Status: job has successfully run\n"
     ]
    },
    {
     "data": {
      "text/plain": [
       "None"
      ]
     },
     "metadata": {},
     "output_type": "display_data"
    },
    {
     "name": "stdout",
     "output_type": "stream",
     "text": [
      "Job Status: job has successfully run\n"
     ]
    },
    {
     "data": {
      "text/plain": [
       "None"
      ]
     },
     "metadata": {},
     "output_type": "display_data"
    },
    {
     "name": "stdout",
     "output_type": "stream",
     "text": [
      "Job Status: job has successfully run\n"
     ]
    },
    {
     "data": {
      "text/plain": [
       "None"
      ]
     },
     "metadata": {},
     "output_type": "display_data"
    },
    {
     "name": "stdout",
     "output_type": "stream",
     "text": [
      "Job Status: job has successfully run\n"
     ]
    },
    {
     "data": {
      "text/plain": [
       "None"
      ]
     },
     "metadata": {},
     "output_type": "display_data"
    },
    {
     "name": "stdout",
     "output_type": "stream",
     "text": [
      "100.000000 %completed\n",
      "No change, updating a...\n",
      "\n",
      "COST : 0.958984375\n",
      "THETA : 0.35416666666666663\n",
      "Right : 0.38541666666666663\n",
      "Left : 0.32291666666666663\n",
      "ITERATION NUMBER 5 ...\n",
      "Job Status: job has successfully run\n"
     ]
    },
    {
     "data": {
      "text/plain": [
       "None"
      ]
     },
     "metadata": {},
     "output_type": "display_data"
    },
    {
     "name": "stdout",
     "output_type": "stream",
     "text": [
      "Job Status: job has successfully run\n"
     ]
    },
    {
     "data": {
      "text/plain": [
       "None"
      ]
     },
     "metadata": {},
     "output_type": "display_data"
    },
    {
     "name": "stdout",
     "output_type": "stream",
     "text": [
      "Job Status: job has successfully run\n"
     ]
    },
    {
     "data": {
      "text/plain": [
       "None"
      ]
     },
     "metadata": {},
     "output_type": "display_data"
    },
    {
     "name": "stdout",
     "output_type": "stream",
     "text": [
      "Job Status: job has successfully run\n"
     ]
    },
    {
     "data": {
      "text/plain": [
       "None"
      ]
     },
     "metadata": {},
     "output_type": "display_data"
    },
    {
     "name": "stdout",
     "output_type": "stream",
     "text": [
      "Job Status: job has successfully run\n"
     ]
    },
    {
     "data": {
      "text/plain": [
       "None"
      ]
     },
     "metadata": {},
     "output_type": "display_data"
    },
    {
     "name": "stdout",
     "output_type": "stream",
     "text": [
      "Job Status: job has successfully run\n"
     ]
    },
    {
     "data": {
      "text/plain": [
       "None"
      ]
     },
     "metadata": {},
     "output_type": "display_data"
    },
    {
     "name": "stdout",
     "output_type": "stream",
     "text": [
      "Job Status: job has successfully run\n"
     ]
    },
    {
     "data": {
      "text/plain": [
       "None"
      ]
     },
     "metadata": {},
     "output_type": "display_data"
    },
    {
     "name": "stdout",
     "output_type": "stream",
     "text": [
      "Job Status: job has successfully run\n"
     ]
    },
    {
     "data": {
      "text/plain": [
       "None"
      ]
     },
     "metadata": {},
     "output_type": "display_data"
    },
    {
     "name": "stdout",
     "output_type": "stream",
     "text": [
      "100.000000 %completedBest Phi is : [0.04772195-0.21786978j 0.03949578+0.14200869j 0.2451947 +0.27664772j\n",
      " 0.44824274-0.7687347j ]\n",
      "Theta estimate : 0.32291666666666663\n",
      "Current cost : 0.96484375\n",
      "\n",
      "COST : 0.96484375\n",
      "THETA : 0.32291666666666663\n",
      "Right : 0.33854166666666663\n",
      "Left : 0.30729166666666663\n",
      "ITERATION NUMBER 6 ...\n",
      "Job Status: job has successfully run\n"
     ]
    },
    {
     "data": {
      "text/plain": [
       "None"
      ]
     },
     "metadata": {},
     "output_type": "display_data"
    },
    {
     "name": "stdout",
     "output_type": "stream",
     "text": [
      "Job Status: job has successfully run\n"
     ]
    },
    {
     "data": {
      "text/plain": [
       "None"
      ]
     },
     "metadata": {},
     "output_type": "display_data"
    },
    {
     "name": "stdout",
     "output_type": "stream",
     "text": [
      "Job Status: job has successfully run\n"
     ]
    },
    {
     "data": {
      "text/plain": [
       "None"
      ]
     },
     "metadata": {},
     "output_type": "display_data"
    },
    {
     "name": "stdout",
     "output_type": "stream",
     "text": [
      "Job Status: job has successfully run\n"
     ]
    },
    {
     "data": {
      "text/plain": [
       "None"
      ]
     },
     "metadata": {},
     "output_type": "display_data"
    },
    {
     "name": "stdout",
     "output_type": "stream",
     "text": [
      "Job Status: job has successfully run\n"
     ]
    },
    {
     "data": {
      "text/plain": [
       "None"
      ]
     },
     "metadata": {},
     "output_type": "display_data"
    },
    {
     "name": "stdout",
     "output_type": "stream",
     "text": [
      "Job Status: job has successfully run\n"
     ]
    },
    {
     "data": {
      "text/plain": [
       "None"
      ]
     },
     "metadata": {},
     "output_type": "display_data"
    },
    {
     "name": "stdout",
     "output_type": "stream",
     "text": [
      "Job Status: job has successfully run\n"
     ]
    },
    {
     "data": {
      "text/plain": [
       "None"
      ]
     },
     "metadata": {},
     "output_type": "display_data"
    },
    {
     "name": "stdout",
     "output_type": "stream",
     "text": [
      "Job Status: job has successfully run\n"
     ]
    },
    {
     "data": {
      "text/plain": [
       "None"
      ]
     },
     "metadata": {},
     "output_type": "display_data"
    },
    {
     "name": "stdout",
     "output_type": "stream",
     "text": [
      "100.000000 %completed\n",
      "No change, updating a...\n",
      "\n",
      "COST : 0.96484375\n",
      "THETA : 0.32291666666666663\n",
      "Right : 0.33854166666666663\n",
      "Left : 0.30729166666666663\n",
      "ITERATION NUMBER 7 ...\n",
      "Job Status: job has successfully run\n"
     ]
    },
    {
     "data": {
      "text/plain": [
       "None"
      ]
     },
     "metadata": {},
     "output_type": "display_data"
    },
    {
     "name": "stdout",
     "output_type": "stream",
     "text": [
      "Job Status: job has successfully run\n"
     ]
    },
    {
     "data": {
      "text/plain": [
       "None"
      ]
     },
     "metadata": {},
     "output_type": "display_data"
    },
    {
     "name": "stdout",
     "output_type": "stream",
     "text": [
      "Job Status: job has successfully run\n"
     ]
    },
    {
     "data": {
      "text/plain": [
       "None"
      ]
     },
     "metadata": {},
     "output_type": "display_data"
    },
    {
     "name": "stdout",
     "output_type": "stream",
     "text": [
      "Job Status: job has successfully run\n"
     ]
    },
    {
     "data": {
      "text/plain": [
       "None"
      ]
     },
     "metadata": {},
     "output_type": "display_data"
    },
    {
     "name": "stdout",
     "output_type": "stream",
     "text": [
      "Job Status: job has successfully run\n"
     ]
    },
    {
     "data": {
      "text/plain": [
       "None"
      ]
     },
     "metadata": {},
     "output_type": "display_data"
    },
    {
     "name": "stdout",
     "output_type": "stream",
     "text": [
      "Job Status: job has successfully run\n"
     ]
    },
    {
     "data": {
      "text/plain": [
       "None"
      ]
     },
     "metadata": {},
     "output_type": "display_data"
    },
    {
     "name": "stdout",
     "output_type": "stream",
     "text": [
      "Job Status: job has successfully run\n"
     ]
    },
    {
     "data": {
      "text/plain": [
       "None"
      ]
     },
     "metadata": {},
     "output_type": "display_data"
    },
    {
     "name": "stdout",
     "output_type": "stream",
     "text": [
      "Job Status: job has successfully run\n"
     ]
    },
    {
     "data": {
      "text/plain": [
       "None"
      ]
     },
     "metadata": {},
     "output_type": "display_data"
    },
    {
     "name": "stdout",
     "output_type": "stream",
     "text": [
      "100.000000 %completed\n",
      "No change, updating a...\n",
      "\n",
      "COST : 0.96484375\n",
      "THETA : 0.32291666666666663\n",
      "Right : 0.33854166666666663\n",
      "Left : 0.30729166666666663\n",
      "ITERATION NUMBER 8 ...\n",
      "Job Status: job has successfully run\n"
     ]
    },
    {
     "data": {
      "text/plain": [
       "None"
      ]
     },
     "metadata": {},
     "output_type": "display_data"
    },
    {
     "name": "stdout",
     "output_type": "stream",
     "text": [
      "Job Status: job has successfully run\n"
     ]
    },
    {
     "data": {
      "text/plain": [
       "None"
      ]
     },
     "metadata": {},
     "output_type": "display_data"
    },
    {
     "name": "stdout",
     "output_type": "stream",
     "text": [
      "Job Status: job has successfully run\n"
     ]
    },
    {
     "data": {
      "text/plain": [
       "None"
      ]
     },
     "metadata": {},
     "output_type": "display_data"
    },
    {
     "name": "stdout",
     "output_type": "stream",
     "text": [
      "Job Status: job has successfully run\n"
     ]
    },
    {
     "data": {
      "text/plain": [
       "None"
      ]
     },
     "metadata": {},
     "output_type": "display_data"
    },
    {
     "name": "stdout",
     "output_type": "stream",
     "text": [
      "Job Status: job has successfully run\n"
     ]
    },
    {
     "data": {
      "text/plain": [
       "None"
      ]
     },
     "metadata": {},
     "output_type": "display_data"
    },
    {
     "name": "stdout",
     "output_type": "stream",
     "text": [
      "Job Status: job has successfully run\n"
     ]
    },
    {
     "data": {
      "text/plain": [
       "None"
      ]
     },
     "metadata": {},
     "output_type": "display_data"
    },
    {
     "name": "stdout",
     "output_type": "stream",
     "text": [
      "Job Status: job has successfully run\n"
     ]
    },
    {
     "data": {
      "text/plain": [
       "None"
      ]
     },
     "metadata": {},
     "output_type": "display_data"
    },
    {
     "name": "stdout",
     "output_type": "stream",
     "text": [
      "Job Status: job has successfully run\n"
     ]
    },
    {
     "data": {
      "text/plain": [
       "None"
      ]
     },
     "metadata": {},
     "output_type": "display_data"
    },
    {
     "name": "stdout",
     "output_type": "stream",
     "text": [
      "100.000000 %completed\n",
      "No change, updating a...\n",
      "\n",
      "COST : 0.96484375\n",
      "THETA : 0.32291666666666663\n",
      "Maximum iterations reached for the estimation.\n",
      "Terminating algorithm...\n",
      "Result with 10  resolution : {'cost': 0.96484375, 'theta': 0.32291666666666663, 'state': array([0.04772195-0.21786978j, 0.03949578+0.14200869j,\n",
      "       0.2451947 +0.27664772j, 0.44824274-0.7687347j ])}\n",
      "Job Status: job has successfully run\n"
     ]
    },
    {
     "data": {
      "text/plain": [
       "None"
      ]
     },
     "metadata": {},
     "output_type": "display_data"
    },
    {
     "name": "stdout",
     "output_type": "stream",
     "text": [
      "Right : 0.5357142857142857\n",
      "Left : 0.0357142857142857\n",
      "ITERATION NUMBER 1 ...\n",
      "Job Status: job has successfully run\n"
     ]
    },
    {
     "data": {
      "text/plain": [
       "None"
      ]
     },
     "metadata": {},
     "output_type": "display_data"
    },
    {
     "name": "stdout",
     "output_type": "stream",
     "text": [
      "Job Status: job has successfully run\n"
     ]
    },
    {
     "data": {
      "text/plain": [
       "None"
      ]
     },
     "metadata": {},
     "output_type": "display_data"
    },
    {
     "name": "stdout",
     "output_type": "stream",
     "text": [
      "Job Status: job has successfully run\n"
     ]
    },
    {
     "data": {
      "text/plain": [
       "None"
      ]
     },
     "metadata": {},
     "output_type": "display_data"
    },
    {
     "name": "stdout",
     "output_type": "stream",
     "text": [
      "Job Status: job has successfully run\n"
     ]
    },
    {
     "data": {
      "text/plain": [
       "None"
      ]
     },
     "metadata": {},
     "output_type": "display_data"
    },
    {
     "name": "stdout",
     "output_type": "stream",
     "text": [
      "Job Status: job has successfully run\n"
     ]
    },
    {
     "data": {
      "text/plain": [
       "None"
      ]
     },
     "metadata": {},
     "output_type": "display_data"
    },
    {
     "name": "stdout",
     "output_type": "stream",
     "text": [
      "Job Status: job has successfully run\n"
     ]
    },
    {
     "data": {
      "text/plain": [
       "None"
      ]
     },
     "metadata": {},
     "output_type": "display_data"
    },
    {
     "name": "stdout",
     "output_type": "stream",
     "text": [
      "Job Status: job has successfully run\n"
     ]
    },
    {
     "data": {
      "text/plain": [
       "None"
      ]
     },
     "metadata": {},
     "output_type": "display_data"
    },
    {
     "name": "stdout",
     "output_type": "stream",
     "text": [
      "Job Status: job has successfully run\n"
     ]
    },
    {
     "data": {
      "text/plain": [
       "None"
      ]
     },
     "metadata": {},
     "output_type": "display_data"
    },
    {
     "name": "stdout",
     "output_type": "stream",
     "text": [
      "100.000000 %completedBest Phi is : [-0.16704409+0.39645298j  0.52097093-0.21948363j -0.54889294-0.23694903j\n",
      " -0.37124101-0.00945199j]\n",
      "Theta estimate : 0.14285714285714285\n",
      "Current cost : 0.837890625\n",
      "\n",
      "COST : 0.837890625\n",
      "THETA : 0.14285714285714285\n",
      "Right : 0.26785714285714285\n",
      "Left : 0.01785714285714285\n",
      "ITERATION NUMBER 2 ...\n",
      "Job Status: job has successfully run\n"
     ]
    },
    {
     "data": {
      "text/plain": [
       "None"
      ]
     },
     "metadata": {},
     "output_type": "display_data"
    },
    {
     "name": "stdout",
     "output_type": "stream",
     "text": [
      "Job Status: job has successfully run\n"
     ]
    },
    {
     "data": {
      "text/plain": [
       "None"
      ]
     },
     "metadata": {},
     "output_type": "display_data"
    },
    {
     "name": "stdout",
     "output_type": "stream",
     "text": [
      "Job Status: job has successfully run\n"
     ]
    },
    {
     "data": {
      "text/plain": [
       "None"
      ]
     },
     "metadata": {},
     "output_type": "display_data"
    },
    {
     "name": "stdout",
     "output_type": "stream",
     "text": [
      "Job Status: job has successfully run\n"
     ]
    },
    {
     "data": {
      "text/plain": [
       "None"
      ]
     },
     "metadata": {},
     "output_type": "display_data"
    },
    {
     "name": "stdout",
     "output_type": "stream",
     "text": [
      "Job Status: job has successfully run\n"
     ]
    },
    {
     "data": {
      "text/plain": [
       "None"
      ]
     },
     "metadata": {},
     "output_type": "display_data"
    },
    {
     "name": "stdout",
     "output_type": "stream",
     "text": [
      "Job Status: job has successfully run\n"
     ]
    },
    {
     "data": {
      "text/plain": [
       "None"
      ]
     },
     "metadata": {},
     "output_type": "display_data"
    },
    {
     "name": "stdout",
     "output_type": "stream",
     "text": [
      "Job Status: job has successfully run\n"
     ]
    },
    {
     "data": {
      "text/plain": [
       "None"
      ]
     },
     "metadata": {},
     "output_type": "display_data"
    },
    {
     "name": "stdout",
     "output_type": "stream",
     "text": [
      "Job Status: job has successfully run\n"
     ]
    },
    {
     "data": {
      "text/plain": [
       "None"
      ]
     },
     "metadata": {},
     "output_type": "display_data"
    },
    {
     "name": "stdout",
     "output_type": "stream",
     "text": [
      "100.000000 %completedBest Phi is : [-0.11946534+0.48550999j  0.56055818-0.15960471j -0.51402139-0.18697131j\n",
      " -0.33051543-0.04349984j]\n",
      "Theta estimate : 0.1964285714285714\n",
      "Current cost : 0.8828125\n",
      "\n",
      "COST : 0.8828125\n",
      "THETA : 0.1964285714285714\n",
      "Right : 0.2589285714285714\n",
      "Left : 0.1339285714285714\n",
      "ITERATION NUMBER 3 ...\n",
      "Job Status: job has successfully run\n"
     ]
    },
    {
     "data": {
      "text/plain": [
       "None"
      ]
     },
     "metadata": {},
     "output_type": "display_data"
    },
    {
     "name": "stdout",
     "output_type": "stream",
     "text": [
      "Job Status: job has successfully run\n"
     ]
    },
    {
     "data": {
      "text/plain": [
       "None"
      ]
     },
     "metadata": {},
     "output_type": "display_data"
    },
    {
     "name": "stdout",
     "output_type": "stream",
     "text": [
      "Job Status: job has successfully run\n"
     ]
    },
    {
     "data": {
      "text/plain": [
       "None"
      ]
     },
     "metadata": {},
     "output_type": "display_data"
    },
    {
     "name": "stdout",
     "output_type": "stream",
     "text": [
      "Job Status: job has successfully run\n"
     ]
    },
    {
     "data": {
      "text/plain": [
       "None"
      ]
     },
     "metadata": {},
     "output_type": "display_data"
    },
    {
     "name": "stdout",
     "output_type": "stream",
     "text": [
      "Job Status: job has successfully run\n"
     ]
    },
    {
     "data": {
      "text/plain": [
       "None"
      ]
     },
     "metadata": {},
     "output_type": "display_data"
    },
    {
     "name": "stdout",
     "output_type": "stream",
     "text": [
      "Job Status: job has successfully run\n"
     ]
    },
    {
     "data": {
      "text/plain": [
       "None"
      ]
     },
     "metadata": {},
     "output_type": "display_data"
    },
    {
     "name": "stdout",
     "output_type": "stream",
     "text": [
      "Job Status: job has successfully run\n"
     ]
    },
    {
     "data": {
      "text/plain": [
       "None"
      ]
     },
     "metadata": {},
     "output_type": "display_data"
    },
    {
     "name": "stdout",
     "output_type": "stream",
     "text": [
      "Job Status: job has successfully run\n"
     ]
    },
    {
     "data": {
      "text/plain": [
       "None"
      ]
     },
     "metadata": {},
     "output_type": "display_data"
    },
    {
     "name": "stdout",
     "output_type": "stream",
     "text": [
      "100.000000 %completedBest Phi is : [-0.1611785 +0.46556497j  0.62094275-0.16578459j -0.4609758 -0.15018442j\n",
      " -0.32998346+0.01652843j]\n",
      "Theta estimate : 0.1696428571428571\n",
      "Current cost : 0.912109375\n",
      "\n",
      "COST : 0.912109375\n",
      "THETA : 0.1696428571428571\n",
      "Right : 0.2008928571428571\n",
      "Left : 0.1383928571428571\n",
      "ITERATION NUMBER 4 ...\n",
      "Job Status: job has successfully run\n"
     ]
    },
    {
     "data": {
      "text/plain": [
       "None"
      ]
     },
     "metadata": {},
     "output_type": "display_data"
    },
    {
     "name": "stdout",
     "output_type": "stream",
     "text": [
      "Job Status: job has successfully run\n"
     ]
    },
    {
     "data": {
      "text/plain": [
       "None"
      ]
     },
     "metadata": {},
     "output_type": "display_data"
    },
    {
     "name": "stdout",
     "output_type": "stream",
     "text": [
      "Job Status: job has successfully run\n"
     ]
    },
    {
     "data": {
      "text/plain": [
       "None"
      ]
     },
     "metadata": {},
     "output_type": "display_data"
    },
    {
     "name": "stdout",
     "output_type": "stream",
     "text": [
      "Job Status: job has successfully run\n"
     ]
    },
    {
     "data": {
      "text/plain": [
       "None"
      ]
     },
     "metadata": {},
     "output_type": "display_data"
    },
    {
     "name": "stdout",
     "output_type": "stream",
     "text": [
      "Job Status: job has successfully run\n"
     ]
    },
    {
     "data": {
      "text/plain": [
       "None"
      ]
     },
     "metadata": {},
     "output_type": "display_data"
    },
    {
     "name": "stdout",
     "output_type": "stream",
     "text": [
      "Job Status: job has successfully run\n"
     ]
    },
    {
     "data": {
      "text/plain": [
       "None"
      ]
     },
     "metadata": {},
     "output_type": "display_data"
    },
    {
     "name": "stdout",
     "output_type": "stream",
     "text": [
      "Job Status: job has successfully run\n"
     ]
    },
    {
     "data": {
      "text/plain": [
       "None"
      ]
     },
     "metadata": {},
     "output_type": "display_data"
    },
    {
     "name": "stdout",
     "output_type": "stream",
     "text": [
      "Job Status: job has successfully run\n"
     ]
    },
    {
     "data": {
      "text/plain": [
       "None"
      ]
     },
     "metadata": {},
     "output_type": "display_data"
    },
    {
     "name": "stdout",
     "output_type": "stream",
     "text": [
      "100.000000 %completedBest Phi is : [-0.12516213+0.46567218j  0.62225506-0.13426013j -0.47062449-0.1897017j\n",
      " -0.31472771+0.07569042j]\n",
      "Theta estimate : 0.14285714285714282\n",
      "Current cost : 0.921875\n",
      "\n",
      "COST : 0.921875\n",
      "THETA : 0.14285714285714282\n",
      "Right : 0.15848214285714282\n",
      "Left : 0.12723214285714282\n",
      "ITERATION NUMBER 5 ...\n",
      "Job Status: job has successfully run\n"
     ]
    },
    {
     "data": {
      "text/plain": [
       "None"
      ]
     },
     "metadata": {},
     "output_type": "display_data"
    },
    {
     "name": "stdout",
     "output_type": "stream",
     "text": [
      "Job Status: job has successfully run\n"
     ]
    },
    {
     "data": {
      "text/plain": [
       "None"
      ]
     },
     "metadata": {},
     "output_type": "display_data"
    },
    {
     "name": "stdout",
     "output_type": "stream",
     "text": [
      "Job Status: job has successfully run\n"
     ]
    },
    {
     "data": {
      "text/plain": [
       "None"
      ]
     },
     "metadata": {},
     "output_type": "display_data"
    },
    {
     "name": "stdout",
     "output_type": "stream",
     "text": [
      "Job Status: job has successfully run\n"
     ]
    },
    {
     "data": {
      "text/plain": [
       "None"
      ]
     },
     "metadata": {},
     "output_type": "display_data"
    },
    {
     "name": "stdout",
     "output_type": "stream",
     "text": [
      "Job Status: job has successfully run\n"
     ]
    },
    {
     "data": {
      "text/plain": [
       "None"
      ]
     },
     "metadata": {},
     "output_type": "display_data"
    },
    {
     "name": "stdout",
     "output_type": "stream",
     "text": [
      "Job Status: job has successfully run\n"
     ]
    },
    {
     "data": {
      "text/plain": [
       "None"
      ]
     },
     "metadata": {},
     "output_type": "display_data"
    },
    {
     "name": "stdout",
     "output_type": "stream",
     "text": [
      "Job Status: job has successfully run\n"
     ]
    },
    {
     "data": {
      "text/plain": [
       "None"
      ]
     },
     "metadata": {},
     "output_type": "display_data"
    },
    {
     "name": "stdout",
     "output_type": "stream",
     "text": [
      "Job Status: job has successfully run\n"
     ]
    },
    {
     "data": {
      "text/plain": [
       "None"
      ]
     },
     "metadata": {},
     "output_type": "display_data"
    },
    {
     "name": "stdout",
     "output_type": "stream",
     "text": [
      "100.000000 %completedBest Phi is : [-0.10195476+0.50435557j  0.63463714-0.10607179j -0.45215821-0.16499387j\n",
      " -0.29392314+0.05616339j]\n",
      "Theta estimate : 0.15624999999999997\n",
      "Current cost : 0.927734375\n",
      "\n",
      "COST : 0.927734375\n",
      "THETA : 0.15624999999999997\n",
      "Right : 0.16406249999999997\n",
      "Left : 0.14843749999999997\n",
      "ITERATION NUMBER 6 ...\n",
      "Job Status: job has successfully run\n"
     ]
    },
    {
     "data": {
      "text/plain": [
       "None"
      ]
     },
     "metadata": {},
     "output_type": "display_data"
    },
    {
     "name": "stdout",
     "output_type": "stream",
     "text": [
      "Job Status: job has successfully run\n"
     ]
    },
    {
     "data": {
      "text/plain": [
       "None"
      ]
     },
     "metadata": {},
     "output_type": "display_data"
    },
    {
     "name": "stdout",
     "output_type": "stream",
     "text": [
      "Job Status: job has successfully run\n"
     ]
    },
    {
     "data": {
      "text/plain": [
       "None"
      ]
     },
     "metadata": {},
     "output_type": "display_data"
    },
    {
     "name": "stdout",
     "output_type": "stream",
     "text": [
      "Job Status: job has successfully run\n"
     ]
    },
    {
     "data": {
      "text/plain": [
       "None"
      ]
     },
     "metadata": {},
     "output_type": "display_data"
    },
    {
     "name": "stdout",
     "output_type": "stream",
     "text": [
      "Job Status: job has successfully run\n"
     ]
    },
    {
     "data": {
      "text/plain": [
       "None"
      ]
     },
     "metadata": {},
     "output_type": "display_data"
    },
    {
     "name": "stdout",
     "output_type": "stream",
     "text": [
      "Job Status: job has successfully run\n"
     ]
    },
    {
     "data": {
      "text/plain": [
       "None"
      ]
     },
     "metadata": {},
     "output_type": "display_data"
    },
    {
     "name": "stdout",
     "output_type": "stream",
     "text": [
      "Job Status: job has successfully run\n"
     ]
    },
    {
     "data": {
      "text/plain": [
       "None"
      ]
     },
     "metadata": {},
     "output_type": "display_data"
    },
    {
     "name": "stdout",
     "output_type": "stream",
     "text": [
      "Job Status: job has successfully run\n"
     ]
    },
    {
     "data": {
      "text/plain": [
       "None"
      ]
     },
     "metadata": {},
     "output_type": "display_data"
    },
    {
     "name": "stdout",
     "output_type": "stream",
     "text": [
      "100.000000 %completedBest Phi is : [-0.07211141+0.50156146j  0.63219507-0.0798831j  -0.45760694-0.1963807j\n",
      " -0.27994455+0.10414266j]\n",
      "Theta estimate : 0.16406249999999997\n",
      "Current cost : 0.9375\n",
      "\n",
      "COST : 0.9375\n",
      "THETA : 0.16406249999999997\n",
      "Right : 0.16796874999999997\n",
      "Left : 0.16015624999999997\n",
      "ITERATION NUMBER 7 ...\n",
      "Job Status: job has successfully run\n"
     ]
    },
    {
     "data": {
      "text/plain": [
       "None"
      ]
     },
     "metadata": {},
     "output_type": "display_data"
    },
    {
     "name": "stdout",
     "output_type": "stream",
     "text": [
      "Job Status: job has successfully run\n"
     ]
    },
    {
     "data": {
      "text/plain": [
       "None"
      ]
     },
     "metadata": {},
     "output_type": "display_data"
    },
    {
     "name": "stdout",
     "output_type": "stream",
     "text": [
      "Job Status: job has successfully run\n"
     ]
    },
    {
     "data": {
      "text/plain": [
       "None"
      ]
     },
     "metadata": {},
     "output_type": "display_data"
    },
    {
     "name": "stdout",
     "output_type": "stream",
     "text": [
      "Job Status: job has successfully run\n"
     ]
    },
    {
     "data": {
      "text/plain": [
       "None"
      ]
     },
     "metadata": {},
     "output_type": "display_data"
    },
    {
     "name": "stdout",
     "output_type": "stream",
     "text": [
      "Job Status: job has successfully run\n"
     ]
    },
    {
     "data": {
      "text/plain": [
       "None"
      ]
     },
     "metadata": {},
     "output_type": "display_data"
    },
    {
     "name": "stdout",
     "output_type": "stream",
     "text": [
      "Job Status: job has successfully run\n"
     ]
    },
    {
     "data": {
      "text/plain": [
       "None"
      ]
     },
     "metadata": {},
     "output_type": "display_data"
    },
    {
     "name": "stdout",
     "output_type": "stream",
     "text": [
      "Job Status: job has successfully run\n"
     ]
    },
    {
     "data": {
      "text/plain": [
       "None"
      ]
     },
     "metadata": {},
     "output_type": "display_data"
    },
    {
     "name": "stdout",
     "output_type": "stream",
     "text": [
      "Job Status: job has successfully run\n"
     ]
    },
    {
     "data": {
      "text/plain": [
       "None"
      ]
     },
     "metadata": {},
     "output_type": "display_data"
    },
    {
     "name": "stdout",
     "output_type": "stream",
     "text": [
      "100.000000 %completedBest Phi is : [-0.0463054 +0.4971437j   0.62754983-0.05717016j -0.46041414-0.22242019j\n",
      " -0.26686121+0.14474083j]\n",
      "Theta estimate : 0.16796874999999997\n",
      "Current cost : 0.939453125\n",
      "\n",
      "COST : 0.939453125\n",
      "THETA : 0.16796874999999997\n",
      "Right : 0.16992187499999997\n",
      "Left : 0.16601562499999997\n",
      "ITERATION NUMBER 8 ...\n",
      "Job Status: job has successfully run\n"
     ]
    },
    {
     "data": {
      "text/plain": [
       "None"
      ]
     },
     "metadata": {},
     "output_type": "display_data"
    },
    {
     "name": "stdout",
     "output_type": "stream",
     "text": [
      "Job Status: job has successfully run\n"
     ]
    },
    {
     "data": {
      "text/plain": [
       "None"
      ]
     },
     "metadata": {},
     "output_type": "display_data"
    },
    {
     "name": "stdout",
     "output_type": "stream",
     "text": [
      "Job Status: job has successfully run\n"
     ]
    },
    {
     "data": {
      "text/plain": [
       "None"
      ]
     },
     "metadata": {},
     "output_type": "display_data"
    },
    {
     "name": "stdout",
     "output_type": "stream",
     "text": [
      "Job Status: job has successfully run\n"
     ]
    },
    {
     "data": {
      "text/plain": [
       "None"
      ]
     },
     "metadata": {},
     "output_type": "display_data"
    },
    {
     "name": "stdout",
     "output_type": "stream",
     "text": [
      "Job Status: job has successfully run\n"
     ]
    },
    {
     "data": {
      "text/plain": [
       "None"
      ]
     },
     "metadata": {},
     "output_type": "display_data"
    },
    {
     "name": "stdout",
     "output_type": "stream",
     "text": [
      "Job Status: job has successfully run\n"
     ]
    },
    {
     "data": {
      "text/plain": [
       "None"
      ]
     },
     "metadata": {},
     "output_type": "display_data"
    },
    {
     "name": "stdout",
     "output_type": "stream",
     "text": [
      "Job Status: job has successfully run\n"
     ]
    },
    {
     "data": {
      "text/plain": [
       "None"
      ]
     },
     "metadata": {},
     "output_type": "display_data"
    },
    {
     "name": "stdout",
     "output_type": "stream",
     "text": [
      "Job Status: job has successfully run\n"
     ]
    },
    {
     "data": {
      "text/plain": [
       "None"
      ]
     },
     "metadata": {},
     "output_type": "display_data"
    },
    {
     "name": "stdout",
     "output_type": "stream",
     "text": [
      "100.000000 %completedBest Phi is : [-0.02150873+0.4911971j   0.62093247-0.0352885j  -0.46149256-0.24650503j\n",
      " -0.25344304+0.18299424j]\n",
      "Theta estimate : 0.1671316964285714\n",
      "Current cost : 0.953125\n",
      "\n",
      "COST : 0.953125\n",
      "THETA : 0.1671316964285714\n",
      "Maximum iterations reached for the estimation.\n",
      "Terminating algorithm...\n",
      "Result with 15  resolution : {'cost': 0.953125, 'theta': 0.1671316964285714, 'state': array([-0.02150873+0.4911971j ,  0.62093247-0.0352885j ,\n",
      "       -0.46149256-0.24650503j, -0.25344304+0.18299424j])}\n",
      "Job Status: job has successfully run\n"
     ]
    },
    {
     "data": {
      "text/plain": [
       "None"
      ]
     },
     "metadata": {},
     "output_type": "display_data"
    },
    {
     "name": "stdout",
     "output_type": "stream",
     "text": [
      "Right : 0.5657894736842105\n",
      "Left : 0.06578947368421051\n",
      "ITERATION NUMBER 1 ...\n",
      "Job Status: job has successfully run\n"
     ]
    },
    {
     "data": {
      "text/plain": [
       "None"
      ]
     },
     "metadata": {},
     "output_type": "display_data"
    },
    {
     "name": "stdout",
     "output_type": "stream",
     "text": [
      "Job Status: job has successfully run\n"
     ]
    },
    {
     "data": {
      "text/plain": [
       "None"
      ]
     },
     "metadata": {},
     "output_type": "display_data"
    },
    {
     "name": "stdout",
     "output_type": "stream",
     "text": [
      "Job Status: job has successfully run\n"
     ]
    },
    {
     "data": {
      "text/plain": [
       "None"
      ]
     },
     "metadata": {},
     "output_type": "display_data"
    },
    {
     "name": "stdout",
     "output_type": "stream",
     "text": [
      "Job Status: job has successfully run\n"
     ]
    },
    {
     "data": {
      "text/plain": [
       "None"
      ]
     },
     "metadata": {},
     "output_type": "display_data"
    },
    {
     "name": "stdout",
     "output_type": "stream",
     "text": [
      "Job Status: job has successfully run\n"
     ]
    },
    {
     "data": {
      "text/plain": [
       "None"
      ]
     },
     "metadata": {},
     "output_type": "display_data"
    },
    {
     "name": "stdout",
     "output_type": "stream",
     "text": [
      "Job Status: job has successfully run\n"
     ]
    },
    {
     "data": {
      "text/plain": [
       "None"
      ]
     },
     "metadata": {},
     "output_type": "display_data"
    },
    {
     "name": "stdout",
     "output_type": "stream",
     "text": [
      "Job Status: job has successfully run\n"
     ]
    },
    {
     "data": {
      "text/plain": [
       "None"
      ]
     },
     "metadata": {},
     "output_type": "display_data"
    },
    {
     "name": "stdout",
     "output_type": "stream",
     "text": [
      "Job Status: job has successfully run\n"
     ]
    },
    {
     "data": {
      "text/plain": [
       "None"
      ]
     },
     "metadata": {},
     "output_type": "display_data"
    },
    {
     "name": "stdout",
     "output_type": "stream",
     "text": [
      "100.000000 %completedBest Phi is : [ 0.26686008+0.24013721j -0.64898379+0.12822082j -0.15305524+0.23536602j\n",
      " -0.371071  +0.46581383j]\n",
      "Theta estimate : 0.381578947368421\n",
      "Current cost : 0.87890625\n",
      "\n",
      "COST : 0.87890625\n",
      "THETA : 0.381578947368421\n",
      "Right : 0.506578947368421\n",
      "Left : 0.256578947368421\n",
      "ITERATION NUMBER 2 ...\n",
      "Job Status: job has successfully run\n"
     ]
    },
    {
     "data": {
      "text/plain": [
       "None"
      ]
     },
     "metadata": {},
     "output_type": "display_data"
    },
    {
     "name": "stdout",
     "output_type": "stream",
     "text": [
      "Job Status: job has successfully run\n"
     ]
    },
    {
     "data": {
      "text/plain": [
       "None"
      ]
     },
     "metadata": {},
     "output_type": "display_data"
    },
    {
     "name": "stdout",
     "output_type": "stream",
     "text": [
      "Job Status: job has successfully run\n"
     ]
    },
    {
     "data": {
      "text/plain": [
       "None"
      ]
     },
     "metadata": {},
     "output_type": "display_data"
    },
    {
     "name": "stdout",
     "output_type": "stream",
     "text": [
      "Job Status: job has successfully run\n"
     ]
    },
    {
     "data": {
      "text/plain": [
       "None"
      ]
     },
     "metadata": {},
     "output_type": "display_data"
    },
    {
     "name": "stdout",
     "output_type": "stream",
     "text": [
      "Job Status: job has successfully run\n"
     ]
    },
    {
     "data": {
      "text/plain": [
       "None"
      ]
     },
     "metadata": {},
     "output_type": "display_data"
    },
    {
     "name": "stdout",
     "output_type": "stream",
     "text": [
      "Job Status: job has successfully run\n"
     ]
    },
    {
     "data": {
      "text/plain": [
       "None"
      ]
     },
     "metadata": {},
     "output_type": "display_data"
    },
    {
     "name": "stdout",
     "output_type": "stream",
     "text": [
      "Job Status: job has successfully run\n"
     ]
    },
    {
     "data": {
      "text/plain": [
       "None"
      ]
     },
     "metadata": {},
     "output_type": "display_data"
    },
    {
     "name": "stdout",
     "output_type": "stream",
     "text": [
      "Job Status: job has successfully run\n"
     ]
    },
    {
     "data": {
      "text/plain": [
       "None"
      ]
     },
     "metadata": {},
     "output_type": "display_data"
    },
    {
     "name": "stdout",
     "output_type": "stream",
     "text": [
      "100.000000 %completed\n",
      "No change, updating a...\n",
      "\n",
      "COST : 0.87890625\n",
      "THETA : 0.381578947368421\n",
      "Right : 0.506578947368421\n",
      "Left : 0.256578947368421\n",
      "ITERATION NUMBER 3 ...\n",
      "Job Status: job has successfully run\n"
     ]
    },
    {
     "data": {
      "text/plain": [
       "None"
      ]
     },
     "metadata": {},
     "output_type": "display_data"
    },
    {
     "name": "stdout",
     "output_type": "stream",
     "text": [
      "Job Status: job has successfully run\n"
     ]
    },
    {
     "data": {
      "text/plain": [
       "None"
      ]
     },
     "metadata": {},
     "output_type": "display_data"
    },
    {
     "name": "stdout",
     "output_type": "stream",
     "text": [
      "Job Status: job has successfully run\n"
     ]
    },
    {
     "data": {
      "text/plain": [
       "None"
      ]
     },
     "metadata": {},
     "output_type": "display_data"
    },
    {
     "name": "stdout",
     "output_type": "stream",
     "text": [
      "Job Status: job has successfully run\n"
     ]
    },
    {
     "data": {
      "text/plain": [
       "None"
      ]
     },
     "metadata": {},
     "output_type": "display_data"
    },
    {
     "name": "stdout",
     "output_type": "stream",
     "text": [
      "Job Status: job has successfully run\n"
     ]
    },
    {
     "data": {
      "text/plain": [
       "None"
      ]
     },
     "metadata": {},
     "output_type": "display_data"
    },
    {
     "name": "stdout",
     "output_type": "stream",
     "text": [
      "Job Status: job has successfully run\n"
     ]
    },
    {
     "data": {
      "text/plain": [
       "None"
      ]
     },
     "metadata": {},
     "output_type": "display_data"
    },
    {
     "name": "stdout",
     "output_type": "stream",
     "text": [
      "Job Status: job has successfully run\n"
     ]
    },
    {
     "data": {
      "text/plain": [
       "None"
      ]
     },
     "metadata": {},
     "output_type": "display_data"
    },
    {
     "name": "stdout",
     "output_type": "stream",
     "text": [
      "Job Status: job has successfully run\n"
     ]
    },
    {
     "data": {
      "text/plain": [
       "None"
      ]
     },
     "metadata": {},
     "output_type": "display_data"
    },
    {
     "name": "stdout",
     "output_type": "stream",
     "text": [
      "100.000000 %completedBest Phi is : [ 0.28282816+0.24765885j -0.68120977+0.10877332j -0.15335183+0.22048267j\n",
      " -0.3352216 +0.44529993j]\n",
      "Theta estimate : 0.36184210526315785\n",
      "Current cost : 0.88671875\n",
      "\n",
      "COST : 0.88671875\n",
      "THETA : 0.36184210526315785\n",
      "Right : 0.42434210526315785\n",
      "Left : 0.29934210526315785\n",
      "ITERATION NUMBER 4 ...\n",
      "Job Status: job has successfully run\n"
     ]
    },
    {
     "data": {
      "text/plain": [
       "None"
      ]
     },
     "metadata": {},
     "output_type": "display_data"
    },
    {
     "name": "stdout",
     "output_type": "stream",
     "text": [
      "Job Status: job has successfully run\n"
     ]
    },
    {
     "data": {
      "text/plain": [
       "None"
      ]
     },
     "metadata": {},
     "output_type": "display_data"
    },
    {
     "name": "stdout",
     "output_type": "stream",
     "text": [
      "Job Status: job has successfully run\n"
     ]
    },
    {
     "data": {
      "text/plain": [
       "None"
      ]
     },
     "metadata": {},
     "output_type": "display_data"
    },
    {
     "name": "stdout",
     "output_type": "stream",
     "text": [
      "Job Status: job has successfully run\n"
     ]
    },
    {
     "data": {
      "text/plain": [
       "None"
      ]
     },
     "metadata": {},
     "output_type": "display_data"
    },
    {
     "name": "stdout",
     "output_type": "stream",
     "text": [
      "Job Status: job has successfully run\n"
     ]
    },
    {
     "data": {
      "text/plain": [
       "None"
      ]
     },
     "metadata": {},
     "output_type": "display_data"
    },
    {
     "name": "stdout",
     "output_type": "stream",
     "text": [
      "Job Status: job has successfully run\n"
     ]
    },
    {
     "data": {
      "text/plain": [
       "None"
      ]
     },
     "metadata": {},
     "output_type": "display_data"
    },
    {
     "name": "stdout",
     "output_type": "stream",
     "text": [
      "Job Status: job has successfully run\n"
     ]
    },
    {
     "data": {
      "text/plain": [
       "None"
      ]
     },
     "metadata": {},
     "output_type": "display_data"
    },
    {
     "name": "stdout",
     "output_type": "stream",
     "text": [
      "Job Status: job has successfully run\n"
     ]
    },
    {
     "data": {
      "text/plain": [
       "None"
      ]
     },
     "metadata": {},
     "output_type": "display_data"
    },
    {
     "name": "stdout",
     "output_type": "stream",
     "text": [
      "100.000000 %completedBest Phi is : [ 0.28763679+0.23011478j -0.69282837+0.1388074j  -0.1653725 +0.21900362j\n",
      " -0.35041831+0.40857065j]\n",
      "Theta estimate : 0.3322368421052631\n",
      "Current cost : 0.896484375\n",
      "\n",
      "COST : 0.896484375\n",
      "THETA : 0.3322368421052631\n",
      "Right : 0.3634868421052631\n",
      "Left : 0.3009868421052631\n",
      "ITERATION NUMBER 5 ...\n",
      "Job Status: job has successfully run\n"
     ]
    },
    {
     "data": {
      "text/plain": [
       "None"
      ]
     },
     "metadata": {},
     "output_type": "display_data"
    },
    {
     "name": "stdout",
     "output_type": "stream",
     "text": [
      "Job Status: job has successfully run\n"
     ]
    },
    {
     "data": {
      "text/plain": [
       "None"
      ]
     },
     "metadata": {},
     "output_type": "display_data"
    },
    {
     "name": "stdout",
     "output_type": "stream",
     "text": [
      "Job Status: job has successfully run\n"
     ]
    },
    {
     "data": {
      "text/plain": [
       "None"
      ]
     },
     "metadata": {},
     "output_type": "display_data"
    },
    {
     "name": "stdout",
     "output_type": "stream",
     "text": [
      "Job Status: job has successfully run\n"
     ]
    },
    {
     "data": {
      "text/plain": [
       "None"
      ]
     },
     "metadata": {},
     "output_type": "display_data"
    },
    {
     "name": "stdout",
     "output_type": "stream",
     "text": [
      "Job Status: job has successfully run\n"
     ]
    },
    {
     "data": {
      "text/plain": [
       "None"
      ]
     },
     "metadata": {},
     "output_type": "display_data"
    },
    {
     "name": "stdout",
     "output_type": "stream",
     "text": [
      "Job Status: job has successfully run\n"
     ]
    },
    {
     "data": {
      "text/plain": [
       "None"
      ]
     },
     "metadata": {},
     "output_type": "display_data"
    },
    {
     "name": "stdout",
     "output_type": "stream",
     "text": [
      "Job Status: job has successfully run\n"
     ]
    },
    {
     "data": {
      "text/plain": [
       "None"
      ]
     },
     "metadata": {},
     "output_type": "display_data"
    },
    {
     "name": "stdout",
     "output_type": "stream",
     "text": [
      "Job Status: job has successfully run\n"
     ]
    },
    {
     "data": {
      "text/plain": [
       "None"
      ]
     },
     "metadata": {},
     "output_type": "display_data"
    },
    {
     "name": "stdout",
     "output_type": "stream",
     "text": [
      "100.000000 %completed\n",
      "No change, updating a...\n",
      "\n",
      "COST : 0.896484375\n",
      "THETA : 0.3322368421052631\n",
      "Right : 0.3634868421052631\n",
      "Left : 0.3009868421052631\n",
      "ITERATION NUMBER 6 ...\n",
      "Job Status: job has successfully run\n"
     ]
    },
    {
     "data": {
      "text/plain": [
       "None"
      ]
     },
     "metadata": {},
     "output_type": "display_data"
    },
    {
     "name": "stdout",
     "output_type": "stream",
     "text": [
      "Job Status: job has successfully run\n"
     ]
    },
    {
     "data": {
      "text/plain": [
       "None"
      ]
     },
     "metadata": {},
     "output_type": "display_data"
    },
    {
     "name": "stdout",
     "output_type": "stream",
     "text": [
      "Job Status: job has successfully run\n"
     ]
    },
    {
     "data": {
      "text/plain": [
       "None"
      ]
     },
     "metadata": {},
     "output_type": "display_data"
    },
    {
     "name": "stdout",
     "output_type": "stream",
     "text": [
      "Job Status: job has successfully run\n"
     ]
    },
    {
     "data": {
      "text/plain": [
       "None"
      ]
     },
     "metadata": {},
     "output_type": "display_data"
    },
    {
     "name": "stdout",
     "output_type": "stream",
     "text": [
      "Job Status: job has successfully run\n"
     ]
    },
    {
     "data": {
      "text/plain": [
       "None"
      ]
     },
     "metadata": {},
     "output_type": "display_data"
    },
    {
     "name": "stdout",
     "output_type": "stream",
     "text": [
      "Job Status: job has successfully run\n"
     ]
    },
    {
     "data": {
      "text/plain": [
       "None"
      ]
     },
     "metadata": {},
     "output_type": "display_data"
    },
    {
     "name": "stdout",
     "output_type": "stream",
     "text": [
      "Job Status: job has successfully run\n"
     ]
    },
    {
     "data": {
      "text/plain": [
       "None"
      ]
     },
     "metadata": {},
     "output_type": "display_data"
    },
    {
     "name": "stdout",
     "output_type": "stream",
     "text": [
      "Job Status: job has successfully run\n"
     ]
    },
    {
     "data": {
      "text/plain": [
       "None"
      ]
     },
     "metadata": {},
     "output_type": "display_data"
    },
    {
     "name": "stdout",
     "output_type": "stream",
     "text": [
      "100.000000 %completed\n",
      "No change, updating a...\n",
      "\n",
      "COST : 0.896484375\n",
      "THETA : 0.3322368421052631\n",
      "Right : 0.3634868421052631\n",
      "Left : 0.3009868421052631\n",
      "ITERATION NUMBER 7 ...\n",
      "Job Status: job has successfully run\n"
     ]
    },
    {
     "data": {
      "text/plain": [
       "None"
      ]
     },
     "metadata": {},
     "output_type": "display_data"
    },
    {
     "name": "stdout",
     "output_type": "stream",
     "text": [
      "Job Status: job has successfully run\n"
     ]
    },
    {
     "data": {
      "text/plain": [
       "None"
      ]
     },
     "metadata": {},
     "output_type": "display_data"
    },
    {
     "name": "stdout",
     "output_type": "stream",
     "text": [
      "Job Status: job has successfully run\n"
     ]
    },
    {
     "data": {
      "text/plain": [
       "None"
      ]
     },
     "metadata": {},
     "output_type": "display_data"
    },
    {
     "name": "stdout",
     "output_type": "stream",
     "text": [
      "Job Status: job has successfully run\n"
     ]
    },
    {
     "data": {
      "text/plain": [
       "None"
      ]
     },
     "metadata": {},
     "output_type": "display_data"
    },
    {
     "name": "stdout",
     "output_type": "stream",
     "text": [
      "Job Status: job has successfully run\n"
     ]
    },
    {
     "data": {
      "text/plain": [
       "None"
      ]
     },
     "metadata": {},
     "output_type": "display_data"
    },
    {
     "name": "stdout",
     "output_type": "stream",
     "text": [
      "Job Status: job has successfully run\n"
     ]
    },
    {
     "data": {
      "text/plain": [
       "None"
      ]
     },
     "metadata": {},
     "output_type": "display_data"
    },
    {
     "name": "stdout",
     "output_type": "stream",
     "text": [
      "Job Status: job has successfully run\n"
     ]
    },
    {
     "data": {
      "text/plain": [
       "None"
      ]
     },
     "metadata": {},
     "output_type": "display_data"
    },
    {
     "name": "stdout",
     "output_type": "stream",
     "text": [
      "Job Status: job has successfully run\n"
     ]
    },
    {
     "data": {
      "text/plain": [
       "None"
      ]
     },
     "metadata": {},
     "output_type": "display_data"
    },
    {
     "name": "stdout",
     "output_type": "stream",
     "text": [
      "100.000000 %completed\n",
      "No change, updating a...\n",
      "\n",
      "COST : 0.896484375\n",
      "THETA : 0.3322368421052631\n",
      "Right : 0.3634868421052631\n",
      "Left : 0.3009868421052631\n",
      "ITERATION NUMBER 8 ...\n",
      "Job Status: job has successfully run\n"
     ]
    },
    {
     "data": {
      "text/plain": [
       "None"
      ]
     },
     "metadata": {},
     "output_type": "display_data"
    },
    {
     "name": "stdout",
     "output_type": "stream",
     "text": [
      "Job Status: job has successfully run\n"
     ]
    },
    {
     "data": {
      "text/plain": [
       "None"
      ]
     },
     "metadata": {},
     "output_type": "display_data"
    },
    {
     "name": "stdout",
     "output_type": "stream",
     "text": [
      "Job Status: job has successfully run\n"
     ]
    },
    {
     "data": {
      "text/plain": [
       "None"
      ]
     },
     "metadata": {},
     "output_type": "display_data"
    },
    {
     "name": "stdout",
     "output_type": "stream",
     "text": [
      "Job Status: job has successfully run\n"
     ]
    },
    {
     "data": {
      "text/plain": [
       "None"
      ]
     },
     "metadata": {},
     "output_type": "display_data"
    },
    {
     "name": "stdout",
     "output_type": "stream",
     "text": [
      "Job Status: job has successfully run\n"
     ]
    },
    {
     "data": {
      "text/plain": [
       "None"
      ]
     },
     "metadata": {},
     "output_type": "display_data"
    },
    {
     "name": "stdout",
     "output_type": "stream",
     "text": [
      "Job Status: job has successfully run\n"
     ]
    },
    {
     "data": {
      "text/plain": [
       "None"
      ]
     },
     "metadata": {},
     "output_type": "display_data"
    },
    {
     "name": "stdout",
     "output_type": "stream",
     "text": [
      "Job Status: job has successfully run\n"
     ]
    },
    {
     "data": {
      "text/plain": [
       "None"
      ]
     },
     "metadata": {},
     "output_type": "display_data"
    },
    {
     "name": "stdout",
     "output_type": "stream",
     "text": [
      "Job Status: job has successfully run\n"
     ]
    },
    {
     "data": {
      "text/plain": [
       "None"
      ]
     },
     "metadata": {},
     "output_type": "display_data"
    },
    {
     "name": "stdout",
     "output_type": "stream",
     "text": [
      "100.000000 %completed\n",
      "No change, updating a...\n",
      "\n",
      "COST : 0.896484375\n",
      "THETA : 0.3322368421052631\n",
      "Maximum iterations reached for the estimation.\n",
      "Terminating algorithm...\n",
      "Result with 20  resolution : {'cost': 0.896484375, 'theta': 0.3322368421052631, 'state': array([ 0.28763679+0.23011478j, -0.69282837+0.1388074j ,\n",
      "       -0.1653725 +0.21900362j, -0.35041831+0.40857065j])}\n",
      "Job Status: job has successfully run\n"
     ]
    },
    {
     "data": {
      "text/plain": [
       "None"
      ]
     },
     "metadata": {},
     "output_type": "display_data"
    },
    {
     "name": "stdout",
     "output_type": "stream",
     "text": [
      "Right : 0.7083333333333333\n",
      "Left : 0.20833333333333331\n",
      "ITERATION NUMBER 1 ...\n",
      "Job Status: job has successfully run\n"
     ]
    },
    {
     "data": {
      "text/plain": [
       "None"
      ]
     },
     "metadata": {},
     "output_type": "display_data"
    },
    {
     "name": "stdout",
     "output_type": "stream",
     "text": [
      "Job Status: job has successfully run\n"
     ]
    },
    {
     "data": {
      "text/plain": [
       "None"
      ]
     },
     "metadata": {},
     "output_type": "display_data"
    },
    {
     "name": "stdout",
     "output_type": "stream",
     "text": [
      "Job Status: job has successfully run\n"
     ]
    },
    {
     "data": {
      "text/plain": [
       "None"
      ]
     },
     "metadata": {},
     "output_type": "display_data"
    },
    {
     "name": "stdout",
     "output_type": "stream",
     "text": [
      "Job Status: job has successfully run\n"
     ]
    },
    {
     "data": {
      "text/plain": [
       "None"
      ]
     },
     "metadata": {},
     "output_type": "display_data"
    },
    {
     "name": "stdout",
     "output_type": "stream",
     "text": [
      "Job Status: job has successfully run\n"
     ]
    },
    {
     "data": {
      "text/plain": [
       "None"
      ]
     },
     "metadata": {},
     "output_type": "display_data"
    },
    {
     "name": "stdout",
     "output_type": "stream",
     "text": [
      "Job Status: job has successfully run\n"
     ]
    },
    {
     "data": {
      "text/plain": [
       "None"
      ]
     },
     "metadata": {},
     "output_type": "display_data"
    },
    {
     "name": "stdout",
     "output_type": "stream",
     "text": [
      "Job Status: job has successfully run\n"
     ]
    },
    {
     "data": {
      "text/plain": [
       "None"
      ]
     },
     "metadata": {},
     "output_type": "display_data"
    },
    {
     "name": "stdout",
     "output_type": "stream",
     "text": [
      "Job Status: job has successfully run\n"
     ]
    },
    {
     "data": {
      "text/plain": [
       "None"
      ]
     },
     "metadata": {},
     "output_type": "display_data"
    },
    {
     "name": "stdout",
     "output_type": "stream",
     "text": [
      "100.000000 %completedBest Phi is : [-0.34072166-0.29118282j  0.5337568 -0.04830108j  0.46649264+0.0348837j\n",
      "  0.3966103 +0.36845626j]\n",
      "Theta estimate : 0.4583333333333333\n",
      "Current cost : 0.98046875\n",
      "\n",
      "COST : 0.98046875\n",
      "THETA : 0.4583333333333333\n",
      "Right : 0.5833333333333333\n",
      "Left : 0.3333333333333333\n",
      "ITERATION NUMBER 2 ...\n",
      "Job Status: job has successfully run\n"
     ]
    },
    {
     "data": {
      "text/plain": [
       "None"
      ]
     },
     "metadata": {},
     "output_type": "display_data"
    },
    {
     "name": "stdout",
     "output_type": "stream",
     "text": [
      "Job Status: job has successfully run\n"
     ]
    },
    {
     "data": {
      "text/plain": [
       "None"
      ]
     },
     "metadata": {},
     "output_type": "display_data"
    },
    {
     "name": "stdout",
     "output_type": "stream",
     "text": [
      "Job Status: job has successfully run\n"
     ]
    },
    {
     "data": {
      "text/plain": [
       "None"
      ]
     },
     "metadata": {},
     "output_type": "display_data"
    },
    {
     "name": "stdout",
     "output_type": "stream",
     "text": [
      "Job Status: job has successfully run\n"
     ]
    },
    {
     "data": {
      "text/plain": [
       "None"
      ]
     },
     "metadata": {},
     "output_type": "display_data"
    },
    {
     "name": "stdout",
     "output_type": "stream",
     "text": [
      "Job Status: job has successfully run\n"
     ]
    },
    {
     "data": {
      "text/plain": [
       "None"
      ]
     },
     "metadata": {},
     "output_type": "display_data"
    },
    {
     "name": "stdout",
     "output_type": "stream",
     "text": [
      "Job Status: job has successfully run\n"
     ]
    },
    {
     "data": {
      "text/plain": [
       "None"
      ]
     },
     "metadata": {},
     "output_type": "display_data"
    },
    {
     "name": "stdout",
     "output_type": "stream",
     "text": [
      "Job Status: job has successfully run\n"
     ]
    },
    {
     "data": {
      "text/plain": [
       "None"
      ]
     },
     "metadata": {},
     "output_type": "display_data"
    },
    {
     "name": "stdout",
     "output_type": "stream",
     "text": [
      "Job Status: job has successfully run\n"
     ]
    },
    {
     "data": {
      "text/plain": [
       "None"
      ]
     },
     "metadata": {},
     "output_type": "display_data"
    },
    {
     "name": "stdout",
     "output_type": "stream",
     "text": [
      "100.000000 %completed\n",
      "No change, updating a...\n",
      "\n",
      "COST : 0.98046875\n",
      "THETA : 0.4583333333333333\n",
      "Right : 0.5833333333333333\n",
      "Left : 0.3333333333333333\n",
      "ITERATION NUMBER 3 ...\n",
      "Job Status: job has successfully run\n"
     ]
    },
    {
     "data": {
      "text/plain": [
       "None"
      ]
     },
     "metadata": {},
     "output_type": "display_data"
    },
    {
     "name": "stdout",
     "output_type": "stream",
     "text": [
      "Job Status: job has successfully run\n"
     ]
    },
    {
     "data": {
      "text/plain": [
       "None"
      ]
     },
     "metadata": {},
     "output_type": "display_data"
    },
    {
     "name": "stdout",
     "output_type": "stream",
     "text": [
      "Job Status: job has successfully run\n"
     ]
    },
    {
     "data": {
      "text/plain": [
       "None"
      ]
     },
     "metadata": {},
     "output_type": "display_data"
    },
    {
     "name": "stdout",
     "output_type": "stream",
     "text": [
      "Job Status: job has successfully run\n"
     ]
    },
    {
     "data": {
      "text/plain": [
       "None"
      ]
     },
     "metadata": {},
     "output_type": "display_data"
    },
    {
     "name": "stdout",
     "output_type": "stream",
     "text": [
      "Job Status: job has successfully run\n"
     ]
    },
    {
     "data": {
      "text/plain": [
       "None"
      ]
     },
     "metadata": {},
     "output_type": "display_data"
    },
    {
     "name": "stdout",
     "output_type": "stream",
     "text": [
      "Job Status: job has successfully run\n"
     ]
    },
    {
     "data": {
      "text/plain": [
       "None"
      ]
     },
     "metadata": {},
     "output_type": "display_data"
    },
    {
     "name": "stdout",
     "output_type": "stream",
     "text": [
      "Job Status: job has successfully run\n"
     ]
    },
    {
     "data": {
      "text/plain": [
       "None"
      ]
     },
     "metadata": {},
     "output_type": "display_data"
    },
    {
     "name": "stdout",
     "output_type": "stream",
     "text": [
      "Job Status: job has successfully run\n"
     ]
    },
    {
     "data": {
      "text/plain": [
       "None"
      ]
     },
     "metadata": {},
     "output_type": "display_data"
    },
    {
     "name": "stdout",
     "output_type": "stream",
     "text": [
      "100.000000 %completed\n",
      "No change, updating a...\n",
      "\n",
      "COST : 0.98046875\n",
      "THETA : 0.4583333333333333\n",
      "Right : 0.5833333333333333\n",
      "Left : 0.3333333333333333\n",
      "ITERATION NUMBER 4 ...\n",
      "Job Status: job has successfully run\n"
     ]
    },
    {
     "data": {
      "text/plain": [
       "None"
      ]
     },
     "metadata": {},
     "output_type": "display_data"
    },
    {
     "name": "stdout",
     "output_type": "stream",
     "text": [
      "Job Status: job has successfully run\n"
     ]
    },
    {
     "data": {
      "text/plain": [
       "None"
      ]
     },
     "metadata": {},
     "output_type": "display_data"
    },
    {
     "name": "stdout",
     "output_type": "stream",
     "text": [
      "Job Status: job has successfully run\n"
     ]
    },
    {
     "data": {
      "text/plain": [
       "None"
      ]
     },
     "metadata": {},
     "output_type": "display_data"
    },
    {
     "name": "stdout",
     "output_type": "stream",
     "text": [
      "Job Status: job has successfully run\n"
     ]
    },
    {
     "data": {
      "text/plain": [
       "None"
      ]
     },
     "metadata": {},
     "output_type": "display_data"
    },
    {
     "name": "stdout",
     "output_type": "stream",
     "text": [
      "Job Status: job has successfully run\n"
     ]
    },
    {
     "data": {
      "text/plain": [
       "None"
      ]
     },
     "metadata": {},
     "output_type": "display_data"
    },
    {
     "name": "stdout",
     "output_type": "stream",
     "text": [
      "Job Status: job has successfully run\n"
     ]
    },
    {
     "data": {
      "text/plain": [
       "None"
      ]
     },
     "metadata": {},
     "output_type": "display_data"
    },
    {
     "name": "stdout",
     "output_type": "stream",
     "text": [
      "Job Status: job has successfully run\n"
     ]
    },
    {
     "data": {
      "text/plain": [
       "None"
      ]
     },
     "metadata": {},
     "output_type": "display_data"
    },
    {
     "name": "stdout",
     "output_type": "stream",
     "text": [
      "Job Status: job has successfully run\n"
     ]
    },
    {
     "data": {
      "text/plain": [
       "None"
      ]
     },
     "metadata": {},
     "output_type": "display_data"
    },
    {
     "name": "stdout",
     "output_type": "stream",
     "text": [
      "100.000000 %completed\n",
      "No change, updating a...\n",
      "\n",
      "COST : 0.98046875\n",
      "THETA : 0.4583333333333333\n",
      "Right : 0.5833333333333333\n",
      "Left : 0.3333333333333333\n",
      "ITERATION NUMBER 5 ...\n",
      "Job Status: job has successfully run\n"
     ]
    },
    {
     "data": {
      "text/plain": [
       "None"
      ]
     },
     "metadata": {},
     "output_type": "display_data"
    },
    {
     "name": "stdout",
     "output_type": "stream",
     "text": [
      "Job Status: job has successfully run\n"
     ]
    },
    {
     "data": {
      "text/plain": [
       "None"
      ]
     },
     "metadata": {},
     "output_type": "display_data"
    },
    {
     "name": "stdout",
     "output_type": "stream",
     "text": [
      "Job Status: job has successfully run\n"
     ]
    },
    {
     "data": {
      "text/plain": [
       "None"
      ]
     },
     "metadata": {},
     "output_type": "display_data"
    },
    {
     "name": "stdout",
     "output_type": "stream",
     "text": [
      "Job Status: job has successfully run\n"
     ]
    },
    {
     "data": {
      "text/plain": [
       "None"
      ]
     },
     "metadata": {},
     "output_type": "display_data"
    },
    {
     "name": "stdout",
     "output_type": "stream",
     "text": [
      "Job Status: job has successfully run\n"
     ]
    },
    {
     "data": {
      "text/plain": [
       "None"
      ]
     },
     "metadata": {},
     "output_type": "display_data"
    },
    {
     "name": "stdout",
     "output_type": "stream",
     "text": [
      "Job Status: job has successfully run\n"
     ]
    },
    {
     "data": {
      "text/plain": [
       "None"
      ]
     },
     "metadata": {},
     "output_type": "display_data"
    },
    {
     "name": "stdout",
     "output_type": "stream",
     "text": [
      "Job Status: job has successfully run\n"
     ]
    },
    {
     "data": {
      "text/plain": [
       "None"
      ]
     },
     "metadata": {},
     "output_type": "display_data"
    },
    {
     "name": "stdout",
     "output_type": "stream",
     "text": [
      "Job Status: job has successfully run\n"
     ]
    },
    {
     "data": {
      "text/plain": [
       "None"
      ]
     },
     "metadata": {},
     "output_type": "display_data"
    },
    {
     "name": "stdout",
     "output_type": "stream",
     "text": [
      "100.000000 %completed\n",
      "No change, updating a...\n",
      "\n",
      "COST : 0.98046875\n",
      "THETA : 0.4583333333333333\n",
      "Right : 0.5833333333333333\n",
      "Left : 0.3333333333333333\n",
      "ITERATION NUMBER 6 ...\n",
      "Job Status: job has successfully run\n"
     ]
    },
    {
     "data": {
      "text/plain": [
       "None"
      ]
     },
     "metadata": {},
     "output_type": "display_data"
    },
    {
     "name": "stdout",
     "output_type": "stream",
     "text": [
      "Job Status: job has successfully run\n"
     ]
    },
    {
     "data": {
      "text/plain": [
       "None"
      ]
     },
     "metadata": {},
     "output_type": "display_data"
    },
    {
     "name": "stdout",
     "output_type": "stream",
     "text": [
      "Job Status: job has successfully run\n"
     ]
    },
    {
     "data": {
      "text/plain": [
       "None"
      ]
     },
     "metadata": {},
     "output_type": "display_data"
    },
    {
     "name": "stdout",
     "output_type": "stream",
     "text": [
      "Job Status: job has successfully run\n"
     ]
    },
    {
     "data": {
      "text/plain": [
       "None"
      ]
     },
     "metadata": {},
     "output_type": "display_data"
    },
    {
     "name": "stdout",
     "output_type": "stream",
     "text": [
      "Job Status: job has successfully run\n"
     ]
    },
    {
     "data": {
      "text/plain": [
       "None"
      ]
     },
     "metadata": {},
     "output_type": "display_data"
    },
    {
     "name": "stdout",
     "output_type": "stream",
     "text": [
      "Job Status: job has successfully run\n"
     ]
    },
    {
     "data": {
      "text/plain": [
       "None"
      ]
     },
     "metadata": {},
     "output_type": "display_data"
    },
    {
     "name": "stdout",
     "output_type": "stream",
     "text": [
      "Job Status: job has successfully run\n"
     ]
    },
    {
     "data": {
      "text/plain": [
       "None"
      ]
     },
     "metadata": {},
     "output_type": "display_data"
    },
    {
     "name": "stdout",
     "output_type": "stream",
     "text": [
      "Job Status: job has successfully run\n"
     ]
    },
    {
     "data": {
      "text/plain": [
       "None"
      ]
     },
     "metadata": {},
     "output_type": "display_data"
    },
    {
     "name": "stdout",
     "output_type": "stream",
     "text": [
      "100.000000 %completedBest Phi is : [-0.34123575-0.29097881j  0.53346493-0.04895032j  0.46644492+0.03552011j\n",
      "  0.39626744+0.36884698j]\n",
      "Theta estimate : 0.46874999999999994\n",
      "Current cost : 0.982421875\n",
      "\n",
      "COST : 0.982421875\n",
      "THETA : 0.46874999999999994\n",
      "Right : 0.53125\n",
      "Left : 0.40624999999999994\n",
      "ITERATION NUMBER 7 ...\n",
      "Job Status: job has successfully run\n"
     ]
    },
    {
     "data": {
      "text/plain": [
       "None"
      ]
     },
     "metadata": {},
     "output_type": "display_data"
    },
    {
     "name": "stdout",
     "output_type": "stream",
     "text": [
      "Job Status: job has successfully run\n"
     ]
    },
    {
     "data": {
      "text/plain": [
       "None"
      ]
     },
     "metadata": {},
     "output_type": "display_data"
    },
    {
     "name": "stdout",
     "output_type": "stream",
     "text": [
      "Job Status: job has successfully run\n"
     ]
    },
    {
     "data": {
      "text/plain": [
       "None"
      ]
     },
     "metadata": {},
     "output_type": "display_data"
    },
    {
     "name": "stdout",
     "output_type": "stream",
     "text": [
      "Job Status: job has successfully run\n"
     ]
    },
    {
     "data": {
      "text/plain": [
       "None"
      ]
     },
     "metadata": {},
     "output_type": "display_data"
    },
    {
     "name": "stdout",
     "output_type": "stream",
     "text": [
      "Job Status: job has successfully run\n"
     ]
    },
    {
     "data": {
      "text/plain": [
       "None"
      ]
     },
     "metadata": {},
     "output_type": "display_data"
    },
    {
     "name": "stdout",
     "output_type": "stream",
     "text": [
      "Job Status: job has successfully run\n"
     ]
    },
    {
     "data": {
      "text/plain": [
       "None"
      ]
     },
     "metadata": {},
     "output_type": "display_data"
    },
    {
     "name": "stdout",
     "output_type": "stream",
     "text": [
      "Job Status: job has successfully run\n"
     ]
    },
    {
     "data": {
      "text/plain": [
       "None"
      ]
     },
     "metadata": {},
     "output_type": "display_data"
    },
    {
     "name": "stdout",
     "output_type": "stream",
     "text": [
      "Job Status: job has successfully run\n"
     ]
    },
    {
     "data": {
      "text/plain": [
       "None"
      ]
     },
     "metadata": {},
     "output_type": "display_data"
    },
    {
     "name": "stdout",
     "output_type": "stream",
     "text": [
      "100.000000 %completed\n",
      "No change, updating a...\n",
      "\n",
      "COST : 0.982421875\n",
      "THETA : 0.46874999999999994\n",
      "Right : 0.53125\n",
      "Left : 0.40624999999999994\n",
      "ITERATION NUMBER 8 ...\n",
      "Job Status: job has successfully run\n"
     ]
    },
    {
     "data": {
      "text/plain": [
       "None"
      ]
     },
     "metadata": {},
     "output_type": "display_data"
    },
    {
     "name": "stdout",
     "output_type": "stream",
     "text": [
      "Job Status: job has successfully run\n"
     ]
    },
    {
     "data": {
      "text/plain": [
       "None"
      ]
     },
     "metadata": {},
     "output_type": "display_data"
    },
    {
     "name": "stdout",
     "output_type": "stream",
     "text": [
      "Job Status: job has successfully run\n"
     ]
    },
    {
     "data": {
      "text/plain": [
       "None"
      ]
     },
     "metadata": {},
     "output_type": "display_data"
    },
    {
     "name": "stdout",
     "output_type": "stream",
     "text": [
      "Job Status: job has successfully run\n"
     ]
    },
    {
     "data": {
      "text/plain": [
       "None"
      ]
     },
     "metadata": {},
     "output_type": "display_data"
    },
    {
     "name": "stdout",
     "output_type": "stream",
     "text": [
      "Job Status: job has successfully run\n"
     ]
    },
    {
     "data": {
      "text/plain": [
       "None"
      ]
     },
     "metadata": {},
     "output_type": "display_data"
    },
    {
     "name": "stdout",
     "output_type": "stream",
     "text": [
      "Job Status: job has successfully run\n"
     ]
    },
    {
     "data": {
      "text/plain": [
       "None"
      ]
     },
     "metadata": {},
     "output_type": "display_data"
    },
    {
     "name": "stdout",
     "output_type": "stream",
     "text": [
      "Job Status: job has successfully run\n"
     ]
    },
    {
     "data": {
      "text/plain": [
       "None"
      ]
     },
     "metadata": {},
     "output_type": "display_data"
    },
    {
     "name": "stdout",
     "output_type": "stream",
     "text": [
      "Job Status: job has successfully run\n"
     ]
    },
    {
     "data": {
      "text/plain": [
       "None"
      ]
     },
     "metadata": {},
     "output_type": "display_data"
    },
    {
     "name": "stdout",
     "output_type": "stream",
     "text": [
      "100.000000 %completedBest Phi is : [-0.34126038-0.29065875j  0.53367414-0.04881405j  0.46619073+0.03569722j\n",
      "  0.39646496+0.36888398j]\n",
      "Theta estimate : 0.45312499999999994\n",
      "Current cost : 0.984375\n",
      "\n",
      "COST : 0.984375\n",
      "THETA : 0.45312499999999994\n",
      "Maximum iterations reached for the estimation.\n",
      "Terminating algorithm...\n",
      "Result with 25  resolution : {'cost': 0.984375, 'theta': 0.45312499999999994, 'state': array([-0.34126038-0.29065875j,  0.53367414-0.04881405j,\n",
      "        0.46619073+0.03569722j,  0.39646496+0.36888398j])}\n",
      "Job Status: job has successfully run\n"
     ]
    },
    {
     "data": {
      "text/plain": [
       "None"
      ]
     },
     "metadata": {},
     "output_type": "display_data"
    },
    {
     "name": "stdout",
     "output_type": "stream",
     "text": [
      "Right : 0.5603448275862069\n",
      "Left : 0.060344827586206906\n",
      "ITERATION NUMBER 1 ...\n",
      "Job Status: job has successfully run\n"
     ]
    },
    {
     "data": {
      "text/plain": [
       "None"
      ]
     },
     "metadata": {},
     "output_type": "display_data"
    },
    {
     "name": "stdout",
     "output_type": "stream",
     "text": [
      "Job Status: job has successfully run\n"
     ]
    },
    {
     "data": {
      "text/plain": [
       "None"
      ]
     },
     "metadata": {},
     "output_type": "display_data"
    },
    {
     "name": "stdout",
     "output_type": "stream",
     "text": [
      "Job Status: job has successfully run\n"
     ]
    },
    {
     "data": {
      "text/plain": [
       "None"
      ]
     },
     "metadata": {},
     "output_type": "display_data"
    },
    {
     "name": "stdout",
     "output_type": "stream",
     "text": [
      "Job Status: job has successfully run\n"
     ]
    },
    {
     "data": {
      "text/plain": [
       "None"
      ]
     },
     "metadata": {},
     "output_type": "display_data"
    },
    {
     "name": "stdout",
     "output_type": "stream",
     "text": [
      "Job Status: job has successfully run\n"
     ]
    },
    {
     "data": {
      "text/plain": [
       "None"
      ]
     },
     "metadata": {},
     "output_type": "display_data"
    },
    {
     "name": "stdout",
     "output_type": "stream",
     "text": [
      "Job Status: job has successfully run\n"
     ]
    },
    {
     "data": {
      "text/plain": [
       "None"
      ]
     },
     "metadata": {},
     "output_type": "display_data"
    },
    {
     "name": "stdout",
     "output_type": "stream",
     "text": [
      "Job Status: job has successfully run\n"
     ]
    },
    {
     "data": {
      "text/plain": [
       "None"
      ]
     },
     "metadata": {},
     "output_type": "display_data"
    },
    {
     "name": "stdout",
     "output_type": "stream",
     "text": [
      "Job Status: job has successfully run\n"
     ]
    },
    {
     "data": {
      "text/plain": [
       "None"
      ]
     },
     "metadata": {},
     "output_type": "display_data"
    },
    {
     "name": "stdout",
     "output_type": "stream",
     "text": [
      "100.000000 %completedBest Phi is : [ 0.47959835+0.53810979j -0.01587525+0.34241198j -0.51925821+0.05546885j\n",
      " -0.29217841-0.06965043j]\n",
      "Theta estimate : 0.3706896551724138\n",
      "Current cost : 0.845703125\n",
      "\n",
      "COST : 0.845703125\n",
      "THETA : 0.3706896551724138\n",
      "Right : 0.4956896551724138\n",
      "Left : 0.2456896551724138\n",
      "ITERATION NUMBER 2 ...\n",
      "Job Status: job has successfully run\n"
     ]
    },
    {
     "data": {
      "text/plain": [
       "None"
      ]
     },
     "metadata": {},
     "output_type": "display_data"
    },
    {
     "name": "stdout",
     "output_type": "stream",
     "text": [
      "Job Status: job has successfully run\n"
     ]
    },
    {
     "data": {
      "text/plain": [
       "None"
      ]
     },
     "metadata": {},
     "output_type": "display_data"
    },
    {
     "name": "stdout",
     "output_type": "stream",
     "text": [
      "Job Status: job has successfully run\n"
     ]
    },
    {
     "data": {
      "text/plain": [
       "None"
      ]
     },
     "metadata": {},
     "output_type": "display_data"
    },
    {
     "name": "stdout",
     "output_type": "stream",
     "text": [
      "Job Status: job has successfully run\n"
     ]
    },
    {
     "data": {
      "text/plain": [
       "None"
      ]
     },
     "metadata": {},
     "output_type": "display_data"
    },
    {
     "name": "stdout",
     "output_type": "stream",
     "text": [
      "Job Status: job has successfully run\n"
     ]
    },
    {
     "data": {
      "text/plain": [
       "None"
      ]
     },
     "metadata": {},
     "output_type": "display_data"
    },
    {
     "name": "stdout",
     "output_type": "stream",
     "text": [
      "Job Status: job has successfully run\n"
     ]
    },
    {
     "data": {
      "text/plain": [
       "None"
      ]
     },
     "metadata": {},
     "output_type": "display_data"
    },
    {
     "name": "stdout",
     "output_type": "stream",
     "text": [
      "Job Status: job has successfully run\n"
     ]
    },
    {
     "data": {
      "text/plain": [
       "None"
      ]
     },
     "metadata": {},
     "output_type": "display_data"
    },
    {
     "name": "stdout",
     "output_type": "stream",
     "text": [
      "Job Status: job has successfully run\n"
     ]
    },
    {
     "data": {
      "text/plain": [
       "None"
      ]
     },
     "metadata": {},
     "output_type": "display_data"
    },
    {
     "name": "stdout",
     "output_type": "stream",
     "text": [
      "100.000000 %completedBest Phi is : [ 0.46793724+0.53810842j -0.11556236+0.38395292j -0.48731051+0.14028381j\n",
      " -0.25839269-0.08235118j]\n",
      "Theta estimate : 0.44396551724137934\n",
      "Current cost : 0.849609375\n",
      "\n",
      "COST : 0.849609375\n",
      "THETA : 0.44396551724137934\n",
      "Right : 0.5064655172413793\n",
      "Left : 0.38146551724137934\n",
      "ITERATION NUMBER 3 ...\n",
      "Job Status: job has successfully run\n"
     ]
    },
    {
     "data": {
      "text/plain": [
       "None"
      ]
     },
     "metadata": {},
     "output_type": "display_data"
    },
    {
     "name": "stdout",
     "output_type": "stream",
     "text": [
      "Job Status: job has successfully run\n"
     ]
    },
    {
     "data": {
      "text/plain": [
       "None"
      ]
     },
     "metadata": {},
     "output_type": "display_data"
    },
    {
     "name": "stdout",
     "output_type": "stream",
     "text": [
      "Job Status: job has successfully run\n"
     ]
    },
    {
     "data": {
      "text/plain": [
       "None"
      ]
     },
     "metadata": {},
     "output_type": "display_data"
    },
    {
     "name": "stdout",
     "output_type": "stream",
     "text": [
      "Job Status: job has successfully run\n"
     ]
    },
    {
     "data": {
      "text/plain": [
       "None"
      ]
     },
     "metadata": {},
     "output_type": "display_data"
    },
    {
     "name": "stdout",
     "output_type": "stream",
     "text": [
      "Job Status: job has successfully run\n"
     ]
    },
    {
     "data": {
      "text/plain": [
       "None"
      ]
     },
     "metadata": {},
     "output_type": "display_data"
    },
    {
     "name": "stdout",
     "output_type": "stream",
     "text": [
      "Job Status: job has successfully run\n"
     ]
    },
    {
     "data": {
      "text/plain": [
       "None"
      ]
     },
     "metadata": {},
     "output_type": "display_data"
    },
    {
     "name": "stdout",
     "output_type": "stream",
     "text": [
      "Job Status: job has successfully run\n"
     ]
    },
    {
     "data": {
      "text/plain": [
       "None"
      ]
     },
     "metadata": {},
     "output_type": "display_data"
    },
    {
     "name": "stdout",
     "output_type": "stream",
     "text": [
      "Job Status: job has successfully run\n"
     ]
    },
    {
     "data": {
      "text/plain": [
       "None"
      ]
     },
     "metadata": {},
     "output_type": "display_data"
    },
    {
     "name": "stdout",
     "output_type": "stream",
     "text": [
      "100.000000 %completedBest Phi is : [ 0.45386169+0.48844361j -0.11030179+0.35564363j -0.4965772 +0.1666227j\n",
      " -0.31877664-0.20202214j]\n",
      "Theta estimate : 0.42456896551724144\n",
      "Current cost : 0.876953125\n",
      "\n",
      "COST : 0.876953125\n",
      "THETA : 0.42456896551724144\n",
      "Right : 0.45581896551724144\n",
      "Left : 0.39331896551724144\n",
      "ITERATION NUMBER 4 ...\n",
      "Job Status: job has successfully run\n"
     ]
    },
    {
     "data": {
      "text/plain": [
       "None"
      ]
     },
     "metadata": {},
     "output_type": "display_data"
    },
    {
     "name": "stdout",
     "output_type": "stream",
     "text": [
      "Job Status: job has successfully run\n"
     ]
    },
    {
     "data": {
      "text/plain": [
       "None"
      ]
     },
     "metadata": {},
     "output_type": "display_data"
    },
    {
     "name": "stdout",
     "output_type": "stream",
     "text": [
      "Job Status: job has successfully run\n"
     ]
    },
    {
     "data": {
      "text/plain": [
       "None"
      ]
     },
     "metadata": {},
     "output_type": "display_data"
    },
    {
     "name": "stdout",
     "output_type": "stream",
     "text": [
      "Job Status: job has successfully run\n"
     ]
    },
    {
     "data": {
      "text/plain": [
       "None"
      ]
     },
     "metadata": {},
     "output_type": "display_data"
    },
    {
     "name": "stdout",
     "output_type": "stream",
     "text": [
      "Job Status: job has successfully run\n"
     ]
    },
    {
     "data": {
      "text/plain": [
       "None"
      ]
     },
     "metadata": {},
     "output_type": "display_data"
    },
    {
     "name": "stdout",
     "output_type": "stream",
     "text": [
      "Job Status: job has successfully run\n"
     ]
    },
    {
     "data": {
      "text/plain": [
       "None"
      ]
     },
     "metadata": {},
     "output_type": "display_data"
    },
    {
     "name": "stdout",
     "output_type": "stream",
     "text": [
      "Job Status: job has successfully run\n"
     ]
    },
    {
     "data": {
      "text/plain": [
       "None"
      ]
     },
     "metadata": {},
     "output_type": "display_data"
    },
    {
     "name": "stdout",
     "output_type": "stream",
     "text": [
      "Job Status: job has successfully run\n"
     ]
    },
    {
     "data": {
      "text/plain": [
       "None"
      ]
     },
     "metadata": {},
     "output_type": "display_data"
    },
    {
     "name": "stdout",
     "output_type": "stream",
     "text": [
      "100.000000 %completedBest Phi is : [ 0.43911226+0.48319238j -0.1848814 +0.38322801j -0.4650612 +0.22811799j\n",
      " -0.28675503-0.20521334j]\n",
      "Theta estimate : 0.4127155172413794\n",
      "Current cost : 0.890625\n",
      "\n",
      "COST : 0.890625\n",
      "THETA : 0.4127155172413794\n",
      "Right : 0.4283405172413794\n",
      "Left : 0.3970905172413794\n",
      "ITERATION NUMBER 5 ...\n",
      "Job Status: job has successfully run\n"
     ]
    },
    {
     "data": {
      "text/plain": [
       "None"
      ]
     },
     "metadata": {},
     "output_type": "display_data"
    },
    {
     "name": "stdout",
     "output_type": "stream",
     "text": [
      "Job Status: job has successfully run\n"
     ]
    },
    {
     "data": {
      "text/plain": [
       "None"
      ]
     },
     "metadata": {},
     "output_type": "display_data"
    },
    {
     "name": "stdout",
     "output_type": "stream",
     "text": [
      "Job Status: job has successfully run\n"
     ]
    },
    {
     "data": {
      "text/plain": [
       "None"
      ]
     },
     "metadata": {},
     "output_type": "display_data"
    },
    {
     "name": "stdout",
     "output_type": "stream",
     "text": [
      "Job Status: job has successfully run\n"
     ]
    },
    {
     "data": {
      "text/plain": [
       "None"
      ]
     },
     "metadata": {},
     "output_type": "display_data"
    },
    {
     "name": "stdout",
     "output_type": "stream",
     "text": [
      "Job Status: job has successfully run\n"
     ]
    },
    {
     "data": {
      "text/plain": [
       "None"
      ]
     },
     "metadata": {},
     "output_type": "display_data"
    },
    {
     "name": "stdout",
     "output_type": "stream",
     "text": [
      "Job Status: job has successfully run\n"
     ]
    },
    {
     "data": {
      "text/plain": [
       "None"
      ]
     },
     "metadata": {},
     "output_type": "display_data"
    },
    {
     "name": "stdout",
     "output_type": "stream",
     "text": [
      "Job Status: job has successfully run\n"
     ]
    },
    {
     "data": {
      "text/plain": [
       "None"
      ]
     },
     "metadata": {},
     "output_type": "display_data"
    },
    {
     "name": "stdout",
     "output_type": "stream",
     "text": [
      "Job Status: job has successfully run\n"
     ]
    },
    {
     "data": {
      "text/plain": [
       "None"
      ]
     },
     "metadata": {},
     "output_type": "display_data"
    },
    {
     "name": "stdout",
     "output_type": "stream",
     "text": [
      "100.000000 %completedBest Phi is : [ 0.42240906+0.47409179j -0.24613264+0.40284481j -0.43393641+0.2778931j\n",
      " -0.25692333-0.2059305j ]\n",
      "Theta estimate : 0.41756465517241387\n",
      "Current cost : 0.916015625\n",
      "\n",
      "COST : 0.916015625\n",
      "THETA : 0.41756465517241387\n",
      "Right : 0.42537715517241387\n",
      "Left : 0.40975215517241387\n",
      "ITERATION NUMBER 6 ...\n",
      "Job Status: job has successfully run\n"
     ]
    },
    {
     "data": {
      "text/plain": [
       "None"
      ]
     },
     "metadata": {},
     "output_type": "display_data"
    },
    {
     "name": "stdout",
     "output_type": "stream",
     "text": [
      "Job Status: job has successfully run\n"
     ]
    },
    {
     "data": {
      "text/plain": [
       "None"
      ]
     },
     "metadata": {},
     "output_type": "display_data"
    },
    {
     "name": "stdout",
     "output_type": "stream",
     "text": [
      "Job Status: job has successfully run\n"
     ]
    },
    {
     "data": {
      "text/plain": [
       "None"
      ]
     },
     "metadata": {},
     "output_type": "display_data"
    },
    {
     "name": "stdout",
     "output_type": "stream",
     "text": [
      "Job Status: job has successfully run\n"
     ]
    },
    {
     "data": {
      "text/plain": [
       "None"
      ]
     },
     "metadata": {},
     "output_type": "display_data"
    },
    {
     "name": "stdout",
     "output_type": "stream",
     "text": [
      "Job Status: job has successfully run\n"
     ]
    },
    {
     "data": {
      "text/plain": [
       "None"
      ]
     },
     "metadata": {},
     "output_type": "display_data"
    },
    {
     "name": "stdout",
     "output_type": "stream",
     "text": [
      "Job Status: job has successfully run\n"
     ]
    },
    {
     "data": {
      "text/plain": [
       "None"
      ]
     },
     "metadata": {},
     "output_type": "display_data"
    },
    {
     "name": "stdout",
     "output_type": "stream",
     "text": [
      "Job Status: job has successfully run\n"
     ]
    },
    {
     "data": {
      "text/plain": [
       "None"
      ]
     },
     "metadata": {},
     "output_type": "display_data"
    },
    {
     "name": "stdout",
     "output_type": "stream",
     "text": [
      "Job Status: job has successfully run\n"
     ]
    },
    {
     "data": {
      "text/plain": [
       "None"
      ]
     },
     "metadata": {},
     "output_type": "display_data"
    },
    {
     "name": "stdout",
     "output_type": "stream",
     "text": [
      "100.000000 %completed\n",
      "No change, updating a...\n",
      "\n",
      "COST : 0.916015625\n",
      "THETA : 0.41756465517241387\n",
      "Right : 0.42537715517241387\n",
      "Left : 0.40975215517241387\n",
      "ITERATION NUMBER 7 ...\n",
      "Job Status: job has successfully run\n"
     ]
    },
    {
     "data": {
      "text/plain": [
       "None"
      ]
     },
     "metadata": {},
     "output_type": "display_data"
    },
    {
     "name": "stdout",
     "output_type": "stream",
     "text": [
      "Job Status: job has successfully run\n"
     ]
    },
    {
     "data": {
      "text/plain": [
       "None"
      ]
     },
     "metadata": {},
     "output_type": "display_data"
    },
    {
     "name": "stdout",
     "output_type": "stream",
     "text": [
      "Job Status: job has successfully run\n"
     ]
    },
    {
     "data": {
      "text/plain": [
       "None"
      ]
     },
     "metadata": {},
     "output_type": "display_data"
    },
    {
     "name": "stdout",
     "output_type": "stream",
     "text": [
      "Job Status: job has successfully run\n"
     ]
    },
    {
     "data": {
      "text/plain": [
       "None"
      ]
     },
     "metadata": {},
     "output_type": "display_data"
    },
    {
     "name": "stdout",
     "output_type": "stream",
     "text": [
      "Job Status: job has successfully run\n"
     ]
    },
    {
     "data": {
      "text/plain": [
       "None"
      ]
     },
     "metadata": {},
     "output_type": "display_data"
    },
    {
     "name": "stdout",
     "output_type": "stream",
     "text": [
      "Job Status: job has successfully run\n"
     ]
    },
    {
     "data": {
      "text/plain": [
       "None"
      ]
     },
     "metadata": {},
     "output_type": "display_data"
    },
    {
     "name": "stdout",
     "output_type": "stream",
     "text": [
      "Job Status: job has successfully run\n"
     ]
    },
    {
     "data": {
      "text/plain": [
       "None"
      ]
     },
     "metadata": {},
     "output_type": "display_data"
    },
    {
     "name": "stdout",
     "output_type": "stream",
     "text": [
      "Job Status: job has successfully run\n"
     ]
    },
    {
     "data": {
      "text/plain": [
       "None"
      ]
     },
     "metadata": {},
     "output_type": "display_data"
    },
    {
     "name": "stdout",
     "output_type": "stream",
     "text": [
      "100.000000 %completedBest Phi is : [ 0.42722976+0.47880402j -0.23297102+0.40014743j -0.44098671+0.26597229j\n",
      " -0.26128474-0.20086744j]\n",
      "Theta estimate : 0.4113685344827587\n",
      "Current cost : 0.919921875\n",
      "\n",
      "COST : 0.919921875\n",
      "THETA : 0.4113685344827587\n",
      "Right : 0.4152747844827587\n",
      "Left : 0.4074622844827587\n",
      "ITERATION NUMBER 8 ...\n",
      "Job Status: job has successfully run\n"
     ]
    },
    {
     "data": {
      "text/plain": [
       "None"
      ]
     },
     "metadata": {},
     "output_type": "display_data"
    },
    {
     "name": "stdout",
     "output_type": "stream",
     "text": [
      "Job Status: job has successfully run\n"
     ]
    },
    {
     "data": {
      "text/plain": [
       "None"
      ]
     },
     "metadata": {},
     "output_type": "display_data"
    },
    {
     "name": "stdout",
     "output_type": "stream",
     "text": [
      "Job Status: job has successfully run\n"
     ]
    },
    {
     "data": {
      "text/plain": [
       "None"
      ]
     },
     "metadata": {},
     "output_type": "display_data"
    },
    {
     "name": "stdout",
     "output_type": "stream",
     "text": [
      "Job Status: job has successfully run\n"
     ]
    },
    {
     "data": {
      "text/plain": [
       "None"
      ]
     },
     "metadata": {},
     "output_type": "display_data"
    },
    {
     "name": "stdout",
     "output_type": "stream",
     "text": [
      "Job Status: job has successfully run\n"
     ]
    },
    {
     "data": {
      "text/plain": [
       "None"
      ]
     },
     "metadata": {},
     "output_type": "display_data"
    },
    {
     "name": "stdout",
     "output_type": "stream",
     "text": [
      "Job Status: job has successfully run\n"
     ]
    },
    {
     "data": {
      "text/plain": [
       "None"
      ]
     },
     "metadata": {},
     "output_type": "display_data"
    },
    {
     "name": "stdout",
     "output_type": "stream",
     "text": [
      "Job Status: job has successfully run\n"
     ]
    },
    {
     "data": {
      "text/plain": [
       "None"
      ]
     },
     "metadata": {},
     "output_type": "display_data"
    },
    {
     "name": "stdout",
     "output_type": "stream",
     "text": [
      "Job Status: job has successfully run\n"
     ]
    },
    {
     "data": {
      "text/plain": [
       "None"
      ]
     },
     "metadata": {},
     "output_type": "display_data"
    },
    {
     "name": "stdout",
     "output_type": "stream",
     "text": [
      "100.000000 %completed\n",
      "No change, updating a...\n",
      "\n",
      "COST : 0.919921875\n",
      "THETA : 0.4113685344827587\n",
      "Maximum iterations reached for the estimation.\n",
      "Terminating algorithm...\n",
      "Result with 30  resolution : {'cost': 0.919921875, 'theta': 0.4113685344827587, 'state': array([ 0.42722976+0.47880402j, -0.23297102+0.40014743j,\n",
      "       -0.44098671+0.26597229j, -0.26128474-0.20086744j])}\n",
      "Job Status: job has successfully run\n"
     ]
    },
    {
     "data": {
      "text/plain": [
       "None"
      ]
     },
     "metadata": {},
     "output_type": "display_data"
    },
    {
     "name": "stdout",
     "output_type": "stream",
     "text": [
      "Right : 0.5441176470588236\n",
      "Left : 0.04411764705882354\n",
      "ITERATION NUMBER 1 ...\n",
      "Job Status: job has successfully run\n"
     ]
    },
    {
     "data": {
      "text/plain": [
       "None"
      ]
     },
     "metadata": {},
     "output_type": "display_data"
    },
    {
     "name": "stdout",
     "output_type": "stream",
     "text": [
      "Job Status: job has successfully run\n"
     ]
    },
    {
     "data": {
      "text/plain": [
       "None"
      ]
     },
     "metadata": {},
     "output_type": "display_data"
    },
    {
     "name": "stdout",
     "output_type": "stream",
     "text": [
      "Job Status: job has successfully run\n"
     ]
    },
    {
     "data": {
      "text/plain": [
       "None"
      ]
     },
     "metadata": {},
     "output_type": "display_data"
    },
    {
     "name": "stdout",
     "output_type": "stream",
     "text": [
      "Job Status: job has successfully run\n"
     ]
    },
    {
     "data": {
      "text/plain": [
       "None"
      ]
     },
     "metadata": {},
     "output_type": "display_data"
    },
    {
     "name": "stdout",
     "output_type": "stream",
     "text": [
      "Job Status: job has successfully run\n"
     ]
    },
    {
     "data": {
      "text/plain": [
       "None"
      ]
     },
     "metadata": {},
     "output_type": "display_data"
    },
    {
     "name": "stdout",
     "output_type": "stream",
     "text": [
      "Job Status: job has successfully run\n"
     ]
    },
    {
     "data": {
      "text/plain": [
       "None"
      ]
     },
     "metadata": {},
     "output_type": "display_data"
    },
    {
     "name": "stdout",
     "output_type": "stream",
     "text": [
      "Job Status: job has successfully run\n"
     ]
    },
    {
     "data": {
      "text/plain": [
       "None"
      ]
     },
     "metadata": {},
     "output_type": "display_data"
    },
    {
     "name": "stdout",
     "output_type": "stream",
     "text": [
      "Job Status: job has successfully run\n"
     ]
    },
    {
     "data": {
      "text/plain": [
       "None"
      ]
     },
     "metadata": {},
     "output_type": "display_data"
    },
    {
     "name": "stdout",
     "output_type": "stream",
     "text": [
      "100.000000 %completedBest Phi is : [-0.07761633+0.76158393j  0.37443873+0.08847764j -0.1166028 +0.40858161j\n",
      "  0.19290241+0.21951419j]\n",
      "Theta estimate : 0.4852941176470588\n",
      "Current cost : 0.796875\n",
      "\n",
      "COST : 0.796875\n",
      "THETA : 0.4852941176470588\n",
      "Right : 0.6102941176470589\n",
      "Left : 0.3602941176470588\n",
      "ITERATION NUMBER 2 ...\n",
      "Job Status: job has successfully run\n"
     ]
    },
    {
     "data": {
      "text/plain": [
       "None"
      ]
     },
     "metadata": {},
     "output_type": "display_data"
    },
    {
     "name": "stdout",
     "output_type": "stream",
     "text": [
      "Job Status: job has successfully run\n"
     ]
    },
    {
     "data": {
      "text/plain": [
       "None"
      ]
     },
     "metadata": {},
     "output_type": "display_data"
    },
    {
     "name": "stdout",
     "output_type": "stream",
     "text": [
      "Job Status: job has successfully run\n"
     ]
    },
    {
     "data": {
      "text/plain": [
       "None"
      ]
     },
     "metadata": {},
     "output_type": "display_data"
    },
    {
     "name": "stdout",
     "output_type": "stream",
     "text": [
      "Job Status: job has successfully run\n"
     ]
    },
    {
     "data": {
      "text/plain": [
       "None"
      ]
     },
     "metadata": {},
     "output_type": "display_data"
    },
    {
     "name": "stdout",
     "output_type": "stream",
     "text": [
      "Job Status: job has successfully run\n"
     ]
    },
    {
     "data": {
      "text/plain": [
       "None"
      ]
     },
     "metadata": {},
     "output_type": "display_data"
    },
    {
     "name": "stdout",
     "output_type": "stream",
     "text": [
      "Job Status: job has successfully run\n"
     ]
    },
    {
     "data": {
      "text/plain": [
       "None"
      ]
     },
     "metadata": {},
     "output_type": "display_data"
    },
    {
     "name": "stdout",
     "output_type": "stream",
     "text": [
      "Job Status: job has successfully run\n"
     ]
    },
    {
     "data": {
      "text/plain": [
       "None"
      ]
     },
     "metadata": {},
     "output_type": "display_data"
    },
    {
     "name": "stdout",
     "output_type": "stream",
     "text": [
      "Job Status: job has successfully run\n"
     ]
    },
    {
     "data": {
      "text/plain": [
       "None"
      ]
     },
     "metadata": {},
     "output_type": "display_data"
    },
    {
     "name": "stdout",
     "output_type": "stream",
     "text": [
      "100.000000 %completedBest Phi is : [-0.11989477+0.78588723j  0.25443646+0.12222035j -0.06712908+0.43124335j\n",
      "  0.27342678+0.15195867j]\n",
      "Theta estimate : 0.5220588235294118\n",
      "Current cost : 0.876953125\n",
      "\n",
      "COST : 0.876953125\n",
      "THETA : 0.5220588235294118\n",
      "Right : 0.5845588235294118\n",
      "Left : 0.4595588235294118\n",
      "ITERATION NUMBER 3 ...\n",
      "Job Status: job has successfully run\n"
     ]
    },
    {
     "data": {
      "text/plain": [
       "None"
      ]
     },
     "metadata": {},
     "output_type": "display_data"
    },
    {
     "name": "stdout",
     "output_type": "stream",
     "text": [
      "Job Status: job has successfully run\n"
     ]
    },
    {
     "data": {
      "text/plain": [
       "None"
      ]
     },
     "metadata": {},
     "output_type": "display_data"
    },
    {
     "name": "stdout",
     "output_type": "stream",
     "text": [
      "Job Status: job has successfully run\n"
     ]
    },
    {
     "data": {
      "text/plain": [
       "None"
      ]
     },
     "metadata": {},
     "output_type": "display_data"
    },
    {
     "name": "stdout",
     "output_type": "stream",
     "text": [
      "Job Status: job has successfully run\n"
     ]
    },
    {
     "data": {
      "text/plain": [
       "None"
      ]
     },
     "metadata": {},
     "output_type": "display_data"
    },
    {
     "name": "stdout",
     "output_type": "stream",
     "text": [
      "Job Status: job has successfully run\n"
     ]
    },
    {
     "data": {
      "text/plain": [
       "None"
      ]
     },
     "metadata": {},
     "output_type": "display_data"
    },
    {
     "name": "stdout",
     "output_type": "stream",
     "text": [
      "Job Status: job has successfully run\n"
     ]
    },
    {
     "data": {
      "text/plain": [
       "None"
      ]
     },
     "metadata": {},
     "output_type": "display_data"
    },
    {
     "name": "stdout",
     "output_type": "stream",
     "text": [
      "Job Status: job has successfully run\n"
     ]
    },
    {
     "data": {
      "text/plain": [
       "None"
      ]
     },
     "metadata": {},
     "output_type": "display_data"
    },
    {
     "name": "stdout",
     "output_type": "stream",
     "text": [
      "Job Status: job has successfully run\n"
     ]
    },
    {
     "data": {
      "text/plain": [
       "None"
      ]
     },
     "metadata": {},
     "output_type": "display_data"
    },
    {
     "name": "stdout",
     "output_type": "stream",
     "text": [
      "100.000000 %completedBest Phi is : [-0.14224248+0.78853815j  0.18254775+0.13967893j -0.03802838+0.43800347j\n",
      "  0.31534975+0.11136473j]\n",
      "Theta estimate : 0.5257352941176471\n",
      "Current cost : 0.919921875\n",
      "\n",
      "COST : 0.919921875\n",
      "THETA : 0.5257352941176471\n",
      "Right : 0.5569852941176471\n",
      "Left : 0.4944852941176471\n",
      "ITERATION NUMBER 4 ...\n",
      "Job Status: job has successfully run\n"
     ]
    },
    {
     "data": {
      "text/plain": [
       "None"
      ]
     },
     "metadata": {},
     "output_type": "display_data"
    },
    {
     "name": "stdout",
     "output_type": "stream",
     "text": [
      "Job Status: job has successfully run\n"
     ]
    },
    {
     "data": {
      "text/plain": [
       "None"
      ]
     },
     "metadata": {},
     "output_type": "display_data"
    },
    {
     "name": "stdout",
     "output_type": "stream",
     "text": [
      "Job Status: job has successfully run\n"
     ]
    },
    {
     "data": {
      "text/plain": [
       "None"
      ]
     },
     "metadata": {},
     "output_type": "display_data"
    },
    {
     "name": "stdout",
     "output_type": "stream",
     "text": [
      "Job Status: job has successfully run\n"
     ]
    },
    {
     "data": {
      "text/plain": [
       "None"
      ]
     },
     "metadata": {},
     "output_type": "display_data"
    },
    {
     "name": "stdout",
     "output_type": "stream",
     "text": [
      "Job Status: job has successfully run\n"
     ]
    },
    {
     "data": {
      "text/plain": [
       "None"
      ]
     },
     "metadata": {},
     "output_type": "display_data"
    },
    {
     "name": "stdout",
     "output_type": "stream",
     "text": [
      "Job Status: job has successfully run\n"
     ]
    },
    {
     "data": {
      "text/plain": [
       "None"
      ]
     },
     "metadata": {},
     "output_type": "display_data"
    },
    {
     "name": "stdout",
     "output_type": "stream",
     "text": [
      "Job Status: job has successfully run\n"
     ]
    },
    {
     "data": {
      "text/plain": [
       "None"
      ]
     },
     "metadata": {},
     "output_type": "display_data"
    },
    {
     "name": "stdout",
     "output_type": "stream",
     "text": [
      "Job Status: job has successfully run\n"
     ]
    },
    {
     "data": {
      "text/plain": [
       "None"
      ]
     },
     "metadata": {},
     "output_type": "display_data"
    },
    {
     "name": "stdout",
     "output_type": "stream",
     "text": [
      "100.000000 %completedBest Phi is : [-0.15538993+0.78610645j  0.13694386+0.14980234j -0.01975333+0.43993762j\n",
      "  0.33976265+0.08557038j]\n",
      "Theta estimate : 0.5477941176470589\n",
      "Current cost : 0.947265625\n",
      "\n",
      "COST : 0.947265625\n",
      "THETA : 0.5477941176470589\n",
      "Right : 0.5634191176470589\n",
      "Left : 0.5321691176470589\n",
      "ITERATION NUMBER 5 ...\n",
      "Job Status: job has successfully run\n"
     ]
    },
    {
     "data": {
      "text/plain": [
       "None"
      ]
     },
     "metadata": {},
     "output_type": "display_data"
    },
    {
     "name": "stdout",
     "output_type": "stream",
     "text": [
      "Job Status: job has successfully run\n"
     ]
    },
    {
     "data": {
      "text/plain": [
       "None"
      ]
     },
     "metadata": {},
     "output_type": "display_data"
    },
    {
     "name": "stdout",
     "output_type": "stream",
     "text": [
      "Job Status: job has successfully run\n"
     ]
    },
    {
     "data": {
      "text/plain": [
       "None"
      ]
     },
     "metadata": {},
     "output_type": "display_data"
    },
    {
     "name": "stdout",
     "output_type": "stream",
     "text": [
      "Job Status: job has successfully run\n"
     ]
    },
    {
     "data": {
      "text/plain": [
       "None"
      ]
     },
     "metadata": {},
     "output_type": "display_data"
    },
    {
     "name": "stdout",
     "output_type": "stream",
     "text": [
      "Job Status: job has successfully run\n"
     ]
    },
    {
     "data": {
      "text/plain": [
       "None"
      ]
     },
     "metadata": {},
     "output_type": "display_data"
    },
    {
     "name": "stdout",
     "output_type": "stream",
     "text": [
      "Job Status: job has successfully run\n"
     ]
    },
    {
     "data": {
      "text/plain": [
       "None"
      ]
     },
     "metadata": {},
     "output_type": "display_data"
    },
    {
     "name": "stdout",
     "output_type": "stream",
     "text": [
      "Job Status: job has successfully run\n"
     ]
    },
    {
     "data": {
      "text/plain": [
       "None"
      ]
     },
     "metadata": {},
     "output_type": "display_data"
    },
    {
     "name": "stdout",
     "output_type": "stream",
     "text": [
      "Job Status: job has successfully run\n"
     ]
    },
    {
     "data": {
      "text/plain": [
       "None"
      ]
     },
     "metadata": {},
     "output_type": "display_data"
    },
    {
     "name": "stdout",
     "output_type": "stream",
     "text": [
      "100.000000 %completedBest Phi is : [-0.13881411+0.79338338j  0.10737139+0.15779301j -0.01574328+0.45246979j\n",
      "  0.31265168+0.11008352j]\n",
      "Theta estimate : 0.5542279411764707\n",
      "Current cost : 0.953125\n",
      "\n",
      "COST : 0.953125\n",
      "THETA : 0.5542279411764707\n",
      "Right : 0.5620404411764707\n",
      "Left : 0.5464154411764707\n",
      "ITERATION NUMBER 6 ...\n",
      "Job Status: job has successfully run\n"
     ]
    },
    {
     "data": {
      "text/plain": [
       "None"
      ]
     },
     "metadata": {},
     "output_type": "display_data"
    },
    {
     "name": "stdout",
     "output_type": "stream",
     "text": [
      "Job Status: job has successfully run\n"
     ]
    },
    {
     "data": {
      "text/plain": [
       "None"
      ]
     },
     "metadata": {},
     "output_type": "display_data"
    },
    {
     "name": "stdout",
     "output_type": "stream",
     "text": [
      "Job Status: job has successfully run\n"
     ]
    },
    {
     "data": {
      "text/plain": [
       "None"
      ]
     },
     "metadata": {},
     "output_type": "display_data"
    },
    {
     "name": "stdout",
     "output_type": "stream",
     "text": [
      "Job Status: job has successfully run\n"
     ]
    },
    {
     "data": {
      "text/plain": [
       "None"
      ]
     },
     "metadata": {},
     "output_type": "display_data"
    },
    {
     "name": "stdout",
     "output_type": "stream",
     "text": [
      "Job Status: job has successfully run\n"
     ]
    },
    {
     "data": {
      "text/plain": [
       "None"
      ]
     },
     "metadata": {},
     "output_type": "display_data"
    },
    {
     "name": "stdout",
     "output_type": "stream",
     "text": [
      "Job Status: job has successfully run\n"
     ]
    },
    {
     "data": {
      "text/plain": [
       "None"
      ]
     },
     "metadata": {},
     "output_type": "display_data"
    },
    {
     "name": "stdout",
     "output_type": "stream",
     "text": [
      "Job Status: job has successfully run\n"
     ]
    },
    {
     "data": {
      "text/plain": [
       "None"
      ]
     },
     "metadata": {},
     "output_type": "display_data"
    },
    {
     "name": "stdout",
     "output_type": "stream",
     "text": [
      "Job Status: job has successfully run\n"
     ]
    },
    {
     "data": {
      "text/plain": [
       "None"
      ]
     },
     "metadata": {},
     "output_type": "display_data"
    },
    {
     "name": "stdout",
     "output_type": "stream",
     "text": [
      "100.000000 %completed\n",
      "No change, updating a...\n",
      "\n",
      "COST : 0.953125\n",
      "THETA : 0.5542279411764707\n",
      "Right : 0.5620404411764707\n",
      "Left : 0.5464154411764707\n",
      "ITERATION NUMBER 7 ...\n",
      "Job Status: job has successfully run\n"
     ]
    },
    {
     "data": {
      "text/plain": [
       "None"
      ]
     },
     "metadata": {},
     "output_type": "display_data"
    },
    {
     "name": "stdout",
     "output_type": "stream",
     "text": [
      "Job Status: job has successfully run\n"
     ]
    },
    {
     "data": {
      "text/plain": [
       "None"
      ]
     },
     "metadata": {},
     "output_type": "display_data"
    },
    {
     "name": "stdout",
     "output_type": "stream",
     "text": [
      "Job Status: job has successfully run\n"
     ]
    },
    {
     "data": {
      "text/plain": [
       "None"
      ]
     },
     "metadata": {},
     "output_type": "display_data"
    },
    {
     "name": "stdout",
     "output_type": "stream",
     "text": [
      "Job Status: job has successfully run\n"
     ]
    },
    {
     "data": {
      "text/plain": [
       "None"
      ]
     },
     "metadata": {},
     "output_type": "display_data"
    },
    {
     "name": "stdout",
     "output_type": "stream",
     "text": [
      "Job Status: job has successfully run\n"
     ]
    },
    {
     "data": {
      "text/plain": [
       "None"
      ]
     },
     "metadata": {},
     "output_type": "display_data"
    },
    {
     "name": "stdout",
     "output_type": "stream",
     "text": [
      "Job Status: job has successfully run\n"
     ]
    },
    {
     "data": {
      "text/plain": [
       "None"
      ]
     },
     "metadata": {},
     "output_type": "display_data"
    },
    {
     "name": "stdout",
     "output_type": "stream",
     "text": [
      "Job Status: job has successfully run\n"
     ]
    },
    {
     "data": {
      "text/plain": [
       "None"
      ]
     },
     "metadata": {},
     "output_type": "display_data"
    },
    {
     "name": "stdout",
     "output_type": "stream",
     "text": [
      "Job Status: job has successfully run\n"
     ]
    },
    {
     "data": {
      "text/plain": [
       "None"
      ]
     },
     "metadata": {},
     "output_type": "display_data"
    },
    {
     "name": "stdout",
     "output_type": "stream",
     "text": [
      "100.000000 %completedBest Phi is : [-0.14273466+0.79201384j  0.09454566+0.16049048j -0.0105155 +0.45253164j\n",
      "  0.31984192+0.10222769j]\n",
      "Theta estimate : 0.560202205882353\n",
      "Current cost : 0.955078125\n",
      "\n",
      "COST : 0.955078125\n",
      "THETA : 0.560202205882353\n",
      "Right : 0.564108455882353\n",
      "Left : 0.556295955882353\n",
      "ITERATION NUMBER 8 ...\n",
      "Job Status: job has successfully run\n"
     ]
    },
    {
     "data": {
      "text/plain": [
       "None"
      ]
     },
     "metadata": {},
     "output_type": "display_data"
    },
    {
     "name": "stdout",
     "output_type": "stream",
     "text": [
      "Job Status: job has successfully run\n"
     ]
    },
    {
     "data": {
      "text/plain": [
       "None"
      ]
     },
     "metadata": {},
     "output_type": "display_data"
    },
    {
     "name": "stdout",
     "output_type": "stream",
     "text": [
      "Job Status: job has successfully run\n"
     ]
    },
    {
     "data": {
      "text/plain": [
       "None"
      ]
     },
     "metadata": {},
     "output_type": "display_data"
    },
    {
     "name": "stdout",
     "output_type": "stream",
     "text": [
      "Job Status: job has successfully run\n"
     ]
    },
    {
     "data": {
      "text/plain": [
       "None"
      ]
     },
     "metadata": {},
     "output_type": "display_data"
    },
    {
     "name": "stdout",
     "output_type": "stream",
     "text": [
      "Job Status: job has successfully run\n"
     ]
    },
    {
     "data": {
      "text/plain": [
       "None"
      ]
     },
     "metadata": {},
     "output_type": "display_data"
    },
    {
     "name": "stdout",
     "output_type": "stream",
     "text": [
      "Job Status: job has successfully run\n"
     ]
    },
    {
     "data": {
      "text/plain": [
       "None"
      ]
     },
     "metadata": {},
     "output_type": "display_data"
    },
    {
     "name": "stdout",
     "output_type": "stream",
     "text": [
      "Job Status: job has successfully run\n"
     ]
    },
    {
     "data": {
      "text/plain": [
       "None"
      ]
     },
     "metadata": {},
     "output_type": "display_data"
    },
    {
     "name": "stdout",
     "output_type": "stream",
     "text": [
      "Job Status: job has successfully run\n"
     ]
    },
    {
     "data": {
      "text/plain": [
       "None"
      ]
     },
     "metadata": {},
     "output_type": "display_data"
    },
    {
     "name": "stdout",
     "output_type": "stream",
     "text": [
      "100.000000 %completedBest Phi is : [-0.15198758+0.79493513j  0.09757804+0.15551211j  0.00708862+0.448007j\n",
      "  0.31482204+0.10676603j]\n",
      "Theta estimate : 0.5611213235294119\n",
      "Current cost : 0.95703125\n",
      "\n",
      "COST : 0.95703125\n",
      "THETA : 0.5611213235294119\n",
      "Maximum iterations reached for the estimation.\n",
      "Terminating algorithm...\n",
      "Result with 35  resolution : {'cost': 0.95703125, 'theta': 0.5611213235294119, 'state': array([-0.15198758+0.79493513j,  0.09757804+0.15551211j,\n",
      "        0.00708862+0.448007j  ,  0.31482204+0.10676603j])}\n",
      "Job Status: job has successfully run\n"
     ]
    },
    {
     "data": {
      "text/plain": [
       "None"
      ]
     },
     "metadata": {},
     "output_type": "display_data"
    },
    {
     "name": "stdout",
     "output_type": "stream",
     "text": [
      "Right : 0.7115384615384615\n",
      "Left : 0.2115384615384615\n",
      "ITERATION NUMBER 1 ...\n",
      "Job Status: job has successfully run\n"
     ]
    },
    {
     "data": {
      "text/plain": [
       "None"
      ]
     },
     "metadata": {},
     "output_type": "display_data"
    },
    {
     "name": "stdout",
     "output_type": "stream",
     "text": [
      "Job Status: job has successfully run\n"
     ]
    },
    {
     "data": {
      "text/plain": [
       "None"
      ]
     },
     "metadata": {},
     "output_type": "display_data"
    },
    {
     "name": "stdout",
     "output_type": "stream",
     "text": [
      "Job Status: job has successfully run\n"
     ]
    },
    {
     "data": {
      "text/plain": [
       "None"
      ]
     },
     "metadata": {},
     "output_type": "display_data"
    },
    {
     "name": "stdout",
     "output_type": "stream",
     "text": [
      "Job Status: job has successfully run\n"
     ]
    },
    {
     "data": {
      "text/plain": [
       "None"
      ]
     },
     "metadata": {},
     "output_type": "display_data"
    },
    {
     "name": "stdout",
     "output_type": "stream",
     "text": [
      "Job Status: job has successfully run\n"
     ]
    },
    {
     "data": {
      "text/plain": [
       "None"
      ]
     },
     "metadata": {},
     "output_type": "display_data"
    },
    {
     "name": "stdout",
     "output_type": "stream",
     "text": [
      "Job Status: job has successfully run\n"
     ]
    },
    {
     "data": {
      "text/plain": [
       "None"
      ]
     },
     "metadata": {},
     "output_type": "display_data"
    },
    {
     "name": "stdout",
     "output_type": "stream",
     "text": [
      "Job Status: job has successfully run\n"
     ]
    },
    {
     "data": {
      "text/plain": [
       "None"
      ]
     },
     "metadata": {},
     "output_type": "display_data"
    },
    {
     "name": "stdout",
     "output_type": "stream",
     "text": [
      "Job Status: job has successfully run\n"
     ]
    },
    {
     "data": {
      "text/plain": [
       "None"
      ]
     },
     "metadata": {},
     "output_type": "display_data"
    },
    {
     "name": "stdout",
     "output_type": "stream",
     "text": [
      "100.000000 %completedBest Phi is : [ 0.76626575+0.29664988j -0.26379083+0.14829387j  0.00326474-0.45065653j\n",
      " -0.16191835+0.0627651j ]\n",
      "Theta estimate : 0.4679487179487179\n",
      "Current cost : 0.876953125\n",
      "\n",
      "COST : 0.876953125\n",
      "THETA : 0.4679487179487179\n",
      "Right : 0.5929487179487178\n",
      "Left : 0.3429487179487179\n",
      "ITERATION NUMBER 2 ...\n",
      "Job Status: job has successfully run\n"
     ]
    },
    {
     "data": {
      "text/plain": [
       "None"
      ]
     },
     "metadata": {},
     "output_type": "display_data"
    },
    {
     "name": "stdout",
     "output_type": "stream",
     "text": [
      "Job Status: job has successfully run\n"
     ]
    },
    {
     "data": {
      "text/plain": [
       "None"
      ]
     },
     "metadata": {},
     "output_type": "display_data"
    },
    {
     "name": "stdout",
     "output_type": "stream",
     "text": [
      "Job Status: job has successfully run\n"
     ]
    },
    {
     "data": {
      "text/plain": [
       "None"
      ]
     },
     "metadata": {},
     "output_type": "display_data"
    },
    {
     "name": "stdout",
     "output_type": "stream",
     "text": [
      "Job Status: job has successfully run\n"
     ]
    },
    {
     "data": {
      "text/plain": [
       "None"
      ]
     },
     "metadata": {},
     "output_type": "display_data"
    },
    {
     "name": "stdout",
     "output_type": "stream",
     "text": [
      "Job Status: job has successfully run\n"
     ]
    },
    {
     "data": {
      "text/plain": [
       "None"
      ]
     },
     "metadata": {},
     "output_type": "display_data"
    },
    {
     "name": "stdout",
     "output_type": "stream",
     "text": [
      "Job Status: job has successfully run\n"
     ]
    },
    {
     "data": {
      "text/plain": [
       "None"
      ]
     },
     "metadata": {},
     "output_type": "display_data"
    },
    {
     "name": "stdout",
     "output_type": "stream",
     "text": [
      "Job Status: job has successfully run\n"
     ]
    },
    {
     "data": {
      "text/plain": [
       "None"
      ]
     },
     "metadata": {},
     "output_type": "display_data"
    },
    {
     "name": "stdout",
     "output_type": "stream",
     "text": [
      "Job Status: job has successfully run\n"
     ]
    },
    {
     "data": {
      "text/plain": [
       "None"
      ]
     },
     "metadata": {},
     "output_type": "display_data"
    },
    {
     "name": "stdout",
     "output_type": "stream",
     "text": [
      "100.000000 %completedBest Phi is : [ 0.76472698+0.32266155j -0.29686627+0.10637533j -0.07566524-0.39634594j\n",
      " -0.20396125+0.08497855j]\n",
      "Theta estimate : 0.46474358974358965\n",
      "Current cost : 0.896484375\n",
      "\n",
      "COST : 0.896484375\n",
      "THETA : 0.46474358974358965\n",
      "Right : 0.5272435897435896\n",
      "Left : 0.40224358974358965\n",
      "ITERATION NUMBER 3 ...\n",
      "Job Status: job has successfully run\n"
     ]
    },
    {
     "data": {
      "text/plain": [
       "None"
      ]
     },
     "metadata": {},
     "output_type": "display_data"
    },
    {
     "name": "stdout",
     "output_type": "stream",
     "text": [
      "Job Status: job has successfully run\n"
     ]
    },
    {
     "data": {
      "text/plain": [
       "None"
      ]
     },
     "metadata": {},
     "output_type": "display_data"
    },
    {
     "name": "stdout",
     "output_type": "stream",
     "text": [
      "Job Status: job has successfully run\n"
     ]
    },
    {
     "data": {
      "text/plain": [
       "None"
      ]
     },
     "metadata": {},
     "output_type": "display_data"
    },
    {
     "name": "stdout",
     "output_type": "stream",
     "text": [
      "Job Status: job has successfully run\n"
     ]
    },
    {
     "data": {
      "text/plain": [
       "None"
      ]
     },
     "metadata": {},
     "output_type": "display_data"
    },
    {
     "name": "stdout",
     "output_type": "stream",
     "text": [
      "Job Status: job has successfully run\n"
     ]
    },
    {
     "data": {
      "text/plain": [
       "None"
      ]
     },
     "metadata": {},
     "output_type": "display_data"
    },
    {
     "name": "stdout",
     "output_type": "stream",
     "text": [
      "Job Status: job has successfully run\n"
     ]
    },
    {
     "data": {
      "text/plain": [
       "None"
      ]
     },
     "metadata": {},
     "output_type": "display_data"
    },
    {
     "name": "stdout",
     "output_type": "stream",
     "text": [
      "Job Status: job has successfully run\n"
     ]
    },
    {
     "data": {
      "text/plain": [
       "None"
      ]
     },
     "metadata": {},
     "output_type": "display_data"
    },
    {
     "name": "stdout",
     "output_type": "stream",
     "text": [
      "Job Status: job has successfully run\n"
     ]
    },
    {
     "data": {
      "text/plain": [
       "None"
      ]
     },
     "metadata": {},
     "output_type": "display_data"
    },
    {
     "name": "stdout",
     "output_type": "stream",
     "text": [
      "100.000000 %completedBest Phi is : [ 0.75481808+0.34051658j -0.32085102+0.0705272j  -0.14004819-0.34698047j\n",
      " -0.23640712+0.10237873j]\n",
      "Theta estimate : 0.40865384615384603\n",
      "Current cost : 0.90625\n",
      "\n",
      "COST : 0.90625\n",
      "THETA : 0.40865384615384603\n",
      "Right : 0.43990384615384603\n",
      "Left : 0.37740384615384603\n",
      "ITERATION NUMBER 4 ...\n",
      "Job Status: job has successfully run\n"
     ]
    },
    {
     "data": {
      "text/plain": [
       "None"
      ]
     },
     "metadata": {},
     "output_type": "display_data"
    },
    {
     "name": "stdout",
     "output_type": "stream",
     "text": [
      "Job Status: job has successfully run\n"
     ]
    },
    {
     "data": {
      "text/plain": [
       "None"
      ]
     },
     "metadata": {},
     "output_type": "display_data"
    },
    {
     "name": "stdout",
     "output_type": "stream",
     "text": [
      "Job Status: job has successfully run\n"
     ]
    },
    {
     "data": {
      "text/plain": [
       "None"
      ]
     },
     "metadata": {},
     "output_type": "display_data"
    },
    {
     "name": "stdout",
     "output_type": "stream",
     "text": [
      "Job Status: job has successfully run\n"
     ]
    },
    {
     "data": {
      "text/plain": [
       "None"
      ]
     },
     "metadata": {},
     "output_type": "display_data"
    },
    {
     "name": "stdout",
     "output_type": "stream",
     "text": [
      "Job Status: job has successfully run\n"
     ]
    },
    {
     "data": {
      "text/plain": [
       "None"
      ]
     },
     "metadata": {},
     "output_type": "display_data"
    },
    {
     "name": "stdout",
     "output_type": "stream",
     "text": [
      "Job Status: job has successfully run\n"
     ]
    },
    {
     "data": {
      "text/plain": [
       "None"
      ]
     },
     "metadata": {},
     "output_type": "display_data"
    },
    {
     "name": "stdout",
     "output_type": "stream",
     "text": [
      "Job Status: job has successfully run\n"
     ]
    },
    {
     "data": {
      "text/plain": [
       "None"
      ]
     },
     "metadata": {},
     "output_type": "display_data"
    },
    {
     "name": "stdout",
     "output_type": "stream",
     "text": [
      "Job Status: job has successfully run\n"
     ]
    },
    {
     "data": {
      "text/plain": [
       "None"
      ]
     },
     "metadata": {},
     "output_type": "display_data"
    },
    {
     "name": "stdout",
     "output_type": "stream",
     "text": [
      "100.000000 %completedBest Phi is : [ 0.7396461 +0.35340054j -0.33931886+0.03824931j -0.19575205-0.30040777j\n",
      " -0.26306967+0.11688482j]\n",
      "Theta estimate : 0.4126602564102563\n",
      "Current cost : 0.93359375\n",
      "\n",
      "COST : 0.93359375\n",
      "THETA : 0.4126602564102563\n",
      "Right : 0.4282852564102563\n",
      "Left : 0.3970352564102563\n",
      "ITERATION NUMBER 5 ...\n",
      "Job Status: job has successfully run\n"
     ]
    },
    {
     "data": {
      "text/plain": [
       "None"
      ]
     },
     "metadata": {},
     "output_type": "display_data"
    },
    {
     "name": "stdout",
     "output_type": "stream",
     "text": [
      "Job Status: job has successfully run\n"
     ]
    },
    {
     "data": {
      "text/plain": [
       "None"
      ]
     },
     "metadata": {},
     "output_type": "display_data"
    },
    {
     "name": "stdout",
     "output_type": "stream",
     "text": [
      "Job Status: job has successfully run\n"
     ]
    },
    {
     "data": {
      "text/plain": [
       "None"
      ]
     },
     "metadata": {},
     "output_type": "display_data"
    },
    {
     "name": "stdout",
     "output_type": "stream",
     "text": [
      "Job Status: job has successfully run\n"
     ]
    },
    {
     "data": {
      "text/plain": [
       "None"
      ]
     },
     "metadata": {},
     "output_type": "display_data"
    },
    {
     "name": "stdout",
     "output_type": "stream",
     "text": [
      "Job Status: job has successfully run\n"
     ]
    },
    {
     "data": {
      "text/plain": [
       "None"
      ]
     },
     "metadata": {},
     "output_type": "display_data"
    },
    {
     "name": "stdout",
     "output_type": "stream",
     "text": [
      "Job Status: job has successfully run\n"
     ]
    },
    {
     "data": {
      "text/plain": [
       "None"
      ]
     },
     "metadata": {},
     "output_type": "display_data"
    },
    {
     "name": "stdout",
     "output_type": "stream",
     "text": [
      "Job Status: job has successfully run\n"
     ]
    },
    {
     "data": {
      "text/plain": [
       "None"
      ]
     },
     "metadata": {},
     "output_type": "display_data"
    },
    {
     "name": "stdout",
     "output_type": "stream",
     "text": [
      "Job Status: job has successfully run\n"
     ]
    },
    {
     "data": {
      "text/plain": [
       "None"
      ]
     },
     "metadata": {},
     "output_type": "display_data"
    },
    {
     "name": "stdout",
     "output_type": "stream",
     "text": [
      "100.000000 %completedBest Phi is : [ 0.72740734+0.38060669j -0.3414891 +0.03575544j -0.21127407-0.31267164j\n",
      " -0.21339062+0.14208451j]\n",
      "Theta estimate : 0.40024038461538447\n",
      "Current cost : 0.939453125\n",
      "\n",
      "COST : 0.939453125\n",
      "THETA : 0.40024038461538447\n",
      "Right : 0.40805288461538447\n",
      "Left : 0.39242788461538447\n",
      "ITERATION NUMBER 6 ...\n",
      "Job Status: job has successfully run\n"
     ]
    },
    {
     "data": {
      "text/plain": [
       "None"
      ]
     },
     "metadata": {},
     "output_type": "display_data"
    },
    {
     "name": "stdout",
     "output_type": "stream",
     "text": [
      "Job Status: job has successfully run\n"
     ]
    },
    {
     "data": {
      "text/plain": [
       "None"
      ]
     },
     "metadata": {},
     "output_type": "display_data"
    },
    {
     "name": "stdout",
     "output_type": "stream",
     "text": [
      "Job Status: job has successfully run\n"
     ]
    },
    {
     "data": {
      "text/plain": [
       "None"
      ]
     },
     "metadata": {},
     "output_type": "display_data"
    },
    {
     "name": "stdout",
     "output_type": "stream",
     "text": [
      "Job Status: job has successfully run\n"
     ]
    },
    {
     "data": {
      "text/plain": [
       "None"
      ]
     },
     "metadata": {},
     "output_type": "display_data"
    },
    {
     "name": "stdout",
     "output_type": "stream",
     "text": [
      "Job Status: job has successfully run\n"
     ]
    },
    {
     "data": {
      "text/plain": [
       "None"
      ]
     },
     "metadata": {},
     "output_type": "display_data"
    },
    {
     "name": "stdout",
     "output_type": "stream",
     "text": [
      "Job Status: job has successfully run\n"
     ]
    },
    {
     "data": {
      "text/plain": [
       "None"
      ]
     },
     "metadata": {},
     "output_type": "display_data"
    },
    {
     "name": "stdout",
     "output_type": "stream",
     "text": [
      "Job Status: job has successfully run\n"
     ]
    },
    {
     "data": {
      "text/plain": [
       "None"
      ]
     },
     "metadata": {},
     "output_type": "display_data"
    },
    {
     "name": "stdout",
     "output_type": "stream",
     "text": [
      "Job Status: job has successfully run\n"
     ]
    },
    {
     "data": {
      "text/plain": [
       "None"
      ]
     },
     "metadata": {},
     "output_type": "display_data"
    },
    {
     "name": "stdout",
     "output_type": "stream",
     "text": [
      "100.000000 %completed\n",
      "No change, updating a...\n",
      "\n",
      "COST : 0.939453125\n",
      "THETA : 0.40024038461538447\n",
      "Right : 0.40805288461538447\n",
      "Left : 0.39242788461538447\n",
      "ITERATION NUMBER 7 ...\n",
      "Job Status: job has successfully run\n"
     ]
    },
    {
     "data": {
      "text/plain": [
       "None"
      ]
     },
     "metadata": {},
     "output_type": "display_data"
    },
    {
     "name": "stdout",
     "output_type": "stream",
     "text": [
      "Job Status: job has successfully run\n"
     ]
    },
    {
     "data": {
      "text/plain": [
       "None"
      ]
     },
     "metadata": {},
     "output_type": "display_data"
    },
    {
     "name": "stdout",
     "output_type": "stream",
     "text": [
      "Job Status: job has successfully run\n"
     ]
    },
    {
     "data": {
      "text/plain": [
       "None"
      ]
     },
     "metadata": {},
     "output_type": "display_data"
    },
    {
     "name": "stdout",
     "output_type": "stream",
     "text": [
      "Job Status: job has successfully run\n"
     ]
    },
    {
     "data": {
      "text/plain": [
       "None"
      ]
     },
     "metadata": {},
     "output_type": "display_data"
    },
    {
     "name": "stdout",
     "output_type": "stream",
     "text": [
      "Job Status: job has successfully run\n"
     ]
    },
    {
     "data": {
      "text/plain": [
       "None"
      ]
     },
     "metadata": {},
     "output_type": "display_data"
    },
    {
     "name": "stdout",
     "output_type": "stream",
     "text": [
      "Job Status: job has successfully run\n"
     ]
    },
    {
     "data": {
      "text/plain": [
       "None"
      ]
     },
     "metadata": {},
     "output_type": "display_data"
    },
    {
     "name": "stdout",
     "output_type": "stream",
     "text": [
      "Job Status: job has successfully run\n"
     ]
    },
    {
     "data": {
      "text/plain": [
       "None"
      ]
     },
     "metadata": {},
     "output_type": "display_data"
    },
    {
     "name": "stdout",
     "output_type": "stream",
     "text": [
      "Job Status: job has successfully run\n"
     ]
    },
    {
     "data": {
      "text/plain": [
       "None"
      ]
     },
     "metadata": {},
     "output_type": "display_data"
    },
    {
     "name": "stdout",
     "output_type": "stream",
     "text": [
      "100.000000 %completed\n",
      "No change, updating a...\n",
      "\n",
      "COST : 0.939453125\n",
      "THETA : 0.40024038461538447\n",
      "Right : 0.40805288461538447\n",
      "Left : 0.39242788461538447\n",
      "ITERATION NUMBER 8 ...\n",
      "Job Status: job has successfully run\n"
     ]
    },
    {
     "data": {
      "text/plain": [
       "None"
      ]
     },
     "metadata": {},
     "output_type": "display_data"
    },
    {
     "name": "stdout",
     "output_type": "stream",
     "text": [
      "Job Status: job has successfully run\n"
     ]
    },
    {
     "data": {
      "text/plain": [
       "None"
      ]
     },
     "metadata": {},
     "output_type": "display_data"
    },
    {
     "name": "stdout",
     "output_type": "stream",
     "text": [
      "Job Status: job has successfully run\n"
     ]
    },
    {
     "data": {
      "text/plain": [
       "None"
      ]
     },
     "metadata": {},
     "output_type": "display_data"
    },
    {
     "name": "stdout",
     "output_type": "stream",
     "text": [
      "Job Status: job has successfully run\n"
     ]
    },
    {
     "data": {
      "text/plain": [
       "None"
      ]
     },
     "metadata": {},
     "output_type": "display_data"
    },
    {
     "name": "stdout",
     "output_type": "stream",
     "text": [
      "Job Status: job has successfully run\n"
     ]
    },
    {
     "data": {
      "text/plain": [
       "None"
      ]
     },
     "metadata": {},
     "output_type": "display_data"
    },
    {
     "name": "stdout",
     "output_type": "stream",
     "text": [
      "Job Status: job has successfully run\n"
     ]
    },
    {
     "data": {
      "text/plain": [
       "None"
      ]
     },
     "metadata": {},
     "output_type": "display_data"
    },
    {
     "name": "stdout",
     "output_type": "stream",
     "text": [
      "Job Status: job has successfully run\n"
     ]
    },
    {
     "data": {
      "text/plain": [
       "None"
      ]
     },
     "metadata": {},
     "output_type": "display_data"
    },
    {
     "name": "stdout",
     "output_type": "stream",
     "text": [
      "Job Status: job has successfully run\n"
     ]
    },
    {
     "data": {
      "text/plain": [
       "None"
      ]
     },
     "metadata": {},
     "output_type": "display_data"
    },
    {
     "name": "stdout",
     "output_type": "stream",
     "text": [
      "100.000000 %completed\n",
      "No change, updating a...\n",
      "\n",
      "COST : 0.939453125\n",
      "THETA : 0.40024038461538447\n",
      "Maximum iterations reached for the estimation.\n",
      "Terminating algorithm...\n",
      "Result with 40  resolution : {'cost': 0.939453125, 'theta': 0.40024038461538447, 'state': array([ 0.72740734+0.38060669j, -0.3414891 +0.03575544j,\n",
      "       -0.21127407-0.31267164j, -0.21339062+0.14208451j])}\n",
      "Job Status: job has successfully run\n"
     ]
    },
    {
     "data": {
      "text/plain": [
       "None"
      ]
     },
     "metadata": {},
     "output_type": "display_data"
    },
    {
     "name": "stdout",
     "output_type": "stream",
     "text": [
      "Right : 0.5227272727272727\n",
      "Left : 0.022727272727272707\n",
      "ITERATION NUMBER 1 ...\n",
      "Job Status: job has successfully run\n"
     ]
    },
    {
     "data": {
      "text/plain": [
       "None"
      ]
     },
     "metadata": {},
     "output_type": "display_data"
    },
    {
     "name": "stdout",
     "output_type": "stream",
     "text": [
      "Job Status: job has successfully run\n"
     ]
    },
    {
     "data": {
      "text/plain": [
       "None"
      ]
     },
     "metadata": {},
     "output_type": "display_data"
    },
    {
     "name": "stdout",
     "output_type": "stream",
     "text": [
      "Job Status: job has successfully run\n"
     ]
    },
    {
     "data": {
      "text/plain": [
       "None"
      ]
     },
     "metadata": {},
     "output_type": "display_data"
    },
    {
     "name": "stdout",
     "output_type": "stream",
     "text": [
      "Job Status: job has successfully run\n"
     ]
    },
    {
     "data": {
      "text/plain": [
       "None"
      ]
     },
     "metadata": {},
     "output_type": "display_data"
    },
    {
     "name": "stdout",
     "output_type": "stream",
     "text": [
      "Job Status: job has successfully run\n"
     ]
    },
    {
     "data": {
      "text/plain": [
       "None"
      ]
     },
     "metadata": {},
     "output_type": "display_data"
    },
    {
     "name": "stdout",
     "output_type": "stream",
     "text": [
      "Job Status: job has successfully run\n"
     ]
    },
    {
     "data": {
      "text/plain": [
       "None"
      ]
     },
     "metadata": {},
     "output_type": "display_data"
    },
    {
     "name": "stdout",
     "output_type": "stream",
     "text": [
      "Job Status: job has successfully run\n"
     ]
    },
    {
     "data": {
      "text/plain": [
       "None"
      ]
     },
     "metadata": {},
     "output_type": "display_data"
    },
    {
     "name": "stdout",
     "output_type": "stream",
     "text": [
      "Job Status: job has successfully run\n"
     ]
    },
    {
     "data": {
      "text/plain": [
       "None"
      ]
     },
     "metadata": {},
     "output_type": "display_data"
    },
    {
     "name": "stdout",
     "output_type": "stream",
     "text": [
      "100.000000 %completedBest Phi is : [-0.53261046-0.10396283j  0.6066352 -0.03527107j  0.09232018-0.18272667j\n",
      " -0.16888877-0.51558903j]\n",
      "Theta estimate : 0.28409090909090906\n",
      "Current cost : 0.91796875\n",
      "\n",
      "COST : 0.91796875\n",
      "THETA : 0.28409090909090906\n",
      "Right : 0.40909090909090906\n",
      "Left : 0.15909090909090906\n",
      "ITERATION NUMBER 2 ...\n",
      "Job Status: job has successfully run\n"
     ]
    },
    {
     "data": {
      "text/plain": [
       "None"
      ]
     },
     "metadata": {},
     "output_type": "display_data"
    },
    {
     "name": "stdout",
     "output_type": "stream",
     "text": [
      "Job Status: job has successfully run\n"
     ]
    },
    {
     "data": {
      "text/plain": [
       "None"
      ]
     },
     "metadata": {},
     "output_type": "display_data"
    },
    {
     "name": "stdout",
     "output_type": "stream",
     "text": [
      "Job Status: job has successfully run\n"
     ]
    },
    {
     "data": {
      "text/plain": [
       "None"
      ]
     },
     "metadata": {},
     "output_type": "display_data"
    },
    {
     "name": "stdout",
     "output_type": "stream",
     "text": [
      "Job Status: job has successfully run\n"
     ]
    },
    {
     "data": {
      "text/plain": [
       "None"
      ]
     },
     "metadata": {},
     "output_type": "display_data"
    },
    {
     "name": "stdout",
     "output_type": "stream",
     "text": [
      "Job Status: job has successfully run\n"
     ]
    },
    {
     "data": {
      "text/plain": [
       "None"
      ]
     },
     "metadata": {},
     "output_type": "display_data"
    },
    {
     "name": "stdout",
     "output_type": "stream",
     "text": [
      "Job Status: job has successfully run\n"
     ]
    },
    {
     "data": {
      "text/plain": [
       "None"
      ]
     },
     "metadata": {},
     "output_type": "display_data"
    },
    {
     "name": "stdout",
     "output_type": "stream",
     "text": [
      "Job Status: job has successfully run\n"
     ]
    },
    {
     "data": {
      "text/plain": [
       "None"
      ]
     },
     "metadata": {},
     "output_type": "display_data"
    },
    {
     "name": "stdout",
     "output_type": "stream",
     "text": [
      "Job Status: job has successfully run\n"
     ]
    },
    {
     "data": {
      "text/plain": [
       "None"
      ]
     },
     "metadata": {},
     "output_type": "display_data"
    },
    {
     "name": "stdout",
     "output_type": "stream",
     "text": [
      "100.000000 %completedBest Phi is : [-0.58457043-0.12489244j  0.57123598-0.04283224j  0.11706678-0.1477362j\n",
      " -0.17778782-0.4973882j ]\n",
      "Theta estimate : 0.28977272727272724\n",
      "Current cost : 0.9296875\n",
      "\n",
      "COST : 0.9296875\n",
      "THETA : 0.28977272727272724\n",
      "Right : 0.35227272727272724\n",
      "Left : 0.22727272727272724\n",
      "ITERATION NUMBER 3 ...\n",
      "Job Status: job has successfully run\n"
     ]
    },
    {
     "data": {
      "text/plain": [
       "None"
      ]
     },
     "metadata": {},
     "output_type": "display_data"
    },
    {
     "name": "stdout",
     "output_type": "stream",
     "text": [
      "Job Status: job has successfully run\n"
     ]
    },
    {
     "data": {
      "text/plain": [
       "None"
      ]
     },
     "metadata": {},
     "output_type": "display_data"
    },
    {
     "name": "stdout",
     "output_type": "stream",
     "text": [
      "Job Status: job has successfully run\n"
     ]
    },
    {
     "data": {
      "text/plain": [
       "None"
      ]
     },
     "metadata": {},
     "output_type": "display_data"
    },
    {
     "name": "stdout",
     "output_type": "stream",
     "text": [
      "Job Status: job has successfully run\n"
     ]
    },
    {
     "data": {
      "text/plain": [
       "None"
      ]
     },
     "metadata": {},
     "output_type": "display_data"
    },
    {
     "name": "stdout",
     "output_type": "stream",
     "text": [
      "Job Status: job has successfully run\n"
     ]
    },
    {
     "data": {
      "text/plain": [
       "None"
      ]
     },
     "metadata": {},
     "output_type": "display_data"
    },
    {
     "name": "stdout",
     "output_type": "stream",
     "text": [
      "Job Status: job has successfully run\n"
     ]
    },
    {
     "data": {
      "text/plain": [
       "None"
      ]
     },
     "metadata": {},
     "output_type": "display_data"
    },
    {
     "name": "stdout",
     "output_type": "stream",
     "text": [
      "Job Status: job has successfully run\n"
     ]
    },
    {
     "data": {
      "text/plain": [
       "None"
      ]
     },
     "metadata": {},
     "output_type": "display_data"
    },
    {
     "name": "stdout",
     "output_type": "stream",
     "text": [
      "Job Status: job has successfully run\n"
     ]
    },
    {
     "data": {
      "text/plain": [
       "None"
      ]
     },
     "metadata": {},
     "output_type": "display_data"
    },
    {
     "name": "stdout",
     "output_type": "stream",
     "text": [
      "100.000000 %completedBest Phi is : [-0.57711842-0.10194198j  0.54594151-0.02771112j  0.10684165-0.11643885j\n",
      " -0.18919781-0.54493409j]\n",
      "Theta estimate : 0.2727272727272727\n",
      "Current cost : 0.9453125\n",
      "\n",
      "COST : 0.9453125\n",
      "THETA : 0.2727272727272727\n",
      "Right : 0.3039772727272727\n",
      "Left : 0.2414772727272727\n",
      "ITERATION NUMBER 4 ...\n",
      "Job Status: job has successfully run\n"
     ]
    },
    {
     "data": {
      "text/plain": [
       "None"
      ]
     },
     "metadata": {},
     "output_type": "display_data"
    },
    {
     "name": "stdout",
     "output_type": "stream",
     "text": [
      "Job Status: job has successfully run\n"
     ]
    },
    {
     "data": {
      "text/plain": [
       "None"
      ]
     },
     "metadata": {},
     "output_type": "display_data"
    },
    {
     "name": "stdout",
     "output_type": "stream",
     "text": [
      "Job Status: job has successfully run\n"
     ]
    },
    {
     "data": {
      "text/plain": [
       "None"
      ]
     },
     "metadata": {},
     "output_type": "display_data"
    },
    {
     "name": "stdout",
     "output_type": "stream",
     "text": [
      "Job Status: job has successfully run\n"
     ]
    },
    {
     "data": {
      "text/plain": [
       "None"
      ]
     },
     "metadata": {},
     "output_type": "display_data"
    },
    {
     "name": "stdout",
     "output_type": "stream",
     "text": [
      "Job Status: job has successfully run\n"
     ]
    },
    {
     "data": {
      "text/plain": [
       "None"
      ]
     },
     "metadata": {},
     "output_type": "display_data"
    },
    {
     "name": "stdout",
     "output_type": "stream",
     "text": [
      "Job Status: job has successfully run\n"
     ]
    },
    {
     "data": {
      "text/plain": [
       "None"
      ]
     },
     "metadata": {},
     "output_type": "display_data"
    },
    {
     "name": "stdout",
     "output_type": "stream",
     "text": [
      "Job Status: job has successfully run\n"
     ]
    },
    {
     "data": {
      "text/plain": [
       "None"
      ]
     },
     "metadata": {},
     "output_type": "display_data"
    },
    {
     "name": "stdout",
     "output_type": "stream",
     "text": [
      "Job Status: job has successfully run\n"
     ]
    },
    {
     "data": {
      "text/plain": [
       "None"
      ]
     },
     "metadata": {},
     "output_type": "display_data"
    },
    {
     "name": "stdout",
     "output_type": "stream",
     "text": [
      "100.000000 %completedBest Phi is : [-0.57122119-0.13250256j  0.54392068+0.00655657j  0.11536237-0.11537476j\n",
      " -0.16313541-0.55409725j]\n",
      "Theta estimate : 0.25284090909090906\n",
      "Current cost : 0.94921875\n",
      "\n",
      "COST : 0.94921875\n",
      "THETA : 0.25284090909090906\n",
      "Right : 0.26846590909090906\n",
      "Left : 0.23721590909090906\n",
      "ITERATION NUMBER 5 ...\n",
      "Job Status: job has successfully run\n"
     ]
    },
    {
     "data": {
      "text/plain": [
       "None"
      ]
     },
     "metadata": {},
     "output_type": "display_data"
    },
    {
     "name": "stdout",
     "output_type": "stream",
     "text": [
      "Job Status: job has successfully run\n"
     ]
    },
    {
     "data": {
      "text/plain": [
       "None"
      ]
     },
     "metadata": {},
     "output_type": "display_data"
    },
    {
     "name": "stdout",
     "output_type": "stream",
     "text": [
      "Job Status: job has successfully run\n"
     ]
    },
    {
     "data": {
      "text/plain": [
       "None"
      ]
     },
     "metadata": {},
     "output_type": "display_data"
    },
    {
     "name": "stdout",
     "output_type": "stream",
     "text": [
      "Job Status: job has successfully run\n"
     ]
    },
    {
     "data": {
      "text/plain": [
       "None"
      ]
     },
     "metadata": {},
     "output_type": "display_data"
    },
    {
     "name": "stdout",
     "output_type": "stream",
     "text": [
      "Job Status: job has successfully run\n"
     ]
    },
    {
     "data": {
      "text/plain": [
       "None"
      ]
     },
     "metadata": {},
     "output_type": "display_data"
    },
    {
     "name": "stdout",
     "output_type": "stream",
     "text": [
      "Job Status: job has successfully run\n"
     ]
    },
    {
     "data": {
      "text/plain": [
       "None"
      ]
     },
     "metadata": {},
     "output_type": "display_data"
    },
    {
     "name": "stdout",
     "output_type": "stream",
     "text": [
      "Job Status: job has successfully run\n"
     ]
    },
    {
     "data": {
      "text/plain": [
       "None"
      ]
     },
     "metadata": {},
     "output_type": "display_data"
    },
    {
     "name": "stdout",
     "output_type": "stream",
     "text": [
      "Job Status: job has successfully run\n"
     ]
    },
    {
     "data": {
      "text/plain": [
       "None"
      ]
     },
     "metadata": {},
     "output_type": "display_data"
    },
    {
     "name": "stdout",
     "output_type": "stream",
     "text": [
      "100.000000 %completed\n",
      "No change, updating a...\n",
      "\n",
      "COST : 0.94921875\n",
      "THETA : 0.25284090909090906\n",
      "Right : 0.26846590909090906\n",
      "Left : 0.23721590909090906\n",
      "ITERATION NUMBER 6 ...\n",
      "Job Status: job has successfully run\n"
     ]
    },
    {
     "data": {
      "text/plain": [
       "None"
      ]
     },
     "metadata": {},
     "output_type": "display_data"
    },
    {
     "name": "stdout",
     "output_type": "stream",
     "text": [
      "Job Status: job has successfully run\n"
     ]
    },
    {
     "data": {
      "text/plain": [
       "None"
      ]
     },
     "metadata": {},
     "output_type": "display_data"
    },
    {
     "name": "stdout",
     "output_type": "stream",
     "text": [
      "Job Status: job has successfully run\n"
     ]
    },
    {
     "data": {
      "text/plain": [
       "None"
      ]
     },
     "metadata": {},
     "output_type": "display_data"
    },
    {
     "name": "stdout",
     "output_type": "stream",
     "text": [
      "Job Status: job has successfully run\n"
     ]
    },
    {
     "data": {
      "text/plain": [
       "None"
      ]
     },
     "metadata": {},
     "output_type": "display_data"
    },
    {
     "name": "stdout",
     "output_type": "stream",
     "text": [
      "Job Status: job has successfully run\n"
     ]
    },
    {
     "data": {
      "text/plain": [
       "None"
      ]
     },
     "metadata": {},
     "output_type": "display_data"
    },
    {
     "name": "stdout",
     "output_type": "stream",
     "text": [
      "Job Status: job has successfully run\n"
     ]
    },
    {
     "data": {
      "text/plain": [
       "None"
      ]
     },
     "metadata": {},
     "output_type": "display_data"
    },
    {
     "name": "stdout",
     "output_type": "stream",
     "text": [
      "Job Status: job has successfully run\n"
     ]
    },
    {
     "data": {
      "text/plain": [
       "None"
      ]
     },
     "metadata": {},
     "output_type": "display_data"
    },
    {
     "name": "stdout",
     "output_type": "stream",
     "text": [
      "Job Status: job has successfully run\n"
     ]
    },
    {
     "data": {
      "text/plain": [
       "None"
      ]
     },
     "metadata": {},
     "output_type": "display_data"
    },
    {
     "name": "stdout",
     "output_type": "stream",
     "text": [
      "100.000000 %completed\n",
      "No change, updating a...\n",
      "\n",
      "COST : 0.94921875\n",
      "THETA : 0.25284090909090906\n",
      "Right : 0.26846590909090906\n",
      "Left : 0.23721590909090906\n",
      "ITERATION NUMBER 7 ...\n",
      "Job Status: job has successfully run\n"
     ]
    },
    {
     "data": {
      "text/plain": [
       "None"
      ]
     },
     "metadata": {},
     "output_type": "display_data"
    },
    {
     "name": "stdout",
     "output_type": "stream",
     "text": [
      "Job Status: job has successfully run\n"
     ]
    },
    {
     "data": {
      "text/plain": [
       "None"
      ]
     },
     "metadata": {},
     "output_type": "display_data"
    },
    {
     "name": "stdout",
     "output_type": "stream",
     "text": [
      "Job Status: job has successfully run\n"
     ]
    },
    {
     "data": {
      "text/plain": [
       "None"
      ]
     },
     "metadata": {},
     "output_type": "display_data"
    },
    {
     "name": "stdout",
     "output_type": "stream",
     "text": [
      "Job Status: job has successfully run\n"
     ]
    },
    {
     "data": {
      "text/plain": [
       "None"
      ]
     },
     "metadata": {},
     "output_type": "display_data"
    },
    {
     "name": "stdout",
     "output_type": "stream",
     "text": [
      "Job Status: job has successfully run\n"
     ]
    },
    {
     "data": {
      "text/plain": [
       "None"
      ]
     },
     "metadata": {},
     "output_type": "display_data"
    },
    {
     "name": "stdout",
     "output_type": "stream",
     "text": [
      "Job Status: job has successfully run\n"
     ]
    },
    {
     "data": {
      "text/plain": [
       "None"
      ]
     },
     "metadata": {},
     "output_type": "display_data"
    },
    {
     "name": "stdout",
     "output_type": "stream",
     "text": [
      "Job Status: job has successfully run\n"
     ]
    },
    {
     "data": {
      "text/plain": [
       "None"
      ]
     },
     "metadata": {},
     "output_type": "display_data"
    },
    {
     "name": "stdout",
     "output_type": "stream",
     "text": [
      "Job Status: job has successfully run\n"
     ]
    },
    {
     "data": {
      "text/plain": [
       "None"
      ]
     },
     "metadata": {},
     "output_type": "display_data"
    },
    {
     "name": "stdout",
     "output_type": "stream",
     "text": [
      "100.000000 %completed\n",
      "No change, updating a...\n",
      "\n",
      "COST : 0.94921875\n",
      "THETA : 0.25284090909090906\n",
      "Right : 0.26846590909090906\n",
      "Left : 0.23721590909090906\n",
      "ITERATION NUMBER 8 ...\n",
      "Job Status: job has successfully run\n"
     ]
    },
    {
     "data": {
      "text/plain": [
       "None"
      ]
     },
     "metadata": {},
     "output_type": "display_data"
    },
    {
     "name": "stdout",
     "output_type": "stream",
     "text": [
      "Job Status: job has successfully run\n"
     ]
    },
    {
     "data": {
      "text/plain": [
       "None"
      ]
     },
     "metadata": {},
     "output_type": "display_data"
    },
    {
     "name": "stdout",
     "output_type": "stream",
     "text": [
      "Job Status: job has successfully run\n"
     ]
    },
    {
     "data": {
      "text/plain": [
       "None"
      ]
     },
     "metadata": {},
     "output_type": "display_data"
    },
    {
     "name": "stdout",
     "output_type": "stream",
     "text": [
      "Job Status: job has successfully run\n"
     ]
    },
    {
     "data": {
      "text/plain": [
       "None"
      ]
     },
     "metadata": {},
     "output_type": "display_data"
    },
    {
     "name": "stdout",
     "output_type": "stream",
     "text": [
      "Job Status: job has successfully run\n"
     ]
    },
    {
     "data": {
      "text/plain": [
       "None"
      ]
     },
     "metadata": {},
     "output_type": "display_data"
    },
    {
     "name": "stdout",
     "output_type": "stream",
     "text": [
      "Job Status: job has successfully run\n"
     ]
    },
    {
     "data": {
      "text/plain": [
       "None"
      ]
     },
     "metadata": {},
     "output_type": "display_data"
    },
    {
     "name": "stdout",
     "output_type": "stream",
     "text": [
      "Job Status: job has successfully run\n"
     ]
    },
    {
     "data": {
      "text/plain": [
       "None"
      ]
     },
     "metadata": {},
     "output_type": "display_data"
    },
    {
     "name": "stdout",
     "output_type": "stream",
     "text": [
      "Job Status: job has successfully run\n"
     ]
    },
    {
     "data": {
      "text/plain": [
       "None"
      ]
     },
     "metadata": {},
     "output_type": "display_data"
    },
    {
     "name": "stdout",
     "output_type": "stream",
     "text": [
      "100.000000 %completed\n",
      "No change, updating a...\n",
      "\n",
      "COST : 0.94921875\n",
      "THETA : 0.25284090909090906\n",
      "Maximum iterations reached for the estimation.\n",
      "Terminating algorithm...\n",
      "Result with 45  resolution : {'cost': 0.94921875, 'theta': 0.25284090909090906, 'state': array([-0.57122119-0.13250256j,  0.54392068+0.00655657j,\n",
      "        0.11536237-0.11537476j, -0.16313541-0.55409725j])}\n",
      "Job Status: job has successfully run\n"
     ]
    },
    {
     "data": {
      "text/plain": [
       "None"
      ]
     },
     "metadata": {},
     "output_type": "display_data"
    },
    {
     "name": "stdout",
     "output_type": "stream",
     "text": [
      "Right : 0.7397959183673469\n",
      "Left : 0.23979591836734693\n",
      "ITERATION NUMBER 1 ...\n",
      "Job Status: job has successfully run\n"
     ]
    },
    {
     "data": {
      "text/plain": [
       "None"
      ]
     },
     "metadata": {},
     "output_type": "display_data"
    },
    {
     "name": "stdout",
     "output_type": "stream",
     "text": [
      "Job Status: job has successfully run\n"
     ]
    },
    {
     "data": {
      "text/plain": [
       "None"
      ]
     },
     "metadata": {},
     "output_type": "display_data"
    },
    {
     "name": "stdout",
     "output_type": "stream",
     "text": [
      "Job Status: job has successfully run\n"
     ]
    },
    {
     "data": {
      "text/plain": [
       "None"
      ]
     },
     "metadata": {},
     "output_type": "display_data"
    },
    {
     "name": "stdout",
     "output_type": "stream",
     "text": [
      "Job Status: job has successfully run\n"
     ]
    },
    {
     "data": {
      "text/plain": [
       "None"
      ]
     },
     "metadata": {},
     "output_type": "display_data"
    },
    {
     "name": "stdout",
     "output_type": "stream",
     "text": [
      "Job Status: job has successfully run\n"
     ]
    },
    {
     "data": {
      "text/plain": [
       "None"
      ]
     },
     "metadata": {},
     "output_type": "display_data"
    },
    {
     "name": "stdout",
     "output_type": "stream",
     "text": [
      "Job Status: job has successfully run\n"
     ]
    },
    {
     "data": {
      "text/plain": [
       "None"
      ]
     },
     "metadata": {},
     "output_type": "display_data"
    },
    {
     "name": "stdout",
     "output_type": "stream",
     "text": [
      "Job Status: job has successfully run\n"
     ]
    },
    {
     "data": {
      "text/plain": [
       "None"
      ]
     },
     "metadata": {},
     "output_type": "display_data"
    },
    {
     "name": "stdout",
     "output_type": "stream",
     "text": [
      "Job Status: job has successfully run\n"
     ]
    },
    {
     "data": {
      "text/plain": [
       "None"
      ]
     },
     "metadata": {},
     "output_type": "display_data"
    },
    {
     "name": "stdout",
     "output_type": "stream",
     "text": [
      "100.000000 %completedBest Phi is : [ 0.13433743-0.3609413j   0.32787439-0.13266002j -0.38604471-0.73562441j\n",
      " -0.10705671+0.1579228j ]\n",
      "Theta estimate : 0.5357142857142857\n",
      "Current cost : 0.818359375\n",
      "\n",
      "COST : 0.818359375\n",
      "THETA : 0.5357142857142857\n",
      "Right : 0.6607142857142857\n",
      "Left : 0.4107142857142857\n",
      "ITERATION NUMBER 2 ...\n",
      "Job Status: job has successfully run\n"
     ]
    },
    {
     "data": {
      "text/plain": [
       "None"
      ]
     },
     "metadata": {},
     "output_type": "display_data"
    },
    {
     "name": "stdout",
     "output_type": "stream",
     "text": [
      "Job Status: job has successfully run\n"
     ]
    },
    {
     "data": {
      "text/plain": [
       "None"
      ]
     },
     "metadata": {},
     "output_type": "display_data"
    },
    {
     "name": "stdout",
     "output_type": "stream",
     "text": [
      "Job Status: job has successfully run\n"
     ]
    },
    {
     "data": {
      "text/plain": [
       "None"
      ]
     },
     "metadata": {},
     "output_type": "display_data"
    },
    {
     "name": "stdout",
     "output_type": "stream",
     "text": [
      "Job Status: job has successfully run\n"
     ]
    },
    {
     "data": {
      "text/plain": [
       "None"
      ]
     },
     "metadata": {},
     "output_type": "display_data"
    },
    {
     "name": "stdout",
     "output_type": "stream",
     "text": [
      "Job Status: job has successfully run\n"
     ]
    },
    {
     "data": {
      "text/plain": [
       "None"
      ]
     },
     "metadata": {},
     "output_type": "display_data"
    },
    {
     "name": "stdout",
     "output_type": "stream",
     "text": [
      "Job Status: job has successfully run\n"
     ]
    },
    {
     "data": {
      "text/plain": [
       "None"
      ]
     },
     "metadata": {},
     "output_type": "display_data"
    },
    {
     "name": "stdout",
     "output_type": "stream",
     "text": [
      "Job Status: job has successfully run\n"
     ]
    },
    {
     "data": {
      "text/plain": [
       "None"
      ]
     },
     "metadata": {},
     "output_type": "display_data"
    },
    {
     "name": "stdout",
     "output_type": "stream",
     "text": [
      "Job Status: job has successfully run\n"
     ]
    },
    {
     "data": {
      "text/plain": [
       "None"
      ]
     },
     "metadata": {},
     "output_type": "display_data"
    },
    {
     "name": "stdout",
     "output_type": "stream",
     "text": [
      "100.000000 %completedBest Phi is : [ 0.22341367-0.34999381j  0.24112264-0.1911073j  -0.37605382-0.74908425j\n",
      " -0.01931725+0.17323884j]\n",
      "Theta estimate : 0.548469387755102\n",
      "Current cost : 0.890625\n",
      "\n",
      "COST : 0.890625\n",
      "THETA : 0.548469387755102\n",
      "Right : 0.610969387755102\n",
      "Left : 0.485969387755102\n",
      "ITERATION NUMBER 3 ...\n",
      "Job Status: job has successfully run\n"
     ]
    },
    {
     "data": {
      "text/plain": [
       "None"
      ]
     },
     "metadata": {},
     "output_type": "display_data"
    },
    {
     "name": "stdout",
     "output_type": "stream",
     "text": [
      "Job Status: job has successfully run\n"
     ]
    },
    {
     "data": {
      "text/plain": [
       "None"
      ]
     },
     "metadata": {},
     "output_type": "display_data"
    },
    {
     "name": "stdout",
     "output_type": "stream",
     "text": [
      "Job Status: job has successfully run\n"
     ]
    },
    {
     "data": {
      "text/plain": [
       "None"
      ]
     },
     "metadata": {},
     "output_type": "display_data"
    },
    {
     "name": "stdout",
     "output_type": "stream",
     "text": [
      "Job Status: job has successfully run\n"
     ]
    },
    {
     "data": {
      "text/plain": [
       "None"
      ]
     },
     "metadata": {},
     "output_type": "display_data"
    },
    {
     "name": "stdout",
     "output_type": "stream",
     "text": [
      "Job Status: job has successfully run\n"
     ]
    },
    {
     "data": {
      "text/plain": [
       "None"
      ]
     },
     "metadata": {},
     "output_type": "display_data"
    },
    {
     "name": "stdout",
     "output_type": "stream",
     "text": [
      "Job Status: job has successfully run\n"
     ]
    },
    {
     "data": {
      "text/plain": [
       "None"
      ]
     },
     "metadata": {},
     "output_type": "display_data"
    },
    {
     "name": "stdout",
     "output_type": "stream",
     "text": [
      "Job Status: job has successfully run\n"
     ]
    },
    {
     "data": {
      "text/plain": [
       "None"
      ]
     },
     "metadata": {},
     "output_type": "display_data"
    },
    {
     "name": "stdout",
     "output_type": "stream",
     "text": [
      "Job Status: job has successfully run\n"
     ]
    },
    {
     "data": {
      "text/plain": [
       "None"
      ]
     },
     "metadata": {},
     "output_type": "display_data"
    },
    {
     "name": "stdout",
     "output_type": "stream",
     "text": [
      "100.000000 %completedBest Phi is : [ 0.22914322-0.42567066j  0.24787899-0.23184584j -0.32950855-0.71029147j\n",
      " -0.03950418+0.19092135j]\n",
      "Theta estimate : 0.5318877551020408\n",
      "Current cost : 0.89453125\n",
      "\n",
      "COST : 0.89453125\n",
      "THETA : 0.5318877551020408\n",
      "Right : 0.5631377551020408\n",
      "Left : 0.5006377551020408\n",
      "ITERATION NUMBER 4 ...\n",
      "Job Status: job has successfully run\n"
     ]
    },
    {
     "data": {
      "text/plain": [
       "None"
      ]
     },
     "metadata": {},
     "output_type": "display_data"
    },
    {
     "name": "stdout",
     "output_type": "stream",
     "text": [
      "Job Status: job has successfully run\n"
     ]
    },
    {
     "data": {
      "text/plain": [
       "None"
      ]
     },
     "metadata": {},
     "output_type": "display_data"
    },
    {
     "name": "stdout",
     "output_type": "stream",
     "text": [
      "Job Status: job has successfully run\n"
     ]
    },
    {
     "data": {
      "text/plain": [
       "None"
      ]
     },
     "metadata": {},
     "output_type": "display_data"
    },
    {
     "name": "stdout",
     "output_type": "stream",
     "text": [
      "Job Status: job has successfully run\n"
     ]
    },
    {
     "data": {
      "text/plain": [
       "None"
      ]
     },
     "metadata": {},
     "output_type": "display_data"
    },
    {
     "name": "stdout",
     "output_type": "stream",
     "text": [
      "Job Status: job has successfully run\n"
     ]
    },
    {
     "data": {
      "text/plain": [
       "None"
      ]
     },
     "metadata": {},
     "output_type": "display_data"
    },
    {
     "name": "stdout",
     "output_type": "stream",
     "text": [
      "Job Status: job has successfully run\n"
     ]
    },
    {
     "data": {
      "text/plain": [
       "None"
      ]
     },
     "metadata": {},
     "output_type": "display_data"
    },
    {
     "name": "stdout",
     "output_type": "stream",
     "text": [
      "Job Status: job has successfully run\n"
     ]
    },
    {
     "data": {
      "text/plain": [
       "None"
      ]
     },
     "metadata": {},
     "output_type": "display_data"
    },
    {
     "name": "stdout",
     "output_type": "stream",
     "text": [
      "Job Status: job has successfully run\n"
     ]
    },
    {
     "data": {
      "text/plain": [
       "None"
      ]
     },
     "metadata": {},
     "output_type": "display_data"
    },
    {
     "name": "stdout",
     "output_type": "stream",
     "text": [
      "100.000000 %completedBest Phi is : [ 0.22133722-0.48297044j  0.20573785-0.18933506j -0.36299507-0.69832133j\n",
      " -0.02407495+0.13991375j]\n",
      "Theta estimate : 0.5414540816326531\n",
      "Current cost : 0.927734375\n",
      "\n",
      "COST : 0.927734375\n",
      "THETA : 0.5414540816326531\n",
      "Right : 0.5570790816326531\n",
      "Left : 0.5258290816326531\n",
      "ITERATION NUMBER 5 ...\n",
      "Job Status: job has successfully run\n"
     ]
    },
    {
     "data": {
      "text/plain": [
       "None"
      ]
     },
     "metadata": {},
     "output_type": "display_data"
    },
    {
     "name": "stdout",
     "output_type": "stream",
     "text": [
      "Job Status: job has successfully run\n"
     ]
    },
    {
     "data": {
      "text/plain": [
       "None"
      ]
     },
     "metadata": {},
     "output_type": "display_data"
    },
    {
     "name": "stdout",
     "output_type": "stream",
     "text": [
      "Job Status: job has successfully run\n"
     ]
    },
    {
     "data": {
      "text/plain": [
       "None"
      ]
     },
     "metadata": {},
     "output_type": "display_data"
    },
    {
     "name": "stdout",
     "output_type": "stream",
     "text": [
      "Job Status: job has successfully run\n"
     ]
    },
    {
     "data": {
      "text/plain": [
       "None"
      ]
     },
     "metadata": {},
     "output_type": "display_data"
    },
    {
     "name": "stdout",
     "output_type": "stream",
     "text": [
      "Job Status: job has successfully run\n"
     ]
    },
    {
     "data": {
      "text/plain": [
       "None"
      ]
     },
     "metadata": {},
     "output_type": "display_data"
    },
    {
     "name": "stdout",
     "output_type": "stream",
     "text": [
      "Job Status: job has successfully run\n"
     ]
    },
    {
     "data": {
      "text/plain": [
       "None"
      ]
     },
     "metadata": {},
     "output_type": "display_data"
    },
    {
     "name": "stdout",
     "output_type": "stream",
     "text": [
      "Job Status: job has successfully run\n"
     ]
    },
    {
     "data": {
      "text/plain": [
       "None"
      ]
     },
     "metadata": {},
     "output_type": "display_data"
    },
    {
     "name": "stdout",
     "output_type": "stream",
     "text": [
      "Job Status: job has successfully run\n"
     ]
    },
    {
     "data": {
      "text/plain": [
       "None"
      ]
     },
     "metadata": {},
     "output_type": "display_data"
    },
    {
     "name": "stdout",
     "output_type": "stream",
     "text": [
      "100.000000 %completedBest Phi is : [ 0.21465335-0.51880643j  0.1758621 -0.15931151j -0.38343124-0.68581958j\n",
      " -0.0134581 +0.10443688j]\n",
      "Theta estimate : 0.5481505102040817\n",
      "Current cost : 0.9375\n",
      "\n",
      "COST : 0.9375\n",
      "THETA : 0.5481505102040817\n",
      "Right : 0.5559630102040817\n",
      "Left : 0.5403380102040817\n",
      "ITERATION NUMBER 6 ...\n",
      "Job Status: job has successfully run\n"
     ]
    },
    {
     "data": {
      "text/plain": [
       "None"
      ]
     },
     "metadata": {},
     "output_type": "display_data"
    },
    {
     "name": "stdout",
     "output_type": "stream",
     "text": [
      "Job Status: job has successfully run\n"
     ]
    },
    {
     "data": {
      "text/plain": [
       "None"
      ]
     },
     "metadata": {},
     "output_type": "display_data"
    },
    {
     "name": "stdout",
     "output_type": "stream",
     "text": [
      "Job Status: job has successfully run\n"
     ]
    },
    {
     "data": {
      "text/plain": [
       "None"
      ]
     },
     "metadata": {},
     "output_type": "display_data"
    },
    {
     "name": "stdout",
     "output_type": "stream",
     "text": [
      "Job Status: job has successfully run\n"
     ]
    },
    {
     "data": {
      "text/plain": [
       "None"
      ]
     },
     "metadata": {},
     "output_type": "display_data"
    },
    {
     "name": "stdout",
     "output_type": "stream",
     "text": [
      "Job Status: job has successfully run\n"
     ]
    },
    {
     "data": {
      "text/plain": [
       "None"
      ]
     },
     "metadata": {},
     "output_type": "display_data"
    },
    {
     "name": "stdout",
     "output_type": "stream",
     "text": [
      "Job Status: job has successfully run\n"
     ]
    },
    {
     "data": {
      "text/plain": [
       "None"
      ]
     },
     "metadata": {},
     "output_type": "display_data"
    },
    {
     "name": "stdout",
     "output_type": "stream",
     "text": [
      "Job Status: job has successfully run\n"
     ]
    },
    {
     "data": {
      "text/plain": [
       "None"
      ]
     },
     "metadata": {},
     "output_type": "display_data"
    },
    {
     "name": "stdout",
     "output_type": "stream",
     "text": [
      "Job Status: job has successfully run\n"
     ]
    },
    {
     "data": {
      "text/plain": [
       "None"
      ]
     },
     "metadata": {},
     "output_type": "display_data"
    },
    {
     "name": "stdout",
     "output_type": "stream",
     "text": [
      "100.000000 %completedBest Phi is : [ 0.2365295 -0.5190682j   0.17729575-0.13085886j -0.34092234-0.70815223j\n",
      " -0.02112073+0.08894076j]\n",
      "Theta estimate : 0.5435267857142858\n",
      "Current cost : 0.951171875\n",
      "\n",
      "COST : 0.951171875\n",
      "THETA : 0.5435267857142858\n",
      "Right : 0.5474330357142858\n",
      "Left : 0.5396205357142858\n",
      "ITERATION NUMBER 7 ...\n",
      "Job Status: job has successfully run\n"
     ]
    },
    {
     "data": {
      "text/plain": [
       "None"
      ]
     },
     "metadata": {},
     "output_type": "display_data"
    },
    {
     "name": "stdout",
     "output_type": "stream",
     "text": [
      "Job Status: job has successfully run\n"
     ]
    },
    {
     "data": {
      "text/plain": [
       "None"
      ]
     },
     "metadata": {},
     "output_type": "display_data"
    },
    {
     "name": "stdout",
     "output_type": "stream",
     "text": [
      "Job Status: job has successfully run\n"
     ]
    },
    {
     "data": {
      "text/plain": [
       "None"
      ]
     },
     "metadata": {},
     "output_type": "display_data"
    },
    {
     "name": "stdout",
     "output_type": "stream",
     "text": [
      "Job Status: job has successfully run\n"
     ]
    },
    {
     "data": {
      "text/plain": [
       "None"
      ]
     },
     "metadata": {},
     "output_type": "display_data"
    },
    {
     "name": "stdout",
     "output_type": "stream",
     "text": [
      "Job Status: job has successfully run\n"
     ]
    },
    {
     "data": {
      "text/plain": [
       "None"
      ]
     },
     "metadata": {},
     "output_type": "display_data"
    },
    {
     "name": "stdout",
     "output_type": "stream",
     "text": [
      "Job Status: job has successfully run\n"
     ]
    },
    {
     "data": {
      "text/plain": [
       "None"
      ]
     },
     "metadata": {},
     "output_type": "display_data"
    },
    {
     "name": "stdout",
     "output_type": "stream",
     "text": [
      "Job Status: job has successfully run\n"
     ]
    },
    {
     "data": {
      "text/plain": [
       "None"
      ]
     },
     "metadata": {},
     "output_type": "display_data"
    },
    {
     "name": "stdout",
     "output_type": "stream",
     "text": [
      "Job Status: job has successfully run\n"
     ]
    },
    {
     "data": {
      "text/plain": [
       "None"
      ]
     },
     "metadata": {},
     "output_type": "display_data"
    },
    {
     "name": "stdout",
     "output_type": "stream",
     "text": [
      "100.000000 %completedBest Phi is : [ 0.25291126-0.51787389j  0.17793359-0.10837141j -0.30693395-0.72361896j\n",
      " -0.02702506+0.07664587j]\n",
      "Theta estimate : 0.5452008928571429\n",
      "Current cost : 0.955078125\n",
      "\n",
      "COST : 0.955078125\n",
      "THETA : 0.5452008928571429\n",
      "Right : 0.5471540178571429\n",
      "Left : 0.5432477678571429\n",
      "ITERATION NUMBER 8 ...\n",
      "Job Status: job has successfully run\n"
     ]
    },
    {
     "data": {
      "text/plain": [
       "None"
      ]
     },
     "metadata": {},
     "output_type": "display_data"
    },
    {
     "name": "stdout",
     "output_type": "stream",
     "text": [
      "Job Status: job has successfully run\n"
     ]
    },
    {
     "data": {
      "text/plain": [
       "None"
      ]
     },
     "metadata": {},
     "output_type": "display_data"
    },
    {
     "name": "stdout",
     "output_type": "stream",
     "text": [
      "Job Status: job has successfully run\n"
     ]
    },
    {
     "data": {
      "text/plain": [
       "None"
      ]
     },
     "metadata": {},
     "output_type": "display_data"
    },
    {
     "name": "stdout",
     "output_type": "stream",
     "text": [
      "Job Status: job has successfully run\n"
     ]
    },
    {
     "data": {
      "text/plain": [
       "None"
      ]
     },
     "metadata": {},
     "output_type": "display_data"
    },
    {
     "name": "stdout",
     "output_type": "stream",
     "text": [
      "Job Status: job has successfully run\n"
     ]
    },
    {
     "data": {
      "text/plain": [
       "None"
      ]
     },
     "metadata": {},
     "output_type": "display_data"
    },
    {
     "name": "stdout",
     "output_type": "stream",
     "text": [
      "Job Status: job has successfully run\n"
     ]
    },
    {
     "data": {
      "text/plain": [
       "None"
      ]
     },
     "metadata": {},
     "output_type": "display_data"
    },
    {
     "name": "stdout",
     "output_type": "stream",
     "text": [
      "Job Status: job has successfully run\n"
     ]
    },
    {
     "data": {
      "text/plain": [
       "None"
      ]
     },
     "metadata": {},
     "output_type": "display_data"
    },
    {
     "name": "stdout",
     "output_type": "stream",
     "text": [
      "Job Status: job has successfully run\n"
     ]
    },
    {
     "data": {
      "text/plain": [
       "None"
      ]
     },
     "metadata": {},
     "output_type": "display_data"
    },
    {
     "name": "stdout",
     "output_type": "stream",
     "text": [
      "100.000000 %completed\n",
      "No change, updating a...\n",
      "\n",
      "COST : 0.955078125\n",
      "THETA : 0.5452008928571429\n",
      "Maximum iterations reached for the estimation.\n",
      "Terminating algorithm...\n",
      "Result with 50  resolution : {'cost': 0.955078125, 'theta': 0.5452008928571429, 'state': array([ 0.25291126-0.51787389j,  0.17793359-0.10837141j,\n",
      "       -0.30693395-0.72361896j, -0.02702506+0.07664587j])}\n"
     ]
    },
    {
     "data": {
      "image/png": "[encoded data removed]",
      "text/plain": [
       "<Figure size 432x288 with 1 Axes>"
      ]
     },
     "metadata": {
      "needs_background": "light"
     },
     "output_type": "display_data"
    }
   ],
   "source": [
    "costs = []\n",
    "thetas = []\n",
    "# find how the cost converges with increasing resolution\n",
    "for res in resolutions:\n",
    "    spea = global_max_SPEA(unit_2,resolution=res,error = 3,max_iters=8)\n",
    "    result = spea.get_eigen_pair(progress=True,backend = sim)\n",
    "    print(\"Result with\",res,\" resolution :\",result)\n",
    "    costs.append(result['cost'])\n",
    "    thetas.append(result['theta'])\n",
    "    \n",
    "# plot \n",
    "plt.title(\"2-qubit(modified) unitary cost v/s resolution\",fontsize = 16)\n",
    "plt.xlabel(\"Resolution \",fontsize = 15)\n",
    "plt.ylabel(\"Cost Returned for unitary \",fontsize = 15)\n",
    "plt.plot(resolutions, costs, label = 'Costs of unitary', marker = 's',color = 'red',alpha = 0.5)\n",
    "plt.plot(resolutions, thetas, label = 'Eigenvalues', marker = 'o',color = 'yellow',alpha = 0.5)\n",
    "plt.legend()\n",
    "plt.grid()\n",
    "os.makedirs(\"SPE/Experiment_1/2_qubit/\",exist_ok = True)\n",
    "plt.savefig(\"SPE/Experiment_1/2_qubit/Modified Algorithm Result\",dpi = 200)"
   ]
  },
  {
   "cell_type": "markdown",
   "metadata": {},
   "source": [
    "## 3 - qubit"
   ]
  },
  {
   "cell_type": "code",
   "execution_count": 5,
   "metadata": {},
   "outputs": [
    {
     "data": {
      "text/plain": [
       "array([[ 0.23787835-0.19862312j, -0.30496264-0.09724394j,\n",
       "        -0.05219029+0.01052784j,  0.4311176 -0.22469314j,\n",
       "        -0.08168965-0.08379736j,  0.0638596 +0.15585857j,\n",
       "         0.4663071 -0.35256853j,  0.06859403-0.41689679j],\n",
       "       [ 0.32391133-0.51726953j,  0.03790513+0.23710263j,\n",
       "         0.01543257-0.16152823j, -0.01710495+0.46568308j,\n",
       "        -0.18622522-0.20137389j,  0.03708321+0.27529059j,\n",
       "        -0.00799152-0.16299637j, -0.08943181+0.37330324j],\n",
       "       [ 0.21096375-0.29415246j, -0.10483265+0.16317682j,\n",
       "         0.09829065-0.02480259j,  0.0075889 +0.01455218j,\n",
       "         0.5913661 +0.00483431j,  0.17324549+0.1239067j ,\n",
       "        -0.40656646+0.23704067j,  0.25889731-0.3703917j ],\n",
       "       [ 0.16733083+0.15126945j,  0.18477898+0.66950508j,\n",
       "        -0.07320631-0.29774164j,  0.38031581-0.20893863j,\n",
       "         0.03181026+0.13464198j, -0.34872272-0.16408119j,\n",
       "         0.0505912 +0.10152586j,  0.00071655+0.06240915j],\n",
       "       [ 0.24225214-0.22664599j, -0.16546609-0.45464592j,\n",
       "        -0.20912988-0.57243034j,  0.01195925-0.20275026j,\n",
       "        -0.16320739+0.150904j  , -0.07600654-0.24186267j,\n",
       "        -0.21883822+0.23141273j, -0.1629672 +0.03895539j],\n",
       "       [ 0.02395411+0.03758305j,  0.22225289+0.10965911j,\n",
       "        -0.22822617-0.09495753j, -0.17597432+0.44672025j,\n",
       "        -0.16937891+0.49946831j,  0.11185059+0.01473548j,\n",
       "         0.10609044-0.00488136j, -0.21225463-0.54566075j],\n",
       "       [ 0.2741154 -0.11715242j,  0.02971086+0.11555385j,\n",
       "         0.23972297+0.2259743j , -0.06762332-0.27718274j,\n",
       "        -0.11527568+0.34448107j,  0.51645565-0.05779573j,\n",
       "         0.30750594+0.38876607j, -0.06940753+0.23329621j],\n",
       "       [ 0.3396721 -0.18243121j,  0.10074102-0.00157311j,\n",
       "        -0.15935573+0.54782176j,  0.01941967+0.06614788j,\n",
       "        -0.25014188-0.14178439j, -0.18247929-0.5658668j ,\n",
       "        -0.19709684-0.00165831j,  0.13471926-0.13325916j]])"
      ]
     },
     "execution_count": 5,
     "metadata": {},
     "output_type": "execute_result"
    }
   ],
   "source": [
    "unit_3 = unitary_group.rvs(8)\n",
    "unit_3 "
   ]
  },
  {
   "cell_type": "markdown",
   "metadata": {},
   "source": [
    "- Algorithm 1"
   ]
  },
  {
   "cell_type": "code",
   "execution_count": null,
   "metadata": {},
   "outputs": [],
   "source": [
    "costs = []\n",
    "thetas = []\n",
    "# find how the cost converges with increasing resolution\n",
    "for res in resolutions:\n",
    "    spea = SPEA(unit_3,resolution=res,error = 3,max_iters=10)\n",
    "    result = spea.get_eigen_pair(progress=False,backend = casablanca)\n",
    "    print(\"Result with\",res,\" resolution :\",result)\n",
    "    costs.append(result['cost'])\n",
    "    thetas.append(result['theta'])\n",
    "# plot \n",
    "plt.title(\"3-qubit(basic) unitary cost v/s resolution\",fontsize = 16)\n",
    "plt.xlabel(\"Resolution  \",fontsize = 15)\n",
    "plt.ylabel(\"Cost Returned for unitary \",fontsize = 15)\n",
    "plt.plot(resolutions, costs, label = 'Costs of unitary', marker = 's',color = 'black',alpha = 0.5)\n",
    "plt.plot(resolutions, thetas, label = 'Eigenvalues', marker = 'o',color = 'magenta',alpha = 0.5)\n",
    "\n",
    "plt.legend()\n",
    "plt.grid()\n",
    "os.makedirs(\"SPE/Experiment_1/3_qubit/\",exist_ok = True)\n",
    "plt.savefig(\"SPE/Experiment_1/3_qubit/Basic Algorithm Result\",dpi = 200)"
   ]
  },
  {
   "cell_type": "markdown",
   "metadata": {},
   "source": [
    "- Algorithm 2"
   ]
  },
  {
   "cell_type": "code",
   "execution_count": null,
   "metadata": {},
   "outputs": [],
   "source": [
    "costs = []\n",
    "thetas = []\n",
    "# find how the cost converges with increasing resolution\n",
    "for res in resolutions:\n",
    "    spea = global_max_SPEA(unit_3,resolution=res,error = 3,max_iters=10)\n",
    "    result = spea.get_eigen_pair(progress=False,backend = casablanca)\n",
    "    print(\"Result with\",res,\" resolution :\",result)\n",
    "    costs.append(result['cost'])\n",
    "    thetas.append(result['theta'])\n",
    "    \n",
    "# plot \n",
    "plt.title(\"3-qubit(modified) unitary cost v/s resolution\",fontsize = 16)\n",
    "plt.xlabel(\"Resolution \",fontsize = 15)\n",
    "plt.ylabel(\"Cost Returned for unitary \",fontsize = 15)\n",
    "plt.plot(resolutions, costs, label = 'Costs of unitary', marker = 's',color = 'g',alpha = 0.5)\n",
    "plt.plot(resolutions, thetas, label = 'Eigenvalues', marker = 'o',color = 'yellow',alpha = 0.5)\n",
    "plt.legend()\n",
    "plt.grid()\n",
    "os.makedirs(\"SPE/Experiment_1/3_qubit/\",exist_ok = True)\n",
    "plt.savefig(\"SPE/Experiment_1/3_qubit/Modified Algorithm Result\",dpi = 200)"
   ]
  },
  {
   "cell_type": "markdown",
   "metadata": {},
   "source": [
    "## 4 - qubit"
   ]
  },
  {
   "cell_type": "code",
   "execution_count": null,
   "metadata": {},
   "outputs": [],
   "source": [
    "unit_4 = unitary_group.rvs(16)\n",
    "unit_4"
   ]
  },
  {
   "cell_type": "markdown",
   "metadata": {},
   "source": [
    "- Algorithm 1"
   ]
  },
  {
   "cell_type": "code",
   "execution_count": null,
   "metadata": {},
   "outputs": [],
   "source": [
    "costs = []\n",
    "thetas = []\n",
    "# find how the cost converges with increasing resolution\n",
    "for res in resolutions:\n",
    "    spea = SPEA(unit_4,resolution=res,error = 3,max_iters=10)\n",
    "    result = spea.get_eigen_pair(progress=False,backend = casablanca)\n",
    "    print(\"Result with\",res,\" resolution :\",result)\n",
    "    costs.append(result['cost'])\n",
    "    thetas.append(result['theta'])\n",
    "# plot \n",
    "plt.title(\"4-qubit(basic) unitary cost v/s resolution\",fontsize = 16)\n",
    "plt.xlabel(\"Resolution \",fontsize = 15)\n",
    "plt.ylabel(\"Cost Returned for unitary \",fontsize = 15)\n",
    "plt.plot(resolutions, costs, label = 'Costs of unitary', marker = 's',color = 'red',alpha = 0.5)\n",
    "plt.plot(resolutions, thetas, label = 'Eigenvalues', marker = 'o',color = 'cyan',alpha = 0.5)\n",
    "plt.legend()\n",
    "plt.grid()\n",
    "os.makedirs(\"SPE/Experiment_1/4_qubit/\",exist_ok = True)\n",
    "plt.savefig(\"SPE/Experiment_1/4_qubit/Basic Algorithm Result\",dpi = 200)"
   ]
  },
  {
   "cell_type": "markdown",
   "metadata": {},
   "source": [
    "- Algorithm 2"
   ]
  },
  {
   "cell_type": "code",
   "execution_count": null,
   "metadata": {},
   "outputs": [],
   "source": [
    "costs = []\n",
    "thetas = []\n",
    "# find how the cost converges with increasing resolution\n",
    "for res in resolutions:\n",
    "    spea = global_max_SPEA(unit_4,resolution=res,error = 3,max_iters=10)\n",
    "    result = spea.get_eigen_pair(progress=False,backend = casablanca)\n",
    "    print(\"Result with\",res,\" resolution :\",result)\n",
    "    costs.append(result['cost'])\n",
    "    thetas.append(result['theta'])\n",
    "    \n",
    "# plot \n",
    "plt.title(\"4-qubit(modified) unitary cost v/s resolution\",fontsize = 16)\n",
    "plt.xlabel(\"Resolution \",fontsize = 15)\n",
    "plt.ylabel(\"Cost Returned for unitary \",fontsize = 15)\n",
    "plt.plot(resolutions, costs, label = 'Costs of unitary', marker = 's',color = 'yellow',alpha = 0.7)\n",
    "plt.plot(resolutions, thetas, label = 'Eigenvalues', marker = 'o',color = 'brown',alpha = 0.5)\n",
    "plt.legend()\n",
    "plt.grid()\n",
    "os.makedirs(\"SPE/Experiment_1/4_qubit/\",exist_ok = True)\n",
    "plt.savefig(\"SPE/Experiment_1/4_qubit/Modified Algorithm Result\",dpi = 200)"
   ]
  },
  {
   "cell_type": "markdown",
   "metadata": {},
   "source": [
    "## 5 qubit"
   ]
  },
  {
   "cell_type": "code",
   "execution_count": null,
   "metadata": {},
   "outputs": [],
   "source": [
    "unit_5 = unitary_group.rvs(32)\n",
    "unit_5 "
   ]
  },
  {
   "cell_type": "markdown",
   "metadata": {},
   "source": [
    "- Algorithm 1"
   ]
  },
  {
   "cell_type": "code",
   "execution_count": null,
   "metadata": {},
   "outputs": [],
   "source": [
    "costs = []\n",
    "# find how the cost converges with increasing resolution\n",
    "for res in resolutions:\n",
    "    spea = SPEA(unit_5,resolution=res,error = 3,max_iters=10)\n",
    "    result = spea.get_eigen_pair(progress=False,backend = casablanca)\n",
    "    print(\"Result with\",res,\" resolution :\",result)\n",
    "    costs.append(result['cost'])\n",
    "    \n",
    "# plot \n",
    "plt.title(\"5-qubit(basic) unitary cost v/s resolution\",fontsize = 16)\n",
    "plt.xlabel(\"Resolution \",fontsize = 15)\n",
    "plt.ylabel(\"Cost Returned for unitary \",fontsize = 15)\n",
    "plt.plot(resolutions, costs, label = 'Costs of unitary', marker = 's',color = 'b',alpha = 0.5)\n",
    "plt.legend()\n",
    "plt.grid()\n",
    "os.makedirs(\"SPE/Experiment_1/5_qubit/\",exist_ok = True)\n",
    "plt.savefig(\"SPE/Experiment_1/5_qubit/Basic Algorithm Result\",dpi = 200)"
   ]
  },
  {
   "cell_type": "markdown",
   "metadata": {},
   "source": [
    "- Algorithm 2"
   ]
  },
  {
   "cell_type": "code",
   "execution_count": null,
   "metadata": {},
   "outputs": [],
   "source": [
    "costs = []\n",
    "# find how the cost converges with increasing resolution\n",
    "for res in resolutions:\n",
    "    spea = global_max_SPEA(unit_5,resolution=res,error = 3,max_iters=10)\n",
    "    result = spea.get_eigen_pair(progress=False,backend = casablanca)\n",
    "    print(\"Result with\",res,\" resolution :\",result)\n",
    "    costs.append(result['cost'])\n",
    "    \n",
    "# plot \n",
    "plt.title(\"5-qubit(basic) unitary cost v/s resolution\",fontsize = 16)\n",
    "plt.xlabel(\"Resolution \",fontsize = 15)\n",
    "plt.ylabel(\"Cost Returned for unitary \",fontsize = 15)\n",
    "plt.plot(resolutions, costs, label = 'Costs of unitary', marker = 's',color = 'magenta',alpha = 0.5)\n",
    "plt.legend()\n",
    "plt.grid()\n",
    "os.makedirs(\"SPE/Experiment_1/5_qubit/\",exist_ok = True)\n",
    "plt.savefig(\"SPE/Experiment_1/5_qubit/Modified Algorithm Result\",dpi = 200)"
   ]
  },
  {
   "cell_type": "code",
   "execution_count": null,
   "metadata": {},
   "outputs": [],
   "source": []
  },
  {
   "cell_type": "code",
   "execution_count": null,
   "metadata": {},
   "outputs": [],
   "source": []
  },
  {
   "cell_type": "code",
   "execution_count": null,
   "metadata": {},
   "outputs": [],
   "source": []
  }
 ],
 "metadata": {
  "kernelspec": {
   "display_name": "Python 3",
   "language": "python",
   "name": "python3"
  },
  "language_info": {
   "codemirror_mode": {
    "name": "ipython",
    "version": 3
   },
   "file_extension": ".py",
   "mimetype": "text/x-python",
   "name": "python",
   "nbconvert_exporter": "python",
   "pygments_lexer": "ipython3",
   "version": "3.7.4"
  },
  "varInspector": {
   "cols": {
    "lenName": 16,
    "lenType": 16,
    "lenVar": 40
   },
   "kernels_config": {
    "python": {
     "delete_cmd_postfix": "",
     "delete_cmd_prefix": "del ",
     "library": "var_list.py",
     "varRefreshCmd": "print(var_dic_list())"
    },
    "r": {
     "delete_cmd_postfix": ") ",
     "delete_cmd_prefix": "rm(",
     "library": "var_list.r",
     "varRefreshCmd": "cat(var_dic_list()) "
    }
   },
   "types_to_exclude": [
    "module",
    "function",
    "builtin_function_or_method",
    "instance",
    "_Feature"
   ],
   "window_display": false
  }
 },
 "nbformat": 4,
 "nbformat_minor": 2
}
