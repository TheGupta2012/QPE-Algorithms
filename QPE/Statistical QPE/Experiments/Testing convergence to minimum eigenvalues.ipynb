{
 "cells": [
  {
   "cell_type": "markdown",
   "metadata": {},
   "source": [
    "## Eigenvalue experiment\n",
    "- Seeing how the algorithm converges to eigenvalues \n",
    "- We take a 2-qubit unitary and try to run both the **original** method and the **modified** method with resolution = 40, error = 2.\n",
    "- We want to know how the algorithms converge to unitaries as the iterations increase."
   ]
  },
  {
   "cell_type": "code",
   "execution_count": 1,
   "metadata": {
    "ExecuteTime": {
     "end_time": "2021-06-21T07:17:25.336160Z",
     "start_time": "2021-06-21T07:17:23.883811Z"
    }
   },
   "outputs": [],
   "source": [
    "from qiskit import *\n",
    "import matplotlib.pyplot as plt\n",
    "import random\n",
    "from scipy.stats import unitary_group\n",
    "import os\n",
    "import numpy as np"
   ]
  },
  {
   "cell_type": "code",
   "execution_count": 3,
   "metadata": {
    "ExecuteTime": {
     "end_time": "2021-06-21T07:17:28.819578Z",
     "start_time": "2021-06-21T07:17:28.790778Z"
    }
   },
   "outputs": [],
   "source": [
    "from normal_SPEA import SPEA\n",
    "from changed_SPEA import global_max_SPEA"
   ]
  },
  {
   "cell_type": "markdown",
   "metadata": {},
   "source": [
    "### Defining the unitary matrix"
   ]
  },
  {
   "cell_type": "code",
   "execution_count": 76,
   "metadata": {
    "ExecuteTime": {
     "end_time": "2021-06-21T08:30:50.924191Z",
     "start_time": "2021-06-21T08:30:50.919205Z"
    }
   },
   "outputs": [
    {
     "data": {
      "text/plain": [
       "array([[ 0.29197397+0.23135047j, -0.36325818+0.16312474j,\n",
       "         0.5564772 +0.20205637j, -0.35556066-0.47512622j],\n",
       "       [ 0.23399064+0.36344211j,  0.7477677 +0.42324054j,\n",
       "        -0.02471287+0.19606374j,  0.1233662 -0.14352068j],\n",
       "       [ 0.14498482+0.64207265j, -0.0914436 -0.24029461j,\n",
       "        -0.38771948-0.53980702j, -0.18726382-0.1543792j ],\n",
       "       [ 0.48674088+0.0647441j , -0.19221369+0.00975621j,\n",
       "         0.30045998-0.28010787j,  0.72347936+0.17231142j]])"
      ]
     },
     "execution_count": 76,
     "metadata": {},
     "output_type": "execute_result"
    }
   ],
   "source": [
    "unit = unitary_group.rvs(4)\n",
    "unit"
   ]
  },
  {
   "cell_type": "markdown",
   "metadata": {},
   "source": [
    "### Generate the eigenvalues"
   ]
  },
  {
   "cell_type": "code",
   "execution_count": 77,
   "metadata": {
    "ExecuteTime": {
     "end_time": "2021-06-21T08:30:52.342000Z",
     "start_time": "2021-06-21T08:30:52.321016Z"
    }
   },
   "outputs": [
    {
     "name": "stdout",
     "output_type": "stream",
     "text": [
      "Eigenvalues : [0.64453798 0.93013016 0.21193698 0.08871061]\n",
      "Eigenstates : [[-0.36365241+0.2110998j   0.19701118-0.51771608j  0.71779811+0.j\n",
      "   0.01613957-0.0292548j ]\n",
      " [ 0.03119405-0.10302775j  0.18535327+0.36221103j  0.23806696-0.30949427j\n",
      "   0.81877773+0.j        ]\n",
      " [ 0.89508922+0.j          0.22411592-0.12139663j  0.30014677+0.14072831j\n",
      "  -0.06520854-0.14037628j]\n",
      " [ 0.01744472+0.10058317j  0.68017564+0.j         -0.18175045-0.43517529j\n",
      "  -0.25363363+0.49010103j]]\n"
     ]
    }
   ],
   "source": [
    "# get the eigenvalues and eigenstates\n",
    "eig_v, eig_vect = np.linalg.eig(unit)\n",
    "eig_v = np.angle(eig_v)\n",
    "eig = []\n",
    "for k in eig_v:\n",
    "    if k < 0:\n",
    "        e = (k+2*np.pi)/(2*np.pi)\n",
    "    else:\n",
    "        e = (k)/(2*np.pi)\n",
    "    eig.append(e)\n",
    "eig_v = np.array(eig)\n",
    "print(\"Eigenvalues :\", eig_v)\n",
    "print(\"Eigenstates :\", eig_vect)"
   ]
  },
  {
   "cell_type": "markdown",
   "metadata": {},
   "source": [
    "### Generate the basis we provide"
   ]
  },
  {
   "cell_type": "code",
   "execution_count": 78,
   "metadata": {
    "ExecuteTime": {
     "end_time": "2021-06-21T08:30:54.699717Z",
     "start_time": "2021-06-21T08:30:54.690744Z"
    }
   },
   "outputs": [
    {
     "name": "stdout",
     "output_type": "stream",
     "text": [
      "Basis : [array([-0.29062916+0.18544954j, -0.47312897-0.0834948j ,\n",
      "        0.51494952+0.2945805j , -0.54441364+0.04454046j]), array([ 0.31354407-0.5655097j ,  0.09696866-0.48891477j,\n",
      "        0.49319566-0.27593224j, -0.04306749+0.11051224j]), array([ 0.49630394+0.05018374j, -0.67407544-0.16269674j,\n",
      "       -0.12987348+0.27347375j,  0.39937059+0.13843475j]), array([ 0.13626847-0.44229734j,  0.0140701 +0.19922633j,\n",
      "       -0.42193096+0.24287447j, -0.49157448+0.51696775j])]\n",
      "Basis index : 0\n"
     ]
    }
   ],
   "source": [
    "sample = unitary_group.rvs(4)\n",
    "basis = []\n",
    "for k in sample:\n",
    "    basis.append(k)\n",
    "basis_ind = np.random.choice(range(4))\n",
    "print(\"Basis :\", basis)\n",
    "print(\"Basis index :\", basis_ind)"
   ]
  },
  {
   "cell_type": "markdown",
   "metadata": {
    "heading_collapsed": true
   },
   "source": [
    "### Utils"
   ]
  },
  {
   "cell_type": "code",
   "execution_count": 7,
   "metadata": {
    "ExecuteTime": {
     "end_time": "2021-06-21T07:17:31.491517Z",
     "start_time": "2021-06-21T07:17:31.478111Z"
    },
    "hidden": true
   },
   "outputs": [],
   "source": [
    "def generate_plot1(actual_E, returned_E, experiments):\n",
    "    colors = ['blue', 'grey', 'orange', 'red',\n",
    "              'green', 'brown', 'magenta', 'pink']\n",
    "\n",
    "    plt.figure(figsize=(9, 7))\n",
    "    plt.scatter(range(experiments), returned_E, marker='s', color=np.random.choice(colors),\n",
    "                alpha=0.8)\n",
    "    for k in actual_E:\n",
    "        plt.plot([0, experiments], [k, k], color='black',\n",
    "                 linewidth=2, label='Actual Values')\n",
    "    plt.xlabel(\"Experiment Number\", fontsize=14)\n",
    "    plt.ylabel(\"Eigenvalues\", fontsize=14)\n",
    "    plt.title(\"Scatter plot for returned eigenvalues\", fontsize=17)\n",
    "    plt.legend()\n",
    "    plt.grid()"
   ]
  },
  {
   "cell_type": "markdown",
   "metadata": {},
   "source": [
    "### Keeping  everything constant and running the algorithm\n",
    "- Let us try to test the new parameters of *theta_min* and *theta_max* to constrain the values\n",
    "- The basis vectors provided are the same"
   ]
  },
  {
   "cell_type": "markdown",
   "metadata": {},
   "source": [
    "- Algorithm 1"
   ]
  },
  {
   "cell_type": "code",
   "execution_count": 79,
   "metadata": {
    "ExecuteTime": {
     "end_time": "2021-06-21T08:30:57.327084Z",
     "start_time": "2021-06-21T08:30:57.244151Z"
    }
   },
   "outputs": [],
   "source": [
    "spea1 = SPEA(unit, resolution=30, error=2, max_iters=12)\n",
    "simulator = Aer.get_backend('qasm_simulator')"
   ]
  },
  {
   "cell_type": "code",
   "execution_count": 80,
   "metadata": {
    "ExecuteTime": {
     "end_time": "2021-06-21T08:32:10.362598Z",
     "start_time": "2021-06-21T08:30:57.524906Z"
    },
    "collapsed": true
   },
   "outputs": [
    {
     "name": "stdout",
     "output_type": "stream",
     "text": [
      "Maximum iterations reached for the estimation.\n",
      "Terminating algorithm...\n",
      "{'cost': 0.7734375, 'theta': 0.73, 'state': array([-0.12706027+0.40757669j, -0.24832856-0.258307j  ,\n",
      "        0.45960303+0.36208103j, -0.56900713+0.15244874j])}\n",
      "Maximum iterations reached for the estimation.\n",
      "Terminating algorithm...\n",
      "{'cost': 0.775390625, 'theta': 0.73, 'state': array([-0.08713079+0.45099415j, -0.18920886-0.29689597j,\n",
      "        0.43174944+0.36598931j, -0.5600231 +0.17630561j])}\n",
      "Maximum iterations reached for the estimation.\n",
      "Terminating algorithm...\n",
      "Maximum iterations reached for the estimation.\n",
      "Terminating algorithm...\n",
      "{'cost': 0.751953125, 'theta': 0.73, 'state': array([-0.20015118+0.27530682j, -0.26519436-0.33095373j,\n",
      "        0.39181677+0.48194386j, -0.56400526-0.01987561j])}\n",
      "Maximum iterations reached for the estimation.\n",
      "Terminating algorithm...\n",
      "{'cost': 0.771484375, 'theta': 0.73, 'state': array([-0.16373107+0.32292056j, -0.27228573-0.26169236j,\n",
      "        0.45276117+0.43771451j, -0.57223533+0.04745629j])}\n",
      "Maximum iterations reached for the estimation.\n",
      "Terminating algorithm...\n",
      "{'cost': 0.751953125, 'theta': 0.73, 'state': array([-0.11708089+0.27071581j, -0.29017099-0.26169648j,\n",
      "        0.54440112+0.32714814j, -0.58063396+0.14066442j])}\n",
      "Maximum iterations reached for the estimation.\n",
      "Terminating algorithm...\n",
      "{'cost': 0.759765625, 'theta': 0.73, 'state': array([-0.09984652+0.27408119j, -0.29707813-0.04926582j,\n",
      "        0.57524386+0.43362996j, -0.55176691+0.02899078j])}\n",
      "Maximum iterations reached for the estimation.\n",
      "Terminating algorithm...\n",
      "{'cost': 0.755859375, 'theta': 0.73, 'state': array([-0.0976829 +0.3112373j , -0.17548359-0.30016098j,\n",
      "        0.40197566+0.53221049j, -0.57254499+0.00762078j])}\n",
      "Maximum iterations reached for the estimation.\n",
      "Terminating algorithm...\n",
      "Maximum iterations reached for the estimation.\n",
      "Terminating algorithm...\n",
      "Maximum iterations reached for the estimation.\n",
      "Terminating algorithm...\n",
      "{'cost': 0.791015625, 'theta': 0.73, 'state': array([-0.11857585+0.45524682j, -0.21138058-0.33241207j,\n",
      "        0.4032105 +0.33348174j, -0.55769586+0.19671582j])}\n",
      "Maximum iterations reached for the estimation.\n",
      "Terminating algorithm...\n",
      "{'cost': 0.787109375, 'theta': 0.73, 'state': array([-0.19186363+0.30883687j, -0.30455643-0.25554702j,\n",
      "        0.45355286+0.41552507j, -0.57336106+0.05133284j])}\n",
      "Maximum iterations reached for the estimation.\n",
      "Terminating algorithm...\n",
      "{'cost': 0.76171875, 'theta': 0.73, 'state': array([-0.1078396 +0.03580516j, -0.14580902-0.31236809j,\n",
      "        0.12975447+0.64734001j, -0.65667307+0.03390706j])}\n",
      "Maximum iterations reached for the estimation.\n",
      "Terminating algorithm...\n",
      "{'cost': 0.759765625, 'theta': 0.73, 'state': array([-0.05058099+0.39647001j, -0.3295477 -0.24900284j,\n",
      "        0.45466258+0.41195331j, -0.51810233+0.15746548j])}\n",
      "Maximum iterations reached for the estimation.\n",
      "Terminating algorithm...\n",
      "Maximum iterations reached for the estimation.\n",
      "Terminating algorithm...\n",
      "{'cost': 0.767578125, 'theta': 0.73, 'state': array([-0.14501245+0.36519028j, -0.28744879-0.20789753j,\n",
      "        0.49112912+0.37007626j, -0.57156589+0.12209603j])}\n",
      "Maximum iterations reached for the estimation.\n",
      "Terminating algorithm...\n",
      "{'cost': 0.751953125, 'theta': 0.73, 'state': array([-0.14665265+0.1923874j , -0.24679759-0.21077599j,\n",
      "        0.45088594+0.56750283j, -0.54384161-0.12256928j])}\n",
      "Maximum iterations reached for the estimation.\n",
      "Terminating algorithm...\n",
      "Maximum iterations reached for the estimation.\n",
      "Terminating algorithm...\n",
      "{'cost': 0.771484375, 'theta': 0.73, 'state': array([-0.15957604+0.34293422j, -0.27222341-0.33116002j,\n",
      "        0.45543897+0.34421761j, -0.5735873 +0.13507871j])}\n",
      "Maximum iterations reached for the estimation.\n",
      "Terminating algorithm...\n",
      "Maximum iterations reached for the estimation.\n",
      "Terminating algorithm...\n",
      "{'cost': 0.77734375, 'theta': 0.73, 'state': array([-0.10093273+0.41587474j, -0.22409037-0.25060255j,\n",
      "        0.46592762+0.37898758j, -0.56662667+0.14851509j])}\n",
      "Maximum iterations reached for the estimation.\n",
      "Terminating algorithm...\n",
      "{'cost': 0.76953125, 'theta': 0.73, 'state': array([-0.11351237+0.32066472j, -0.26668139-0.1887378j ,\n",
      "        0.43363975+0.40264448j, -0.62611594+0.18804519j])}\n",
      "Maximum iterations reached for the estimation.\n",
      "Terminating algorithm...\n",
      "Maximum iterations reached for the estimation.\n",
      "Terminating algorithm...\n",
      "{'cost': 0.75390625, 'theta': 0.73, 'state': array([-0.1474254 +0.38834749j, -0.17106673-0.43922477j,\n",
      "        0.30051731+0.42572907j, -0.56641137+0.11354305j])}\n",
      "Maximum iterations reached for the estimation.\n",
      "Terminating algorithm...\n",
      "{'cost': 0.755859375, 'theta': 0.73, 'state': array([-0.12942349+0.28171735j, -0.17567812-0.36188351j,\n",
      "        0.3292198 +0.53961096j, -0.58510921+0.01199906j])}\n",
      "Maximum iterations reached for the estimation.\n",
      "Terminating algorithm...\n",
      "Maximum iterations reached for the estimation.\n",
      "Terminating algorithm...\n",
      "{'cost': 0.76953125, 'theta': 0.73, 'state': array([-0.1841494 +0.40710632j, -0.28808398-0.30766636j,\n",
      "        0.41658554+0.3052524j , -0.569315  +0.17849471j])}\n",
      "Maximum iterations reached for the estimation.\n",
      "Terminating algorithm...\n",
      "{'cost': 0.75, 'theta': 0.73, 'state': array([-0.14596354+0.17548162j, -0.25304236-0.18857602j,\n",
      "        0.46045038+0.57189139j, -0.53891203-0.13714593j])}\n"
     ]
    }
   ],
   "source": [
    "eigen_vals_ret1 = []\n",
    "while len(eigen_vals_ret1) != 20:\n",
    "    res = spea1.get_eigen_pair(\n",
    "        backend=simulator, algo='alternate', theta_left=0.6, theta_right=0.73, basis=basis,\n",
    "        basis_ind=basis_ind)\n",
    "    if res['cost'] < 0.75:\n",
    "        continue\n",
    "    print(res)\n",
    "\n",
    "    eigen_vals_ret1.append(res['theta'])"
   ]
  },
  {
   "cell_type": "code",
   "execution_count": 81,
   "metadata": {
    "ExecuteTime": {
     "end_time": "2021-06-21T08:32:10.721910Z",
     "start_time": "2021-06-21T08:32:10.516881Z"
    }
   },
   "outputs": [
    {
     "data": {
      "image/png": "[encoded data removed]",
      "text/plain": [
       "<Figure size 648x504 with 1 Axes>"
      ]
     },
     "metadata": {
      "needs_background": "light"
     },
     "output_type": "display_data"
    }
   ],
   "source": [
    "generate_plot1(eig_v, eigen_vals_ret1, 20)"
   ]
  },
  {
   "cell_type": "markdown",
   "metadata": {},
   "source": [
    "- Algorithm 2"
   ]
  },
  {
   "cell_type": "code",
   "execution_count": 82,
   "metadata": {
    "ExecuteTime": {
     "end_time": "2021-06-21T08:32:10.975437Z",
     "start_time": "2021-06-21T08:32:10.884584Z"
    }
   },
   "outputs": [],
   "source": [
    "spea2 = global_max_SPEA(unit, resolution=30, error=2, max_iters=12)\n",
    "simulator = Aer.get_backend('qasm_simulator')"
   ]
  },
  {
   "cell_type": "code",
   "execution_count": 83,
   "metadata": {
    "ExecuteTime": {
     "end_time": "2021-06-21T08:33:38.366850Z",
     "start_time": "2021-06-21T08:32:11.170676Z"
    },
    "code_folding": [],
    "collapsed": true
   },
   "outputs": [
    {
     "name": "stdout",
     "output_type": "stream",
     "text": [
      "Maximum iterations reached for the estimation.\n",
      "Terminating algorithm...\n",
      "Maximum iterations reached for the estimation.\n",
      "Terminating algorithm...\n",
      "Maximum iterations reached for the estimation.\n",
      "Terminating algorithm...\n",
      "Maximum iterations reached for the estimation.\n",
      "Terminating algorithm...\n",
      "{'cost': 0.75390625, 'theta': 0.73, 'state': array([-0.05936643+0.35103081j, -0.20426784-0.20270321j,\n",
      "        0.41720407+0.4266517j , -0.62580632+0.2066751j ])}\n",
      "Maximum iterations reached for the estimation.\n",
      "Terminating algorithm...\n",
      "{'cost': 0.759765625, 'theta': 0.73, 'state': array([-0.13499328+0.46520731j, -0.20898593-0.36317427j,\n",
      "        0.37623927+0.30812649j, -0.55435553+0.21443024j])}\n",
      "Maximum iterations reached for the estimation.\n",
      "Terminating algorithm...\n",
      "{'cost': 0.763671875, 'theta': 0.73, 'state': array([-0.05002935+0.33699224j, -0.20915147-0.29696942j,\n",
      "        0.53340356+0.35203405j, -0.5655985 +0.15378273j])}\n",
      "Maximum iterations reached for the estimation.\n",
      "Terminating algorithm...\n",
      "{'cost': 0.78125, 'theta': 0.73, 'state': array([-0.10340438+0.44373174j, -0.20221722-0.30786957j,\n",
      "        0.41453964+0.35400202j, -0.56810824+0.19190282j])}\n",
      "Maximum iterations reached for the estimation.\n",
      "Terminating algorithm...\n",
      "Maximum iterations reached for the estimation.\n",
      "Terminating algorithm...\n",
      "{'cost': 0.765625, 'theta': 0.73, 'state': array([-0.16941417+0.32906704j, -0.32426562-0.18061915j,\n",
      "        0.50658229+0.36230534j, -0.57132198+0.10460722j])}\n",
      "Maximum iterations reached for the estimation.\n",
      "Terminating algorithm...\n",
      "{'cost': 0.759765625, 'theta': 0.73, 'state': array([-0.20764956+0.29467074j, -0.34657821-0.22640804j,\n",
      "        0.3978551 +0.33014564j, -0.62396251+0.20508466j])}\n",
      "Maximum iterations reached for the estimation.\n",
      "Terminating algorithm...\n",
      "{'cost': 0.7734375, 'theta': 0.73, 'state': array([-0.11101493+0.40275639j, -0.23999477-0.23797558j,\n",
      "        0.47428084+0.37857304j, -0.56846699+0.14077832j])}\n",
      "Maximum iterations reached for the estimation.\n",
      "Terminating algorithm...\n",
      "{'cost': 0.78515625, 'theta': 0.73, 'state': array([-0.13673902+0.32031408j, -0.30653042-0.14969388j,\n",
      "        0.52958493+0.38652877j, -0.57039195+0.08438311j])}\n",
      "Maximum iterations reached for the estimation.\n",
      "Terminating algorithm...\n",
      "{'cost': 0.787109375, 'theta': 0.73, 'state': array([-0.17192782+0.3926955j , -0.28857915-0.27257495j,\n",
      "        0.44532483+0.33041414j, -0.5706393 +0.15980962j])}\n",
      "Maximum iterations reached for the estimation.\n",
      "Terminating algorithm...\n",
      "{'cost': 0.775390625, 'theta': 0.73, 'state': array([-0.15852142+0.35638373j, -0.3044592 -0.22616254j,\n",
      "        0.45557323+0.34860336j, -0.59479193+0.14549223j])}\n",
      "Maximum iterations reached for the estimation.\n",
      "Terminating algorithm...\n",
      "Maximum iterations reached for the estimation.\n",
      "Terminating algorithm...\n",
      "{'cost': 0.755859375, 'theta': 0.73, 'state': array([-0.10731281+0.27363031j, -0.2729233 -0.28232764j,\n",
      "        0.50367337+0.33029521j, -0.60256393+0.18316468j])}\n",
      "Maximum iterations reached for the estimation.\n",
      "Terminating algorithm...\n",
      "Maximum iterations reached for the estimation.\n",
      "Terminating algorithm...\n",
      "{'cost': 0.7734375, 'theta': 0.73, 'state': array([-0.15991227+0.36143618j, -0.25255108-0.30493466j,\n",
      "        0.42602784+0.41398735j, -0.57171133+0.08535614j])}\n",
      "Maximum iterations reached for the estimation.\n",
      "Terminating algorithm...\n",
      "{'cost': 0.76171875, 'theta': 0.73, 'state': array([-0.10385078+0.33120336j, -0.27112195-0.13616061j,\n",
      "        0.53269541+0.42035563j, -0.56672562+0.07636317j])}\n",
      "Maximum iterations reached for the estimation.\n",
      "Terminating algorithm...\n",
      "{'cost': 0.76953125, 'theta': 0.73, 'state': array([-0.20372574+0.4160021j , -0.29027157-0.34101351j,\n",
      "        0.38810921+0.27956692j, -0.56237165+0.19960455j])}\n",
      "Maximum iterations reached for the estimation.\n",
      "Terminating algorithm...\n",
      "{'cost': 0.771484375, 'theta': 0.73, 'state': array([-0.08411887+0.40629153j, -0.23428351-0.23000076j,\n",
      "        0.47962613+0.39659468j, -0.56028642+0.13715923j])}\n",
      "Maximum iterations reached for the estimation.\n",
      "Terminating algorithm...\n",
      "{'cost': 0.77734375, 'theta': 0.73, 'state': array([-0.19089292+0.34285832j, -0.33215775-0.21260056j,\n",
      "        0.48163369+0.34013399j, -0.57227943+0.12375139j])}\n",
      "Maximum iterations reached for the estimation.\n",
      "Terminating algorithm...\n",
      "{'cost': 0.77734375, 'theta': 0.73, 'state': array([-0.09662353+0.43508014j, -0.20773163-0.27804711j,\n",
      "        0.44623192+0.36981183j, -0.56376529+0.16489853j])}\n",
      "Maximum iterations reached for the estimation.\n",
      "Terminating algorithm...\n",
      "{'cost': 0.771484375, 'theta': 0.73, 'state': array([-0.09116257+0.4100021j , -0.22031229-0.23461984j,\n",
      "        0.47697683+0.39081579j, -0.56618803+0.13853131j])}\n",
      "Maximum iterations reached for the estimation.\n",
      "Terminating algorithm...\n",
      "Maximum iterations reached for the estimation.\n",
      "Terminating algorithm...\n",
      "Maximum iterations reached for the estimation.\n",
      "Terminating algorithm...\n",
      "{'cost': 0.76953125, 'theta': 0.73, 'state': array([-0.14764542+0.3914896j , -0.27318159-0.24998123j,\n",
      "        0.46374748+0.35371106j, -0.57099416+0.1470046j ])}\n",
      "Maximum iterations reached for the estimation.\n",
      "Terminating algorithm...\n",
      "{'cost': 0.779296875, 'theta': 0.73, 'state': array([-0.17004426+0.35716724j, -0.31076479-0.21659761j,\n",
      "        0.48205762+0.3508234j , -0.57337675+0.12573675j])}\n"
     ]
    }
   ],
   "source": [
    "eigen_vals_ret2 = []\n",
    "while len(eigen_vals_ret2) != 20:\n",
    "    res = spea2.get_eigen_pair(\n",
    "        backend=simulator, algo='alternate', theta_left=0.6, theta_right=0.73, basis=basis,\n",
    "        basis_ind=basis_ind)\n",
    "    if res['cost'] < 0.75:\n",
    "        continue\n",
    "    print(res)\n",
    "    eigen_vals_ret2.append(res['theta'])"
   ]
  },
  {
   "cell_type": "code",
   "execution_count": 84,
   "metadata": {
    "ExecuteTime": {
     "end_time": "2021-06-21T08:33:38.978323Z",
     "start_time": "2021-06-21T08:33:38.575365Z"
    }
   },
   "outputs": [
    {
     "data": {
      "image/png": "[encoded data removed]",
      "text/plain": [
       "<Figure size 648x504 with 1 Axes>"
      ]
     },
     "metadata": {
      "needs_background": "light"
     },
     "output_type": "display_data"
    }
   ],
   "source": [
    "generate_plot1(eig_v, eigen_vals_ret2, 20)"
   ]
  },
  {
   "cell_type": "markdown",
   "metadata": {},
   "source": [
    "## Giving random basis vectors"
   ]
  },
  {
   "cell_type": "code",
   "execution_count": 85,
   "metadata": {
    "ExecuteTime": {
     "end_time": "2021-06-21T08:33:39.415042Z",
     "start_time": "2021-06-21T08:33:39.242698Z"
    }
   },
   "outputs": [],
   "source": [
    "spea1 = SPEA(unit, resolution=30, error=2, max_iters=12)\n",
    "simulator = Aer.get_backend('qasm_simulator')"
   ]
  },
  {
   "cell_type": "code",
   "execution_count": 86,
   "metadata": {
    "ExecuteTime": {
     "end_time": "2021-06-21T08:34:53.052333Z",
     "start_time": "2021-06-21T08:33:39.625587Z"
    },
    "collapsed": true
   },
   "outputs": [
    {
     "name": "stdout",
     "output_type": "stream",
     "text": [
      "Maximum iterations reached for the estimation.\n",
      "Terminating algorithm...\n",
      "{'cost': 0.951171875, 'theta': 0.69775390625, 'state': array([-0.00079628-0.29369487j,  0.06707962-0.11701427j,\n",
      "       -0.52940852+0.73153315j, -0.28076539-0.03615715j])}\n",
      "Maximum iterations reached for the estimation.\n",
      "Terminating algorithm...\n",
      "{'cost': 0.755859375, 'theta': 0.73, 'state': array([ 0.71372928+0.22922621j, -0.34936347+0.29579997j,\n",
      "       -0.02758802-0.28969774j,  0.02139754+0.37861545j])}\n",
      "Maximum iterations reached for the estimation.\n",
      "Terminating algorithm...\n",
      "Maximum iterations reached for the estimation.\n",
      "Terminating algorithm...\n",
      "{'cost': 0.94921875, 'theta': 0.6752311236623068, 'state': array([0.07489672+0.2196589j , 0.09312764+0.01217499j,\n",
      "       0.2216258 -0.8880229j , 0.31501798+0.01950531j])}\n",
      "Maximum iterations reached for the estimation.\n",
      "Terminating algorithm...\n",
      "Maximum iterations reached for the estimation.\n",
      "Terminating algorithm...\n",
      "{'cost': 0.9375, 'theta': 0.6737904094827587, 'state': array([-0.23323086+0.35566729j, -0.09110734-0.13625963j,\n",
      "        0.81762257-0.22683866j,  0.23298256-0.13414017j])}\n",
      "Maximum iterations reached for the estimation.\n",
      "Terminating algorithm...\n",
      "{'cost': 0.912109375, 'theta': 0.6817052801724139, 'state': array([-0.32499287+0.40072068j,  0.04434742+0.0297133j ,\n",
      "        0.71053424-0.2624879j ,  0.14445349+0.36922538j])}\n",
      "Maximum iterations reached for the estimation.\n",
      "Terminating algorithm...\n",
      "{'cost': 0.931640625, 'theta': 0.6881492456896551, 'state': array([-0.48460397-0.22164643j,  0.12661321-0.10682019j,\n",
      "        0.28143555+0.69035399j, -0.30329447-0.20201053j])}\n",
      "Maximum iterations reached for the estimation.\n",
      "Terminating algorithm...\n",
      "Maximum iterations reached for the estimation.\n",
      "Terminating algorithm...\n",
      "{'cost': 0.876953125, 'theta': 0.7007570043103448, 'state': array([-0.24009193+0.12952413j,  0.1543629 +0.25691083j,\n",
      "        0.88661128-0.21911625j,  0.03854089-0.01309202j])}\n",
      "Maximum iterations reached for the estimation.\n",
      "Terminating algorithm...\n",
      "{'cost': 0.798828125, 'theta': 0.698515625, 'state': array([ 0.65658554-0.11475988j, -0.05956203-0.03545604j,\n",
      "       -0.44913376-0.52250592j, -0.24386653-0.12929183j])}\n",
      "Maximum iterations reached for the estimation.\n",
      "Terminating algorithm...\n",
      "{'cost': 0.791015625, 'theta': 0.73, 'state': array([-0.28440602+0.18091092j,  0.3367397 +0.2695983j ,\n",
      "        0.68593522-0.3434834j ,  0.30210158-0.14336752j])}\n",
      "Maximum iterations reached for the estimation.\n",
      "Terminating algorithm...\n",
      "Maximum iterations reached for the estimation.\n",
      "Terminating algorithm...\n",
      "{'cost': 0.873046875, 'theta': 0.72390625, 'state': array([ 0.06155708+0.18688314j,  0.09926534+0.10336145j,\n",
      "       -0.40999285-0.78209585j, -0.13309322-0.37850542j])}\n",
      "Maximum iterations reached for the estimation.\n",
      "Terminating algorithm...\n",
      "{'cost': 0.908203125, 'theta': 0.6724245689655173, 'state': array([-0.30726358+0.32789921j,  0.15934037-0.14622789j,\n",
      "        0.72358057+0.45481531j,  0.08185526+0.1190511j ])}\n",
      "Maximum iterations reached for the estimation.\n",
      "Terminating algorithm...\n",
      "{'cost': 0.76953125, 'theta': 0.73, 'state': array([-0.28873768+0.47221594j, -0.17706998-0.43425057j,\n",
      "        0.50680595+0.34800903j,  0.0139545 +0.30912463j])}\n",
      "Maximum iterations reached for the estimation.\n",
      "Terminating algorithm...\n",
      "{'cost': 0.8671875, 'theta': 0.6813900862068967, 'state': array([-0.42880064-0.24113982j,  0.06250151-0.0317329j ,\n",
      "        0.84238313-0.15731181j,  0.02386998+0.13469248j])}\n",
      "Maximum iterations reached for the estimation.\n",
      "Terminating algorithm...\n",
      "{'cost': 0.779296875, 'theta': 0.73, 'state': array([-0.61743152+0.04062602j, -0.1928439 -0.23561599j,\n",
      "        0.36897446+0.38934541j, -0.38864194-0.29265957j])}\n",
      "Maximum iterations reached for the estimation.\n",
      "Terminating algorithm...\n",
      "{'cost': 0.771484375, 'theta': 0.73, 'state': array([ 0.57925184-0.34334199j, -0.24604064+0.26484283j,\n",
      "       -0.24211189+0.28201146j,  0.2934359 +0.43778147j])}\n",
      "Maximum iterations reached for the estimation.\n",
      "Terminating algorithm...\n",
      "{'cost': 0.916015625, 'theta': 0.7157812499999999, 'state': array([ 0.41183711+0.42645925j, -0.16337495-0.05157411j,\n",
      "       -0.59971683-0.5081469j ,  0.0360191 +0.00071806j])}\n",
      "Maximum iterations reached for the estimation.\n",
      "Terminating algorithm...\n",
      "{'cost': 0.75390625, 'theta': 0.73, 'state': array([-0.46222345-0.36614609j, -0.10219923+0.1077158j ,\n",
      "        0.55744896+0.26329508j,  0.41455926-0.27983232j])}\n",
      "Maximum iterations reached for the estimation.\n",
      "Terminating algorithm...\n",
      "{'cost': 0.796875, 'theta': 0.73, 'state': array([ 0.39727173+0.07596929j, -0.26001235+0.01595144j,\n",
      "       -0.48837474+0.65333936j, -0.00107859+0.32121581j])}\n",
      "Maximum iterations reached for the estimation.\n",
      "Terminating algorithm...\n",
      "{'cost': 0.919921875, 'theta': 0.722890625, 'state': array([-0.207702  +0.12208503j,  0.10729873+0.13495617j,\n",
      "        0.85187395-0.36118888j,  0.23095167+0.05237976j])}\n",
      "Maximum iterations reached for the estimation.\n",
      "Terminating algorithm...\n",
      "{'cost': 0.830078125, 'theta': 0.7040792211652794, 'state': array([-0.30259317+0.21668153j,  0.36633503-0.34596852j,\n",
      "        0.74303556-0.05182715j,  0.07583539-0.21691475j])}\n"
     ]
    }
   ],
   "source": [
    "eigen_vals_ret1_r = []\n",
    "while len(eigen_vals_ret1_r) != 20:\n",
    "    res = spea1.get_eigen_pair(\n",
    "        backend=simulator, algo='alternate', theta_left=0.6, theta_right=0.73)\n",
    "    if res['cost'] < 0.75:\n",
    "        continue\n",
    "    print(res)\n",
    "\n",
    "    eigen_vals_ret1_r.append(res['theta'])"
   ]
  },
  {
   "cell_type": "code",
   "execution_count": 87,
   "metadata": {
    "ExecuteTime": {
     "end_time": "2021-06-21T08:34:53.416403Z",
     "start_time": "2021-06-21T08:34:53.210904Z"
    }
   },
   "outputs": [
    {
     "data": {
      "image/png": "[encoded data removed]",
      "text/plain": [
       "<Figure size 648x504 with 1 Axes>"
      ]
     },
     "metadata": {
      "needs_background": "light"
     },
     "output_type": "display_data"
    }
   ],
   "source": [
    "generate_plot1(eig_v, eigen_vals_ret1_r, 20)"
   ]
  },
  {
   "cell_type": "markdown",
   "metadata": {},
   "source": [
    "- Algorithm 2"
   ]
  },
  {
   "cell_type": "code",
   "execution_count": 88,
   "metadata": {
    "ExecuteTime": {
     "end_time": "2021-06-21T08:34:53.655633Z",
     "start_time": "2021-06-21T08:34:53.576837Z"
    }
   },
   "outputs": [],
   "source": [
    "spea2 = global_max_SPEA(unit, resolution=30, error=2, max_iters=12)\n",
    "simulator = Aer.get_backend('qasm_simulator')"
   ]
  },
  {
   "cell_type": "code",
   "execution_count": 89,
   "metadata": {
    "ExecuteTime": {
     "end_time": "2021-06-21T08:36:30.379068Z",
     "start_time": "2021-06-21T08:34:53.812597Z"
    },
    "collapsed": true
   },
   "outputs": [
    {
     "name": "stdout",
     "output_type": "stream",
     "text": [
      "Maximum iterations reached for the estimation.\n",
      "Terminating algorithm...\n",
      "{'cost': 0.771484375, 'theta': 0.73, 'state': array([-0.09224203+0.42194004j, -0.2136573 -0.25345189j,\n",
      "        0.46400429+0.38225855j, -0.56526459+0.15041634j])}\n",
      "Maximum iterations reached for the estimation.\n",
      "Terminating algorithm...\n",
      "Maximum iterations reached for the estimation.\n",
      "Terminating algorithm...\n",
      "{'cost': 0.771484375, 'theta': 0.73, 'state': array([-0.1461592 +0.37686058j, -0.28131964-0.22630821j,\n",
      "        0.47948997+0.36319976j, -0.57161636+0.13299432j])}\n",
      "Maximum iterations reached for the estimation.\n",
      "Terminating algorithm...\n",
      "{'cost': 0.76171875, 'theta': 0.73, 'state': array([-0.28411461+0.38015643j, -0.35784374-0.36417172j,\n",
      "        0.34818518+0.21056202j, -0.55124063+0.2113085j ])}\n",
      "Maximum iterations reached for the estimation.\n",
      "Terminating algorithm...\n",
      "{'cost': 0.7578125, 'theta': 0.73, 'state': array([-0.08364058+0.34990405j, -0.2680638 -0.14350343j,\n",
      "        0.52357443+0.4024645j , -0.58059197+0.07017898j])}\n",
      "Maximum iterations reached for the estimation.\n",
      "Terminating algorithm...\n",
      "{'cost': 0.765625, 'theta': 0.73, 'state': array([-0.11029164+0.39306592j, -0.24404598-0.2254234j ,\n",
      "        0.4826736 +0.38646121j, -0.56890997+0.13029258j])}\n",
      "Maximum iterations reached for the estimation.\n",
      "Terminating algorithm...\n",
      "{'cost': 0.7734375, 'theta': 0.73, 'state': array([-0.1508906 +0.37346407j, -0.27661471-0.26739704j,\n",
      "        0.44458831+0.34348964j, -0.58627521+0.1742906j ])}\n",
      "Maximum iterations reached for the estimation.\n",
      "Terminating algorithm...\n",
      "Maximum iterations reached for the estimation.\n",
      "Terminating algorithm...\n",
      "Maximum iterations reached for the estimation.\n",
      "Terminating algorithm...\n",
      "{'cost': 0.75, 'theta': 0.73, 'state': array([-0.14895692+0.309586j  , -0.1985564 -0.35793838j,\n",
      "        0.37550725+0.51216376j, -0.55751622-0.01679496j])}\n",
      "Maximum iterations reached for the estimation.\n",
      "Terminating algorithm...\n",
      "{'cost': 0.751953125, 'theta': 0.73, 'state': array([-0.07492285+0.28202866j, -0.25452861-0.1163244j ,\n",
      "        0.46492045+0.44646351j, -0.629046  +0.15921891j])}\n",
      "Maximum iterations reached for the estimation.\n",
      "Terminating algorithm...\n",
      "{'cost': 0.7578125, 'theta': 0.73, 'state': array([-0.15023183+0.30476013j, -0.32104962-0.13424772j,\n",
      "        0.52272529+0.38919366j, -0.57528448+0.08826487j])}\n",
      "Maximum iterations reached for the estimation.\n",
      "Terminating algorithm...\n",
      "{'cost': 0.765625, 'theta': 0.73, 'state': array([-0.11485173+0.40231588j, -0.24306547-0.24030218j,\n",
      "        0.47256339+0.37565385j, -0.56877989+0.14206517j])}\n",
      "Maximum iterations reached for the estimation.\n",
      "Terminating algorithm...\n",
      "{'cost': 0.763671875, 'theta': 0.73, 'state': array([-0.18349762+0.34020443j, -0.29712453-0.30517549j,\n",
      "        0.34009996+0.31084599j, -0.62328487+0.26152871j])}\n",
      "Maximum iterations reached for the estimation.\n",
      "Terminating algorithm...\n",
      "{'cost': 0.763671875, 'theta': 0.73, 'state': array([-0.11811807+0.37834979j, -0.23384796-0.25680542j,\n",
      "        0.4618754 +0.41739212j, -0.57001257+0.09902659j])}\n",
      "Maximum iterations reached for the estimation.\n",
      "Terminating algorithm...\n",
      "{'cost': 0.791015625, 'theta': 0.73, 'state': array([-0.15672911+0.42727783j, -0.24564046-0.33574774j,\n",
      "        0.38125242+0.31228656j, -0.57487037+0.21552638j])}\n",
      "Maximum iterations reached for the estimation.\n",
      "Terminating algorithm...\n",
      "Maximum iterations reached for the estimation.\n",
      "Terminating algorithm...\n",
      "{'cost': 0.775390625, 'theta': 0.73, 'state': array([-0.12550039+0.38736228j, -0.27192446-0.25656485j,\n",
      "        0.47194955+0.36052801j, -0.5652248 +0.14911669j])}\n",
      "Maximum iterations reached for the estimation.\n",
      "Terminating algorithm...\n",
      "{'cost': 0.7890625, 'theta': 0.73, 'state': array([-0.25588743+0.35041j   , -0.36714139-0.28370484j,\n",
      "        0.41988089+0.2694155j , -0.56618874+0.16431327j])}\n",
      "Maximum iterations reached for the estimation.\n",
      "Terminating algorithm...\n",
      "Maximum iterations reached for the estimation.\n",
      "Terminating algorithm...\n",
      "{'cost': 0.763671875, 'theta': 0.73, 'state': array([-0.16260381+0.39054281j, -0.28350602-0.26224125j,\n",
      "        0.45266183+0.34031935j, -0.5719428 +0.15508585j])}\n",
      "Maximum iterations reached for the estimation.\n",
      "Terminating algorithm...\n",
      "{'cost': 0.79296875, 'theta': 0.73, 'state': array([-0.15346021+0.37559679j, -0.28719519-0.23034834j,\n",
      "        0.47611439+0.35748673j, -0.57190175+0.13521204j])}\n",
      "Maximum iterations reached for the estimation.\n",
      "Terminating algorithm...\n",
      "{'cost': 0.77734375, 'theta': 0.73, 'state': array([-0.1533857 +0.39419024j, -0.27532842-0.2590058j ,\n",
      "        0.4569988 +0.3468891j , -0.57083013+0.15221746j])}\n",
      "Maximum iterations reached for the estimation.\n",
      "Terminating algorithm...\n",
      "{'cost': 0.75390625, 'theta': 0.73, 'state': array([-0.13039679+0.37593156j, -0.30719307-0.22183317j,\n",
      "        0.46388245+0.32972785j, -0.60353551+0.09965997j])}\n",
      "Maximum iterations reached for the estimation.\n",
      "Terminating algorithm...\n",
      "{'cost': 0.78125, 'theta': 0.73, 'state': array([-0.09723154+0.41588025j, -0.22094071-0.25063405j,\n",
      "        0.46743314+0.38043122j, -0.56634438+0.14828957j])}\n"
     ]
    }
   ],
   "source": [
    "eigen_vals_ret2_r = []\n",
    "while len(eigen_vals_ret2_r) != 20:\n",
    "    res = spea2.get_eigen_pair(\n",
    "        backend=simulator, algo='alternate', theta_left=0.6, theta_right=0.73, basis=basis,\n",
    "        basis_ind=basis_ind)\n",
    "    if res['cost'] < 0.75:\n",
    "        continue\n",
    "    print(res)\n",
    "    eigen_vals_ret2_r.append(res['theta'])"
   ]
  },
  {
   "cell_type": "code",
   "execution_count": 90,
   "metadata": {
    "ExecuteTime": {
     "end_time": "2021-06-21T08:36:30.996365Z",
     "start_time": "2021-06-21T08:36:30.607776Z"
    }
   },
   "outputs": [
    {
     "data": {
      "image/png": "[encoded data removed]",
      "text/plain": [
       "<Figure size 648x504 with 1 Axes>"
      ]
     },
     "metadata": {
      "needs_background": "light"
     },
     "output_type": "display_data"
    }
   ],
   "source": [
    "generate_plot1(eig_v, eigen_vals_ret2_r, 20)"
   ]
  },
  {
   "cell_type": "markdown",
   "metadata": {},
   "source": [
    "### Variance of global_max is lesser"
   ]
  },
  {
   "cell_type": "code",
   "execution_count": 91,
   "metadata": {
    "ExecuteTime": {
     "end_time": "2021-06-21T08:36:31.212069Z",
     "start_time": "2021-06-21T08:36:31.199367Z"
    }
   },
   "outputs": [
    {
     "name": "stdout",
     "output_type": "stream",
     "text": [
      "VARIANCE \n",
      "Original approach : 0.0004740016476921365 \n",
      "Modified approach : 1.232595164407831e-32\n"
     ]
    }
   ],
   "source": [
    "v1 = np.var(eigen_vals_ret1_r)\n",
    "v2 = np.var(eigen_vals_ret2_r)\n",
    "print(\"VARIANCE \\nOriginal approach :\",v1,\"\\nModified approach :\",v2)"
   ]
  },
  {
   "cell_type": "markdown",
   "metadata": {},
   "source": [
    "### Build Min Eigensolver\n",
    "- Provide a step size to use\n",
    "- Provide a minimum threshold to use\n",
    "- If the threshold is met, we return the eigenvalues discovered, else we continue our search.\n",
    "- Each step uses **exp** number of experiments and tries to evaluate eigenvalues using the SPEA method"
   ]
  },
  {
   "cell_type": "code",
   "execution_count": 98,
   "metadata": {
    "ExecuteTime": {
     "end_time": "2021-06-21T08:52:53.499452Z",
     "start_time": "2021-06-21T08:52:53.477518Z"
    }
   },
   "outputs": [],
   "source": [
    "def min_eigensolver(unitary, step_size, algo, experiments=20, min_threshold=0.9):\n",
    "\n",
    "    # generate the steps\n",
    "    steps = np.arange(0, 1 + 1e-12, step_size)\n",
    "    if steps[-1] != 1:\n",
    "        steps = np.append(steps, 1)\n",
    "    print(\"Steps :\", steps)\n",
    "    if algo == 0:\n",
    "        spe = SPEA(unitary, resolution=40, error=2, max_iters=12)\n",
    "    else:\n",
    "        spe = global_max_SPEA(unitary, resolution=40, error=2, max_iters=12)\n",
    "    # start the experiments\n",
    "    for i in range(len(steps) - 1):\n",
    "        left = steps[i]\n",
    "        right = steps[i+1]\n",
    "        costs , eigs = [], []\n",
    "        for _ in range(experiments):\n",
    "            res = spe.get_eigen_pair(\n",
    "                backend=simulator, theta_left=left, theta_right=right,\n",
    "                randomize=True) \n",
    "            costs.append(res['cost'])\n",
    "            eigs.append(res['theta'])\n",
    "        \n",
    "        if np.average(costs) > min_threshold:\n",
    "            return (np.average(costs),eigs) \n",
    "        "
   ]
  },
  {
   "cell_type": "code",
   "execution_count": 102,
   "metadata": {
    "ExecuteTime": {
     "end_time": "2021-06-21T09:06:10.100730Z",
     "start_time": "2021-06-21T08:57:07.633542Z"
    }
   },
   "outputs": [
    {
     "name": "stdout",
     "output_type": "stream",
     "text": [
      "Steps : [0.  0.1 0.2 0.3 0.4 0.5 0.6 0.7 0.8 0.9 1. ]\n",
      "Maximum iterations reached for the estimation.\n",
      "Terminating algorithm...\n",
      "Maximum iterations reached for the estimation.\n",
      "Terminating algorithm...\n",
      "Maximum iterations reached for the estimation.\n",
      "Terminating algorithm...\n",
      "Maximum iterations reached for the estimation.\n",
      "Terminating algorithm...\n",
      "Maximum iterations reached for the estimation.\n",
      "Terminating algorithm...\n",
      "Maximum iterations reached for the estimation.\n",
      "Terminating algorithm...\n",
      "Maximum iterations reached for the estimation.\n",
      "Terminating algorithm...\n",
      "Maximum iterations reached for the estimation.\n",
      "Terminating algorithm...\n",
      "Maximum iterations reached for the estimation.\n",
      "Terminating algorithm...\n",
      "Maximum iterations reached for the estimation.\n",
      "Terminating algorithm...\n",
      "Maximum iterations reached for the estimation.\n",
      "Terminating algorithm...\n",
      "Maximum iterations reached for the estimation.\n",
      "Terminating algorithm...\n",
      "Maximum iterations reached for the estimation.\n",
      "Terminating algorithm...\n",
      "Maximum iterations reached for the estimation.\n",
      "Terminating algorithm...\n",
      "Maximum iterations reached for the estimation.\n",
      "Terminating algorithm...\n",
      "Maximum iterations reached for the estimation.\n",
      "Terminating algorithm...\n",
      "Maximum iterations reached for the estimation.\n",
      "Terminating algorithm...\n",
      "Maximum iterations reached for the estimation.\n",
      "Terminating algorithm...\n",
      "Maximum iterations reached for the estimation.\n",
      "Terminating algorithm...\n",
      "Maximum iterations reached for the estimation.\n",
      "Terminating algorithm...\n",
      "Maximum iterations reached for the estimation.\n",
      "Terminating algorithm...\n",
      "Maximum iterations reached for the estimation.\n",
      "Terminating algorithm...\n",
      "Maximum iterations reached for the estimation.\n",
      "Terminating algorithm...\n",
      "Maximum iterations reached for the estimation.\n",
      "Terminating algorithm...\n",
      "Maximum iterations reached for the estimation.\n",
      "Terminating algorithm...\n",
      "Maximum iterations reached for the estimation.\n",
      "Terminating algorithm...\n",
      "Maximum iterations reached for the estimation.\n",
      "Terminating algorithm...\n",
      "Maximum iterations reached for the estimation.\n",
      "Terminating algorithm...\n",
      "Maximum iterations reached for the estimation.\n",
      "Terminating algorithm...\n",
      "Maximum iterations reached for the estimation.\n",
      "Terminating algorithm...\n",
      "Maximum iterations reached for the estimation.\n",
      "Terminating algorithm...\n",
      "Maximum iterations reached for the estimation.\n",
      "Terminating algorithm...\n",
      "Maximum iterations reached for the estimation.\n",
      "Terminating algorithm...\n",
      "Maximum iterations reached for the estimation.\n",
      "Terminating algorithm...\n",
      "Maximum iterations reached for the estimation.\n",
      "Terminating algorithm...\n",
      "Maximum iterations reached for the estimation.\n",
      "Terminating algorithm...\n",
      "Maximum iterations reached for the estimation.\n",
      "Terminating algorithm...\n",
      "Maximum iterations reached for the estimation.\n",
      "Terminating algorithm...\n",
      "Maximum iterations reached for the estimation.\n",
      "Terminating algorithm...\n",
      "Maximum iterations reached for the estimation.\n",
      "Terminating algorithm...\n",
      "Maximum iterations reached for the estimation.\n",
      "Terminating algorithm...\n",
      "Maximum iterations reached for the estimation.\n",
      "Terminating algorithm...\n",
      "Maximum iterations reached for the estimation.\n",
      "Terminating algorithm...\n",
      "Maximum iterations reached for the estimation.\n",
      "Terminating algorithm...\n",
      "Maximum iterations reached for the estimation.\n",
      "Terminating algorithm...\n",
      "Maximum iterations reached for the estimation.\n",
      "Terminating algorithm...\n",
      "Maximum iterations reached for the estimation.\n",
      "Terminating algorithm...\n",
      "Maximum iterations reached for the estimation.\n",
      "Terminating algorithm...\n",
      "Maximum iterations reached for the estimation.\n",
      "Terminating algorithm...\n",
      "Maximum iterations reached for the estimation.\n",
      "Terminating algorithm...\n",
      "Maximum iterations reached for the estimation.\n",
      "Terminating algorithm...\n",
      "Maximum iterations reached for the estimation.\n",
      "Terminating algorithm...\n",
      "Maximum iterations reached for the estimation.\n",
      "Terminating algorithm...\n",
      "Maximum iterations reached for the estimation.\n",
      "Terminating algorithm...\n",
      "Maximum iterations reached for the estimation.\n",
      "Terminating algorithm...\n",
      "Maximum iterations reached for the estimation.\n",
      "Terminating algorithm...\n",
      "Maximum iterations reached for the estimation.\n",
      "Terminating algorithm...\n",
      "Maximum iterations reached for the estimation.\n",
      "Terminating algorithm...\n",
      "Maximum iterations reached for the estimation.\n",
      "Terminating algorithm...\n",
      "Maximum iterations reached for the estimation.\n",
      "Terminating algorithm...\n",
      "Maximum iterations reached for the estimation.\n",
      "Terminating algorithm...\n",
      "Maximum iterations reached for the estimation.\n",
      "Terminating algorithm...\n",
      "Maximum iterations reached for the estimation.\n",
      "Terminating algorithm...\n",
      "Maximum iterations reached for the estimation.\n",
      "Terminating algorithm...\n",
      "Maximum iterations reached for the estimation.\n",
      "Terminating algorithm...\n",
      "Maximum iterations reached for the estimation.\n",
      "Terminating algorithm...\n",
      "Maximum iterations reached for the estimation.\n",
      "Terminating algorithm...\n",
      "Maximum iterations reached for the estimation.\n",
      "Terminating algorithm...\n",
      "Maximum iterations reached for the estimation.\n",
      "Terminating algorithm...\n",
      "Maximum iterations reached for the estimation.\n",
      "Terminating algorithm...\n",
      "Maximum iterations reached for the estimation.\n",
      "Terminating algorithm...\n",
      "Maximum iterations reached for the estimation.\n",
      "Terminating algorithm...\n",
      "Maximum iterations reached for the estimation.\n",
      "Terminating algorithm...\n",
      "Maximum iterations reached for the estimation.\n",
      "Terminating algorithm...\n",
      "Maximum iterations reached for the estimation.\n",
      "Terminating algorithm...\n",
      "Maximum iterations reached for the estimation.\n",
      "Terminating algorithm...\n",
      "Maximum iterations reached for the estimation.\n",
      "Terminating algorithm...\n",
      "Maximum iterations reached for the estimation.\n",
      "Terminating algorithm...\n",
      "Maximum iterations reached for the estimation.\n",
      "Terminating algorithm...\n",
      "Maximum iterations reached for the estimation.\n",
      "Terminating algorithm...\n",
      "Maximum iterations reached for the estimation.\n",
      "Terminating algorithm...\n",
      "Maximum iterations reached for the estimation.\n",
      "Terminating algorithm...\n",
      "Maximum iterations reached for the estimation.\n",
      "Terminating algorithm...\n",
      "Maximum iterations reached for the estimation.\n",
      "Terminating algorithm...\n",
      "Maximum iterations reached for the estimation.\n",
      "Terminating algorithm...\n",
      "Maximum iterations reached for the estimation.\n",
      "Terminating algorithm...\n",
      "Maximum iterations reached for the estimation.\n",
      "Terminating algorithm...\n",
      "Maximum iterations reached for the estimation.\n",
      "Terminating algorithm...\n",
      "Maximum iterations reached for the estimation.\n",
      "Terminating algorithm...\n",
      "Maximum iterations reached for the estimation.\n",
      "Terminating algorithm...\n",
      "Maximum iterations reached for the estimation.\n",
      "Terminating algorithm...\n",
      "Maximum iterations reached for the estimation.\n",
      "Terminating algorithm...\n",
      "Maximum iterations reached for the estimation.\n",
      "Terminating algorithm...\n",
      "Maximum iterations reached for the estimation.\n",
      "Terminating algorithm...\n",
      "Maximum iterations reached for the estimation.\n",
      "Terminating algorithm...\n",
      "Maximum iterations reached for the estimation.\n",
      "Terminating algorithm...\n",
      "Maximum iterations reached for the estimation.\n",
      "Terminating algorithm...\n",
      "Maximum iterations reached for the estimation.\n",
      "Terminating algorithm...\n",
      "Maximum iterations reached for the estimation.\n",
      "Terminating algorithm...\n",
      "Maximum iterations reached for the estimation.\n",
      "Terminating algorithm...\n",
      "Maximum iterations reached for the estimation.\n",
      "Terminating algorithm...\n",
      "Maximum iterations reached for the estimation.\n",
      "Terminating algorithm...\n",
      "Maximum iterations reached for the estimation.\n",
      "Terminating algorithm...\n",
      "Maximum iterations reached for the estimation.\n",
      "Terminating algorithm...\n",
      "Maximum iterations reached for the estimation.\n",
      "Terminating algorithm...\n",
      "Maximum iterations reached for the estimation.\n",
      "Terminating algorithm...\n",
      "Maximum iterations reached for the estimation.\n",
      "Terminating algorithm...\n",
      "Maximum iterations reached for the estimation.\n",
      "Terminating algorithm...\n",
      "Maximum iterations reached for the estimation.\n",
      "Terminating algorithm...\n",
      "Maximum iterations reached for the estimation.\n",
      "Terminating algorithm...\n",
      "Maximum iterations reached for the estimation.\n",
      "Terminating algorithm...\n",
      "Maximum iterations reached for the estimation.\n",
      "Terminating algorithm...\n",
      "Maximum iterations reached for the estimation.\n",
      "Terminating algorithm...\n",
      "Maximum iterations reached for the estimation.\n",
      "Terminating algorithm...\n"
     ]
    },
    {
     "name": "stdout",
     "output_type": "stream",
     "text": [
      "Maximum iterations reached for the estimation.\n",
      "Terminating algorithm...\n",
      "Maximum iterations reached for the estimation.\n",
      "Terminating algorithm...\n",
      "Maximum iterations reached for the estimation.\n",
      "Terminating algorithm...\n",
      "Maximum iterations reached for the estimation.\n",
      "Terminating algorithm...\n",
      "Maximum iterations reached for the estimation.\n",
      "Terminating algorithm...\n",
      "Maximum iterations reached for the estimation.\n",
      "Terminating algorithm...\n",
      "Maximum iterations reached for the estimation.\n",
      "Terminating algorithm...\n",
      "Maximum iterations reached for the estimation.\n",
      "Terminating algorithm...\n",
      "Maximum iterations reached for the estimation.\n",
      "Terminating algorithm...\n",
      "Maximum iterations reached for the estimation.\n",
      "Terminating algorithm...\n",
      "Maximum iterations reached for the estimation.\n",
      "Terminating algorithm...\n",
      "Maximum iterations reached for the estimation.\n",
      "Terminating algorithm...\n",
      "Maximum iterations reached for the estimation.\n",
      "Terminating algorithm...\n",
      "Maximum iterations reached for the estimation.\n",
      "Terminating algorithm...\n",
      "Maximum iterations reached for the estimation.\n",
      "Terminating algorithm...\n",
      "Maximum iterations reached for the estimation.\n",
      "Terminating algorithm...\n",
      "Maximum iterations reached for the estimation.\n",
      "Terminating algorithm...\n",
      "Maximum iterations reached for the estimation.\n",
      "Terminating algorithm...\n",
      "Maximum iterations reached for the estimation.\n",
      "Terminating algorithm...\n",
      "Maximum iterations reached for the estimation.\n",
      "Terminating algorithm...\n",
      "Maximum iterations reached for the estimation.\n",
      "Terminating algorithm...\n",
      "Maximum iterations reached for the estimation.\n",
      "Terminating algorithm...\n",
      "Maximum iterations reached for the estimation.\n",
      "Terminating algorithm...\n",
      "Maximum iterations reached for the estimation.\n",
      "Terminating algorithm...\n",
      "Maximum iterations reached for the estimation.\n",
      "Terminating algorithm...\n",
      "Maximum iterations reached for the estimation.\n",
      "Terminating algorithm...\n",
      "Maximum iterations reached for the estimation.\n",
      "Terminating algorithm...\n",
      "Maximum iterations reached for the estimation.\n",
      "Terminating algorithm...\n",
      "Maximum iterations reached for the estimation.\n",
      "Terminating algorithm...\n",
      "Maximum iterations reached for the estimation.\n",
      "Terminating algorithm...\n",
      "Maximum iterations reached for the estimation.\n",
      "Terminating algorithm...\n",
      "Maximum iterations reached for the estimation.\n",
      "Terminating algorithm...\n",
      "Maximum iterations reached for the estimation.\n",
      "Terminating algorithm...\n",
      "Maximum iterations reached for the estimation.\n",
      "Terminating algorithm...\n",
      "Maximum iterations reached for the estimation.\n",
      "Terminating algorithm...\n",
      "Maximum iterations reached for the estimation.\n",
      "Terminating algorithm...\n",
      "Steps : [0.  0.1 0.2 0.3 0.4 0.5 0.6 0.7 0.8 0.9 1. ]\n",
      "Maximum iterations reached for the estimation.\n",
      "Terminating algorithm...\n",
      "Maximum iterations reached for the estimation.\n",
      "Terminating algorithm...\n",
      "Maximum iterations reached for the estimation.\n",
      "Terminating algorithm...\n",
      "Maximum iterations reached for the estimation.\n",
      "Terminating algorithm...\n",
      "Maximum iterations reached for the estimation.\n",
      "Terminating algorithm...\n",
      "Maximum iterations reached for the estimation.\n",
      "Terminating algorithm...\n",
      "Maximum iterations reached for the estimation.\n",
      "Terminating algorithm...\n",
      "Maximum iterations reached for the estimation.\n",
      "Terminating algorithm...\n",
      "Maximum iterations reached for the estimation.\n",
      "Terminating algorithm...\n",
      "Maximum iterations reached for the estimation.\n",
      "Terminating algorithm...\n",
      "Maximum iterations reached for the estimation.\n",
      "Terminating algorithm...\n",
      "Maximum iterations reached for the estimation.\n",
      "Terminating algorithm...\n",
      "Maximum iterations reached for the estimation.\n",
      "Terminating algorithm...\n",
      "Maximum iterations reached for the estimation.\n",
      "Terminating algorithm...\n",
      "Maximum iterations reached for the estimation.\n",
      "Terminating algorithm...\n",
      "Maximum iterations reached for the estimation.\n",
      "Terminating algorithm...\n",
      "Maximum iterations reached for the estimation.\n",
      "Terminating algorithm...\n",
      "Maximum iterations reached for the estimation.\n",
      "Terminating algorithm...\n",
      "Maximum iterations reached for the estimation.\n",
      "Terminating algorithm...\n",
      "Maximum iterations reached for the estimation.\n",
      "Terminating algorithm...\n",
      "Maximum iterations reached for the estimation.\n",
      "Terminating algorithm...\n",
      "Maximum iterations reached for the estimation.\n",
      "Terminating algorithm...\n",
      "Maximum iterations reached for the estimation.\n",
      "Terminating algorithm...\n",
      "Maximum iterations reached for the estimation.\n",
      "Terminating algorithm...\n",
      "Maximum iterations reached for the estimation.\n",
      "Terminating algorithm...\n",
      "Maximum iterations reached for the estimation.\n",
      "Terminating algorithm...\n",
      "Maximum iterations reached for the estimation.\n",
      "Terminating algorithm...\n",
      "Maximum iterations reached for the estimation.\n",
      "Terminating algorithm...\n",
      "Maximum iterations reached for the estimation.\n",
      "Terminating algorithm...\n",
      "Maximum iterations reached for the estimation.\n",
      "Terminating algorithm...\n"
     ]
    }
   ],
   "source": [
    "res1 = min_eigensolver(unit,0.1,algo = 0,experiments=15,min_threshold=0.85)\n",
    "res2 = min_eigensolver(unit,0.1,algo = 1,experiments=15,min_threshold=0.85)"
   ]
  },
  {
   "cell_type": "code",
   "execution_count": 104,
   "metadata": {
    "ExecuteTime": {
     "end_time": "2021-06-21T09:11:42.435982Z",
     "start_time": "2021-06-21T09:11:42.425012Z"
    }
   },
   "outputs": [],
   "source": [
    "res1 "
   ]
  },
  {
   "cell_type": "code",
   "execution_count": null,
   "metadata": {},
   "outputs": [],
   "source": []
  }
 ],
 "metadata": {
  "kernelspec": {
   "display_name": "Python 3",
   "language": "python",
   "name": "python3"
  },
  "language_info": {
   "codemirror_mode": {
    "name": "ipython",
    "version": 3
   },
   "file_extension": ".py",
   "mimetype": "text/x-python",
   "name": "python",
   "nbconvert_exporter": "python",
   "pygments_lexer": "ipython3",
   "version": "3.7.4"
  },
  "varInspector": {
   "cols": {
    "lenName": 16,
    "lenType": 16,
    "lenVar": 40
   },
   "kernels_config": {
    "python": {
     "delete_cmd_postfix": "",
     "delete_cmd_prefix": "del ",
     "library": "var_list.py",
     "varRefreshCmd": "print(var_dic_list())"
    },
    "r": {
     "delete_cmd_postfix": ") ",
     "delete_cmd_prefix": "rm(",
     "library": "var_list.r",
     "varRefreshCmd": "cat(var_dic_list()) "
    }
   },
   "types_to_exclude": [
    "module",
    "function",
    "builtin_function_or_method",
    "instance",
    "_Feature"
   ],
   "window_display": false
  }
 },
 "nbformat": 4,
 "nbformat_minor": 2
}
