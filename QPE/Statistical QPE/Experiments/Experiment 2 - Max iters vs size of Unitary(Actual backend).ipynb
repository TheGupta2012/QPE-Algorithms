{
 "cells": [
  {
   "cell_type": "markdown",
   "metadata": {
    "heading_collapsed": true
   },
   "source": [
    "# Backend Results"
   ]
  },
  {
   "cell_type": "markdown",
   "metadata": {
    "heading_collapsed": true,
    "hidden": true
   },
   "source": [
    "## Experiment 2 - Alternate Approach\n",
    "- Seeing which algorithm **converges faster to cost ~ = 1**, given a particular unitary size and given number of max iterations \n",
    "- Iterations ranged from [5,20] with a change of 2 in between \n",
    "- Resolution is 30 and error threshold is $10^{-3}$"
   ]
  },
  {
   "cell_type": "code",
   "execution_count": 1,
   "metadata": {
    "ExecuteTime": {
     "end_time": "2021-06-14T06:21:24.380230Z",
     "start_time": "2021-06-14T06:21:24.360284Z"
    },
    "hidden": true,
    "scrolled": false
   },
   "outputs": [
    {
     "data": {
      "text/plain": [
       "[5, 7, 9, 11, 13, 15, 17, 19]"
      ]
     },
     "execution_count": 1,
     "metadata": {},
     "output_type": "execute_result"
    }
   ],
   "source": [
    "iterations = [i for i in range(5, 20, 2)]\n",
    "iterations"
   ]
  },
  {
   "cell_type": "markdown",
   "metadata": {
    "heading_collapsed": true,
    "hidden": true
   },
   "source": [
    "### Metrics Plotted\n",
    "- The cost returned by the algorithm is plotted in each case \n",
    "- Along with cost, the average error from the **closest eigenvalue** is calculated.\n",
    "- Note that each trial with ,say, $MAX$ iterations is executed 5 times to get a good estimate of the result. "
   ]
  },
  {
   "cell_type": "markdown",
   "metadata": {
    "heading_collapsed": true,
    "hidden": true
   },
   "source": [
    "### Imports"
   ]
  },
  {
   "cell_type": "code",
   "execution_count": 2,
   "metadata": {
    "ExecuteTime": {
     "end_time": "2021-06-14T06:21:36.326002Z",
     "start_time": "2021-06-14T06:21:24.827761Z"
    },
    "hidden": true
   },
   "outputs": [],
   "source": [
    "from qiskit import IBMQ\n",
    "from qiskit import QuantumCircuit, execute, transpile, Aer\n",
    "from qiskit.extensions import UnitaryGate, Initialize\n",
    "from qiskit.quantum_info import Statevector\n",
    "from qiskit.tools.visualization import plot_bloch_vector\n",
    "from qiskit.tools.visualization import plot_histogram, plot_bloch_multivector\n",
    "import numpy as np\n",
    "from time import sleep\n",
    "import sys\n",
    "import os\n",
    "from scipy.stats import unitary_group\n",
    "import matplotlib.pyplot as plt\n",
    "%matplotlib inline\n",
    "\n",
    "IBMQ.load_account()\n",
    "provider = IBMQ.get_provider('ibm-q-research')\n",
    "bogota = provider.get_backend('ibmq_bogota')\n",
    "sim = Aer.get_backend('qasm_simulator')"
   ]
  },
  {
   "cell_type": "code",
   "execution_count": 10,
   "metadata": {
    "ExecuteTime": {
     "end_time": "2021-06-14T06:27:11.263114Z",
     "start_time": "2021-06-14T06:27:11.252143Z"
    },
    "hidden": true
   },
   "outputs": [],
   "source": [
    "from normal_SPEA import SPEA\n",
    "from changed_SPEA import global_max_SPEA "
   ]
  },
  {
   "cell_type": "markdown",
   "metadata": {
    "heading_collapsed": true,
    "hidden": true
   },
   "source": [
    "### Plotter function"
   ]
  },
  {
   "cell_type": "code",
   "execution_count": 4,
   "metadata": {
    "ExecuteTime": {
     "end_time": "2021-06-14T06:21:36.515445Z",
     "start_time": "2021-06-14T06:21:36.501090Z"
    },
    "hidden": true
   },
   "outputs": [],
   "source": [
    "def generate_plots(unitary_size, costs, errors, overlaps, algorithm):\n",
    "\n",
    "    colors = ['red', 'brown', 'cyan', 'green',\n",
    "              'grey', 'blue', 'purple', 'black', 'orange']\n",
    "    c1, c2, c3 = random.sample(colors, 3)\n",
    "\n",
    "    # plot\n",
    "    os.makedirs(\"Experiment_2/\"+str(unitary_size) +\n",
    "                \"_qubit(random)(backend)/\", exist_ok=True)\n",
    "    # plot 1\n",
    "    fig = plt.figure(figsize=(13, 6))\n",
    "    ax1 = fig.add_subplot(1, 2, 1)\n",
    "    ax1.set_title(str(unitary_size)+\" qubit \"+algorithm +\n",
    "                  \" Cost v/s Max iters\", fontsize=16)\n",
    "    ax1.set_xlabel(\"Maximum iterations \", fontsize=15)\n",
    "    ax1.set_ylabel(\"Metrics Returned for unitary \", fontsize=15)\n",
    "    ax1.plot(iterations, costs, label='Costs of Unitary',\n",
    "             marker='o', color=c1, alpha=0.7)\n",
    "    ax1.plot(iterations, overlaps, label='Average overlap from nearest eigenvector',\n",
    "             marker='s', color=c2, alpha=0.6)\n",
    "    ax1.legend(loc='best')\n",
    "    ax1.grid()\n",
    "    # plot 2\n",
    "    ax2 = fig.add_subplot(1, 2, 2)\n",
    "    ax2.set_title(str(unitary_size)+\" qubit \"+algorithm +\n",
    "                  \" % error v/s Max iters\", fontsize=16)\n",
    "    ax2.set_xlabel(\"Maximum iterations \", fontsize=15)\n",
    "    ax2.set_ylabel(\"% error for nearest eigenvalue\", fontsize=15)\n",
    "    ax2.plot(iterations, errors, label='Average error from nearest eigenvalue',\n",
    "             marker='o', color=c3, alpha=0.6)\n",
    "    ax2.legend(loc='best')\n",
    "    ax2.grid()\n",
    "    # save axure\n",
    "    fig.savefig(\"Experiment_2/\"+str(unitary_size)+\"_qubit(random)(backend)/\" +\n",
    "                algorithm+\" Algorithm (alternate).JPG\", dpi=200)"
   ]
  },
  {
   "cell_type": "markdown",
   "metadata": {
    "heading_collapsed": true,
    "hidden": true
   },
   "source": [
    "### Result Generator"
   ]
  },
  {
   "cell_type": "code",
   "execution_count": 11,
   "metadata": {
    "ExecuteTime": {
     "end_time": "2021-06-14T06:27:34.251213Z",
     "start_time": "2021-06-14T06:27:34.228275Z"
    },
    "hidden": true
   },
   "outputs": [],
   "source": [
    "def get_results(eig_vals, eig_vect, bases, basis_indices, unitary, algorithm, experiments):\n",
    "    '''Return the results of running the algorithm for this particular unitary matrix'''\n",
    "    costs_g = []\n",
    "    errors_g = []\n",
    "    max_overlaps_g = []\n",
    "    # find how the cost converges with increasing iterations\n",
    "    for iters in iterations:\n",
    "        costs = []\n",
    "        errors = []\n",
    "        overlaps = []\n",
    "        \n",
    "        i = 0 \n",
    "        # run the experiments ...\n",
    "        while len(costs) < experiments:\n",
    "            if algorithm == 'original':\n",
    "                spea = SPEA(unitary, resolution=30, error=3, max_iters=iters)\n",
    "            else:\n",
    "                spea = global_max_SPEA(\n",
    "                    unitary, resolution=30, error=3, max_iters=iters)\n",
    "\n",
    "            result = spea.get_eigen_pair(\n",
    "                progress=False, backend=bogota, basis=bases[i], basis_ind=basis_indices[i],\n",
    "                algo='alternate', randomize=False,shots = 256)\n",
    "\n",
    "            if result['cost'] < 0.65:\n",
    "                continue\n",
    "                \n",
    "            i+=1 \n",
    "            \n",
    "            # find the costs\n",
    "            costs.append(result['cost'])\n",
    "            theta = result['theta']\n",
    "            res_state = result['state']\n",
    "\n",
    "            # find the abs difference in this theta with the closest eigenvalue\n",
    "            # and append that to the errors ...\n",
    "            min_error = 1e5\n",
    "            for e in eig_vals:\n",
    "                error = abs(e - theta)\n",
    "                if error < min_error:\n",
    "                    min_error = error\n",
    "                    perc_error = ((error)/e)*100\n",
    "            errors.append(perc_error)\n",
    "\n",
    "            # find overlaps\n",
    "            max_overlap = -1\n",
    "            for k in eig_vect:\n",
    "                dot = np.linalg.norm(np.dot(k, res_state.conjugate().T))**2\n",
    "                max_overlap = max(max_overlap, dot)\n",
    "            overlaps.append(max_overlap)\n",
    "\n",
    "        print(\"Result with\", iters, \" iterations :\")\n",
    "        print(\"AVG. COST :\", np.average(costs),\n",
    "              \"AVG. ERROR :\", np.average(errors))\n",
    "        # append the average result of your algorithm ...\n",
    "        costs_g.append(np.average(costs))\n",
    "        errors_g.append(np.average(errors))\n",
    "        max_overlaps_g.append(np.average(overlaps))\n",
    "\n",
    "    return costs_g, errors_g, max_overlaps_g"
   ]
  },
  {
   "cell_type": "markdown",
   "metadata": {
    "heading_collapsed": true,
    "hidden": true
   },
   "source": [
    "## 2 - qubit unitary\n"
   ]
  },
  {
   "cell_type": "code",
   "execution_count": 12,
   "metadata": {
    "ExecuteTime": {
     "end_time": "2021-06-14T06:27:35.774628Z",
     "start_time": "2021-06-14T06:27:35.764656Z"
    },
    "hidden": true,
    "scrolled": true
   },
   "outputs": [
    {
     "data": {
      "text/plain": [
       "array([[ 0.23054532+4.62175100e-01j, -0.08754496-5.03381441e-02j,\n",
       "         0.81834032-1.17058440e-04j,  0.06639882-2.21258415e-01j],\n",
       "       [ 0.08361418+8.73275936e-02j, -0.39821043-3.54876672e-01j,\n",
       "        -0.16246537+2.30276813e-01j, -0.72454914-3.10611809e-01j],\n",
       "       [-0.25502313+4.71817810e-01j,  0.0224505 +7.23767179e-01j,\n",
       "        -0.21087076-1.21691906e-01j, -0.20436451-2.94903294e-01j],\n",
       "       [ 0.6018813 -2.62136691e-01j, -0.22039497+3.63835202e-01j,\n",
       "        -0.13710409+4.15720786e-01j,  0.28806505-3.36853795e-01j]])"
      ]
     },
     "execution_count": 12,
     "metadata": {},
     "output_type": "execute_result"
    }
   ],
   "source": [
    "unit_2 = unitary_group.rvs(4)\n",
    "unit_2"
   ]
  },
  {
   "cell_type": "markdown",
   "metadata": {
    "hidden": true
   },
   "source": [
    "- Generating eigenvalues to benchmark against\n"
   ]
  },
  {
   "cell_type": "code",
   "execution_count": 13,
   "metadata": {
    "ExecuteTime": {
     "end_time": "2021-06-14T06:27:36.727058Z",
     "start_time": "2021-06-14T06:27:36.714098Z"
    },
    "hidden": true,
    "scrolled": true
   },
   "outputs": [
    {
     "name": "stdout",
     "output_type": "stream",
     "text": [
      "Eigenstates : [[ 0.81858294+0.j         -0.13586046+0.28682245j  0.16267136-0.29942607j\n",
      "   0.32545175-0.08461678j]\n",
      " [ 0.10432824+0.10673745j  0.64110077+0.j          0.63241084+0.j\n",
      "  -0.3606756 -0.19152594j]\n",
      " [ 0.24407368+0.45132367j  0.44406943-0.23830479j -0.62853582+0.02833048j\n",
      "   0.04602635-0.2911526j ]\n",
      " [-0.11079382-0.17917705j  0.26375858-0.40584382j  0.23498329+0.18127755j\n",
      "   0.79577875+0.j        ]]\n",
      "Eigenvalues : [0.1823104  0.46554493 0.69063953 0.90812963]\n"
     ]
    }
   ],
   "source": [
    "eig_vals2, eig_vect2 = np.linalg.eig(unit_2)\n",
    "eig_vals2 = np.angle(eig_vals2)\n",
    "e = []\n",
    "for k in eig_vals2:\n",
    "    if k < 0:\n",
    "        v = (k + 2*np.pi)/(2*np.pi)\n",
    "    else:\n",
    "        v = (k)/(2*np.pi)\n",
    "    e.append(v)\n",
    "eig_vals2 = np.array(e)\n",
    "print(\"Eigenstates :\", eig_vect2)\n",
    "print(\"Eigenvalues :\", eig_vals2)"
   ]
  },
  {
   "cell_type": "markdown",
   "metadata": {
    "heading_collapsed": true,
    "hidden": true
   },
   "source": [
    "### Generate the Basis"
   ]
  },
  {
   "cell_type": "code",
   "execution_count": 14,
   "metadata": {
    "ExecuteTime": {
     "end_time": "2021-06-14T06:27:37.993627Z",
     "start_time": "2021-06-14T06:27:37.969662Z"
    },
    "hidden": true
   },
   "outputs": [
    {
     "name": "stdout",
     "output_type": "stream",
     "text": [
      "Basis set : [[array([ 0.40473782+0.03033542j, -0.02171761+0.690928j  ,\n",
      "        0.56171191-0.17201331j, -0.10360979+0.03962413j]), array([ 0.39832903-0.00754665j, -0.04833786-0.31420272j,\n",
      "        0.07985836+0.09252075j,  0.07251715+0.84854048j]), array([-0.64676836-0.09862061j,  0.18673934-0.16245926j,\n",
      "        0.68581496+0.08131397j, -0.02522055+0.18196119j]), array([-0.49455523-0.06264092j, -0.28799635+0.52619431j,\n",
      "       -0.38611031-0.11797633j, -0.09945008+0.46773816j])], [array([ 0.04949295+0.09658011j, -0.44265344+0.70490227j,\n",
      "       -0.0594672 +0.52321453j,  0.12503409+0.04970042j]), array([ 0.48787013+0.18158587j,  0.22253175+0.12133216j,\n",
      "       -0.27401102-0.14456536j, -0.05398079+0.75224486j]), array([-0.58171757-0.17465871j, -0.15612243+0.00148854j,\n",
      "        0.44600128-0.08491487j,  0.12488574+0.62048243j]), array([ 0.46911313+0.35813951j, -0.28981058-0.36682727j,\n",
      "        0.62278462+0.18094379j,  0.1093371 +0.02367686j])], [array([-0.15398385-0.06593672j, -0.43200185+0.06008885j,\n",
      "        0.14094389-0.77463704j, -0.32965525-0.23044467j]), array([ 0.2118401 -0.05662326j,  0.18312634-0.70501923j,\n",
      "       -0.46366787-0.05349034j, -0.28324642-0.35107344j]), array([ 0.77634851+0.21704758j,  0.06164677+0.24624322j,\n",
      "        0.25187588+0.05466692j, -0.46823617+0.00789026j]), array([-0.52323396+0.01607714j,  0.46324051-0.01218755j,\n",
      "        0.27496741+0.14207801j, -0.63967212+0.07908091j])], [array([ 0.46452175+0.17444763j, -0.34394212+0.42153343j,\n",
      "       -0.32116466+0.00154039j,  0.57172471+0.16668141j]), array([ 0.40950363+0.4336947j ,  0.38656947-0.40550492j,\n",
      "       -0.2858896 +0.48337796j, -0.11062277+0.05216292j]), array([ 0.11796026-0.20488609j,  0.49178228+0.31866497j,\n",
      "        0.22647252-0.00170756j, -0.06057868+0.73874718j]), array([ 0.10100549-0.57611475j, -0.06900632-0.20490032j,\n",
      "       -0.70684409-0.17476405j, -0.23854564+0.15514058j])]]\n",
      "Basis indices : [1, 3, 2, 1]\n"
     ]
    }
   ],
   "source": [
    "bases2 , basis_indices2 = [], []\n",
    "for _ in range(4):\n",
    "    sample = unitary_group.rvs(4)\n",
    "    basis = []\n",
    "    for k in sample:\n",
    "        basis.append(np.array(k, dtype=complex))\n",
    "    ind = np.random.choice(range(4))\n",
    "    bases2.append(basis)\n",
    "    basis_indices2.append(ind)\n",
    "print(\"Basis set :\",bases2)\n",
    "print(\"Basis indices :\",basis_indices2)"
   ]
  },
  {
   "cell_type": "markdown",
   "metadata": {
    "heading_collapsed": true,
    "hidden": true
   },
   "source": [
    "#### Algorithm 1"
   ]
  },
  {
   "cell_type": "code",
   "execution_count": null,
   "metadata": {
    "hidden": true
   },
   "outputs": [],
   "source": [
    "costs_2qubit_b, errors_2qubit_b, max_overlaps_2qubit_b = get_results(eig_vals2,\n",
    "                                                                     eig_vect2, bases2, basis_indices2,\n",
    "                                                                     unit_2, \"original\", 4)"
   ]
  },
  {
   "cell_type": "code",
   "execution_count": 97,
   "metadata": {
    "hidden": true
   },
   "outputs": [
    {
     "data": {
      "image/png": "[encoded data removed]",
      "text/plain": [
       "<Figure size 936x432 with 2 Axes>"
      ]
     },
     "metadata": {
      "needs_background": "light"
     },
     "output_type": "display_data"
    }
   ],
   "source": [
    "generate_plots(2, costs_2qubit_b, errors_2qubit_b,\n",
    "               max_overlaps_2qubit_b, \"Original\")"
   ]
  },
  {
   "cell_type": "markdown",
   "metadata": {
    "heading_collapsed": true,
    "hidden": true
   },
   "source": [
    "#### Algorithm 2"
   ]
  },
  {
   "cell_type": "code",
   "execution_count": null,
   "metadata": {
    "ExecuteTime": {
     "end_time": "2021-06-14T06:51:19.258000Z",
     "start_time": "2021-06-14T06:27:43.319703Z"
    },
    "hidden": true
   },
   "outputs": [],
   "source": [
    "costs_2qubit_c, errors_2qubit_c, max_overlaps_2qubit_c = get_results(\n",
    "    eig_vals2, eig_vect2, bases2, basis_indices2, unit_2, \"modified\", 4)"
   ]
  },
  {
   "cell_type": "code",
   "execution_count": 99,
   "metadata": {
    "hidden": true
   },
   "outputs": [
    {
     "data": {
      "image/png": "[encoded data removed]",
      "text/plain": [
       "<Figure size 936x432 with 2 Axes>"
      ]
     },
     "metadata": {
      "needs_background": "light"
     },
     "output_type": "display_data"
    }
   ],
   "source": [
    "generate_plots(2, costs_2qubit_c, errors_2qubit_c,\n",
    "               max_overlaps_2qubit_c, \"Modified\")"
   ]
  },
  {
   "cell_type": "markdown",
   "metadata": {
    "heading_collapsed": true,
    "hidden": true
   },
   "source": [
    "## 3 - qubit unitary"
   ]
  },
  {
   "cell_type": "code",
   "execution_count": 100,
   "metadata": {
    "hidden": true
   },
   "outputs": [
    {
     "data": {
      "text/plain": [
       "array([[ 0.12663367-0.3285733j ,  0.38181458+0.05116786j,\n",
       "         0.15782808-0.51068097j, -0.21092516-0.28898796j,\n",
       "        -0.19468101-0.00943876j, -0.1564849 -0.18853075j,\n",
       "        -0.18370325+0.39574342j, -0.05328278+0.15058155j],\n",
       "       [-0.06771478-0.10136196j, -0.34060279-0.3611785j ,\n",
       "        -0.19832202-0.30914855j,  0.50907579-0.19078489j,\n",
       "         0.04748941-0.43730231j, -0.08993347+0.18110199j,\n",
       "        -0.24318887+0.03886616j,  0.03511249+0.10936181j],\n",
       "       [ 0.40515061+0.31281621j,  0.23171915+0.18429359j,\n",
       "        -0.31080266-0.38443814j,  0.13471916-0.1656231j ,\n",
       "         0.00461396-0.018512j  ,  0.13288342+0.19502762j,\n",
       "         0.41120201-0.26908722j, -0.23027419+0.09894888j],\n",
       "       [ 0.52746188+0.12239056j,  0.1391557 -0.22342806j,\n",
       "        -0.14741948+0.24630775j, -0.0465663 +0.13720911j,\n",
       "        -0.02690303-0.28463885j, -0.08802479+0.07347696j,\n",
       "        -0.01992391+0.43810563j, -0.00987787-0.49679371j],\n",
       "       [ 0.03011389-0.12144664j, -0.35307236+0.06097447j,\n",
       "        -0.03373275-0.2128927j , -0.40323447-0.15760155j,\n",
       "         0.2998387 -0.26837844j, -0.24555174-0.36949705j,\n",
       "         0.15030041-0.30390248j, -0.10310265-0.37112983j],\n",
       "       [-0.14529513+0.12544202j, -0.10339294-0.17741614j,\n",
       "        -0.16150629-0.18073503j, -0.17841099+0.06022471j,\n",
       "         0.14978672+0.21075375j,  0.52398761-0.02759907j,\n",
       "        -0.35377344+0.14483138j, -0.5611458 -0.1535767j ],\n",
       "       [-0.10883744-0.45969816j,  0.13395555+0.49091685j,\n",
       "        -0.32461106-0.03086398j,  0.39880082+0.12350996j,\n",
       "         0.27839621+0.08763257j,  0.13496897-0.08961383j,\n",
       "         0.02094852+0.14263419j,  0.08241411-0.31346488j],\n",
       "       [-0.07996989-0.15453741j,  0.08689063+0.10563624j,\n",
       "         0.20211627-0.01460321j, -0.32280996+0.09201968j,\n",
       "         0.30274865-0.52989672j,  0.4491441 +0.36071532j,\n",
       "         0.15089751+0.10260706j,  0.16009442+0.18453765j]])"
      ]
     },
     "execution_count": 100,
     "metadata": {},
     "output_type": "execute_result"
    }
   ],
   "source": [
    "unit_3 = unitary_group.rvs(8)\n",
    "unit_3"
   ]
  },
  {
   "cell_type": "code",
   "execution_count": 101,
   "metadata": {
    "hidden": true
   },
   "outputs": [
    {
     "name": "stdout",
     "output_type": "stream",
     "text": [
      "Eigenstates : [[-0.15849685+0.40073516j -0.35162694+0.18351439j -0.04025295-0.12902663j\n",
      "   0.01586999+0.1719672j   0.02568735-0.19162488j  0.19956592-0.29978217j\n",
      "   0.63929833+0.j          0.18188913+0.00405688j]\n",
      " [-0.46637666-0.1254671j   0.34852843+0.29932987j  0.15812457+0.17046213j\n",
      "   0.05601218+0.01665853j  0.0799784 +0.5071537j  -0.01683331-0.35844136j\n",
      "   0.12995291-0.06417859j -0.13473269+0.2582252j ]\n",
      " [ 0.33128918+0.17957039j  0.61702363+0.j          0.19801729+0.02730264j\n",
      "  -0.13772856-0.18802104j -0.16628413-0.15172039j  0.52109766+0.j\n",
      "   0.16882212+0.14002269j  0.03499731+0.10706124j]\n",
      " [ 0.49242194+0.j         -0.13145236-0.11786295j -0.15987211+0.22701624j\n",
      "   0.55368683+0.j          0.36502918+0.29791502j  0.10222353-0.04036578j\n",
      "   0.13900231+0.17706259j -0.03900172+0.23751216j]\n",
      " [-0.04612093+0.02590686j  0.11575791+0.0429524j  -0.39881034-0.01012906j\n",
      "  -0.20228836-0.08723451j  0.51643065+0.j          0.28193034-0.25191176j\n",
      "  -0.12690632+0.00394974j -0.25163456-0.53403046j]\n",
      " [ 0.04670169+0.11329678j -0.08431452+0.12187078j -0.00521514+0.46225376j\n",
      "  -0.13429268+0.1926887j  -0.03427056-0.01384778j  0.08910658-0.32174305j\n",
      "  -0.447266  +0.16270349j  0.59565768+0.j        ]\n",
      " [-0.34727856+0.18700309j -0.07172735-0.37401675j  0.15802789+0.30277208j\n",
      "   0.48892873-0.21417477j -0.23699225-0.07191073j  0.28412566-0.04118957j\n",
      "  -0.11077852-0.2432681j  -0.09282776-0.27202854j]\n",
      " [ 0.13531686-0.06974792j -0.17408447+0.08471126j  0.56667239+0.j\n",
      "  -0.09122053+0.45709207j  0.31131298-0.00551374j  0.32132096+0.13358428j\n",
      "  -0.13421297-0.37337173j -0.15970571+0.00276822j]]\n",
      "Eigenvalues : [0.43874013 0.58282023 0.29600768 0.14837056 0.70564625 0.80343396\n",
      " 0.91950713 0.97515587]\n"
     ]
    }
   ],
   "source": [
    "eig_vals3, eig_vect3 = np.linalg.eig(unit_3)\n",
    "eig_vals3 = np.angle(eig_vals3)\n",
    "e = []\n",
    "for k in eig_vals3:\n",
    "    if k < 0:\n",
    "        v = (k + 2*np.pi)/(2*np.pi)\n",
    "    else:\n",
    "        v = (k)/(2*np.pi)\n",
    "    e.append(v)\n",
    "eig_vals3 = np.array(e)\n",
    "print(\"Eigenstates :\", eig_vect3)\n",
    "print(\"Eigenvalues :\", eig_vals3)"
   ]
  },
  {
   "cell_type": "markdown",
   "metadata": {
    "heading_collapsed": true,
    "hidden": true
   },
   "source": [
    "### Generate basis"
   ]
  },
  {
   "cell_type": "code",
   "execution_count": null,
   "metadata": {
    "hidden": true
   },
   "outputs": [],
   "source": [
    "sample3 = unitary_group.rvs(8)\n",
    "# print(sample3)\n",
    "basis3 = []\n",
    "for k in sample3:\n",
    "    basis3.append(np.array(k,dtype=complex)) \n",
    "print(\"3 qubit basis :\",basis3)\n",
    "ind3 = np.random.choice(range(8))\n",
    "print(ind3)"
   ]
  },
  {
   "cell_type": "markdown",
   "metadata": {
    "heading_collapsed": true,
    "hidden": true
   },
   "source": [
    "#### Algorithm 1"
   ]
  },
  {
   "cell_type": "code",
   "execution_count": null,
   "metadata": {
    "hidden": true
   },
   "outputs": [],
   "source": [
    "costs_3qubit_b, errors_3qubit_b, max_overlaps_3qubit_b = get_results(\n",
    "    eig_vals3, eig_vect3,basis3, ind3, unit_3, \"original\", 3)\n",
    "generate_plots(3, costs_3qubit_c, errors_3qubit_c,\n",
    "               max_overlaps_3qubit_c, \"Original\")"
   ]
  },
  {
   "cell_type": "markdown",
   "metadata": {
    "heading_collapsed": true,
    "hidden": true
   },
   "source": [
    "#### Algorithm 2"
   ]
  },
  {
   "cell_type": "code",
   "execution_count": null,
   "metadata": {
    "hidden": true
   },
   "outputs": [],
   "source": [
    "costs_3qubit_c, errors_3qubit_c, max_overlaps_3qubit_c = get_results(\n",
    "    eig_vals3, eig_vect3, basis3, ind3, unit_3, \"modified\", 3)\n",
    "generate_plots(3, costs_3qubit_c, errors_3qubit_c,\n",
    "               max_overlaps_3qubit_c, \"Modified\")"
   ]
  },
  {
   "cell_type": "markdown",
   "metadata": {
    "heading_collapsed": true,
    "hidden": true
   },
   "source": [
    "## 4 - qubit unitary"
   ]
  },
  {
   "cell_type": "code",
   "execution_count": 16,
   "metadata": {
    "ExecuteTime": {
     "end_time": "2021-06-14T06:51:27.419148Z",
     "start_time": "2021-06-14T06:51:27.406359Z"
    },
    "hidden": true
   },
   "outputs": [
    {
     "data": {
      "text/plain": [
       "array([[-0.11127458+0.24926602j,  0.21073981+0.13997787j,\n",
       "         0.16245694-0.22100037j,  0.41237833+0.11625369j,\n",
       "         0.04598942-0.08265517j, -0.17063294+0.0541551j ,\n",
       "         0.27669585+0.02659359j,  0.20916925-0.00693333j,\n",
       "        -0.10613022+0.09852496j,  0.22510599-0.19616278j,\n",
       "        -0.15053629-0.02032588j,  0.21506153+0.15522342j,\n",
       "        -0.20320084-0.28264189j, -0.00830339+0.0900018j ,\n",
       "         0.16181815+0.1198287j ,  0.25448917+0.0491294j ],\n",
       "       [ 0.08514277-0.03696312j, -0.10644808-0.23462616j,\n",
       "         0.1445215 +0.07925036j,  0.39664709-0.02626609j,\n",
       "         0.02565869+0.00147942j, -0.24962246-0.0791532j ,\n",
       "        -0.22333494+0.14314493j, -0.18483179-0.16657915j,\n",
       "        -0.05751747+0.08625222j, -0.03356405-0.01136229j,\n",
       "        -0.04330239-0.19400538j, -0.40113954-0.00768869j,\n",
       "        -0.12638581-0.05616249j, -0.00632022-0.51038018j,\n",
       "         0.15075542-0.11640858j,  0.09170762+0.03831307j],\n",
       "       [-0.04364305+0.02646277j, -0.03724594+0.12931787j,\n",
       "        -0.36089563+0.3362582j ,  0.03966201+0.29516742j,\n",
       "         0.02273536-0.40671777j,  0.11602033+0.04524626j,\n",
       "         0.07935028+0.02451212j, -0.04539643-0.06726971j,\n",
       "         0.15181341+0.07678056j, -0.12373362-0.03621354j,\n",
       "        -0.01788823+0.16682617j,  0.03088395+0.25954833j,\n",
       "        -0.18971796-0.16251578j,  0.06012354-0.27287737j,\n",
       "        -0.28883458+0.02009222j,  0.04663169-0.2895273j ],\n",
       "       [ 0.12249683-0.11510736j,  0.08074383+0.03776009j,\n",
       "         0.3372644 +0.20668278j,  0.13544248-0.16763432j,\n",
       "         0.24795823+0.04988008j, -0.0083116 +0.06948154j,\n",
       "         0.13769654-0.38613852j,  0.19243726+0.01838439j,\n",
       "         0.20539738+0.40590498j, -0.15096653+0.22944773j,\n",
       "         0.00566545-0.05704249j, -0.11329804+0.20127413j,\n",
       "         0.11031444-0.1253951j ,  0.20953011+0.09376769j,\n",
       "        -0.18345984-0.11526403j, -0.12481861+0.06676668j],\n",
       "       [-0.04432189-0.49864485j, -0.19238241+0.21805405j,\n",
       "        -0.07486096+0.0158138j ,  0.18281374+0.08807629j,\n",
       "        -0.2641215 -0.07140035j, -0.10043415+0.11475095j,\n",
       "         0.05027236-0.04986931j, -0.12888543+0.18158525j,\n",
       "         0.09683832+0.166138j  ,  0.20275039-0.00213651j,\n",
       "         0.18371486+0.13507594j,  0.12289001-0.1402342j ,\n",
       "        -0.12201879+0.20156314j,  0.23660735+0.02665794j,\n",
       "         0.04075104-0.18692647j,  0.25377286+0.29498658j],\n",
       "       [ 0.12910488+0.03167016j,  0.19510039+0.17329375j,\n",
       "         0.07568058+0.01799772j, -0.10340033-0.05032093j,\n",
       "         0.07249812+0.1429453j ,  0.37263745-0.06029237j,\n",
       "         0.15747825+0.13873813j, -0.09331491-0.11316478j,\n",
       "         0.07621283+0.28971488j,  0.31764994+0.02645871j,\n",
       "        -0.13331677+0.46416483j, -0.1834099 -0.06551921j,\n",
       "         0.11583869+0.11636913j, -0.03376599-0.29798498j,\n",
       "         0.21122775+0.18545585j,  0.01723221+0.05011443j],\n",
       "       [ 0.07783019+0.00343552j, -0.04644531+0.24921138j,\n",
       "        -0.04669822+0.15813724j, -0.23999567-0.1157458j ,\n",
       "        -0.09719031+0.10027337j,  0.05772737-0.11503586j,\n",
       "         0.32065035-0.02286987j,  0.01619647-0.43307522j,\n",
       "         0.11153801-0.08467373j, -0.01950881-0.26192483j,\n",
       "        -0.05440929-0.33956215j, -0.03891029-0.07572065j,\n",
       "        -0.2178803 -0.09294312j, -0.12728702-0.0698131j ,\n",
       "        -0.15027693-0.086319j  , -0.00567947+0.42767159j],\n",
       "       [-0.22788901+0.03118124j, -0.21854437+0.2254258j ,\n",
       "         0.245228  +0.07808806j,  0.09552806-0.14682212j,\n",
       "         0.38193204-0.2065318j ,  0.11368451+0.02640208j,\n",
       "        -0.06877912-0.05714193j, -0.16345759+0.03685925j,\n",
       "        -0.15128528-0.23222481j,  0.00365839-0.40953365j,\n",
       "         0.03326529+0.17494203j, -0.17283842-0.01609559j,\n",
       "        -0.17724445+0.12409085j,  0.22983702+0.12434041j,\n",
       "         0.05342722+0.02920718j, -0.29538997+0.03041073j],\n",
       "       [ 0.24646623-0.33262999j,  0.28138469+0.2804591j ,\n",
       "         0.0080218 -0.00894864j,  0.2176833 -0.06980009j,\n",
       "         0.14972456-0.18117322j,  0.22212489+0.14904948j,\n",
       "        -0.17952983+0.30808183j, -0.00802838-0.29591684j,\n",
       "        -0.0756467 -0.10285359j, -0.10758527+0.09609814j,\n",
       "         0.21657883-0.13904359j, -0.07973158-0.06569798j,\n",
       "         0.0955062 -0.09826404j, -0.13588075+0.29153979j,\n",
       "         0.03042632+0.04170111j,  0.15154798-0.1221071j ],\n",
       "       [ 0.18491558-0.35881374j,  0.16971748+0.01732769j,\n",
       "         0.04221458+0.07543883j, -0.0351235 +0.16728518j,\n",
       "        -0.0868428 +0.01596221j,  0.19259008+0.01005066j,\n",
       "        -0.13673116-0.09964667j,  0.34527173+0.14534201j,\n",
       "        -0.1254944 -0.18371926j,  0.05798703-0.24689123j,\n",
       "        -0.41202305-0.12279844j,  0.08129868+0.24242307j,\n",
       "         0.01569468+0.11328696j, -0.00630525-0.16440576j,\n",
       "         0.21488927-0.27631764j, -0.16200295-0.06595528j],\n",
       "       [ 0.12297215-0.20950201j, -0.2132127 +0.20695337j,\n",
       "        -0.01138871-0.17670775j,  0.07596044-0.13580592j,\n",
       "         0.22830632-0.04246683j, -0.18021855-0.36612573j,\n",
       "         0.3959949 -0.05667143j,  0.11649571-0.04407614j,\n",
       "        -0.09931416-0.26907637j, -0.09173791+0.21550802j,\n",
       "        -0.03342891-0.01011382j,  0.1834435 -0.12636963j,\n",
       "         0.15657131+0.10620726j,  0.10463585-0.29090747j,\n",
       "         0.00986176+0.10036917j,  0.05279354-0.2623795j ],\n",
       "       [-0.06519407+0.23949849j, -0.16646999+0.03614035j,\n",
       "        -0.00353742+0.26226835j, -0.00983822-0.16324331j,\n",
       "        -0.17439933-0.04909228j,  0.02822853-0.14182356j,\n",
       "        -0.08646217-0.15877788j,  0.06939668-0.35169831j,\n",
       "        -0.17921091-0.17988608j,  0.24275782+0.21762043j,\n",
       "         0.07490445+0.11960727j, -0.04082412+0.3738254j ,\n",
       "         0.13450359+0.12686761j,  0.10292738+0.17222964j,\n",
       "         0.19254158-0.25877688j,  0.29257757-0.05217807j],\n",
       "       [ 0.08458791+0.12635098j,  0.02222836+0.19599218j,\n",
       "        -0.11830645-0.08086337j,  0.16257096-0.14412024j,\n",
       "         0.00577864+0.09375541j,  0.31278412-0.33943489j,\n",
       "        -0.17833892-0.1664942j , -0.09161229+0.34665392j,\n",
       "        -0.12788323-0.09156086j,  0.06995451+0.22974581j,\n",
       "        -0.07727049+0.06523533j, -0.05963748-0.17370478j,\n",
       "        -0.27444144-0.34463336j, -0.12914012+0.00545205j,\n",
       "        -0.1756979 -0.29444617j,  0.0463894 +0.05822101j],\n",
       "       [-0.00857331-0.1502696j , -0.04777167-0.06019391j,\n",
       "        -0.40785145+0.05916515j,  0.17996037-0.24686673j,\n",
       "         0.12618885+0.24338098j,  0.12342686-0.05931708j,\n",
       "        -0.15232598-0.1769369j , -0.14102374+0.04068349j,\n",
       "        -0.2220406 +0.1061146j , -0.0165712 -0.15527847j,\n",
       "         0.09091352-0.11302995j,  0.21579106+0.35055845j,\n",
       "         0.12748799-0.06215528j,  0.00663566-0.08431529j,\n",
       "         0.03319364+0.43325302j,  0.00757321+0.21615091j],\n",
       "       [-0.20755958-0.09897582j, -0.2219825 +0.20106692j,\n",
       "         0.07140539-0.28629338j, -0.12797652+0.24300263j,\n",
       "        -0.04834502+0.23347348j,  0.16457484-0.12545396j,\n",
       "        -0.09701318-0.11266462j,  0.0854081 -0.18298393j,\n",
       "        -0.06527073+0.33145401j, -0.14174231+0.09423977j,\n",
       "         0.19835286-0.14883933j, -0.06167301+0.13970036j,\n",
       "        -0.38359492+0.0805182j , -0.08505314+0.02732091j,\n",
       "         0.22265459+0.05705971j, -0.08193219-0.28863693j],\n",
       "       [-0.03914945-0.06012527j,  0.25014492+0.16348529j,\n",
       "        -0.0724999 +0.04498162j, -0.10831408-0.08405075j,\n",
       "        -0.01946972+0.401138j  , -0.28583487+0.17470608j,\n",
       "         0.00878681+0.17974489j, -0.02157383+0.00179345j,\n",
       "         0.07965959-0.30154945j, -0.23614691+0.15819627j,\n",
       "         0.11729938+0.3033819j ,  0.00257789+0.2081777j ,\n",
       "        -0.23367197-0.24437803j,  0.2387134 -0.09672073j,\n",
       "         0.19634876-0.07672029j, -0.13220677+0.05757205j]])"
      ]
     },
     "execution_count": 16,
     "metadata": {},
     "output_type": "execute_result"
    }
   ],
   "source": [
    "unit_4 = unitary_group.rvs(16)\n",
    "unit_4"
   ]
  },
  {
   "cell_type": "code",
   "execution_count": null,
   "metadata": {
    "hidden": true
   },
   "outputs": [],
   "source": [
    "eig_vals4, eig_vect4 = np.linalg.eig(unit_4)\n",
    "eig_vals4 = np.angle(eig_vals4)\n",
    "e = []\n",
    "for k in eig_vals4:\n",
    "    if k < 0:\n",
    "        v = (k + 2*np.pi)/(2*np.pi)\n",
    "    else:\n",
    "        v = (k)/(2*np.pi)\n",
    "    e.append(v)\n",
    "eig_vals4 = np.array(e)\n",
    "print(\"Eigenstates :\", eig_vect4)\n",
    "print(\"Eigenvalues :\", eig_vals4)"
   ]
  },
  {
   "cell_type": "markdown",
   "metadata": {
    "heading_collapsed": true,
    "hidden": true
   },
   "source": [
    "### Generate basis set"
   ]
  },
  {
   "cell_type": "code",
   "execution_count": 18,
   "metadata": {
    "ExecuteTime": {
     "end_time": "2021-06-14T06:52:01.452791Z",
     "start_time": "2021-06-14T06:52:01.441605Z"
    },
    "hidden": true
   },
   "outputs": [
    {
     "name": "stdout",
     "output_type": "stream",
     "text": [
      "Basis indices : [15, 12, 14, 6]\n"
     ]
    }
   ],
   "source": [
    "bases4 , basis_indices4 = [], []\n",
    "for _ in range(4):\n",
    "    sample = unitary_group.rvs(16)\n",
    "    basis = []\n",
    "    for k in sample:\n",
    "        basis.append(np.array(k, dtype=complex))\n",
    "    ind = np.random.choice(range(16))\n",
    "    bases4.append(basis)\n",
    "    basis_indices4.append(ind)\n",
    "print(\"Basis indices :\",basis_indices4)"
   ]
  },
  {
   "cell_type": "markdown",
   "metadata": {
    "hidden": true
   },
   "source": [
    "- Algorithm 1"
   ]
  },
  {
   "cell_type": "code",
   "execution_count": null,
   "metadata": {
    "hidden": true
   },
   "outputs": [],
   "source": [
    "costs_4qubit_b, errors_eig_4qubit_b, max_overlaps_4qubit_b = get_results(\n",
    "    eig_vals4, eig_vect4, bases4, basis_indices4, unit_4, 'original', 4)\n",
    "generate_plots(4, costs_4qubit_b, errors_eig_4qubit_b,\n",
    "               max_overlaps_4qubit_b, \"Original\")"
   ]
  },
  {
   "cell_type": "markdown",
   "metadata": {
    "hidden": true
   },
   "source": [
    "- Algorithm 2"
   ]
  },
  {
   "cell_type": "code",
   "execution_count": null,
   "metadata": {
    "hidden": true
   },
   "outputs": [],
   "source": [
    "costs_4qubit_b, errors_eig_4qubit_b, max_overlaps_4qubit_b = get_results(\n",
    "    eig_vals4, eig_vect4, bases4, basis_indices4, unit_4, 'modified', 4)\n",
    "generate_plots(4, costs_4qubit_b, errors_eig_4qubit_b,\n",
    "               max_overlaps_4qubit_b, \"Modified\")"
   ]
  },
  {
   "cell_type": "code",
   "execution_count": null,
   "metadata": {
    "hidden": true
   },
   "outputs": [],
   "source": []
  },
  {
   "cell_type": "code",
   "execution_count": null,
   "metadata": {
    "hidden": true
   },
   "outputs": [],
   "source": []
  }
 ],
 "metadata": {
  "kernelspec": {
   "display_name": "Python 3",
   "language": "python",
   "name": "python3"
  },
  "language_info": {
   "codemirror_mode": {
    "name": "ipython",
    "version": 3
   },
   "file_extension": ".py",
   "mimetype": "text/x-python",
   "name": "python",
   "nbconvert_exporter": "python",
   "pygments_lexer": "ipython3",
   "version": "3.7.4"
  },
  "varInspector": {
   "cols": {
    "lenName": 16,
    "lenType": 16,
    "lenVar": 40
   },
   "kernels_config": {
    "python": {
     "delete_cmd_postfix": "",
     "delete_cmd_prefix": "del ",
     "library": "var_list.py",
     "varRefreshCmd": "print(var_dic_list())"
    },
    "r": {
     "delete_cmd_postfix": ") ",
     "delete_cmd_prefix": "rm(",
     "library": "var_list.r",
     "varRefreshCmd": "cat(var_dic_list()) "
    }
   },
   "types_to_exclude": [
    "module",
    "function",
    "builtin_function_or_method",
    "instance",
    "_Feature"
   ],
   "window_display": false
  }
 },
 "nbformat": 4,
 "nbformat_minor": 2
}
