{
 "cells": [
  {
   "cell_type": "markdown",
   "metadata": {},
   "source": [
    "## Testing the upper bound for the cost\n",
    "- As derived theoretically, let's check the lower bound defined for our cost i.e. -\n",
    "$$ C^{*} \\geq P_{0}( \\delta^{*}) $$\n",
    "- where $\\delta^{*}$ is the maximum allowable difference in the measured and the actual eigenvalues\n",
    "\n",
    "### Experiment\n",
    "- Ask the user for a $\\delta^{*}$ value\n",
    "- Finding the theoretical lower bound i.e. $P_{0}( \\delta^{*}) $.\n",
    "- Letting the algorithm run until we have $ C^{*} \\geq P_{0}( \\delta^{*}) $.\n",
    "- Now, let the returned eigenvalue be $\\theta_{r}$. \n",
    "- Calculate the difference between all the actual eiegenvalues of the unitary and the measured value of the unitary matrix. \n",
    "- If the maximum difference between them, $D \\leq \\delta^{*}$ or it is within $+5\\% $ of $\\delta^{*}$, our theoretical basis is correct!"
   ]
  },
  {
   "cell_type": "markdown",
   "metadata": {},
   "source": [
    "- **IMPORTS**"
   ]
  },
  {
   "cell_type": "code",
   "execution_count": 19,
   "metadata": {
    "ExecuteTime": {
     "end_time": "2021-06-02T09:21:00.215667Z",
     "start_time": "2021-06-02T09:20:49.157323Z"
    }
   },
   "outputs": [],
   "source": [
    "from qiskit import QuantumCircuit, execute, transpile, Aer \n",
    "from qiskit.extensions import UnitaryGate,Initialize\n",
    "from qiskit.quantum_info import Statevector \n",
    "from qiskit.tools.visualization import plot_bloch_vector\n",
    "from qiskit.tools.visualization import plot_histogram,plot_bloch_multivector  \n",
    "import numpy as np \n",
    "from time import sleep \n",
    "import sys \n",
    "from scipy.stats import unitary_group \n",
    "import matplotlib.pyplot as plt \n",
    "%matplotlib inline \n",
    "from qiskit import IBMQ \n",
    "IBMQ.load_account()\n",
    "provider = IBMQ.get_provider(hub='ibm-q-research')"
   ]
  },
  {
   "cell_type": "markdown",
   "metadata": {},
   "source": [
    "### Testing is done for 1 qubit matrices\n",
    "\n",
    "- The values of $\\delta^{*}$ range from [0,0.5] and have been defined as - \n",
    "      - deltas = [0.4, 0.3, 0.2, 0.15, 0.1, 0.05, 0.025, 0.01]"
   ]
  },
  {
   "cell_type": "code",
   "execution_count": 20,
   "metadata": {
    "ExecuteTime": {
     "end_time": "2021-06-02T09:21:00.352822Z",
     "start_time": "2021-06-02T09:21:00.341587Z"
    }
   },
   "outputs": [],
   "source": [
    "# defining the absolute error in the eigenvalue\n",
    "deltas = [0.4, 0.3, 0.2, 0.15, 0.1, 0.05, 0.025, 0.01]"
   ]
  },
  {
   "cell_type": "code",
   "execution_count": 21,
   "metadata": {
    "ExecuteTime": {
     "end_time": "2021-06-02T09:21:00.500422Z",
     "start_time": "2021-06-02T09:21:00.478681Z"
    }
   },
   "outputs": [
    {
     "data": {
      "text/plain": [
       "[0.8483533546735827,\n",
       " 0.9126678074548391,\n",
       " 0.9605304970014426,\n",
       " 0.9776682445628029,\n",
       " 0.9900332889206209,\n",
       " 0.997502082639013,\n",
       " 0.9993751301974833,\n",
       " 0.9999000033332889]"
      ]
     },
     "execution_count": 21,
     "metadata": {},
     "output_type": "execute_result"
    }
   ],
   "source": [
    "# find the target costs for each of the algorithm \n",
    "target_costs = []\n",
    "for i in deltas:\n",
    "    cost = (np.cos(i))**2 \n",
    "    target_costs.append(cost)\n",
    "target_costs"
   ]
  },
  {
   "cell_type": "markdown",
   "metadata": {},
   "source": [
    "## Single Qubit Unitary\n",
    "- 2 samples are tested for changing ranges of the **delta** values"
   ]
  },
  {
   "cell_type": "code",
   "execution_count": 37,
   "metadata": {
    "ExecuteTime": {
     "end_time": "2021-06-02T13:26:27.974196Z",
     "start_time": "2021-06-02T13:26:27.959414Z"
    }
   },
   "outputs": [
    {
     "data": {
      "text/plain": [
       "array([[-0.21018868+0.41613258j, -0.8770775 -0.11571281j],\n",
       "       [-0.46354341+0.75351304j,  0.45547401+0.09944365j]])"
      ]
     },
     "execution_count": 37,
     "metadata": {},
     "output_type": "execute_result"
    }
   ],
   "source": [
    "u1 = unitary_group.rvs(2)\n",
    "u1 "
   ]
  },
  {
   "cell_type": "code",
   "execution_count": 42,
   "metadata": {
    "ExecuteTime": {
     "end_time": "2021-06-02T15:25:50.488644Z",
     "start_time": "2021-06-02T15:25:50.457190Z"
    }
   },
   "outputs": [
    {
     "name": "stdout",
     "output_type": "stream",
     "text": [
      "Eigen states of Unitary : [[ 0.83204021+0.j         -0.4654427 -0.30178168j]\n",
      " [ 0.4654427 -0.30178168j  0.83204021+0.j        ]]\n",
      "Eigen phases of unitary : [0.38324999 0.97540132]\n"
     ]
    }
   ],
   "source": [
    "eigen_phases1, eigen_vectors1 = np.linalg.eig(u1)\n",
    "print(\"Eigen states of Unitary :\",eigen_vectors1)\n",
    "eigen_phases1 = np.angle(eigen_phases1)\n",
    "ep1 = []\n",
    "for k in eigen_phases1:\n",
    "    if k < 0:\n",
    "        ep1.append((k + 2*np.pi)/(2*np.pi))\n",
    "    else:\n",
    "        ep1.append(k/(2*np.pi))\n",
    "eigen_phases1 = np.array(ep1)\n",
    "print(\"Eigen phases of unitary :\",eigen_phases1)"
   ]
  },
  {
   "cell_type": "markdown",
   "metadata": {},
   "source": [
    "- Note that the eigenphases have been scaled down to lie in the range $[0,1]$"
   ]
  },
  {
   "cell_type": "code",
   "execution_count": 28,
   "metadata": {
    "ExecuteTime": {
     "end_time": "2021-06-02T13:25:52.444160Z",
     "start_time": "2021-06-02T13:25:52.436956Z"
    }
   },
   "outputs": [],
   "source": [
    "from normal_SPEA import SPEA \n",
    "backend = Aer.get_backend('qasm_simulator')"
   ]
  },
  {
   "cell_type": "code",
   "execution_count": 39,
   "metadata": {
    "ExecuteTime": {
     "end_time": "2021-06-02T15:18:40.292393Z",
     "start_time": "2021-06-02T13:26:37.867090Z"
    }
   },
   "outputs": [
    {
     "name": "stdout",
     "output_type": "stream",
     "text": [
      "TARGET COST : 0.8483533546735827\n",
      "GIVEN DELTA : 0.4\n",
      "Result with target cost as 0.8483533546735827 was returned\n",
      " {'cost': 0.904296875, 'theta': 0.3676470588235294, 'state': array([0.82237967+0.41427036j, 0.23402244-0.31193788j])}\n",
      "Result with target cost as 0.8483533546735827 was returned\n",
      " {'cost': 0.90234375, 'theta': 0.0493588438835742, 'state': array([-0.57173977-0.13140729j,  0.32358929-0.74238516j])}\n",
      "Result with target cost as 0.8483533546735827 was returned\n",
      " {'cost': 0.8515625, 'theta': 0.0, 'state': array([-0.74408718-0.05039351j,  0.65109254+0.14097255j])}\n",
      "Result with target cost as 0.8483533546735827 was returned\n",
      " {'cost': 0.873046875, 'theta': 0.004630571951964177, 'state': array([ 0.302412  +0.53639866j, -0.17236038-0.76884027j])}\n",
      "Result with target cost as 0.8483533546735827 was returned\n",
      " {'cost': 0.96484375, 'theta': 0.4117647058823529, 'state': array([-0.74761931-0.32003954j, -0.55297904-0.18125739j])}\n",
      "Result with target cost as 0.8483533546735827 was returned\n",
      " {'cost': 0.873046875, 'theta': 0.038774679421941786, 'state': array([-0.00355302-0.80255145j,  0.08372011+0.59066868j])}\n",
      "Result with target cost as 0.8483533546735827 was returned\n",
      " {'cost': 0.857421875, 'theta': 0.010813148788927337, 'state': array([-0.4753943 +0.01616413j,  0.84094486+0.25797429j])}\n",
      "Result with target cost as 0.8483533546735827 was returned\n",
      " {'cost': 0.9140625, 'theta': 0.0, 'state': array([ 0.62812449-0.23908475j, -0.00889874+0.74041807j])}\n",
      "Result with target cost as 0.8483533546735827 was returned\n",
      " {'cost': 0.92578125, 'theta': 0.0, 'state': array([-0.26262713-0.63433618j,  0.72705932+0.00541667j])}\n",
      "Result with target cost as 0.8483533546735827 was returned\n",
      " {'cost': 0.931640625, 'theta': 0.9705882352941176, 'state': array([ 0.2405667 -0.14045567j, -0.57448184+0.76965608j])}\n",
      "TARGET COST : 0.9126678074548391\n",
      "GIVEN DELTA : 0.3\n",
      "Result with target cost as 0.9126678074548391 was returned\n",
      " {'cost': 0.93359375, 'theta': 0.0019748027442200167, 'state': array([0.05614162-0.39990862j, 0.83617972+0.37111278j])}\n",
      "Result with target cost as 0.9126678074548391 was returned\n",
      " {'cost': 0.955078125, 'theta': 0.9705882352941176, 'state': array([-0.43653058+0.11420208j,  0.28950891-0.84414663j])}\n",
      "Maximum iterations reached for the estimation.\n",
      "Terminating algorithm...\n",
      "Result with target cost as 0.9126678074548391 was returned\n",
      " {'cost': 0.869140625, 'theta': 1.0, 'state': array([-0.14103978+0.33068556j,  0.67242423-0.64699343j])}\n",
      "Result with target cost as 0.9126678074548391 was returned\n",
      " {'cost': 0.9140625, 'theta': 0.010813148788927337, 'state': array([-0.09038279-0.49498763j,  0.86348961+0.0346971j ])}\n",
      "Result with target cost as 0.9126678074548391 was returned\n",
      " {'cost': 0.962890625, 'theta': 0.9705882352941176, 'state': array([ 0.13596184+0.61442601j, -0.73896732-0.24067064j])}\n",
      "Result with target cost as 0.9126678074548391 was returned\n",
      " {'cost': 0.951171875, 'theta': 0.38235294117647056, 'state': array([-0.85643258+0.04571981j, -0.51148348+0.05308097j])}\n",
      "Result with target cost as 0.9126678074548391 was returned\n",
      " {'cost': 0.9375, 'theta': 0.3529411764705882, 'state': array([ 0.25267323-0.71609707j, -0.46321038-0.4569435j ])}\n",
      "Result with target cost as 0.9126678074548391 was returned\n",
      " {'cost': 0.970703125, 'theta': 0.38235294117647056, 'state': array([0.5884483 +0.61102312j, 0.42674254+0.31348072j])}\n",
      "Result with target cost as 0.9126678074548391 was returned\n",
      " {'cost': 0.935546875, 'theta': 0.3804065743944636, 'state': array([0.81515181+0.33524947j, 0.2878419 -0.37454286j])}\n",
      "Result with target cost as 0.9126678074548391 was returned\n",
      " {'cost': 0.9453125, 'theta': 0.3598615916955017, 'state': array([0.61203742+0.16854201j, 0.71164993-0.30092883j])}\n",
      "TARGET COST : 0.9605304970014426\n",
      "GIVEN DELTA : 0.2\n",
      "Maximum iterations reached for the estimation.\n",
      "Terminating algorithm...\n",
      "Result with target cost as 0.9605304970014426 was returned\n",
      " {'cost': 0.875, 'theta': 0.3529411764705882, 'state': array([-0.3068889 +0.42391518j,  0.21536996+0.82445794j])}\n",
      "Result with target cost as 0.9605304970014426 was returned\n",
      " {'cost': 0.96484375, 'theta': 0.004541522491349481, 'state': array([-0.73281311-0.05683739j,  0.6364934 -0.23373192j])}\n",
      "Result with target cost as 0.9605304970014426 was returned\n",
      " {'cost': 0.970703125, 'theta': 0.375, 'state': array([0.57874258+0.41462606j, 0.68673761-0.1467437j ])}\n",
      "Result with target cost as 0.9605304970014426 was returned\n",
      " {'cost': 0.962890625, 'theta': 0.9963553327905557, 'state': array([ 0.25424946+0.46660021j, -0.41920288-0.73614564j])}\n",
      "Maximum iterations reached for the estimation.\n",
      "Terminating algorithm...\n",
      "Result with target cost as 0.9605304970014426 was returned\n",
      " {'cost': 0.798828125, 'theta': 0.2941176470588235, 'state': array([-0.83912192-0.28684902j, -0.21753396-0.40776343j])}\n",
      "Result with target cost as 0.9605304970014426 was returned\n",
      " {'cost': 0.9609375, 'theta': 0.375, 'state': array([ 0.70793449-0.56149481j, -0.07568843-0.42169135j])}\n",
      "Result with target cost as 0.9605304970014426 was returned\n",
      " {'cost': 0.962890625, 'theta': 0.0012435121107266436, 'state': array([-0.35215248-0.00253193j,  0.70552745-0.61499044j])}\n",
      "Maximum iterations reached for the estimation.\n",
      "Terminating algorithm...\n",
      "Result with target cost as 0.9605304970014426 was returned\n",
      " {'cost': 0.919921875, 'theta': 0.01945375264903437, 'state': array([-0.64520438+0.45210627j,  0.41284867-0.45701992j])}\n",
      "Maximum iterations reached for the estimation.\n",
      "Terminating algorithm...\n",
      "Result with target cost as 0.9605304970014426 was returned\n",
      " {'cost': 0.814453125, 'theta': 0.024171035577878627, 'state': array([0.57114679-0.06327773j, 0.27464397+0.77094615j])}\n",
      "Result with target cost as 0.9605304970014426 was returned\n",
      " {'cost': 0.966796875, 'theta': 0.375, 'state': array([-0.67986996-0.0812441j , -0.62268061+0.37874146j])}\n",
      "TARGET COST : 0.9776682445628029\n",
      "GIVEN DELTA : 0.15\n",
      "Result with target cost as 0.9776682445628029 was returned\n",
      " {'cost': 0.978515625, 'theta': 0.3529411764705882, 'state': array([-0.56710065-0.42133909j, -0.70491399-0.06298j   ])}\n",
      "Result with target cost as 0.9776682445628029 was returned\n",
      " {'cost': 0.978515625, 'theta': 0.9713896804396499, 'state': array([-0.32345272-0.213208j ,  0.91239651-0.1321109j])}\n",
      "Result with target cost as 0.9776682445628029 was returned\n",
      " {'cost': 0.98046875, 'theta': 0.39705882352941174, 'state': array([0.37036512+0.62394672j, 0.65962955+0.19598222j])}\n",
      "Result with target cost as 0.9776682445628029 was returned\n",
      " {'cost': 0.98046875, 'theta': 0.3786764705882353, 'state': array([-0.74703013+0.16898631j, -0.24477658+0.59453682j])}\n",
      "Result with target cost as 0.9776682445628029 was returned\n",
      " {'cost': 0.984375, 'theta': 0.37629757785467133, 'state': array([-0.42273943-0.57670454j, -0.68847391-0.12127211j])}\n",
      "Result with target cost as 0.9776682445628029 was returned\n",
      " {'cost': 0.98046875, 'theta': 0.008434256055363321, 'state': array([ 0.46192395+0.42062434j, -0.76396393+0.1614328j ])}\n",
      "Result with target cost as 0.9776682445628029 was returned\n",
      " {'cost': 0.978515625, 'theta': 0.38421820934256057, 'state': array([0.57815636+0.3833501j , 0.71534788-0.08399604j])}\n",
      "Result with target cost as 0.9776682445628029 was returned\n",
      " {'cost': 0.978515625, 'theta': 0.3786764705882353, 'state': array([-0.68759826+0.28020934j, -0.15308388+0.65211708j])}\n",
      "Maximum iterations reached for the estimation.\n",
      "Terminating algorithm...\n",
      "Result with target cost as 0.9776682445628029 was returned\n",
      " {'cost': 0.9765625, 'theta': 0.37543252595155713, 'state': array([0.76717567-0.19384002j, 0.1574806 -0.59081926j])}\n",
      "Result with target cost as 0.9776682445628029 was returned\n",
      " {'cost': 0.990234375, 'theta': 0.9705882352941176, 'state': array([ 0.44197386+0.28972516j, -0.82002299+0.21972876j])}\n",
      "TARGET COST : 0.9900332889206209\n",
      "GIVEN DELTA : 0.1\n",
      "Maximum iterations reached for the estimation.\n",
      "Terminating algorithm...\n",
      "Result with target cost as 0.9900332889206209 was returned\n",
      " {'cost': 0.87890625, 'theta': 0.9823265458609357, 'state': array([0.51738089-0.61923425j, 0.25644333+0.53207403j])}\n",
      "Result with target cost as 0.9900332889206209 was returned\n",
      " {'cost': 0.990234375, 'theta': 0.010705017301038063, 'state': array([ 0.16264764+0.38401999j, -0.71251267-0.56426952j])}\n",
      "Result with target cost as 0.9900332889206209 was returned\n",
      " {'cost': 0.990234375, 'theta': 0.37683823529411764, 'state': array([0.80318933+0.44650073j, 0.39435221+0.00321434j])}\n"
     ]
    },
    {
     "name": "stdout",
     "output_type": "stream",
     "text": [
      "Maximum iterations reached for the estimation.\n",
      "Terminating algorithm...\n",
      "Result with target cost as 0.9900332889206209 was returned\n",
      " {'cost': 0.984375, 'theta': 0.011620812873257379, 'state': array([ 0.57128886+0.08606635j, -0.81574693+0.02790303j])}\n",
      "Maximum iterations reached for the estimation.\n",
      "Terminating algorithm...\n",
      "Result with target cost as 0.9900332889206209 was returned\n",
      " {'cost': 0.857421875, 'theta': 0.3676470588235294, 'state': array([0.97634193+0.0407033j , 0.01351517-0.21193637j])}\n",
      "Maximum iterations reached for the estimation.\n",
      "Terminating algorithm...\n",
      "Result with target cost as 0.9900332889206209 was returned\n",
      " {'cost': 0.96875, 'theta': 0.0069065714012044865, 'state': array([ 0.55553839-0.48337445j, -0.13849222+0.66222817j])}\n",
      "Maximum iterations reached for the estimation.\n",
      "Terminating algorithm...\n",
      "Result with target cost as 0.9900332889206209 was returned\n",
      " {'cost': 0.984375, 'theta': 0.009221623528813113, 'state': array([-0.31459518+0.40956292j, -0.28026227-0.80916076j])}\n",
      "Maximum iterations reached for the estimation.\n",
      "Terminating algorithm...\n",
      "Result with target cost as 0.9900332889206209 was returned\n",
      " {'cost': 0.923828125, 'theta': 0.005839100346020761, 'state': array([-0.20228475-0.16269118j,  0.89248807-0.36888683j])}\n",
      "Maximum iterations reached for the estimation.\n",
      "Terminating algorithm...\n",
      "Result with target cost as 0.9900332889206209 was returned\n",
      " {'cost': 0.943359375, 'theta': 0.0, 'state': array([-0.35410181+0.57477709j, -0.42294899-0.60444797j])}\n",
      "Maximum iterations reached for the estimation.\n",
      "Terminating algorithm...\n",
      "Result with target cost as 0.9900332889206209 was returned\n",
      " {'cost': 0.939453125, 'theta': 0.9584502611882746, 'state': array([0.20092448-0.75550304j, 0.35428911+0.5131508j ])}\n",
      "TARGET COST : 0.997502082639013\n",
      "GIVEN DELTA : 0.05\n",
      "Maximum iterations reached for the estimation.\n",
      "Terminating algorithm...\n",
      "Result with target cost as 0.997502082639013 was returned\n",
      " {'cost': 0.935546875, 'theta': 0.015081349301373307, 'state': array([-0.59156453+0.42203187j,  0.53920709-0.4256715j ])}\n",
      "Result with target cost as 0.997502082639013 was returned\n",
      " {'cost': 0.998046875, 'theta': 0.3676470588235294, 'state': array([0.78687738+0.09403362j, 0.58781022-0.16266781j])}\n",
      "Maximum iterations reached for the estimation.\n",
      "Terminating algorithm...\n",
      "Result with target cost as 0.997502082639013 was returned\n",
      " {'cost': 0.990234375, 'theta': 0.37637867647058815, 'state': array([0.47375408+0.58469578j, 0.65636831+0.05355892j])}\n",
      "Maximum iterations reached for the estimation.\n",
      "Terminating algorithm...\n",
      "Result with target cost as 0.997502082639013 was returned\n",
      " {'cost': 0.947265625, 'theta': 0.007861795237125992, 'state': array([-0.11367732+0.2554542j , -0.06743884-0.95774351j])}\n",
      "Maximum iterations reached for the estimation.\n",
      "Terminating algorithm...\n",
      "Result with target cost as 0.997502082639013 was returned\n",
      " {'cost': 0.978515625, 'theta': 0.37499999999999994, 'state': array([-0.02474496-0.93346914j, -0.15328547-0.32330577j])}\n",
      "Maximum iterations reached for the estimation.\n",
      "Terminating algorithm...\n",
      "Result with target cost as 0.997502082639013 was returned\n",
      " {'cost': 0.98046875, 'theta': 0.38167711937716264, 'state': array([-0.46618688+0.62343742j,  0.23712447+0.58117774j])}\n",
      "Maximum iterations reached for the estimation.\n",
      "Terminating algorithm...\n",
      "Result with target cost as 0.997502082639013 was returned\n",
      " {'cost': 0.9609375, 'theta': 0.39705882352941174, 'state': array([-0.62600378-0.46861222j, -0.55380215+0.28605076j])}\n",
      "Maximum iterations reached for the estimation.\n",
      "Terminating algorithm...\n",
      "Result with target cost as 0.997502082639013 was returned\n",
      " {'cost': 0.990234375, 'theta': 0.3676470588235294, 'state': array([ 0.30841371-0.64249712j, -0.03395036-0.70066097j])}\n",
      "Maximum iterations reached for the estimation.\n",
      "Terminating algorithm...\n",
      "Result with target cost as 0.997502082639013 was returned\n",
      " {'cost': 0.99609375, 'theta': 0.3740808823529411, 'state': array([-0.40709237-0.70527078j, -0.57075562-0.10538952j])}\n",
      "Maximum iterations reached for the estimation.\n",
      "Terminating algorithm...\n",
      "Result with target cost as 0.997502082639013 was returned\n",
      " {'cost': 0.8359375, 'theta': 0.03222257813638979, 'state': array([ 0.38180905+0.7893993j , -0.26522901-0.40090418j])}\n",
      "TARGET COST : 0.9993751301974833\n",
      "GIVEN DELTA : 0.025\n",
      "Maximum iterations reached for the estimation.\n",
      "Terminating algorithm...\n",
      "Result with target cost as 0.9993751301974833 was returned\n",
      " {'cost': 0.962890625, 'theta': 0.9574278100717184, 'state': array([-0.32722937-0.6754207j ,  0.62031769+0.22788982j])}\n",
      "Maximum iterations reached for the estimation.\n",
      "Terminating algorithm...\n",
      "Result with target cost as 0.9993751301974833 was returned\n",
      " {'cost': 0.98828125, 'theta': 0.3740808823529412, 'state': array([-0.92170296-0.01774384j, -0.35357564+0.15853416j])}\n",
      "Maximum iterations reached for the estimation.\n",
      "Terminating algorithm...\n",
      "Result with target cost as 0.9993751301974833 was returned\n",
      " {'cost': 0.974609375, 'theta': 0.0043029971504172605, 'state': array([ 0.11532551-0.6182293j , -0.02832074+0.77697523j])}\n",
      "Maximum iterations reached for the estimation.\n",
      "Terminating algorithm...\n",
      "Result with target cost as 0.9993751301974833 was returned\n",
      " {'cost': 0.98046875, 'theta': 0.9804600040708324, 'state': array([-0.62827714+0.32129176j,  0.21852245-0.67400844j])}\n",
      "Maximum iterations reached for the estimation.\n",
      "Terminating algorithm...\n",
      "Result with target cost as 0.9993751301974833 was returned\n",
      " {'cost': 0.97265625, 'theta': 0.38532655709342567, 'state': array([0.62812803+0.62161042j, 0.44033591-0.1586189j ])}\n",
      "Maximum iterations reached for the estimation.\n",
      "Terminating algorithm...\n",
      "Result with target cost as 0.9993751301974833 was returned\n",
      " {'cost': 0.984375, 'theta': 0.38786764705882343, 'state': array([0.32690167+0.70386067j, 0.62368656+0.09343725j])}\n",
      "Maximum iterations reached for the estimation.\n",
      "Terminating algorithm...\n",
      "Result with target cost as 0.9993751301974833 was returned\n",
      " {'cost': 0.9765625, 'theta': 0.3740538494809689, 'state': array([-0.34135427+0.87612519j,  0.16564972+0.29739215j])}\n",
      "Maximum iterations reached for the estimation.\n",
      "Terminating algorithm...\n",
      "Result with target cost as 0.9993751301974833 was returned\n",
      " {'cost': 0.927734375, 'theta': 0.0003014549901442022, 'state': array([ 0.43818695-0.43377063j, -0.64506395+0.45136209j])}\n",
      "Maximum iterations reached for the estimation.\n",
      "Terminating algorithm...\n",
      "Result with target cost as 0.9993751301974833 was returned\n",
      " {'cost': 0.888671875, 'theta': 0.3529411764705882, 'state': array([0.55276121+0.30321785j, 0.60558657-0.48557069j])}\n",
      "Maximum iterations reached for the estimation.\n",
      "Terminating algorithm...\n",
      "Result with target cost as 0.9993751301974833 was returned\n",
      " {'cost': 0.9921875, 'theta': 0.37652735726643605, 'state': array([0.68062387+0.47627571j, 0.51238562-0.21765472j])}\n",
      "TARGET COST : 0.9999000033332889\n",
      "GIVEN DELTA : 0.01\n",
      "Maximum iterations reached for the estimation.\n",
      "Terminating algorithm...\n",
      "Result with target cost as 0.9999000033332889 was returned\n",
      " {'cost': 0.98046875, 'theta': 0.3740808823529411, 'state': array([ 0.33592079-0.61546711j, -0.16224742-0.69428614j])}\n",
      "Maximum iterations reached for the estimation.\n",
      "Terminating algorithm...\n",
      "Result with target cost as 0.9999000033332889 was returned\n",
      " {'cost': 0.98046875, 'theta': 0.014030060553633218, 'state': array([-0.46431766+0.20492159j,  0.14165919-0.84991113j])}\n",
      "Maximum iterations reached for the estimation.\n",
      "Terminating algorithm...\n",
      "Result with target cost as 0.9999000033332889 was returned\n",
      " {'cost': 0.98828125, 'theta': 0.380514705882353, 'state': array([0.63519786+6.53217086e-01j, 0.4121053 -5.79433918e-04j])}\n",
      "Maximum iterations reached for the estimation.\n",
      "Terminating algorithm...\n",
      "Result with target cost as 0.9999000033332889 was returned\n",
      " {'cost': 0.970703125, 'theta': 0.0029871323529411763, 'state': array([ 0.42672969+0.62074828j, -0.59679101-0.27643052j])}\n",
      "Maximum iterations reached for the estimation.\n",
      "Terminating algorithm...\n",
      "Result with target cost as 0.9999000033332889 was returned\n",
      " {'cost': 0.904296875, 'theta': 0.004108996539792388, 'state': array([-0.07856458-0.14544104j,  0.87956385+0.44614118j])}\n",
      "Maximum iterations reached for the estimation.\n",
      "Terminating algorithm...\n",
      "Result with target cost as 0.9999000033332889 was returned\n",
      " {'cost': 0.94140625, 'theta': 0.36029411764705876, 'state': array([-0.73936812-0.36355618j, -0.38978072+0.41137899j])}\n"
     ]
    },
    {
     "name": "stdout",
     "output_type": "stream",
     "text": [
      "Maximum iterations reached for the estimation.\n",
      "Terminating algorithm...\n",
      "Result with target cost as 0.9999000033332889 was returned\n",
      " {'cost': 0.99609375, 'theta': 0.3933823529411764, 'state': array([-0.29297755+0.86114763j,  0.10152998+0.40284065j])}\n",
      "Maximum iterations reached for the estimation.\n",
      "Terminating algorithm...\n",
      "Result with target cost as 0.9999000033332889 was returned\n",
      " {'cost': 0.998046875, 'theta': 0.375, 'state': array([-0.0860547 -0.78936534j, -0.30758391-0.52429865j])}\n",
      "Maximum iterations reached for the estimation.\n",
      "Terminating algorithm...\n",
      "Result with target cost as 0.9999000033332889 was returned\n",
      " {'cost': 0.9765625, 'theta': 0.38235294117647056, 'state': array([-0.77326099+0.35353116j, -0.45594319+0.26305696j])}\n",
      "Maximum iterations reached for the estimation.\n",
      "Terminating algorithm...\n",
      "Result with target cost as 0.9999000033332889 was returned\n",
      " {'cost': 0.767578125, 'theta': 0.07973743130470182, 'state': array([-0.14775769+0.00385083j, -0.72918899-0.66815885j])}\n"
     ]
    }
   ],
   "source": [
    "# looping and storing the results we get \n",
    "generated_deltas, errors = [],[]\n",
    "for delta,cost in zip(deltas,target_costs):\n",
    "    spea = SPEA(u1,resolution=35,max_iters=15)\n",
    "    max_differences = []\n",
    "    delta_error = []\n",
    "    print(\"TARGET COST :\",cost)\n",
    "    print(\"GIVEN DELTA :\",delta)\n",
    "    # doing numerous experiments to converge \n",
    "    for exp in range(10):\n",
    "        result = spea.get_eigen_pair(backend = backend,progress = False, randomize = True, target_cost = cost)\n",
    "        print(\"Result with target cost as\",cost,\"was returned\\n\",result)\n",
    "        # find the final cost \n",
    "        theta = result['theta']\n",
    "        stop_cost = result['cost']\n",
    "\n",
    "        # find the maximum difference between the eigenphases and this returned phase \n",
    "        max_diff = max(abs(eigen_phases1 - theta)) \n",
    "        max_differences.append(max_diff)\n",
    "\n",
    "        # now append this and the error from how it actually should have been \n",
    "        # NOTE - there is no error if the max difference is actually less than \n",
    "        # the delta desired .\n",
    "        if delta - max_diff >= 0:\n",
    "            error = 0 \n",
    "        else:\n",
    "            # this error should not be more than 5-6 % or 0.05 - 0.06 \n",
    "            error = abs((delta - max_diff))/delta\n",
    "        delta_error.append(error)\n",
    "    # the maximum would be a better metric \n",
    "    generated_deltas.append(np.average(max_differences))\n",
    "    errors.append(np.average(delta_error))\n"
   ]
  },
  {
   "cell_type": "markdown",
   "metadata": {},
   "source": [
    "### Plot 1\n",
    "- Plotting the Generated Maximum difference in eigenvalues and the Given **delta** values"
   ]
  },
  {
   "cell_type": "code",
   "execution_count": 43,
   "metadata": {
    "ExecuteTime": {
     "end_time": "2021-06-02T15:27:57.260832Z",
     "start_time": "2021-06-02T15:27:56.967880Z"
    }
   },
   "outputs": [
    {
     "data": {
      "image/png": "[encoded data removed]",
      "text/plain": [
       "<Figure size 720x576 with 1 Axes>"
      ]
     },
     "metadata": {
      "needs_background": "light"
     },
     "output_type": "display_data"
    }
   ],
   "source": [
    "iters = [i for i in range(1,9)]\n",
    "plt.figure(figsize=(10,8))\n",
    "plt.title(\"Plot for Generated and Given maximum $ \\delta^{*}$ values\",fontsize=16)\n",
    "plt.xlabel(\"Iteration Number\", fontsize = 14)\n",
    "plt.ylabel(\"Values of $ \\delta^{*}$ (maximum average error)\",fontsize = 14)\n",
    "plt.grid()\n",
    "plt.plot(iters, deltas, label = 'Actual Values', color = 'black', alpha = 0.7, marker = 'o')\n",
    "plt.plot(iters, generated_deltas, label = 'Generated Values', color = 'green', alpha = 0.7, marker = 's')\n",
    "plt.legend()\n",
    "plt.savefig(\"Plot for verifying Cost Lower Bound.JPG\",dpi = 200)"
   ]
  },
  {
   "cell_type": "markdown",
   "metadata": {},
   "source": [
    "## Plot 2\n",
    "- Plotting the error in the Generated and the Given delta values"
   ]
  },
  {
   "cell_type": "code",
   "execution_count": 44,
   "metadata": {
    "ExecuteTime": {
     "end_time": "2021-06-02T15:28:20.325983Z",
     "start_time": "2021-06-02T15:28:19.989340Z"
    }
   },
   "outputs": [
    {
     "data": {
      "image/png": "[encoded data removed]",
      "text/plain": [
       "<Figure size 720x576 with 1 Axes>"
      ]
     },
     "metadata": {
      "needs_background": "light"
     },
     "output_type": "display_data"
    }
   ],
   "source": [
    "plt.figure(figsize=(10,8))\n",
    "plt.title(\"Plot for Error in Generated and Given maximum $ \\delta^{*}$ values\",fontsize=16)\n",
    "plt.xlabel(\"Iteration Number\", fontsize = 14)\n",
    "plt.ylabel(\"Relative Error in $ \\delta^{*}$\",fontsize = 14)\n",
    "plt.grid()\n",
    "plt.plot(iters, errors, label = 'Error Values', color = 'cyan', alpha = 0.8, marker = 'o')\n",
    "plt.legend()\n",
    "plt.savefig(\"Plot for Error in Cost Lower Bound.JPG\",dpi = 200)"
   ]
  },
  {
   "cell_type": "code",
   "execution_count": null,
   "metadata": {},
   "outputs": [],
   "source": []
  },
  {
   "cell_type": "code",
   "execution_count": null,
   "metadata": {},
   "outputs": [],
   "source": []
  },
  {
   "cell_type": "code",
   "execution_count": null,
   "metadata": {},
   "outputs": [],
   "source": []
  },
  {
   "cell_type": "code",
   "execution_count": null,
   "metadata": {},
   "outputs": [],
   "source": []
  }
 ],
 "metadata": {
  "kernelspec": {
   "display_name": "Python 3",
   "language": "python",
   "name": "python3"
  },
  "language_info": {
   "codemirror_mode": {
    "name": "ipython",
    "version": 3
   },
   "file_extension": ".py",
   "mimetype": "text/x-python",
   "name": "python",
   "nbconvert_exporter": "python",
   "pygments_lexer": "ipython3",
   "version": "3.7.4"
  },
  "varInspector": {
   "cols": {
    "lenName": 16,
    "lenType": 16,
    "lenVar": 40
   },
   "kernels_config": {
    "python": {
     "delete_cmd_postfix": "",
     "delete_cmd_prefix": "del ",
     "library": "var_list.py",
     "varRefreshCmd": "print(var_dic_list())"
    },
    "r": {
     "delete_cmd_postfix": ") ",
     "delete_cmd_prefix": "rm(",
     "library": "var_list.r",
     "varRefreshCmd": "cat(var_dic_list()) "
    }
   },
   "types_to_exclude": [
    "module",
    "function",
    "builtin_function_or_method",
    "instance",
    "_Feature"
   ],
   "window_display": false
  }
 },
 "nbformat": 4,
 "nbformat_minor": 2
}
