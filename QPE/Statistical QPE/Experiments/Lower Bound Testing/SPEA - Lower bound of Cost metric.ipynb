{
 "cells": [
  {
   "cell_type": "markdown",
   "metadata": {},
   "source": [
    "## Testing the upper bound for the cost\n",
    "- As derived theoretically, let's check the lower bound defined for our cost i.e. -\n",
    "$$ C^{*} \\geq P_{0}( \\delta^{*}) $$\n",
    "- where $\\delta^{*}$ is the maximum allowable difference in the measured and the actual eigenvalues\n",
    "\n",
    "\n",
    "### Experiment\n",
    "- Ask the user for a $\\delta^{*}$ value\n",
    "- Finding the theoretical lower bound i.e. $P_{0}( \\delta^{*}) $.\n",
    "- Letting the algorithm run until we have $ C^{*} \\geq P_{0}( \\delta^{*}) $.\n",
    "- Now, let the returned eigenvalue be $\\theta_{r}$. \n",
    "- Calculate the difference between all the actual eiegenvalues of the unitary and the measured value of the unitary matrix. \n",
    "- If the maximum difference between them, $D \\leq \\delta^{*}$ or it is within $+5\\% $ of $\\delta^{*}$, our theoretical basis is correct!"
   ]
  },
  {
   "cell_type": "markdown",
   "metadata": {},
   "source": [
    "- **IMPORTS**"
   ]
  },
  {
   "cell_type": "code",
   "execution_count": 7,
   "metadata": {
    "ExecuteTime": {
     "end_time": "2021-06-26T07:34:23.348478Z",
     "start_time": "2021-06-26T07:34:23.334661Z"
    }
   },
   "outputs": [],
   "source": [
    "from qiskit import QuantumCircuit, execute, transpile, Aer \n",
    "from qiskit.extensions import UnitaryGate,Initialize\n",
    "from qiskit.quantum_info import Statevector \n",
    "from qiskit.tools.visualization import plot_bloch_vector\n",
    "from qiskit.tools.visualization import plot_histogram,plot_bloch_multivector  \n",
    "import numpy as np \n",
    "from time import sleep \n",
    "import sys \n",
    "from scipy.stats import unitary_group \n",
    "import matplotlib.pyplot as plt \n",
    "%matplotlib inline \n",
    "from qiskit import IBMQ "
   ]
  },
  {
   "cell_type": "markdown",
   "metadata": {},
   "source": [
    "### Testing is done for 1 qubit matrices\n",
    "\n",
    "- The values of $\\delta^{*}$ range from [0,0.5] and have been defined as - \n",
    "      - deltas = [0.4, 0.3, 0.2, 0.15, 0.1, 0.05, 0.025, 0.01]"
   ]
  },
  {
   "cell_type": "code",
   "execution_count": 8,
   "metadata": {
    "ExecuteTime": {
     "end_time": "2021-06-26T07:34:23.790711Z",
     "start_time": "2021-06-26T07:34:23.772562Z"
    }
   },
   "outputs": [],
   "source": [
    "# defining the absolute error in the eigenvalue\n",
    "deltas = [0.4, 0.3, 0.2, 0.15, 0.1, 0.05, 0.025, 0.01]"
   ]
  },
  {
   "cell_type": "code",
   "execution_count": 10,
   "metadata": {
    "ExecuteTime": {
     "end_time": "2021-06-26T07:34:30.086681Z",
     "start_time": "2021-06-26T07:34:30.067728Z"
    }
   },
   "outputs": [
    {
     "data": {
      "text/plain": [
       "[0.8483533546735827,\n",
       " 0.9126678074548391,\n",
       " 0.9605304970014426,\n",
       " 0.9776682445628029,\n",
       " 0.9900332889206209,\n",
       " 0.997502082639013,\n",
       " 0.9993751301974833,\n",
       " 0.9999000033332889]"
      ]
     },
     "execution_count": 10,
     "metadata": {},
     "output_type": "execute_result"
    }
   ],
   "source": [
    "# find the target costs for each of the algorithm \n",
    "target_costs = []\n",
    "for i in deltas:\n",
    "    cost = (np.cos(i))**2 \n",
    "    target_costs.append(cost)\n",
    "target_costs"
   ]
  },
  {
   "cell_type": "markdown",
   "metadata": {},
   "source": [
    "## Single Qubit Unitary\n",
    "- 2 samples are tested for changing ranges of the **delta** values"
   ]
  },
  {
   "cell_type": "code",
   "execution_count": 11,
   "metadata": {
    "ExecuteTime": {
     "end_time": "2021-06-26T07:34:30.958419Z",
     "start_time": "2021-06-26T07:34:30.935282Z"
    }
   },
   "outputs": [
    {
     "data": {
      "text/plain": [
       "array([[0.70054301-0.15999154j, 0.40138414+0.56791986j],\n",
       "       [0.54174609+0.43606578j, 0.20342627-0.6891847j ]])"
      ]
     },
     "execution_count": 11,
     "metadata": {},
     "output_type": "execute_result"
    }
   ],
   "source": [
    "u1 = unitary_group.rvs(2)\n",
    "u1 "
   ]
  },
  {
   "cell_type": "code",
   "execution_count": 12,
   "metadata": {
    "ExecuteTime": {
     "end_time": "2021-06-26T07:34:31.627846Z",
     "start_time": "2021-06-26T07:34:31.617823Z"
    }
   },
   "outputs": [
    {
     "name": "stdout",
     "output_type": "stream",
     "text": [
      "Eigen states of Unitary : [[ 0.85520717+0.j         -0.51329432-0.07176098j]\n",
      " [ 0.51329432-0.07176098j  0.85520717+0.j        ]]\n",
      "Eigen phases of unitary : [0.0235119  0.73643336]\n"
     ]
    }
   ],
   "source": [
    "eigen_phases1, eigen_vectors1 = np.linalg.eig(u1)\n",
    "print(\"Eigen states of Unitary :\",eigen_vectors1)\n",
    "eigen_phases1 = np.angle(eigen_phases1)\n",
    "ep1 = []\n",
    "for k in eigen_phases1:\n",
    "    if k < 0:\n",
    "        ep1.append((k + 2*np.pi)/(2*np.pi))\n",
    "    else:\n",
    "        ep1.append(k/(2*np.pi))\n",
    "eigen_phases1 = np.array(ep1)\n",
    "print(\"Eigen phases of unitary :\",eigen_phases1)"
   ]
  },
  {
   "cell_type": "markdown",
   "metadata": {},
   "source": [
    "- Note that the eigenphases have been scaled down to lie in the range $[0,1]$"
   ]
  },
  {
   "cell_type": "code",
   "execution_count": 13,
   "metadata": {
    "ExecuteTime": {
     "end_time": "2021-06-26T07:34:33.352364Z",
     "start_time": "2021-06-26T07:34:33.346023Z"
    }
   },
   "outputs": [],
   "source": [
    "from normal_SPEA import SPEA \n",
    "backend = Aer.get_backend('qasm_simulator')"
   ]
  },
  {
   "cell_type": "code",
   "execution_count": 14,
   "metadata": {
    "ExecuteTime": {
     "end_time": "2021-06-26T07:36:53.416508Z",
     "start_time": "2021-06-26T07:34:50.733681Z"
    }
   },
   "outputs": [
    {
     "name": "stdout",
     "output_type": "stream",
     "text": [
      "TARGET COST : 0.8483533546735827\n",
      "GIVEN DELTA : 0.4\n"
     ]
    },
    {
     "name": "stderr",
     "output_type": "stream",
     "text": [
      "E:\\ANACONDA\\lib\\site-packages\\qiskit\\circuit\\quantumcircuit.py:869: DeprecationWarning: The QuantumCircuit.combine() method is being deprecated. Use the compose() method which is more flexible w.r.t circuit register compatibility.\n",
      "  return self.combine(rhs)\n"
     ]
    },
    {
     "name": "stdout",
     "output_type": "stream",
     "text": [
      "Result with target cost as 0.8483533546735827 was returned\n",
      " {'cost': 0.853515625, 'theta': 0.08823529411764705, 'state': array([-0.43593844+0.45776765j, -0.4851735 +0.60416317j])}\n",
      "Result with target cost as 0.8483533546735827 was returned\n",
      " {'cost': 0.9453125, 'theta': 0.7647058823529411, 'state': array([-0.56813966+0.49070119j,  0.46582665-0.4684391j ])}\n",
      "Result with target cost as 0.8483533546735827 was returned\n",
      " {'cost': 0.912109375, 'theta': 0.058823529411764705, 'state': array([0.8927806 +0.0082592j , 0.28293508-0.35046017j])}\n",
      "Result with target cost as 0.8483533546735827 was returned\n",
      " {'cost': 0.861328125, 'theta': 0.9134948096885813, 'state': array([0.68723511-0.71187698j, 0.08047369-0.12026246j])}\n",
      "Maximum iterations reached for the estimation.\n",
      "Terminating algorithm...\n",
      "Result with target cost as 0.8483533546735827 was returned\n",
      " {'cost': 0.796875, 'theta': 0.11348399653979241, 'state': array([-0.24581451+0.6055219j ,  0.40601323+0.63880491j])}\n",
      "Result with target cost as 0.8483533546735827 was returned\n",
      " {'cost': 0.888671875, 'theta': 0.06704152249134948, 'state': array([0.58562945+0.48986309j, 0.19642449+0.61521518j])}\n",
      "Result with target cost as 0.8483533546735827 was returned\n",
      " {'cost': 0.91015625, 'theta': 0.06704152249134948, 'state': array([0.26859075-0.78855433j, 0.43112059-0.34666425j])}\n",
      "Result with target cost as 0.8483533546735827 was returned\n",
      " {'cost': 0.955078125, 'theta': 0.7647058823529411, 'state': array([-0.46125698-0.17745045j,  0.77489199-0.3940758j ])}\n",
      "Result with target cost as 0.8483533546735827 was returned\n",
      " {'cost': 0.978515625, 'theta': 0.029411764705882353, 'state': array([-0.88068206-0.06309584j, -0.42882344+0.19112424j])}\n",
      "Result with target cost as 0.8483533546735827 was returned\n",
      " {'cost': 0.888671875, 'theta': 0.9146651740280887, 'state': array([-0.33181189+0.68350594j,  0.32507713+0.56306781j])}\n",
      "TARGET COST : 0.9126678074548391\n",
      "GIVEN DELTA : 0.3\n",
      "Result with target cost as 0.9126678074548391 was returned\n",
      " {'cost': 0.92578125, 'theta': 0.08092687767148382, 'state': array([0.63832356-0.32134643j, 0.68498712-0.1416762j ])}\n",
      "Result with target cost as 0.9126678074548391 was returned\n",
      " {'cost': 0.919921875, 'theta': 0.7727076124567474, 'state': array([ 0.33277561+0.72636956j, -0.51029929-0.31818593j])}\n",
      "Result with target cost as 0.9126678074548391 was returned\n",
      " {'cost': 0.921875, 'theta': 0.7647058823529411, 'state': array([-0.57245408-0.42370447j,  0.36630817+0.59882316j])}\n",
      "Result with target cost as 0.9126678074548391 was returned\n",
      " {'cost': 0.916015625, 'theta': 0.07812499999999997, 'state': array([0.96753083-0.14699275j, 0.19725721-0.05802433j])}\n",
      "Maximum iterations reached for the estimation.\n",
      "Terminating algorithm...\n",
      "Result with target cost as 0.9126678074548391 was returned\n",
      " {'cost': 0.859375, 'theta': 0.8914359861591695, 'state': array([-0.84202621+0.52957519j, -0.01190493+0.10198165j])}\n",
      "Result with target cost as 0.9126678074548391 was returned\n",
      " {'cost': 0.91796875, 'theta': 0.7647058823529411, 'state': array([ 0.17088718-0.05659909j, -0.98318051-0.03082529j])}\n",
      "Result with target cost as 0.9126678074548391 was returned\n",
      " {'cost': 0.947265625, 'theta': 0.058823529411764705, 'state': array([0.653135  +0.59187911j, 0.22600516+0.41474747j])}\n",
      "Result with target cost as 0.9126678074548391 was returned\n",
      " {'cost': 0.91796875, 'theta': 0.05953592509668228, 'state': array([0.42150863+0.86759758j, 0.03838109+0.26102071j])}\n",
      "Maximum iterations reached for the estimation.\n",
      "Terminating algorithm...\n",
      "Result with target cost as 0.9126678074548391 was returned\n",
      " {'cost': 0.84765625, 'theta': 0.8800821799307958, 'state': array([ 0.02826539+0.47631364j, -0.1470647 +0.86642851j])}\n",
      "Result with target cost as 0.9126678074548391 was returned\n",
      " {'cost': 0.9140625, 'theta': 0.06893382352941174, 'state': array([0.80921241-0.30439288j, 0.17692792-0.47033686j])}\n",
      "TARGET COST : 0.9605304970014426\n",
      "GIVEN DELTA : 0.2\n",
      "Maximum iterations reached for the estimation.\n",
      "Terminating algorithm...\n",
      "Result with target cost as 0.9605304970014426 was returned\n",
      " {'cost': 0.943359375, 'theta': 0.06410845588235292, 'state': array([0.48528554-0.73488588j, 0.42394429-0.21145196j])}\n",
      "Result with target cost as 0.9605304970014426 was returned\n",
      " {'cost': 0.96875, 'theta': 0.048086708731935685, 'state': array([-0.76267968-0.56759495j, -0.27454585-0.14415355j])}\n",
      "Result with target cost as 0.9605304970014426 was returned\n",
      " {'cost': 0.96484375, 'theta': 0.05655276816608996, 'state': array([0.72381679+0.25382585j, 0.63186634-0.111385j  ])}\n",
      "Result with target cost as 0.9605304970014426 was returned\n",
      " {'cost': 0.9921875, 'theta': 0.7352941176470588, 'state': array([-0.56418473+0.02446876j,  0.77643146-0.27973391j])}\n",
      "Result with target cost as 0.9605304970014426 was returned\n",
      " {'cost': 0.966796875, 'theta': 0.7435661764705882, 'state': array([ 0.58237754-0.21273179j, -0.42432556+0.65994651j])}\n",
      "Maximum iterations reached for the estimation.\n",
      "Terminating algorithm...\n",
      "Result with target cost as 0.9605304970014426 was returned\n",
      " {'cost': 0.921875, 'theta': 0.07352941176470587, 'state': array([-0.77600126-0.37898298j, -0.22286748-0.45224333j])}\n",
      "Maximum iterations reached for the estimation.\n",
      "Terminating algorithm...\n",
      "Result with target cost as 0.9605304970014426 was returned\n",
      " {'cost': 0.953125, 'theta': 0.06785250865051903, 'state': array([-0.89569748+0.07762426j, -0.30886284+0.31032925j])}\n",
      "Result with target cost as 0.9605304970014426 was returned\n",
      " {'cost': 0.966796875, 'theta': 0.04711801522970271, 'state': array([0.30074935+0.69669598j, 0.46767535+0.45325965j])}\n",
      "Maximum iterations reached for the estimation.\n",
      "Terminating algorithm...\n",
      "Result with target cost as 0.9605304970014426 was returned\n",
      " {'cost': 0.921875, 'theta': 0.07510685935273763, 'state': array([0.63070127+0.6089024j , 0.4770655 -0.06214739j])}\n",
      "Maximum iterations reached for the estimation.\n",
      "Terminating algorithm...\n",
      "Result with target cost as 0.9605304970014426 was returned\n",
      " {'cost': 0.3046875, 'theta': 0.20663927335640137, 'state': array([0.48944276-0.00708376j, 0.06806917+0.86934584j])}\n",
      "TARGET COST : 0.9776682445628029\n",
      "GIVEN DELTA : 0.15\n",
      "Result with target cost as 0.9776682445628029 was returned\n",
      " {'cost': 0.98828125, 'theta': 0.040785027118928174, 'state': array([0.38714757+0.67678101j, 0.24847746+0.57475488j])}\n",
      "Maximum iterations reached for the estimation.\n",
      "Terminating algorithm...\n",
      "Result with target cost as 0.9776682445628029 was returned\n",
      " {'cost': 0.806640625, 'theta': 0.1029411764705882, 'state': array([ 0.81102557-0.3081535j , -0.02218177-0.49677652j])}\n",
      "Result with target cost as 0.9776682445628029 was returned\n",
      " {'cost': 0.990234375, 'theta': 0.029411764705882353, 'state': array([-0.09127222-0.79131188j, -0.21732976-0.56414773j])}\n",
      "Maximum iterations reached for the estimation.\n",
      "Terminating algorithm...\n",
      "Result with target cost as 0.9776682445628029 was returned\n",
      " {'cost': 0.953125, 'theta': 0.7599954044117647, 'state': array([-0.31865093+0.44772355j, -0.23287972-0.80235419j])}\n",
      "Result with target cost as 0.9776682445628029 was returned\n",
      " {'cost': 0.982421875, 'theta': 0.959765545491553, 'state': array([0.72454108-0.2909032j , 0.55424749-0.28848791j])}\n",
      "Result with target cost as 0.9776682445628029 was returned\n",
      " {'cost': 0.98046875, 'theta': 0.044830042743741104, 'state': array([0.10060964-0.84536362j, 0.22537294-0.47375636j])}\n",
      "Maximum iterations reached for the estimation.\n",
      "Terminating algorithm...\n",
      "Result with target cost as 0.9776682445628029 was returned\n",
      " {'cost': 0.919921875, 'theta': 0.06777936087929981, 'state': array([ 0.53866658-0.71012268j, -0.1139054 -0.43885038j])}\n",
      "Maximum iterations reached for the estimation.\n",
      "Terminating algorithm...\n",
      "Result with target cost as 0.9776682445628029 was returned\n",
      " {'cost': 0.97265625, 'theta': 0.9601614975575005, 'state': array([0.55672856-0.51168821j, 0.43195455-0.49157273j])}\n",
      "Result with target cost as 0.9776682445628029 was returned\n",
      " {'cost': 0.986328125, 'theta': 0.7352941176470588, 'state': array([-0.27066259-0.26630578j,  0.58227222+0.71887555j])}\n",
      "Maximum iterations reached for the estimation.\n",
      "Terminating algorithm...\n",
      "Result with target cost as 0.9776682445628029 was returned\n",
      " {'cost': 0.9609375, 'theta': 0.058363970588235246, 'state': array([0.58679302-0.42030142j, 0.33380596-0.60629551j])}\n",
      "TARGET COST : 0.9900332889206209\n",
      "GIVEN DELTA : 0.1\n"
     ]
    },
    {
     "name": "stdout",
     "output_type": "stream",
     "text": [
      "Maximum iterations reached for the estimation.\n",
      "Terminating algorithm...\n",
      "Result with target cost as 0.9900332889206209 was returned\n",
      " {'cost': 0.91796875, 'theta': 0.9413141605105303, 'state': array([ 0.14801504-0.68485272j, -0.24436377-0.67033921j])}\n",
      "Maximum iterations reached for the estimation.\n",
      "Terminating algorithm...\n",
      "Result with target cost as 0.9900332889206209 was returned\n",
      " {'cost': 0.982421875, 'theta': 0.7467560553633219, 'state': array([-0.30065388+0.25211261j,  0.85080373-0.34954183j])}\n",
      "Maximum iterations reached for the estimation.\n",
      "Terminating algorithm...\n",
      "Result with target cost as 0.9900332889206209 was returned\n",
      " {'cost': 0.978515625, 'theta': 0.04223488703439854, 'state': array([-0.69684244+0.30585277j, -0.63119626+0.14985317j])}\n",
      "Result with target cost as 0.9900332889206209 was returned\n",
      " {'cost': 0.990234375, 'theta': 0.032320183696315896, 'state': array([-0.23740851+0.89132892j, -0.055778  +0.38217637j])}\n",
      "Maximum iterations reached for the estimation.\n",
      "Terminating algorithm...\n",
      "Result with target cost as 0.9900332889206209 was returned\n",
      " {'cost': 0.947265625, 'theta': 0.054498269896193774, 'state': array([0.47284958+0.705467j  , 0.04677648+0.52587218j])}\n",
      "Maximum iterations reached for the estimation.\n",
      "Terminating algorithm...\n",
      "Result with target cost as 0.9900332889206209 was returned\n",
      " {'cost': 0.974609375, 'theta': 0.054498269896193774, 'state': array([-0.17467885-0.8988254j , -0.28722757-0.28124814j])}\n",
      "Maximum iterations reached for the estimation.\n",
      "Terminating algorithm...\n",
      "Result with target cost as 0.9900332889206209 was returned\n",
      " {'cost': 0.984375, 'theta': 0.7412413494809689, 'state': array([ 0.19062369+0.50156862j, -0.72168586-0.43733403j])}\n",
      "Maximum iterations reached for the estimation.\n",
      "Terminating algorithm...\n",
      "Result with target cost as 0.9900332889206209 was returned\n",
      " {'cost': 0.82421875, 'theta': 0.08823529411764705, 'state': array([-0.08403115+0.87268512j, -0.40600537+0.25791293j])}\n",
      "Maximum iterations reached for the estimation.\n",
      "Terminating algorithm...\n",
      "Result with target cost as 0.9900332889206209 was returned\n",
      " {'cost': 0.927734375, 'theta': 0.078719723183391, 'state': array([-0.07557957-0.67087714j, -0.01428011-0.73756876j])}\n",
      "Maximum iterations reached for the estimation.\n",
      "Terminating algorithm...\n",
      "Result with target cost as 0.9900332889206209 was returned\n",
      " {'cost': 0.96875, 'theta': 0.04666715556566611, 'state': array([0.82478015-0.34505308j, 0.44776831-0.01340224j])}\n",
      "TARGET COST : 0.997502082639013\n",
      "GIVEN DELTA : 0.05\n",
      "Maximum iterations reached for the estimation.\n",
      "Terminating algorithm...\n",
      "Result with target cost as 0.997502082639013 was returned\n",
      " {'cost': 0.990234375, 'theta': 0.0464942948480023, 'state': array([-0.13185302+0.83798794j,  0.21602048+0.48345231j])}\n",
      "Maximum iterations reached for the estimation.\n",
      "Terminating algorithm...\n",
      "Result with target cost as 0.997502082639013 was returned\n",
      " {'cost': 0.84375, 'theta': 0.8813479544066761, 'state': array([0.60118146+0.79850557j, 0.01826679-0.02521976j])}\n",
      "Maximum iterations reached for the estimation.\n",
      "Terminating algorithm...\n",
      "Result with target cost as 0.997502082639013 was returned\n",
      " {'cost': 0.833984375, 'theta': 0.8849480968858132, 'state': array([-0.7321256 +0.49327911j, -0.38489273-0.26930542j])}\n",
      "Maximum iterations reached for the estimation.\n",
      "Terminating algorithm...\n",
      "Result with target cost as 0.997502082639013 was returned\n",
      " {'cost': 0.98046875, 'theta': 0.7617930903979239, 'state': array([-0.68468179-0.17995078j,  0.67774397+0.19872513j])}\n",
      "Maximum iterations reached for the estimation.\n",
      "Terminating algorithm...\n",
      "Result with target cost as 0.997502082639013 was returned\n",
      " {'cost': 0.962890625, 'theta': 0.9624366551525964, 'state': array([0.44305614+0.61449956j, 0.54009654+0.3665887j ])}\n",
      "Maximum iterations reached for the estimation.\n",
      "Terminating algorithm...\n",
      "Result with target cost as 0.997502082639013 was returned\n",
      " {'cost': 0.6796875, 'theta': 0.1316973940311418, 'state': array([ 0.89538989-0.14115092j, -0.06436212-0.41738577j])}\n",
      "Maximum iterations reached for the estimation.\n",
      "Terminating algorithm...\n",
      "Result with target cost as 0.997502082639013 was returned\n",
      " {'cost': 0.95703125, 'theta': 0.05898572664359861, 'state': array([0.6582788 -0.46632609j, 0.17206746-0.56533334j])}\n",
      "Result with target cost as 0.997502082639013 was returned\n",
      " {'cost': 0.998046875, 'theta': 0.030703402811867668, 'state': array([0.71625341-0.57157862j, 0.25046244-0.31232595j])}\n",
      "Maximum iterations reached for the estimation.\n",
      "Terminating algorithm...\n",
      "Result with target cost as 0.997502082639013 was returned\n",
      " {'cost': 0.935546875, 'theta': 0.9414308976185628, 'state': array([0.59773107+0.52829693j, 0.59934985+0.06633006j])}\n",
      "Maximum iterations reached for the estimation.\n",
      "Terminating algorithm...\n",
      "Result with target cost as 0.997502082639013 was returned\n",
      " {'cost': 0.849609375, 'theta': 0.8096885813148788, 'state': array([0.62806875-0.59766292j, 0.16406811+0.47054259j])}\n",
      "TARGET COST : 0.9993751301974833\n",
      "GIVEN DELTA : 0.025\n",
      "Maximum iterations reached for the estimation.\n",
      "Terminating algorithm...\n",
      "Result with target cost as 0.9993751301974833 was returned\n",
      " {'cost': 0.951171875, 'theta': 0.05968858131487889, 'state': array([ 0.13446387+0.92261355j, -0.10505928+0.34592809j])}\n",
      "Maximum iterations reached for the estimation.\n",
      "Terminating algorithm...\n",
      "Result with target cost as 0.9993751301974833 was returned\n",
      " {'cost': 0.599609375, 'theta': 0.14213884083044978, 'state': array([ 0.53879186-0.80239184j, -0.25650066-0.0088359j ])}\n",
      "Maximum iterations reached for the estimation.\n",
      "Terminating algorithm...\n",
      "Result with target cost as 0.9993751301974833 was returned\n",
      " {'cost': 0.974609375, 'theta': 0.048162288526238904, 'state': array([-0.2785227 -0.90661775j, -0.18691858-0.25598985j])}\n",
      "Maximum iterations reached for the estimation.\n",
      "Terminating algorithm...\n",
      "Result with target cost as 0.9993751301974833 was returned\n",
      " {'cost': 0.9765625, 'theta': 0.05247756271626296, 'state': array([-0.57907994+0.64876272j, -0.43496421+0.23362254j])}\n",
      "Maximum iterations reached for the estimation.\n",
      "Terminating algorithm...\n",
      "Result with target cost as 0.9993751301974833 was returned\n",
      " {'cost': 0.9375, 'theta': 0.060273763484632606, 'state': array([0.05393015+0.83117348j, 0.42527685+0.35409289j])}\n",
      "Maximum iterations reached for the estimation.\n",
      "Terminating algorithm...\n",
      "Result with target cost as 0.9993751301974833 was returned\n",
      " {'cost': 0.248046875, 'theta': 0.21950692041522485, 'state': array([-0.05129617+0.67567287j, -0.67774652-0.28547247j])}\n",
      "Maximum iterations reached for the estimation.\n",
      "Terminating algorithm...\n",
      "Result with target cost as 0.9993751301974833 was returned\n",
      " {'cost': 0.845703125, 'theta': 0.08823529411764705, 'state': array([-0.99253249+0.02601319j, -0.1057696 +0.05491226j])}\n",
      "Maximum iterations reached for the estimation.\n",
      "Terminating algorithm...\n",
      "Result with target cost as 0.9993751301974833 was returned\n",
      " {'cost': 0.97265625, 'theta': 0.05475508217993078, 'state': array([0.80246127+0.39851704j, 0.43930937-0.06517171j])}\n",
      "Maximum iterations reached for the estimation.\n",
      "Terminating algorithm...\n",
      "Result with target cost as 0.9993751301974833 was returned\n",
      " {'cost': 0.9375, 'theta': 0.7723832179930795, 'state': array([ 0.60382826+0.15789452j, -0.44733529-0.64058714j])}\n",
      "Maximum iterations reached for the estimation.\n",
      "Terminating algorithm...\n",
      "Result with target cost as 0.9993751301974833 was returned\n",
      " {'cost': 0.86328125, 'theta': 0.08764057093425605, 'state': array([0.22398525+0.64560289j, 0.65775101+0.31684559j])}\n",
      "TARGET COST : 0.9999000033332889\n",
      "GIVEN DELTA : 0.01\n",
      "Maximum iterations reached for the estimation.\n",
      "Terminating algorithm...\n",
      "Result with target cost as 0.9999000033332889 was returned\n",
      " {'cost': 0.978515625, 'theta': 0.060146549969468756, 'state': array([0.69742692+0.54558014j, 0.25828906+0.3862962j ])}\n",
      "Maximum iterations reached for the estimation.\n",
      "Terminating algorithm...\n",
      "Result with target cost as 0.9999000033332889 was returned\n",
      " {'cost': 0.9609375, 'theta': 0.05410877204535386, 'state': array([-0.71370333-0.17198567j, -0.65896655+0.1637424j ])}\n",
      "Maximum iterations reached for the estimation.\n",
      "Terminating algorithm...\n",
      "Result with target cost as 0.9999000033332889 was returned\n",
      " {'cost': 0.98828125, 'theta': 0.04270557704050479, 'state': array([-0.28002657+0.76900767j, -0.30940485+0.48423234j])}\n"
     ]
    },
    {
     "name": "stdout",
     "output_type": "stream",
     "text": [
      "Maximum iterations reached for the estimation.\n",
      "Terminating algorithm...\n",
      "Result with target cost as 0.9999000033332889 was returned\n",
      " {'cost': 0.826171875, 'theta': 0.8371539792387543, 'state': array([0.62220983-0.7162504j, 0.13901819+0.2837503j])}\n",
      "Maximum iterations reached for the estimation.\n",
      "Terminating algorithm...\n",
      "Result with target cost as 0.9999000033332889 was returned\n",
      " {'cost': 0.59375, 'theta': 0.15313446150519028, 'state': array([-0.55543298-0.65665425j,  0.34095106-0.37954155j])}\n",
      "Maximum iterations reached for the estimation.\n",
      "Terminating algorithm...\n",
      "Result with target cost as 0.9999000033332889 was returned\n",
      " {'cost': 0.96875, 'theta': 0.05793939548137594, 'state': array([0.22485542+0.91780895j, 0.22312688+0.23933485j])}\n",
      "Maximum iterations reached for the estimation.\n",
      "Terminating algorithm...\n",
      "Result with target cost as 0.9999000033332889 was returned\n",
      " {'cost': 0.990234375, 'theta': 0.04464249634822381, 'state': array([-0.4262277 +0.7400227j ,  0.01249823+0.52013473j])}\n",
      "Maximum iterations reached for the estimation.\n",
      "Terminating algorithm...\n",
      "Result with target cost as 0.9999000033332889 was returned\n",
      " {'cost': 0.966796875, 'theta': 0.9682936215143495, 'state': array([-0.39615808+0.69964456j, -0.38757048+0.45093833j])}\n",
      "Maximum iterations reached for the estimation.\n",
      "Terminating algorithm...\n",
      "Result with target cost as 0.9999000033332889 was returned\n",
      " {'cost': 0.85546875, 'theta': 0.8235294117647058, 'state': array([-0.36908926-0.53393168j,  0.61865926-0.4426633j ])}\n",
      "Maximum iterations reached for the estimation.\n",
      "Terminating algorithm...\n",
      "Result with target cost as 0.9999000033332889 was returned\n",
      " {'cost': 0.849609375, 'theta': 0.08996539792387546, 'state': array([0.49769189+0.59373982j, 0.62789235-0.07434383j])}\n"
     ]
    }
   ],
   "source": [
    "# looping and storing the results we get \n",
    "generated_deltas, errors = [],[]\n",
    "for delta,cost in zip(deltas,target_costs):\n",
    "    spea = SPEA(u1,resolution=35,max_iters=15)\n",
    "    max_differences = []\n",
    "    delta_error = []\n",
    "    print(\"TARGET COST :\",cost)\n",
    "    print(\"GIVEN DELTA :\",delta)\n",
    "    # doing numerous experiments to converge \n",
    "    for exp in range(10):\n",
    "        result = spea.get_eigen_pair(backend = backend,progress = False, randomize = True, target_cost = cost)\n",
    "        print(\"Result with target cost as\",cost,\"was returned\\n\",result)\n",
    "        # find the final cost \n",
    "        theta = result['theta']\n",
    "        stop_cost = result['cost']\n",
    "\n",
    "        # find the maximum difference between the eigenphases and this returned phase \n",
    "        max_diff = max(abs(eigen_phases1 - theta)) \n",
    "        max_differences.append(max_diff)\n",
    "\n",
    "        # now append this and the error from how it actually should have been \n",
    "        # NOTE - there is no error if the max difference is actually less than \n",
    "        # the delta desired .\n",
    "        if delta - max_diff >= 0:\n",
    "            error = 0 \n",
    "        else:\n",
    "            # this error should not be more than 5-6 % or 0.05 - 0.06 \n",
    "            error = abs((delta - max_diff))/delta\n",
    "        delta_error.append(error)\n",
    "    # the maximum would be a better metric \n",
    "    generated_deltas.append(np.average(max_differences))\n",
    "    errors.append(np.average(delta_error))\n"
   ]
  },
  {
   "cell_type": "markdown",
   "metadata": {},
   "source": [
    "### Plot 1\n",
    "- Plotting the Generated Maximum difference in eigenvalues and the Given **delta** values"
   ]
  },
  {
   "cell_type": "code",
   "execution_count": 15,
   "metadata": {
    "ExecuteTime": {
     "end_time": "2021-06-26T07:36:54.668759Z",
     "start_time": "2021-06-26T07:36:53.465019Z"
    }
   },
   "outputs": [
    {
     "data": {
      "image/png": "[encoded data removed]",
      "text/plain": [
       "<Figure size 720x576 with 1 Axes>"
      ]
     },
     "metadata": {
      "needs_background": "light"
     },
     "output_type": "display_data"
    }
   ],
   "source": [
    "iters = [i for i in range(1,9)]\n",
    "plt.figure(figsize=(10,8))\n",
    "plt.title(\"Plot for Generated and Given maximum $ \\delta^{*}$ values\",fontsize=16)\n",
    "plt.xlabel(\"Iteration Number\", fontsize = 14)\n",
    "plt.ylabel(\"Values of $ \\delta^{*}$ (maximum average error)\",fontsize = 14)\n",
    "plt.grid()\n",
    "plt.plot(iters, deltas, label = 'Actual Values', color = 'black', alpha = 0.7, marker = 'o')\n",
    "plt.plot(iters, generated_deltas, label = 'Generated Values', color = 'green', alpha = 0.7, marker = 's')\n",
    "plt.legend()\n",
    "plt.savefig(\"Plot for verifying Cost Lower Bound.JPG\",dpi = 200)"
   ]
  },
  {
   "cell_type": "markdown",
   "metadata": {},
   "source": [
    "## Plot 2\n",
    "- Plotting the error in the Generated and the Given delta values"
   ]
  },
  {
   "cell_type": "code",
   "execution_count": 17,
   "metadata": {
    "ExecuteTime": {
     "end_time": "2021-06-26T07:37:07.362535Z",
     "start_time": "2021-06-26T07:37:06.594917Z"
    }
   },
   "outputs": [
    {
     "data": {
      "image/png": "[encoded data removed]",
      "text/plain": [
       "<Figure size 720x576 with 1 Axes>"
      ]
     },
     "metadata": {
      "needs_background": "light"
     },
     "output_type": "display_data"
    }
   ],
   "source": [
    "plt.figure(figsize=(10,8))\n",
    "plt.title(\"Plot for Error in Generated and Given maximum $ \\delta^{*}$ values\",fontsize=16)\n",
    "plt.xlabel(\"Iteration Number\", fontsize = 14)\n",
    "plt.ylabel(\"Relative Error in $ \\delta^{*}$\",fontsize = 14)\n",
    "plt.grid()\n",
    "plt.plot(iters, errors, label = 'Error Values', color = 'cyan', alpha = 0.8, marker = 'o')\n",
    "plt.legend()\n",
    "plt.savefig(\"Plot for Error in Cost Lower Bound.JPG\",dpi = 200)"
   ]
  },
  {
   "cell_type": "markdown",
   "metadata": {},
   "source": [
    "## Inference\n",
    "- <font color = 'brown'> This hypothesis **failed** to work and we could not establish a lower bound to the cost of required in the algorithm </font> "
   ]
  },
  {
   "cell_type": "code",
   "execution_count": null,
   "metadata": {},
   "outputs": [],
   "source": []
  }
 ],
 "metadata": {
  "kernelspec": {
   "display_name": "Python 3",
   "language": "python",
   "name": "python3"
  },
  "language_info": {
   "codemirror_mode": {
    "name": "ipython",
    "version": 3
   },
   "file_extension": ".py",
   "mimetype": "text/x-python",
   "name": "python",
   "nbconvert_exporter": "python",
   "pygments_lexer": "ipython3",
   "version": "3.7.4"
  },
  "varInspector": {
   "cols": {
    "lenName": 16,
    "lenType": 16,
    "lenVar": 40
   },
   "kernels_config": {
    "python": {
     "delete_cmd_postfix": "",
     "delete_cmd_prefix": "del ",
     "library": "var_list.py",
     "varRefreshCmd": "print(var_dic_list())"
    },
    "r": {
     "delete_cmd_postfix": ") ",
     "delete_cmd_prefix": "rm(",
     "library": "var_list.r",
     "varRefreshCmd": "cat(var_dic_list()) "
    }
   },
   "types_to_exclude": [
    "module",
    "function",
    "builtin_function_or_method",
    "instance",
    "_Feature"
   ],
   "window_display": false
  }
 },
 "nbformat": 4,
 "nbformat_minor": 2
}
