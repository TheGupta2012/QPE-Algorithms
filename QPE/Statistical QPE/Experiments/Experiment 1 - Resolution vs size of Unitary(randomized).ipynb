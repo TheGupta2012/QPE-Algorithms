{
 "cells": [
  {
   "cell_type": "markdown",
   "metadata": {},
   "source": [
    "## Experiment 1 \n",
    "- Seeing which algorithm converges faster given a particular unitary size and given resolution \n",
    "- Resolution ranges from [10,50] with a changed of 5 in between \n",
    "- Max iterations is 10 and error threshold is $10^{-3}$"
   ]
  },
  {
   "cell_type": "code",
   "execution_count": 1,
   "metadata": {
    "ExecuteTime": {
     "end_time": "2021-06-18T09:10:28.334524Z",
     "start_time": "2021-06-18T09:10:28.312582Z"
    },
    "scrolled": false
   },
   "outputs": [
    {
     "data": {
      "text/plain": [
       "[10, 15, 20, 25, 30, 35, 40, 45, 50]"
      ]
     },
     "execution_count": 1,
     "metadata": {},
     "output_type": "execute_result"
    }
   ],
   "source": [
    "resolutions = [i for i in range(10, 55, 5)]\n",
    "resolutions"
   ]
  },
  {
   "cell_type": "code",
   "execution_count": 2,
   "metadata": {
    "ExecuteTime": {
     "end_time": "2021-06-27T07:38:38.445639Z",
     "start_time": "2021-06-27T07:38:38.423648Z"
    }
   },
   "outputs": [],
   "source": [
    "from qiskit import IBMQ\n",
    "from qiskit import QuantumCircuit, execute, transpile, Aer\n",
    "from qiskit.extensions import UnitaryGate, Initialize\n",
    "from qiskit.quantum_info import Statevector\n",
    "from qiskit.tools.visualization import plot_bloch_vector\n",
    "from qiskit.tools.visualization import plot_histogram, plot_bloch_multivector\n",
    "import numpy as np\n",
    "from time import sleep\n",
    "import sys\n",
    "sys.path.append(\"../..\")\n",
    "import os\n",
    "from scipy.stats import unitary_group\n",
    "import matplotlib.pyplot as plt\n",
    "%matplotlib inline\n",
    "\n",
    "# IBMQ.load_account()\n",
    "# provider = IBMQ.get_provider(hub='ibm-q-education')\n",
    "# santiago = provider.get_backend('ibmq_santiago')\n",
    "# casablanca = provider.get_backend('ibmq_casablanca')\n",
    "# bogota = provider.get_backend('ibmq_bogota')\n",
    "sim = Aer.get_backend('qasm_simulator')\n",
    "# athens = provider.get_backend('ibmq_athens')"
   ]
  },
  {
   "cell_type": "code",
   "execution_count": 3,
   "metadata": {
    "ExecuteTime": {
     "end_time": "2021-06-27T07:38:48.434132Z",
     "start_time": "2021-06-27T07:38:48.426423Z"
    }
   },
   "outputs": [],
   "source": [
    "from Modules.normal_SPEA import SPEA\n",
    "from Modules.changed_SPEA import global_max_SPEA"
   ]
  },
  {
   "cell_type": "markdown",
   "metadata": {},
   "source": [
    "### Utils"
   ]
  },
  {
   "cell_type": "code",
   "execution_count": 4,
   "metadata": {
    "ExecuteTime": {
     "end_time": "2021-06-18T09:10:54.090876Z",
     "start_time": "2021-06-18T09:10:53.826955Z"
    }
   },
   "outputs": [],
   "source": [
    "def generate_plots(unitary_size, costs, errors, overlaps, algorithm):\n",
    "    import random\n",
    "    colors = ['red', 'brown', 'cyan', 'green',\n",
    "              'grey', 'blue', 'purple', 'black', 'orange']\n",
    "    c1, c2, c3 = random.sample(colors, 3)\n",
    "\n",
    "    # plot\n",
    "    os.makedirs(\"Experiment_1/\"+str(unitary_size) +\n",
    "                \"_qubit(random)/\", exist_ok=True)\n",
    "    # plot 1\n",
    "    fig = plt.figure(figsize=(13, 6))\n",
    "    ax1 = fig.add_subplot(1, 2, 1)\n",
    "    ax1.set_title(str(unitary_size)+\" qubit \"+algorithm +\n",
    "                  \" Cost v/s Max iters\", fontsize=16)\n",
    "    ax1.set_xlabel(\"Number of Resolutions \", fontsize=15)\n",
    "    ax1.set_ylabel(\"Metrics Returned for unitary \", fontsize=15)\n",
    "    ax1.plot(resolutions, costs, label='Costs of Unitary',\n",
    "             marker='o', color=c1, alpha=0.7)\n",
    "    ax1.plot(resolutions, overlaps, label='Average overlap from nearest eigenvector',\n",
    "             marker='s', color=c2, alpha=0.6)\n",
    "    ax1.legend(loc='best')\n",
    "    ax1.grid()\n",
    "    # plot 2\n",
    "    ax2 = fig.add_subplot(1, 2, 2)\n",
    "    ax2.set_title(str(unitary_size)+\" qubit \"+algorithm +\n",
    "                  \" % error v/s Max iters\", fontsize=16)\n",
    "    ax2.set_xlabel(\"Number of resolutions \", fontsize=15)\n",
    "    ax2.set_ylabel(\"% error for nearest eigenvalue\", fontsize=15)\n",
    "    ax2.plot(resolutions, errors, label='Average error from nearest eigenvalue',\n",
    "             marker='o', color=c3, alpha=0.6)\n",
    "    ax2.legend(loc='best')\n",
    "    ax2.grid()\n",
    "    # save axure\n",
    "    fig.savefig(\"Experiment_1/\"+str(unitary_size)+\"_qubit(random)/\" +\n",
    "                algorithm+\" Algorithm (alternate).JPG\", dpi=200)"
   ]
  },
  {
   "cell_type": "code",
   "execution_count": 5,
   "metadata": {
    "ExecuteTime": {
     "end_time": "2021-06-18T09:10:54.217441Z",
     "start_time": "2021-06-18T09:10:54.141742Z"
    }
   },
   "outputs": [],
   "source": [
    "def get_results(eig_vals, eig_vect, bases, basis_indices, unitary, algorithm, experiments):\n",
    "    '''Return the results of running the algorithm for this particular unitary matrix'''\n",
    "    costs_g = []\n",
    "    errors_g = []\n",
    "    max_overlaps_g = []\n",
    "    # find how the cost converges with increasing iterations\n",
    "    for reso in resolutions:\n",
    "        costs = []\n",
    "        errors = []\n",
    "        overlaps = []\n",
    "        i = 0\n",
    "        # run the experiments ...\n",
    "        while len(costs) < experiments:\n",
    "            if algorithm == 'original':\n",
    "                spea = SPEA(unitary, resolution=reso, error=3, max_iters=10)\n",
    "            else:\n",
    "                spea = global_max_SPEA(\n",
    "                    unitary, resolution=reso, error=3, max_iters=10)\n",
    "\n",
    "            result = spea.get_eigen_pair(\n",
    "                progress=False, backend=sim, algo='alternate', basis=bases[i], basis_ind=basis_indices[i],\n",
    "                randomize=False,shots = 2**12)\n",
    "\n",
    "#             if result['cost'] < 0.65:\n",
    "#                 continue\n",
    "                \n",
    "            # increment the basis index \n",
    "            i+=1  # in exp 1 -> basis[0], in exp 2 -> basis[1] and so on....\n",
    "            \n",
    "            # find the costs\n",
    "            costs.append(result['cost'])\n",
    "            theta = result['theta']\n",
    "            res_state = result['state']\n",
    "\n",
    "            # find the abs difference in this theta with the closest eigenvalue\n",
    "            # and append that to the errors ...\n",
    "            min_error = 1e5\n",
    "            for e in eig_vals:\n",
    "                error = abs(e - theta)\n",
    "                if error < min_error:\n",
    "                    min_error = error\n",
    "                    perc_error = ((error)/e)*100\n",
    "            errors.append(perc_error)\n",
    "\n",
    "            # find overlaps\n",
    "            max_overlap = -1\n",
    "            for k in eig_vect:\n",
    "                dot = np.linalg.norm(np.dot(k, res_state.conjugate().T))**2\n",
    "                max_overlap = max(max_overlap, dot)\n",
    "            overlaps.append(max_overlap)\n",
    "        \n",
    "        print(\"Result with\", reso, \" resolutions :\")\n",
    "        print(\"AVG. COST :\", np.average(costs),\n",
    "              \"AVG. ERROR :\", np.average(errors))\n",
    "        # append the average result of your algorithm ...\n",
    "        costs_g.append(np.average(costs))\n",
    "        errors_g.append(np.average(errors))\n",
    "        max_overlaps_g.append(np.average(overlaps))\n",
    "\n",
    "    return costs_g, errors_g, max_overlaps_g"
   ]
  },
  {
   "cell_type": "markdown",
   "metadata": {},
   "source": [
    "## 2 - qubit unitary\n"
   ]
  },
  {
   "cell_type": "code",
   "execution_count": 10,
   "metadata": {
    "ExecuteTime": {
     "end_time": "2021-06-18T05:57:18.630172Z",
     "start_time": "2021-06-18T05:57:18.621195Z"
    },
    "scrolled": false
   },
   "outputs": [
    {
     "data": {
      "text/plain": [
       "array([[ 0.42301886+1.21660658e-01j, -0.65963338+3.73554408e-01j,\n",
       "        -0.18525662-3.36202564e-04j, -0.42228448-1.37660205e-01j],\n",
       "       [-0.64298263-7.13600650e-05j,  0.00808872+3.00568579e-01j,\n",
       "         0.26424576-4.30078301e-01j, -0.42757007-2.41985764e-01j],\n",
       "       [ 0.09090023-4.01928229e-01j, -0.19042309-5.09608118e-01j,\n",
       "         0.17662822-2.54866545e-01j, -0.42167745+5.10159877e-01j],\n",
       "       [ 0.0320143 +4.71161329e-01j, -0.15710225+1.19547105e-01j,\n",
       "         0.7512439 +2.24421083e-01j,  0.07758884+3.42428398e-01j]])"
      ]
     },
     "execution_count": 10,
     "metadata": {},
     "output_type": "execute_result"
    }
   ],
   "source": [
    "unit_2 = unitary_group.rvs(4)\n",
    "unit_2"
   ]
  },
  {
   "cell_type": "code",
   "execution_count": 11,
   "metadata": {
    "ExecuteTime": {
     "end_time": "2021-06-18T05:57:18.991831Z",
     "start_time": "2021-06-18T05:57:18.978867Z"
    }
   },
   "outputs": [
    {
     "name": "stdout",
     "output_type": "stream",
     "text": [
      "Eigenstates : [[ 0.52650795-0.06310447j  0.21056612-0.14875779j  0.79640627+0.j\n",
      "  -0.0981045 +0.09193908j]\n",
      " [ 0.66274237+0.j          0.28132978+0.19922114j -0.47395219-0.22650573j\n",
      "  -0.27267107-0.30274082j]\n",
      " [-0.09738967+0.15331384j  0.76540519+0.j         -0.1221906 -0.13716539j\n",
      "   0.41854012+0.41502325j]\n",
      " [ 0.31454626-0.3842532j  -0.21768008+0.42599039j -0.01695622+0.23615488j\n",
      "   0.68447138+0.j        ]]\n",
      "Eigenvalues : [0.39374559 0.75352756 0.99946376 0.17598498]\n"
     ]
    }
   ],
   "source": [
    "eig_vals2, eig_vect2 = np.linalg.eig(unit_2)\n",
    "eig_vals2 = np.angle(eig_vals2)\n",
    "e = []\n",
    "for k in eig_vals2:\n",
    "    if k < 0:\n",
    "        v = (k + 2*np.pi)/(2*np.pi)\n",
    "    else:\n",
    "        v = (k)/(2*np.pi)\n",
    "    e.append(v)\n",
    "eig_vals2 = np.array(e)\n",
    "print(\"Eigenstates :\", eig_vect2)\n",
    "print(\"Eigenvalues :\", eig_vals2)"
   ]
  },
  {
   "cell_type": "markdown",
   "metadata": {},
   "source": [
    "### Generate Basis set"
   ]
  },
  {
   "cell_type": "code",
   "execution_count": 12,
   "metadata": {
    "ExecuteTime": {
     "end_time": "2021-06-18T05:57:20.418486Z",
     "start_time": "2021-06-18T05:57:20.407491Z"
    }
   },
   "outputs": [
    {
     "name": "stdout",
     "output_type": "stream",
     "text": [
      "Basis set : [[array([ 0.48981882+0.15298201j, -0.26666321+0.51410535j,\n",
      "        0.11562013+0.19072544j, -0.4984273 -0.32107082j]), array([ 0.07760449-0.07568072j, -0.29461687-0.28498114j,\n",
      "        0.60698511-0.6521419j , -0.12415838-0.10536281j]), array([-0.17083986+0.78881862j,  0.32737969-0.07448516j,\n",
      "        0.0180167 -0.17376859j, -0.38937447+0.23177755j]), array([ 0.27086009+0.01173636j,  0.61932291+0.01693214j,\n",
      "       -0.14139571-0.32561163j,  0.19489482-0.61534529j])], [array([-0.6065911 +0.49551241j, -0.12611167+0.29228041j,\n",
      "        0.33866586+0.09231937j,  0.3853081 +0.11620213j]), array([ 0.43630048+0.2064912j ,  0.09552736+0.05507663j,\n",
      "        0.35342332+0.6175565j , -0.18716143+0.46209403j]), array([-0.32474628-0.03985988j,  0.68916108+0.13652098j,\n",
      "        0.16158226-0.29181325j, -0.48157728+0.23704343j]), array([ 0.16517718+0.13851172j, -0.54007379+0.31819559j,\n",
      "       -0.06845901-0.50452757j, -0.29482859+0.46308128j])], [array([-0.16637693+0.07437035j, -0.27177586+0.28326414j,\n",
      "       -0.82024684-0.08340147j, -0.34426411+0.12003586j]), array([-0.00656605+0.21250192j, -0.56146361-0.17133726j,\n",
      "        0.23927092+0.45464501j, -0.45779195-0.36969697j]), array([ 0.08169706-0.80289828j, -0.08138814+0.40023988j,\n",
      "       -0.02387865+0.19632033j,  0.05990353-0.37304644j]), array([ 0.39228631+0.34114363j,  0.50420852+0.28330062j,\n",
      "       -0.07279836-0.10897332j, -0.27306791-0.5509139j ])], [array([-0.25885366+0.68954978j, -0.20520953-0.01486998j,\n",
      "       -0.24209936-0.05223903j,  0.53439675+0.26127173j]), array([-0.03949677+0.1594949j ,  0.41953507+0.2688496j ,\n",
      "        0.29489632+0.69853549j, -0.0425462 +0.38468917j]), array([-0.22441294-0.60052465j,  0.11774864+0.12148871j,\n",
      "       -0.18731147+0.1816182j ,  0.69495289-0.09671842j]), array([-0.13860503+0.01774525j, -0.11329497+0.8172626j ,\n",
      "        0.37842992-0.39046557j,  0.04463515-0.04533197j])]]\n",
      "Basis indices : [2, 1, 3, 2]\n"
     ]
    }
   ],
   "source": [
    "bases2 , basis_indices2 = [], []\n",
    "for _ in range(4):\n",
    "    sample = unitary_group.rvs(4)\n",
    "    basis = []\n",
    "    for k in sample:\n",
    "        basis.append(np.array(k, dtype=complex))\n",
    "    ind = np.random.choice(range(4))\n",
    "    bases2.append(basis)\n",
    "    basis_indices2.append(ind)\n",
    "print(\"Basis set :\",bases2)\n",
    "print(\"Basis indices :\",basis_indices2)"
   ]
  },
  {
   "cell_type": "markdown",
   "metadata": {},
   "source": [
    "### Algorithm 1"
   ]
  },
  {
   "cell_type": "code",
   "execution_count": null,
   "metadata": {
    "ExecuteTime": {
     "end_time": "2021-06-18T05:58:48.956190Z",
     "start_time": "2021-06-18T05:57:21.648560Z"
    }
   },
   "outputs": [],
   "source": [
    "costs_2qubit_b, errors_eig_2qubit_b, max_overlaps_2qubit_b = get_results(\n",
    "    eig_vals2, eig_vect2, bases2, basis_indices2, unit_2, 'original', 4)\n",
    "generate_plots(2, costs_2qubit_b, errors_eig_2qubit_b,\n",
    "               max_overlaps_2qubit_b, \"Original\")"
   ]
  },
  {
   "cell_type": "markdown",
   "metadata": {},
   "source": [
    "### Algorithm 2"
   ]
  },
  {
   "cell_type": "code",
   "execution_count": null,
   "metadata": {
    "ExecuteTime": {
     "end_time": "2021-06-18T05:58:48.968123Z",
     "start_time": "2021-06-18T05:57:24.374Z"
    }
   },
   "outputs": [],
   "source": [
    "costs_2qubit_c, errors_eig_2qubit_c, max_overlaps_2qubit_c = get_results(\n",
    "    eig_vals2, eig_vect2, bases2, basis_indices2, unit_2, 'modified', 4)\n",
    "generate_plots(2, costs_2qubit_c, errors_eig_2qubit_c,\n",
    "               max_overlaps_2qubit_c, \"Modified\")"
   ]
  },
  {
   "cell_type": "markdown",
   "metadata": {},
   "source": [
    "## 3 - qubit unitary"
   ]
  },
  {
   "cell_type": "code",
   "execution_count": null,
   "metadata": {
    "ExecuteTime": {
     "end_time": "2021-06-18T05:58:48.973110Z",
     "start_time": "2021-06-18T05:57:24.859Z"
    }
   },
   "outputs": [],
   "source": [
    "unit_3 = unitary_group.rvs(8)\n",
    "unit_3"
   ]
  },
  {
   "cell_type": "code",
   "execution_count": null,
   "metadata": {
    "ExecuteTime": {
     "end_time": "2021-06-18T05:58:48.979094Z",
     "start_time": "2021-06-18T05:57:25.028Z"
    }
   },
   "outputs": [],
   "source": [
    "eig_vals3, eig_vect3 = np.linalg.eig(unit_3)\n",
    "eig_vals3 = np.angle(eig_vals3)\n",
    "e = []\n",
    "for k in eig_vals3:\n",
    "    if k < 0:\n",
    "        v = (k + 2*np.pi)/(2*np.pi)\n",
    "    else:\n",
    "        v = (k)/(2*np.pi)\n",
    "    e.append(v)\n",
    "eig_vals3 = np.array(e)\n",
    "print(\"Eigenstates :\", eig_vect3)\n",
    "print(\"Eigenvalues :\", eig_vals3)"
   ]
  },
  {
   "cell_type": "markdown",
   "metadata": {},
   "source": [
    "### Generate Basis"
   ]
  },
  {
   "cell_type": "code",
   "execution_count": null,
   "metadata": {
    "ExecuteTime": {
     "end_time": "2021-06-18T05:58:48.986078Z",
     "start_time": "2021-06-18T05:57:25.325Z"
    }
   },
   "outputs": [],
   "source": [
    "bases3 , basis_indices3 = [], []\n",
    "for _ in range(4):\n",
    "    sample = unitary_group.rvs(8)\n",
    "    basis = []\n",
    "    for k in sample:\n",
    "        basis.append(np.array(k, dtype=complex))\n",
    "    ind = np.random.choice(range(8))\n",
    "    bases3.append(basis)\n",
    "    basis_indices3.append(ind)\n",
    "print(\"Basis indices :\",basis_indices3)"
   ]
  },
  {
   "cell_type": "markdown",
   "metadata": {},
   "source": [
    "- Algorithm 1"
   ]
  },
  {
   "cell_type": "code",
   "execution_count": null,
   "metadata": {
    "ExecuteTime": {
     "end_time": "2021-06-18T05:58:48.992059Z",
     "start_time": "2021-06-18T05:57:25.629Z"
    }
   },
   "outputs": [],
   "source": [
    "costs_3qubit_b, errors_eig_3qubit_b, max_overlaps_3qubit_b = get_results(\n",
    "    eig_vals3, eig_vect3, bases3, basis_indices3, unit_3, 'original', 4)"
   ]
  },
  {
   "cell_type": "code",
   "execution_count": null,
   "metadata": {
    "ExecuteTime": {
     "end_time": "2021-06-18T05:58:48.998043Z",
     "start_time": "2021-06-18T05:57:25.790Z"
    }
   },
   "outputs": [],
   "source": [
    "generate_plots(3, costs_3qubit_b, errors_eig_3qubit_b,\n",
    "               max_overlaps_3qubit_b, \"Original\")"
   ]
  },
  {
   "cell_type": "markdown",
   "metadata": {},
   "source": [
    "- Algorithm 2"
   ]
  },
  {
   "cell_type": "code",
   "execution_count": null,
   "metadata": {
    "ExecuteTime": {
     "end_time": "2021-06-18T05:58:49.006022Z",
     "start_time": "2021-06-18T05:57:26.123Z"
    }
   },
   "outputs": [],
   "source": [
    "costs_3qubit_c, errors_eig_3qubit_c, max_overlaps_3qubit_c = get_results(\n",
    "    eig_vals3, eig_vect3, bases3, basis_indices3, unit_3, 'modified', 4)\n",
    "generate_plots(3, costs_3qubit_c, errors_eig_3qubit_c,\n",
    "               max_overlaps_3qubit_c, \"Modified\")"
   ]
  },
  {
   "cell_type": "markdown",
   "metadata": {},
   "source": [
    "## 4 - qubit unitary"
   ]
  },
  {
   "cell_type": "code",
   "execution_count": null,
   "metadata": {
    "ExecuteTime": {
     "end_time": "2021-06-18T05:58:49.014000Z",
     "start_time": "2021-06-18T05:57:26.504Z"
    }
   },
   "outputs": [],
   "source": [
    "unit_4 = unitary_group.rvs(16)\n",
    "# unit_4"
   ]
  },
  {
   "cell_type": "code",
   "execution_count": null,
   "metadata": {
    "ExecuteTime": {
     "end_time": "2021-06-18T05:58:49.021979Z",
     "start_time": "2021-06-18T05:57:26.689Z"
    }
   },
   "outputs": [],
   "source": [
    "eig_vals4, eig_vect4 = np.linalg.eig(unit_4)\n",
    "eig_vals4 = np.angle(eig_vals4)\n",
    "e = []\n",
    "for k in eig_vals4:\n",
    "    if k < 0:\n",
    "        v = (k + 2*np.pi)/(2*np.pi)\n",
    "    else:\n",
    "        v = (k)/(2*np.pi)\n",
    "    e.append(v)\n",
    "eig_vals4 = np.array(e)\n",
    "print(\"Eigenstates :\", eig_vect4)\n",
    "print(\"Eigenvalues :\", eig_vals4)"
   ]
  },
  {
   "cell_type": "markdown",
   "metadata": {},
   "source": [
    "### Generate basis set"
   ]
  },
  {
   "cell_type": "code",
   "execution_count": null,
   "metadata": {
    "ExecuteTime": {
     "end_time": "2021-06-18T05:58:49.031952Z",
     "start_time": "2021-06-18T05:57:27.005Z"
    }
   },
   "outputs": [],
   "source": [
    "bases4 , basis_indices4 = [], []\n",
    "for _ in range(4):\n",
    "    sample = unitary_group.rvs(16)\n",
    "    basis = []\n",
    "    for k in sample:\n",
    "        basis.append(np.array(k, dtype=complex))\n",
    "    ind = np.random.choice(range(16))\n",
    "    bases4.append(basis)\n",
    "    basis_indices4.append(ind)\n",
    "print(\"Basis indices :\",basis_indices4)"
   ]
  },
  {
   "cell_type": "markdown",
   "metadata": {},
   "source": [
    "- Algorithm 1"
   ]
  },
  {
   "cell_type": "code",
   "execution_count": null,
   "metadata": {
    "ExecuteTime": {
     "end_time": "2021-06-18T05:58:49.039930Z",
     "start_time": "2021-06-18T05:57:27.725Z"
    }
   },
   "outputs": [],
   "source": [
    "costs_4qubit_b, errors_eig_4qubit_b,  max_overlaps_4qubit_b = get_results(\n",
    "    eig_vals4, eig_vect4, bases4, basis_indices4, unit_4, 'original', 4)\n",
    "generate_plots(4, costs_4qubit_b, \n",
    "               errors_eig_4qubit_b, max_overlaps_4qubit_b,  \"Original\")"
   ]
  },
  {
   "cell_type": "markdown",
   "metadata": {},
   "source": [
    "- Algorithm 2"
   ]
  },
  {
   "cell_type": "code",
   "execution_count": null,
   "metadata": {
    "ExecuteTime": {
     "end_time": "2021-06-18T05:58:49.048907Z",
     "start_time": "2021-06-18T05:57:28.911Z"
    }
   },
   "outputs": [],
   "source": [
    "costs_4qubit_c, errors_eig_4qubit_c, max_overlaps_4qubit_c = get_results(\n",
    "    eig_vals4, eig_vect4, bases4, basis_indices4, unit_4, 'modified', 4)\n",
    "generate_plots(4, costs_4qubit_c, \n",
    "               errors_eig_4qubit_c,max_overlaps_4qubit_c, \"Modified\")"
   ]
  },
  {
   "cell_type": "code",
   "execution_count": null,
   "metadata": {},
   "outputs": [],
   "source": []
  },
  {
   "cell_type": "code",
   "execution_count": null,
   "metadata": {},
   "outputs": [],
   "source": []
  },
  {
   "cell_type": "code",
   "execution_count": null,
   "metadata": {},
   "outputs": [],
   "source": []
  }
 ],
 "metadata": {
  "kernelspec": {
   "display_name": "Python 3",
   "language": "python",
   "name": "python3"
  },
  "language_info": {
   "codemirror_mode": {
    "name": "ipython",
    "version": 3
   },
   "file_extension": ".py",
   "mimetype": "text/x-python",
   "name": "python",
   "nbconvert_exporter": "python",
   "pygments_lexer": "ipython3",
   "version": "3.7.4"
  },
  "varInspector": {
   "cols": {
    "lenName": 16,
    "lenType": 16,
    "lenVar": 40
   },
   "kernels_config": {
    "python": {
     "delete_cmd_postfix": "",
     "delete_cmd_prefix": "del ",
     "library": "var_list.py",
     "varRefreshCmd": "print(var_dic_list())"
    },
    "r": {
     "delete_cmd_postfix": ") ",
     "delete_cmd_prefix": "rm(",
     "library": "var_list.r",
     "varRefreshCmd": "cat(var_dic_list()) "
    }
   },
   "types_to_exclude": [
    "module",
    "function",
    "builtin_function_or_method",
    "instance",
    "_Feature"
   ],
   "window_display": false
  }
 },
 "nbformat": 4,
 "nbformat_minor": 2
}
