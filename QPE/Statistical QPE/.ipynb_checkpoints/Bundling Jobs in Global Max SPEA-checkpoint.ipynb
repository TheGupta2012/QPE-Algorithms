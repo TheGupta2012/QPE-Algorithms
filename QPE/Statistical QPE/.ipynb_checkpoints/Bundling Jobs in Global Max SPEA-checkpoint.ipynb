{
 "cells": [
  {
   "cell_type": "markdown",
   "metadata": {},
   "source": [
    "## Global Max SPEA with job bundling\n",
    "- This is a variant of the SPEA algorithm in which the jobs are bundled together into 1 big circuit and sent to the backend.\n",
    "- Note, the total API calls are bound by just **MAX_ITERS** as the job manager sends the circuits in a bundle and executes according to the backend limit on which we are executing"
   ]
  },
  {
   "cell_type": "markdown",
   "metadata": {},
   "source": [
    "#### Trying out Job manager \n",
    "- This manager is used to **optimize** the api call time that is needed in the backend execution"
   ]
  },
  {
   "cell_type": "code",
   "execution_count": 18,
   "metadata": {
    "ExecuteTime": {
     "end_time": "2021-06-04T07:18:12.474048Z",
     "start_time": "2021-06-04T07:18:01.414787Z"
    }
   },
   "outputs": [
    {
     "name": "stderr",
     "output_type": "stream",
     "text": [
      "ibmqfactory.load_account:WARNING:2021-06-04 12:48:02,939: Credentials are already in use. The existing account in the session will be replaced.\n"
     ]
    }
   ],
   "source": [
    "from qiskit.providers.ibmq.managed import IBMQJobManager\n",
    "from qiskit import IBMQ \n",
    "IBMQ.load_account()\n",
    "provider = IBMQ.get_provider(hub='ibm-q-education')"
   ]
  },
  {
   "cell_type": "code",
   "execution_count": 19,
   "metadata": {
    "ExecuteTime": {
     "end_time": "2021-06-04T07:18:12.811389Z",
     "start_time": "2021-06-04T07:18:12.769253Z"
    }
   },
   "outputs": [],
   "source": [
    "from qiskit import QuantumCircuit, execute, transpile, Aer \n",
    "from qiskit.extensions import UnitaryGate,Initialize\n",
    "from qiskit.quantum_info import Statevector \n",
    "from qiskit.tools.visualization import plot_bloch_vector\n",
    "from qiskit.tools.visualization import plot_histogram,plot_bloch_multivector  \n",
    "import numpy as np \n",
    "from time import sleep \n",
    "import sys \n",
    "from scipy.stats import unitary_group \n",
    "import matplotlib.pyplot as plt \n",
    "%matplotlib inline "
   ]
  },
  {
   "cell_type": "markdown",
   "metadata": {},
   "source": [
    "- So what job manager does is that it takes all circuits, executes them in batches of 75 and brings back the results.\n",
    "- This means, what I can do is I need (2Bm) jobs each consisting of resolution number of circuits.\n",
    "- This means, I can bundle all the (2Bm.resolution) jobs together , get the result \n",
    "- Now, take first resolution number of jobs, get the max theta and cost and append to the list \n",
    "- At the end you will only have **max_iters** jobs that are sent to the backend instead of **max_iters.2*Bm** jobs, exponentially lesser api calls"
   ]
  },
  {
   "cell_type": "code",
   "execution_count": 143,
   "metadata": {
    "ExecuteTime": {
     "end_time": "2021-06-04T08:49:29.994114Z",
     "start_time": "2021-06-04T08:49:29.935425Z"
    }
   },
   "outputs": [],
   "source": [
    "class bundled_SPEA():\n",
    "    def __init__(self,unitary,resolution = 100, error = 3, max_iters = 20):\n",
    "        \n",
    "        # handle resolution \n",
    "        if not isinstance(resolution,int):\n",
    "            raise TypeError(\"Please enter the number of intervals as an integer value\")  \n",
    "        if resolution < 10 or resolution > 1e6:\n",
    "            raise ValueError(\"Resolution needs to be atleast 0.1 and greater than 0.000001\")\n",
    "        \n",
    "        self.resolution = resolution \n",
    "        \n",
    "        # handle unitary\n",
    "        if not isinstance(unitary, np.ndarray) and not isinstance(unitary, QuantumCircuit)\\\n",
    "                and not isinstance(unitary, UnitaryGate):\n",
    "            raise TypeError(\"A numpy array or Quantum Circuit or UnitaryGate needs to be passed as the unitary matrix\")\n",
    "\n",
    "        # convert circuit to numpy array for uniformity \n",
    "        if isinstance(unitary, UnitaryGate):\n",
    "            U = unitary.to_matrix()\n",
    "        else: # both QC and ndarray type \n",
    "            U = unitary\n",
    "        \n",
    "        # note - the unitary here is not just a single qubit unitary \n",
    "        if isinstance(U,np.ndarray):\n",
    "            self.dims = U.shape[0]\n",
    "        else:\n",
    "            self.dims = 2**(U.num_qubits)\n",
    "        \n",
    "        \n",
    "        if isinstance(U,np.ndarray):\n",
    "            self.c_unitary_gate = UnitaryGate(data = U).control(num_ctrl_qubits = 1,label = 'CU',ctrl_state = '1')\n",
    "        else:\n",
    "            self.c_unitary_gate = U.control(num_ctrl_qubits = 1,label = 'CU',ctrl_state = '1')\n",
    "\n",
    "        # handle error \n",
    "        if not isinstance(error,int):\n",
    "            raise TypeError(\"The allowable error should be provided as an int. Interpreted as 10**(-error)\")\n",
    "        if error <= 0:\n",
    "            raise ValueError(\"The error threshold must be finite and greater than 0.\")\n",
    "            \n",
    "        self.error = error \n",
    "        \n",
    "        # handle max_iters \n",
    "        if not isinstance(max_iters,int):\n",
    "            raise TypeError(\"Max iterations must be of integer type\")\n",
    "        if max_iters <= 0 and max_iters > 1e5:\n",
    "            raise ValueError(\"Max iterations should be atleast 1 and less than 1e5\")\n",
    "        \n",
    "        self.iterations = max_iters \n",
    "        self.basis = []\n",
    "    \n",
    "    def get_basis_vectors(self,randomize = True):\n",
    "        # get the d dimensional basis for the unitary provided \n",
    "        if randomize == True:\n",
    "            UR = unitary_group.rvs(self.dims)\n",
    "        else:\n",
    "            UR = np.identity(self.dims)\n",
    "\n",
    "        basis = []\n",
    "        for k in UR:\n",
    "            basis.append(np.array(k,dtype = complex))\n",
    "        return basis \n",
    "    \n",
    "    def get_circuits(self,angles,state):\n",
    "        '''Given an initial state and a set of angles,\n",
    "          return the circuits that are generated with \n",
    "          those angles'''\n",
    "        result = {'cost' : -1, 'theta' : -1}\n",
    "        # all theta values are iterated over for the same state\n",
    "        phi = Initialize(state)\n",
    "        shots = 512\n",
    "        circuits = []\n",
    "        \n",
    "        for theta in angles:\n",
    "            qc = QuantumCircuit(1 + int(np.log2(self.dims)), 1)\n",
    "            # initialize the circuit \n",
    "            qc = qc.compose(phi, qubits = list(range(1,int(np.log2(self.dims))+1)))\n",
    "            # add hadamard\n",
    "            qc.h(0)\n",
    "            # add unitary which produces a phase kickback on control qubit\n",
    "            qc = qc.compose(self.c_unitary_gate,qubits = range(1+int(np.log2(self.dims))))\n",
    "            # add the inv rotation \n",
    "            qc.p(-2*np.pi*theta,0)\n",
    "            # add hadamard \n",
    "            qc.h(0)\n",
    "            # measure \n",
    "            qc.measure([0],[0])\n",
    "            #generate all the circuits...\n",
    "            circuits.append(qc)\n",
    "              \n",
    "        return circuits \n",
    "    \n",
    "    def get_cost(self,angles,counts,shots):\n",
    "        '''Generate the best cost and theta pair \n",
    "        for the particular state '''\n",
    "        \n",
    "        result = {'cost':-1, 'theta': -1}\n",
    "        # get the cost for this theta \n",
    "        \n",
    "        for k,theta in zip(counts,angles):\n",
    "            # for all experiments you ran \n",
    "            try:\n",
    "                C_val = (k['0'])/shots\n",
    "            except:\n",
    "                C_val = 0 \n",
    "\n",
    "            if C_val > result['cost']:\n",
    "                # means this is a better theta value  \n",
    "                result['theta'] = theta \n",
    "                result['cost'] = C_val \n",
    "            \n",
    "        return result \n",
    "    \n",
    "    def get_eigen_pair(self,backend,progress = False,randomize = True,init_layout = None):\n",
    "        '''Finding the eigenstate pair for the unitary'''\n",
    "            \n",
    "        if not isinstance(progress,bool):\n",
    "            raise TypeError(\"Progress must be a boolean variable\")\n",
    "        \n",
    "        if not isinstance(randomize,bool):\n",
    "            raise Exception(\"Randomize must be a boolean variable\")\n",
    "        \n",
    "        results = dict() \n",
    "        \n",
    "        # first initialize the state phi \n",
    "        self.basis = self.get_basis_vectors(randomize)\n",
    "        \n",
    "        # choose a random index \n",
    "        ind = np.random.choice(self.dims) \n",
    "        phi = self.basis[ind]\n",
    "        \n",
    "        # doing the method 1 of our algorithm \n",
    "        # define resolution of angles and precision \n",
    "        precision = 1/10**self.error \n",
    "        samples = self.resolution \n",
    "        \n",
    "        # initialization of range \n",
    "        left,right = 0,1\n",
    "        shots = 512\n",
    "        \n",
    "        # generate the angles\n",
    "        angles = np.linspace(left,right,samples)\n",
    "\n",
    "        # First execution can be done without JobManager also...\n",
    "        circs = self.get_circuits(angles,phi)\n",
    "        job = execute(circs,backend = backend, shots = shots)\n",
    "        counts = job.result().get_counts()\n",
    "        result = self.get_cost(angles,counts,shots)\n",
    "        \n",
    "        # get initial estimates \n",
    "        cost = result['cost']\n",
    "        theta_max = result['theta']\n",
    "        best_phi = phi \n",
    "\n",
    "        # the range upto which theta extends iin each iteration \n",
    "        angle_range = 0.5\n",
    "        # a parameter \n",
    "        a = 1 \n",
    "        # start algorithm        \n",
    "        iters = 0 \n",
    "        found = True\n",
    "        plus = (1/np.sqrt(2))*np.array([1,1])\n",
    "        minus = (1/np.sqrt(2))*np.array([1,-1])\n",
    "        \n",
    "        #define IBMQManager instance\n",
    "        manager = IBMQJobManager()\n",
    "        \n",
    "        while 1 - cost >= precision:\n",
    "            # get angles, note if theta didn't change, then we need to \n",
    "            # again generate the same range again \n",
    "            right = min(1,theta_max + angle_range/2)\n",
    "            left = max(0,theta_max - angle_range/2)\n",
    "            if progress:\n",
    "                print(\"Right :\",right) \n",
    "                print(\"Left :\",left)\n",
    "            # generate the angles only if the theta has been updated \n",
    "            if found == True: \n",
    "                angles = np.linspace(left,right,samples)\n",
    "            \n",
    "            found = False # for this iteration \n",
    "            if progress:\n",
    "                print(\"ITERATION NUMBER\",iters+1,\"...\")\n",
    "            \n",
    "            # generate a cost dict for each of the iterations \n",
    "            # final result lists \n",
    "            thetas, costs, states = [],[],[] \n",
    "            \n",
    "            # circuit list \n",
    "            circuits = []\n",
    "            \n",
    "            #list to store intermediate states\n",
    "            phis = []\n",
    "            \n",
    "            # 1. Circuit generation loop\n",
    "            for i in range((2*self.dims)):\n",
    "                # everyone is supplied with the same range of theta in one iteration \n",
    "                #define z\n",
    "                # make a list of the circuits\n",
    "                if i < self.dims:\n",
    "                    z = 1 \n",
    "                else:\n",
    "                    z = 1j \n",
    "                    \n",
    "                # alter and normalise phi \n",
    "                curr_phi = best_phi + z*a*(1 - cost)*self.basis[i % self.dims]\n",
    "                curr_phi = curr_phi / np.linalg.norm(curr_phi)\n",
    "                phis.append(curr_phi)\n",
    "                \n",
    "                # bundle the circuits together ...   \n",
    "                circs = self.get_circuits(angles,curr_phi)\n",
    "                circuits = circuits + circs\n",
    "                \n",
    "                # now each iteration would see the same state as the best phi \n",
    "                # is updated once at the end of the iteration \n",
    "                    \n",
    "                # also, the cost is also updated only once at the end of the iteration\n",
    "            \n",
    "            \n",
    "            # 2. run the generated circuits \n",
    "            if progress:\n",
    "                print(\"Transpiling circuits...\")\n",
    "            if init_layout is not None:\n",
    "                circuits = transpile(circuits=circuits,backend=backend,initial_layout = init_layout,optimization_level = 3)\n",
    "            else:\n",
    "                circuits = transpile(circuits=circuits,backend=backend,optimization_level = 3)\n",
    "                \n",
    "            job_set = manager.run(circuits,backend = backend,name = 'Job_set'+str(iters),shots=shots)\n",
    "            if progress:\n",
    "                print(\"Transpilation Done!\\nJob sent...\")\n",
    "            job_result = job_set.results()        \n",
    "            \n",
    "            # now get the circuits in chunks of resolution each \n",
    "            if progress:\n",
    "                print(\"Job has returned\")\n",
    "                \n",
    "                \n",
    "            # 3. Result generation loop\n",
    "            for i in range((2*self.dims)):\n",
    "                # get the results of this basis state\n",
    "                # it will have resolution number of circuits...\n",
    "                counts = []\n",
    "                for j in range(i*self.resolution, (i+1)*self.resolution):\n",
    "                    # in this you'll get the counts \n",
    "                    counts.append(job_result.get_counts(j))\n",
    "                \n",
    "                result = self.get_cost(counts,angles,shots)\n",
    "                \n",
    "                # get the estimates for this basis \n",
    "                curr_theta = result['theta']\n",
    "                curr_cost = result['cost']\n",
    "                curr_phi = phis[i] # the result was generated pertaining to this phi \n",
    "                    \n",
    "                if curr_cost > cost: # then only add this cost in the cost and states list \n",
    "                    thetas.append(float(curr_theta))\n",
    "                    costs.append(float(curr_cost))\n",
    "                    states.append(curr_phi)\n",
    "                    found = True\n",
    "                \n",
    "                if progress:\n",
    "                    sys.stdout.write('\\r')\n",
    "                    sys.stdout.write(\"%f %%completed\" % (100*(i+1)/(2*self.dims)))\n",
    "                    sys.stdout.flush()\n",
    "                \n",
    "                \n",
    "            if found == False:\n",
    "                # phi was not updated , change a \n",
    "                a = a/2\n",
    "                if progress:\n",
    "                    print(\"\\nNo change, updating a...\")\n",
    "            else:\n",
    "                # if found is actually true, then only update \n",
    "                \n",
    "                # O(n) , would update this though \n",
    "                index = np.argmax(costs)\n",
    "                # update the parameters of the model \n",
    "                cost = costs[index]\n",
    "                theta_max = thetas[index]\n",
    "                best_phi = states[index]\n",
    "                if progress:\n",
    "                    print(\"Best Phi is :\",best_phi)\n",
    "                    print(\"Theta estimate :\",theta_max)\n",
    "                    print(\"Current cost :\",cost) \n",
    "                angle_range /= 2 # updated phi and thus theta too -> refine theta range\n",
    "            \n",
    "            # update the iterations \n",
    "            iters+=1 \n",
    "            if progress:\n",
    "                print(\"\\nCOST :\",cost)\n",
    "                print(\"THETA :\",theta_max)\n",
    "            \n",
    "            if iters >= self.iterations:\n",
    "                print(\"Maximum iterations reached for the estimation.\\nTerminating algorithm...\")\n",
    "                break \n",
    "      # add cost, eigenvector and theta to the dict \n",
    "        results['cost'] = cost \n",
    "        results['theta'] = theta_max \n",
    "        results['state'] = best_phi \n",
    "        \n",
    "        return results\n",
    "            "
   ]
  },
  {
   "cell_type": "markdown",
   "metadata": {},
   "source": [
    "### Testing\n",
    "- This algorithm is tested for a phase gate of $ \\theta = \\frac{1}{9} $ "
   ]
  },
  {
   "cell_type": "code",
   "execution_count": 152,
   "metadata": {
    "ExecuteTime": {
     "end_time": "2021-06-04T08:50:42.261969Z",
     "start_time": "2021-06-04T08:50:41.964122Z"
    }
   },
   "outputs": [
    {
     "data": {
      "image/png": "[encoded data removed]",
      "text/plain": [
       "<Figure size 206.852x144.48 with 1 Axes>"
      ]
     },
     "execution_count": 152,
     "metadata": {},
     "output_type": "execute_result"
    }
   ],
   "source": [
    "q = QuantumCircuit(2)\n",
    "q.cp(2*np.pi*(1/9),0,1)\n",
    "q.draw('mpl')"
   ]
  },
  {
   "cell_type": "code",
   "execution_count": 153,
   "metadata": {
    "ExecuteTime": {
     "end_time": "2021-06-04T08:50:44.021785Z",
     "start_time": "2021-06-04T08:50:44.006531Z"
    }
   },
   "outputs": [],
   "source": [
    "spe = bundled_SPEA(q,resolution=30,error = 3,max_iters=10)"
   ]
  },
  {
   "cell_type": "markdown",
   "metadata": {},
   "source": [
    "- Choosing backend as **ibmq_santiago**"
   ]
  },
  {
   "cell_type": "code",
   "execution_count": 156,
   "metadata": {
    "ExecuteTime": {
     "end_time": "2021-06-04T08:51:58.973200Z",
     "start_time": "2021-06-04T08:51:58.965212Z"
    }
   },
   "outputs": [],
   "source": [
    "santiago = provider.get_backend('ibmq_santiago')"
   ]
  },
  {
   "cell_type": "code",
   "execution_count": null,
   "metadata": {
    "ExecuteTime": {
     "end_time": "2021-06-04T08:51:00.227419Z",
     "start_time": "2021-06-04T08:50:52.032991Z"
    }
   },
   "outputs": [],
   "source": [
    "thetas = []\n",
    "for k in range(5):\n",
    "    result = spe.get_eigen_pair(backend=santiago,progress=True)\n",
    "    print(\"Result is :\",result)\n",
    "    thetas.append(result['theta'])"
   ]
  },
  {
   "cell_type": "code",
   "execution_count": 27,
   "metadata": {
    "ExecuteTime": {
     "end_time": "2021-06-04T08:35:02.808416Z",
     "start_time": "2021-06-04T08:35:02.780533Z"
    }
   },
   "outputs": [
    {
     "data": {
      "text/plain": [
       "[1.0, 0.0, 0.06896551724137931, 0.0, 0.034482758620689655]"
      ]
     },
     "execution_count": 27,
     "metadata": {},
     "output_type": "execute_result"
    }
   ],
   "source": [
    "thetas"
   ]
  },
  {
   "cell_type": "code",
   "execution_count": 29,
   "metadata": {
    "ExecuteTime": {
     "end_time": "2021-06-04T08:35:17.949357Z",
     "start_time": "2021-06-04T08:35:17.203932Z"
    }
   },
   "outputs": [
    {
     "data": {
      "image/png": "[encoded data removed]",
      "text/plain": [
       "<Figure size 432x288 with 1 Axes>"
      ]
     },
     "metadata": {
      "needs_background": "light"
     },
     "output_type": "display_data"
    }
   ],
   "source": [
    "plt.title(\"Plot for returned Eigenvalues\",fontsize = 16)\n",
    "plt.xlabel(\"Experiment number\")\n",
    "plt.ylabel(\"Eigenvalues\")\n",
    "plt.plot([0,6],[0,0],color = 'black')\n",
    "plt.plot([0,6],[1,1],color = 'black')\n",
    "plt.plot([0,6],[0.111,0.111],color = 'black')\n",
    "plt.plot(list(range(5)), thetas, label = 'Estimates', color = 'cyan', linewidth = 2, marker = 's')\n",
    "plt.legend()\n",
    "plt.grid()"
   ]
  },
  {
   "cell_type": "markdown",
   "metadata": {},
   "source": [
    "## Does transpilation speed up ?\n",
    "- Let us see whether transpilation speeds up when initial layout is provided"
   ]
  },
  {
   "cell_type": "code",
   "execution_count": 163,
   "metadata": {
    "ExecuteTime": {
     "end_time": "2021-06-04T08:52:38.562044Z",
     "start_time": "2021-06-04T08:52:38.552544Z"
    }
   },
   "outputs": [],
   "source": [
    "# try to find our intial layouts for the 1 and 2 qubit unitaries\n",
    "# let us look at yorktown to get the the 3 vertex clique for the 2 qubit unitaries\n",
    "# note - > [2,3,4] are all connected to each other and thus transpilation would be pretty \n",
    "# nicely done in the case where we have 2 qubit unitaries\n",
    "from qiskit.circuit.random import random_circuit\n",
    "\n",
    "yorktown= provider.get_backend('ibmq_5_yorktown')\n",
    "york_initial_layout = [2,3,4]"
   ]
  },
  {
   "cell_type": "code",
   "execution_count": 169,
   "metadata": {
    "ExecuteTime": {
     "end_time": "2021-06-04T08:52:44.325503Z",
     "start_time": "2021-06-04T08:52:44.309032Z"
    }
   },
   "outputs": [],
   "source": [
    "q1 = random_circuit(3,depth = 7,measure = True)"
   ]
  },
  {
   "cell_type": "code",
   "execution_count": 170,
   "metadata": {
    "ExecuteTime": {
     "end_time": "2021-06-04T08:52:45.123665Z",
     "start_time": "2021-06-04T08:52:44.490580Z"
    },
    "scrolled": true
   },
   "outputs": [
    {
     "data": {
      "image/png": "[encoded data removed]",
      "text/plain": [
       "<Figure size 808.997x264.88 with 1 Axes>"
      ]
     },
     "execution_count": 170,
     "metadata": {},
     "output_type": "execute_result"
    }
   ],
   "source": [
    "q1.draw('mpl')"
   ]
  },
  {
   "cell_type": "code",
   "execution_count": 171,
   "metadata": {
    "ExecuteTime": {
     "end_time": "2021-06-04T08:52:45.224692Z",
     "start_time": "2021-06-04T08:52:45.218242Z"
    }
   },
   "outputs": [
    {
     "data": {
      "text/plain": [
       "['id', 'rz', 'sx', 'x', 'cx', 'reset']"
      ]
     },
     "execution_count": 171,
     "metadata": {},
     "output_type": "execute_result"
    }
   ],
   "source": [
    "basis = yorktown.configuration().basis_gates\n",
    "basis "
   ]
  },
  {
   "cell_type": "markdown",
   "metadata": {},
   "source": [
    "- Without initial layout"
   ]
  },
  {
   "cell_type": "code",
   "execution_count": 172,
   "metadata": {
    "ExecuteTime": {
     "end_time": "2021-06-04T08:52:45.889443Z",
     "start_time": "2021-06-04T08:52:45.333544Z"
    }
   },
   "outputs": [
    {
     "name": "stdout",
     "output_type": "stream",
     "text": [
      "Non-local gates : 19\n"
     ]
    }
   ],
   "source": [
    "circ = transpile(q1,backend=yorktown,basis_gates=basis,optimization_level=3)\n",
    "print(\"Non-local gates :\",circ.num_nonlocal_gates())"
   ]
  },
  {
   "cell_type": "markdown",
   "metadata": {},
   "source": [
    "- With initial layout"
   ]
  },
  {
   "cell_type": "code",
   "execution_count": 173,
   "metadata": {
    "ExecuteTime": {
     "end_time": "2021-06-04T08:52:46.610806Z",
     "start_time": "2021-06-04T08:52:46.022177Z"
    }
   },
   "outputs": [
    {
     "name": "stdout",
     "output_type": "stream",
     "text": [
      "Non-local gates : 19\n"
     ]
    }
   ],
   "source": [
    "circ = transpile(q1,backend=yorktown,basis_gates=basis,initial_layout=york_initial_layout,optimization_level=3)\n",
    "print(\"Non-local gates :\",circ.num_nonlocal_gates())"
   ]
  },
  {
   "cell_type": "code",
   "execution_count": null,
   "metadata": {},
   "outputs": [],
   "source": []
  },
  {
   "cell_type": "code",
   "execution_count": null,
   "metadata": {},
   "outputs": [],
   "source": []
  },
  {
   "cell_type": "code",
   "execution_count": null,
   "metadata": {},
   "outputs": [],
   "source": []
  },
  {
   "cell_type": "code",
   "execution_count": null,
   "metadata": {},
   "outputs": [],
   "source": []
  },
  {
   "cell_type": "code",
   "execution_count": null,
   "metadata": {},
   "outputs": [],
   "source": []
  }
 ],
 "metadata": {
  "kernelspec": {
   "display_name": "Python 3",
   "language": "python",
   "name": "python3"
  },
  "language_info": {
   "codemirror_mode": {
    "name": "ipython",
    "version": 3
   },
   "file_extension": ".py",
   "mimetype": "text/x-python",
   "name": "python",
   "nbconvert_exporter": "python",
   "pygments_lexer": "ipython3",
   "version": "3.7.4"
  },
  "varInspector": {
   "cols": {
    "lenName": 16,
    "lenType": 16,
    "lenVar": 40
   },
   "kernels_config": {
    "python": {
     "delete_cmd_postfix": "",
     "delete_cmd_prefix": "del ",
     "library": "var_list.py",
     "varRefreshCmd": "print(var_dic_list())"
    },
    "r": {
     "delete_cmd_postfix": ") ",
     "delete_cmd_prefix": "rm(",
     "library": "var_list.r",
     "varRefreshCmd": "cat(var_dic_list()) "
    }
   },
   "types_to_exclude": [
    "module",
    "function",
    "builtin_function_or_method",
    "instance",
    "_Feature"
   ],
   "window_display": false
  }
 },
 "nbformat": 4,
 "nbformat_minor": 2
}
