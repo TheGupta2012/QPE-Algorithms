{
 "cells": [
  {
   "cell_type": "markdown",
   "metadata": {
    "heading_collapsed": true
   },
   "source": [
    "## Alternate SPEA approach with Original Algo\n",
    "- This particular implementation of SPEA is based on the fact that that simulating circuits is very costly and thus we execute the quantum circuit once and iterate the angles range classically instead.\n",
    "- What do we iterate for ? The best $ \\phi $ value which minimizes $S$ where - \n",
    "$$  S = \\sum_{i=0}^{n-1} (P_{n-1} - C(n-1, \\phi))^{2} $$\n",
    "- Here, n is the number of dimensions of our qubit.(2 in our case)\n",
    "- $P_{i}$ is the experimental probability that we get $i$ when we run the circuit with negative phase as 0, and measure the control qubit\n",
    "- $C(n-1,\\phi)$ is the theoretical porbability that should have been obtained if the control register was an eigenstate of the unitary $U$ \n",
    "- Here,  $C(0,\\phi) = cos^{2}(\\pi \\phi)$ and $C(1,\\phi) = sin^{2}(\\pi \\phi)$\n",
    "\n",
    "- <font color = 'orange' size = 3>Instead of iterating over angles and creating **different** circuits, we create **one** circuit and iterate over the range to get the $\\phi$ with $min(S)$</font>"
   ]
  },
  {
   "cell_type": "markdown",
   "metadata": {
    "heading_collapsed": true,
    "hidden": true
   },
   "source": [
    "#### Imports"
   ]
  },
  {
   "cell_type": "code",
   "execution_count": 5,
   "metadata": {
    "ExecuteTime": {
     "end_time": "2021-06-06T07:44:24.418534Z",
     "start_time": "2021-06-06T07:43:52.857556Z"
    },
    "hidden": true
   },
   "outputs": [],
   "source": [
    "from qiskit import QuantumCircuit, execute, transpile, Aer \n",
    "from qiskit.extensions import UnitaryGate,Initialize\n",
    "from qiskit.quantum_info import Statevector \n",
    "from qiskit.tools.visualization import plot_bloch_vector\n",
    "from qiskit.tools.visualization import plot_histogram,plot_bloch_multivector  \n",
    "import numpy as np \n",
    "from time import sleep \n",
    "import sys \n",
    "import os \n",
    "from scipy.stats import unitary_group \n",
    "import matplotlib.pyplot as plt \n",
    "%matplotlib inline \n",
    "\n",
    "from qiskit import IBMQ \n",
    "IBMQ.load_account()\n",
    "\n",
    "provider = IBMQ.get_provider(hub='ibm-q-education')\n",
    "simulator = Aer.get_backend('qasm_simulator')\n",
    "athens = provider.get_backend('ibmq_athens')\n"
   ]
  },
  {
   "cell_type": "markdown",
   "metadata": {
    "heading_collapsed": true
   },
   "source": [
    "## Alternate Algorithm"
   ]
  },
  {
   "cell_type": "code",
   "execution_count": 11,
   "metadata": {
    "ExecuteTime": {
     "end_time": "2021-06-06T07:45:14.152261Z",
     "start_time": "2021-06-06T07:45:14.068698Z"
    },
    "hidden": true
   },
   "outputs": [],
   "source": [
    "class SPEA():\n",
    "    def __init__(self,unitary,resolution = 50, error = 3, max_iters = 20):\n",
    "        # handle resolution \n",
    "        if not isinstance(resolution,int):\n",
    "            raise TypeError(\"Please enter the number of intervals as an integer value\")  \n",
    "        if resolution < 10 or resolution > 1e6:\n",
    "            raise ValueError(\"Resolution needs to be atleast 0.1 and greater than 0.000001\")\n",
    "        \n",
    "        self.resolution = resolution \n",
    "        \n",
    "        # handle unitary\n",
    "        if not isinstance(unitary, np.ndarray) and not isinstance(unitary, QuantumCircuit)\\\n",
    "                and not isinstance(unitary, UnitaryGate):\n",
    "            raise TypeError(\"A numpy array or Quantum Circuit or UnitaryGate needs to be passed as the unitary matrix\")\n",
    "\n",
    "        # convert circuit to numpy array for uniformity \n",
    "        if isinstance(unitary, UnitaryGate):\n",
    "            U = unitary.to_matrix()\n",
    "        else: # both QC and ndarray type \n",
    "            U = unitary\n",
    "        \n",
    "        # note - the unitary here is not just a single qubit unitary \n",
    "        if isinstance(U,np.ndarray):\n",
    "            self.dims = U.shape[0]\n",
    "        else:\n",
    "            self.dims = 2**(U.num_qubits)\n",
    "        \n",
    "        if isinstance(U,np.ndarray):\n",
    "            self.c_unitary_gate = UnitaryGate(data = U).control(num_ctrl_qubits = 1,label = 'CU',ctrl_state = '1')\n",
    "        else:\n",
    "            self.c_unitary_gate = U.control(num_ctrl_qubits = 1,label = 'CU',ctrl_state = '1')\n",
    "        \n",
    "        # handle error \n",
    "        if not isinstance(error,int):\n",
    "            raise TypeError(\"The allowable error should be provided as an int. Interpreted as 10**(-error)\")\n",
    "        if error <= 0:\n",
    "            raise ValueError(\"The error threshold must be finite and greater than 0.\")\n",
    "            \n",
    "        self.error = error \n",
    "        \n",
    "        # handle max_iters \n",
    "        if not isinstance(max_iters,int):\n",
    "            raise TypeError(\"Max iterations must be of integer type\")\n",
    "        if max_iters <= 0 and max_iters > 1e5:\n",
    "            raise ValueError(\"Max iterations should be atleast 1 and less than 1e5\")\n",
    "        \n",
    "        self.iterations = max_iters \n",
    "        self.basis = []\n",
    "    \n",
    "    def get_basis_vectors(self,randomize = True):\n",
    "        # get the d dimensional basis for the unitary provided \n",
    "        if randomize == True:\n",
    "            UR = unitary_group.rvs(self.dims)\n",
    "        else:\n",
    "            UR = np.identity(self.dims)\n",
    "\n",
    "        basis = []\n",
    "        for k in UR:\n",
    "            basis.append(np.array(k,dtype = complex))\n",
    "        return basis \n",
    "    def get_standard_cost(self,angles,state,backend):\n",
    "        '''Given an initial state and a set of angles,\n",
    "          return the best cost and the associated angle\n",
    "          state is a normalized state in ndarray form'''\n",
    "        result = {'cost' : -1, 'theta' : -1}\n",
    "        # all theta values are iterated over for the same state\n",
    "        phi = Initialize(state)\n",
    "        shots = 512\n",
    "        circuits = []\n",
    "        \n",
    "        for theta in angles:\n",
    "            qc = QuantumCircuit(1 + int(np.log2(self.dims)), 1)\n",
    "            # initialize the circuit \n",
    "            qc = qc.compose(phi, qubits = list(range(1,int(np.log2(self.dims))+1)))\n",
    "            # add hadamard\n",
    "            qc.h(0)\n",
    "            # add unitary which produces a phase kickback on control qubit\n",
    "            qc = qc.compose(self.c_unitary_gate,qubits = range(1+int(np.log2(self.dims))))\n",
    "            # add the inv rotation \n",
    "            qc.p(-2*np.pi*theta,0)\n",
    "            # add hadamard \n",
    "            qc.h(0)\n",
    "            # measure \n",
    "            qc.measure([0],[0])\n",
    "            #generate all the circuits...\n",
    "            circuits.append(qc)\n",
    "                \n",
    "        #execute only once...\n",
    "        counts = execute(circuits,backend = backend,shots = shots).result().get_counts()\n",
    "        # get the cost for this theta \n",
    "        for k,theta in zip(counts,angles):\n",
    "            # for all experiments you ran \n",
    "            try:\n",
    "                C_val = (k['0'])/shots\n",
    "            except:\n",
    "                C_val = 0 \n",
    "\n",
    "            if C_val > result['cost']:\n",
    "                # means this is a better theta value  \n",
    "                result['theta'] = theta \n",
    "                result['cost'] = C_val \n",
    "        return result \n",
    "    def get_alternate_cost(self,angles,state,backend):\n",
    "        '''Given an initial state and a set of angles,\n",
    "          return the best cost and the associated angle\n",
    "          state is a normalized state in ndarray form'''\n",
    "        result = {'cost' : -1, 'theta' : -1}\n",
    "        # all theta values are iterated over for the same state\n",
    "        phi = Initialize(state)\n",
    "        shots = 512\n",
    "        \n",
    "        # run the circuit once\n",
    "        qc = QuantumCircuit(1 + int(np.log2(self.dims)), 1)\n",
    "        # initialize the circuit \n",
    "        qc = qc.compose(phi, qubits = list(range(1,int(np.log2(self.dims))+1)))\n",
    "        # add hadamard\n",
    "        qc.h(0)\n",
    "        # add unitary which produces a phase kickback on control qubit\n",
    "        qc = qc.compose(self.c_unitary_gate,qubits = range(1+int(np.log2(self.dims))))\n",
    "        # add hadamard \n",
    "        qc.h(0)\n",
    "        # measure \n",
    "        qc.measure([0],[0])\n",
    "        \n",
    "                \n",
    "        #execute only once...\n",
    "        counts = execute(qc,backend = backend,shots = shots).result().get_counts()\n",
    "        \n",
    "        #generate experimental probabilities\n",
    "        try:\n",
    "            p0 = counts['0']/shots \n",
    "        except:\n",
    "            p0 = 0 \n",
    "        try:\n",
    "            p1 = counts['1']/shots\n",
    "        except:\n",
    "            p1 = 0\n",
    "        \n",
    "        # now, find the best theta as specified by the \n",
    "        # alternate method classically\n",
    "        min_s = 1e5 \n",
    "        for theta in angles:\n",
    "            # generate theoretical probabilities\n",
    "            c0 = (np.cos(np.pi*theta))**2 \n",
    "            c1 = (np.sin(np.pi*theta))**2 \n",
    "            \n",
    "            #generate s value \n",
    "            s = (p0-c0)**2 + (p1-c1)**2 \n",
    "            if s < min_s:\n",
    "                result['theta'] = theta \n",
    "                min_s = s \n",
    "                \n",
    "                \n",
    "        # now , we have the best theta stored in phi \n",
    "        # run circuit once again to get the value of C* \n",
    "        phi = Initialize(state) \n",
    "        # run the circuit once again\n",
    "        qc = QuantumCircuit(1 + int(np.log2(self.dims)), 1)\n",
    "        # initialize the circuit \n",
    "        qc = qc.compose(phi, qubits = list(range(1,int(np.log2(self.dims))+1)))\n",
    "        # add hadamard\n",
    "        qc.h(0)\n",
    "        # add unitary which produces a phase kickback on control qubit\n",
    "        qc = qc.compose(self.c_unitary_gate,qubits = range(1+int(np.log2(self.dims))))\n",
    "        # add inv rotation \n",
    "        qc.p(-2*np.pi*(result['theta']),0)\n",
    "        # add hadamard \n",
    "        qc.h(0)\n",
    "        # measure \n",
    "        qc.measure([0],[0])\n",
    "        \n",
    "        counts = execute(qc,backend = backend,shots = shots).result().get_counts()\n",
    "        try:\n",
    "            result['cost'] = counts['0']/shots \n",
    "        except: \n",
    "            result['cost'] = 0 \n",
    "        # no 0 counts present\n",
    "        \n",
    "        # return the result\n",
    "        return result \n",
    "    \n",
    "\n",
    "    \n",
    "    def get_eigen_pair(self,backend,algo = 'alternate',progress = False,randomize = True, target_cost = None):\n",
    "        '''Finding the eigenstate pair for the unitary'''\n",
    "         #handle algorithm...\n",
    "        if not isinstance(algo,str):\n",
    "            raise TypeError(\"Algorithm must be mentioned as a string from the values {alternate,standard}\")\n",
    "        elif algo not in ['alternate','standard']:\n",
    "            raise ValueError(\"Algorithm must be specified as 'alternate' or 'standard' \")\n",
    "    \n",
    "        if not isinstance(progress,bool):\n",
    "            raise TypeError(\"Progress must be a boolean variable\")\n",
    "        if not isinstance(randomize,bool):\n",
    "            raise Exception(\"Randomize must be a boolean variable\")\n",
    "        \n",
    "        if target_cost is not None:\n",
    "            if not isinstance(target_cost,float):\n",
    "                raise TypeError(\"Target cost must be a float\")\n",
    "            if (target_cost <= 0 or target_cost >= 1):\n",
    "                raise ValueError(\"Target cost must be a float value between 0 and 1\")\n",
    "        \n",
    "        results = dict() \n",
    "        \n",
    "        # first initialize the state phi \n",
    "        self.basis = self.get_basis_vectors(randomize)\n",
    "        \n",
    "        ind = np.random.choice(self.dims) \n",
    "        phi = self.basis[ind]\n",
    "        \n",
    "        # doing the method 1 of our algorithm \n",
    "        # define resolution of angles and precision \n",
    "        if target_cost == None:\n",
    "            precision = 1/10**self.error \n",
    "        else:\n",
    "            precision = 1 - target_cost \n",
    "            \n",
    "        samples = self.resolution \n",
    "        \n",
    "        # initialization of range \n",
    "        left,right = 0,1\n",
    "        # generate the angles\n",
    "        angles = np.linspace(left,right,samples)\n",
    "\n",
    "        # iterate once \n",
    "        if algo == 'alternate':\n",
    "            result = self.get_alternate_cost(angles,phi,backend)\n",
    "        else:\n",
    "            result = self.get_standard_cost(angles,phi,backend)\n",
    "        # get initial estimates \n",
    "        cost = result['cost']\n",
    "        theta_max = result['theta']\n",
    "        \n",
    "        # the range upto which theta extends iin each iteration \n",
    "        angle_range = 0.5\n",
    "        # a parameter \n",
    "        a = 1 \n",
    "        # start algorithm        \n",
    "        iters = 0 \n",
    "        best_phi = phi \n",
    "        found = True\n",
    "        plus = (1/np.sqrt(2))*np.array([[1,1]])\n",
    "        minus = (1/np.sqrt(2))*np.array([[1,-1]])\n",
    "        while 1 - cost >= precision:\n",
    "            # get angles, note if theta didn't change, then we need to \n",
    "            # again generate the same range again \n",
    "            right = min(1,theta_max + angle_range/2)\n",
    "            left = max(0,theta_max - angle_range/2)\n",
    "            if progress:\n",
    "                print(\"Right :\",right) \n",
    "                print(\"Left :\",left)\n",
    "            # generate the angles only if the theta has been updated \n",
    "            if found == True: \n",
    "                angles = np.linspace(left,right,samples)\n",
    "            \n",
    "            found = False # for this iteration \n",
    "            if progress:\n",
    "                print(\"ITERATION NUMBER\",iters+1,\"...\")\n",
    "            for i in range((2*self.dims)):\n",
    "                # everyone is supplied with the same range of theta in one iteration \n",
    "                #define z\n",
    "                if i < self.dims:\n",
    "                    z = 1 \n",
    "                else:\n",
    "                    z = 1j \n",
    "                    \n",
    "                # alter and normalise phi \n",
    "                curr_phi = best_phi + z*a*(1 - cost)*self.basis[i % self.dims]\n",
    "                curr_phi = curr_phi / np.linalg.norm(curr_phi)\n",
    "                \n",
    "                # iterate (angles would be same until theta is changed)\n",
    "                if algo == 'alternate':\n",
    "                    res = self.get_alternate_cost(angles,curr_phi,backend)\n",
    "                else:\n",
    "                    res = self.get_standard_cost(angles,curr_phi,backend)\n",
    "                curr_cost = res['cost']\n",
    "                curr_theta = res['theta']\n",
    "                \n",
    "                # at this point I have the best Cost for the state PHI and the \n",
    "#   \n",
    "                # print(curr_phi)\n",
    "               \n",
    "                if curr_cost > cost:\n",
    "                    theta_max = float(curr_theta) \n",
    "                    cost = float(curr_cost) \n",
    "                    best_phi = curr_phi\n",
    "                    found = True\n",
    "                if progress:\n",
    "                    sys.stdout.write('\\r')\n",
    "                    sys.stdout.write(\"%f %%completed\" % (100*(i+1)/(2*self.dims)))\n",
    "                    sys.stdout.flush()\n",
    "                    sleep(0.2)\n",
    "                \n",
    "            # iteration completes\n",
    "            \n",
    "            if found == False:\n",
    "                # phi was not updated , change a \n",
    "                a = a/2\n",
    "                if progress:\n",
    "                    print(\"\\nNo change, updating a...\")\n",
    "            else:\n",
    "                angle_range /= 2 # updated phi and thus theta too -> refine theta range\n",
    "            \n",
    "            iters+=1 \n",
    "            if progress:\n",
    "                print(\"\\nCOST :\",cost)\n",
    "                print(\"THETA :\",theta_max)\n",
    "            \n",
    "            if iters >= self.iterations:\n",
    "                print(\"Maximum iterations reached for the estimation.\\nTerminating algorithm...\")\n",
    "                break\n",
    "            # add the warning that iters maxed out \n",
    "        \n",
    "        # add cost, eigenvector and theta to the dict \n",
    "        results['cost'] = cost \n",
    "        results['theta'] = theta_max \n",
    "        results['state'] = best_phi \n",
    "        return results\n",
    "            "
   ]
  },
  {
   "cell_type": "markdown",
   "metadata": {
    "heading_collapsed": true
   },
   "source": [
    "## Testing the circuit\n",
    "- We test our algorithm with the $X$ gate"
   ]
  },
  {
   "cell_type": "code",
   "execution_count": 12,
   "metadata": {
    "ExecuteTime": {
     "end_time": "2021-06-06T07:45:15.091455Z",
     "start_time": "2021-06-06T07:45:15.073570Z"
    },
    "hidden": true
   },
   "outputs": [],
   "source": [
    "simulator = Aer.get_backend('qasm_simulator')"
   ]
  },
  {
   "cell_type": "code",
   "execution_count": 13,
   "metadata": {
    "ExecuteTime": {
     "end_time": "2021-06-06T07:45:15.727767Z",
     "start_time": "2021-06-06T07:45:15.437331Z"
    },
    "hidden": true
   },
   "outputs": [
    {
     "data": {
      "image/png": "[encoded data removed]",
      "text/plain": [
       "<Figure size 206.852x144.48 with 1 Axes>"
      ]
     },
     "execution_count": 13,
     "metadata": {},
     "output_type": "execute_result"
    }
   ],
   "source": [
    "U = QuantumCircuit(2)\n",
    "U.cp(2*np.pi*(1/3),0,1)\n",
    "U.draw('mpl')"
   ]
  },
  {
   "cell_type": "code",
   "execution_count": 14,
   "metadata": {
    "ExecuteTime": {
     "end_time": "2021-06-06T07:45:15.868554Z",
     "start_time": "2021-06-06T07:45:15.846381Z"
    },
    "hidden": true
   },
   "outputs": [],
   "source": [
    "spe = SPEA(U,resolution= 40,error = 3,max_iters=20)\n"
   ]
  },
  {
   "cell_type": "code",
   "execution_count": 15,
   "metadata": {
    "ExecuteTime": {
     "end_time": "2021-06-06T07:45:32.211282Z",
     "start_time": "2021-06-06T07:45:17.121290Z"
    },
    "hidden": true
   },
   "outputs": [
    {
     "name": "stdout",
     "output_type": "stream",
     "text": [
      "Maximum iterations reached for the estimation.\n",
      "Terminating algorithm...\n"
     ]
    }
   ],
   "source": [
    "result = spe.get_eigen_pair(progress = False, algo = 'alternate',backend=simulator)"
   ]
  },
  {
   "cell_type": "code",
   "execution_count": 16,
   "metadata": {
    "ExecuteTime": {
     "end_time": "2021-06-06T07:45:32.258210Z",
     "start_time": "2021-06-06T07:45:32.246222Z"
    },
    "hidden": true
   },
   "outputs": [
    {
     "data": {
      "text/plain": [
       "{'cost': 0.9921875,\n",
       " 'theta': 0.02026279522581299,\n",
       " 'state': array([ 0.64140066-0.0268025j , -0.63888108-0.21976158j,\n",
       "        -0.16908205-0.27775806j, -0.15843811-0.02411887j])}"
      ]
     },
     "execution_count": 16,
     "metadata": {},
     "output_type": "execute_result"
    }
   ],
   "source": [
    "result "
   ]
  },
  {
   "cell_type": "markdown",
   "metadata": {
    "heading_collapsed": true
   },
   "source": [
    "## Testing for the 4-qubit Unitary "
   ]
  },
  {
   "cell_type": "code",
   "execution_count": 18,
   "metadata": {
    "ExecuteTime": {
     "end_time": "2021-06-06T07:50:41.639567Z",
     "start_time": "2021-06-06T07:46:07.095527Z"
    },
    "hidden": true
   },
   "outputs": [
    {
     "data": {
      "image/png": "[encoded data removed]",
      "text/plain": [
       "<Figure size 146.797x264.88 with 1 Axes>"
      ]
     },
     "metadata": {},
     "output_type": "display_data"
    },
    {
     "name": "stdout",
     "output_type": "stream",
     "text": [
      "Maximum iterations reached for the estimation.\n",
      "Terminating algorithm...\n",
      "Maximum iterations reached for the estimation.\n",
      "Terminating algorithm...\n",
      "Maximum iterations reached for the estimation.\n",
      "Terminating algorithm...\n",
      "Maximum iterations reached for the estimation.\n",
      "Terminating algorithm...\n",
      "Maximum iterations reached for the estimation.\n",
      "Terminating algorithm...\n",
      "Maximum iterations reached for the estimation.\n",
      "Terminating algorithm...\n",
      "Maximum iterations reached for the estimation.\n",
      "Terminating algorithm...\n"
     ]
    }
   ],
   "source": [
    "U = QuantumCircuit(4)\n",
    "U.cp(2*np.pi*(1/2),1,2)\n",
    "display(U.draw('mpl'))\n",
    "\n",
    "errors = []\n",
    "eigvals = np.array([0.0,0.5,1.0])\n",
    "\n",
    "for resolution in range(10,80,10):\n",
    "    spe = SPEA(U,resolution= resolution,error = 4,max_iters=15)    \n",
    "    res = spe.get_eigen_pair(backend = simulator,algo = 'alternate')\n",
    "    theta = res['theta']\n",
    "    min_error = 1e5 \n",
    "    # get percentage error \n",
    "    for e in eigvals:\n",
    "        error = abs(e-theta) \n",
    "        if error < min_error:\n",
    "            min_error = error \n",
    "            if e != 0:\n",
    "                perc_error = (error/e)*100 \n",
    "            else:\n",
    "                perc_error = error*100\n",
    "    errors.append(perc_error)"
   ]
  },
  {
   "cell_type": "code",
   "execution_count": 19,
   "metadata": {
    "ExecuteTime": {
     "end_time": "2021-06-06T07:51:23.232209Z",
     "start_time": "2021-06-06T07:51:22.679056Z"
    },
    "hidden": true,
    "scrolled": true
   },
   "outputs": [
    {
     "data": {
      "image/png": "[encoded data removed]",
      "text/plain": [
       "<Figure size 432x288 with 1 Axes>"
      ]
     },
     "metadata": {
      "needs_background": "light"
     },
     "output_type": "display_data"
    }
   ],
   "source": [
    "plt.title(\"Eigenphase estimation for theta = 1/2, 0, 1 (4-qubit unitary)\",fontsize = 15)\n",
    "plt.grid()\n",
    "plt.plot(list(range(10,80,10)),errors,marker = 'o',color='brown',label = 'Estimates',alpha=0.7)\n",
    "# plt.plot([10,80],[0.25,0.25],color='black',label = \"True\")\n",
    "# plt.plot([10,80],[0,0],color='black',label = \"True\")\n",
    "# plt.plot([10,80],[1,1],color='black',label = \"True\")\n",
    "plt.legend()\n",
    "plt.xlabel(\"Resolution of theta \")\n",
    "plt.ylabel(\"Percentage errors from closest eigenvalues\")\n",
    "plt.savefig(\"Alternate_SPE_PLOT_original_algo.jpg\",dpi = 200)"
   ]
  },
  {
   "cell_type": "markdown",
   "metadata": {
    "heading_collapsed": true
   },
   "source": [
    "## Testing for 2 qubit unitary on simulator\n",
    "- 2 qubit controlled phase unitary is used for testing on actual backends"
   ]
  },
  {
   "cell_type": "code",
   "execution_count": 20,
   "metadata": {
    "ExecuteTime": {
     "end_time": "2021-06-06T07:51:38.135318Z",
     "start_time": "2021-06-06T07:51:37.858918Z"
    },
    "hidden": true
   },
   "outputs": [
    {
     "data": {
      "image/png": "[encoded data removed]",
      "text/plain": [
       "<Figure size 206.852x144.48 with 1 Axes>"
      ]
     },
     "execution_count": 20,
     "metadata": {},
     "output_type": "execute_result"
    }
   ],
   "source": [
    "U = QuantumCircuit(2)\n",
    "U.cp(2*np.pi*(1/6),0,1)\n",
    "U.draw('mpl')"
   ]
  },
  {
   "cell_type": "code",
   "execution_count": 21,
   "metadata": {
    "ExecuteTime": {
     "end_time": "2021-06-06T07:51:42.481932Z",
     "start_time": "2021-06-06T07:51:42.467293Z"
    },
    "hidden": true
   },
   "outputs": [],
   "source": [
    "eigvals = np.array([0.0,1/6,1.0])"
   ]
  },
  {
   "cell_type": "code",
   "execution_count": 22,
   "metadata": {
    "ExecuteTime": {
     "end_time": "2021-06-06T07:54:52.642807Z",
     "start_time": "2021-06-06T07:52:04.696278Z"
    },
    "hidden": true
   },
   "outputs": [
    {
     "name": "stdout",
     "output_type": "stream",
     "text": [
      "Maximum iterations reached for the estimation.\n",
      "Terminating algorithm...\n",
      "Maximum iterations reached for the estimation.\n",
      "Terminating algorithm...\n",
      "Maximum iterations reached for the estimation.\n",
      "Terminating algorithm...\n",
      "Maximum iterations reached for the estimation.\n",
      "Terminating algorithm...\n",
      "Percentage Errors in current iteration: [3.395061728395062, 6.4686213991769534, 6.815843621399176, 7.188786008230452]\n",
      "Errors : [5.967078189300411]\n",
      "Maximum iterations reached for the estimation.\n",
      "Terminating algorithm...\n",
      "Maximum iterations reached for the estimation.\n",
      "Terminating algorithm...\n",
      "Maximum iterations reached for the estimation.\n",
      "Terminating algorithm...\n",
      "Maximum iterations reached for the estimation.\n",
      "Terminating algorithm...\n",
      "Percentage Errors in current iteration: [4.1277883073334305, 3.185595567867039, 9.349030470914133, 2.7281673713369314]\n",
      "Errors : [5.967078189300411, 4.847645429362883]\n",
      "Maximum iterations reached for the estimation.\n",
      "Terminating algorithm...\n",
      "Maximum iterations reached for the estimation.\n",
      "Terminating algorithm...\n",
      "Maximum iterations reached for the estimation.\n",
      "Terminating algorithm...\n",
      "Percentage Errors in current iteration: [42.695221206281516, 3.5617915651629306, 2.586206896551724, 1.7241379310344827]\n",
      "Errors : [5.967078189300411, 4.847645429362883, 12.641839399757663]\n",
      "Maximum iterations reached for the estimation.\n",
      "Terminating algorithm...\n",
      "Maximum iterations reached for the estimation.\n",
      "Terminating algorithm...\n",
      "Maximum iterations reached for the estimation.\n",
      "Terminating algorithm...\n",
      "Maximum iterations reached for the estimation.\n",
      "Terminating algorithm...\n",
      "Percentage Errors in current iteration: [4.79694532948971, 0.0, 6.027685058750147, 5.454196800350647]\n",
      "Errors : [5.967078189300411, 4.847645429362883, 12.641839399757663, 4.069706797147626]\n",
      "Maximum iterations reached for the estimation.\n",
      "Terminating algorithm...\n",
      "Maximum iterations reached for the estimation.\n",
      "Terminating algorithm...\n",
      "Maximum iterations reached for the estimation.\n",
      "Terminating algorithm...\n",
      "Maximum iterations reached for the estimation.\n",
      "Terminating algorithm...\n",
      "Percentage Errors in current iteration: [4.748021657642654, 3.061224489795918, 30.79318566243655, 5.274674295999127]\n",
      "Errors : [5.967078189300411, 4.847645429362883, 12.641839399757663, 4.069706797147626, 10.969276526468562]\n",
      "Maximum iterations reached for the estimation.\n",
      "Terminating algorithm...\n",
      "Maximum iterations reached for the estimation.\n",
      "Terminating algorithm...\n",
      "Maximum iterations reached for the estimation.\n",
      "Terminating algorithm...\n",
      "Maximum iterations reached for the estimation.\n",
      "Terminating algorithm...\n",
      "Percentage Errors in current iteration: [4.079287561045675, 45.21427458503547, 3.1590033171207788, 2.8323491290719165]\n",
      "Errors : [5.967078189300411, 4.847645429362883, 12.641839399757663, 4.069706797147626, 10.969276526468562, 13.821228648068459]\n",
      "Maximum iterations reached for the estimation.\n",
      "Terminating algorithm...\n",
      "Maximum iterations reached for the estimation.\n",
      "Terminating algorithm...\n",
      "Maximum iterations reached for the estimation.\n",
      "Terminating algorithm...\n",
      "Percentage Errors in current iteration: [1.4625550593743246, 7.21564135229172, 5.542485137393498, 6.542743121193026]\n",
      "Errors : [5.967078189300411, 4.847645429362883, 12.641839399757663, 4.069706797147626, 10.969276526468562, 13.821228648068459, 5.190856167563142]\n"
     ]
    }
   ],
   "source": [
    "errors = []\n",
    "for resolution in range(10,80,10):\n",
    "    spe = SPEA(U,resolution= resolution,error = 3,max_iters=12)    \n",
    "    #run 5 experiments of this \n",
    "    p_errors = []\n",
    "    \n",
    "    for exp in range(4):\n",
    "        res = spe.get_eigen_pair(progress = False,algo = 'alternate',backend = simulator)\n",
    "        theta = res['theta']\n",
    "        min_error = 1e5 \n",
    "        min_val = -1 \n",
    "        # get min error \n",
    "        \n",
    "        for e in eigvals:\n",
    "            error = abs(e-theta) \n",
    "            if error < min_error:\n",
    "                min_error = error \n",
    "                min_val = e \n",
    "                \n",
    "        # percent error in this experiment \n",
    "        if min_val!=0:\n",
    "            p_errors.append((min_error/min_val)*100)\n",
    "        else:\n",
    "            p_errors.append((min_error)*100)\n",
    "    print(\"Percentage Errors in current iteration:\",p_errors)\n",
    "    errors.append(np.average(p_errors))\n",
    "    print(\"Errors :\",errors) "
   ]
  },
  {
   "cell_type": "code",
   "execution_count": 23,
   "metadata": {
    "ExecuteTime": {
     "end_time": "2021-06-06T07:55:15.556592Z",
     "start_time": "2021-06-06T07:55:15.022312Z"
    },
    "hidden": true
   },
   "outputs": [
    {
     "data": {
      "image/png": "[encoded data removed]",
      "text/plain": [
       "<Figure size 432x288 with 1 Axes>"
      ]
     },
     "metadata": {
      "needs_background": "light"
     },
     "output_type": "display_data"
    }
   ],
   "source": [
    "plt.title(\"Eigenphase estimation for theta = 1/6, 0, 1 (2-qubit unitary)\",fontsize = 15)\n",
    "plt.grid()\n",
    "plt.plot(list(range(10,80,10)),errors,marker = 'o',color='magenta',label = 'Estimates',alpha=0.6)\n",
    "# plt.plot([10,80],[0.25,0.25],color='black',label = \"True\")\n",
    "# plt.plot([10,80],[0,0],color='black',label = \"True\")\n",
    "# plt.plot([10,80],[1,1],color='black',label = \"True\")\n",
    "plt.legend()\n",
    "plt.xlabel(\"Resolution of theta \")\n",
    "plt.ylabel(\"Percentage Errors from closest eigenvalues\")\n",
    "plt.savefig(\"Alternate_SPE_PLOT_2_original_algo.jpg\",dpi = 200)"
   ]
  },
  {
   "cell_type": "markdown",
   "metadata": {
    "hidden": true
   },
   "source": [
    "- This means that the original algorithm also runs pretty well with the alternate approach and the running time is reduced drastically.\n",
    "- Even the simulation for a **4-qubit** unitary ran in around 4 minutes 30 seconds! \n"
   ]
  },
  {
   "cell_type": "code",
   "execution_count": null,
   "metadata": {
    "hidden": true
   },
   "outputs": [],
   "source": []
  }
 ],
 "metadata": {
  "kernelspec": {
   "display_name": "Python 3",
   "language": "python",
   "name": "python3"
  },
  "language_info": {
   "codemirror_mode": {
    "name": "ipython",
    "version": 3
   },
   "file_extension": ".py",
   "mimetype": "text/x-python",
   "name": "python",
   "nbconvert_exporter": "python",
   "pygments_lexer": "ipython3",
   "version": "3.7.4"
  },
  "varInspector": {
   "cols": {
    "lenName": 16,
    "lenType": 16,
    "lenVar": 40
   },
   "kernels_config": {
    "python": {
     "delete_cmd_postfix": "",
     "delete_cmd_prefix": "del ",
     "library": "var_list.py",
     "varRefreshCmd": "print(var_dic_list())"
    },
    "r": {
     "delete_cmd_postfix": ") ",
     "delete_cmd_prefix": "rm(",
     "library": "var_list.r",
     "varRefreshCmd": "cat(var_dic_list()) "
    }
   },
   "types_to_exclude": [
    "module",
    "function",
    "builtin_function_or_method",
    "instance",
    "_Feature"
   ],
   "window_display": false
  }
 },
 "nbformat": 4,
 "nbformat_minor": 2
}
