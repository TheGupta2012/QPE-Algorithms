{
 "cells": [
  {
   "cell_type": "markdown",
   "metadata": {},
   "source": [
    "## Alternate SPEA approach with Global Max Algo\n",
    "- This particular implementation of SPEA is based on the fact that that simulating circuits is very costly and thus we execute the quantum circuit once and iterate the angles range classically instead.\n",
    "- What do we iterate for ? The best $ \\phi $ value which minimizes $S$ where - \n",
    "$$  S = \\sum_{i=0}^{n-1} (P_{n-1} - C(n-1, \\phi))^{2} $$\n",
    "- Here, n is the number of dimensions of our qubit.(2 in our case)\n",
    "- $P_{i}$ is the experimental probability that we get $i$ when we run the circuit with negative phase as 0, and measure the control qubit\n",
    "- $C(n-1,\\phi)$ is the theoretical porbability that should have been obtained if the control register was an eigenstate of the unitary $U$ \n",
    "- Here,  $C(0,\\phi) = cos^{2}(\\pi \\phi)$ and $C(1,\\phi) = sin^{2}(\\pi \\phi)$\n",
    "\n",
    "- <font color = 'orange' size = 3>Instead of iterating over angles and creating **different** circuits, we create **one** circuit and iterate over the range to get the $\\phi$ with $min(S)$</font>"
   ]
  },
  {
   "cell_type": "markdown",
   "metadata": {},
   "source": [
    "#### Imports"
   ]
  },
  {
   "cell_type": "code",
   "execution_count": 9,
   "metadata": {
    "ExecuteTime": {
     "end_time": "2021-06-13T17:29:02.275307Z",
     "start_time": "2021-06-13T17:28:53.388121Z"
    }
   },
   "outputs": [
    {
     "name": "stderr",
     "output_type": "stream",
     "text": [
      "ibmqfactory.load_account:WARNING:2021-06-13 22:58:54,436: Credentials are already in use. The existing account in the session will be replaced.\n"
     ]
    }
   ],
   "source": [
    "from qiskit import QuantumCircuit, execute, transpile, Aer \n",
    "from qiskit.extensions import UnitaryGate,Initialize\n",
    "from qiskit.quantum_info import Statevector \n",
    "from qiskit.compiler import assemble \n",
    "from qiskit.tools.visualization import plot_bloch_vector\n",
    "from qiskit.tools.visualization import plot_histogram,plot_bloch_multivector  \n",
    "import numpy as np \n",
    "from time import sleep \n",
    "import sys \n",
    "import os \n",
    "from scipy.stats import unitary_group \n",
    "import matplotlib.pyplot as plt \n",
    "%matplotlib inline \n",
    "\n",
    "from qiskit import IBMQ \n",
    "IBMQ.load_account()\n",
    "\n",
    "provider = IBMQ.get_provider(hub='ibm-q-education')\n",
    "simulator = Aer.get_backend('qasm_simulator')\n",
    "athens = provider.get_backend('ibmq_athens')\n"
   ]
  },
  {
   "cell_type": "markdown",
   "metadata": {},
   "source": [
    "## Alternate Algorithm"
   ]
  },
  {
   "cell_type": "code",
   "execution_count": 10,
   "metadata": {
    "ExecuteTime": {
     "end_time": "2021-06-13T17:29:02.370058Z",
     "start_time": "2021-06-13T17:29:02.311217Z"
    }
   },
   "outputs": [],
   "source": [
    "class global_max_SPEA():\n",
    "    def __init__(self,unitary,resolution = 100, error = 3, max_iters = 20):\n",
    "        \n",
    "        # handle resolution \n",
    "        if not isinstance(resolution,int):\n",
    "            raise TypeError(\"Please enter the number of intervals as an integer value\")  \n",
    "        if resolution < 10 or resolution > 1e6:\n",
    "            raise ValueError(\"Resolution needs to be atleast 0.1 and greater than 0.000001\")\n",
    "        \n",
    "        self.resolution = resolution \n",
    "        \n",
    "        # handle unitary\n",
    "        if not isinstance(unitary, np.ndarray) and not isinstance(unitary, QuantumCircuit)\\\n",
    "                and not isinstance(unitary, UnitaryGate):\n",
    "            raise TypeError(\"A numpy array or Quantum Circuit or UnitaryGate needs to be passed as the unitary matrix\")\n",
    "\n",
    "        # convert circuit to numpy array for uniformity \n",
    "        if isinstance(unitary, UnitaryGate):\n",
    "            U = unitary.to_matrix()\n",
    "        else: # both QC and ndarray type \n",
    "            U = unitary\n",
    "        \n",
    "        # note - the unitary here is not just a single qubit unitary \n",
    "        if isinstance(U,np.ndarray):\n",
    "            self.dims = U.shape[0]\n",
    "        else:\n",
    "            self.dims = 2**(U.num_qubits)\n",
    "        \n",
    "        \n",
    "        if isinstance(U,np.ndarray):\n",
    "            self.c_unitary_gate = UnitaryGate(data = U).control(num_ctrl_qubits = 1,label = 'CU',ctrl_state = '1')\n",
    "        else:\n",
    "            self.c_unitary_gate = U.control(num_ctrl_qubits = 1,label = 'CU',ctrl_state = '1')\n",
    "\n",
    "        # handle error \n",
    "        if not isinstance(error,int):\n",
    "            raise TypeError(\"The allowable error should be provided as an int. Interpreted as 10**(-error)\")\n",
    "        if error <= 0:\n",
    "            raise ValueError(\"The error threshold must be finite and greater than 0.\")\n",
    "            \n",
    "        self.error = error \n",
    "        \n",
    "        # handle max_iters \n",
    "        if not isinstance(max_iters,int):\n",
    "            raise TypeError(\"Max iterations must be of integer type\")\n",
    "        if max_iters <= 0 and max_iters > 1e5:\n",
    "            raise ValueError(\"Max iterations should be atleast 1 and less than 1e5\")\n",
    "        \n",
    "        self.iterations = max_iters \n",
    "        self.basis = []\n",
    "    \n",
    "    def get_basis_vectors(self,randomize = True):\n",
    "        # get the d dimensional basis for the unitary provided \n",
    "        if randomize == True:\n",
    "            UR = unitary_group.rvs(self.dims)\n",
    "        else:\n",
    "            UR = np.identity(self.dims)\n",
    "\n",
    "        basis = []\n",
    "        for k in UR:\n",
    "            basis.append(np.array(k,dtype = complex))\n",
    "        return basis \n",
    "    \n",
    "    def get_unitary_circuit(self, backend):\n",
    "        '''Return the pretranspiled circuit '''\n",
    "        if backend is None:\n",
    "            backend = Aer.get_backend('qasm_simulator')\n",
    "        \n",
    "        qc = QuantumCircuit(1 + int(np.log2(self.dims)))\n",
    "\n",
    "        # make the circuit\n",
    "        qc.h(0)\n",
    "        qc = qc.compose(self.c_unitary_gate, qubits=range(\n",
    "            1+int(np.log2(self.dims))))\n",
    "        \n",
    "        qc.barrier()\n",
    "        qc = transpile(qc,backend=backend,optimization_level = 3)\n",
    "        \n",
    "        return qc\n",
    "    \n",
    "    def get_circuit(self, state, backend, angle=None):\n",
    "        '''Given an initial state ,\n",
    "          return the circuit that is generated with \n",
    "          inverse rotation '''\n",
    "        # all theta values are iterated over for the same state\n",
    "        phi = Initialize(state)\n",
    "        shots = 512\n",
    "\n",
    "        qc1 = QuantumCircuit(1 + int(np.log2(self.dims)), 1)\n",
    "        # initialize the circuit\n",
    "        qc1 = qc1.compose(phi, qubits=list(\n",
    "            range(1, int(np.log2(self.dims))+1)))\n",
    "        qc1 = transpile(qc1, backend=backend,optimization_level=1)\n",
    "\n",
    "        # get the circuit2\n",
    "        qc2 = self.unitary_circuit\n",
    "\n",
    "        qc3 = QuantumCircuit(1 + int(np.log2(self.dims)), 1)\n",
    "        \n",
    "        if angle is not None:\n",
    "            # add inverse rotation on the first qubit\n",
    "            qc3.p(-2*np.pi*angle, 0)\n",
    "        # add hadamard\n",
    "        qc3.h(0)\n",
    "        qc3 = transpile(qc3, backend=backend,optimization_level=1)\n",
    "\n",
    "        # make final circuit\n",
    "        qc = qc1 + qc2 + qc3\n",
    "\n",
    "        # measure\n",
    "        qc.measure([0], [0])\n",
    "        return qc\n",
    "    \n",
    "    def get_standard_cost(self, angles, state, backend,shots):\n",
    "        '''Given an initial state and a set of angles,\n",
    "          return the best cost and the associated angle\n",
    "          state is a normalized state in ndarray form'''\n",
    "        result = {'cost': -1, 'theta': -1}\n",
    "        # all theta values are iterated over for the same state\n",
    "        phi = Initialize(state)\n",
    "        circuits = []\n",
    "\n",
    "        for theta in angles:\n",
    "            qc = self.get_circuit(state,backend,theta)\n",
    "            circuits.append(qc)\n",
    "        \n",
    "        circuits = assemble(circuits)\n",
    "        # execute only once...\n",
    "        counts = backend.run(circuits, shots=shots).result().get_counts()\n",
    "        # get the cost for this theta\n",
    "        for k, theta in zip(counts, angles):\n",
    "            # for all experiments you ran\n",
    "            try:\n",
    "                C_val = (k['0'])/shots\n",
    "            except:\n",
    "                C_val = 0\n",
    "\n",
    "            if C_val > result['cost']:\n",
    "                # means this is a better theta value\n",
    "                result['theta'] = theta\n",
    "                result['cost'] = C_val\n",
    "        return result\n",
    "\n",
    "    def get_alternate_cost(self, angles, state, backend,shots):\n",
    "        '''Given an initial state and a set of angles,\n",
    "          return the best cost and the associated angle\n",
    "          state is a normalized state in ndarray form'''\n",
    "        result = {'cost': -1, 'theta': -1}\n",
    "        # all theta values are iterated over for the same state\n",
    "        phi = Initialize(state)\n",
    "\n",
    "        qc = self.get_circuit(state,backend)\n",
    "        qc = assemble(qc)\n",
    "        # execute only once...\n",
    "        counts = backend.run(qc, shots=shots).result().get_counts()\n",
    "\n",
    "        # generate experimental probabilities\n",
    "        try:\n",
    "            p0 = counts['0']/shots\n",
    "        except:\n",
    "            p0 = 0\n",
    "        try:\n",
    "            p1 = counts['1']/shots\n",
    "        except:\n",
    "            p1 = 0\n",
    "\n",
    "        # now, find the best theta as specified by the\n",
    "        # alternate method classically\n",
    "        min_s = 1e5\n",
    "        for theta in angles:\n",
    "            # generate theoretical probabilities\n",
    "            c0 = (np.cos(np.pi*theta))**2\n",
    "            c1 = (np.sin(np.pi*theta))**2\n",
    "\n",
    "            # generate s value\n",
    "            s = (p0-c0)**2 + (p1-c1)**2\n",
    "            if s < min_s:\n",
    "                result['theta'] = theta\n",
    "                min_s = s\n",
    "\n",
    "        # now , we have the best theta stored in phi\n",
    "        # run circuit once again to get the value of C*\n",
    "        \n",
    "        qc = self.get_circuit(state, backend, result['theta'])\n",
    "        qc = assemble(qc)\n",
    "        counts = backend.run(qc, shots=shots).result().get_counts()\n",
    "        \n",
    "        try:\n",
    "            result['cost'] = counts['0']/shots\n",
    "        except:\n",
    "            result['cost'] = 0\n",
    "        # no 0 counts presenta\n",
    "\n",
    "        # return the result\n",
    "        return result\n",
    "    \n",
    "    def get_eigen_pair(self,backend,algo = 'alternate',progress = False,randomize = True,\n",
    "                      basis=None,basis_ind = None, shots=512):\n",
    "        '''Finding the eigenstate pair for the unitary'''\n",
    "        #handle algorithm...\n",
    "        \n",
    "        self.unitary_circuit = self.get_unitary_circuit(backend)\n",
    "        if not isinstance(algo,str):\n",
    "            raise TypeError(\"Algorithm must be mentioned as a string from the values {alternate,standard}\")\n",
    "        elif algo not in ['alternate','standard']:\n",
    "            raise ValueError(\"Algorithm must be specified as 'alternate' or 'standard' \")\n",
    "        \n",
    "        # handle progress...\n",
    "        if not isinstance(progress,bool):\n",
    "            raise TypeError(\"Progress must be a boolean variable\")\n",
    "        if not isinstance(randomize,bool):\n",
    "            raise Exception(\"Randomize must be a boolean variable\")\n",
    "        \n",
    "        results = dict() \n",
    "        \n",
    "        # first initialize the state phi \n",
    "        if basis is None:\n",
    "            self.basis = self.get_basis_vectors(randomize)\n",
    "        else:\n",
    "            # is basis is specified, given as array of vectors...\n",
    "            self.basis = basis \n",
    "            \n",
    "        # choose a random index \n",
    "        if basis_ind is None:\n",
    "            ind = np.random.choice(self.dims) \n",
    "        else:\n",
    "            # choose the index given in that basis\n",
    "            ind = basis_ind\n",
    "            \n",
    "        phi = self.basis[ind]\n",
    "        \n",
    "        # doing the method 1 of our algorithm \n",
    "        # define resolution of angles and precision \n",
    "        precision = 1/10**self.error \n",
    "        samples = self.resolution \n",
    "        \n",
    "        # initialization of range \n",
    "        left,right = 0,1\n",
    "        \n",
    "        # generate the angles\n",
    "        angles = np.linspace(left,right,samples)\n",
    "\n",
    "        # iterate once \n",
    "        if algo == 'alternate':\n",
    "            result = self.get_alternate_cost(angles,phi,backend,shots)\n",
    "        else:\n",
    "            result = self.get_standard_cost(angles,phi,backend,shots)\n",
    "        # get initial estimates \n",
    "        cost = result['cost']\n",
    "        theta_max = result['theta']\n",
    "        best_phi = phi \n",
    "\n",
    "        # the range upto which theta extends iin each iteration \n",
    "        angle_range = 0.5\n",
    "        # a parameter \n",
    "        a = 1 \n",
    "        # start algorithm        \n",
    "        iters = 0 \n",
    "        found = True\n",
    "        plus = (1/np.sqrt(2))*np.array([1,1])\n",
    "        minus = (1/np.sqrt(2))*np.array([1,-1])\n",
    "        \n",
    "        while 1 - cost >= precision:\n",
    "            # get angles, note if theta didn't change, then we need to \n",
    "            # again generate the same range again \n",
    "            right = min(1,theta_max + angle_range/2)\n",
    "            left = max(0,theta_max - angle_range/2)\n",
    "            if progress:\n",
    "                print(\"Right :\",right) \n",
    "                print(\"Left :\",left)\n",
    "            # generate the angles only if the theta has been updated \n",
    "            if found == True: \n",
    "                angles = np.linspace(left,right,samples)\n",
    "            \n",
    "            found = False # for this iteration \n",
    "            if progress:\n",
    "                print(\"ITERATION NUMBER\",iters+1,\"...\")\n",
    "            \n",
    "            # generate a cost dict for each of the iterations \n",
    "            \n",
    "            thetas, costs, states = [],[],[] \n",
    "            \n",
    "            for i in range((2*self.dims)):\n",
    "                # everyone is supplied with the same range of theta in one iteration \n",
    "                #define z\n",
    "                if i < self.dims:\n",
    "                    z = 1 \n",
    "                else:\n",
    "                    z = 1j \n",
    "                    \n",
    "                # alter and normalise phi \n",
    "                curr_phi = best_phi + z*a*(1 - cost)*self.basis[i % self.dims]\n",
    "                curr_phi = curr_phi / np.linalg.norm(curr_phi)\n",
    "                \n",
    "                # iterate (angles would be same until theta is changed)\n",
    "                if algo == 'alternate':\n",
    "                    res = self.get_alternate_cost(angles,curr_phi,backend,shots)\n",
    "                else:\n",
    "                    res = self.get_standard_cost(angles,curr_phi,backend,shots)\n",
    "                curr_cost = res['cost']\n",
    "                curr_theta = res['theta']\n",
    "                \n",
    "                # append these parameters \n",
    "                \n",
    "                # bundle the circuits together ...\n",
    "                \n",
    "                if curr_cost > cost: # then only add this cost in the cost and states list \n",
    "                    thetas.append(float(curr_theta))\n",
    "                    costs.append(float(curr_cost))\n",
    "                    states.append(curr_phi)\n",
    "                    found = True\n",
    "                    \n",
    "                    # now each iteration would see the same state as the best phi \n",
    "                    # is updated once at the end of the iteration \n",
    "                    \n",
    "                    # also, the cost is also updated only once at the end of the iteration\n",
    "    \n",
    "                if progress:\n",
    "                    sys.stdout.write('\\r')\n",
    "                    sys.stdout.write(\"%f %%completed\" % (100*(i+1)/(2*self.dims)))\n",
    "                    sys.stdout.flush()\n",
    "                \n",
    "            # 1 iteration completes\n",
    "            \n",
    "            if found == False:\n",
    "                # phi was not updated , change a \n",
    "                a = a/2\n",
    "                if progress:\n",
    "                    print(\"\\nNo change, updating a...\")\n",
    "            else:\n",
    "                # if found is actually true, then only update \n",
    "                \n",
    "                # O(n) , would update this though \n",
    "                index = np.argmax(costs)\n",
    "                # update the parameters of the model \n",
    "                cost = costs[index]\n",
    "                theta_max = thetas[index]\n",
    "                best_phi = states[index]\n",
    "                if progress:\n",
    "                    print(\"Best Phi is :\",best_phi)\n",
    "                    print(\"Theta estimate :\",theta_max)\n",
    "                    print(\"Current cost :\",cost) \n",
    "                angle_range /= 2 # updated phi and thus theta too -> refine theta range\n",
    "            \n",
    "            # update the iterations \n",
    "            iters+=1 \n",
    "            if progress:\n",
    "                print(\"\\nCOST :\",cost)\n",
    "                print(\"THETA :\",theta_max)\n",
    "            \n",
    "            if iters >= self.iterations:\n",
    "                print(\"Maximum iterations reached for the estimation.\\nTerminating algorithm...\")\n",
    "                break \n",
    "        \n",
    "        # add cost, eigenvector and theta to the dict \n",
    "        results['cost'] = cost \n",
    "        results['theta'] = theta_max \n",
    "        results['state'] = best_phi \n",
    "        return results\n",
    "            "
   ]
  },
  {
   "cell_type": "markdown",
   "metadata": {},
   "source": [
    "## Testing the circuit\n",
    "- We test our algorithm with the $CZ$ gate with phase as $\\frac{1}{4}$"
   ]
  },
  {
   "cell_type": "code",
   "execution_count": 11,
   "metadata": {
    "ExecuteTime": {
     "end_time": "2021-06-13T17:29:02.478931Z",
     "start_time": "2021-06-13T17:29:02.401242Z"
    }
   },
   "outputs": [],
   "source": [
    "simulator = Aer.get_backend('qasm_simulator')"
   ]
  },
  {
   "cell_type": "code",
   "execution_count": 25,
   "metadata": {
    "ExecuteTime": {
     "end_time": "2021-06-13T17:30:12.624041Z",
     "start_time": "2021-06-13T17:30:12.467246Z"
    }
   },
   "outputs": [
    {
     "data": {
      "image/png": "[encoded data removed]",
      "text/plain": [
       "<Figure size 206.852x144.48 with 1 Axes>"
      ]
     },
     "execution_count": 25,
     "metadata": {},
     "output_type": "execute_result"
    }
   ],
   "source": [
    "U = QuantumCircuit(2)\n",
    "U.cp(2*np.pi*(1/3),0,1)\n",
    "U.draw('mpl')"
   ]
  },
  {
   "cell_type": "code",
   "execution_count": 26,
   "metadata": {
    "ExecuteTime": {
     "end_time": "2021-06-13T17:30:13.111330Z",
     "start_time": "2021-06-13T17:30:13.100708Z"
    }
   },
   "outputs": [],
   "source": [
    "spe = global_max_SPEA(U,resolution= 40,error = 3,max_iters=15)"
   ]
  },
  {
   "cell_type": "code",
   "execution_count": 31,
   "metadata": {
    "ExecuteTime": {
     "end_time": "2021-06-13T17:30:24.863286Z",
     "start_time": "2021-06-13T17:30:22.716081Z"
    }
   },
   "outputs": [
    {
     "name": "stdout",
     "output_type": "stream",
     "text": [
      "Maximum iterations reached for the estimation.\n",
      "Terminating algorithm...\n"
     ]
    }
   ],
   "source": [
    "# O(max_iters*(shots+resolution)*|Bm|)\n",
    "result = spe.get_eigen_pair(progress = False,algo = 'alternate',backend=simulator,shots=512)"
   ]
  },
  {
   "cell_type": "code",
   "execution_count": 32,
   "metadata": {
    "ExecuteTime": {
     "end_time": "2021-06-13T17:30:24.910437Z",
     "start_time": "2021-06-13T17:30:24.897201Z"
    }
   },
   "outputs": [
    {
     "data": {
      "text/plain": [
       "{'cost': 0.96484375,\n",
       " 'theta': 0.06474204881656805,\n",
       " 'state': array([ 0.73612636+0.11523528j, -0.47886654+0.20907851j,\n",
       "        -0.05436282-0.35496175j,  0.18145652+0.09966041j])}"
      ]
     },
     "execution_count": 32,
     "metadata": {},
     "output_type": "execute_result"
    }
   ],
   "source": [
    "result "
   ]
  },
  {
   "cell_type": "markdown",
   "metadata": {},
   "source": [
    "## Testing for the 3-qubit Unitary "
   ]
  },
  {
   "cell_type": "code",
   "execution_count": 33,
   "metadata": {
    "ExecuteTime": {
     "end_time": "2021-06-13T17:31:17.786115Z",
     "start_time": "2021-06-13T17:30:48.440897Z"
    }
   },
   "outputs": [
    {
     "name": "stdout",
     "output_type": "stream",
     "text": [
      "Maximum iterations reached for the estimation.\n",
      "Terminating algorithm...\n",
      "Maximum iterations reached for the estimation.\n",
      "Terminating algorithm...\n",
      "Maximum iterations reached for the estimation.\n",
      "Terminating algorithm...\n",
      "Maximum iterations reached for the estimation.\n",
      "Terminating algorithm...\n",
      "Maximum iterations reached for the estimation.\n",
      "Terminating algorithm...\n",
      "Maximum iterations reached for the estimation.\n",
      "Terminating algorithm...\n",
      "Maximum iterations reached for the estimation.\n",
      "Terminating algorithm...\n"
     ]
    }
   ],
   "source": [
    "U = QuantumCircuit(3)\n",
    "U.cp(2*np.pi*(1/3),1,2)\n",
    "U.draw('mpl')\n",
    "\n",
    "errors = []\n",
    "eigvals = np.array([0.0,1/3,1.0])\n",
    "\n",
    "for resolution in range(10,80,10):\n",
    "    spe = global_max_SPEA(U,resolution= resolution,error = 4,max_iters=15)    \n",
    "    res = spe.get_eigen_pair(backend = simulator)\n",
    "    theta = res['theta']\n",
    "    min_error = 1e5 \n",
    "    # get percentage error \n",
    "    for e in eigvals:\n",
    "        error = abs(e-theta) \n",
    "        if error < min_error:\n",
    "            min_error = error \n",
    "            if e != 0:\n",
    "                perc_error = (error/e)*100 \n",
    "            else:\n",
    "                perc_error = error*100\n",
    "    errors.append(perc_error)"
   ]
  },
  {
   "cell_type": "code",
   "execution_count": 34,
   "metadata": {
    "ExecuteTime": {
     "end_time": "2021-06-13T17:31:32.973775Z",
     "start_time": "2021-06-13T17:31:32.427658Z"
    },
    "scrolled": true
   },
   "outputs": [
    {
     "data": {
      "image/png": "[encoded data removed]",
      "text/plain": [
       "<Figure size 432x288 with 1 Axes>"
      ]
     },
     "metadata": {
      "needs_background": "light"
     },
     "output_type": "display_data"
    }
   ],
   "source": [
    "plt.title(\"Eigenphase estimation for theta = 1/3, 0, 1 (3-qubit unitary)\",fontsize = 15)\n",
    "plt.grid()\n",
    "plt.plot(list(range(10,80,10)),errors,marker = 'o',color='g',label = 'Estimates',alpha=0.7)\n",
    "# plt.plot([10,80],[0.25,0.25],color='black',label = \"True\")\n",
    "# plt.plot([10,80],[0,0],color='black',label = \"True\")\n",
    "# plt.plot([10,80],[1,1],color='black',label = \"True\")\n",
    "plt.legend()\n",
    "plt.xlabel(\"Resolution of theta \")\n",
    "plt.ylabel(\"Errors from closest eigvals\")\n",
    "plt.savefig(\"Alternate_SPE_PLOT_1.jpg\",dpi = 200)"
   ]
  },
  {
   "cell_type": "markdown",
   "metadata": {},
   "source": [
    "## Testing for 2 qubit unitary on simulator\n",
    "- 2 qubit controlled phase unitary is used for testing on actual backends"
   ]
  },
  {
   "cell_type": "code",
   "execution_count": 35,
   "metadata": {
    "ExecuteTime": {
     "end_time": "2021-06-13T17:32:00.682144Z",
     "start_time": "2021-06-13T17:32:00.549596Z"
    }
   },
   "outputs": [
    {
     "data": {
      "image/png": "[encoded data removed]",
      "text/plain": [
       "<Figure size 146.652x144.48 with 1 Axes>"
      ]
     },
     "execution_count": 35,
     "metadata": {},
     "output_type": "execute_result"
    }
   ],
   "source": [
    "U = QuantumCircuit(2)\n",
    "U.cp(2*np.pi*(1/2),0,1)\n",
    "U.draw('mpl')"
   ]
  },
  {
   "cell_type": "code",
   "execution_count": 36,
   "metadata": {
    "ExecuteTime": {
     "end_time": "2021-06-13T17:32:01.682724Z",
     "start_time": "2021-06-13T17:32:01.665737Z"
    }
   },
   "outputs": [],
   "source": [
    "eigvals = np.array([0.0,1/2,1.0])"
   ]
  },
  {
   "cell_type": "code",
   "execution_count": 39,
   "metadata": {
    "ExecuteTime": {
     "end_time": "2021-06-13T17:34:24.904471Z",
     "start_time": "2021-06-13T17:33:41.784762Z"
    },
    "scrolled": true
   },
   "outputs": [
    {
     "name": "stdout",
     "output_type": "stream",
     "text": [
      "Maximum iterations reached for the estimation.\n",
      "Terminating algorithm...\n",
      "Maximum iterations reached for the estimation.\n",
      "Terminating algorithm...\n",
      "Maximum iterations reached for the estimation.\n",
      "Terminating algorithm...\n",
      "Maximum iterations reached for the estimation.\n",
      "Terminating algorithm...\n",
      "Percentage Errors in current iteration: [3.1523276748971187, 4.716435185185186, 5.237268518518523, 4.527939719554945]\n",
      "Errors : [4.408492774538943]\n",
      "Maximum iterations reached for the estimation.\n",
      "Terminating algorithm...\n",
      "Maximum iterations reached for the estimation.\n",
      "Terminating algorithm...\n",
      "Maximum iterations reached for the estimation.\n",
      "Terminating algorithm...\n",
      "Maximum iterations reached for the estimation.\n",
      "Terminating algorithm...\n",
      "Percentage Errors in current iteration: [7.918883948097388, 0.0, 3.9652929113496715, 6.1447550663362005]\n",
      "Errors : [4.408492774538943, 4.507232981445815]\n",
      "Maximum iterations reached for the estimation.\n",
      "Terminating algorithm...\n",
      "Maximum iterations reached for the estimation.\n",
      "Terminating algorithm...\n",
      "Maximum iterations reached for the estimation.\n",
      "Terminating algorithm...\n",
      "Maximum iterations reached for the estimation.\n",
      "Terminating algorithm...\n",
      "Percentage Errors in current iteration: [7.208215665873959, 4.33728448275862, 4.743237217598095, 4.69284949157407]\n",
      "Errors : [4.408492774538943, 4.507232981445815, 5.245396714451186]\n",
      "Maximum iterations reached for the estimation.\n",
      "Terminating algorithm...\n",
      "Maximum iterations reached for the estimation.\n",
      "Terminating algorithm...\n",
      "Maximum iterations reached for the estimation.\n",
      "Terminating algorithm...\n",
      "Maximum iterations reached for the estimation.\n",
      "Terminating algorithm...\n",
      "Percentage Errors in current iteration: [5.981694313794906, 5.798237884605658, 4.49360001643655, 3.1786315546841415]\n",
      "Errors : [4.408492774538943, 4.507232981445815, 5.245396714451186, 4.863040942380314]\n",
      "Maximum iterations reached for the estimation.\n",
      "Terminating algorithm...\n",
      "Maximum iterations reached for the estimation.\n",
      "Terminating algorithm...\n",
      "Maximum iterations reached for the estimation.\n",
      "Terminating algorithm...\n",
      "Percentage Errors in current iteration: [5.301037142262153, 1.2755102040816313, 2.8210260694601605, 1.964847054396257]\n",
      "Errors : [4.408492774538943, 4.507232981445815, 5.245396714451186, 4.863040942380314, 2.8406051175500506]\n",
      "Maximum iterations reached for the estimation.\n",
      "Terminating algorithm...\n",
      "Maximum iterations reached for the estimation.\n",
      "Terminating algorithm...\n",
      "Maximum iterations reached for the estimation.\n",
      "Terminating algorithm...\n",
      "Maximum iterations reached for the estimation.\n",
      "Terminating algorithm...\n",
      "Percentage Errors in current iteration: [2.7048459901871373, 2.444870215552708, 6.779661016949157, 0.0]\n",
      "Errors : [4.408492774538943, 4.507232981445815, 5.245396714451186, 4.863040942380314, 2.8406051175500506, 2.9823443056722505]\n",
      "Maximum iterations reached for the estimation.\n",
      "Terminating algorithm...\n",
      "Maximum iterations reached for the estimation.\n",
      "Terminating algorithm...\n",
      "Maximum iterations reached for the estimation.\n",
      "Terminating algorithm...\n",
      "Maximum iterations reached for the estimation.\n",
      "Terminating algorithm...\n",
      "Percentage Errors in current iteration: [2.8738268635880138, 2.83369315516514, 5.49207270577062, 10.485538447957286]\n",
      "Errors : [4.408492774538943, 4.507232981445815, 5.245396714451186, 4.863040942380314, 2.8406051175500506, 2.9823443056722505, 5.421282793120265]\n"
     ]
    }
   ],
   "source": [
    "errors = []\n",
    "for resolution in range(10,80,10):\n",
    "    spe = global_max_SPEA(U,resolution= resolution,error = 3,max_iters=12)    \n",
    "    #run 5 experiments of this \n",
    "    p_errors = []\n",
    "    \n",
    "    for exp in range(4):\n",
    "        res = spe.get_eigen_pair(progress = False,backend = simulator)\n",
    "        theta = res['theta']\n",
    "        min_error = 1e5 \n",
    "        min_val = -1 \n",
    "        # get min error \n",
    "        \n",
    "        for e in eigvals:\n",
    "            error = abs(e-theta) \n",
    "            if error < min_error:\n",
    "                min_error = error \n",
    "                min_val = e \n",
    "                \n",
    "        # percent error in this experiment \n",
    "        if min_val!=0:\n",
    "            p_errors.append((min_error/min_val)*100)\n",
    "        else:\n",
    "            p_errors.append((min_error)*100)\n",
    "    print(\"Percentage Errors in current iteration:\",p_errors)\n",
    "    errors.append(np.average(p_errors))\n",
    "    print(\"Errors :\",errors) "
   ]
  },
  {
   "cell_type": "code",
   "execution_count": 40,
   "metadata": {
    "ExecuteTime": {
     "end_time": "2021-06-13T17:34:25.186913Z",
     "start_time": "2021-06-13T17:34:24.939253Z"
    }
   },
   "outputs": [
    {
     "data": {
      "image/png": "[encoded data removed]",
      "text/plain": [
       "<Figure size 432x288 with 1 Axes>"
      ]
     },
     "metadata": {
      "needs_background": "light"
     },
     "output_type": "display_data"
    }
   ],
   "source": [
    "plt.title(\"Eigenphase estimation for theta = 1/2, 0.0, 1.0 (2-qubit unitary)\",fontsize = 15)\n",
    "plt.grid()\n",
    "plt.plot(list(range(10,80,10)),errors,marker = 'o',color='orange',label = 'Estimates',alpha=0.7)\n",
    "# plt.plot([10,80],[0.25,0.25],color='black',label = \"True\")\n",
    "# plt.plot([10,80],[0,0],color='black',label = \"True\")\n",
    "# plt.plot([10,80],[1,1],color='black',label = \"True\")\n",
    "plt.legend()\n",
    "plt.xlabel(\"Resolution of theta \")\n",
    "plt.ylabel(\"Errors from closest eigvals\")\n",
    "plt.savefig(\"Alternate_SPE_PLOT_2(simulator).jpg\",dpi = 200)"
   ]
  },
  {
   "cell_type": "markdown",
   "metadata": {},
   "source": [
    "- This means that the algorithm runs pretty well with the alternate approach and also the running time is reduced drastically.\n",
    "- Next steps is to make this as a sub_routine in our original module to run **alternate algorithm** or **the standard algorithm**"
   ]
  },
  {
   "cell_type": "code",
   "execution_count": null,
   "metadata": {},
   "outputs": [],
   "source": []
  }
 ],
 "metadata": {
  "kernelspec": {
   "display_name": "Python 3",
   "language": "python",
   "name": "python3"
  },
  "language_info": {
   "codemirror_mode": {
    "name": "ipython",
    "version": 3
   },
   "file_extension": ".py",
   "mimetype": "text/x-python",
   "name": "python",
   "nbconvert_exporter": "python",
   "pygments_lexer": "ipython3",
   "version": "3.7.4"
  },
  "varInspector": {
   "cols": {
    "lenName": 16,
    "lenType": 16,
    "lenVar": 40
   },
   "kernels_config": {
    "python": {
     "delete_cmd_postfix": "",
     "delete_cmd_prefix": "del ",
     "library": "var_list.py",
     "varRefreshCmd": "print(var_dic_list())"
    },
    "r": {
     "delete_cmd_postfix": ") ",
     "delete_cmd_prefix": "rm(",
     "library": "var_list.r",
     "varRefreshCmd": "cat(var_dic_list()) "
    }
   },
   "types_to_exclude": [
    "module",
    "function",
    "builtin_function_or_method",
    "instance",
    "_Feature"
   ],
   "window_display": false
  }
 },
 "nbformat": 4,
 "nbformat_minor": 2
}
