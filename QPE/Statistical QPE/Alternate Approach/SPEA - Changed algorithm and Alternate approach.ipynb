{
 "cells": [
  {
   "cell_type": "markdown",
   "metadata": {},
   "source": [
    "## Alternate SPEA approach\n",
    "- This particular implementation of SPEA is based on the fact that that simulating circuits is very costly and thus we execute the quantum circuit once and iterate the angles range classically instead.\n",
    "- What do we iterate for ? The best $ \\phi $ value which minimizes $S$ where - \n",
    "$$  S = \\sum_{i=0}^{n-1} (P_{n-1} - C(n-1, \\phi))^{2} $$\n",
    "- Here, n is the number of dimensions of our qubit.(2 in our case)\n",
    "- $P_{i}$ is the experimental probability that we get $i$ when we run the circuit with negative phase as 0, and measure the control qubit\n",
    "- $C(n-1,\\phi)$ is the theoretical porbability that should have been obtained if the control register was an eigenstate of the unitary $U$ \n",
    "- Here,  $C(0,\\phi) = cos^{2}(\\pi \\phi)$ and $C(1,\\phi) = sin^{2}(\\pi \\phi)$\n",
    "\n",
    "- <font color = 'orange' size = 3>Instead of iterating over angles and creating **different** circuits, we create **one** circuit and iterate over the range to get the $\\phi$ with $min(S)$</font>"
   ]
  },
  {
   "cell_type": "markdown",
   "metadata": {},
   "source": [
    "#### Imports"
   ]
  },
  {
   "cell_type": "code",
   "execution_count": 1,
   "metadata": {
    "ExecuteTime": {
     "end_time": "2021-06-06T05:23:35.818161Z",
     "start_time": "2021-06-06T05:22:52.248649Z"
    }
   },
   "outputs": [],
   "source": [
    "from qiskit import QuantumCircuit, execute, transpile, Aer \n",
    "from qiskit.extensions import UnitaryGate,Initialize\n",
    "from qiskit.quantum_info import Statevector \n",
    "from qiskit.tools.visualization import plot_bloch_vector\n",
    "from qiskit.tools.visualization import plot_histogram,plot_bloch_multivector  \n",
    "import numpy as np \n",
    "from time import sleep \n",
    "import sys \n",
    "import os \n",
    "from scipy.stats import unitary_group \n",
    "import matplotlib.pyplot as plt \n",
    "%matplotlib inline \n",
    "\n",
    "from qiskit import IBMQ \n",
    "IBMQ.load_account()\n",
    "\n",
    "provider = IBMQ.get_provider(hub='ibm-q-education')\n",
    "simulator = Aer.get_backend('qasm_simulator')\n",
    "athens = provider.get_backend('ibmq_athens')\n"
   ]
  },
  {
   "cell_type": "markdown",
   "metadata": {},
   "source": [
    "## Alternate Algorithm"
   ]
  },
  {
   "cell_type": "code",
   "execution_count": 43,
   "metadata": {
    "ExecuteTime": {
     "end_time": "2021-06-06T07:24:14.104585Z",
     "start_time": "2021-06-06T07:24:14.012691Z"
    }
   },
   "outputs": [],
   "source": [
    "class global_max_SPEA():\n",
    "    def __init__(self,unitary,resolution = 100, error = 3, max_iters = 20):\n",
    "        \n",
    "        # handle resolution \n",
    "        if not isinstance(resolution,int):\n",
    "            raise TypeError(\"Please enter the number of intervals as an integer value\")  \n",
    "        if resolution < 10 or resolution > 1e6:\n",
    "            raise ValueError(\"Resolution needs to be atleast 0.1 and greater than 0.000001\")\n",
    "        \n",
    "        self.resolution = resolution \n",
    "        \n",
    "        # handle unitary\n",
    "        if not isinstance(unitary, np.ndarray) and not isinstance(unitary, QuantumCircuit)\\\n",
    "                and not isinstance(unitary, UnitaryGate):\n",
    "            raise TypeError(\"A numpy array or Quantum Circuit or UnitaryGate needs to be passed as the unitary matrix\")\n",
    "\n",
    "        # convert circuit to numpy array for uniformity \n",
    "        if isinstance(unitary, UnitaryGate):\n",
    "            U = unitary.to_matrix()\n",
    "        else: # both QC and ndarray type \n",
    "            U = unitary\n",
    "        \n",
    "        # note - the unitary here is not just a single qubit unitary \n",
    "        if isinstance(U,np.ndarray):\n",
    "            self.dims = U.shape[0]\n",
    "        else:\n",
    "            self.dims = 2**(U.num_qubits)\n",
    "        \n",
    "        \n",
    "        if isinstance(U,np.ndarray):\n",
    "            self.c_unitary_gate = UnitaryGate(data = U).control(num_ctrl_qubits = 1,label = 'CU',ctrl_state = '1')\n",
    "        else:\n",
    "            self.c_unitary_gate = U.control(num_ctrl_qubits = 1,label = 'CU',ctrl_state = '1')\n",
    "\n",
    "        # handle error \n",
    "        if not isinstance(error,int):\n",
    "            raise TypeError(\"The allowable error should be provided as an int. Interpreted as 10**(-error)\")\n",
    "        if error <= 0:\n",
    "            raise ValueError(\"The error threshold must be finite and greater than 0.\")\n",
    "            \n",
    "        self.error = error \n",
    "        \n",
    "        # handle max_iters \n",
    "        if not isinstance(max_iters,int):\n",
    "            raise TypeError(\"Max iterations must be of integer type\")\n",
    "        if max_iters <= 0 and max_iters > 1e5:\n",
    "            raise ValueError(\"Max iterations should be atleast 1 and less than 1e5\")\n",
    "        \n",
    "        self.iterations = max_iters \n",
    "        self.basis = []\n",
    "    \n",
    "    def get_basis_vectors(self,randomize = True):\n",
    "        # get the d dimensional basis for the unitary provided \n",
    "        if randomize == True:\n",
    "            UR = unitary_group.rvs(self.dims)\n",
    "        else:\n",
    "            UR = np.identity(self.dims)\n",
    "\n",
    "        basis = []\n",
    "        for k in UR:\n",
    "            basis.append(np.array(k,dtype = complex))\n",
    "        return basis \n",
    "    \n",
    "    def get_standard_cost(self,angles,state,backend):\n",
    "        '''Given an initial state and a set of angles,\n",
    "          return the best cost and the associated angle\n",
    "          state is a normalized state in ndarray form'''\n",
    "        result = {'cost' : -1, 'theta' : -1}\n",
    "        # all theta values are iterated over for the same state\n",
    "        phi = Initialize(state)\n",
    "        shots = 512\n",
    "        circuits = []\n",
    "        \n",
    "        for theta in angles:\n",
    "            qc = QuantumCircuit(1 + int(np.log2(self.dims)), 1)\n",
    "            # initialize the circuit \n",
    "            qc = qc.compose(phi, qubits = list(range(1,int(np.log2(self.dims))+1)))\n",
    "            # add hadamard\n",
    "            qc.h(0)\n",
    "            # add unitary which produces a phase kickback on control qubit\n",
    "            qc = qc.compose(self.c_unitary_gate,qubits = range(1+int(np.log2(self.dims))))\n",
    "            # add the inv rotation \n",
    "            qc.p(-2*np.pi*theta,0)\n",
    "            # add hadamard \n",
    "            qc.h(0)\n",
    "            # measure \n",
    "            qc.measure([0],[0])\n",
    "            #generate all the circuits...\n",
    "            circuits.append(qc)\n",
    "                \n",
    "        #execute only once...\n",
    "        counts = execute(circuits,backend = backend,shots = shots).result().get_counts()\n",
    "        # get the cost for this theta \n",
    "        for k,theta in zip(counts,angles):\n",
    "            # for all experiments you ran \n",
    "            try:\n",
    "                C_val = (k['0'])/shots\n",
    "            except:\n",
    "                C_val = 0 \n",
    "\n",
    "            if C_val > result['cost']:\n",
    "                # means this is a better theta value  \n",
    "                result['theta'] = theta \n",
    "                result['cost'] = C_val \n",
    "        return result \n",
    "        \n",
    "    \n",
    "    def get_alternate_cost(self,angles,state,backend):\n",
    "        '''Given an initial state and a set of angles,\n",
    "          return the best cost and the associated angle\n",
    "          state is a normalized state in ndarray form'''\n",
    "        result = {'cost' : -1, 'theta' : -1}\n",
    "        # all theta values are iterated over for the same state\n",
    "        phi = Initialize(state)\n",
    "        shots = 512\n",
    "        \n",
    "        # run the circuit once\n",
    "        qc = QuantumCircuit(1 + int(np.log2(self.dims)), 1)\n",
    "        # initialize the circuit \n",
    "        qc = qc.compose(phi, qubits = list(range(1,int(np.log2(self.dims))+1)))\n",
    "        # add hadamard\n",
    "        qc.h(0)\n",
    "        # add unitary which produces a phase kickback on control qubit\n",
    "        qc = qc.compose(self.c_unitary_gate,qubits = range(1+int(np.log2(self.dims))))\n",
    "        # add hadamard \n",
    "        qc.h(0)\n",
    "        # measure \n",
    "        qc.measure([0],[0])\n",
    "        \n",
    "                \n",
    "        #execute only once...\n",
    "        counts = execute(qc,backend = backend,shots = shots).result().get_counts()\n",
    "        \n",
    "        #generate experimental probabilities\n",
    "        try:\n",
    "            p0 = counts['0']/shots \n",
    "        except:\n",
    "            p0 = 0 \n",
    "        try:\n",
    "            p1 = counts['1']/shots\n",
    "        except:\n",
    "            p1 = 0\n",
    "        \n",
    "        # now, find the best theta as specified by the \n",
    "        # alternate method classically\n",
    "        min_s = 1e5 \n",
    "        for theta in angles:\n",
    "            # generate theoretical probabilities\n",
    "            c0 = (np.cos(np.pi*theta))**2 \n",
    "            c1 = (np.sin(np.pi*theta))**2 \n",
    "            \n",
    "            #generate s value \n",
    "            s = (p0-c0)**2 + (p1-c1)**2 \n",
    "            if s < min_s:\n",
    "                result['theta'] = theta \n",
    "                min_s = s \n",
    "                \n",
    "                \n",
    "        # now , we have the best theta stored in phi \n",
    "        # run circuit once again to get the value of C* \n",
    "        phi = Initialize(state) \n",
    "        # run the circuit once again\n",
    "        qc = QuantumCircuit(1 + int(np.log2(self.dims)), 1)\n",
    "        # initialize the circuit \n",
    "        qc = qc.compose(phi, qubits = list(range(1,int(np.log2(self.dims))+1)))\n",
    "        # add hadamard\n",
    "        qc.h(0)\n",
    "        # add unitary which produces a phase kickback on control qubit\n",
    "        qc = qc.compose(self.c_unitary_gate,qubits = range(1+int(np.log2(self.dims))))\n",
    "        # add inv rotation \n",
    "        qc.p(-2*np.pi*(result['theta']),0)\n",
    "        # add hadamard \n",
    "        qc.h(0)\n",
    "        # measure \n",
    "        qc.measure([0],[0])\n",
    "        \n",
    "        counts = execute(qc,backend = backend,shots = shots).result().get_counts()\n",
    "        try:\n",
    "            result['cost'] = counts['0']/shots \n",
    "        except: \n",
    "            result['cost'] = 0 \n",
    "        # no 0 counts present\n",
    "        \n",
    "        # return the result\n",
    "        return result \n",
    "    \n",
    "    \n",
    "    def get_eigen_pair(self,backend,algo = 'alternate',progress = False,randomize = True,):\n",
    "        '''Finding the eigenstate pair for the unitary'''\n",
    "        #handle algorithm...\n",
    "        if not isinstance(algo,str):\n",
    "            raise TypeError(\"Algorithm must be mentioned as a string from the values {alternate,standard}\")\n",
    "        elif algo not in ['alternate','standard']:\n",
    "            raise ValueError(\"Algorithm must be specified as 'alternate' or 'standard' \")\n",
    "        \n",
    "        # handle progress...\n",
    "        if not isinstance(progress,bool):\n",
    "            raise TypeError(\"Progress must be a boolean variable\")\n",
    "        if not isinstance(randomize,bool):\n",
    "            raise Exception(\"Randomize must be a boolean variable\")\n",
    "        \n",
    "        results = dict() \n",
    "        \n",
    "        # first initialize the state phi \n",
    "        self.basis = self.get_basis_vectors(randomize)\n",
    "        \n",
    "        # choose a random index \n",
    "        ind = np.random.choice(self.dims) \n",
    "        phi = self.basis[ind]\n",
    "        \n",
    "        # doing the method 1 of our algorithm \n",
    "        # define resolution of angles and precision \n",
    "        precision = 1/10**self.error \n",
    "        samples = self.resolution \n",
    "        \n",
    "        # initialization of range \n",
    "        left,right = 0,1\n",
    "        \n",
    "        # generate the angles\n",
    "        angles = np.linspace(left,right,samples)\n",
    "\n",
    "        # iterate once \n",
    "        if algo == 'alternate':\n",
    "            result = self.get_alternate_cost(angles,phi,backend)\n",
    "        else:\n",
    "            result = self.get_standard_cost(angles,phi,backend)\n",
    "        # get initial estimates \n",
    "        cost = result['cost']\n",
    "        theta_max = result['theta']\n",
    "        best_phi = phi \n",
    "\n",
    "        # the range upto which theta extends iin each iteration \n",
    "        angle_range = 0.5\n",
    "        # a parameter \n",
    "        a = 1 \n",
    "        # start algorithm        \n",
    "        iters = 0 \n",
    "        found = True\n",
    "        plus = (1/np.sqrt(2))*np.array([1,1])\n",
    "        minus = (1/np.sqrt(2))*np.array([1,-1])\n",
    "        \n",
    "        while 1 - cost >= precision:\n",
    "            # get angles, note if theta didn't change, then we need to \n",
    "            # again generate the same range again \n",
    "            right = min(1,theta_max + angle_range/2)\n",
    "            left = max(0,theta_max - angle_range/2)\n",
    "            if progress:\n",
    "                print(\"Right :\",right) \n",
    "                print(\"Left :\",left)\n",
    "            # generate the angles only if the theta has been updated \n",
    "            if found == True: \n",
    "                angles = np.linspace(left,right,samples)\n",
    "            \n",
    "            found = False # for this iteration \n",
    "            if progress:\n",
    "                print(\"ITERATION NUMBER\",iters+1,\"...\")\n",
    "            \n",
    "            # generate a cost dict for each of the iterations \n",
    "            \n",
    "            thetas, costs, states = [],[],[] \n",
    "            \n",
    "            for i in range((2*self.dims)):\n",
    "                # everyone is supplied with the same range of theta in one iteration \n",
    "                #define z\n",
    "                if i < self.dims:\n",
    "                    z = 1 \n",
    "                else:\n",
    "                    z = 1j \n",
    "                    \n",
    "                # alter and normalise phi \n",
    "                curr_phi = best_phi + z*a*(1 - cost)*self.basis[i % self.dims]\n",
    "                curr_phi = curr_phi / np.linalg.norm(curr_phi)\n",
    "                \n",
    "                # iterate (angles would be same until theta is changed)\n",
    "                if algo == 'alternate':\n",
    "                    res = self.get_alternate_cost(angles,curr_phi,backend)\n",
    "                else:\n",
    "                    res = self.get_standard_cost(angles,curr_phi,backend)\n",
    "                curr_cost = res['cost']\n",
    "                curr_theta = res['theta']\n",
    "                \n",
    "                # append these parameters \n",
    "                \n",
    "                # bundle the circuits together ...\n",
    "                \n",
    "                if curr_cost > cost: # then only add this cost in the cost and states list \n",
    "                    thetas.append(float(curr_theta))\n",
    "                    costs.append(float(curr_cost))\n",
    "                    states.append(curr_phi)\n",
    "                    found = True\n",
    "                    \n",
    "                    # now each iteration would see the same state as the best phi \n",
    "                    # is updated once at the end of the iteration \n",
    "                    \n",
    "                    # also, the cost is also updated only once at the end of the iteration\n",
    "    \n",
    "                if progress:\n",
    "                    sys.stdout.write('\\r')\n",
    "                    sys.stdout.write(\"%f %%completed\" % (100*(i+1)/(2*self.dims)))\n",
    "                    sys.stdout.flush()\n",
    "                \n",
    "            # 1 iteration completes\n",
    "            \n",
    "            if found == False:\n",
    "                # phi was not updated , change a \n",
    "                a = a/2\n",
    "                if progress:\n",
    "                    print(\"\\nNo change, updating a...\")\n",
    "            else:\n",
    "                # if found is actually true, then only update \n",
    "                \n",
    "                # O(n) , would update this though \n",
    "                index = np.argmax(costs)\n",
    "                # update the parameters of the model \n",
    "                cost = costs[index]\n",
    "                theta_max = thetas[index]\n",
    "                best_phi = states[index]\n",
    "                if progress:\n",
    "                    print(\"Best Phi is :\",best_phi)\n",
    "                    print(\"Theta estimate :\",theta_max)\n",
    "                    print(\"Current cost :\",cost) \n",
    "                angle_range /= 2 # updated phi and thus theta too -> refine theta range\n",
    "            \n",
    "            # update the iterations \n",
    "            iters+=1 \n",
    "            if progress:\n",
    "                print(\"\\nCOST :\",cost)\n",
    "                print(\"THETA :\",theta_max)\n",
    "            \n",
    "            if iters >= self.iterations:\n",
    "                print(\"Maximum iterations reached for the estimation.\\nTerminating algorithm...\")\n",
    "                break \n",
    "        \n",
    "        # add cost, eigenvector and theta to the dict \n",
    "        results['cost'] = cost \n",
    "        results['theta'] = theta_max \n",
    "        results['state'] = best_phi \n",
    "        return results\n",
    "            "
   ]
  },
  {
   "cell_type": "markdown",
   "metadata": {},
   "source": [
    "## Testing the circuit\n",
    "- We test our algorithm with the $X$ gate"
   ]
  },
  {
   "cell_type": "code",
   "execution_count": 44,
   "metadata": {
    "ExecuteTime": {
     "end_time": "2021-06-06T07:24:15.808970Z",
     "start_time": "2021-06-06T07:24:15.797603Z"
    }
   },
   "outputs": [],
   "source": [
    "simulator = Aer.get_backend('qasm_simulator')"
   ]
  },
  {
   "cell_type": "code",
   "execution_count": 45,
   "metadata": {
    "ExecuteTime": {
     "end_time": "2021-06-06T07:24:16.404299Z",
     "start_time": "2021-06-06T07:24:16.098832Z"
    }
   },
   "outputs": [
    {
     "data": {
      "image/png": "[encoded data removed]",
      "text/plain": [
       "<Figure size 206.852x144.48 with 1 Axes>"
      ]
     },
     "execution_count": 45,
     "metadata": {},
     "output_type": "execute_result"
    }
   ],
   "source": [
    "U = QuantumCircuit(2)\n",
    "U.cp(2*np.pi*(1/4),0,1)\n",
    "U.draw('mpl')"
   ]
  },
  {
   "cell_type": "code",
   "execution_count": 49,
   "metadata": {
    "ExecuteTime": {
     "end_time": "2021-06-06T07:24:26.413939Z",
     "start_time": "2021-06-06T07:24:26.388508Z"
    }
   },
   "outputs": [],
   "source": [
    "spe = global_max_SPEA(U,resolution= 40,error = 3,max_iters=20)"
   ]
  },
  {
   "cell_type": "code",
   "execution_count": 50,
   "metadata": {
    "ExecuteTime": {
     "end_time": "2021-06-06T07:24:36.653252Z",
     "start_time": "2021-06-06T07:24:27.362090Z"
    }
   },
   "outputs": [
    {
     "name": "stdout",
     "output_type": "stream",
     "text": [
      "Maximum iterations reached for the estimation.\n",
      "Terminating algorithm...\n"
     ]
    }
   ],
   "source": [
    "result = spe.get_eigen_pair(progress = False,algo = 'alternate',backend=simulator)"
   ]
  },
  {
   "cell_type": "code",
   "execution_count": 51,
   "metadata": {
    "ExecuteTime": {
     "end_time": "2021-06-06T07:24:36.719238Z",
     "start_time": "2021-06-06T07:24:36.707756Z"
    }
   },
   "outputs": [
    {
     "data": {
      "text/plain": [
       "{'cost': 0.966796875,\n",
       " 'theta': 0.05123078835812108,\n",
       " 'state': array([-0.22611043+0.31567312j, -0.4550564 +0.34816308j,\n",
       "         0.65839647-0.05719184j,  0.24408195+0.15683712j])}"
      ]
     },
     "execution_count": 51,
     "metadata": {},
     "output_type": "execute_result"
    }
   ],
   "source": [
    "result "
   ]
  },
  {
   "cell_type": "markdown",
   "metadata": {},
   "source": [
    "## Testing for the 3-qubit Unitary "
   ]
  },
  {
   "cell_type": "code",
   "execution_count": 52,
   "metadata": {
    "ExecuteTime": {
     "end_time": "2021-06-06T07:27:15.718001Z",
     "start_time": "2021-06-06T07:25:31.090018Z"
    }
   },
   "outputs": [
    {
     "name": "stdout",
     "output_type": "stream",
     "text": [
      "Maximum iterations reached for the estimation.\n",
      "Terminating algorithm...\n",
      "Maximum iterations reached for the estimation.\n",
      "Terminating algorithm...\n",
      "Maximum iterations reached for the estimation.\n",
      "Terminating algorithm...\n",
      "Maximum iterations reached for the estimation.\n",
      "Terminating algorithm...\n",
      "Maximum iterations reached for the estimation.\n",
      "Terminating algorithm...\n",
      "Maximum iterations reached for the estimation.\n",
      "Terminating algorithm...\n",
      "Maximum iterations reached for the estimation.\n",
      "Terminating algorithm...\n"
     ]
    }
   ],
   "source": [
    "U = QuantumCircuit(3)\n",
    "U.cp(2*np.pi*(1/3),1,2)\n",
    "U.draw('mpl')\n",
    "\n",
    "errors = []\n",
    "eigvals = np.array([0.0,0.25,1.0])\n",
    "\n",
    "for resolution in range(10,80,10):\n",
    "    spe = global_max_SPEA(U,resolution= resolution,error = 4,max_iters=15)    \n",
    "    res = spe.get_eigen_pair(backend = simulator)\n",
    "    theta = res['theta']\n",
    "    min_error = 1e5 \n",
    "    # get percentage error \n",
    "    for e in eigvals:\n",
    "        error = abs(e-theta) \n",
    "        if error < min_error:\n",
    "            min_error = error \n",
    "            if e != 0:\n",
    "                perc_error = (error/e)*100 \n",
    "            else:\n",
    "                perc_error = error*100\n",
    "    errors.append(perc_error)"
   ]
  },
  {
   "cell_type": "code",
   "execution_count": 53,
   "metadata": {
    "ExecuteTime": {
     "end_time": "2021-06-06T07:27:16.411870Z",
     "start_time": "2021-06-06T07:27:15.773403Z"
    },
    "scrolled": true
   },
   "outputs": [
    {
     "data": {
      "image/png": "[encoded data removed]",
      "text/plain": [
       "<Figure size 432x288 with 1 Axes>"
      ]
     },
     "metadata": {
      "needs_background": "light"
     },
     "output_type": "display_data"
    }
   ],
   "source": [
    "plt.title(\"Eigenphase estimation for theta = 1/4, 0, 1 (3-qubit unitary)\",fontsize = 15)\n",
    "plt.grid()\n",
    "plt.plot(list(range(10,80,10)),errors,marker = 'o',color='g',label = 'Estimates',alpha=0.7)\n",
    "# plt.plot([10,80],[0.25,0.25],color='black',label = \"True\")\n",
    "# plt.plot([10,80],[0,0],color='black',label = \"True\")\n",
    "# plt.plot([10,80],[1,1],color='black',label = \"True\")\n",
    "plt.legend()\n",
    "plt.xlabel(\"Resolution of theta \")\n",
    "plt.ylabel(\"Errors from closest eigvals\")\n",
    "plt.savefig(\"Alternate_SPE_PLOT_1.jpg\",dpi = 200)"
   ]
  },
  {
   "cell_type": "markdown",
   "metadata": {},
   "source": [
    "## Testing for 2 qubit unitary on simulator\n",
    "- 2 qubit controlled phase unitary is used for testing on actual backends"
   ]
  },
  {
   "cell_type": "code",
   "execution_count": 32,
   "metadata": {
    "ExecuteTime": {
     "end_time": "2021-06-06T06:57:26.198166Z",
     "start_time": "2021-06-06T06:57:25.935651Z"
    }
   },
   "outputs": [
    {
     "data": {
      "image/png": "[encoded data removed]",
      "text/plain": [
       "<Figure size 146.652x144.48 with 1 Axes>"
      ]
     },
     "execution_count": 32,
     "metadata": {},
     "output_type": "execute_result"
    }
   ],
   "source": [
    "U = QuantumCircuit(2)\n",
    "U.cp(2*np.pi*(1/2),0,1)\n",
    "U.draw('mpl')"
   ]
  },
  {
   "cell_type": "code",
   "execution_count": 33,
   "metadata": {
    "ExecuteTime": {
     "end_time": "2021-06-06T06:57:26.821095Z",
     "start_time": "2021-06-06T06:57:26.802486Z"
    }
   },
   "outputs": [],
   "source": [
    "eigvals = np.array([0.0,1/2,1.0])"
   ]
  },
  {
   "cell_type": "code",
   "execution_count": 36,
   "metadata": {
    "ExecuteTime": {
     "end_time": "2021-06-06T07:03:35.883487Z",
     "start_time": "2021-06-06T07:00:36.513753Z"
    }
   },
   "outputs": [
    {
     "name": "stdout",
     "output_type": "stream",
     "text": [
      "Maximum iterations reached for the estimation.\n",
      "Terminating algorithm...\n",
      "Maximum iterations reached for the estimation.\n",
      "Terminating algorithm...\n",
      "Maximum iterations reached for the estimation.\n",
      "Terminating algorithm...\n",
      "Maximum iterations reached for the estimation.\n",
      "Terminating algorithm...\n",
      "Percentage Errors in current iteration: [4.758230452674894, 6.9339956275720205, 3.456147119341557, 0.0]\n",
      "Errors : [3.787093299897118]\n",
      "Maximum iterations reached for the estimation.\n",
      "Terminating algorithm...\n",
      "Maximum iterations reached for the estimation.\n",
      "Terminating algorithm...\n",
      "Maximum iterations reached for the estimation.\n",
      "Terminating algorithm...\n",
      "Maximum iterations reached for the estimation.\n",
      "Terminating algorithm...\n",
      "Percentage Errors in current iteration: [28.78289473684208, 7.715384781855953, 4.10039201279917, 19.983552631578938]\n",
      "Errors : [3.787093299897118, 15.145556040769035]\n",
      "Maximum iterations reached for the estimation.\n",
      "Terminating algorithm...\n",
      "Maximum iterations reached for the estimation.\n",
      "Terminating algorithm...\n",
      "Maximum iterations reached for the estimation.\n",
      "Terminating algorithm...\n",
      "Maximum iterations reached for the estimation.\n",
      "Terminating algorithm...\n",
      "Percentage Errors in current iteration: [7.9774693509368975, 21.336206896551722, 3.6379385622104214, 4.499226726188022]\n",
      "Errors : [3.787093299897118, 15.145556040769035, 9.362710383971764]\n",
      "Maximum iterations reached for the estimation.\n",
      "Terminating algorithm...\n",
      "Maximum iterations reached for the estimation.\n",
      "Terminating algorithm...\n",
      "Maximum iterations reached for the estimation.\n",
      "Terminating algorithm...\n",
      "Percentage Errors in current iteration: [1.2820512820512775, 8.423754140747485, 3.9653310263801838, 4.27818632099326]\n",
      "Errors : [3.787093299897118, 15.145556040769035, 9.362710383971764, 4.487330692543052]\n",
      "Maximum iterations reached for the estimation.\n",
      "Terminating algorithm...\n",
      "Maximum iterations reached for the estimation.\n",
      "Terminating algorithm...\n",
      "Maximum iterations reached for the estimation.\n",
      "Terminating algorithm...\n",
      "Maximum iterations reached for the estimation.\n",
      "Terminating algorithm...\n",
      "Percentage Errors in current iteration: [3.8795951065787038, 2.0451573263326805, 4.6838394158683965, 4.208107909969485]\n",
      "Errors : [3.787093299897118, 15.145556040769035, 9.362710383971764, 4.487330692543052, 3.7041749396873165]\n",
      "Maximum iterations reached for the estimation.\n",
      "Terminating algorithm...\n",
      "Maximum iterations reached for the estimation.\n",
      "Terminating algorithm...\n",
      "Maximum iterations reached for the estimation.\n",
      "Terminating algorithm...\n",
      "Maximum iterations reached for the estimation.\n",
      "Terminating algorithm...\n",
      "Percentage Errors in current iteration: [4.309106578569377, 8.30108984487216, 15.141684322033889, 5.092064677903052]\n",
      "Errors : [3.787093299897118, 15.145556040769035, 9.362710383971764, 4.487330692543052, 3.7041749396873165, 8.21098635584462]\n",
      "Maximum iterations reached for the estimation.\n",
      "Terminating algorithm...\n",
      "Maximum iterations reached for the estimation.\n",
      "Terminating algorithm...\n",
      "Maximum iterations reached for the estimation.\n",
      "Terminating algorithm...\n",
      "Maximum iterations reached for the estimation.\n",
      "Terminating algorithm...\n",
      "Percentage Errors in current iteration: [6.233790398436567, 9.562805214240711, 5.116027072317653, 5.502717391304368]\n",
      "Errors : [3.787093299897118, 15.145556040769035, 9.362710383971764, 4.487330692543052, 3.7041749396873165, 8.21098635584462, 6.603835019074825]\n"
     ]
    }
   ],
   "source": [
    "errors = []\n",
    "for resolution in range(10,80,10):\n",
    "    spe = global_max_SPEA(U,resolution= resolution,error = 3,max_iters=12)    \n",
    "    #run 5 experiments of this \n",
    "    p_errors = []\n",
    "    \n",
    "    for exp in range(4):\n",
    "        res = spe.get_eigen_pair(progress = False,backend = simulator)\n",
    "        theta = res['theta']\n",
    "        min_error = 1e5 \n",
    "        min_val = -1 \n",
    "        # get min error \n",
    "        \n",
    "        for e in eigvals:\n",
    "            error = abs(e-theta) \n",
    "            if error < min_error:\n",
    "                min_error = error \n",
    "                min_val = e \n",
    "                \n",
    "        # percent error in this experiment \n",
    "        if min_val!=0:\n",
    "            p_errors.append((min_error/min_val)*100)\n",
    "        else:\n",
    "            p_errors.append((min_error)*100)\n",
    "    print(\"Percentage Errors in current iteration:\",p_errors)\n",
    "    errors.append(np.average(p_errors))\n",
    "    print(\"Errors :\",errors) "
   ]
  },
  {
   "cell_type": "code",
   "execution_count": 37,
   "metadata": {
    "ExecuteTime": {
     "end_time": "2021-06-06T07:03:36.518844Z",
     "start_time": "2021-06-06T07:03:35.952063Z"
    }
   },
   "outputs": [
    {
     "data": {
      "image/png": "[encoded data removed]",
      "text/plain": [
       "<Figure size 432x288 with 1 Axes>"
      ]
     },
     "metadata": {
      "needs_background": "light"
     },
     "output_type": "display_data"
    }
   ],
   "source": [
    "plt.title(\"Eigenphase estimation for theta = 1/2, 0.0, 1.0 (2-qubit unitary)\",fontsize = 15)\n",
    "plt.grid()\n",
    "plt.plot(list(range(10,80,10)),errors,marker = 'o',color='orange',label = 'Estimates',alpha=0.7)\n",
    "# plt.plot([10,80],[0.25,0.25],color='black',label = \"True\")\n",
    "# plt.plot([10,80],[0,0],color='black',label = \"True\")\n",
    "# plt.plot([10,80],[1,1],color='black',label = \"True\")\n",
    "plt.legend()\n",
    "plt.xlabel(\"Resolution of theta \")\n",
    "plt.ylabel(\"Errors from closest eigvals\")\n",
    "plt.savefig(\"Alternate_SPE_PLOT_2(simulator).jpg\",dpi = 200)"
   ]
  },
  {
   "cell_type": "markdown",
   "metadata": {},
   "source": [
    "- This means that the algorithm runs pretty well with the alternate approach and also the running time is reduced drastically.\n",
    "- Next steps is to make this as a sub_routine in our original module to run **alternate algorithm** or **the standard algorithm**"
   ]
  },
  {
   "cell_type": "code",
   "execution_count": null,
   "metadata": {},
   "outputs": [],
   "source": []
  }
 ],
 "metadata": {
  "kernelspec": {
   "display_name": "Python 3",
   "language": "python",
   "name": "python3"
  },
  "language_info": {
   "codemirror_mode": {
    "name": "ipython",
    "version": 3
   },
   "file_extension": ".py",
   "mimetype": "text/x-python",
   "name": "python",
   "nbconvert_exporter": "python",
   "pygments_lexer": "ipython3",
   "version": "3.7.4"
  },
  "varInspector": {
   "cols": {
    "lenName": 16,
    "lenType": 16,
    "lenVar": 40
   },
   "kernels_config": {
    "python": {
     "delete_cmd_postfix": "",
     "delete_cmd_prefix": "del ",
     "library": "var_list.py",
     "varRefreshCmd": "print(var_dic_list())"
    },
    "r": {
     "delete_cmd_postfix": ") ",
     "delete_cmd_prefix": "rm(",
     "library": "var_list.r",
     "varRefreshCmd": "cat(var_dic_list()) "
    }
   },
   "types_to_exclude": [
    "module",
    "function",
    "builtin_function_or_method",
    "instance",
    "_Feature"
   ],
   "window_display": false
  }
 },
 "nbformat": 4,
 "nbformat_minor": 2
}
