{
 "cells": [
  {
   "cell_type": "markdown",
   "metadata": {},
   "source": [
    "## Iterative QPE\n",
    "- This is a class implementing the iterative quantum phase estimation algorithm which uses a single ancillary qubit in our phase estimation procedure\n",
    "- This is a generic class which is used to implement single as well as multi qubit phase estimation\n"
   ]
  },
  {
   "cell_type": "code",
   "execution_count": 10,
   "metadata": {
    "ExecuteTime": {
     "end_time": "2021-05-27T06:16:47.202276Z",
     "start_time": "2021-05-27T06:16:35.756303Z"
    }
   },
   "outputs": [
    {
     "name": "stderr",
     "output_type": "stream",
     "text": [
      "ibmqfactory.load_account:WARNING:2021-05-27 11:46:36,953: Credentials are already in use. The existing account in the session will be replaced.\n"
     ]
    }
   ],
   "source": [
    "from qiskit import *\n",
    "from qiskit import transpile \n",
    "from qiskit.tools.visualization import plot_histogram\n",
    "import numpy as np\n",
    "import matplotlib.pyplot as plt\n",
    "from qiskit.tools.monitor import job_monitor \n",
    "from qiskit.extensions import UnitaryGate\n",
    "from qiskit.circuit import Gate \n",
    "from qiskit import IBMQ \n",
    "IBMQ.load_account()\n",
    "provider = IBMQ.get_provider(hub='ibm-q-education')\n",
    "%matplotlib inline"
   ]
  },
  {
   "cell_type": "code",
   "execution_count": 2,
   "metadata": {
    "ExecuteTime": {
     "end_time": "2021-05-25T05:29:21.464167Z",
     "start_time": "2021-05-25T05:28:12.062128Z"
    }
   },
   "outputs": [
    {
     "data": {
      "text/plain": [
       "{'qiskit-terra': '0.17.3', 'qiskit-aer': '0.8.2', 'qiskit-ignis': '0.6.0', 'qiskit-ibmq-provider': '0.13.1', 'qiskit-aqua': '0.9.1', 'qiskit': '0.26.0', 'qiskit-nature': None, 'qiskit-finance': None, 'qiskit-optimization': None, 'qiskit-machine-learning': None}"
      ]
     },
     "execution_count": 2,
     "metadata": {},
     "output_type": "execute_result"
    }
   ],
   "source": [
    "qiskit.__qiskit_version__"
   ]
  },
  {
   "cell_type": "code",
   "execution_count": 151,
   "metadata": {
    "ExecuteTime": {
     "end_time": "2021-05-27T07:19:29.097775Z",
     "start_time": "2021-05-27T07:19:29.048701Z"
    }
   },
   "outputs": [],
   "source": [
    "class IQPE():\n",
    "    '''Implements the iterative QPE algorithm upto n bit precision specified by user \n",
    "    \n",
    "    Attributes:\n",
    "        precision : int([1,...]): precision of the phase estimation ( also equal to number of qubits in scratch register)\n",
    "        unitary(np.ndarray or QuantumCircuit or UnitaryGate): unitary operator for which QPE is being applied.\n",
    "        unknown(bool) : a boolean variable used to specify whether exponentiation of unitary needs to be done or not \n",
    "                        (True : no exponentiation done) \n",
    "        powers(dict): contains the powers of the unitary matrix\n",
    "                      key : exponent, value : U^(exponent)\n",
    "        controls(dict): contains equivalent controlled U gates to be applied\n",
    "                      key : iteration number, value : controlled U gate\n",
    "                      \n",
    "    Methods : \n",
    "        get_powers(unitary,n) : generates powers of U from U^1 -> U^(2^(n-1)) and stores power in dict \n",
    "        get_controls() : generates the U^(2^j) control gates for faster simulation of the QPE algorithm\n",
    "        \n",
    "    '''\n",
    "    def __init__(self, precision, unitary, unknown=False):  # write docs\n",
    "        '''\n",
    "        Args :\n",
    "            precision(int) : The precision upto which the phase needs to be estimated.\n",
    "                             Interpreted as 2^(-precision).\n",
    "                             eg. precision = 4 means the phase is going to be precise\n",
    "                                 upto 2^(-4).\n",
    "            unitary(np.ndarray or UnitaryGate or QuantumCircuit):\n",
    "                            The unitary for which we want to determine the phase. Currently\n",
    "                            this class supports 2 x 2 matrices or single qubit gates.\n",
    "                            Shall be extended for higher order matrices.\n",
    "            unknown(bool) : Whether exponentiation is to be done or not \n",
    "        Raises :\n",
    "            TypeError : if precision or unitary are not of a valid type\n",
    "            ValueError : if precision is not valid\n",
    "            Exception : if unitary is of larger size than 2 x 2\n",
    "\n",
    "        Examples :\n",
    "            from iter_QPE import IQPE\n",
    "                # passing as ndarray\n",
    "                theta = 1/5\n",
    "                U1 = np.ndarray([[1,0],\n",
    "                                [0, np.exp(2*np.pi*1j*(theta))]])\n",
    "                                \n",
    "                qpe1 = IQPE(precision = 4, unitary = U1,unknown = True)\n",
    "\n",
    "                # passing as QuantumCircuit\n",
    "                U2 = QuantumCircuit(1)\n",
    "                U2.rz(np.pi/7,0)\n",
    "                qpe2 = IQPE(precision = 5,unitary = U2,unknown = True)\n",
    "\n",
    "        '''\n",
    "        # handle precision\n",
    "        if type(precision) != int:\n",
    "            raise TypeError(\"Precision needs to be an integer\")\n",
    "        elif precision < 0 or precision == 0:\n",
    "            raise ValueError(\"Precision needs to be atleast 1\")\n",
    "\n",
    "        self.precision = precision\n",
    "\n",
    "        # handle unitary\n",
    "        if not isinstance(unitary, np.ndarray) and not isinstance(unitary, QuantumCircuit)\\\n",
    "                and not isinstance(unitary, UnitaryGate) and not isinstance(unitary,Gate):\n",
    "            raise TypeError(\"A numpy array, Quantum Circuit or Gate needs to be passed as the unitary matrix\")\n",
    "    \n",
    "        if unknown == False:\n",
    "            # means matrix rep needed \n",
    "            if not isinstance(unitary,np.ndarray) and not isinstance(unitary,UnitaryGate):\n",
    "                raise TypeError('''Unitary needs to be of type ndarray or Unitary Gate if optimization  \n",
    "                                needs to be done''')\n",
    "            if isinstance(unitary, UnitaryGate):\n",
    "                U = unitary.to_matrix()\n",
    "            else:\n",
    "                U = unitary # already an array \n",
    "        else:\n",
    "            # if it is numpy type array \n",
    "            if isinstance(unitary,np.ndarray):\n",
    "                U = UnitaryGate(data = unitary)\n",
    "            else:\n",
    "                U = unitary \n",
    "            # here we can directly use the .control method in our circuit.\n",
    "            \n",
    "            \n",
    "        # the unitary is an ndarray if unknown is False and \n",
    "        # the unitary is not ndarray is unknown is true \n",
    "        self.unitary = U\n",
    "        self.unknown = unknown\n",
    "        self.powers = {}\n",
    "        \n",
    "        # optimization can only be performed when we know the \n",
    "        # matrix representation \n",
    "        if unknown == False:\n",
    "            self.controls = self.get_controls()\n",
    "\n",
    "    def get_powers(self, unitary, n):\n",
    "        '''This function returns the matrix U^(n) and saves \n",
    "           other smaller powers \n",
    "            \n",
    "        Arguments: \n",
    "            unitary(np.ndarray): \n",
    "                The Unitary matrix which needs to be exponentitated \n",
    "            n(int): integer specifying the exponent \n",
    "            \n",
    "        Raises:\n",
    "            ValueError : when n is < 0 \n",
    "        Returns: \n",
    "            a dictionary containing the relevant powers of the matrix U '''\n",
    "        if n < 0:\n",
    "            raise ValueError(\"Power should be atleast 0\")\n",
    "        if n == 1:\n",
    "            self.powers[1] = unitary\n",
    "            return unitary\n",
    "        if n % 2 == 1:\n",
    "            if n-1 not in self.powers:\n",
    "                self.powers[n-1] = self.get_powers(unitary, n-1)\n",
    "                \n",
    "            self.powers[n] = unitary @ self.powers[n-1]\n",
    "            return self.powers[n]\n",
    "        else:\n",
    "            if n/2 not in self.powers:\n",
    "                self.powers[n/2] = self.get_powers(unitary, n/2)\n",
    "\n",
    "            self.powers[n] = self.powers[n/2] @ self.powers[n/2]\n",
    "            return self.powers[n]\n",
    "    \n",
    "    # get the controls, if using optimization\n",
    "    def get_controls(self):\n",
    "        '''Get the control gates for the circuit\n",
    "         While computing exponent, we also \n",
    "         compute the smaller powers\n",
    "         \n",
    "        Returns: \n",
    "            controls(dict) : dictionary containing the relevant controlled unitary gates\n",
    "                            key : iteration number, value : controlled U gate \n",
    "             '''\n",
    "             \n",
    "        n_iters = self.precision\n",
    "\n",
    "        exp = 2**(n_iters-1)\n",
    "        self.get_powers(self.unitary, exp)\n",
    "\n",
    "        # got the powers\n",
    "        controls = {}\n",
    "        \n",
    "        # note that iteration 0 has the highest powered matrix and\n",
    "        # then it goes on to get lesser and lesser\n",
    "        iterations = self.precision\n",
    "        for it in range(iterations):\n",
    "            mat = self.powers[exp]\n",
    "            u_gate = UnitaryGate(data=mat)\n",
    "            cu = u_gate.control(num_ctrl_qubits=1, label='CU', ctrl_state='1')\n",
    "            controls[it] = cu\n",
    "            exp /= 2\n",
    "\n",
    "        return controls\n",
    "\n",
    "    def get_circuit_phase(self, QC, clbits, qubits, ancilla, show=False,backend = None):\n",
    "        # QC must be atleast size 2\n",
    "        '''Add the experiments pararmeters .., and the shots parameter '''\n",
    "        \n",
    "        '''\n",
    "        Returns the circuit phase as a 2-tuple phase : (binary phase,decimal phase)\n",
    "        Arguments: \n",
    "            QC(QuantumCircuit) : the circuit containing the eigenvector of the unitary matrix \n",
    "            clbits(list-like) : the list of the classical bits in which the phase would be saved \n",
    "            qubits(list-like) : the indices of the qubits containing the eigenvector of unitary\n",
    "            ancilla(int) : the ancilliary qubit which would be used as the control qubit   \n",
    "            show(bool) : boolean to specify if circuit should be drawn or not \n",
    "            backend(IBMQBackend) : backend for running the circuit \n",
    "                    NOTE : IBMQ provider must be enabled for execution of circuits on real backends\n",
    "\n",
    "            \n",
    "        Raises: \n",
    "            ValueError : if clbits are not equal to precision or non-unique bits specified \n",
    "                         or if elements of clbits/qubits are not integer type or ancilla qubit is \n",
    "                         same as one of the eigenvector qubits\n",
    "            TypeError : if qubit indices are not integral \n",
    "            Exception : if unitary has less than 2 qubits  \n",
    "            \n",
    "        \n",
    "        Returns : \n",
    "            A 2-tuple specifying the phase of unitary matrix : (binary phase,decimal phase) \n",
    "        \n",
    "        Usage Notes : \n",
    "        NOTE : The phase is assumed to be a binary fraction as 0.x1x2x2...xn where n  \n",
    "               is the precision specified by the user.\n",
    "               \n",
    "               The least significant bit , xn, is saved in the qubit with index \n",
    "               precision-1 and the most significant bit, x1, is saved in the \n",
    "               qubit with index 0 in the phase[0] of tuple. \n",
    "               \n",
    "        For example :- \n",
    "            theta = 1/5  # binary representation upto 4 bits : 0.0011\n",
    "            unitary = np.ndarray([[1,0],\n",
    "                                [0, np.exp(2*np.pi*1j*(theta))]])\n",
    "            q = QuantumCircuit(6,4)\n",
    "            q.x(4) # the eigenvector qubit\n",
    "\n",
    "            qpe = get_circuit_phase(precision = 4,unitary = unitary,unknown = True)\n",
    "            athens = provider.get_backend('ibmq_athens')\n",
    "            phase = iqpe.get_circuit_phase(\n",
    "            QC=q, clbits=[0, 1, 2, 3], qubits=[4], ancilla=3, show=True,backend = athens)\n",
    "            \n",
    "            # phase[0] would contain a 4-bit phase representation \n",
    "            # phase[1] would contain the decimal representation of the phase\n",
    "        '''\n",
    "        # handle qubits in circuit\n",
    "        if len(QC.qubits) < 2:\n",
    "            raise Exception(\"Quantum Circuit needs to have atleast size 2\")\n",
    "\n",
    "        # handle classical bits\n",
    "        if len(clbits) != self.precision:\n",
    "            raise ValueError(\"Exactly\",self.precision,\"classical bits needed for measurement\")\n",
    "        elif len(set(clbits)) != len(clbits):\n",
    "            raise ValueError(\"Non-unique classical bits given for measurement\")\n",
    "        elif not all(isinstance(i, int) for i in clbits):\n",
    "            raise ValueError(\"All classical indices must be integer type\")\n",
    "\n",
    "            \n",
    "        # qubit and ancilla need to be integers\n",
    "        if type(ancilla) is not int:\n",
    "            raise TypeError(\"Ancilla indix need to be specified as integer\")\n",
    "        elif not all(isinstance(i,int) for i in qubits):\n",
    "            raise TypeError(\"The indices containing the eigenvector must be integer type \")\n",
    "        elif len(set(qubits)) != len(qubits):\n",
    "            raise ValueError(\"Non-unique qubits given for the eigenvector\")\n",
    "        elif ancilla in qubits:\n",
    "            raise Exception(\"Ancilla can not be equal to a qubit index \")\n",
    "            \n",
    "        res = []\n",
    "        # start with the iteration\n",
    "        phase = -2*np.pi\n",
    "        factor = 0\n",
    "        iterations = self.precision\n",
    "        # generate the qubit list on which the Unitary is applied\n",
    "        qargs = [ancilla]\n",
    "        for q in qubits:\n",
    "            qargs.append(q) \n",
    "        \n",
    "        if self.unknown == True:\n",
    "            # no matrix repr is available -> means .control method can be applied easily\n",
    "            exponent = 2**(iterations - 1)\n",
    "            CU = self.unitary.control(num_ctrl_qubits = 1,label = 'CU',ctrl_state=1)\n",
    "        \n",
    "        for it in range(iterations):\n",
    "            # start\n",
    "            QC.reset(ancilla)\n",
    "            QC.h(ancilla)\n",
    "            # add the inverse rotation\n",
    "            inv_phase = phase*factor\n",
    "\n",
    "            QC.p(inv_phase, ancilla)\n",
    "\n",
    "            # add the controlled Unitary of iteration it \n",
    "            if self.unknown == False:\n",
    "                QC = QC.compose(self.controls[it], qubits=qargs)\n",
    "            else:\n",
    "                # need to add exponential amount of matrices \n",
    "                for _ in range(int(exponent)):\n",
    "                    QC = QC.compose(CU,qubits = qargs)\n",
    "                exponent /= 2 \n",
    "                \n",
    "            # add H gate\n",
    "            QC.h(ancilla)\n",
    "            QC.measure(ancilla, clbits[it])\n",
    "\n",
    "            # or, iterate in reverse manner , no of steps ->\n",
    "            # clbits[it] as it is the absolute\n",
    "            # classical register index\n",
    "            if backend == None: # simulating \n",
    "                counts = execute(QC, backend=Aer.get_backend('qasm_simulator'), shots=1).result().get_counts()\n",
    "            else:\n",
    "#                 trans = transpile(QC,backend = backend,optimization_level = 3)\n",
    "                job = execute(QC,shots = 1,backend = backend,job_name = \"Iter \"+str(it+1),\n",
    "                             optimization_level = 3)\n",
    "#                 print(\"DEPTH \",trans.depth())\n",
    "                display(job_monitor(job))\n",
    "                counts = job.result().get_counts()\n",
    "                    \n",
    "            # we will have only one single key in the dict\n",
    "            key = list(counts.keys())[0][::-1]\n",
    "            # try adding x based on clasical\n",
    "            curr_bit = key[clbits[it]]\n",
    "            res.append(int(curr_bit))\n",
    "            # if bit measured is 1\n",
    "            if curr_bit == '1':\n",
    "                factor += 1/2  # add the phase factor\n",
    "\n",
    "            factor = factor/2  # shift each towards one weight right\n",
    "            if it+1 == iterations:\n",
    "                if show == True:\n",
    "                    display(QC.draw('mpl'))\n",
    "\n",
    "        # phase has now been stored in the clbits\n",
    "        # returning its binary representation\n",
    "\n",
    "        # need to reverse as LSB is stored at the zeroth index and\n",
    "        # not the last\n",
    "        res = res[::-1]\n",
    "        \n",
    "        #find decimal phase \n",
    "        dec = 0\n",
    "        weight = 1/2\n",
    "        for k in res:\n",
    "            dec += (weight)*k\n",
    "            weight /= 2\n",
    "            \n",
    "        return (res,dec)"
   ]
  },
  {
   "cell_type": "markdown",
   "metadata": {},
   "source": [
    "## Testing Circuit with phase 0.2\n",
    "- Made a unitary with phase 0.2 to test the circuit\n",
    "- 4 iterations were used to determine the final phase"
   ]
  },
  {
   "cell_type": "code",
   "execution_count": 138,
   "metadata": {
    "ExecuteTime": {
     "end_time": "2021-05-27T07:11:26.336430Z",
     "start_time": "2021-05-27T07:11:26.317815Z"
    }
   },
   "outputs": [],
   "source": [
    "U = UnitaryGate(data=np.array([[1, 0],\n",
    "                               [0, np.exp(2*np.pi*1j*(1/5))]]))"
   ]
  },
  {
   "cell_type": "code",
   "execution_count": 142,
   "metadata": {
    "ExecuteTime": {
     "end_time": "2021-05-27T07:11:56.621430Z",
     "start_time": "2021-05-27T07:11:56.570173Z"
    }
   },
   "outputs": [],
   "source": [
    "iqpe = IQPE(precision=7,unitary=U,unknown=False) "
   ]
  },
  {
   "cell_type": "code",
   "execution_count": 143,
   "metadata": {
    "ExecuteTime": {
     "end_time": "2021-05-27T07:11:58.446384Z",
     "start_time": "2021-05-27T07:11:56.979467Z"
    }
   },
   "outputs": [
    {
     "data": {
      "image/png": "[encoded data removed]",
      "text/plain": [
       "<Figure size 1591.6x565.88 with 1 Axes>"
      ]
     },
     "metadata": {},
     "output_type": "display_data"
    }
   ],
   "source": [
    "q = QuantumCircuit(3, 8)\n",
    "q.x(2)\n",
    "phase = iqpe.get_circuit_phase(\n",
    "    QC=q, clbits=[0, 1, 2, 3, 4,5,6], qubits=[2],ancilla=1, show=True)"
   ]
  },
  {
   "cell_type": "code",
   "execution_count": 144,
   "metadata": {
    "ExecuteTime": {
     "end_time": "2021-05-27T07:12:03.534659Z",
     "start_time": "2021-05-27T07:12:03.516368Z"
    }
   },
   "outputs": [
    {
     "data": {
      "text/plain": [
       "([0, 0, 1, 1, 0, 1, 0], 0.203125)"
      ]
     },
     "execution_count": 144,
     "metadata": {},
     "output_type": "execute_result"
    }
   ],
   "source": [
    "phase "
   ]
  },
  {
   "cell_type": "markdown",
   "metadata": {},
   "source": [
    "## Testing with multi qubit unitary\n",
    "- Made a unitary with a controlled application of Phase gate over the target qubit\n",
    "- 7 iterations were used to determine this multiqubit phase(1/6) "
   ]
  },
  {
   "cell_type": "code",
   "execution_count": 147,
   "metadata": {
    "ExecuteTime": {
     "end_time": "2021-05-27T07:13:38.199181Z",
     "start_time": "2021-05-27T07:13:37.903364Z"
    }
   },
   "outputs": [
    {
     "data": {
      "image/png": "[encoded data removed]",
      "text/plain": [
       "<Figure size 206.852x144.48 with 1 Axes>"
      ]
     },
     "execution_count": 147,
     "metadata": {},
     "output_type": "execute_result"
    }
   ],
   "source": [
    "U = QuantumCircuit(2,name='U')\n",
    "U.cp(2*np.pi*1/6,0,1)\n",
    "U.draw('mpl')\n",
    "#.control(num_ctrl_qcubits= 1, label = 'CCu', ctrl_state = '1')"
   ]
  },
  {
   "cell_type": "code",
   "execution_count": 154,
   "metadata": {
    "ExecuteTime": {
     "end_time": "2021-05-27T07:20:42.865966Z",
     "start_time": "2021-05-27T07:20:42.848874Z"
    }
   },
   "outputs": [],
   "source": [
    "iqpe = IQPE(precision=7,unitary=U,unknown=True) \n",
    "casb = provider.get_backend('ibmq_casablanca')\n",
    "athens = provider.get_backend('ibmq_athens')\n",
    "manila = provider.get_backend('ibmq_manila')"
   ]
  },
  {
   "cell_type": "code",
   "execution_count": 149,
   "metadata": {
    "ExecuteTime": {
     "end_time": "2021-05-27T07:14:01.173071Z",
     "start_time": "2021-05-27T07:13:45.101037Z"
    }
   },
   "outputs": [
    {
     "data": {
      "image/png": "[encoded data removed]",
      "text/plain": [
       "<Figure size 1591.6x2070.88 with 1 Axes>"
      ]
     },
     "metadata": {},
     "output_type": "display_data"
    }
   ],
   "source": [
    "q = QuantumCircuit(3, 8)\n",
    "q.x(1)\n",
    "q.x(2)\n",
    "phase = iqpe.get_circuit_phase(\n",
    "    QC=q, clbits=[0, 1, 2, 3, 4, 5,6], qubits=[1,2],ancilla=0, show=True)"
   ]
  },
  {
   "cell_type": "code",
   "execution_count": 150,
   "metadata": {
    "ExecuteTime": {
     "end_time": "2021-05-27T07:14:01.238403Z",
     "start_time": "2021-05-27T07:14:01.224747Z"
    }
   },
   "outputs": [
    {
     "name": "stdout",
     "output_type": "stream",
     "text": [
      "Phase of the circuit in binary: ([0, 0, 1, 0, 1, 0, 1], 0.1640625)\n"
     ]
    }
   ],
   "source": [
    "print(\"Phase of the circuit in binary:\", phase)\n"
   ]
  },
  {
   "cell_type": "markdown",
   "metadata": {},
   "source": [
    "## Testing the circuit for increasing precision\n",
    "- Using a 3 qubit matrix to test out the circuit "
   ]
  },
  {
   "cell_type": "code",
   "execution_count": 128,
   "metadata": {
    "ExecuteTime": {
     "end_time": "2021-05-27T06:54:44.850637Z",
     "start_time": "2021-05-27T06:54:44.542704Z"
    }
   },
   "outputs": [
    {
     "data": {
      "image/png": "[encoded data removed]",
      "text/plain": [
       "<Figure size 206.997x204.68 with 1 Axes>"
      ]
     },
     "execution_count": 128,
     "metadata": {},
     "output_type": "execute_result"
    }
   ],
   "source": [
    "u2 = QuantumCircuit(3)\n",
    "u2.cp(2*np.pi*(1/6),1,2)\n",
    "u2.draw('mpl')"
   ]
  },
  {
   "cell_type": "markdown",
   "metadata": {},
   "source": [
    "- The phase of this circuit would be **1/6** i.e. ~ **0.16667** given that the qubits are prepared in the eigenvector state which is **|110>** acc to qiskit notation"
   ]
  },
  {
   "cell_type": "code",
   "execution_count": 133,
   "metadata": {
    "ExecuteTime": {
     "end_time": "2021-05-27T06:58:09.961833Z",
     "start_time": "2021-05-27T06:57:10.928334Z"
    }
   },
   "outputs": [],
   "source": [
    "estimates = []\n",
    "for prec in range(2, 9):\n",
    "    q = QuantumCircuit(4, prec)\n",
    "    # making eigenvector \n",
    "    q.x(2)\n",
    "    q.x(3)\n",
    "    iqpe = IQPE(precision=prec, unitary=u2,unknown=True)\n",
    "    phase = iqpe.get_circuit_phase(\n",
    "        QC=q, clbits=[i for i in range(prec)], qubits=[1,2,3], ancilla=0)\n",
    "#     print(phase[0])\n",
    "    estimates.append(phase[1])"
   ]
  },
  {
   "cell_type": "code",
   "execution_count": 135,
   "metadata": {
    "ExecuteTime": {
     "end_time": "2021-05-27T07:10:05.118396Z",
     "start_time": "2021-05-27T07:10:04.780686Z"
    }
   },
   "outputs": [
    {
     "data": {
      "text/plain": [
       "<matplotlib.legend.Legend at 0x1e923c2b508>"
      ]
     },
     "execution_count": 135,
     "metadata": {},
     "output_type": "execute_result"
    },
    {
     "data": {
      "image/png": "[encoded data removed]",
      "text/plain": [
       "<Figure size 648x504 with 1 Axes>"
      ]
     },
     "metadata": {
      "needs_background": "light"
     },
     "output_type": "display_data"
    }
   ],
   "source": [
    "plt.figure(figsize=(9, 7))\n",
    "plt.plot(list(range(2, 9)), estimates, marker='o',\n",
    "         label='Estimates', linestyle='dotted',linewidth = 2,color = 'cyan')\n",
    "plt.plot([0, 10], [0.16667, 0.16667], color='black', label='Actual phase')\n",
    "plt.title(\"IQPE estimates for $\\\\theta = 1/6$\", fontsize=16)\n",
    "plt.xlabel(\"Number of iterations \", fontsize=14)\n",
    "plt.ylabel(\"Estimate of phase\", fontsize=14)\n",
    "plt.legend()"
   ]
  },
  {
   "cell_type": "markdown",
   "metadata": {},
   "source": [
    "### Making a generic Function\n",
    "- This is a simple generic function used for making a plot of how the circuit converges to the phase for a given theta value.\n",
    "- Note that **unknown == True** is actually important for realizing the true simulation since if we CAN EXPONENTIATE a matrix, we can basically just print its representation and find out the phase"
   ]
  },
  {
   "cell_type": "code",
   "execution_count": 153,
   "metadata": {
    "ExecuteTime": {
     "end_time": "2021-05-27T07:19:41.106422Z",
     "start_time": "2021-05-27T07:19:41.073827Z"
    }
   },
   "outputs": [],
   "source": [
    "def get_estimate_plot_phase(theta = None,unitary = None,unknown = True, experiments = 1,iters=9, show_circ=False, save=False,\n",
    "                      backend = None):\n",
    "    '''\n",
    "    Displays an estimate plot of the phase that is found through the IQPE \n",
    "    algorithm for single qubit phase unitaries\n",
    "    \n",
    "    theta(float) : contains the actual theta (if some theoretical assumption is known)\n",
    "    unitary(ndarray / QuantumCircuit / UnitaryGate) :\n",
    "                  the unitary for which phase needs to be determined \n",
    "    unknown(bool) : boolean variable to specify whether the optimization in unitary \n",
    "                    application is to be used \n",
    "    experiments(int) : the number of experiments for which each iteration is to be run\n",
    "    iters(int) : the max number of iterations to be run ( circuit is run from precision \n",
    "                2 -> iters)\n",
    "                \n",
    "    show_circ(bool) : boolean variable to specify whether circuit needs to be drawn or not \n",
    "    save(bool) : boolean variable specifying whether plot needs to be saved or \n",
    "                 not (saved as IQPE Plots/Estimate_plot_theta.jpg)\n",
    "\n",
    "    backend(IBMBackend) : ibmq backend on which the circuit should be run (if None, \n",
    "                    qasm_simulator is used)\n",
    "                    \n",
    "    Example :- \n",
    "        provider = IBMQ.get_provider('ibm-q')\n",
    "        casb = provider.get_backend('ibmq-casablanca)\n",
    "        U = np.array([[1,0],\n",
    "                     [0, np.exp(2*np.pi*1j(0.524))]])\n",
    "                     \n",
    "        get_estimate_plot(unitary = U, iters = 10,unknown= True, save=True,backend = casb)\n",
    "\n",
    "    '''\n",
    "    import os\n",
    "    if theta is None and unitary is None:\n",
    "        raise Exception(\"Atleast one of theta or unitary is needed.\")\n",
    "        \n",
    "    if theta > 1 or theta < 0:\n",
    "        raise ValueError(\n",
    "            \"Theta must be specified as a float val between 0 and 1\")\n",
    "\n",
    "    if unitary is None:\n",
    "        unitary = np.array([[1, 0],\n",
    "                            [0, np.exp(2*np.pi*1j*(theta))]])\n",
    "\n",
    "    estimates, errors = [], []\n",
    "    avg_phase, avg_error = {},{}\n",
    "    for prec in range(2, iters):\n",
    "        print(\"\\n\\nITERATION NUMBER\", prec-1, \"...\\n\\n\")\n",
    "        \n",
    "        iqpe = IQPE(precision=prec, unitary=unitary,unknown = unknown )\n",
    "        dec_phase,abs_errors = [],[]\n",
    "        \n",
    "        for exp in range(experiments):\n",
    "            # single qubit rotation matrices \n",
    "            q = QuantumCircuit(2, prec)\n",
    "            q.x(1)\n",
    "            # simulate the matrix on a circuit \n",
    "            phase = iqpe.get_circuit_phase(\n",
    "                QC=q, clbits=[i for i in range(prec)], qubits=[1], ancilla=0, show=show_circ,\n",
    "                backend = backend)\n",
    "            # add the phase and the error ...\n",
    "            dec_phase.append(phase[1])\n",
    "            print(\"Binary Phase in experiment\",exp, phase[0])\n",
    "\n",
    "            if theta is not None:\n",
    "                ae = np.round(abs(phase[1]-theta),5)\n",
    "                abs_errors.append(ae)\n",
    "                \n",
    "        # run experiments number of times AND get the avg phase \n",
    "        \n",
    "        avg_phase[prec] = sum(dec_phase)/len(dec_phase)\n",
    "        avg_error[prec] = sum(abs_errors)/len(abs_errors)\n",
    "                 \n",
    "        print(\"Decimal Phase :\", avg_phase[prec])\n",
    "        print(\"Absolute Error :\",avg_error[prec])\n",
    "        if theta is not None:\n",
    "            print(\"Percentage error :\",avg_error[prec]*100/theta,\"%\")\n",
    "        \n",
    "        # append to graph \n",
    "        estimates.append(avg_phase[prec])\n",
    "        errors.append(avg_error[prec])\n",
    "    \n",
    "    # choose color\n",
    "    colors = ['r', 'g', 'c', 'm', 'y']\n",
    "    c1 = np.random.choice(colors)[0]\n",
    "    c2 = np.random.choice(colors)[0]\n",
    "    while c2 == c1:\n",
    "        c2 = np.random.choice(colors)[0]\n",
    "    plt.figure(figsize=(9, 7))\n",
    "    plt.grid(True)\n",
    "    \n",
    "    # plot \n",
    "    plt.plot([i for i in range(2, iters)], estimates, alpha=0.6, marker='o',\n",
    "             color=c1, label='Estimates', linestyle='dashed', linewidth=2)\n",
    "    plt.plot([i for i in range(2, iters)], errors, alpha=0.6, marker='s',\n",
    "             color=c2, label='Absoulte error', linestyle='dotted', linewidth=2)\n",
    "    if theta != None:\n",
    "        plt.plot([0, iters], [theta, theta], color='black', label='Actual phase')\n",
    "    plt.title(\"IQPE estimates for $\\\\theta =\"+str(theta)+\"$\", fontsize=16)\n",
    "    plt.xlabel(\"Number of iterations \", fontsize=14)\n",
    "    plt.ylabel(\"Estimates by IQPE\", fontsize=14)\n",
    "    plt.legend()\n",
    "    if save:\n",
    "        os.makedirs(\"IQPE Plots\", exist_ok=True)\n",
    "        plt.savefig(\"IQPE Plots/Estimate_plot_\"+str(theta)+\".jpg\", dpi=200)"
   ]
  },
  {
   "cell_type": "code",
   "execution_count": 28,
   "metadata": {
    "ExecuteTime": {
     "end_time": "2021-05-20T10:42:49.782330Z",
     "start_time": "2021-05-20T08:17:26.300842Z"
    },
    "scrolled": true
   },
   "outputs": [
    {
     "name": "stdout",
     "output_type": "stream",
     "text": [
      "\n",
      "\n",
      "ITERATION NUMBER 1 ...\n",
      "\n",
      "\n",
      "Job Status: job has successfully run\n"
     ]
    },
    {
     "data": {
      "text/plain": [
       "None"
      ]
     },
     "metadata": {},
     "output_type": "display_data"
    },
    {
     "name": "stdout",
     "output_type": "stream",
     "text": [
      "Job Status: job has successfully run\n"
     ]
    },
    {
     "data": {
      "text/plain": [
       "None"
      ]
     },
     "metadata": {},
     "output_type": "display_data"
    },
    {
     "name": "stdout",
     "output_type": "stream",
     "text": [
      "Binary Phase in experiment 0 [1, 1]\n",
      "Job Status: job has successfully run\n"
     ]
    },
    {
     "data": {
      "text/plain": [
       "None"
      ]
     },
     "metadata": {},
     "output_type": "display_data"
    },
    {
     "name": "stdout",
     "output_type": "stream",
     "text": [
      "Job Status: job has successfully run\n"
     ]
    },
    {
     "data": {
      "text/plain": [
       "None"
      ]
     },
     "metadata": {},
     "output_type": "display_data"
    },
    {
     "name": "stdout",
     "output_type": "stream",
     "text": [
      "Binary Phase in experiment 1 [0, 0]\n",
      "Job Status: job has successfully run\n"
     ]
    },
    {
     "data": {
      "text/plain": [
       "None"
      ]
     },
     "metadata": {},
     "output_type": "display_data"
    },
    {
     "name": "stdout",
     "output_type": "stream",
     "text": [
      "Job Status: job has successfully run\n"
     ]
    },
    {
     "data": {
      "text/plain": [
       "None"
      ]
     },
     "metadata": {},
     "output_type": "display_data"
    },
    {
     "name": "stdout",
     "output_type": "stream",
     "text": [
      "Binary Phase in experiment 2 [1, 0]\n",
      "Job Status: job has successfully run\n"
     ]
    },
    {
     "data": {
      "text/plain": [
       "None"
      ]
     },
     "metadata": {},
     "output_type": "display_data"
    },
    {
     "name": "stdout",
     "output_type": "stream",
     "text": [
      "Job Status: job has successfully run\n"
     ]
    },
    {
     "data": {
      "text/plain": [
       "None"
      ]
     },
     "metadata": {},
     "output_type": "display_data"
    },
    {
     "name": "stdout",
     "output_type": "stream",
     "text": [
      "Binary Phase in experiment 3 [1, 0]\n",
      "Job Status: job has successfully run\n"
     ]
    },
    {
     "data": {
      "text/plain": [
       "None"
      ]
     },
     "metadata": {},
     "output_type": "display_data"
    },
    {
     "name": "stdout",
     "output_type": "stream",
     "text": [
      "Job Status: job has successfully run\n"
     ]
    },
    {
     "data": {
      "text/plain": [
       "None"
      ]
     },
     "metadata": {},
     "output_type": "display_data"
    },
    {
     "name": "stdout",
     "output_type": "stream",
     "text": [
      "Binary Phase in experiment 4 [1, 0]\n",
      "Decimal Phase : 0.45\n",
      "Absolute Error : 0.16440000000000002\n",
      "Percentage error : 31.37404580152672 %\n",
      "\n",
      "\n",
      "ITERATION NUMBER 2 ...\n",
      "\n",
      "\n",
      "Job Status: job has successfully run\n"
     ]
    },
    {
     "data": {
      "text/plain": [
       "None"
      ]
     },
     "metadata": {},
     "output_type": "display_data"
    },
    {
     "name": "stdout",
     "output_type": "stream",
     "text": [
      "Job Status: job has successfully run\n"
     ]
    },
    {
     "data": {
      "text/plain": [
       "None"
      ]
     },
     "metadata": {},
     "output_type": "display_data"
    },
    {
     "name": "stdout",
     "output_type": "stream",
     "text": [
      "Job Status: job has successfully run\n"
     ]
    },
    {
     "data": {
      "text/plain": [
       "None"
      ]
     },
     "metadata": {},
     "output_type": "display_data"
    },
    {
     "name": "stdout",
     "output_type": "stream",
     "text": [
      "Binary Phase in experiment 0 [1, 0, 0]\n",
      "Job Status: job has successfully run\n"
     ]
    },
    {
     "data": {
      "text/plain": [
       "None"
      ]
     },
     "metadata": {},
     "output_type": "display_data"
    },
    {
     "name": "stdout",
     "output_type": "stream",
     "text": [
      "Job Status: job has successfully run\n"
     ]
    },
    {
     "data": {
      "text/plain": [
       "None"
      ]
     },
     "metadata": {},
     "output_type": "display_data"
    },
    {
     "name": "stdout",
     "output_type": "stream",
     "text": [
      "Job Status: job has successfully run\n"
     ]
    },
    {
     "data": {
      "text/plain": [
       "None"
      ]
     },
     "metadata": {},
     "output_type": "display_data"
    },
    {
     "name": "stdout",
     "output_type": "stream",
     "text": [
      "Binary Phase in experiment 1 [1, 1, 1]\n",
      "Job Status: job has successfully run\n"
     ]
    },
    {
     "data": {
      "text/plain": [
       "None"
      ]
     },
     "metadata": {},
     "output_type": "display_data"
    },
    {
     "name": "stdout",
     "output_type": "stream",
     "text": [
      "Job Status: job has successfully run\n"
     ]
    },
    {
     "data": {
      "text/plain": [
       "None"
      ]
     },
     "metadata": {},
     "output_type": "display_data"
    },
    {
     "name": "stdout",
     "output_type": "stream",
     "text": [
      "Job Status: job has successfully run\n"
     ]
    },
    {
     "data": {
      "text/plain": [
       "None"
      ]
     },
     "metadata": {},
     "output_type": "display_data"
    },
    {
     "name": "stdout",
     "output_type": "stream",
     "text": [
      "Binary Phase in experiment 2 [1, 0, 0]\n",
      "Job Status: job has successfully run\n"
     ]
    },
    {
     "data": {
      "text/plain": [
       "None"
      ]
     },
     "metadata": {},
     "output_type": "display_data"
    },
    {
     "name": "stdout",
     "output_type": "stream",
     "text": [
      "Job Status: job has successfully run\n"
     ]
    },
    {
     "data": {
      "text/plain": [
       "None"
      ]
     },
     "metadata": {},
     "output_type": "display_data"
    },
    {
     "name": "stdout",
     "output_type": "stream",
     "text": [
      "Job Status: job has successfully run\n"
     ]
    },
    {
     "data": {
      "text/plain": [
       "None"
      ]
     },
     "metadata": {},
     "output_type": "display_data"
    },
    {
     "name": "stdout",
     "output_type": "stream",
     "text": [
      "Binary Phase in experiment 3 [1, 1, 1]\n",
      "Job Status: job has successfully run\n"
     ]
    },
    {
     "data": {
      "text/plain": [
       "None"
      ]
     },
     "metadata": {},
     "output_type": "display_data"
    },
    {
     "name": "stdout",
     "output_type": "stream",
     "text": [
      "Job Status: job has successfully run\n"
     ]
    },
    {
     "data": {
      "text/plain": [
       "None"
      ]
     },
     "metadata": {},
     "output_type": "display_data"
    },
    {
     "name": "stdout",
     "output_type": "stream",
     "text": [
      "Job Status: job has successfully run\n"
     ]
    },
    {
     "data": {
      "text/plain": [
       "None"
      ]
     },
     "metadata": {},
     "output_type": "display_data"
    },
    {
     "name": "stdout",
     "output_type": "stream",
     "text": [
      "Binary Phase in experiment 4 [1, 0, 0]\n",
      "Decimal Phase : 0.65\n",
      "Absolute Error : 0.1548\n",
      "Percentage error : 29.541984732824424 %\n",
      "\n",
      "\n",
      "ITERATION NUMBER 3 ...\n",
      "\n",
      "\n",
      "Job Status: job has successfully run\n"
     ]
    },
    {
     "data": {
      "text/plain": [
       "None"
      ]
     },
     "metadata": {},
     "output_type": "display_data"
    },
    {
     "name": "stdout",
     "output_type": "stream",
     "text": [
      "Job Status: job has successfully run\n"
     ]
    },
    {
     "data": {
      "text/plain": [
       "None"
      ]
     },
     "metadata": {},
     "output_type": "display_data"
    },
    {
     "name": "stdout",
     "output_type": "stream",
     "text": [
      "Job Status: job has successfully run\n"
     ]
    },
    {
     "data": {
      "text/plain": [
       "None"
      ]
     },
     "metadata": {},
     "output_type": "display_data"
    },
    {
     "name": "stdout",
     "output_type": "stream",
     "text": [
      "Job Status: job has successfully run\n"
     ]
    },
    {
     "data": {
      "text/plain": [
       "None"
      ]
     },
     "metadata": {},
     "output_type": "display_data"
    },
    {
     "name": "stdout",
     "output_type": "stream",
     "text": [
      "Binary Phase in experiment 0 [1, 0, 0, 1]\n",
      "Job Status: job has successfully run\n"
     ]
    },
    {
     "data": {
      "text/plain": [
       "None"
      ]
     },
     "metadata": {},
     "output_type": "display_data"
    },
    {
     "name": "stdout",
     "output_type": "stream",
     "text": [
      "Job Status: job has successfully run\n"
     ]
    },
    {
     "data": {
      "text/plain": [
       "None"
      ]
     },
     "metadata": {},
     "output_type": "display_data"
    },
    {
     "name": "stdout",
     "output_type": "stream",
     "text": [
      "Job Status: job has successfully run\n"
     ]
    },
    {
     "data": {
      "text/plain": [
       "None"
      ]
     },
     "metadata": {},
     "output_type": "display_data"
    },
    {
     "name": "stdout",
     "output_type": "stream",
     "text": [
      "Job Status: job has successfully run\n"
     ]
    },
    {
     "data": {
      "text/plain": [
       "None"
      ]
     },
     "metadata": {},
     "output_type": "display_data"
    },
    {
     "name": "stdout",
     "output_type": "stream",
     "text": [
      "Binary Phase in experiment 1 [1, 0, 0, 0]\n",
      "Job Status: job has successfully run\n"
     ]
    },
    {
     "data": {
      "text/plain": [
       "None"
      ]
     },
     "metadata": {},
     "output_type": "display_data"
    },
    {
     "name": "stdout",
     "output_type": "stream",
     "text": [
      "Job Status: job has successfully run\n"
     ]
    },
    {
     "data": {
      "text/plain": [
       "None"
      ]
     },
     "metadata": {},
     "output_type": "display_data"
    },
    {
     "name": "stdout",
     "output_type": "stream",
     "text": [
      "Job Status: job has successfully run\n"
     ]
    },
    {
     "data": {
      "text/plain": [
       "None"
      ]
     },
     "metadata": {},
     "output_type": "display_data"
    },
    {
     "name": "stdout",
     "output_type": "stream",
     "text": [
      "Job Status: job has successfully run\n"
     ]
    },
    {
     "data": {
      "text/plain": [
       "None"
      ]
     },
     "metadata": {},
     "output_type": "display_data"
    },
    {
     "name": "stdout",
     "output_type": "stream",
     "text": [
      "Binary Phase in experiment 2 [1, 0, 0, 0]\n",
      "Job Status: job has successfully run\n"
     ]
    },
    {
     "data": {
      "text/plain": [
       "None"
      ]
     },
     "metadata": {},
     "output_type": "display_data"
    },
    {
     "name": "stdout",
     "output_type": "stream",
     "text": [
      "Job Status: job has successfully run\n"
     ]
    },
    {
     "data": {
      "text/plain": [
       "None"
      ]
     },
     "metadata": {},
     "output_type": "display_data"
    },
    {
     "name": "stdout",
     "output_type": "stream",
     "text": [
      "Job Status: job has successfully run\n"
     ]
    },
    {
     "data": {
      "text/plain": [
       "None"
      ]
     },
     "metadata": {},
     "output_type": "display_data"
    },
    {
     "name": "stdout",
     "output_type": "stream",
     "text": [
      "Job Status: job has successfully run\n"
     ]
    },
    {
     "data": {
      "text/plain": [
       "None"
      ]
     },
     "metadata": {},
     "output_type": "display_data"
    },
    {
     "name": "stdout",
     "output_type": "stream",
     "text": [
      "Binary Phase in experiment 3 [1, 0, 0, 0]\n",
      "Job Status: job has successfully run\n"
     ]
    },
    {
     "data": {
      "text/plain": [
       "None"
      ]
     },
     "metadata": {},
     "output_type": "display_data"
    },
    {
     "name": "stdout",
     "output_type": "stream",
     "text": [
      "Job Status: job has successfully run\n"
     ]
    },
    {
     "data": {
      "text/plain": [
       "None"
      ]
     },
     "metadata": {},
     "output_type": "display_data"
    },
    {
     "name": "stdout",
     "output_type": "stream",
     "text": [
      "Job Status: job has successfully run\n"
     ]
    },
    {
     "data": {
      "text/plain": [
       "None"
      ]
     },
     "metadata": {},
     "output_type": "display_data"
    },
    {
     "name": "stdout",
     "output_type": "stream",
     "text": [
      "Job Status: job has successfully run\n"
     ]
    },
    {
     "data": {
      "text/plain": [
       "None"
      ]
     },
     "metadata": {},
     "output_type": "display_data"
    },
    {
     "name": "stdout",
     "output_type": "stream",
     "text": [
      "Binary Phase in experiment 4 [1, 0, 1, 0]\n",
      "Decimal Phase : 0.5375\n",
      "Absolute Error : 0.0423\n",
      "Percentage error : 8.072519083969464 %\n",
      "\n",
      "\n",
      "ITERATION NUMBER 4 ...\n",
      "\n",
      "\n",
      "Job Status: job has successfully run\n"
     ]
    },
    {
     "data": {
      "text/plain": [
       "None"
      ]
     },
     "metadata": {},
     "output_type": "display_data"
    },
    {
     "name": "stdout",
     "output_type": "stream",
     "text": [
      "Job Status: job has successfully run\n"
     ]
    },
    {
     "data": {
      "text/plain": [
       "None"
      ]
     },
     "metadata": {},
     "output_type": "display_data"
    },
    {
     "name": "stdout",
     "output_type": "stream",
     "text": [
      "Job Status: job has successfully run\n"
     ]
    },
    {
     "data": {
      "text/plain": [
       "None"
      ]
     },
     "metadata": {},
     "output_type": "display_data"
    },
    {
     "name": "stdout",
     "output_type": "stream",
     "text": [
      "Job Status: job has successfully run\n"
     ]
    },
    {
     "data": {
      "text/plain": [
       "None"
      ]
     },
     "metadata": {},
     "output_type": "display_data"
    },
    {
     "name": "stdout",
     "output_type": "stream",
     "text": [
      "Job Status: job has successfully run\n"
     ]
    },
    {
     "data": {
      "text/plain": [
       "None"
      ]
     },
     "metadata": {},
     "output_type": "display_data"
    },
    {
     "name": "stdout",
     "output_type": "stream",
     "text": [
      "Binary Phase in experiment 0 [0, 0, 0, 0, 1]\n",
      "Job Status: job has successfully run\n"
     ]
    },
    {
     "data": {
      "text/plain": [
       "None"
      ]
     },
     "metadata": {},
     "output_type": "display_data"
    },
    {
     "name": "stdout",
     "output_type": "stream",
     "text": [
      "Job Status: job has successfully run\n"
     ]
    },
    {
     "data": {
      "text/plain": [
       "None"
      ]
     },
     "metadata": {},
     "output_type": "display_data"
    },
    {
     "name": "stdout",
     "output_type": "stream",
     "text": [
      "Job Status: job has successfully run\n"
     ]
    },
    {
     "data": {
      "text/plain": [
       "None"
      ]
     },
     "metadata": {},
     "output_type": "display_data"
    },
    {
     "name": "stdout",
     "output_type": "stream",
     "text": [
      "Job Status: job has successfully run\n"
     ]
    },
    {
     "data": {
      "text/plain": [
       "None"
      ]
     },
     "metadata": {},
     "output_type": "display_data"
    },
    {
     "name": "stdout",
     "output_type": "stream",
     "text": [
      "Job Status: job has successfully run\n"
     ]
    },
    {
     "data": {
      "text/plain": [
       "None"
      ]
     },
     "metadata": {},
     "output_type": "display_data"
    },
    {
     "name": "stdout",
     "output_type": "stream",
     "text": [
      "Binary Phase in experiment 1 [1, 1, 0, 1, 0]\n",
      "Job Status: job has successfully run\n"
     ]
    },
    {
     "data": {
      "text/plain": [
       "None"
      ]
     },
     "metadata": {},
     "output_type": "display_data"
    },
    {
     "name": "stdout",
     "output_type": "stream",
     "text": [
      "Job Status: job has successfully run\n"
     ]
    },
    {
     "data": {
      "text/plain": [
       "None"
      ]
     },
     "metadata": {},
     "output_type": "display_data"
    },
    {
     "name": "stdout",
     "output_type": "stream",
     "text": [
      "Job Status: job has successfully run\n"
     ]
    },
    {
     "data": {
      "text/plain": [
       "None"
      ]
     },
     "metadata": {},
     "output_type": "display_data"
    },
    {
     "name": "stdout",
     "output_type": "stream",
     "text": [
      "Job Status: job has successfully run\n"
     ]
    },
    {
     "data": {
      "text/plain": [
       "None"
      ]
     },
     "metadata": {},
     "output_type": "display_data"
    },
    {
     "name": "stdout",
     "output_type": "stream",
     "text": [
      "Job Status: job has successfully run\n"
     ]
    },
    {
     "data": {
      "text/plain": [
       "None"
      ]
     },
     "metadata": {},
     "output_type": "display_data"
    },
    {
     "name": "stdout",
     "output_type": "stream",
     "text": [
      "Binary Phase in experiment 2 [0, 0, 0, 0, 0]\n",
      "Job Status: job has successfully run\n"
     ]
    },
    {
     "data": {
      "text/plain": [
       "None"
      ]
     },
     "metadata": {},
     "output_type": "display_data"
    },
    {
     "name": "stdout",
     "output_type": "stream",
     "text": [
      "Job Status: job has successfully run\n"
     ]
    },
    {
     "data": {
      "text/plain": [
       "None"
      ]
     },
     "metadata": {},
     "output_type": "display_data"
    },
    {
     "name": "stdout",
     "output_type": "stream",
     "text": [
      "Job Status: job has successfully run\n"
     ]
    },
    {
     "data": {
      "text/plain": [
       "None"
      ]
     },
     "metadata": {},
     "output_type": "display_data"
    },
    {
     "name": "stdout",
     "output_type": "stream",
     "text": [
      "Job Status: job has successfully run\n"
     ]
    },
    {
     "data": {
      "text/plain": [
       "None"
      ]
     },
     "metadata": {},
     "output_type": "display_data"
    },
    {
     "name": "stdout",
     "output_type": "stream",
     "text": [
      "Job Status: job has successfully run\n"
     ]
    },
    {
     "data": {
      "text/plain": [
       "None"
      ]
     },
     "metadata": {},
     "output_type": "display_data"
    },
    {
     "name": "stdout",
     "output_type": "stream",
     "text": [
      "Binary Phase in experiment 3 [0, 1, 0, 0, 1]\n",
      "Job Status: job has successfully run\n"
     ]
    },
    {
     "data": {
      "text/plain": [
       "None"
      ]
     },
     "metadata": {},
     "output_type": "display_data"
    },
    {
     "name": "stdout",
     "output_type": "stream",
     "text": [
      "Job Status: job has successfully run\n"
     ]
    },
    {
     "data": {
      "text/plain": [
       "None"
      ]
     },
     "metadata": {},
     "output_type": "display_data"
    },
    {
     "name": "stdout",
     "output_type": "stream",
     "text": [
      "Job Status: job has successfully run\n"
     ]
    },
    {
     "data": {
      "text/plain": [
       "None"
      ]
     },
     "metadata": {},
     "output_type": "display_data"
    },
    {
     "name": "stdout",
     "output_type": "stream",
     "text": [
      "Job Status: job has successfully run\n"
     ]
    },
    {
     "data": {
      "text/plain": [
       "None"
      ]
     },
     "metadata": {},
     "output_type": "display_data"
    },
    {
     "name": "stdout",
     "output_type": "stream",
     "text": [
      "Job Status: job has successfully run\n"
     ]
    },
    {
     "data": {
      "text/plain": [
       "None"
      ]
     },
     "metadata": {},
     "output_type": "display_data"
    },
    {
     "name": "stdout",
     "output_type": "stream",
     "text": [
      "Binary Phase in experiment 4 [0, 1, 1, 1, 0]\n",
      "Decimal Phase : 0.3125\n",
      "Absolute Error : 0.3269\n",
      "Percentage error : 62.385496183206115 %\n",
      "\n",
      "\n",
      "ITERATION NUMBER 5 ...\n",
      "\n",
      "\n",
      "Job Status: job has successfully run\n"
     ]
    },
    {
     "data": {
      "text/plain": [
       "None"
      ]
     },
     "metadata": {},
     "output_type": "display_data"
    },
    {
     "name": "stdout",
     "output_type": "stream",
     "text": [
      "Job Status: job has successfully run\n"
     ]
    },
    {
     "data": {
      "text/plain": [
       "None"
      ]
     },
     "metadata": {},
     "output_type": "display_data"
    },
    {
     "name": "stdout",
     "output_type": "stream",
     "text": [
      "Job Status: job has successfully run\n"
     ]
    },
    {
     "data": {
      "text/plain": [
       "None"
      ]
     },
     "metadata": {},
     "output_type": "display_data"
    },
    {
     "name": "stdout",
     "output_type": "stream",
     "text": [
      "Job Status: job has successfully run\n"
     ]
    },
    {
     "data": {
      "text/plain": [
       "None"
      ]
     },
     "metadata": {},
     "output_type": "display_data"
    },
    {
     "name": "stdout",
     "output_type": "stream",
     "text": [
      "Job Status: job has successfully run\n"
     ]
    },
    {
     "data": {
      "text/plain": [
       "None"
      ]
     },
     "metadata": {},
     "output_type": "display_data"
    },
    {
     "name": "stdout",
     "output_type": "stream",
     "text": [
      "Job Status: job has successfully run\n"
     ]
    },
    {
     "data": {
      "text/plain": [
       "None"
      ]
     },
     "metadata": {},
     "output_type": "display_data"
    },
    {
     "name": "stdout",
     "output_type": "stream",
     "text": [
      "Binary Phase in experiment 0 [0, 0, 0, 0, 1, 0]\n",
      "Job Status: job has successfully run\n"
     ]
    },
    {
     "data": {
      "text/plain": [
       "None"
      ]
     },
     "metadata": {},
     "output_type": "display_data"
    },
    {
     "name": "stdout",
     "output_type": "stream",
     "text": [
      "Job Status: job has successfully run\n"
     ]
    },
    {
     "data": {
      "text/plain": [
       "None"
      ]
     },
     "metadata": {},
     "output_type": "display_data"
    },
    {
     "name": "stdout",
     "output_type": "stream",
     "text": [
      "Job Status: job has successfully run\n"
     ]
    },
    {
     "data": {
      "text/plain": [
       "None"
      ]
     },
     "metadata": {},
     "output_type": "display_data"
    },
    {
     "name": "stdout",
     "output_type": "stream",
     "text": [
      "Job Status: job has successfully run\n"
     ]
    },
    {
     "data": {
      "text/plain": [
       "None"
      ]
     },
     "metadata": {},
     "output_type": "display_data"
    },
    {
     "name": "stdout",
     "output_type": "stream",
     "text": [
      "Job Status: job has successfully run\n"
     ]
    },
    {
     "data": {
      "text/plain": [
       "None"
      ]
     },
     "metadata": {},
     "output_type": "display_data"
    },
    {
     "name": "stdout",
     "output_type": "stream",
     "text": [
      "Job Status: job has successfully run\n"
     ]
    },
    {
     "data": {
      "text/plain": [
       "None"
      ]
     },
     "metadata": {},
     "output_type": "display_data"
    },
    {
     "name": "stdout",
     "output_type": "stream",
     "text": [
      "Binary Phase in experiment 1 [0, 0, 0, 0, 0, 1]\n",
      "Job Status: job has successfully run\n"
     ]
    },
    {
     "data": {
      "text/plain": [
       "None"
      ]
     },
     "metadata": {},
     "output_type": "display_data"
    },
    {
     "name": "stdout",
     "output_type": "stream",
     "text": [
      "Job Status: job has successfully run\n"
     ]
    },
    {
     "data": {
      "text/plain": [
       "None"
      ]
     },
     "metadata": {},
     "output_type": "display_data"
    },
    {
     "name": "stdout",
     "output_type": "stream",
     "text": [
      "Job Status: job has successfully run\n"
     ]
    },
    {
     "data": {
      "text/plain": [
       "None"
      ]
     },
     "metadata": {},
     "output_type": "display_data"
    },
    {
     "name": "stdout",
     "output_type": "stream",
     "text": [
      "Job Status: job has successfully run\n"
     ]
    },
    {
     "data": {
      "text/plain": [
       "None"
      ]
     },
     "metadata": {},
     "output_type": "display_data"
    },
    {
     "name": "stdout",
     "output_type": "stream",
     "text": [
      "Job Status: job has successfully run\n"
     ]
    },
    {
     "data": {
      "text/plain": [
       "None"
      ]
     },
     "metadata": {},
     "output_type": "display_data"
    },
    {
     "name": "stdout",
     "output_type": "stream",
     "text": [
      "Job Status: job has successfully run\n"
     ]
    },
    {
     "data": {
      "text/plain": [
       "None"
      ]
     },
     "metadata": {},
     "output_type": "display_data"
    },
    {
     "name": "stdout",
     "output_type": "stream",
     "text": [
      "Binary Phase in experiment 2 [1, 1, 0, 0, 1, 1]\n",
      "Job Status: job has successfully run\n"
     ]
    },
    {
     "data": {
      "text/plain": [
       "None"
      ]
     },
     "metadata": {},
     "output_type": "display_data"
    },
    {
     "name": "stdout",
     "output_type": "stream",
     "text": [
      "Job Status: job has successfully run\n"
     ]
    },
    {
     "data": {
      "text/plain": [
       "None"
      ]
     },
     "metadata": {},
     "output_type": "display_data"
    },
    {
     "name": "stdout",
     "output_type": "stream",
     "text": [
      "Job Status: job has successfully run\n"
     ]
    },
    {
     "data": {
      "text/plain": [
       "None"
      ]
     },
     "metadata": {},
     "output_type": "display_data"
    },
    {
     "name": "stdout",
     "output_type": "stream",
     "text": [
      "Job Status: job has successfully run\n"
     ]
    },
    {
     "data": {
      "text/plain": [
       "None"
      ]
     },
     "metadata": {},
     "output_type": "display_data"
    },
    {
     "name": "stdout",
     "output_type": "stream",
     "text": [
      "Job Status: job has successfully run\n"
     ]
    },
    {
     "data": {
      "text/plain": [
       "None"
      ]
     },
     "metadata": {},
     "output_type": "display_data"
    },
    {
     "name": "stdout",
     "output_type": "stream",
     "text": [
      "Job Status: job has successfully run\n"
     ]
    },
    {
     "data": {
      "text/plain": [
       "None"
      ]
     },
     "metadata": {},
     "output_type": "display_data"
    },
    {
     "name": "stdout",
     "output_type": "stream",
     "text": [
      "Binary Phase in experiment 3 [0, 0, 0, 0, 1, 0]\n",
      "Job Status: job has successfully run\n"
     ]
    },
    {
     "data": {
      "text/plain": [
       "None"
      ]
     },
     "metadata": {},
     "output_type": "display_data"
    },
    {
     "name": "stdout",
     "output_type": "stream",
     "text": [
      "Job Status: job has successfully run\n"
     ]
    },
    {
     "data": {
      "text/plain": [
       "None"
      ]
     },
     "metadata": {},
     "output_type": "display_data"
    },
    {
     "name": "stdout",
     "output_type": "stream",
     "text": [
      "Job Status: job has successfully run\n"
     ]
    },
    {
     "data": {
      "text/plain": [
       "None"
      ]
     },
     "metadata": {},
     "output_type": "display_data"
    },
    {
     "name": "stdout",
     "output_type": "stream",
     "text": [
      "Job Status: job has successfully run\n"
     ]
    },
    {
     "data": {
      "text/plain": [
       "None"
      ]
     },
     "metadata": {},
     "output_type": "display_data"
    },
    {
     "name": "stdout",
     "output_type": "stream",
     "text": [
      "Job Status: job has successfully run\n"
     ]
    },
    {
     "data": {
      "text/plain": [
       "None"
      ]
     },
     "metadata": {},
     "output_type": "display_data"
    },
    {
     "name": "stdout",
     "output_type": "stream",
     "text": [
      "Job Status: job has successfully run\n"
     ]
    },
    {
     "data": {
      "text/plain": [
       "None"
      ]
     },
     "metadata": {},
     "output_type": "display_data"
    },
    {
     "name": "stdout",
     "output_type": "stream",
     "text": [
      "Binary Phase in experiment 4 [1, 1, 1, 0, 0, 1]\n",
      "Decimal Phase : 0.353125\n",
      "Absolute Error : 0.42667400000000005\n",
      "Percentage error : 81.42633587786261 %\n",
      "\n",
      "\n",
      "ITERATION NUMBER 6 ...\n",
      "\n",
      "\n",
      "Job Status: job has successfully run\n"
     ]
    },
    {
     "data": {
      "text/plain": [
       "None"
      ]
     },
     "metadata": {},
     "output_type": "display_data"
    },
    {
     "name": "stdout",
     "output_type": "stream",
     "text": [
      "Job Status: job has successfully run\n"
     ]
    },
    {
     "data": {
      "text/plain": [
       "None"
      ]
     },
     "metadata": {},
     "output_type": "display_data"
    },
    {
     "name": "stdout",
     "output_type": "stream",
     "text": [
      "Job Status: job has successfully run\n"
     ]
    },
    {
     "data": {
      "text/plain": [
       "None"
      ]
     },
     "metadata": {},
     "output_type": "display_data"
    },
    {
     "name": "stdout",
     "output_type": "stream",
     "text": [
      "Job Status: job has successfully run\n"
     ]
    },
    {
     "data": {
      "text/plain": [
       "None"
      ]
     },
     "metadata": {},
     "output_type": "display_data"
    },
    {
     "name": "stdout",
     "output_type": "stream",
     "text": [
      "Job Status: job has successfully run\n"
     ]
    },
    {
     "data": {
      "text/plain": [
       "None"
      ]
     },
     "metadata": {},
     "output_type": "display_data"
    },
    {
     "name": "stdout",
     "output_type": "stream",
     "text": [
      "Job Status: job has successfully run\n"
     ]
    },
    {
     "data": {
      "text/plain": [
       "None"
      ]
     },
     "metadata": {},
     "output_type": "display_data"
    },
    {
     "name": "stdout",
     "output_type": "stream",
     "text": [
      "Job Status: job has successfully run\n"
     ]
    },
    {
     "data": {
      "text/plain": [
       "None"
      ]
     },
     "metadata": {},
     "output_type": "display_data"
    },
    {
     "name": "stdout",
     "output_type": "stream",
     "text": [
      "Binary Phase in experiment 0 [1, 0, 1, 1, 1, 1, 0]\n",
      "Job Status: job has successfully run\n"
     ]
    },
    {
     "data": {
      "text/plain": [
       "None"
      ]
     },
     "metadata": {},
     "output_type": "display_data"
    },
    {
     "name": "stdout",
     "output_type": "stream",
     "text": [
      "Job Status: job has successfully run\n"
     ]
    },
    {
     "data": {
      "text/plain": [
       "None"
      ]
     },
     "metadata": {},
     "output_type": "display_data"
    },
    {
     "name": "stdout",
     "output_type": "stream",
     "text": [
      "Job Status: job has successfully run\n"
     ]
    },
    {
     "data": {
      "text/plain": [
       "None"
      ]
     },
     "metadata": {},
     "output_type": "display_data"
    },
    {
     "name": "stdout",
     "output_type": "stream",
     "text": [
      "Job Status: job has successfully run\n"
     ]
    },
    {
     "data": {
      "text/plain": [
       "None"
      ]
     },
     "metadata": {},
     "output_type": "display_data"
    },
    {
     "name": "stdout",
     "output_type": "stream",
     "text": [
      "Job Status: job has successfully run\n"
     ]
    },
    {
     "data": {
      "text/plain": [
       "None"
      ]
     },
     "metadata": {},
     "output_type": "display_data"
    },
    {
     "name": "stdout",
     "output_type": "stream",
     "text": [
      "Job Status: job has successfully run\n"
     ]
    },
    {
     "data": {
      "text/plain": [
       "None"
      ]
     },
     "metadata": {},
     "output_type": "display_data"
    },
    {
     "name": "stdout",
     "output_type": "stream",
     "text": [
      "Job Status: job has successfully run\n"
     ]
    },
    {
     "data": {
      "text/plain": [
       "None"
      ]
     },
     "metadata": {},
     "output_type": "display_data"
    },
    {
     "name": "stdout",
     "output_type": "stream",
     "text": [
      "Binary Phase in experiment 1 [0, 1, 1, 1, 0, 1, 0]\n",
      "Job Status: job has successfully run\n"
     ]
    },
    {
     "data": {
      "text/plain": [
       "None"
      ]
     },
     "metadata": {},
     "output_type": "display_data"
    },
    {
     "name": "stdout",
     "output_type": "stream",
     "text": [
      "Job Status: job has successfully run\n"
     ]
    },
    {
     "data": {
      "text/plain": [
       "None"
      ]
     },
     "metadata": {},
     "output_type": "display_data"
    },
    {
     "name": "stdout",
     "output_type": "stream",
     "text": [
      "Job Status: job has successfully run\n"
     ]
    },
    {
     "data": {
      "text/plain": [
       "None"
      ]
     },
     "metadata": {},
     "output_type": "display_data"
    },
    {
     "name": "stdout",
     "output_type": "stream",
     "text": [
      "Job Status: job has successfully run\n"
     ]
    },
    {
     "data": {
      "text/plain": [
       "None"
      ]
     },
     "metadata": {},
     "output_type": "display_data"
    },
    {
     "name": "stdout",
     "output_type": "stream",
     "text": [
      "Job Status: job has successfully run\n"
     ]
    },
    {
     "data": {
      "text/plain": [
       "None"
      ]
     },
     "metadata": {},
     "output_type": "display_data"
    },
    {
     "name": "stdout",
     "output_type": "stream",
     "text": [
      "Job Status: job has successfully run\n"
     ]
    },
    {
     "data": {
      "text/plain": [
       "None"
      ]
     },
     "metadata": {},
     "output_type": "display_data"
    },
    {
     "name": "stdout",
     "output_type": "stream",
     "text": [
      "Job Status: job has successfully run\n"
     ]
    },
    {
     "data": {
      "text/plain": [
       "None"
      ]
     },
     "metadata": {},
     "output_type": "display_data"
    },
    {
     "name": "stdout",
     "output_type": "stream",
     "text": [
      "Binary Phase in experiment 2 [0, 0, 0, 0, 1, 0, 0]\n",
      "Job Status: job has successfully run\n"
     ]
    },
    {
     "data": {
      "text/plain": [
       "None"
      ]
     },
     "metadata": {},
     "output_type": "display_data"
    },
    {
     "name": "stdout",
     "output_type": "stream",
     "text": [
      "Job Status: job has successfully run\n"
     ]
    },
    {
     "data": {
      "text/plain": [
       "None"
      ]
     },
     "metadata": {},
     "output_type": "display_data"
    },
    {
     "name": "stdout",
     "output_type": "stream",
     "text": [
      "Job Status: job has successfully run\n"
     ]
    },
    {
     "data": {
      "text/plain": [
       "None"
      ]
     },
     "metadata": {},
     "output_type": "display_data"
    },
    {
     "name": "stdout",
     "output_type": "stream",
     "text": [
      "Job Status: job has successfully run\n"
     ]
    },
    {
     "data": {
      "text/plain": [
       "None"
      ]
     },
     "metadata": {},
     "output_type": "display_data"
    },
    {
     "name": "stdout",
     "output_type": "stream",
     "text": [
      "Job Status: job has successfully run\n"
     ]
    },
    {
     "data": {
      "text/plain": [
       "None"
      ]
     },
     "metadata": {},
     "output_type": "display_data"
    },
    {
     "name": "stdout",
     "output_type": "stream",
     "text": [
      "Job Status: job has successfully run\n"
     ]
    },
    {
     "data": {
      "text/plain": [
       "None"
      ]
     },
     "metadata": {},
     "output_type": "display_data"
    },
    {
     "name": "stdout",
     "output_type": "stream",
     "text": [
      "Job Status: job has successfully run\n"
     ]
    },
    {
     "data": {
      "text/plain": [
       "None"
      ]
     },
     "metadata": {},
     "output_type": "display_data"
    },
    {
     "name": "stdout",
     "output_type": "stream",
     "text": [
      "Binary Phase in experiment 3 [0, 0, 0, 1, 0, 1, 1]\n",
      "Job Status: job has successfully run\n"
     ]
    },
    {
     "data": {
      "text/plain": [
       "None"
      ]
     },
     "metadata": {},
     "output_type": "display_data"
    },
    {
     "name": "stdout",
     "output_type": "stream",
     "text": [
      "Job Status: job has successfully run\n"
     ]
    },
    {
     "data": {
      "text/plain": [
       "None"
      ]
     },
     "metadata": {},
     "output_type": "display_data"
    },
    {
     "name": "stdout",
     "output_type": "stream",
     "text": [
      "Job Status: job has successfully run\n"
     ]
    },
    {
     "data": {
      "text/plain": [
       "None"
      ]
     },
     "metadata": {},
     "output_type": "display_data"
    },
    {
     "name": "stdout",
     "output_type": "stream",
     "text": [
      "Job Status: job has successfully run\n"
     ]
    },
    {
     "data": {
      "text/plain": [
       "None"
      ]
     },
     "metadata": {},
     "output_type": "display_data"
    },
    {
     "name": "stdout",
     "output_type": "stream",
     "text": [
      "Job Status: job has successfully run\n"
     ]
    },
    {
     "data": {
      "text/plain": [
       "None"
      ]
     },
     "metadata": {},
     "output_type": "display_data"
    },
    {
     "name": "stdout",
     "output_type": "stream",
     "text": [
      "Job Status: job has successfully run\n"
     ]
    },
    {
     "data": {
      "text/plain": [
       "None"
      ]
     },
     "metadata": {},
     "output_type": "display_data"
    },
    {
     "name": "stdout",
     "output_type": "stream",
     "text": [
      "Job Status: job has successfully run\n"
     ]
    },
    {
     "data": {
      "text/plain": [
       "None"
      ]
     },
     "metadata": {},
     "output_type": "display_data"
    },
    {
     "name": "stdout",
     "output_type": "stream",
     "text": [
      "Binary Phase in experiment 4 [0, 0, 0, 0, 0, 0, 0]\n",
      "Decimal Phase : 0.2609375\n",
      "Absolute Error : 0.347212\n",
      "Percentage error : 66.2618320610687 %\n",
      "\n",
      "\n",
      "ITERATION NUMBER 7 ...\n",
      "\n",
      "\n",
      "Job Status: job has successfully run\n"
     ]
    },
    {
     "data": {
      "text/plain": [
       "None"
      ]
     },
     "metadata": {},
     "output_type": "display_data"
    },
    {
     "name": "stdout",
     "output_type": "stream",
     "text": [
      "Job Status: job has successfully run\n"
     ]
    },
    {
     "data": {
      "text/plain": [
       "None"
      ]
     },
     "metadata": {},
     "output_type": "display_data"
    },
    {
     "name": "stdout",
     "output_type": "stream",
     "text": [
      "Job Status: job has successfully run\n"
     ]
    },
    {
     "data": {
      "text/plain": [
       "None"
      ]
     },
     "metadata": {},
     "output_type": "display_data"
    },
    {
     "name": "stdout",
     "output_type": "stream",
     "text": [
      "Job Status: job has successfully run\n"
     ]
    },
    {
     "data": {
      "text/plain": [
       "None"
      ]
     },
     "metadata": {},
     "output_type": "display_data"
    },
    {
     "name": "stdout",
     "output_type": "stream",
     "text": [
      "Job Status: job has successfully run\n"
     ]
    },
    {
     "data": {
      "text/plain": [
       "None"
      ]
     },
     "metadata": {},
     "output_type": "display_data"
    },
    {
     "name": "stdout",
     "output_type": "stream",
     "text": [
      "Job Status: job has successfully run\n"
     ]
    },
    {
     "data": {
      "text/plain": [
       "None"
      ]
     },
     "metadata": {},
     "output_type": "display_data"
    },
    {
     "name": "stdout",
     "output_type": "stream",
     "text": [
      "Job Status: job has successfully run\n"
     ]
    },
    {
     "data": {
      "text/plain": [
       "None"
      ]
     },
     "metadata": {},
     "output_type": "display_data"
    },
    {
     "name": "stdout",
     "output_type": "stream",
     "text": [
      "Job Status: job has successfully run\n"
     ]
    },
    {
     "data": {
      "text/plain": [
       "None"
      ]
     },
     "metadata": {},
     "output_type": "display_data"
    },
    {
     "name": "stdout",
     "output_type": "stream",
     "text": [
      "Binary Phase in experiment 0 [1, 1, 1, 1, 1, 0, 0, 1]\n",
      "Job Status: job has successfully run\n"
     ]
    },
    {
     "data": {
      "text/plain": [
       "None"
      ]
     },
     "metadata": {},
     "output_type": "display_data"
    },
    {
     "name": "stdout",
     "output_type": "stream",
     "text": [
      "Job Status: job has successfully run\n"
     ]
    },
    {
     "data": {
      "text/plain": [
       "None"
      ]
     },
     "metadata": {},
     "output_type": "display_data"
    },
    {
     "name": "stdout",
     "output_type": "stream",
     "text": [
      "Job Status: job has successfully run\n"
     ]
    },
    {
     "data": {
      "text/plain": [
       "None"
      ]
     },
     "metadata": {},
     "output_type": "display_data"
    },
    {
     "name": "stdout",
     "output_type": "stream",
     "text": [
      "Job Status: job has successfully run\n"
     ]
    },
    {
     "data": {
      "text/plain": [
       "None"
      ]
     },
     "metadata": {},
     "output_type": "display_data"
    },
    {
     "name": "stdout",
     "output_type": "stream",
     "text": [
      "Job Status: job has successfully run\n"
     ]
    },
    {
     "data": {
      "text/plain": [
       "None"
      ]
     },
     "metadata": {},
     "output_type": "display_data"
    },
    {
     "name": "stdout",
     "output_type": "stream",
     "text": [
      "Job Status: job has successfully run\n"
     ]
    },
    {
     "data": {
      "text/plain": [
       "None"
      ]
     },
     "metadata": {},
     "output_type": "display_data"
    },
    {
     "name": "stdout",
     "output_type": "stream",
     "text": [
      "Job Status: job has successfully run\n"
     ]
    },
    {
     "data": {
      "text/plain": [
       "None"
      ]
     },
     "metadata": {},
     "output_type": "display_data"
    },
    {
     "name": "stdout",
     "output_type": "stream",
     "text": [
      "Job Status: job has successfully run\n"
     ]
    },
    {
     "data": {
      "text/plain": [
       "None"
      ]
     },
     "metadata": {},
     "output_type": "display_data"
    },
    {
     "name": "stdout",
     "output_type": "stream",
     "text": [
      "Binary Phase in experiment 1 [0, 0, 1, 1, 1, 1, 0, 1]\n",
      "Job Status: job has successfully run\n"
     ]
    },
    {
     "data": {
      "text/plain": [
       "None"
      ]
     },
     "metadata": {},
     "output_type": "display_data"
    },
    {
     "name": "stdout",
     "output_type": "stream",
     "text": [
      "Job Status: job has successfully run\n"
     ]
    },
    {
     "data": {
      "text/plain": [
       "None"
      ]
     },
     "metadata": {},
     "output_type": "display_data"
    },
    {
     "name": "stdout",
     "output_type": "stream",
     "text": [
      "Job Status: job has successfully run\n"
     ]
    },
    {
     "data": {
      "text/plain": [
       "None"
      ]
     },
     "metadata": {},
     "output_type": "display_data"
    },
    {
     "name": "stdout",
     "output_type": "stream",
     "text": [
      "Job Status: job has successfully run\n"
     ]
    },
    {
     "data": {
      "text/plain": [
       "None"
      ]
     },
     "metadata": {},
     "output_type": "display_data"
    },
    {
     "name": "stdout",
     "output_type": "stream",
     "text": [
      "Job Status: job has successfully run\n"
     ]
    },
    {
     "data": {
      "text/plain": [
       "None"
      ]
     },
     "metadata": {},
     "output_type": "display_data"
    },
    {
     "name": "stdout",
     "output_type": "stream",
     "text": [
      "Job Status: job has successfully run\n"
     ]
    },
    {
     "data": {
      "text/plain": [
       "None"
      ]
     },
     "metadata": {},
     "output_type": "display_data"
    },
    {
     "name": "stdout",
     "output_type": "stream",
     "text": [
      "Job Status: job has successfully run\n"
     ]
    },
    {
     "data": {
      "text/plain": [
       "None"
      ]
     },
     "metadata": {},
     "output_type": "display_data"
    },
    {
     "name": "stdout",
     "output_type": "stream",
     "text": [
      "Job Status: job has successfully run\n"
     ]
    },
    {
     "data": {
      "text/plain": [
       "None"
      ]
     },
     "metadata": {},
     "output_type": "display_data"
    },
    {
     "name": "stdout",
     "output_type": "stream",
     "text": [
      "Binary Phase in experiment 2 [1, 1, 0, 0, 1, 1, 0, 1]\n",
      "Job Status: job has successfully run\n"
     ]
    },
    {
     "data": {
      "text/plain": [
       "None"
      ]
     },
     "metadata": {},
     "output_type": "display_data"
    },
    {
     "name": "stdout",
     "output_type": "stream",
     "text": [
      "Job Status: job has successfully run\n"
     ]
    },
    {
     "data": {
      "text/plain": [
       "None"
      ]
     },
     "metadata": {},
     "output_type": "display_data"
    },
    {
     "name": "stdout",
     "output_type": "stream",
     "text": [
      "Job Status: job has successfully run\n"
     ]
    },
    {
     "data": {
      "text/plain": [
       "None"
      ]
     },
     "metadata": {},
     "output_type": "display_data"
    },
    {
     "name": "stdout",
     "output_type": "stream",
     "text": [
      "Job Status: job has successfully run\n"
     ]
    },
    {
     "data": {
      "text/plain": [
       "None"
      ]
     },
     "metadata": {},
     "output_type": "display_data"
    },
    {
     "name": "stdout",
     "output_type": "stream",
     "text": [
      "Job Status: job has successfully run\n"
     ]
    },
    {
     "data": {
      "text/plain": [
       "None"
      ]
     },
     "metadata": {},
     "output_type": "display_data"
    },
    {
     "name": "stdout",
     "output_type": "stream",
     "text": [
      "Job Status: job has successfully run\n"
     ]
    },
    {
     "data": {
      "text/plain": [
       "None"
      ]
     },
     "metadata": {},
     "output_type": "display_data"
    },
    {
     "name": "stdout",
     "output_type": "stream",
     "text": [
      "Job Status: job has successfully run\n"
     ]
    },
    {
     "data": {
      "text/plain": [
       "None"
      ]
     },
     "metadata": {},
     "output_type": "display_data"
    },
    {
     "name": "stdout",
     "output_type": "stream",
     "text": [
      "Job Status: job has successfully run\n"
     ]
    },
    {
     "data": {
      "text/plain": [
       "None"
      ]
     },
     "metadata": {},
     "output_type": "display_data"
    },
    {
     "name": "stdout",
     "output_type": "stream",
     "text": [
      "Binary Phase in experiment 3 [1, 1, 1, 0, 1, 1, 1, 0]\n",
      "Job Status: job has successfully run\n"
     ]
    },
    {
     "data": {
      "text/plain": [
       "None"
      ]
     },
     "metadata": {},
     "output_type": "display_data"
    },
    {
     "name": "stdout",
     "output_type": "stream",
     "text": [
      "Job Status: job has successfully run\n"
     ]
    },
    {
     "data": {
      "text/plain": [
       "None"
      ]
     },
     "metadata": {},
     "output_type": "display_data"
    },
    {
     "name": "stdout",
     "output_type": "stream",
     "text": [
      "Job Status: job has successfully run\n"
     ]
    },
    {
     "data": {
      "text/plain": [
       "None"
      ]
     },
     "metadata": {},
     "output_type": "display_data"
    },
    {
     "name": "stdout",
     "output_type": "stream",
     "text": [
      "Job Status: job has successfully run\n"
     ]
    },
    {
     "data": {
      "text/plain": [
       "None"
      ]
     },
     "metadata": {},
     "output_type": "display_data"
    },
    {
     "name": "stdout",
     "output_type": "stream",
     "text": [
      "Job Status: job has successfully run\n"
     ]
    },
    {
     "data": {
      "text/plain": [
       "None"
      ]
     },
     "metadata": {},
     "output_type": "display_data"
    },
    {
     "name": "stdout",
     "output_type": "stream",
     "text": [
      "Job Status: job has successfully run\n"
     ]
    },
    {
     "data": {
      "text/plain": [
       "None"
      ]
     },
     "metadata": {},
     "output_type": "display_data"
    },
    {
     "name": "stdout",
     "output_type": "stream",
     "text": [
      "Job Status: job has successfully run\n"
     ]
    },
    {
     "data": {
      "text/plain": [
       "None"
      ]
     },
     "metadata": {},
     "output_type": "display_data"
    },
    {
     "name": "stdout",
     "output_type": "stream",
     "text": [
      "Job Status: job has successfully run\n"
     ]
    },
    {
     "data": {
      "text/plain": [
       "None"
      ]
     },
     "metadata": {},
     "output_type": "display_data"
    },
    {
     "name": "stdout",
     "output_type": "stream",
     "text": [
      "Binary Phase in experiment 4 [0, 0, 0, 0, 1, 0, 0, 0]\n",
      "Decimal Phase : 0.59453125\n",
      "Absolute Error : 0.38192000000000004\n",
      "Percentage error : 72.88549618320612 %\n"
     ]
    },
    {
     "data": {
      "image/png": "[encoded data removed]",
      "text/plain": [
       "<Figure size 648x504 with 1 Axes>"
      ]
     },
     "metadata": {
      "needs_background": "light"
     },
     "output_type": "display_data"
    }
   ],
   "source": [
    "get_estimate_plot_phase(theta=0.524, iters = 9,unknown= True, save=True, experiments=5,backend=casb)"
   ]
  },
  {
   "cell_type": "code",
   "execution_count": null,
   "metadata": {
    "ExecuteTime": {
     "start_time": "2021-05-27T07:21:23.215Z"
    }
   },
   "outputs": [
    {
     "name": "stdout",
     "output_type": "stream",
     "text": [
      "\n",
      "\n",
      "ITERATION NUMBER 1 ...\n",
      "\n",
      "\n",
      "Job Status: job has successfully run\n"
     ]
    },
    {
     "data": {
      "text/plain": [
       "None"
      ]
     },
     "metadata": {},
     "output_type": "display_data"
    },
    {
     "name": "stdout",
     "output_type": "stream",
     "text": [
      "Job Status: job has successfully run\n"
     ]
    },
    {
     "data": {
      "text/plain": [
       "None"
      ]
     },
     "metadata": {},
     "output_type": "display_data"
    },
    {
     "name": "stdout",
     "output_type": "stream",
     "text": [
      "Binary Phase in experiment 0 [0, 1]\n",
      "Job Status: job has successfully run\n"
     ]
    },
    {
     "data": {
      "text/plain": [
       "None"
      ]
     },
     "metadata": {},
     "output_type": "display_data"
    },
    {
     "name": "stdout",
     "output_type": "stream",
     "text": [
      "Job Status: job has successfully run\n"
     ]
    },
    {
     "data": {
      "text/plain": [
       "None"
      ]
     },
     "metadata": {},
     "output_type": "display_data"
    },
    {
     "name": "stdout",
     "output_type": "stream",
     "text": [
      "Binary Phase in experiment 1 [0, 1]\n",
      "Job Status: job has successfully run\n"
     ]
    },
    {
     "data": {
      "text/plain": [
       "None"
      ]
     },
     "metadata": {},
     "output_type": "display_data"
    },
    {
     "name": "stdout",
     "output_type": "stream",
     "text": [
      "Job Status: job has successfully run\n"
     ]
    },
    {
     "data": {
      "text/plain": [
       "None"
      ]
     },
     "metadata": {},
     "output_type": "display_data"
    },
    {
     "name": "stdout",
     "output_type": "stream",
     "text": [
      "Binary Phase in experiment 2 [0, 1]\n",
      "Job Status: job has successfully run\n"
     ]
    },
    {
     "data": {
      "text/plain": [
       "None"
      ]
     },
     "metadata": {},
     "output_type": "display_data"
    },
    {
     "name": "stdout",
     "output_type": "stream",
     "text": [
      "Job Status: job has successfully run\n"
     ]
    },
    {
     "data": {
      "text/plain": [
       "None"
      ]
     },
     "metadata": {},
     "output_type": "display_data"
    },
    {
     "name": "stdout",
     "output_type": "stream",
     "text": [
      "Binary Phase in experiment 3 [0, 1]\n",
      "Decimal Phase : 0.25\n",
      "Absolute Error : 0.0149\n",
      "Percentage error : 6.337728626116546 %\n",
      "\n",
      "\n",
      "ITERATION NUMBER 2 ...\n",
      "\n",
      "\n",
      "Job Status: job has successfully run\n"
     ]
    },
    {
     "data": {
      "text/plain": [
       "None"
      ]
     },
     "metadata": {},
     "output_type": "display_data"
    },
    {
     "name": "stdout",
     "output_type": "stream",
     "text": [
      "Job Status: job has successfully run\n"
     ]
    },
    {
     "data": {
      "text/plain": [
       "None"
      ]
     },
     "metadata": {},
     "output_type": "display_data"
    },
    {
     "name": "stdout",
     "output_type": "stream",
     "text": [
      "Job Status: job has successfully run\n"
     ]
    },
    {
     "data": {
      "text/plain": [
       "None"
      ]
     },
     "metadata": {},
     "output_type": "display_data"
    },
    {
     "name": "stdout",
     "output_type": "stream",
     "text": [
      "Binary Phase in experiment 0 [0, 1, 0]\n",
      "Job Status: job has successfully run\n"
     ]
    },
    {
     "data": {
      "text/plain": [
       "None"
      ]
     },
     "metadata": {},
     "output_type": "display_data"
    },
    {
     "name": "stdout",
     "output_type": "stream",
     "text": [
      "Job Status: job has successfully run\n"
     ]
    },
    {
     "data": {
      "text/plain": [
       "None"
      ]
     },
     "metadata": {},
     "output_type": "display_data"
    },
    {
     "name": "stdout",
     "output_type": "stream",
     "text": [
      "Job Status: job has successfully run\n"
     ]
    },
    {
     "data": {
      "text/plain": [
       "None"
      ]
     },
     "metadata": {},
     "output_type": "display_data"
    },
    {
     "name": "stdout",
     "output_type": "stream",
     "text": [
      "Binary Phase in experiment 1 [0, 1, 0]\n",
      "Job Status: job has successfully run\n"
     ]
    },
    {
     "data": {
      "text/plain": [
       "None"
      ]
     },
     "metadata": {},
     "output_type": "display_data"
    },
    {
     "name": "stdout",
     "output_type": "stream",
     "text": [
      "Job Status: job has successfully run\n"
     ]
    },
    {
     "data": {
      "text/plain": [
       "None"
      ]
     },
     "metadata": {},
     "output_type": "display_data"
    },
    {
     "name": "stdout",
     "output_type": "stream",
     "text": [
      "Job Status: job has successfully run\n"
     ]
    },
    {
     "data": {
      "text/plain": [
       "None"
      ]
     },
     "metadata": {},
     "output_type": "display_data"
    },
    {
     "name": "stdout",
     "output_type": "stream",
     "text": [
      "Binary Phase in experiment 2 [0, 0, 0]\n",
      "Job Status: job has successfully run\n"
     ]
    },
    {
     "data": {
      "text/plain": [
       "None"
      ]
     },
     "metadata": {},
     "output_type": "display_data"
    },
    {
     "name": "stdout",
     "output_type": "stream",
     "text": [
      "Job Status: job has successfully run\n"
     ]
    },
    {
     "data": {
      "text/plain": [
       "None"
      ]
     },
     "metadata": {},
     "output_type": "display_data"
    },
    {
     "name": "stdout",
     "output_type": "stream",
     "text": [
      "Job Status: job has successfully run\n"
     ]
    },
    {
     "data": {
      "text/plain": [
       "None"
      ]
     },
     "metadata": {},
     "output_type": "display_data"
    },
    {
     "name": "stdout",
     "output_type": "stream",
     "text": [
      "Binary Phase in experiment 3 [0, 1, 0]\n",
      "Decimal Phase : 0.1875\n",
      "Absolute Error : 0.06995000000000001\n",
      "Percentage error : 29.753296469587415 %\n",
      "\n",
      "\n",
      "ITERATION NUMBER 3 ...\n",
      "\n",
      "\n",
      "Job Status: job has successfully run\n"
     ]
    },
    {
     "data": {
      "text/plain": [
       "None"
      ]
     },
     "metadata": {},
     "output_type": "display_data"
    },
    {
     "name": "stdout",
     "output_type": "stream",
     "text": [
      "Job Status: job has successfully run\n"
     ]
    },
    {
     "data": {
      "text/plain": [
       "None"
      ]
     },
     "metadata": {},
     "output_type": "display_data"
    },
    {
     "name": "stdout",
     "output_type": "stream",
     "text": [
      "Job Status: job has successfully run\n"
     ]
    },
    {
     "data": {
      "text/plain": [
       "None"
      ]
     },
     "metadata": {},
     "output_type": "display_data"
    },
    {
     "name": "stdout",
     "output_type": "stream",
     "text": [
      "Job Status: job has successfully run\n"
     ]
    },
    {
     "data": {
      "text/plain": [
       "None"
      ]
     },
     "metadata": {},
     "output_type": "display_data"
    },
    {
     "name": "stdout",
     "output_type": "stream",
     "text": [
      "Binary Phase in experiment 0 [0, 0, 0, 0]\n",
      "Job Status: job has successfully run\n"
     ]
    },
    {
     "data": {
      "text/plain": [
       "None"
      ]
     },
     "metadata": {},
     "output_type": "display_data"
    },
    {
     "name": "stdout",
     "output_type": "stream",
     "text": [
      "Job Status: job has successfully run\n"
     ]
    },
    {
     "data": {
      "text/plain": [
       "None"
      ]
     },
     "metadata": {},
     "output_type": "display_data"
    },
    {
     "name": "stdout",
     "output_type": "stream",
     "text": [
      "Job Status: job has successfully run\n"
     ]
    },
    {
     "data": {
      "text/plain": [
       "None"
      ]
     },
     "metadata": {},
     "output_type": "display_data"
    },
    {
     "name": "stdout",
     "output_type": "stream",
     "text": [
      "Job Status: job has successfully run\n"
     ]
    },
    {
     "data": {
      "text/plain": [
       "None"
      ]
     },
     "metadata": {},
     "output_type": "display_data"
    },
    {
     "name": "stdout",
     "output_type": "stream",
     "text": [
      "Binary Phase in experiment 1 [0, 0, 1, 1]\n",
      "Job Status: job has successfully run\n"
     ]
    },
    {
     "data": {
      "text/plain": [
       "None"
      ]
     },
     "metadata": {},
     "output_type": "display_data"
    },
    {
     "name": "stdout",
     "output_type": "stream",
     "text": [
      "Job Status: job has successfully run\n"
     ]
    },
    {
     "data": {
      "text/plain": [
       "None"
      ]
     },
     "metadata": {},
     "output_type": "display_data"
    },
    {
     "name": "stdout",
     "output_type": "stream",
     "text": [
      "Job Status: job has successfully run\n"
     ]
    },
    {
     "data": {
      "text/plain": [
       "None"
      ]
     },
     "metadata": {},
     "output_type": "display_data"
    },
    {
     "name": "stdout",
     "output_type": "stream",
     "text": [
      "Job Status: job has successfully run\n"
     ]
    },
    {
     "data": {
      "text/plain": [
       "None"
      ]
     },
     "metadata": {},
     "output_type": "display_data"
    },
    {
     "name": "stdout",
     "output_type": "stream",
     "text": [
      "Binary Phase in experiment 2 [0, 1, 0, 0]\n",
      "Job Status: job has successfully run\n"
     ]
    },
    {
     "data": {
      "text/plain": [
       "None"
      ]
     },
     "metadata": {},
     "output_type": "display_data"
    },
    {
     "name": "stdout",
     "output_type": "stream",
     "text": [
      "Job Status: job has successfully run\n"
     ]
    },
    {
     "data": {
      "text/plain": [
       "None"
      ]
     },
     "metadata": {},
     "output_type": "display_data"
    },
    {
     "name": "stdout",
     "output_type": "stream",
     "text": [
      "Job Status: job has successfully run\n"
     ]
    },
    {
     "data": {
      "text/plain": [
       "None"
      ]
     },
     "metadata": {},
     "output_type": "display_data"
    },
    {
     "name": "stdout",
     "output_type": "stream",
     "text": [
      "Job Status: job has successfully run\n"
     ]
    },
    {
     "data": {
      "text/plain": [
       "None"
      ]
     },
     "metadata": {},
     "output_type": "display_data"
    },
    {
     "name": "stdout",
     "output_type": "stream",
     "text": [
      "Binary Phase in experiment 3 [0, 1, 0, 0]\n",
      "Decimal Phase : 0.171875\n",
      "Absolute Error : 0.07812500000000001\n",
      "Percentage error : 33.230540195661426 %\n",
      "\n",
      "\n",
      "ITERATION NUMBER 4 ...\n",
      "\n",
      "\n",
      "Job Status: job has successfully run\n"
     ]
    },
    {
     "data": {
      "text/plain": [
       "None"
      ]
     },
     "metadata": {},
     "output_type": "display_data"
    },
    {
     "name": "stdout",
     "output_type": "stream",
     "text": [
      "Job Status: job has successfully run\n"
     ]
    },
    {
     "data": {
      "text/plain": [
       "None"
      ]
     },
     "metadata": {},
     "output_type": "display_data"
    },
    {
     "name": "stdout",
     "output_type": "stream",
     "text": [
      "Job Status: job has successfully run\n"
     ]
    },
    {
     "data": {
      "text/plain": [
       "None"
      ]
     },
     "metadata": {},
     "output_type": "display_data"
    },
    {
     "name": "stdout",
     "output_type": "stream",
     "text": [
      "Job Status: job has successfully run\n"
     ]
    },
    {
     "data": {
      "text/plain": [
       "None"
      ]
     },
     "metadata": {},
     "output_type": "display_data"
    },
    {
     "name": "stdout",
     "output_type": "stream",
     "text": [
      "Job Status: job has successfully run\n"
     ]
    },
    {
     "data": {
      "text/plain": [
       "None"
      ]
     },
     "metadata": {},
     "output_type": "display_data"
    },
    {
     "name": "stdout",
     "output_type": "stream",
     "text": [
      "Binary Phase in experiment 0 [0, 1, 0, 0, 0]\n",
      "Job Status: job has successfully run\n"
     ]
    },
    {
     "data": {
      "text/plain": [
       "None"
      ]
     },
     "metadata": {},
     "output_type": "display_data"
    },
    {
     "name": "stdout",
     "output_type": "stream",
     "text": [
      "Job Status: job has successfully run\n"
     ]
    },
    {
     "data": {
      "text/plain": [
       "None"
      ]
     },
     "metadata": {},
     "output_type": "display_data"
    },
    {
     "name": "stdout",
     "output_type": "stream",
     "text": [
      "Job Status: job has successfully run\n"
     ]
    },
    {
     "data": {
      "text/plain": [
       "None"
      ]
     },
     "metadata": {},
     "output_type": "display_data"
    },
    {
     "name": "stdout",
     "output_type": "stream",
     "text": [
      "Job Status: job has successfully run\n"
     ]
    },
    {
     "data": {
      "text/plain": [
       "None"
      ]
     },
     "metadata": {},
     "output_type": "display_data"
    },
    {
     "name": "stdout",
     "output_type": "stream",
     "text": [
      "Job Status: job has successfully run\n"
     ]
    },
    {
     "data": {
      "text/plain": [
       "None"
      ]
     },
     "metadata": {},
     "output_type": "display_data"
    },
    {
     "name": "stdout",
     "output_type": "stream",
     "text": [
      "Binary Phase in experiment 1 [1, 1, 0, 0, 1]\n",
      "Job Status: job has successfully run\n"
     ]
    },
    {
     "data": {
      "text/plain": [
       "None"
      ]
     },
     "metadata": {},
     "output_type": "display_data"
    },
    {
     "name": "stdout",
     "output_type": "stream",
     "text": [
      "Job Status: job has successfully run\n"
     ]
    },
    {
     "data": {
      "text/plain": [
       "None"
      ]
     },
     "metadata": {},
     "output_type": "display_data"
    },
    {
     "name": "stdout",
     "output_type": "stream",
     "text": [
      "Job Status: job has successfully run\n"
     ]
    },
    {
     "data": {
      "text/plain": [
       "None"
      ]
     },
     "metadata": {},
     "output_type": "display_data"
    },
    {
     "name": "stdout",
     "output_type": "stream",
     "text": [
      "Job Status: job has successfully run\n"
     ]
    },
    {
     "data": {
      "text/plain": [
       "None"
      ]
     },
     "metadata": {},
     "output_type": "display_data"
    },
    {
     "name": "stdout",
     "output_type": "stream",
     "text": [
      "Job Status: job has successfully run\n"
     ]
    },
    {
     "data": {
      "text/plain": [
       "None"
      ]
     },
     "metadata": {},
     "output_type": "display_data"
    },
    {
     "name": "stdout",
     "output_type": "stream",
     "text": [
      "Binary Phase in experiment 2 [0, 0, 1, 0, 1]\n",
      "Job Status: job has successfully run\n"
     ]
    },
    {
     "data": {
      "text/plain": [
       "None"
      ]
     },
     "metadata": {},
     "output_type": "display_data"
    },
    {
     "name": "stdout",
     "output_type": "stream",
     "text": [
      "Job Status: job has successfully run\n"
     ]
    },
    {
     "data": {
      "text/plain": [
       "None"
      ]
     },
     "metadata": {},
     "output_type": "display_data"
    },
    {
     "name": "stdout",
     "output_type": "stream",
     "text": [
      "Job Status: job has successfully run\n"
     ]
    },
    {
     "data": {
      "text/plain": [
       "None"
      ]
     },
     "metadata": {},
     "output_type": "display_data"
    },
    {
     "name": "stdout",
     "output_type": "stream",
     "text": [
      "Job Status: job has successfully run\n"
     ]
    },
    {
     "data": {
      "text/plain": [
       "None"
      ]
     },
     "metadata": {},
     "output_type": "display_data"
    },
    {
     "name": "stdout",
     "output_type": "stream",
     "text": [
      "Job Status: job has successfully run\n"
     ]
    },
    {
     "data": {
      "text/plain": [
       "None"
      ]
     },
     "metadata": {},
     "output_type": "display_data"
    },
    {
     "name": "stdout",
     "output_type": "stream",
     "text": [
      "Binary Phase in experiment 3 [0, 0, 1, 1, 1]\n",
      "Decimal Phase : 0.3515625\n",
      "Absolute Error : 0.1640625\n",
      "Percentage error : 69.78413441088898 %\n",
      "\n",
      "\n",
      "ITERATION NUMBER 5 ...\n",
      "\n",
      "\n",
      "Job Status: job has successfully run\n"
     ]
    },
    {
     "data": {
      "text/plain": [
       "None"
      ]
     },
     "metadata": {},
     "output_type": "display_data"
    },
    {
     "name": "stdout",
     "output_type": "stream",
     "text": [
      "Job Status: job has successfully run\n"
     ]
    },
    {
     "data": {
      "text/plain": [
       "None"
      ]
     },
     "metadata": {},
     "output_type": "display_data"
    },
    {
     "name": "stdout",
     "output_type": "stream",
     "text": [
      "Job Status: job has successfully run\n"
     ]
    },
    {
     "data": {
      "text/plain": [
       "None"
      ]
     },
     "metadata": {},
     "output_type": "display_data"
    },
    {
     "name": "stdout",
     "output_type": "stream",
     "text": [
      "Job Status: job has successfully run\n"
     ]
    },
    {
     "data": {
      "text/plain": [
       "None"
      ]
     },
     "metadata": {},
     "output_type": "display_data"
    },
    {
     "name": "stdout",
     "output_type": "stream",
     "text": [
      "Job Status: job has successfully run\n"
     ]
    },
    {
     "data": {
      "text/plain": [
       "None"
      ]
     },
     "metadata": {},
     "output_type": "display_data"
    },
    {
     "name": "stdout",
     "output_type": "stream",
     "text": [
      "Job Status: job has successfully run\n"
     ]
    },
    {
     "data": {
      "text/plain": [
       "None"
      ]
     },
     "metadata": {},
     "output_type": "display_data"
    },
    {
     "name": "stdout",
     "output_type": "stream",
     "text": [
      "Binary Phase in experiment 0 [0, 0, 1, 1, 1, 1]\n",
      "Job Status: job has successfully run\n"
     ]
    },
    {
     "data": {
      "text/plain": [
       "None"
      ]
     },
     "metadata": {},
     "output_type": "display_data"
    },
    {
     "name": "stdout",
     "output_type": "stream",
     "text": [
      "Job Status: job is queued (1)     "
     ]
    }
   ],
   "source": [
    "get_estimate_plot_phase(theta=0.2351, iters = 8,experiments = 4,unknown=True, save=True, backend=manila)"
   ]
  },
  {
   "cell_type": "code",
   "execution_count": 127,
   "metadata": {
    "ExecuteTime": {
     "end_time": "2021-05-27T06:54:00.963222Z",
     "start_time": "2021-05-27T06:53:05.485827Z"
    }
   },
   "outputs": [
    {
     "name": "stdout",
     "output_type": "stream",
     "text": [
      "\n",
      "\n",
      "ITERATION NUMBER 1 ...\n",
      "\n",
      "\n",
      "Binary Phase in experiment 0 [0, 1]\n",
      "Binary Phase in experiment 1 [0, 1]\n",
      "Binary Phase in experiment 2 [0, 1]\n",
      "Binary Phase in experiment 3 [0, 0]\n",
      "Binary Phase in experiment 4 [0, 1]\n",
      "Decimal Phase : 0.2\n",
      "Absolute Error : 0.13340000000000002\n",
      "Percentage error : 120.18018018018019 %\n",
      "\n",
      "\n",
      "ITERATION NUMBER 2 ...\n",
      "\n",
      "\n",
      "Binary Phase in experiment 0 [0, 0, 1]\n",
      "Binary Phase in experiment 1 [0, 0, 1]\n",
      "Binary Phase in experiment 2 [0, 0, 1]\n",
      "Binary Phase in experiment 3 [0, 0, 1]\n",
      "Binary Phase in experiment 4 [0, 0, 1]\n",
      "Decimal Phase : 0.125\n",
      "Absolute Error : 0.014000000000000002\n",
      "Percentage error : 12.612612612612613 %\n",
      "\n",
      "\n",
      "ITERATION NUMBER 3 ...\n",
      "\n",
      "\n",
      "Binary Phase in experiment 0 [0, 0, 0, 1]\n",
      "Binary Phase in experiment 1 [0, 0, 1, 0]\n",
      "Binary Phase in experiment 2 [0, 0, 1, 0]\n",
      "Binary Phase in experiment 3 [0, 0, 1, 0]\n",
      "Binary Phase in experiment 4 [0, 0, 1, 1]\n",
      "Decimal Phase : 0.125\n",
      "Absolute Error : 0.0334\n",
      "Percentage error : 30.09009009009009 %\n",
      "\n",
      "\n",
      "ITERATION NUMBER 4 ...\n",
      "\n",
      "\n",
      "Binary Phase in experiment 0 [0, 0, 1, 0, 0]\n",
      "Binary Phase in experiment 1 [0, 0, 0, 1, 1]\n",
      "Binary Phase in experiment 2 [0, 0, 1, 0, 0]\n",
      "Binary Phase in experiment 3 [0, 0, 0, 1, 1]\n",
      "Binary Phase in experiment 4 [0, 0, 1, 0, 1]\n",
      "Decimal Phase : 0.11875\n",
      "Absolute Error : 0.02155\n",
      "Percentage error : 19.414414414414413 %\n",
      "\n",
      "\n",
      "ITERATION NUMBER 5 ...\n",
      "\n",
      "\n",
      "Binary Phase in experiment 0 [0, 0, 0, 1, 1, 1]\n",
      "Binary Phase in experiment 1 [0, 0, 0, 1, 1, 1]\n",
      "Binary Phase in experiment 2 [0, 0, 0, 1, 1, 1]\n",
      "Binary Phase in experiment 3 [0, 0, 0, 1, 1, 1]\n",
      "Binary Phase in experiment 4 [0, 0, 0, 1, 1, 1]\n",
      "Decimal Phase : 0.109375\n",
      "Absolute Error : 0.00163\n",
      "Percentage error : 1.4684684684684686 %\n",
      "\n",
      "\n",
      "ITERATION NUMBER 6 ...\n",
      "\n",
      "\n",
      "Binary Phase in experiment 0 [0, 0, 0, 1, 1, 1, 0]\n",
      "Binary Phase in experiment 1 [0, 0, 0, 1, 1, 1, 0]\n",
      "Binary Phase in experiment 2 [0, 0, 0, 1, 1, 1, 0]\n",
      "Binary Phase in experiment 3 [0, 0, 0, 1, 1, 1, 0]\n",
      "Binary Phase in experiment 4 [0, 0, 0, 1, 1, 1, 0]\n",
      "Decimal Phase : 0.109375\n",
      "Absolute Error : 0.00163\n",
      "Percentage error : 1.4684684684684686 %\n"
     ]
    },
    {
     "data": {
      "image/png": "[encoded data removed]",
      "text/plain": [
       "<Figure size 648x504 with 1 Axes>"
      ]
     },
     "metadata": {
      "needs_background": "light"
     },
     "output_type": "display_data"
    }
   ],
   "source": [
    "get_estimate_plot_phase(0.111, iters= 8, unknown=True, save=True,experiments=5)"
   ]
  },
  {
   "cell_type": "markdown",
   "metadata": {},
   "source": [
    "- **Testing on Actual Quantum Computers**\n",
    "- The testing was done on the **ibmq-casablanca** and the results were obtained against two different phases with varying precision."
   ]
  },
  {
   "cell_type": "code",
   "execution_count": 59,
   "metadata": {
    "ExecuteTime": {
     "end_time": "2021-05-19T11:58:01.230589Z",
     "start_time": "2021-05-19T11:58:01.218076Z"
    }
   },
   "outputs": [],
   "source": [
    "from iterative_qpe import get_estimate_plot "
   ]
  },
  {
   "cell_type": "code",
   "execution_count": 29,
   "metadata": {
    "ExecuteTime": {
     "end_time": "2021-05-20T10:44:25.929911Z",
     "start_time": "2021-05-20T10:42:49.795816Z"
    }
   },
   "outputs": [
    {
     "name": "stdout",
     "output_type": "stream",
     "text": [
      "\n",
      "\n",
      "ITERATION NUMBER 1 ...\n",
      "\n",
      "\n",
      "Binary Phase in experiment 0 [0, 0]\n",
      "Binary Phase in experiment 1 [0, 0]\n",
      "Binary Phase in experiment 2 [1, 1]\n",
      "Binary Phase in experiment 3 [1, 1]\n",
      "Binary Phase in experiment 4 [1, 1]\n",
      "Decimal Phase : 0.45\n",
      "Absolute Error : 0.36000000000000004\n",
      "Percentage error : 44.44444444444445 %\n",
      "\n",
      "\n",
      "ITERATION NUMBER 2 ...\n",
      "\n",
      "\n",
      "Binary Phase in experiment 0 [1, 1, 0]\n",
      "Binary Phase in experiment 1 [1, 1, 0]\n",
      "Binary Phase in experiment 2 [1, 1, 0]\n",
      "Binary Phase in experiment 3 [1, 1, 1]\n",
      "Binary Phase in experiment 4 [1, 0, 1]\n",
      "Decimal Phase : 0.75\n",
      "Absolute Error : 0.086\n",
      "Percentage error : 10.617283950617283 %\n",
      "\n",
      "\n",
      "ITERATION NUMBER 3 ...\n",
      "\n",
      "\n",
      "Binary Phase in experiment 0 [1, 1, 0, 1]\n",
      "Binary Phase in experiment 1 [1, 1, 0, 1]\n",
      "Binary Phase in experiment 2 [1, 1, 0, 1]\n",
      "Binary Phase in experiment 3 [1, 1, 0, 1]\n",
      "Binary Phase in experiment 4 [1, 1, 0, 1]\n",
      "Decimal Phase : 0.8125\n",
      "Absolute Error : 0.0025\n",
      "Percentage error : 0.30864197530864196 %\n",
      "\n",
      "\n",
      "ITERATION NUMBER 4 ...\n",
      "\n",
      "\n",
      "Binary Phase in experiment 0 [1, 1, 0, 1, 0]\n",
      "Binary Phase in experiment 1 [1, 1, 0, 1, 0]\n",
      "Binary Phase in experiment 2 [1, 1, 0, 1, 0]\n",
      "Binary Phase in experiment 3 [1, 1, 0, 1, 0]\n",
      "Binary Phase in experiment 4 [1, 1, 0, 1, 0]\n",
      "Decimal Phase : 0.8125\n",
      "Absolute Error : 0.0025\n",
      "Percentage error : 0.30864197530864196 %\n",
      "\n",
      "\n",
      "ITERATION NUMBER 5 ...\n",
      "\n",
      "\n",
      "Binary Phase in experiment 0 [1, 1, 0, 1, 0, 0]\n",
      "Binary Phase in experiment 1 [1, 1, 0, 1, 0, 0]\n",
      "Binary Phase in experiment 2 [1, 1, 0, 1, 0, 0]\n",
      "Binary Phase in experiment 3 [1, 1, 0, 1, 0, 0]\n",
      "Binary Phase in experiment 4 [1, 1, 0, 1, 0, 0]\n",
      "Decimal Phase : 0.8125\n",
      "Absolute Error : 0.0025\n",
      "Percentage error : 0.30864197530864196 %\n",
      "\n",
      "\n",
      "ITERATION NUMBER 6 ...\n",
      "\n",
      "\n",
      "Binary Phase in experiment 0 [1, 1, 0, 1, 0, 0, 0]\n",
      "Binary Phase in experiment 1 [1, 1, 0, 1, 0, 0, 0]\n",
      "Binary Phase in experiment 2 [1, 1, 0, 1, 0, 0, 0]\n",
      "Binary Phase in experiment 3 [1, 1, 0, 1, 0, 0, 0]\n",
      "Binary Phase in experiment 4 [1, 1, 0, 0, 1, 1, 1]\n",
      "Decimal Phase : 0.8109375\n",
      "Absolute Error : 0.003062\n",
      "Percentage error : 0.3780246913580247 %\n",
      "\n",
      "\n",
      "ITERATION NUMBER 7 ...\n",
      "\n",
      "\n",
      "Binary Phase in experiment 0 [1, 1, 0, 0, 1, 1, 1, 1]\n",
      "Binary Phase in experiment 1 [1, 1, 1, 0, 0, 0, 0, 1]\n",
      "Binary Phase in experiment 2 [1, 1, 0, 0, 1, 1, 1, 1]\n",
      "Binary Phase in experiment 3 [1, 1, 0, 0, 1, 1, 1, 1]\n",
      "Binary Phase in experiment 4 [1, 1, 0, 0, 1, 1, 1, 1]\n",
      "Decimal Phase : 0.82265625\n",
      "Absolute Error : 0.014909999999999996\n",
      "Percentage error : 1.8407407407407401 %\n"
     ]
    },
    {
     "data": {
      "image/png": "[encoded data removed]",
      "text/plain": [
       "<Figure size 648x504 with 1 Axes>"
      ]
     },
     "metadata": {
      "needs_background": "light"
     },
     "output_type": "display_data"
    }
   ],
   "source": [
    "get_estimate_plot(theta = 0.81,experiments = 5)"
   ]
  },
  {
   "cell_type": "code",
   "execution_count": null,
   "metadata": {},
   "outputs": [],
   "source": []
  }
 ],
 "metadata": {
  "kernelspec": {
   "display_name": "Python 3",
   "language": "python",
   "name": "python3"
  },
  "language_info": {
   "codemirror_mode": {
    "name": "ipython",
    "version": 3
   },
   "file_extension": ".py",
   "mimetype": "text/x-python",
   "name": "python",
   "nbconvert_exporter": "python",
   "pygments_lexer": "ipython3",
   "version": "3.7.4"
  },
  "varInspector": {
   "cols": {
    "lenName": 16,
    "lenType": 16,
    "lenVar": 40
   },
   "kernels_config": {
    "python": {
     "delete_cmd_postfix": "",
     "delete_cmd_prefix": "del ",
     "library": "var_list.py",
     "varRefreshCmd": "print(var_dic_list())"
    },
    "r": {
     "delete_cmd_postfix": ") ",
     "delete_cmd_prefix": "rm(",
     "library": "var_list.r",
     "varRefreshCmd": "cat(var_dic_list()) "
    }
   },
   "types_to_exclude": [
    "module",
    "function",
    "builtin_function_or_method",
    "instance",
    "_Feature"
   ],
   "window_display": false
  }
 },
 "nbformat": 4,
 "nbformat_minor": 2
}
