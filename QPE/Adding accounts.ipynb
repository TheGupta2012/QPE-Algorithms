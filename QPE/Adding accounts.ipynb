{
 "cells": [
  {
   "cell_type": "code",
   "execution_count": 4,
   "metadata": {
    "ExecuteTime": {
     "end_time": "2021-06-14T05:25:26.428891Z",
     "start_time": "2021-06-14T05:25:26.417922Z"
    }
   },
   "outputs": [],
   "source": [
    "from qiskit import IBMQ "
   ]
  },
  {
   "cell_type": "code",
   "execution_count": 5,
   "metadata": {
    "ExecuteTime": {
     "end_time": "2021-06-14T05:25:35.965344Z",
     "start_time": "2021-06-14T05:25:35.948391Z"
    }
   },
   "outputs": [],
   "source": [
    "IBMQ.stored_account()\n",
    "IBMQ.delete_account()"
   ]
  },
  {
   "cell_type": "markdown",
   "metadata": {},
   "source": [
    "- Research "
   ]
  },
  {
   "cell_type": "code",
   "execution_count": 7,
   "metadata": {
    "ExecuteTime": {
     "end_time": "2021-06-14T05:26:03.183072Z",
     "start_time": "2021-06-14T05:26:03.167115Z"
    }
   },
   "outputs": [],
   "source": [
    "res_token =  '71103a02f461d933d680809fbee14fb87a16ded93c4d5389a063c90aa457b64fc9b8eb9574de5bf4d5cf5ddbb2eac61abbe56d429689cc2565a479a5554907bc'\n",
    "res_hub = 'ibm-q-research'\n",
    "res_group = 'iserc-1'\n",
    "res_project = 'main'"
   ]
  },
  {
   "cell_type": "markdown",
   "metadata": {},
   "source": [
    "- Education"
   ]
  },
  {
   "cell_type": "code",
   "execution_count": 6,
   "metadata": {
    "ExecuteTime": {
     "end_time": "2021-06-03T17:09:13.767909Z",
     "start_time": "2021-06-03T17:09:13.754146Z"
    }
   },
   "outputs": [],
   "source": [
    "edu_token =  '58c06415e3284589e8f312657bb5d72d00f88edbef9802ff4a8f9401b94dbb8a5ed4ebd2934738e9af7c34aecb2eb802f8c154674a9a913c4a1579ba229dd4c4'\n",
    "hub = 'ibm-q-education'\n",
    "group = 'indraprasta-ins-1'\n",
    "project = 'intro-quantum-co'"
   ]
  },
  {
   "cell_type": "code",
   "execution_count": 8,
   "metadata": {
    "ExecuteTime": {
     "end_time": "2021-06-14T05:26:18.242461Z",
     "start_time": "2021-06-14T05:26:18.220519Z"
    }
   },
   "outputs": [],
   "source": [
    "IBMQ.save_account(token = res_token, hub = res_hub,group = res_group, project = res_project,overwrite=True)"
   ]
  },
  {
   "cell_type": "code",
   "execution_count": 9,
   "metadata": {
    "ExecuteTime": {
     "end_time": "2021-06-14T05:26:32.720268Z",
     "start_time": "2021-06-14T05:26:23.249499Z"
    },
    "scrolled": true
   },
   "outputs": [
    {
     "data": {
      "text/plain": [
       "{'token': '71103a02f461d933d680809fbee14fb87a16ded93c4d5389a063c90aa457b64fc9b8eb9574de5bf4d5cf5ddbb2eac61abbe56d429689cc2565a479a5554907bc',\n",
       " 'url': 'https://auth.quantum-computing.ibm.com/api'}"
      ]
     },
     "execution_count": 9,
     "metadata": {},
     "output_type": "execute_result"
    }
   ],
   "source": [
    "IBMQ.load_account()\n",
    "IBMQ.stored_account()"
   ]
  },
  {
   "cell_type": "code",
   "execution_count": 11,
   "metadata": {
    "ExecuteTime": {
     "end_time": "2021-06-14T05:26:42.098109Z",
     "start_time": "2021-06-14T05:26:42.092140Z"
    }
   },
   "outputs": [
    {
     "data": {
      "text/plain": [
       "[<AccountProvider for IBMQ(hub='ibm-q', group='open', project='main')>,\n",
       " <AccountProvider for IBMQ(hub='ibm-q-research', group='iserc-1', project='main')>]"
      ]
     },
     "execution_count": 11,
     "metadata": {},
     "output_type": "execute_result"
    }
   ],
   "source": [
    "IBMQ.ibmq.providers()"
   ]
  },
  {
   "cell_type": "code",
   "execution_count": null,
   "metadata": {},
   "outputs": [],
   "source": []
  }
 ],
 "metadata": {
  "kernelspec": {
   "display_name": "Python 3",
   "language": "python",
   "name": "python3"
  },
  "language_info": {
   "codemirror_mode": {
    "name": "ipython",
    "version": 3
   },
   "file_extension": ".py",
   "mimetype": "text/x-python",
   "name": "python",
   "nbconvert_exporter": "python",
   "pygments_lexer": "ipython3",
   "version": "3.7.4"
  },
  "varInspector": {
   "cols": {
    "lenName": 16,
    "lenType": 16,
    "lenVar": 40
   },
   "kernels_config": {
    "python": {
     "delete_cmd_postfix": "",
     "delete_cmd_prefix": "del ",
     "library": "var_list.py",
     "varRefreshCmd": "print(var_dic_list())"
    },
    "r": {
     "delete_cmd_postfix": ") ",
     "delete_cmd_prefix": "rm(",
     "library": "var_list.r",
     "varRefreshCmd": "cat(var_dic_list()) "
    }
   },
   "types_to_exclude": [
    "module",
    "function",
    "builtin_function_or_method",
    "instance",
    "_Feature"
   ],
   "window_display": false
  }
 },
 "nbformat": 4,
 "nbformat_minor": 2
}
