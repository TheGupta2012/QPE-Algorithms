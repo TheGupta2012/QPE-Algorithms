{
 "cells": [
  {
   "cell_type": "code",
   "execution_count": 1,
   "metadata": {
    "ExecuteTime": {
     "end_time": "2021-06-17T05:50:06.407412Z",
     "start_time": "2021-06-17T05:50:03.894132Z"
    }
   },
   "outputs": [],
   "source": [
    "from qiskit import IBMQ "
   ]
  },
  {
   "cell_type": "code",
   "execution_count": 2,
   "metadata": {
    "ExecuteTime": {
     "end_time": "2021-06-17T05:50:07.148432Z",
     "start_time": "2021-06-17T05:50:07.107541Z"
    }
   },
   "outputs": [],
   "source": [
    "IBMQ.stored_account()\n",
    "IBMQ.delete_account()"
   ]
  },
  {
   "cell_type": "markdown",
   "metadata": {},
   "source": [
    "- Research "
   ]
  },
  {
   "cell_type": "code",
   "execution_count": 3,
   "metadata": {
    "ExecuteTime": {
     "end_time": "2021-06-17T05:50:08.890561Z",
     "start_time": "2021-06-17T05:50:08.880628Z"
    }
   },
   "outputs": [],
   "source": [
    "res_token =  '71103a02f461d933d680809fbee14fb87a16ded93c4d5389a063c90aa457b64fc9b8eb9574de5bf4d5cf5ddbb2eac61abbe56d429689cc2565a479a5554907bc'\n",
    "res_hub = 'ibm-q-research'\n",
    "res_group = 'iserc-1'\n",
    "res_project = 'main'"
   ]
  },
  {
   "cell_type": "markdown",
   "metadata": {},
   "source": [
    "- Education"
   ]
  },
  {
   "cell_type": "code",
   "execution_count": 6,
   "metadata": {
    "ExecuteTime": {
     "end_time": "2021-06-17T05:51:37.323169Z",
     "start_time": "2021-06-17T05:51:37.309209Z"
    }
   },
   "outputs": [],
   "source": [
    "edu_token =  '295d3ad1ebee1a2418356423a617d79b2aa1acfabeb46879074d04160af5868be1a3e5400d6645525a064c44b26cebf705a9efb6ddca0b46c68f2d6f5d3318bc'\n",
    "hub = 'ibm-q-education'\n",
    "group = 'indraprasta-ins-1'\n",
    "project = 'intro-quantum-co'"
   ]
  },
  {
   "cell_type": "code",
   "execution_count": 7,
   "metadata": {
    "ExecuteTime": {
     "end_time": "2021-06-17T05:51:39.876313Z",
     "start_time": "2021-06-17T05:51:39.860355Z"
    }
   },
   "outputs": [],
   "source": [
    "IBMQ.save_account(token = edu_token, hub = hub,group = group, project = project,overwrite=True)"
   ]
  },
  {
   "cell_type": "code",
   "execution_count": 8,
   "metadata": {
    "ExecuteTime": {
     "end_time": "2021-06-17T05:51:50.438343Z",
     "start_time": "2021-06-17T05:51:41.192523Z"
    }
   },
   "outputs": [
    {
     "data": {
      "text/plain": [
       "{'token': '295d3ad1ebee1a2418356423a617d79b2aa1acfabeb46879074d04160af5868be1a3e5400d6645525a064c44b26cebf705a9efb6ddca0b46c68f2d6f5d3318bc',\n",
       " 'url': 'https://auth.quantum-computing.ibm.com/api'}"
      ]
     },
     "execution_count": 8,
     "metadata": {},
     "output_type": "execute_result"
    }
   ],
   "source": [
    "IBMQ.load_account()\n",
    "IBMQ.stored_account()"
   ]
  },
  {
   "cell_type": "code",
   "execution_count": 9,
   "metadata": {
    "ExecuteTime": {
     "end_time": "2021-06-17T05:51:50.470267Z",
     "start_time": "2021-06-17T05:51:50.459294Z"
    }
   },
   "outputs": [
    {
     "data": {
      "text/plain": [
       "[<AccountProvider for IBMQ(hub='ibm-q', group='open', project='main')>,\n",
       " <AccountProvider for IBMQ(hub='ibm-q-education', group='indraprasta-ins-1', project='intro-quantum-co')>]"
      ]
     },
     "execution_count": 9,
     "metadata": {},
     "output_type": "execute_result"
    }
   ],
   "source": [
    "IBMQ.ibmq.providers()"
   ]
  },
  {
   "cell_type": "code",
   "execution_count": null,
   "metadata": {},
   "outputs": [],
   "source": []
  }
 ],
 "metadata": {
  "kernelspec": {
   "display_name": "Python 3",
   "language": "python",
   "name": "python3"
  },
  "language_info": {
   "codemirror_mode": {
    "name": "ipython",
    "version": 3
   },
   "file_extension": ".py",
   "mimetype": "text/x-python",
   "name": "python",
   "nbconvert_exporter": "python",
   "pygments_lexer": "ipython3",
   "version": "3.7.4"
  },
  "varInspector": {
   "cols": {
    "lenName": 16,
    "lenType": 16,
    "lenVar": 40
   },
   "kernels_config": {
    "python": {
     "delete_cmd_postfix": "",
     "delete_cmd_prefix": "del ",
     "library": "var_list.py",
     "varRefreshCmd": "print(var_dic_list())"
    },
    "r": {
     "delete_cmd_postfix": ") ",
     "delete_cmd_prefix": "rm(",
     "library": "var_list.r",
     "varRefreshCmd": "cat(var_dic_list()) "
    }
   },
   "types_to_exclude": [
    "module",
    "function",
    "builtin_function_or_method",
    "instance",
    "_Feature"
   ],
   "window_display": false
  }
 },
 "nbformat": 4,
 "nbformat_minor": 2
}
