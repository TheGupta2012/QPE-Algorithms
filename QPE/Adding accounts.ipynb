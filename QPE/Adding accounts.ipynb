{
 "cells": [
  {
   "cell_type": "code",
   "execution_count": 1,
   "metadata": {
    "ExecuteTime": {
     "end_time": "2021-06-03T17:06:36.541389Z",
     "start_time": "2021-06-03T17:06:35.568193Z"
    }
   },
   "outputs": [],
   "source": [
    "from qiskit import IBMQ "
   ]
  },
  {
   "cell_type": "code",
   "execution_count": 2,
   "metadata": {
    "ExecuteTime": {
     "end_time": "2021-06-03T17:06:37.732130Z",
     "start_time": "2021-06-03T17:06:37.712784Z"
    }
   },
   "outputs": [
    {
     "data": {
      "text/plain": [
       "{'token': 'd274ae862dbd3d5bc410f66357274ea598556ce12f54800eaf68263ffd18c76922eb213e4caeed00da78348b64e406abfad3a4301053815504421bcbb5052bac',\n",
       " 'url': 'https://auth.quantum-computing.ibm.com/api'}"
      ]
     },
     "execution_count": 2,
     "metadata": {},
     "output_type": "execute_result"
    }
   ],
   "source": [
    "IBMQ.stored_account()"
   ]
  },
  {
   "cell_type": "markdown",
   "metadata": {},
   "source": [
    "- Research "
   ]
  },
  {
   "cell_type": "code",
   "execution_count": 3,
   "metadata": {
    "ExecuteTime": {
     "end_time": "2021-06-03T17:08:15.194325Z",
     "start_time": "2021-06-03T17:08:15.181186Z"
    }
   },
   "outputs": [],
   "source": [
    "token =  'd274ae862dbd3d5bc410f66357274ea598556ce12f54800eaf68263ffd18c76922eb213e4caeed00da78348b64e406abfad3a4301053815504421bcbb5052bac'\n",
    "hub = 'ibm-q-research'\n",
    "group = 'iserc-1'\n",
    "project = 'main'"
   ]
  },
  {
   "cell_type": "markdown",
   "metadata": {},
   "source": [
    "- Education"
   ]
  },
  {
   "cell_type": "code",
   "execution_count": 6,
   "metadata": {
    "ExecuteTime": {
     "end_time": "2021-06-03T17:09:13.767909Z",
     "start_time": "2021-06-03T17:09:13.754146Z"
    }
   },
   "outputs": [],
   "source": [
    "token =  '58c06415e3284589e8f312657bb5d72d00f88edbef9802ff4a8f9401b94dbb8a5ed4ebd2934738e9af7c34aecb2eb802f8c154674a9a913c4a1579ba229dd4c4'\n",
    "hub = 'ibm-q-education'\n",
    "group = 'indraprasta-ins-1'\n",
    "project = 'intro-quantum-co'"
   ]
  },
  {
   "cell_type": "code",
   "execution_count": 7,
   "metadata": {
    "ExecuteTime": {
     "end_time": "2021-06-03T17:09:15.538547Z",
     "start_time": "2021-06-03T17:09:15.532644Z"
    }
   },
   "outputs": [],
   "source": [
    "IBMQ.save_account(token = token, hub = hub,group = group, project = project,overwrite=True)"
   ]
  },
  {
   "cell_type": "code",
   "execution_count": 8,
   "metadata": {
    "ExecuteTime": {
     "end_time": "2021-06-03T17:09:25.931707Z",
     "start_time": "2021-06-03T17:09:16.221256Z"
    },
    "scrolled": true
   },
   "outputs": [
    {
     "name": "stderr",
     "output_type": "stream",
     "text": [
      "ibmqfactory.load_account:WARNING:2021-06-03 22:39:17,215: Credentials are already in use. The existing account in the session will be replaced.\n"
     ]
    },
    {
     "data": {
      "text/plain": [
       "{'token': '58c06415e3284589e8f312657bb5d72d00f88edbef9802ff4a8f9401b94dbb8a5ed4ebd2934738e9af7c34aecb2eb802f8c154674a9a913c4a1579ba229dd4c4',\n",
       " 'url': 'https://auth.quantum-computing.ibm.com/api'}"
      ]
     },
     "execution_count": 8,
     "metadata": {},
     "output_type": "execute_result"
    }
   ],
   "source": [
    "IBMQ.load_account()\n",
    "IBMQ.stored_account()"
   ]
  },
  {
   "cell_type": "code",
   "execution_count": 10,
   "metadata": {
    "ExecuteTime": {
     "end_time": "2021-06-03T17:09:52.072725Z",
     "start_time": "2021-06-03T17:09:52.064847Z"
    }
   },
   "outputs": [
    {
     "data": {
      "text/plain": [
       "[<AccountProvider for IBMQ(hub='ibm-q', group='open', project='main')>,\n",
       " <AccountProvider for IBMQ(hub='ibm-q-education', group='indraprasta-ins-1', project='intro-quantum-co')>,\n",
       " <AccountProvider for IBMQ(hub='iqc2021-2', group='challenge-14', project='ex4')>]"
      ]
     },
     "execution_count": 10,
     "metadata": {},
     "output_type": "execute_result"
    }
   ],
   "source": [
    "IBMQ.ibmq.providers()"
   ]
  },
  {
   "cell_type": "code",
   "execution_count": null,
   "metadata": {},
   "outputs": [],
   "source": []
  }
 ],
 "metadata": {
  "kernelspec": {
   "display_name": "Python 3",
   "language": "python",
   "name": "python3"
  },
  "language_info": {
   "codemirror_mode": {
    "name": "ipython",
    "version": 3
   },
   "file_extension": ".py",
   "mimetype": "text/x-python",
   "name": "python",
   "nbconvert_exporter": "python",
   "pygments_lexer": "ipython3",
   "version": "3.7.4"
  },
  "varInspector": {
   "cols": {
    "lenName": 16,
    "lenType": 16,
    "lenVar": 40
   },
   "kernels_config": {
    "python": {
     "delete_cmd_postfix": "",
     "delete_cmd_prefix": "del ",
     "library": "var_list.py",
     "varRefreshCmd": "print(var_dic_list())"
    },
    "r": {
     "delete_cmd_postfix": ") ",
     "delete_cmd_prefix": "rm(",
     "library": "var_list.r",
     "varRefreshCmd": "cat(var_dic_list()) "
    }
   },
   "types_to_exclude": [
    "module",
    "function",
    "builtin_function_or_method",
    "instance",
    "_Feature"
   ],
   "window_display": false
  }
 },
 "nbformat": 4,
 "nbformat_minor": 2
}
