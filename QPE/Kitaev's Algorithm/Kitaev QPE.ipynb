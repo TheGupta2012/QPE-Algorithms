{
 "cells": [
  {
   "cell_type": "code",
   "execution_count": 1,
   "metadata": {
    "ExecuteTime": {
     "end_time": "2021-06-15T09:15:04.621223Z",
     "start_time": "2021-06-15T09:14:53.885271Z"
    }
   },
   "outputs": [],
   "source": [
    "from qiskit import * \n",
    "from qiskit.tools.visualization import plot_histogram \n",
    "from qiskit.extensions import UnitaryGate \n",
    "import numpy as np "
   ]
  },
  {
   "cell_type": "code",
   "execution_count": 2,
   "metadata": {
    "ExecuteTime": {
     "end_time": "2021-06-01T05:05:00.678882Z",
     "start_time": "2021-06-01T05:04:31.930934Z"
    }
   },
   "outputs": [
    {
     "data": {
      "text/plain": [
       "{'qiskit-terra': '0.17.3', 'qiskit-aer': '0.8.2', 'qiskit-ignis': '0.6.0', 'qiskit-ibmq-provider': '0.13.1', 'qiskit-aqua': '0.9.1', 'qiskit': '0.26.0', 'qiskit-nature': None, 'qiskit-finance': None, 'qiskit-optimization': None, 'qiskit-machine-learning': None}"
      ]
     },
     "execution_count": 2,
     "metadata": {},
     "output_type": "execute_result"
    }
   ],
   "source": [
    "qiskit.__qiskit_version__"
   ]
  },
  {
   "cell_type": "code",
   "execution_count": 10,
   "metadata": {
    "ExecuteTime": {
     "end_time": "2021-06-15T09:23:51.175696Z",
     "start_time": "2021-06-15T09:23:51.138727Z"
    }
   },
   "outputs": [],
   "source": [
    "class KQPE():\n",
    "    '''This is a class which is used to generate the Kitaev QPE algorithm. \n",
    "    ATTRIBUTES : precision -> int or float \n",
    "                the precision upto which the phase needs to be estimated \n",
    "                NOTE : if Type is int, precision is estimated as 2^(-precision)\n",
    "                \n",
    "                unitary -> np.ndarray or QuantumCircuit or UnitaryGate \n",
    "                the unitary matrix for which we want to find the phase, given \n",
    "                its eigenvalue \n",
    "                '''\n",
    "    def __init__(self, unitary,precision = 10):\n",
    "        \n",
    "        # handle precision \n",
    "        if not isinstance(precision,int) and not isinstance(precision,float):\n",
    "            raise TypeError(\"Precision needs to be an integer or float\")\n",
    "        elif precision <=0:\n",
    "            raise ValueError(\"Precision needs to be >=0\")\n",
    "        \n",
    "        if isinstance(precision,int):\n",
    "            self.precision = 1/(2**precision)\n",
    "        else:\n",
    "            self.precision = 1/precision \n",
    "            \n",
    "        #handle unitary \n",
    "        if unitary is None:\n",
    "            raise Exception(\"Unitary needs to be specified for the Kitaev QPE algorithm\") \n",
    "        elif not isinstance(unitary,np.ndarray) and not isinstance(unitary,QuantumCircuit) and not isinstance(unitary,UnitaryGate):\n",
    "            raise TypeError(\"A numpy array, QuantumCircuit or UnitaryGate needs to be passed as the unitary matrix\")\n",
    "\n",
    "        self.unitary = unitary \n",
    "        # get the number of qubits in the unitary \n",
    "        if isinstance(unitary,np.ndarray):\n",
    "            self.qubits = int(np.log2(unitary.shape[0]))\n",
    "        else:\n",
    "            self.qubits = int(unitary.num_qubits)\n",
    "            \n",
    "    def get_phase(self,QC,ancilla,clbits,backend, show = False):\n",
    "        '''This function is used to determine the \n",
    "        final measured phase from the circuit \n",
    "        with the specified precision.\n",
    "        \n",
    "        PARAMETERS : ancilla : the qubits which have the kitaevs's circuit\n",
    "                     clbits : the bits to measure into\n",
    "                     show : to display the measured circuit\n",
    "        RETURNS : phase of the circuit - float\n",
    "        '''\n",
    "        # handle circuit\n",
    "        if len(QC.clbits) < 2:\n",
    "            raise Exception(\"Atleast 2 classical bits needed for measurement\")\n",
    "        elif len(QC.qubits) < 3:\n",
    "            raise Exception(\"Quantum Circuit needs to have atleast 3 qubits\")\n",
    "            \n",
    "        # handle bits\n",
    "        elif len(ancilla)!=2 or ancilla is None:\n",
    "            raise Exception(\"Exactly two ancilla bits need to be specified\")\n",
    "        elif len(clbits)!=2 or clbits is None:\n",
    "            raise Exception(\"Exactly two classical bits need to be specified for measurement\")\n",
    "        \n",
    "        \n",
    "        #handle backend \n",
    "        if backend is None:\n",
    "            raise Exception(\"Backend needs to be provided to execute circuit\")\n",
    "        \n",
    "        # find number of shots -> atleast O(1/precision shots)\n",
    "        \n",
    "        # correct this ...\n",
    "        shots = 10*int(1/self.precision)\n",
    "        if show == True:\n",
    "            print(\"Shots :\",shots)\n",
    "        \n",
    "        # measure into the given bits \n",
    "        QC.measure([ancilla[0],ancilla[1]],[clbits[0],clbits[1]])\n",
    "        \n",
    "        if show == True:\n",
    "            display(QC.draw('mpl'))\n",
    "            \n",
    "        # execute the circuit \n",
    "        result = execute(QC,backend = backend,shots = shots,optimization_level = 3).result()\n",
    "        counts = result.get_counts()\n",
    "        if show:\n",
    "            print(\"Measurement results :\",counts)\n",
    "        if show:\n",
    "            display(plot_histogram(counts))\n",
    "        \n",
    "        # now get the results\n",
    "        C0,C1,S0,S1 = 0,0,0,0\n",
    "        first = clbits[0]\n",
    "        second = clbits[1]\n",
    "        for i,j in zip(list(counts.keys()),list(counts.values())):\n",
    "            # get bits\n",
    "            l = len(i)\n",
    "            one = i[l-first-1]\n",
    "            two = i[l-second-1]\n",
    "            \n",
    "            ## First qubit 0 - C (0,theta)\n",
    "            if one == '0':\n",
    "                C0+=j               \n",
    "            ## First qubit 1 - C (1,theta)\n",
    "            else:\n",
    "                C1+=j\n",
    "            ## Second qubit 0 - S (0,theta)\n",
    "            if two == '0':\n",
    "                S0+=j\n",
    "            ## Second qubit 1 - S (1,theta)\n",
    "            else:\n",
    "                S1+=j \n",
    "        \n",
    "        # normalize\n",
    "        C0, C1, S0, S1 = C0/shots, C1/shots, S0/shots, S1/shots\n",
    "#         print(\"C0:\",C0,\"C1:\",C1,\"S0:\",S0,\"S1:\",S1)\n",
    "        \n",
    "        # determine theta_0\n",
    "        tan_1 = np.arctan2([(1-2*S0)], [(2*C0-1)])[0]\n",
    "        theta_0 = (1/(2*np.pi))*tan_1\n",
    "        \n",
    "        #determine theta_1\n",
    "        tan_2 = np.arctan2([(2*S1 - 1)], [(1-2*C1)])[0]\n",
    "        theta_1 = (1/(2*np.pi))*tan_2\n",
    "        \n",
    "        return (np.average([theta_0,theta_1]))\n",
    "        \n",
    "    \n",
    "    def get_circuit(self,show = False,save_circ = False, circ_name = \"KQPE_circ.JPG\"):\n",
    "        '''Returns a KITAEV phase estimation circuit \n",
    "           with the unitary provided'''\n",
    "        qc = QuantumCircuit(2 + self.qubits,name = 'KQPE') \n",
    "        qubits = [i for i in range(2,2+self.qubits)]\n",
    "        \n",
    "        # make the unitary \n",
    "        if isinstance(self.unitary,np.ndarray):\n",
    "            U = UnitaryGate(data = self.unitary)\n",
    "            C_U = U.control(num_ctrl_qubits = 1,label='CU',ctrl_state = '1')\n",
    "        else:\n",
    "            C_U = self.unitary.control(num_ctrl_qubits = 1,label = 'CU',ctrl_state = '1')\n",
    "        \n",
    "        \n",
    "        # qubit 0 is for the H estimation \n",
    "        qc.h(0)\n",
    "        qc = qc.compose(C_U,qubits = [0] + qubits)\n",
    "        qc.h(0)\n",
    "        qc.barrier()    \n",
    "        \n",
    "        # qubit 1 is for the H + S estimation\n",
    "        qc.h(1)\n",
    "        qc.s(1)\n",
    "        qc = qc.compose(C_U,qubits = [1] + qubits)\n",
    "        qc.h(1)\n",
    "        \n",
    "        qc.barrier()\n",
    "        if show == True:\n",
    "            if save_circ:\n",
    "                display(qc.draw('mpl',filename = circ_name))\n",
    "            else:\n",
    "                display(qc.draw('mpl'))\n",
    "\n",
    "        return qc \n",
    "    "
   ]
  },
  {
   "cell_type": "markdown",
   "metadata": {},
   "source": [
    "### Tesing Kitaev Circuit for 1-qubit\n",
    "- Note that the get_phase method is called over a KQPE object and the parameters that are passed are the **qubit number of the eigenvector and the quantum circuit** containing it.\n",
    "- Note that the person using KQPE needs to have atleast 2 classical bits to actually execute this circuit measurements.\n",
    "- Testing the circuit for displaced argument also works "
   ]
  },
  {
   "cell_type": "code",
   "execution_count": 15,
   "metadata": {
    "ExecuteTime": {
     "end_time": "2021-06-15T09:24:24.311333Z",
     "start_time": "2021-06-15T09:24:24.295676Z"
    }
   },
   "outputs": [],
   "source": [
    "U= np.array([[1,0],\n",
    "              [0,np.exp(2*np.pi*1j*(1/3))]])\n"
   ]
  },
  {
   "cell_type": "code",
   "execution_count": 24,
   "metadata": {
    "ExecuteTime": {
     "end_time": "2021-06-15T09:27:27.150670Z",
     "start_time": "2021-06-15T09:27:26.328817Z"
    }
   },
   "outputs": [
    {
     "data": {
      "image/png": "[encoded data removed]",
      "text/plain": [
       "<Figure size 748.797x204.68 with 1 Axes>"
      ]
     },
     "metadata": {},
     "output_type": "display_data"
    }
   ],
   "source": [
    "kqpe = KQPE(unitary=U,precision = 15)\n",
    "kq_circ = kqpe.get_circuit(show = True,save_circ = True, circ_name= \"KQPE_circ_1qubit.JPG\")"
   ]
  },
  {
   "cell_type": "code",
   "execution_count": 25,
   "metadata": {
    "ExecuteTime": {
     "end_time": "2021-06-15T09:27:27.663572Z",
     "start_time": "2021-06-15T09:27:27.215804Z"
    }
   },
   "outputs": [
    {
     "data": {
      "image/png": "[encoded data removed]",
      "text/plain": [
       "<Figure size 267.197x385.28 with 1 Axes>"
      ]
     },
     "execution_count": 25,
     "metadata": {},
     "output_type": "execute_result"
    }
   ],
   "source": [
    "q = QuantumCircuit(5,6)\n",
    "q.x(3)\n",
    "q.append(kq_circ,qargs = [1,2,3])\n",
    "q.draw('mpl')"
   ]
  },
  {
   "cell_type": "code",
   "execution_count": 26,
   "metadata": {
    "ExecuteTime": {
     "end_time": "2021-06-15T09:27:30.186427Z",
     "start_time": "2021-06-15T09:27:27.769463Z"
    }
   },
   "outputs": [
    {
     "name": "stdout",
     "output_type": "stream",
     "text": [
      "Shots : 327680\n"
     ]
    },
    {
     "data": {
      "image/png": "[encoded data removed]",
      "text/plain": [
       "<Figure size 387.597x385.28 with 1 Axes>"
      ]
     },
     "metadata": {},
     "output_type": "display_data"
    },
    {
     "name": "stdout",
     "output_type": "stream",
     "text": [
      "Measurement results : {'000010': 76361, '000011': 229128, '000001': 16650, '000000': 5541}\n"
     ]
    },
    {
     "data": {
      "image/png": "[encoded data removed]",
      "text/plain": [
       "<Figure size 504x360 with 1 Axes>"
      ]
     },
     "metadata": {},
     "output_type": "display_data"
    }
   ],
   "source": [
    "phase = kqpe.get_phase(backend = Aer.get_backend('qasm_simulator'),QC=q,ancilla=[1,2],clbits=[0,1],show = True)"
   ]
  },
  {
   "cell_type": "code",
   "execution_count": 27,
   "metadata": {
    "ExecuteTime": {
     "end_time": "2021-06-15T09:27:32.342274Z",
     "start_time": "2021-06-15T09:27:32.335010Z"
    }
   },
   "outputs": [
    {
     "name": "stdout",
     "output_type": "stream",
     "text": [
      "Phase of the unitary is : 0.33346549785729346\n"
     ]
    }
   ],
   "source": [
    "print(\"Phase of the unitary is :\",phase)"
   ]
  },
  {
   "cell_type": "markdown",
   "metadata": {},
   "source": [
    "### Testing Kitaev for 2-qubits\n",
    "- Making a Controlled phase gate with phase as 1/7\n",
    "- The eigenvector is $ |11\\rangle$"
   ]
  },
  {
   "cell_type": "code",
   "execution_count": 30,
   "metadata": {
    "ExecuteTime": {
     "end_time": "2021-06-15T09:27:57.167615Z",
     "start_time": "2021-06-15T09:27:56.838530Z"
    }
   },
   "outputs": [
    {
     "data": {
      "image/png": "[encoded data removed]",
      "text/plain": [
       "<Figure size 206.852x144.48 with 1 Axes>"
      ]
     },
     "execution_count": 30,
     "metadata": {},
     "output_type": "execute_result"
    }
   ],
   "source": [
    "q = QuantumCircuit(2, name = 'Unitary')\n",
    "q.cp(2*np.pi*(1/7),0,1)\n",
    "q.draw('mpl')"
   ]
  },
  {
   "cell_type": "code",
   "execution_count": 31,
   "metadata": {
    "ExecuteTime": {
     "end_time": "2021-06-15T09:27:57.230479Z",
     "start_time": "2021-06-15T09:27:57.218478Z"
    }
   },
   "outputs": [],
   "source": [
    "unitary = q "
   ]
  },
  {
   "cell_type": "code",
   "execution_count": 37,
   "metadata": {
    "ExecuteTime": {
     "end_time": "2021-06-15T09:28:37.273297Z",
     "start_time": "2021-06-15T09:28:36.756974Z"
    }
   },
   "outputs": [
    {
     "data": {
      "image/png": "[encoded data removed]",
      "text/plain": [
       "<Figure size 748.797x264.88 with 1 Axes>"
      ]
     },
     "metadata": {},
     "output_type": "display_data"
    }
   ],
   "source": [
    "kqpe = KQPE(unitary,precision=12)\n",
    "kq_circ = kqpe.get_circuit(show = True)"
   ]
  },
  {
   "cell_type": "code",
   "execution_count": 38,
   "metadata": {
    "ExecuteTime": {
     "end_time": "2021-06-15T09:28:37.879312Z",
     "start_time": "2021-06-15T09:28:37.428520Z"
    }
   },
   "outputs": [
    {
     "data": {
      "image/png": "[encoded data removed]",
      "text/plain": [
       "<Figure size 267.197x385.28 with 1 Axes>"
      ]
     },
     "execution_count": 38,
     "metadata": {},
     "output_type": "execute_result"
    }
   ],
   "source": [
    "q = QuantumCircuit(5,2)\n",
    "q.x([2,3])\n",
    "q.append(kq_circ, qargs = [0,1,2,3])\n",
    "q.draw('mpl')"
   ]
  },
  {
   "cell_type": "code",
   "execution_count": 39,
   "metadata": {
    "ExecuteTime": {
     "end_time": "2021-06-15T09:28:38.206749Z",
     "start_time": "2021-06-15T09:28:38.196091Z"
    }
   },
   "outputs": [],
   "source": [
    "sim = Aer.get_backend('qasm_simulator')"
   ]
  },
  {
   "cell_type": "code",
   "execution_count": 40,
   "metadata": {
    "ExecuteTime": {
     "end_time": "2021-06-15T09:28:40.224183Z",
     "start_time": "2021-06-15T09:28:38.916680Z"
    }
   },
   "outputs": [
    {
     "name": "stdout",
     "output_type": "stream",
     "text": [
      "Shots : 40960\n"
     ]
    },
    {
     "data": {
      "image/png": "[encoded data removed]",
      "text/plain": [
       "<Figure size 387.597x385.28 with 1 Axes>"
      ]
     },
     "metadata": {},
     "output_type": "display_data"
    },
    {
     "name": "stdout",
     "output_type": "stream",
     "text": [
      "Measurement results : {'10': 29626, '00': 3495, '11': 6977, '01': 862}\n"
     ]
    },
    {
     "data": {
      "image/png": "[encoded data removed]",
      "text/plain": [
       "<Figure size 504x360 with 1 Axes>"
      ]
     },
     "metadata": {},
     "output_type": "display_data"
    }
   ],
   "source": [
    "phase = kqpe.get_phase(backend=sim,QC=q,ancilla=[0,1],clbits=[0,1],show = True)"
   ]
  },
  {
   "cell_type": "code",
   "execution_count": 41,
   "metadata": {
    "ExecuteTime": {
     "end_time": "2021-06-15T09:28:43.467096Z",
     "start_time": "2021-06-15T09:28:43.449145Z"
    }
   },
   "outputs": [
    {
     "name": "stdout",
     "output_type": "stream",
     "text": [
      "Phase returned is : 0.14417306622251747\n"
     ]
    }
   ],
   "source": [
    "print(\"Phase returned is :\",phase)"
   ]
  },
  {
   "cell_type": "markdown",
   "metadata": {},
   "source": [
    "- This is actually pretty close \n",
    "- Let us plot a graph with the returned phase"
   ]
  },
  {
   "cell_type": "code",
   "execution_count": 42,
   "metadata": {
    "ExecuteTime": {
     "end_time": "2021-06-15T09:28:51.235534Z",
     "start_time": "2021-06-15T09:28:50.948222Z"
    }
   },
   "outputs": [
    {
     "data": {
      "image/png": "[encoded data removed]",
      "text/plain": [
       "<Figure size 206.852x144.48 with 1 Axes>"
      ]
     },
     "metadata": {},
     "output_type": "display_data"
    }
   ],
   "source": [
    "q = QuantumCircuit(2, name = 'Phase Unitary')\n",
    "q.cp(2*np.pi*(1/7),0,1)\n",
    "display(q.draw('mpl'))\n",
    "unitary = q \n"
   ]
  },
  {
   "cell_type": "code",
   "execution_count": 43,
   "metadata": {
    "ExecuteTime": {
     "end_time": "2021-06-15T09:28:51.561303Z",
     "start_time": "2021-06-15T09:28:51.546334Z"
    }
   },
   "outputs": [
    {
     "data": {
      "text/plain": [
       "[8, 9, 10, 11, 12, 13, 14, 15, 16, 17]"
      ]
     },
     "execution_count": 43,
     "metadata": {},
     "output_type": "execute_result"
    }
   ],
   "source": [
    "precision = [i for i in range(8,18)]\n",
    "precision"
   ]
  },
  {
   "cell_type": "code",
   "execution_count": 44,
   "metadata": {
    "ExecuteTime": {
     "end_time": "2021-06-15T09:29:25.621053Z",
     "start_time": "2021-06-15T09:29:11.188198Z"
    }
   },
   "outputs": [
    {
     "name": "stdout",
     "output_type": "stream",
     "text": [
      "Circuit for precision : 8\n",
      "Circuit for precision : 9\n",
      "Circuit for precision : 10\n",
      "Circuit for precision : 11\n",
      "Circuit for precision : 12\n",
      "Circuit for precision : 13\n",
      "Circuit for precision : 14\n",
      "Circuit for precision : 15\n",
      "Circuit for precision : 16\n",
      "Circuit for precision : 17\n"
     ]
    }
   ],
   "source": [
    "estimates, errors = [], [] \n",
    "for prec in precision:\n",
    "    kqpe = KQPE(unitary,precision=prec)\n",
    "    print(\"Circuit for precision :\",prec)    \n",
    "    kq_circ = kqpe.get_circuit(show = False)\n",
    "    \n",
    "    # making circuit\n",
    "    q = QuantumCircuit(5,2)\n",
    "    q.x([2,3])\n",
    "    q.append(kq_circ, qargs = [0,1,2,3])\n",
    "    \n",
    "    #getting the phase \n",
    "    phase = kqpe.get_phase(backend = sim,QC=q,ancilla=[0,1],clbits=[0,1],show = False)\n",
    "    estimates.append(phase)\n",
    "    errors.append(abs(1/7-phase))\n"
   ]
  },
  {
   "cell_type": "code",
   "execution_count": 49,
   "metadata": {
    "ExecuteTime": {
     "end_time": "2021-06-15T09:30:14.959070Z",
     "start_time": "2021-06-15T09:30:14.407917Z"
    }
   },
   "outputs": [
    {
     "data": {
      "image/png": "[encoded data removed]",
      "text/plain": [
       "<Figure size 432x288 with 1 Axes>"
      ]
     },
     "metadata": {
      "needs_background": "light"
     },
     "output_type": "display_data"
    }
   ],
   "source": [
    "import matplotlib.pyplot as plt \n",
    "plt.title(\"Phase Estimation for $ \\phi $ = 1/7\",fontsize = 16)\n",
    "plt.xlabel(\"Precision for estimation\")\n",
    "plt.ylabel(\"Estimates for Error and Phase\") \n",
    "plt.plot([7,18],[1/7,1/7],color= 'black',label = 'Actual', linewidth = 2)\n",
    "plt.plot(precision, estimates, marker = 'o', color = 'magenta',alpha = 0.6,label = 'Phase Estimate')\n",
    "plt.plot(precision, errors, marker = 's', color = 'cyan',alpha = 0.6, label = \"Error estimate\")\n",
    "plt.grid()\n",
    "plt.legend()\n",
    "plt.savefig(\"Kitaev Multiqubit Estimation.JPG\",dpi = 200)"
   ]
  },
  {
   "cell_type": "code",
   "execution_count": null,
   "metadata": {},
   "outputs": [],
   "source": []
  }
 ],
 "metadata": {
  "kernelspec": {
   "display_name": "Python 3",
   "language": "python",
   "name": "python3"
  },
  "language_info": {
   "codemirror_mode": {
    "name": "ipython",
    "version": 3
   },
   "file_extension": ".py",
   "mimetype": "text/x-python",
   "name": "python",
   "nbconvert_exporter": "python",
   "pygments_lexer": "ipython3",
   "version": "3.7.4"
  },
  "varInspector": {
   "cols": {
    "lenName": 16,
    "lenType": 16,
    "lenVar": 40
   },
   "kernels_config": {
    "python": {
     "delete_cmd_postfix": "",
     "delete_cmd_prefix": "del ",
     "library": "var_list.py",
     "varRefreshCmd": "print(var_dic_list())"
    },
    "r": {
     "delete_cmd_postfix": ") ",
     "delete_cmd_prefix": "rm(",
     "library": "var_list.r",
     "varRefreshCmd": "cat(var_dic_list()) "
    }
   },
   "types_to_exclude": [
    "module",
    "function",
    "builtin_function_or_method",
    "instance",
    "_Feature"
   ],
   "window_display": false
  }
 },
 "nbformat": 4,
 "nbformat_minor": 2
}
