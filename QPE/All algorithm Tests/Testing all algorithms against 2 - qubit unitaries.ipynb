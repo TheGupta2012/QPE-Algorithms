{
 "cells": [
  {
   "cell_type": "markdown",
   "metadata": {},
   "source": [
    "## Testing all the algorithms till now \n",
    "- All the algorithms, i.e., Basic, Iterative, SPEA are analysed for 1-qubit and 2-qubit matrices chosen manually.\n",
    "- One of the matrix that was chosen for two qubit gates was the **CP gate** and a matrix **ZX**.\n",
    "\n",
    "- **BASIS of TESTING** \n",
    "    - Each of the algorithm is given a unitary and run for increasing precision.\n",
    "    - The algorithm which converges faster is the better algorithm.\n",
    "    - Converges faster means the amount of iterations of the algorithm required to compute $\\theta$ upto 6 bit precision"
   ]
  },
  {
   "cell_type": "code",
   "execution_count": 1,
   "metadata": {
    "ExecuteTime": {
     "end_time": "2021-06-27T07:30:32.676213Z",
     "start_time": "2021-06-27T07:30:29.365449Z"
    }
   },
   "outputs": [],
   "source": [
    "from qiskit import QuantumCircuit, execute, transpile, Aer \n",
    "from qiskit.extensions import UnitaryGate,Initialize\n",
    "from qiskit.quantum_info import Statevector \n",
    "from qiskit.tools.visualization import plot_bloch_vector\n",
    "from qiskit.tools.visualization import plot_histogram,plot_bloch_multivector  \n",
    "import numpy as np \n",
    "from time import sleep \n",
    "import sys \n",
    "sys.path.append(\"..\")\n",
    "import os \n",
    "from scipy.stats import unitary_group \n",
    "import matplotlib.pyplot as plt \n",
    "%matplotlib inline "
   ]
  },
  {
   "cell_type": "code",
   "execution_count": 44,
   "metadata": {
    "ExecuteTime": {
     "end_time": "2021-06-17T08:32:00.019809Z",
     "start_time": "2021-06-17T08:31:59.927697Z"
    }
   },
   "outputs": [],
   "source": [
    "os.makedirs(name = \"Plots/2-qubit/\",exist_ok=True)"
   ]
  },
  {
   "cell_type": "code",
   "execution_count": 2,
   "metadata": {
    "ExecuteTime": {
     "end_time": "2021-06-27T07:30:34.491922Z",
     "start_time": "2021-06-27T07:30:34.471969Z"
    }
   },
   "outputs": [],
   "source": [
    "from Modules.vanilla_qpe import QPE \n",
    "from Modules.iterative_qpe import IQPE\n",
    "from Modules.normal_SPEA import SPEA \n",
    "from Modules.kitaev_qpe import KQPE"
   ]
  },
  {
   "cell_type": "markdown",
   "metadata": {},
   "source": [
    "- **Controlled Phase gate**\n",
    "- Eigenvectors : $|00\\rangle\\ ,\\ |01\\rangle\\ , |10\\rangle\\ and\\ |11\\rangle$\n",
    "- Eigenphases : $0\\ or\\ 1$ and $\\frac{1}{7}$"
   ]
  },
  {
   "cell_type": "code",
   "execution_count": 4,
   "metadata": {
    "ExecuteTime": {
     "end_time": "2021-06-18T10:18:21.919987Z",
     "start_time": "2021-06-18T10:18:21.041503Z"
    }
   },
   "outputs": [
    {
     "data": {
      "image/png": "[encoded data removed]",
      "text/plain": [
       "<Figure size 206.852x144.48 with 1 Axes>"
      ]
     },
     "execution_count": 4,
     "metadata": {},
     "output_type": "execute_result"
    }
   ],
   "source": [
    "# x gate \n",
    "u1 = QuantumCircuit(2)\n",
    "u1.cp(2*np.pi*(1/7),0,1)\n",
    "u1.draw('mpl')"
   ]
  },
  {
   "cell_type": "markdown",
   "metadata": {},
   "source": [
    "- **ZX** unitary\n",
    "- Eigenvectors : $|0+\\rangle\\ , |1+\\rangle , |1-\\rangle and |0-\\rangle$\n",
    "- Eigenphases : $0\\ or\\ 1$ and $\\frac{1}{2}$"
   ]
  },
  {
   "cell_type": "code",
   "execution_count": 47,
   "metadata": {
    "ExecuteTime": {
     "end_time": "2021-06-17T08:32:00.978982Z",
     "start_time": "2021-06-17T08:32:00.589893Z"
    }
   },
   "outputs": [
    {
     "data": {
      "image/png": "[encoded data removed]",
      "text/plain": [
       "<Figure size 146.652x144.48 with 1 Axes>"
      ]
     },
     "execution_count": 47,
     "metadata": {},
     "output_type": "execute_result"
    }
   ],
   "source": [
    "# x gate \n",
    "u2 = QuantumCircuit(2)\n",
    "u2.z(0)\n",
    "u2.x(1)\n",
    "u2.draw('mpl')"
   ]
  },
  {
   "cell_type": "markdown",
   "metadata": {},
   "source": [
    "## Testing the Unitary Phase Estimation for CP(1/7)\n",
    "- Eigenvector chosen is : **|11>**\n",
    "- Phase reported should be ~ **0.1428**\n",
    "- **Basic QPE**"
   ]
  },
  {
   "cell_type": "code",
   "execution_count": 48,
   "metadata": {
    "ExecuteTime": {
     "end_time": "2021-06-17T08:32:00.994807Z",
     "start_time": "2021-06-17T08:32:00.981843Z"
    }
   },
   "outputs": [],
   "source": [
    "os.makedirs(name = \"Plots/2-qubit/phase_gate/\",exist_ok=True)\n",
    "phase_path = \"Plots/2-qubit/phase_gate/\""
   ]
  },
  {
   "cell_type": "code",
   "execution_count": 49,
   "metadata": {
    "ExecuteTime": {
     "end_time": "2021-06-17T08:32:01.073598Z",
     "start_time": "2021-06-17T08:32:00.996835Z"
    }
   },
   "outputs": [],
   "source": [
    "backend = Aer.get_backend('qasm_simulator')"
   ]
  },
  {
   "cell_type": "code",
   "execution_count": 50,
   "metadata": {
    "ExecuteTime": {
     "end_time": "2021-06-17T08:33:17.436170Z",
     "start_time": "2021-06-17T08:32:01.080580Z"
    }
   },
   "outputs": [],
   "source": [
    "estimates = []\n",
    "for precision in range(1,9): \n",
    "    qpe = QPE(precision=precision,unitary = u1)\n",
    "    qpe_circ = qpe.get_QPE(show = False)\n",
    "    qc = QuantumCircuit(precision+2,precision)\n",
    "    qc.x(precision)\n",
    "    qc.x(precision+1)\n",
    "    qc.append(qpe_circ, qargs = list(range(precision+2)))\n",
    "    qc.measure(list(range(precision)),list(range(precision)))\n",
    "#     display(qc.draw('mpl')) \n",
    "    counts = execute(qc,backend=backend,shots = 2**10).result().get_counts()\n",
    "    m = -1 \n",
    "    for i,j in counts.items():\n",
    "        if j > m:\n",
    "            m = j \n",
    "            phase = i \n",
    "    factor = 0.5\n",
    "    ans = 0.0 \n",
    "    for i in range(precision):\n",
    "        ans+= int(phase[i])*factor \n",
    "        factor/=2 \n",
    "    estimates.append(ans)"
   ]
  },
  {
   "cell_type": "code",
   "execution_count": 51,
   "metadata": {
    "ExecuteTime": {
     "end_time": "2021-06-17T08:33:17.937828Z",
     "start_time": "2021-06-17T08:33:17.441155Z"
    }
   },
   "outputs": [
    {
     "data": {
      "image/png": "[encoded data removed]",
      "text/plain": [
       "<Figure size 432x288 with 1 Axes>"
      ]
     },
     "metadata": {
      "needs_background": "light"
     },
     "output_type": "display_data"
    }
   ],
   "source": [
    "plt.title(\"Phase by basic QPE for the unitary CP(1/7)\",fontsize = 16)\n",
    "plt.plot([i for i in range(1,9)],estimates,alpha = 0.5,color = 'g',linewidth = 2,marker = 'o',label = 'Estimates')\n",
    "plt.plot([0,8],[0.1428,0.1428],color = 'black')\n",
    "plt.xlabel('Precision')\n",
    "plt.ylabel('Estimates')\n",
    "plt.grid()\n",
    "plt.legend()\n",
    "plt.savefig(phase_path+\"basic_qpe.JPG\",dpi = 200)"
   ]
  },
  {
   "cell_type": "markdown",
   "metadata": {},
   "source": [
    "- **IQPE**"
   ]
  },
  {
   "cell_type": "code",
   "execution_count": 52,
   "metadata": {
    "ExecuteTime": {
     "end_time": "2021-06-17T08:34:47.683007Z",
     "start_time": "2021-06-17T08:33:17.940819Z"
    }
   },
   "outputs": [],
   "source": [
    "estimates = []\n",
    "for precision in range(1,9): \n",
    "    qpe = IQPE(precision=precision,unitary = u1,unknown=True)\n",
    "    qc = QuantumCircuit(1+2,precision)\n",
    "    qc.x(1)\n",
    "    qc.x(2)    \n",
    "    phase = qpe.get_circuit_phase(qc, qubits = [1,2], ancilla = 0,clbits = list(range(precision)),show = False)\n",
    "#     display(qc.draw('mpl')) \n",
    "    estimates.append(phase[1])"
   ]
  },
  {
   "cell_type": "code",
   "execution_count": 53,
   "metadata": {
    "ExecuteTime": {
     "end_time": "2021-06-17T08:34:48.379147Z",
     "start_time": "2021-06-17T08:34:47.688154Z"
    }
   },
   "outputs": [
    {
     "data": {
      "image/png": "[encoded data removed]",
      "text/plain": [
       "<Figure size 432x288 with 1 Axes>"
      ]
     },
     "metadata": {
      "needs_background": "light"
     },
     "output_type": "display_data"
    }
   ],
   "source": [
    "plt.title(\"Phase by iterative QPE for the unitary CP(1/7)\",fontsize = 16)\n",
    "plt.plot([i for i in range(1,9)],estimates,color = 'b',alpha = 0.5,linewidth = 2,marker = 'o',label = 'Estimates')\n",
    "plt.plot([0,8],[0.1428,0.1428],color = 'black')\n",
    "plt.xlabel('Precision')\n",
    "plt.ylabel('Estimates')\n",
    "plt.grid()\n",
    "plt.legend()\n",
    "plt.savefig(phase_path+\"iqpe.JPG\",dpi = 200)"
   ]
  },
  {
   "cell_type": "markdown",
   "metadata": {},
   "source": [
    "- **SPEA**"
   ]
  },
  {
   "cell_type": "code",
   "execution_count": 6,
   "metadata": {
    "ExecuteTime": {
     "end_time": "2021-06-18T10:18:52.973023Z",
     "start_time": "2021-06-18T10:18:52.951053Z"
    }
   },
   "outputs": [],
   "source": [
    "backend = Aer.get_backend('qasm_simulator')"
   ]
  },
  {
   "cell_type": "code",
   "execution_count": 7,
   "metadata": {
    "ExecuteTime": {
     "end_time": "2021-06-18T10:25:09.143314Z",
     "start_time": "2021-06-18T10:18:57.153164Z"
    },
    "scrolled": true
   },
   "outputs": [
    {
     "name": "stderr",
     "output_type": "stream",
     "text": [
      "E:\\ANACONDA\\lib\\site-packages\\qiskit\\circuit\\quantumcircuit.py:869: DeprecationWarning: The QuantumCircuit.combine() method is being deprecated. Use the compose() method which is more flexible w.r.t circuit register compatibility.\n",
      "  return self.combine(rhs)\n"
     ]
    },
    {
     "name": "stdout",
     "output_type": "stream",
     "text": [
      "Maximum iterations reached for the estimation.\n",
      "Terminating algorithm...\n",
      "Result :  {'cost': 0.96875, 'theta': 0.08799048751486327, 'state': array([0.01967165-0.65859163j, 0.09048696-0.27077917j,\n",
      "       0.22788427+0.006097j  , 0.26505808+0.60177791j])}\n",
      "Maximum iterations reached for the estimation.\n",
      "Terminating algorithm...\n",
      "Result :  {'cost': 0.998046875, 'theta': 0.02789167247529624, 'state': array([-0.59705766-0.27980457j, -0.01540897+0.20287047j,\n",
      "        0.24134952+0.65146636j, -0.01845787+0.20208659j])}\n",
      "Maximum iterations reached for the estimation.\n",
      "Terminating algorithm...\n",
      "Result :  {'cost': 0.978515625, 'theta': 0.0789879658862602, 'state': array([-0.20359719+0.04804943j, -0.29176617-0.15167425j,\n",
      "       -0.6576145 -0.00950453j, -0.50490226-0.40079096j])}\n",
      "Maximum iterations reached for the estimation.\n",
      "Terminating algorithm...\n",
      "Result :  {'cost': 0.97265625, 'theta': 0.08624021075074828, 'state': array([ 0.33564654-0.29639233j,  0.16743189+0.18358321j,\n",
      "       -0.12754246+0.54756948j, -0.40961425+0.50385862j])}\n",
      "Maximum iterations reached for the estimation.\n",
      "Terminating algorithm...\n",
      "Result :  {'cost': 0.970703125, 'theta': 0.0992795163803354, 'state': array([-0.25720497+0.28693199j, -0.22801313+0.11242293j,\n",
      "        0.31805458-0.3701609j , -0.36952573+0.64199662j])}\n",
      "Maximum iterations reached for the estimation.\n",
      "Terminating algorithm...\n",
      "Result :  {'cost': 0.98828125, 'theta': 0.04866680905467559, 'state': array([-0.6396831 +0.47504026j,  0.17812455+0.26917621j,\n",
      "        0.35174701-0.08542037j, -0.03399231+0.35885934j])}\n",
      "Maximum iterations reached for the estimation.\n",
      "Terminating algorithm...\n",
      "Result :  {'cost': 0.978515625, 'theta': 0.051146750725666316, 'state': array([0.05722832-0.2682935j , 0.59427707-0.165156j  ,\n",
      "       0.3679108 -0.50271962j, 0.38015911-0.10814555j])}\n",
      "Maximum iterations reached for the estimation.\n",
      "Terminating algorithm...\n",
      "Result :  {'cost': 0.97265625, 'theta': 0.07244556972405593, 'state': array([-0.45743766-0.5339364j ,  0.24367572+0.25971227j,\n",
      "        0.0029244 +0.20380395j, -0.07239371+0.57623687j])}\n",
      "Maximum iterations reached for the estimation.\n",
      "Terminating algorithm...\n",
      "Result :  {'cost': 0.97265625, 'theta': 0.06965230226741564, 'state': array([-0.63435442+0.13151771j, -0.31531477+0.10826967j,\n",
      "       -0.28518939+0.20870881j,  0.58668852+0.0074869j ])}\n",
      "Maximum iterations reached for the estimation.\n",
      "Terminating algorithm...\n",
      "Result :  {'cost': 0.966796875, 'theta': 0.08321246258559185, 'state': array([ 0.15032009+0.23955743j,  0.1238939 -0.56630789j,\n",
      "       -0.11006873-0.26831411j,  0.19665114-0.67910421j])}\n",
      "Maximum iterations reached for the estimation.\n",
      "Terminating algorithm...\n",
      "Result :  {'cost': 0.837890625, 'theta': 0.9317661138218049, 'state': array([-0.28167866+0.56894238j,  0.08533516-0.34187411j,\n",
      "        0.20697434+0.25273339j, -0.53803816-0.27677446j])}\n",
      "Maximum iterations reached for the estimation.\n",
      "Terminating algorithm...\n",
      "Result :  {'cost': 0.939453125, 'theta': 0.9487063840255854, 'state': array([ 0.36700298+0.20495839j, -0.34206787-0.40840982j,\n",
      "       -0.58598161-0.06641723j,  0.43492845+0.05043218j])}\n",
      "Maximum iterations reached for the estimation.\n",
      "Terminating algorithm...\n",
      "Result :  {'cost': 0.96484375, 'theta': 0.08881565459838452, 'state': array([0.24780835+0.29386359j, 0.21572785+0.57373811j,\n",
      "       0.21137513+0.16984998j, 0.29748985-0.56079641j])}\n",
      "Maximum iterations reached for the estimation.\n",
      "Terminating algorithm...\n",
      "Result :  {'cost': 0.953125, 'theta': 0.9633841164261447, 'state': array([0.46934919-0.01227568j, 0.46772095+0.29073589j,\n",
      "       0.55072161-0.05260375j, 0.04288747-0.41032869j])}\n",
      "Maximum iterations reached for the estimation.\n",
      "Terminating algorithm...\n",
      "Result :  {'cost': 0.96484375, 'theta': 0.08308304973553653, 'state': array([ 0.34418745-0.4372524j ,  0.18346807+0.4926543j ,\n",
      "       -0.0954005 -0.11577567j, -0.30241682+0.54773658j])}\n",
      "Maximum iterations reached for the estimation.\n",
      "Terminating algorithm...\n",
      "Result :  {'cost': 0.96875, 'theta': 0.9607444742612907, 'state': array([-0.48711487-0.25058499j,  0.25183417-0.10417625j,\n",
      "       -0.60841614+0.31178532j, -0.38043022+0.11638592j])}\n",
      "Maximum iterations reached for the estimation.\n",
      "Terminating algorithm...\n",
      "Result :  {'cost': 0.994140625, 'theta': 0.030008405428676863, 'state': array([-0.01698999-0.67648005j,  0.20158207+0.11770529j,\n",
      "        0.61325112-0.02759269j,  0.08312249+0.32225544j])}\n",
      "Result :  {'cost': 1.0, 'theta': 0.02028834720570749, 'state': array([ 0.83649813-0.28826096j, -0.09037961+0.04970772j,\n",
      "        0.11478825-0.39839103j,  0.18259859-0.03609938j])}\n",
      "Maximum iterations reached for the estimation.\n",
      "Terminating algorithm...\n",
      "Result :  {'cost': 0.978515625, 'theta': 0.04610172618803559, 'state': array([-0.1592621 +0.24822175j,  0.41432435-0.19043056j,\n",
      "       -0.63025416-0.34053471j,  0.4030908 -0.1715421j ])}\n",
      "Maximum iterations reached for the estimation.\n",
      "Terminating algorithm...\n",
      "Result :  {'cost': 0.982421875, 'theta': 0.05124417487533243, 'state': array([ 0.20832157+0.04876835j, -0.63529971-0.15479629j,\n",
      "        0.2190611 -0.50724178j,  0.28159354-0.376934j  ])}\n",
      "Maximum iterations reached for the estimation.\n",
      "Terminating algorithm...\n",
      "Result :  {'cost': 0.978515625, 'theta': 0.05499405469678954, 'state': array([-0.18237551-0.10152603j, -0.58465372-0.05578428j,\n",
      "        0.06174151-0.63623836j,  0.13252724-0.43049396j])}\n",
      "Maximum iterations reached for the estimation.\n",
      "Terminating algorithm...\n",
      "Result :  {'cost': 0.970703125, 'theta': 0.06418621099676085, 'state': array([ 0.69017565+0.02047435j, -0.30581233-0.23398331j,\n",
      "       -0.18926313-0.06187166j,  0.55188728-0.17533058j])}\n",
      "Result :  {'cost': 1.0, 'theta': 0.0, 'state': array([ 0.31455943-0.34232444j,  0.48996875-0.54780225j,\n",
      "        0.12165845+0.46003334j, -0.02835787-0.12835124j])}\n",
      "Maximum iterations reached for the estimation.\n",
      "Terminating algorithm...\n",
      "Result :  {'cost': 0.974609375, 'theta': 0.07567832834474558, 'state': array([-0.35784836-0.15285532j,  0.00286607+0.22160524j,\n",
      "        0.47048795+0.51581241j, -0.0068792 +0.55856426j])}\n",
      "Maximum iterations reached for the estimation.\n",
      "Terminating algorithm...\n",
      "Result :  {'cost': 0.998046875, 'theta': 0.02520848996562796, 'state': array([-0.30726971-0.85061806j, -0.17295642-0.26794262j,\n",
      "        0.1481142 +0.00786711j, -0.18493192-0.15533042j])}\n",
      "Maximum iterations reached for the estimation.\n",
      "Terminating algorithm...\n",
      "Result :  {'cost': 0.98046875, 'theta': 0.05524262987412359, 'state': array([-0.48133284+0.47040286j, -0.4136282 +0.21104392j,\n",
      "        0.33794323+0.20099569j,  0.4000079 -0.12961794j])}\n",
      "Maximum iterations reached for the estimation.\n",
      "Terminating algorithm...\n",
      "Result :  {'cost': 0.970703125, 'theta': 0.9603409262018915, 'state': array([-0.03082191+0.33894948j, -0.4214662 +0.05294376j,\n",
      "       -0.31994919+0.69915768j,  0.16596301-0.29153695j])}\n",
      "Maximum iterations reached for the estimation.\n",
      "Terminating algorithm...\n",
      "Result :  {'cost': 0.98828125, 'theta': 0.054015129771618355, 'state': array([-0.34633141-0.55218728j, -0.53945389-0.19726662j,\n",
      "       -0.21013141-0.25329495j, -0.04539966-0.36721175j])}\n",
      "Result :  {'cost': 1, 'theta': 0.0, 'state': array([ 0.46145573-0.2332533j ,  0.00382036-0.72524013j,\n",
      "       -0.42362182+0.02615222j,  0.07040616+0.14685792j])}\n",
      "Maximum iterations reached for the estimation.\n",
      "Terminating algorithm...\n",
      "Result :  {'cost': 0.96875, 'theta': 0.09501465824757063, 'state': array([ 0.17665546-0.01637457j, -0.10442651+0.58151673j,\n",
      "       -0.28342451-0.37242117j, -0.02492625-0.63230516j])}\n",
      "Maximum iterations reached for the estimation.\n",
      "Terminating algorithm...\n",
      "Result :  {'cost': 0.96875, 'theta': 0.07244556972405593, 'state': array([0.02601027+0.64511978j, 0.14919672-0.14386931j,\n",
      "       0.2230933 +0.47891939j, 0.38636564-0.33432483j])}\n",
      "Maximum iterations reached for the estimation.\n",
      "Terminating algorithm...\n",
      "Result :  {'cost': 0.96875, 'theta': 0.08129433351100906, 'state': array([0.40010808+0.28256213j, 0.42430806+0.03484386j,\n",
      "       0.27771133-0.24813015j, 0.58393815-0.31487271j])}\n",
      "Maximum iterations reached for the estimation.\n",
      "Terminating algorithm...\n",
      "Result :  {'cost': 0.966796875, 'theta': 0.07982850875394645, 'state': array([ 0.5948601 +0.19532593j,  0.36877882+0.07238955j,\n",
      "       -0.24398378+0.12169609j, -0.55815296-0.28439134j])}\n"
     ]
    },
    {
     "name": "stdout",
     "output_type": "stream",
     "text": [
      "Maximum iterations reached for the estimation.\n",
      "Terminating algorithm...\n",
      "Result :  {'cost': 0.998046875, 'theta': 0.009809750297265161, 'state': array([-0.05594098+0.08000102j, -0.25632035-0.18268186j,\n",
      "        0.33552733+0.86303934j,  0.04593752-0.17852705j])}\n",
      "Maximum iterations reached for the estimation.\n",
      "Terminating algorithm...\n",
      "Result :  {'cost': 0.9921875, 'theta': 0.039239001189060645, 'state': array([ 0.82191163+0.31285688j,  0.17749925+0.14390948j,\n",
      "       -0.26892686+0.11084715j, -0.04797803-0.2957284j ])}\n",
      "Maximum iterations reached for the estimation.\n",
      "Terminating algorithm...\n",
      "Result :  {'cost': 0.884765625, 'theta': 0.9386198696133503, 'state': array([-0.60653942+0.06271203j,  0.4005603 -0.1381474j ,\n",
      "       -0.31680041+0.24496804j, -0.22702898-0.48654894j])}\n",
      "Maximum iterations reached for the estimation.\n",
      "Terminating algorithm...\n",
      "Result :  {'cost': 0.984375, 'theta': 0.05244679978678913, 'state': array([ 0.45871679-0.16120618j,  0.54823035+0.16422444j,\n",
      "       -0.52638473-0.06274814j, -0.15490634-0.36200982j])}\n",
      "Maximum iterations reached for the estimation.\n",
      "Terminating algorithm...\n",
      "Result :  {'cost': 0.994140625, 'theta': 0.021300586329902827, 'state': array([ 0.15488425+0.25192152j, -0.75658322+0.15338147j,\n",
      "       -0.02379767+0.50250346j,  0.1547229 -0.19896516j])}\n",
      "Maximum iterations reached for the estimation.\n",
      "Terminating algorithm...\n",
      "Result :  {'cost': 0.98046875, 'theta': 0.05306258226928195, 'state': array([ 0.15328177+0.18421588j,  0.38687076+0.55071768j,\n",
      "       -0.44443892-0.28459033j,  0.43573061-0.14571029j])}\n",
      "Maximum iterations reached for the estimation.\n",
      "Terminating algorithm...\n",
      "Result :  {'cost': 0.978515625, 'theta': 0.0690923674607405, 'state': array([-0.17796299-0.41911743j, -0.35737446+0.13019527j,\n",
      "       -0.13888958-0.62891777j,  0.36917622-0.31126112j])}\n",
      "Maximum iterations reached for the estimation.\n",
      "Terminating algorithm...\n",
      "Result :  {'cost': 0.939453125, 'theta': 0.9521544036245848, 'state': array([-0.22645257+0.49731034j,  0.17115793+0.42446389j,\n",
      "       -0.21871641+0.49458407j, -0.44446836-0.04398446j])}\n",
      "Maximum iterations reached for the estimation.\n",
      "Terminating algorithm...\n",
      "Result :  {'cost': 0.970703125, 'theta': 0.044566710402230515, 'state': array([-0.15981511-0.60683464j, -0.05788837+0.29385351j,\n",
      "        0.03698549+0.51320208j, -0.08481147-0.49454283j])}\n",
      "Maximum iterations reached for the estimation.\n",
      "Terminating algorithm...\n",
      "Result :  {'cost': 0.98046875, 'theta': 0.04904875148632581, 'state': array([ 0.28891751+0.61621169j, -0.29608515+0.05779611j,\n",
      "       -0.49416819+0.18149237j, -0.06663549+0.40524197j])}\n",
      "Maximum iterations reached for the estimation.\n",
      "Terminating algorithm...\n",
      "Result :  {'cost': 0.994140625, 'theta': 0.03195087949485424, 'state': array([ 0.37005928+0.41665547j, -0.72024979-0.25443372j,\n",
      "       -0.14061994-0.152199j  , -0.24937119-0.02887166j])}\n",
      "Maximum iterations reached for the estimation.\n",
      "Terminating algorithm...\n",
      "Result :  {'cost': 0.96484375, 'theta': 0.07432397802287917, 'state': array([-0.44371227-0.05908878j,  0.24509738+0.59129499j,\n",
      "       -0.14936048-0.0598039j , -0.16945258-0.57907358j])}\n",
      "Maximum iterations reached for the estimation.\n",
      "Terminating algorithm...\n",
      "Result :  {'cost': 0.998046875, 'theta': 0.029429250891795482, 'state': array([-0.09891025+0.41264839j, -0.50335754+0.49433443j,\n",
      "        0.48304333-0.22152039j,  0.15069843-0.13073091j])}\n",
      "Maximum iterations reached for the estimation.\n",
      "Terminating algorithm...\n",
      "Result :  {'cost': 0.966796875, 'theta': 0.10182228668662102, 'state': array([ 0.20212296-0.58569195j, -0.19143584+0.0182223j ,\n",
      "       -0.16012793+0.32564022j,  0.64599533-0.17360603j])}\n",
      "Result :  {'cost': 1, 'theta': 0.0, 'state': array([-0.47026205+0.11019532j,  0.60194112+0.06841739j,\n",
      "       -0.62618059+0.069837j  , -0.05040948+0.01327003j])}\n",
      "Maximum iterations reached for the estimation.\n",
      "Terminating algorithm...\n",
      "Result :  {'cost': 0.98828125, 'theta': 0.03396899534979732, 'state': array([-0.77309634+0.01879183j, -0.12786819-0.04987691j,\n",
      "       -0.38727483+0.32079741j, -0.20422255-0.29754211j])}\n",
      "Maximum iterations reached for the estimation.\n",
      "Terminating algorithm...\n",
      "Result :  {'cost': 0.98828125, 'theta': 0.05244679978678913, 'state': array([ 0.66948935-0.43294708j,  0.17813621+0.18604639j,\n",
      "        0.08286227-0.32408878j, -0.40726095+0.1422459j ])}\n",
      "Maximum iterations reached for the estimation.\n",
      "Terminating algorithm...\n",
      "Result :  {'cost': 0.96484375, 'theta': 0.96025272531356, 'state': array([ 0.32099962-0.17359622j, -0.26785228-0.09039828j,\n",
      "        0.75795699+0.26611675j,  0.00255615-0.37627575j])}\n",
      "Maximum iterations reached for the estimation.\n",
      "Terminating algorithm...\n",
      "Result :  {'cost': 0.96484375, 'theta': 0.96031157745295, 'state': array([ 0.13431422+0.89409422j,  0.10531553-0.01268613j,\n",
      "        0.14778518+0.08423825j, -0.01917898+0.37682693j])}\n",
      "Maximum iterations reached for the estimation.\n",
      "Terminating algorithm...\n",
      "Result :  {'cost': 0.970703125, 'theta': 0.06426437123293288, 'state': array([-0.19075044+0.68524415j,  0.15174979-0.33612069j,\n",
      "       -0.04436535+0.28394693j, -0.50441649+0.14498088j])}\n",
      "Maximum iterations reached for the estimation.\n",
      "Terminating algorithm...\n",
      "Result :  {'cost': 0.92578125, 'theta': 0.9520321926504459, 'state': array([ 0.02189656-0.39592341j, -0.11818387+0.35318062j,\n",
      "        0.38327197+0.585218j  ,  0.19453585+0.4205229j ])}\n",
      "Maximum iterations reached for the estimation.\n",
      "Terminating algorithm...\n",
      "Result :  {'cost': 0.97265625, 'theta': 0.06599286563614745, 'state': array([-0.31635818-0.48033381j,  0.09158683-0.14743306j,\n",
      "       -0.13157325+0.60661955j,  0.46029148+0.20470768j])}\n",
      "Maximum iterations reached for the estimation.\n",
      "Terminating algorithm...\n",
      "Result :  {'cost': 0.97265625, 'theta': 0.06599286563614745, 'state': array([ 0.55285356-0.42439467j, -0.15036512+0.40073571j,\n",
      "        0.07294865+0.30570952j,  0.17353682+0.44960925j])}\n",
      "Maximum iterations reached for the estimation.\n",
      "Terminating algorithm...\n",
      "Result :  {'cost': 0.98046875, 'theta': 0.060135752268193274, 'state': array([0.58781241-0.06277389j, 0.17885037-0.03239121j,\n",
      "       0.62082122+0.14038468j, 0.00981311+0.46073444j])}\n",
      "Maximum iterations reached for the estimation.\n",
      "Terminating algorithm...\n",
      "Result :  {'cost': 0.97265625, 'theta': 0.06206691541268605, 'state': array([ 0.43986385+0.6079094j , -0.06199274+0.13769575j,\n",
      "        0.31612624-0.23937611j, -0.45013805+0.23302736j])}\n",
      "Maximum iterations reached for the estimation.\n",
      "Terminating algorithm...\n",
      "Result :  {'cost': 0.861328125, 'theta': 0.9288674581778671, 'state': array([ 0.484179  -0.34475281j, -0.2668753 +0.47580046j,\n",
      "       -0.10254602-0.01563567j,  0.52144951-0.25775557j])}\n",
      "Maximum iterations reached for the estimation.\n",
      "Terminating algorithm...\n",
      "Result :  {'cost': 0.998046875, 'theta': 0.024934396654229363, 'state': array([-0.14701258-0.68217223j, -0.39649707-0.47233502j,\n",
      "       -0.25981956-0.08807752j,  0.12911097+0.20195185j])}\n",
      "Maximum iterations reached for the estimation.\n",
      "Terminating algorithm...\n",
      "Result :  {'cost': 0.982421875, 'theta': 0.05549155851776026, 'state': array([-0.05054925+0.43129321j, -0.77468892-0.15018813j,\n",
      "       -0.14868963-0.04631414j,  0.10142671+0.39267105j])}\n",
      "Maximum iterations reached for the estimation.\n",
      "Terminating algorithm...\n",
      "Result :  {'cost': 0.970703125, 'theta': 0.05499405469678954, 'state': array([0.70106344+0.08127078j, 0.28881868-0.14635236j,\n",
      "       0.03049277+0.38794618j, 0.01115576-0.49549306j])}\n",
      "Maximum iterations reached for the estimation.\n",
      "Terminating algorithm...\n",
      "Result :  {'cost': 0.96484375, 'theta': 0.07919297634179343, 'state': array([-0.32145934+0.40611946j, -0.151595  +0.07946078j,\n",
      "        0.19461623-0.45879935j,  0.43492541-0.51468766j])}\n",
      "Maximum iterations reached for the estimation.\n",
      "Terminating algorithm...\n",
      "Result :  {'cost': 0.96875, 'theta': 0.06019171040223051, 'state': array([ 0.27256508+0.47608695j, -0.02126885-0.65772134j,\n",
      "       -0.08254404+0.07459515j, -0.29499764+0.40816444j])}\n",
      "Result :  {'cost': 1.0, 'theta': 0.02265365533642216, 'state': array([-0.40763491+0.11182937j, -0.1999364 -0.78375999j,\n",
      "       -0.29383771-0.01074076j,  0.28332462+0.01857072j])}\n",
      "Maximum iterations reached for the estimation.\n",
      "Terminating algorithm...\n",
      "Result :  {'cost': 0.900390625, 'theta': 0.9358017766718604, 'state': array([-0.23898398+0.13068113j, -0.11199873-0.00850928j,\n",
      "       -0.78473551-0.03628254j, -0.07920476-0.53832456j])}\n"
     ]
    },
    {
     "name": "stdout",
     "output_type": "stream",
     "text": [
      "Maximum iterations reached for the estimation.\n",
      "Terminating algorithm...\n",
      "Result :  {'cost': 0.98828125, 'theta': 0.039239001189060645, 'state': array([-0.59941515+0.14790437j, -0.38696969-0.41842398j,\n",
      "        0.28562651-0.27693334j,  0.29745377-0.21736671j])}\n",
      "Maximum iterations reached for the estimation.\n",
      "Terminating algorithm...\n",
      "Result :  {'cost': 0.998046875, 'theta': 0.009809750297265161, 'state': array([-0.38366807-0.56509928j, -0.16974888-0.28238985j,\n",
      "       -0.4881899 -0.37437354j,  0.06106199-0.20661419j])}\n",
      "Maximum iterations reached for the estimation.\n",
      "Terminating algorithm...\n",
      "Result :  {'cost': 0.986328125, 'theta': 0.04344684078888023, 'state': array([ 0.37335179-0.12858219j, -0.24619716+0.66042226j,\n",
      "        0.42880575-0.08897115j,  0.39432703-0.00451905j])}\n",
      "Maximum iterations reached for the estimation.\n",
      "Terminating algorithm...\n",
      "Result :  {'cost': 0.962890625, 'theta': 0.0971134527860921, 'state': array([ 0.36308562+0.28699838j, -0.35811042+0.22807491j,\n",
      "        0.18935812+0.22722257j, -0.29157698-0.65805456j])}\n",
      "Maximum iterations reached for the estimation.\n",
      "Terminating algorithm...\n",
      "Result :  {'cost': 0.96875, 'theta': 0.08760865554143261, 'state': array([ 0.11884292+0.51132995j, -0.04287956+0.18096823j,\n",
      "       -0.46496448-0.01549587j,  0.56900863+0.38681645j])}\n",
      "Maximum iterations reached for the estimation.\n",
      "Terminating algorithm...\n",
      "Result :  {'cost': 0.986328125, 'theta': 0.0566341383410554, 'state': array([-0.58923683+0.50928247j,  0.05816013-0.46978825j,\n",
      "        0.09861686-0.19060006j, -0.18731028-0.29699985j])}\n",
      "Maximum iterations reached for the estimation.\n",
      "Terminating algorithm...\n",
      "Result :  {'cost': 0.98046875, 'theta': 0.043995243757431635, 'state': array([-0.07710051+0.68422245j,  0.06584864+0.40009807j,\n",
      "       -0.07896561-0.41978797j, -0.25483127+0.33776346j])}\n",
      "Maximum iterations reached for the estimation.\n",
      "Terminating algorithm...\n",
      "Result :  {'cost': 0.96875, 'theta': 0.06965230226741564, 'state': array([-0.7717511 +0.21876445j, -0.20740248-0.00796283j,\n",
      "        0.06781019+0.04370911j, -0.22097892-0.50805785j])}\n",
      "Maximum iterations reached for the estimation.\n",
      "Terminating algorithm...\n",
      "Result :  {'cost': 0.966796875, 'theta': 0.07672516298331214, 'state': array([-0.0499385 -0.31157394j,  0.22630326+0.29675543j,\n",
      "        0.36964594+0.39778044j,  0.64463951-0.22521852j])}\n",
      "Result :  {'cost': 1.0, 'theta': 0.0, 'state': array([-0.31236486+0.55158532j,  0.17317024+0.26566787j,\n",
      "       -0.68761435+0.05723946j, -0.00421338+0.14665224j])}\n",
      "Result :  {'cost': 1.0, 'theta': 0.02586206896551724, 'state': array([-0.2839341 +0.70510352j, -0.20186765+0.17737128j,\n",
      "        0.55638534+0.09972511j,  0.12187335+0.12504586j])}\n",
      "Maximum iterations reached for the estimation.\n",
      "Terminating algorithm...\n",
      "Result :  {'cost': 0.984375, 'theta': 0.054015129771618355, 'state': array([-0.50784215+0.18658787j, -0.28002192-0.06526955j,\n",
      "        0.43361423+0.53287999j,  0.29626744-0.25466083j])}\n",
      "Result :  {'cost': 1.0, 'theta': 0.02586206896551724, 'state': array([-0.14253178+0.65766792j,  0.16129967+0.29863883j,\n",
      "       -0.3661345 +0.52751391j,  0.12200872-0.06887199j])}\n",
      "Maximum iterations reached for the estimation.\n",
      "Terminating algorithm...\n",
      "Result :  {'cost': 0.962890625, 'theta': 0.08725501250563779, 'state': array([ 0.41168766+0.22022347j, -0.35633756-0.21794333j,\n",
      "       -0.14498535+0.42077054j,  0.62485775+0.1379251j ])}\n",
      "Maximum iterations reached for the estimation.\n",
      "Terminating algorithm...\n",
      "Result :  {'cost': 0.986328125, 'theta': 0.058858501783590964, 'state': array([ 0.16399043+0.27635843j, -0.12441719+0.21301803j,\n",
      "       -0.28718565+0.7535894j ,  0.38365214-0.19574292j])}\n",
      "Maximum iterations reached for the estimation.\n",
      "Terminating algorithm...\n",
      "Result :  {'cost': 0.974609375, 'theta': 0.06896551724137931, 'state': array([ 0.21258156-0.20146364j, -0.20911709-0.12754578j,\n",
      "        0.52926565-0.33554148j,  0.33681839+0.58997182j])}\n",
      "Maximum iterations reached for the estimation.\n",
      "Terminating algorithm...\n",
      "Result :  {'cost': 0.982421875, 'theta': 0.034482758620689655, 'state': array([-0.75546917+0.14121442j,  0.27593123+0.30066223j,\n",
      "       -0.03830452+0.23301876j, -0.2215534 +0.37140021j])}\n",
      "Maximum iterations reached for the estimation.\n",
      "Terminating algorithm...\n",
      "Result :  {'cost': 0.99609375, 'theta': 0.0283170691705277, 'state': array([ 0.27624038+0.0037427j , -0.38515996-0.44338714j,\n",
      "        0.68732626+0.15225833j,  0.24240381+0.15613231j])}\n",
      "Maximum iterations reached for the estimation.\n",
      "Terminating algorithm...\n",
      "Result :  {'cost': 0.97265625, 'theta': 0.06449468766657102, 'state': array([ 0.06998103+0.10568648j, -0.53247968-0.50228251j,\n",
      "       -0.3822065 +0.06056365j,  0.45694964-0.29926235j])}\n",
      "Maximum iterations reached for the estimation.\n",
      "Terminating algorithm...\n",
      "Result :  {'cost': 0.939453125, 'theta': 0.9444192796073979, 'state': array([-0.19260669-0.43882939j, -0.44041235+0.03613734j,\n",
      "        0.59028908-0.14723096j, -0.32347784-0.31671189j])}\n",
      "Maximum iterations reached for the estimation.\n",
      "Terminating algorithm...\n",
      "Result :  {'cost': 0.99609375, 'theta': 0.027524420986849638, 'state': array([-0.2839044 -0.28175868j,  0.67119054+0.38808106j,\n",
      "       -0.02990168-0.41200743j,  0.23548086-0.11318668j])}\n",
      "Maximum iterations reached for the estimation.\n",
      "Terminating algorithm...\n",
      "Result :  {'cost': 0.998046875, 'theta': 0.02448737223960491, 'state': array([0.7188383 -0.41307386j, 0.25535198-0.37965526j,\n",
      "       0.02955262+0.1901423j , 0.07997881+0.24469304j])}\n",
      "Maximum iterations reached for the estimation.\n",
      "Terminating algorithm...\n",
      "Result :  {'cost': 0.9765625, 'theta': 0.062368024519250484, 'state': array([ 0.22998265-0.05692101j, -0.66438572-0.16963868j,\n",
      "       -0.38851109+0.26296944j,  0.46834671-0.18504021j])}\n",
      "Maximum iterations reached for the estimation.\n",
      "Terminating algorithm...\n",
      "Result :  {'cost': 0.990234375, 'theta': 0.039239001189060645, 'state': array([-0.72929493+0.02900507j, -0.12927042+0.03538805j,\n",
      "       -0.11233672+0.58659008j,  0.06195612+0.2979571j ])}\n",
      "Maximum iterations reached for the estimation.\n",
      "Terminating algorithm...\n",
      "Result :  {'cost': 0.978515625, 'theta': 0.04965353233014884, 'state': array([-0.53671904+0.36540219j,  0.00429237+0.28943339j,\n",
      "       -0.2730387 +0.49435765j, -0.20251045+0.36697915j])}\n",
      "Maximum iterations reached for the estimation.\n",
      "Terminating algorithm...\n",
      "Result :  {'cost': 0.970703125, 'theta': 0.09156535733322399, 'state': array([ 0.07444649+0.461389j  ,  0.28782491-0.24610865j,\n",
      "       -0.50163947-0.02416808j,  0.13831771+0.60564612j])}\n",
      "Maximum iterations reached for the estimation.\n",
      "Terminating algorithm...\n",
      "Result :  {'cost': 0.82421875, 'theta': 0.9274775513551191, 'state': array([-0.13046324-0.42510758j, -0.07630678+0.3345065j ,\n",
      "        0.26751951+0.41972501j,  0.46650621-0.46816851j])}\n",
      "Maximum iterations reached for the estimation.\n",
      "Terminating algorithm...\n",
      "Result :  {'cost': 0.974609375, 'theta': 0.9586822248247161, 'state': array([-0.19619443+0.06925854j, -0.22529943+0.1687501j ,\n",
      "       -0.83887766+0.2057592j , -0.00698495+0.36245443j])}\n",
      "Maximum iterations reached for the estimation.\n",
      "Terminating algorithm...\n",
      "Result :  {'cost': 0.97265625, 'theta': 0.07699167657550536, 'state': array([ 0.26056679+0.21384291j,  0.09243426+0.74189008j,\n",
      "       -0.01089925-0.22633718j, -0.21964312-0.47732668j])}\n",
      "Maximum iterations reached for the estimation.\n",
      "Terminating algorithm...\n",
      "Result :  {'cost': 0.99609375, 'theta': 0.030733011349096045, 'state': array([0.0245976 +0.37796344j, 0.43277092-0.43773662j,\n",
      "       0.35850364-0.53823472j, 0.22313544-0.09810038j])}\n",
      "Maximum iterations reached for the estimation.\n",
      "Terminating algorithm...\n",
      "Result :  {'cost': 0.966796875, 'theta': 0.09086319652302267, 'state': array([-0.29344653-0.01049076j, -0.59365975+0.11352057j,\n",
      "       -0.19091768+0.018218j  ,  0.22876685+0.67774961j])}\n",
      "Maximum iterations reached for the estimation.\n",
      "Terminating algorithm...\n",
      "Result :  {'cost': 0.9765625, 'theta': 0.0557612974899651, 'state': array([-0.07383246+0.08440009j, -0.52793398+0.49827833j,\n",
      "       -0.49903792-0.11060997j,  0.01081976-0.44613824j])}\n",
      "Maximum iterations reached for the estimation.\n",
      "Terminating algorithm...\n",
      "Result :  {'cost': 0.970703125, 'theta': 0.08358276272089878, 'state': array([0.59350444+0.40931057j, 0.09006251+0.30971538j,\n",
      "       0.08584546+0.11635244j, 0.51530148+0.29956553j])}\n"
     ]
    },
    {
     "name": "stdout",
     "output_type": "stream",
     "text": [
      "Maximum iterations reached for the estimation.\n",
      "Terminating algorithm...\n",
      "Result :  {'cost': 0.98046875, 'theta': 0.07312722948870391, 'state': array([ 2.80050778e-04-0.45476646j, -3.98066427e-02-0.44988585j,\n",
      "       -1.03759091e-01+0.51695932j, -4.85244239e-01-0.27519209j])}\n"
     ]
    }
   ],
   "source": [
    "estimates = []\n",
    "for _ in range(100): \n",
    "    qpe = SPEA(resolution = 30,unitary = u1, error =4,max_iters=12)\n",
    "    result = qpe.get_eigen_pair(progress = False, backend = backend)\n",
    "    print(\"Result : \",result)\n",
    "    estimates.append(result['theta'])"
   ]
  },
  {
   "cell_type": "code",
   "execution_count": 11,
   "metadata": {
    "ExecuteTime": {
     "end_time": "2021-06-18T10:26:34.304832Z",
     "start_time": "2021-06-18T10:26:33.744801Z"
    }
   },
   "outputs": [
    {
     "ename": "NameError",
     "evalue": "name 'phase_path' is not defined",
     "output_type": "error",
     "traceback": [
      "\u001b[1;31m---------------------------------------------------------------------------\u001b[0m",
      "\u001b[1;31mNameError\u001b[0m                                 Traceback (most recent call last)",
      "\u001b[1;32m<ipython-input-11-540326fda853>\u001b[0m in \u001b[0;36m<module>\u001b[1;34m\u001b[0m\n\u001b[0;32m      9\u001b[0m \u001b[0mplt\u001b[0m\u001b[1;33m.\u001b[0m\u001b[0mgrid\u001b[0m\u001b[1;33m(\u001b[0m\u001b[1;33m)\u001b[0m\u001b[1;33m\u001b[0m\u001b[1;33m\u001b[0m\u001b[0m\n\u001b[0;32m     10\u001b[0m \u001b[0mplt\u001b[0m\u001b[1;33m.\u001b[0m\u001b[0mlegend\u001b[0m\u001b[1;33m(\u001b[0m\u001b[1;33m)\u001b[0m\u001b[1;33m\u001b[0m\u001b[1;33m\u001b[0m\u001b[0m\n\u001b[1;32m---> 11\u001b[1;33m \u001b[0mplt\u001b[0m\u001b[1;33m.\u001b[0m\u001b[0msavefig\u001b[0m\u001b[1;33m(\u001b[0m\u001b[0mphase_path\u001b[0m\u001b[1;33m+\u001b[0m\u001b[1;34m\"stat_qpe.JPG\"\u001b[0m\u001b[1;33m,\u001b[0m\u001b[0mdpi\u001b[0m \u001b[1;33m=\u001b[0m \u001b[1;36m200\u001b[0m\u001b[1;33m)\u001b[0m\u001b[1;33m\u001b[0m\u001b[1;33m\u001b[0m\u001b[0m\n\u001b[0m",
      "\u001b[1;31mNameError\u001b[0m: name 'phase_path' is not defined"
     ]
    },
    {
     "data": {
      "image/png": "[encoded data removed]",
      "text/plain": [
       "<Figure size 864x792 with 1 Axes>"
      ]
     },
     "metadata": {
      "needs_background": "light"
     },
     "output_type": "display_data"
    }
   ],
   "source": [
    "plt.figure(figsize = (12,11))\n",
    "plt.title(\"Phase by SQPE for the unitary CP(1/7)\",fontsize = 16)\n",
    "plt.plot(range(100),estimates,color = 'g',linewidth = 2,marker = 'o',label = 'Estimates')\n",
    "plt.plot([1,100],[0.1428,0.1428],color = 'black')\n",
    "plt.plot([1,100],[0,0],color = 'black')\n",
    "plt.plot([1,100],[1,1],color = 'black',label = 'Correct')\n",
    "plt.xlabel('Experiment')\n",
    "plt.ylabel('Estimates')\n",
    "plt.grid()\n",
    "plt.legend()\n",
    "plt.savefig(phase_path+\"stat_qpe.JPG\",dpi = 200)"
   ]
  },
  {
   "cell_type": "markdown",
   "metadata": {},
   "source": [
    "- Kitaev's Algorithm"
   ]
  },
  {
   "cell_type": "code",
   "execution_count": 56,
   "metadata": {
    "ExecuteTime": {
     "end_time": "2021-06-17T08:35:20.165855Z",
     "start_time": "2021-06-17T08:35:13.689032Z"
    }
   },
   "outputs": [
    {
     "name": "stdout",
     "output_type": "stream",
     "text": [
      "Precision : 5\n",
      "Phase: (0.1516376436365229, [0, 0, 1, 0, 0])\n",
      "Precision : 6\n",
      "Phase: (0.13602573182422084, [0, 0, 1, 0, 0, 0])\n",
      "Precision : 7\n",
      "Phase: (0.14693523068279313, [0, 0, 1, 0, 0, 1, 0])\n",
      "Precision : 8\n",
      "Phase: (0.14402894157304708, [0, 0, 1, 0, 0, 1, 0, 0])\n",
      "Precision : 9\n",
      "Phase: (0.14330483129193106, [0, 0, 1, 0, 0, 1, 0, 0, 1])\n",
      "Precision : 10\n",
      "Phase: (0.1419921786214931, [0, 0, 1, 0, 0, 1, 0, 0, 0, 1])\n",
      "Precision : 11\n",
      "Phase: (0.14355072857036352, [0, 0, 1, 0, 0, 1, 0, 0, 1, 0, 1])\n",
      "Precision : 12\n",
      "Phase: (0.14238931632653223, [0, 0, 1, 0, 0, 1, 0, 0, 0, 1, 1, 1])\n",
      "Precision : 13\n",
      "Phase: (0.14332901077556737, [0, 0, 1, 0, 0, 1, 0, 0, 1, 0, 1, 1, 0])\n",
      "Precision : 14\n",
      "Phase: (0.143548839188671, [0, 0, 1, 0, 0, 1, 0, 0, 1, 0, 1, 1, 1, 1])\n",
      "Precision : 15\n",
      "Phase: (0.14283498412182935, [0, 0, 1, 0, 0, 1, 0, 0, 1, 0, 0, 1, 0, 0, 0])\n"
     ]
    }
   ],
   "source": [
    "estimates = []\n",
    "for precision in range(5,16): \n",
    "    kqpe = KQPE(precision=precision,unitary = u1)\n",
    "    kqpe_circ = kqpe.get_circuit()\n",
    "    qc = QuantumCircuit(2+2,2)\n",
    "    qc.x(2)\n",
    "    qc.x(3)\n",
    "    qc.append(kqpe_circ,qargs = [0,1,2,3])\n",
    "    phase = kqpe.get_phase(qc,backend = backend, ancilla = [0,1],clbits = [0,1],show = False)\n",
    "    print(\"Precision :\",precision)\n",
    "    print(\"Phase:\",phase)\n",
    "    estimates.append(phase[0])"
   ]
  },
  {
   "cell_type": "code",
   "execution_count": 57,
   "metadata": {
    "ExecuteTime": {
     "end_time": "2021-06-17T08:35:20.684567Z",
     "start_time": "2021-06-17T08:35:20.169292Z"
    }
   },
   "outputs": [
    {
     "data": {
      "image/png": "[encoded data removed]",
      "text/plain": [
       "<Figure size 432x288 with 1 Axes>"
      ]
     },
     "metadata": {
      "needs_background": "light"
     },
     "output_type": "display_data"
    }
   ],
   "source": [
    "plt.title(\"Phase by Kitaev's Algorithm for the phase gate(1/7)\",fontsize = 16)\n",
    "plt.plot([i for i in range(5,16)],estimates,color = 'cyan',alpha = 0.6,linewidth = 2,marker = 's',label = 'Estimates')\n",
    "plt.plot([5,17],[0.1428,0.1428],color = 'black')\n",
    "plt.xlabel('Precision')     \n",
    "plt.ylabel('Estimates')\n",
    "plt.grid()\n",
    "plt.legend()\n",
    "plt.savefig(phase_path+\"kitaev_qpe.JPG\",dpi = 200)"
   ]
  },
  {
   "cell_type": "markdown",
   "metadata": {},
   "source": [
    "## Testing PEA for ZX unitary \n",
    "- Eigenvector chosen **|0->**\n",
    "- Phase should be coming out as 1/2.\n"
   ]
  },
  {
   "cell_type": "code",
   "execution_count": 58,
   "metadata": {
    "ExecuteTime": {
     "end_time": "2021-06-17T08:35:20.700472Z",
     "start_time": "2021-06-17T08:35:20.688426Z"
    }
   },
   "outputs": [],
   "source": [
    "os.makedirs(name = \"Plots/2-qubit/zx_gate/\",exist_ok=True)\n",
    "zx_path = \"Plots/2-qubit/zx_gate/\""
   ]
  },
  {
   "cell_type": "markdown",
   "metadata": {},
   "source": [
    "- **Basic QPE**"
   ]
  },
  {
   "cell_type": "code",
   "execution_count": 59,
   "metadata": {
    "ExecuteTime": {
     "end_time": "2021-06-17T08:36:09.772500Z",
     "start_time": "2021-06-17T08:35:20.703387Z"
    }
   },
   "outputs": [],
   "source": [
    "estimates = []\n",
    "for precision in range(1,9): \n",
    "    # \n",
    "    qpe = QPE(precision=precision,unitary = u2)\n",
    "    qpe_circ = qpe.get_QPE(show = False)\n",
    "    # Quantum Circuit \n",
    "    qc = QuantumCircuit(precision+2,precision)\n",
    "    \n",
    "    # make the eigenvector \n",
    "    qc.x(precision+1)\n",
    "    qc.h(precision+1)\n",
    "    qc.append(qpe_circ, qargs = list(range(precision+2)))\n",
    "    qc.measure(list(range(precision)),list(range(precision)))\n",
    "    \n",
    "    counts = execute(qc,backend=backend,shots = 2**10).result().get_counts()\n",
    "    m = -1 \n",
    "    for i,j in counts.items():\n",
    "        if j > m:\n",
    "            m = j \n",
    "            phase = i \n",
    "    factor = 0.5\n",
    "    ans = 0.0 \n",
    "    for i in range(precision):\n",
    "        ans+= int(phase[i])*factor \n",
    "        factor/=2 \n",
    "    estimates.append(ans)"
   ]
  },
  {
   "cell_type": "code",
   "execution_count": 60,
   "metadata": {
    "ExecuteTime": {
     "end_time": "2021-06-17T08:36:10.309021Z",
     "start_time": "2021-06-17T08:36:09.776304Z"
    }
   },
   "outputs": [
    {
     "data": {
      "image/png": "[encoded data removed]",
      "text/plain": [
       "<Figure size 432x288 with 1 Axes>"
      ]
     },
     "metadata": {
      "needs_background": "light"
     },
     "output_type": "display_data"
    }
   ],
   "source": [
    "plt.title(\"Phase by basic QPE for the unitary ZX\",fontsize = 16)\n",
    "plt.plot([i for i in range(1,9)],estimates,alpha = 0.5,color = 'g',linewidth = 2,marker = 'o',label = 'Estimates')\n",
    "plt.plot([0,8],[0.5,0.5],color = 'black')\n",
    "plt.xlabel('Precision')\n",
    "plt.ylabel('Estimates')\n",
    "plt.grid()\n",
    "plt.legend()\n",
    "plt.savefig(zx_path+\"basic_qpe.JPG\",dpi = 200)"
   ]
  },
  {
   "cell_type": "markdown",
   "metadata": {},
   "source": [
    "- **Iterative QPE**"
   ]
  },
  {
   "cell_type": "code",
   "execution_count": 61,
   "metadata": {
    "ExecuteTime": {
     "end_time": "2021-06-17T08:37:04.467921Z",
     "start_time": "2021-06-17T08:36:10.312046Z"
    }
   },
   "outputs": [],
   "source": [
    "estimates = []\n",
    "for precision in range(1,9): \n",
    "    qpe = IQPE(precision=precision,unitary = u2,unknown=True)\n",
    "    qc = QuantumCircuit(1+2,precision)\n",
    "    # making the eigenvector\n",
    "    qc.x(2)\n",
    "    qc.h(2)    \n",
    "    phase = qpe.get_circuit_phase(qc, qubits = [1,2], ancilla = 0,clbits = list(range(precision)),show = False)\n",
    "#     display(qc.draw('mpl')) \n",
    "    estimates.append(phase[1])"
   ]
  },
  {
   "cell_type": "code",
   "execution_count": 62,
   "metadata": {
    "ExecuteTime": {
     "end_time": "2021-06-17T08:37:05.034289Z",
     "start_time": "2021-06-17T08:37:04.472122Z"
    }
   },
   "outputs": [
    {
     "data": {
      "image/png": "[encoded data removed]",
      "text/plain": [
       "<Figure size 432x288 with 1 Axes>"
      ]
     },
     "metadata": {
      "needs_background": "light"
     },
     "output_type": "display_data"
    }
   ],
   "source": [
    "plt.title(\"Phase by iterative QPE for the unitary ZX\",fontsize = 16)\n",
    "plt.plot([i for i in range(1,9)],estimates,color = 'b',alpha = 0.5,linewidth = 2,marker = 'o',label = 'Estimates')\n",
    "plt.plot([0,8],[0.5,0.5],color = 'black')\n",
    "plt.xlabel('Precision')\n",
    "plt.ylabel('Estimates')\n",
    "plt.grid()\n",
    "plt.legend()\n",
    "plt.savefig(zx_path+\"iqpe.JPG\",dpi = 200)"
   ]
  },
  {
   "cell_type": "markdown",
   "metadata": {},
   "source": [
    "- **SPEA**"
   ]
  },
  {
   "cell_type": "code",
   "execution_count": 63,
   "metadata": {
    "ExecuteTime": {
     "end_time": "2021-06-17T08:37:28.537853Z",
     "start_time": "2021-06-17T08:37:05.038233Z"
    }
   },
   "outputs": [
    {
     "name": "stdout",
     "output_type": "stream",
     "text": [
      "Right : 1\n",
      "Left : 0.5277777777777777\n",
      "ITERATION NUMBER 1 ...\n",
      "100.000000 %completed\n",
      "COST : 0.841796875\n",
      "THETA : 0.8950617283950617\n",
      "Right : 1\n",
      "Left : 0.7700617283950617\n",
      "ITERATION NUMBER 2 ...\n",
      "100.000000 %completed\n",
      "COST : 0.95703125\n",
      "THETA : 0.9489026063100137\n",
      "Right : 1\n",
      "Left : 0.8864026063100137\n",
      "ITERATION NUMBER 3 ...\n",
      "100.000000 %completed\n",
      "No change, updating a...\n",
      "\n",
      "COST : 0.95703125\n",
      "THETA : 0.9489026063100137\n",
      "Right : 1\n",
      "Left : 0.8864026063100137\n",
      "ITERATION NUMBER 4 ...\n",
      "100.000000 %completed\n",
      "COST : 0.9609375\n",
      "THETA : 0.9621342021033379\n",
      "Right : 0.9933842021033379\n",
      "Left : 0.9308842021033379\n",
      "ITERATION NUMBER 5 ...\n",
      "100.000000 %completed\n",
      "No change, updating a...\n",
      "\n",
      "COST : 0.9609375\n",
      "THETA : 0.9621342021033379\n",
      "Right : 0.9933842021033379\n",
      "Left : 0.9308842021033379\n",
      "ITERATION NUMBER 6 ...\n",
      "100.000000 %completed\n",
      "No change, updating a...\n",
      "\n",
      "COST : 0.9609375\n",
      "THETA : 0.9621342021033379\n",
      "Right : 0.9933842021033379\n",
      "Left : 0.9308842021033379\n",
      "ITERATION NUMBER 7 ...\n",
      "100.000000 %completed\n",
      "No change, updating a...\n",
      "\n",
      "COST : 0.9609375\n",
      "THETA : 0.9621342021033379\n",
      "Right : 0.9933842021033379\n",
      "Left : 0.9308842021033379\n",
      "ITERATION NUMBER 8 ...\n",
      "100.000000 %completed\n",
      "No change, updating a...\n",
      "\n",
      "COST : 0.9609375\n",
      "THETA : 0.9621342021033379\n",
      "Right : 0.9933842021033379\n",
      "Left : 0.9308842021033379\n",
      "ITERATION NUMBER 9 ...\n",
      "100.000000 %completed\n",
      "No change, updating a...\n",
      "\n",
      "COST : 0.9609375\n",
      "THETA : 0.9621342021033379\n",
      "Right : 0.9933842021033379\n",
      "Left : 0.9308842021033379\n",
      "ITERATION NUMBER 10 ...\n",
      "100.000000 %completed\n",
      "No change, updating a...\n",
      "\n",
      "COST : 0.9609375\n",
      "THETA : 0.9621342021033379\n",
      "Right : 0.9933842021033379\n",
      "Left : 0.9308842021033379\n",
      "ITERATION NUMBER 11 ...\n",
      "100.000000 %completed\n",
      "No change, updating a...\n",
      "\n",
      "COST : 0.9609375\n",
      "THETA : 0.9621342021033379\n",
      "Right : 0.9933842021033379\n",
      "Left : 0.9308842021033379\n",
      "ITERATION NUMBER 12 ...\n",
      "100.000000 %completed\n",
      "No change, updating a...\n",
      "\n",
      "COST : 0.9609375\n",
      "THETA : 0.9621342021033379\n",
      "Maximum iterations reached for the estimation.\n",
      "Terminating algorithm...\n",
      "Result :  {'cost': 0.9609375, 'theta': 0.9621342021033379, 'state': array([-0.07221992-0.54975722j, -0.27540577+0.12790652j,\n",
      "        0.10465658-0.62243615j,  0.35292296-0.27822383j])}\n",
      "Right : 0.6071428571428571\n",
      "Left : 0.1071428571428571\n",
      "ITERATION NUMBER 1 ...\n",
      "100.000000 %completed\n",
      "COST : 0.689453125\n",
      "THETA : 0.3571428571428571\n",
      "Right : 0.4821428571428571\n",
      "Left : 0.2321428571428571\n",
      "ITERATION NUMBER 2 ...\n",
      "100.000000 %completed\n",
      "COST : 0.701171875\n",
      "THETA : 0.3571428571428571\n",
      "Right : 0.4196428571428571\n",
      "Left : 0.2946428571428571\n",
      "ITERATION NUMBER 3 ...\n",
      "100.000000 %completed\n",
      "COST : 0.7578125\n",
      "THETA : 0.3660714285714285\n",
      "Right : 0.3973214285714285\n",
      "Left : 0.3348214285714285\n",
      "ITERATION NUMBER 4 ...\n",
      "100.000000 %completed\n",
      "No change, updating a...\n",
      "\n",
      "COST : 0.7578125\n",
      "THETA : 0.3660714285714285\n",
      "Right : 0.3973214285714285\n",
      "Left : 0.3348214285714285\n",
      "ITERATION NUMBER 5 ...\n",
      "100.000000 %completed\n",
      "COST : 0.767578125\n",
      "THETA : 0.37946428571428564\n",
      "Right : 0.39508928571428564\n",
      "Left : 0.36383928571428564\n",
      "ITERATION NUMBER 6 ...\n",
      "100.000000 %completed\n",
      "No change, updating a...\n",
      "\n",
      "COST : 0.767578125\n",
      "THETA : 0.37946428571428564\n",
      "Right : 0.39508928571428564\n",
      "Left : 0.36383928571428564\n",
      "ITERATION NUMBER 7 ...\n",
      "100.000000 %completed\n",
      "No change, updating a...\n",
      "\n",
      "COST : 0.767578125\n",
      "THETA : 0.37946428571428564\n",
      "Right : 0.39508928571428564\n",
      "Left : 0.36383928571428564\n",
      "ITERATION NUMBER 8 ...\n",
      "100.000000 %completed\n",
      "No change, updating a...\n",
      "\n",
      "COST : 0.767578125\n",
      "THETA : 0.37946428571428564\n",
      "Right : 0.39508928571428564\n",
      "Left : 0.36383928571428564\n",
      "ITERATION NUMBER 9 ...\n",
      "100.000000 %completed\n",
      "No change, updating a...\n",
      "\n",
      "COST : 0.767578125\n",
      "THETA : 0.37946428571428564\n",
      "Right : 0.39508928571428564\n",
      "Left : 0.36383928571428564\n",
      "ITERATION NUMBER 10 ...\n",
      "100.000000 %completed\n",
      "No change, updating a...\n",
      "\n",
      "COST : 0.767578125\n",
      "THETA : 0.37946428571428564\n",
      "Right : 0.39508928571428564\n",
      "Left : 0.36383928571428564\n",
      "ITERATION NUMBER 11 ...\n",
      "100.000000 %completed\n",
      "No change, updating a...\n",
      "\n",
      "COST : 0.767578125\n",
      "THETA : 0.37946428571428564\n",
      "Right : 0.39508928571428564\n",
      "Left : 0.36383928571428564\n",
      "ITERATION NUMBER 12 ...\n",
      "100.000000 %completed\n",
      "No change, updating a...\n",
      "\n",
      "COST : 0.767578125\n",
      "THETA : 0.37946428571428564\n",
      "Maximum iterations reached for the estimation.\n",
      "Terminating algorithm...\n",
      "Result :  {'cost': 0.767578125, 'theta': 0.37946428571428564, 'state': array([ 0.08506311+0.56460151j,  0.03431365+0.61246412j,\n",
      "       -0.25487039-0.47795411j,  0.05123728+0.04093127j])}\n",
      "Right : 0.4605263157894737\n",
      "Left : 0\n",
      "ITERATION NUMBER 1 ...\n",
      "100.000000 %completed\n",
      "COST : 0.740234375\n",
      "THETA : 0.3635734072022161\n",
      "Right : 0.4885734072022161\n",
      "Left : 0.2385734072022161\n",
      "ITERATION NUMBER 2 ...\n",
      "100.000000 %completed\n",
      "COST : 0.923828125\n",
      "THETA : 0.4359418282548477\n",
      "Right : 0.4984418282548477\n",
      "Left : 0.3734418282548477\n",
      "ITERATION NUMBER 3 ...\n",
      "100.000000 %completed\n",
      "COST : 0.96875\n",
      "THETA : 0.45896814404432135\n",
      "Right : 0.49021814404432135\n",
      "Left : 0.42771814404432135\n",
      "ITERATION NUMBER 4 ...\n",
      "100.000000 %completed\n",
      "COST : 0.970703125\n",
      "THETA : 0.4639023545706371\n",
      "Right : 0.4795273545706371\n",
      "Left : 0.4482773545706371\n",
      "ITERATION NUMBER 5 ...\n",
      "100.000000 %completed\n",
      "COST : 0.986328125\n",
      "THETA : 0.4680141966759003\n",
      "Right : 0.4758266966759003\n",
      "Left : 0.4602016966759003\n",
      "ITERATION NUMBER 6 ...\n",
      "100.000000 %completed\n",
      "No change, updating a...\n",
      "\n",
      "COST : 0.986328125\n",
      "THETA : 0.4680141966759003\n",
      "Right : 0.4758266966759003\n",
      "Left : 0.4602016966759003\n",
      "ITERATION NUMBER 7 ...\n",
      "100.000000 %completed\n",
      "COST : 0.98828125\n",
      "THETA : 0.46513590720221604\n",
      "Right : 0.46904215720221604\n",
      "Left : 0.46122965720221604\n",
      "ITERATION NUMBER 8 ...\n",
      "100.000000 %completed\n",
      "No change, updating a...\n",
      "\n",
      "COST : 0.98828125\n",
      "THETA : 0.46513590720221604\n",
      "Right : 0.46904215720221604\n",
      "Left : 0.46122965720221604\n",
      "ITERATION NUMBER 9 ...\n",
      "100.000000 %completed\n",
      "COST : 0.994140625\n",
      "THETA : 0.4653414993074792\n",
      "Right : 0.4672946243074792\n",
      "Left : 0.4633883743074792\n",
      "ITERATION NUMBER 10 ...\n",
      "100.000000 %completed\n",
      "No change, updating a...\n",
      "\n",
      "COST : 0.994140625\n",
      "THETA : 0.4653414993074792\n",
      "Right : 0.4672946243074792\n",
      "Left : 0.4633883743074792\n",
      "ITERATION NUMBER 11 ...\n",
      "100.000000 %completed\n",
      "No change, updating a...\n",
      "\n",
      "COST : 0.994140625\n",
      "THETA : 0.4653414993074792\n",
      "Right : 0.4672946243074792\n",
      "Left : 0.4633883743074792\n",
      "ITERATION NUMBER 12 ...\n",
      "100.000000 %completed\n",
      "No change, updating a...\n",
      "\n",
      "COST : 0.994140625\n",
      "THETA : 0.4653414993074792\n",
      "Maximum iterations reached for the estimation.\n",
      "Terminating algorithm...\n",
      "Result :  {'cost': 0.994140625, 'theta': 0.4653414993074792, 'state': array([0.05627716-0.35904427j, 0.07497912-0.55939865j,\n",
      "       0.08914017+0.40780258j, 0.10767148-0.60293392j])}\n",
      "Right : 0.5833333333333333\n",
      "Left : 0.08333333333333331\n",
      "ITERATION NUMBER 1 ...\n",
      "100.000000 %completed\n",
      "COST : 0.72265625\n",
      "THETA : 0.37499999999999994\n",
      "Right : 0.49999999999999994\n",
      "Left : 0.24999999999999994\n",
      "ITERATION NUMBER 2 ...\n",
      "100.000000 %completed\n",
      "COST : 0.79296875\n",
      "THETA : 0.38541666666666663\n",
      "Right : 0.44791666666666663\n",
      "Left : 0.32291666666666663\n",
      "ITERATION NUMBER 3 ...\n",
      "100.000000 %completed\n",
      "COST : 0.810546875\n",
      "THETA : 0.39062499999999994\n",
      "Right : 0.42187499999999994\n",
      "Left : 0.35937499999999994\n",
      "ITERATION NUMBER 4 ...\n",
      "100.000000 %completed\n",
      "No change, updating a...\n",
      "\n",
      "COST : 0.810546875\n",
      "THETA : 0.39062499999999994\n",
      "Right : 0.42187499999999994\n",
      "Left : 0.35937499999999994\n",
      "ITERATION NUMBER 5 ...\n",
      "100.000000 %completed\n",
      "COST : 0.8203125\n",
      "THETA : 0.39843749999999994\n",
      "Right : 0.41406249999999994\n",
      "Left : 0.38281249999999994\n",
      "ITERATION NUMBER 6 ...\n",
      "100.000000 %completed\n",
      "No change, updating a...\n",
      "\n",
      "COST : 0.8203125\n",
      "THETA : 0.39843749999999994\n",
      "Right : 0.41406249999999994\n",
      "Left : 0.38281249999999994\n",
      "ITERATION NUMBER 7 ...\n",
      "100.000000 %completed\n",
      "No change, updating a...\n",
      "\n",
      "COST : 0.8203125\n",
      "THETA : 0.39843749999999994\n",
      "Right : 0.41406249999999994\n",
      "Left : 0.38281249999999994\n",
      "ITERATION NUMBER 8 ...\n",
      "100.000000 %completed\n",
      "COST : 0.82421875\n",
      "THETA : 0.39843749999999994\n",
      "Right : 0.40624999999999994\n",
      "Left : 0.39062499999999994\n",
      "ITERATION NUMBER 9 ...\n",
      "100.000000 %completed\n",
      "COST : 0.830078125\n",
      "THETA : 0.39388020833333326\n",
      "Right : 0.39778645833333326\n",
      "Left : 0.38997395833333326\n",
      "ITERATION NUMBER 10 ...\n",
      "100.000000 %completed\n",
      "No change, updating a...\n",
      "\n",
      "COST : 0.830078125\n",
      "THETA : 0.39388020833333326\n",
      "Right : 0.39778645833333326\n",
      "Left : 0.38997395833333326\n",
      "ITERATION NUMBER 11 ...\n",
      "100.000000 %completed\n",
      "No change, updating a...\n",
      "\n",
      "COST : 0.830078125\n",
      "THETA : 0.39388020833333326\n",
      "Right : 0.39778645833333326\n",
      "Left : 0.38997395833333326\n",
      "ITERATION NUMBER 12 ...\n"
     ]
    },
    {
     "name": "stdout",
     "output_type": "stream",
     "text": [
      "100.000000 %completed\n",
      "No change, updating a...\n",
      "\n",
      "COST : 0.830078125\n",
      "THETA : 0.39388020833333326\n",
      "Maximum iterations reached for the estimation.\n",
      "Terminating algorithm...\n",
      "Result :  {'cost': 0.830078125, 'theta': 0.39388020833333326, 'state': array([-0.59630575+0.53259732j, -0.01883787-0.08155608j,\n",
      "        0.28288271-0.36977627j, -0.3191964 -0.18737619j])}\n",
      "Right : 0.4224137931034483\n",
      "Left : 0\n",
      "ITERATION NUMBER 1 ...\n",
      "100.000000 %completed\n",
      "COST : 0.861328125\n",
      "THETA : 0.08739595719381689\n",
      "Right : 0.21239595719381688\n",
      "Left : 0\n",
      "ITERATION NUMBER 2 ...\n",
      "100.000000 %completed\n",
      "COST : 0.890625\n",
      "THETA : 0.0732399852392472\n",
      "Right : 0.13573998523924719\n",
      "Left : 0.010739985239247199\n",
      "ITERATION NUMBER 3 ...\n",
      "100.000000 %completed\n",
      "COST : 0.896484375\n",
      "THETA : 0.0753951576530403\n",
      "Right : 0.1066451576530403\n",
      "Left : 0.04414515765304031\n",
      "ITERATION NUMBER 4 ...\n",
      "100.000000 %completed\n",
      "COST : 0.908203125\n",
      "THETA : 0.06569688179097134\n",
      "Right : 0.08132188179097134\n",
      "Left : 0.05007188179097134\n",
      "ITERATION NUMBER 5 ...\n",
      "100.000000 %completed\n",
      "COST : 0.927734375\n",
      "THETA : 0.06515808868752307\n",
      "Right : 0.07297058868752307\n",
      "Left : 0.05734558868752307\n",
      "ITERATION NUMBER 6 ...\n",
      "100.000000 %completed\n",
      "No change, updating a...\n",
      "\n",
      "COST : 0.927734375\n",
      "THETA : 0.06515808868752307\n",
      "Right : 0.07297058868752307\n",
      "Left : 0.05734558868752307\n",
      "ITERATION NUMBER 7 ...\n",
      "100.000000 %completed\n",
      "No change, updating a...\n",
      "\n",
      "COST : 0.927734375\n",
      "THETA : 0.06515808868752307\n",
      "Right : 0.07297058868752307\n",
      "Left : 0.05734558868752307\n",
      "ITERATION NUMBER 8 ...\n",
      "100.000000 %completed\n",
      "No change, updating a...\n",
      "\n",
      "COST : 0.927734375\n",
      "THETA : 0.06515808868752307\n",
      "Right : 0.07297058868752307\n",
      "Left : 0.05734558868752307\n",
      "ITERATION NUMBER 9 ...\n",
      "100.000000 %completed\n",
      "No change, updating a...\n",
      "\n",
      "COST : 0.927734375\n",
      "THETA : 0.06515808868752307\n",
      "Right : 0.07297058868752307\n",
      "Left : 0.05734558868752307\n",
      "ITERATION NUMBER 10 ...\n",
      "100.000000 %completed\n",
      "No change, updating a...\n",
      "\n",
      "COST : 0.927734375\n",
      "THETA : 0.06515808868752307\n",
      "Right : 0.07297058868752307\n",
      "Left : 0.05734558868752307\n",
      "ITERATION NUMBER 11 ...\n",
      "100.000000 %completed\n",
      "No change, updating a...\n",
      "\n",
      "COST : 0.927734375\n",
      "THETA : 0.06515808868752307\n",
      "Right : 0.07297058868752307\n",
      "Left : 0.05734558868752307\n",
      "ITERATION NUMBER 12 ...\n",
      "100.000000 %completed\n",
      "No change, updating a...\n",
      "\n",
      "COST : 0.927734375\n",
      "THETA : 0.06515808868752307\n",
      "Maximum iterations reached for the estimation.\n",
      "Terminating algorithm...\n",
      "Result :  {'cost': 0.927734375, 'theta': 0.06515808868752307, 'state': array([ 0.50613337+0.27600895j, -0.19437481-0.2104484j ,\n",
      "        0.32878686+0.55336887j,  0.22580041+0.34680577j])}\n",
      "Right : 1\n",
      "Left : 0.5147058823529411\n",
      "ITERATION NUMBER 1 ...\n",
      "100.000000 %completed\n",
      "COST : 0.5625\n",
      "THETA : 0.8001730103806228\n",
      "Right : 0.9251730103806228\n",
      "Left : 0.6751730103806228\n",
      "ITERATION NUMBER 2 ...\n",
      "100.000000 %completed\n",
      "COST : 0.5859375\n",
      "THETA : 0.8075259515570934\n",
      "Right : 0.8700259515570934\n",
      "Left : 0.7450259515570934\n",
      "ITERATION NUMBER 3 ...\n",
      "100.000000 %completed\n",
      "COST : 0.638671875\n",
      "THETA : 0.8222318339100345\n",
      "Right : 0.8534818339100345\n",
      "Left : 0.7909818339100345\n",
      "ITERATION NUMBER 4 ...\n",
      "100.000000 %completed\n",
      "No change, updating a...\n",
      "\n",
      "COST : 0.638671875\n",
      "THETA : 0.8222318339100345\n",
      "Right : 0.8534818339100345\n",
      "Left : 0.7909818339100345\n",
      "ITERATION NUMBER 5 ...\n",
      "100.000000 %completed\n",
      "No change, updating a...\n",
      "\n",
      "COST : 0.638671875\n",
      "THETA : 0.8222318339100345\n",
      "Right : 0.8534818339100345\n",
      "Left : 0.7909818339100345\n",
      "ITERATION NUMBER 6 ...\n",
      "100.000000 %completed\n",
      "No change, updating a...\n",
      "\n",
      "COST : 0.638671875\n",
      "THETA : 0.8222318339100345\n",
      "Right : 0.8534818339100345\n",
      "Left : 0.7909818339100345\n",
      "ITERATION NUMBER 7 ...\n",
      "100.000000 %completed\n",
      "No change, updating a...\n",
      "\n",
      "COST : 0.638671875\n",
      "THETA : 0.8222318339100345\n",
      "Right : 0.8534818339100345\n",
      "Left : 0.7909818339100345\n",
      "ITERATION NUMBER 8 ...\n",
      "100.000000 %completed\n",
      "No change, updating a...\n",
      "\n",
      "COST : 0.638671875\n",
      "THETA : 0.8222318339100345\n",
      "Right : 0.8534818339100345\n",
      "Left : 0.7909818339100345\n",
      "ITERATION NUMBER 9 ...\n",
      "100.000000 %completed\n",
      "No change, updating a...\n",
      "\n",
      "COST : 0.638671875\n",
      "THETA : 0.8222318339100345\n",
      "Right : 0.8534818339100345\n",
      "Left : 0.7909818339100345\n",
      "ITERATION NUMBER 10 ...\n",
      "100.000000 %completed\n",
      "No change, updating a...\n",
      "\n",
      "COST : 0.638671875\n",
      "THETA : 0.8222318339100345\n",
      "Right : 0.8534818339100345\n",
      "Left : 0.7909818339100345\n",
      "ITERATION NUMBER 11 ...\n",
      "100.000000 %completed\n",
      "No change, updating a...\n",
      "\n",
      "COST : 0.638671875\n",
      "THETA : 0.8222318339100345\n",
      "Right : 0.8534818339100345\n",
      "Left : 0.7909818339100345\n",
      "ITERATION NUMBER 12 ...\n",
      "100.000000 %completed\n",
      "No change, updating a...\n",
      "\n",
      "COST : 0.638671875\n",
      "THETA : 0.8222318339100345\n",
      "Maximum iterations reached for the estimation.\n",
      "Terminating algorithm...\n",
      "Result :  {'cost': 0.638671875, 'theta': 0.8222318339100345, 'state': array([ 0.2656371 -0.37590972j, -0.48585415+0.53972561j,\n",
      "       -0.22091252-0.15348503j, -0.03988905-0.43222645j])}\n"
     ]
    }
   ],
   "source": [
    "estimates = []\n",
    "for resolution in range(10,40,5): \n",
    "    qpe = SPEA(resolution = resolution,unitary = u2, error =4,max_iters=12)\n",
    "    result = qpe.get_eigen_pair(progress = True, backend = backend)\n",
    "    print(\"Result : \",result)\n",
    "    estimates.append(result['theta'])"
   ]
  },
  {
   "cell_type": "code",
   "execution_count": 64,
   "metadata": {
    "ExecuteTime": {
     "end_time": "2021-06-17T08:37:29.105249Z",
     "start_time": "2021-06-17T08:37:28.543799Z"
    }
   },
   "outputs": [
    {
     "data": {
      "image/png": "[encoded data removed]",
      "text/plain": [
       "<Figure size 432x288 with 1 Axes>"
      ]
     },
     "metadata": {
      "needs_background": "light"
     },
     "output_type": "display_data"
    }
   ],
   "source": [
    "plt.title(\"Phase by SQPE for the unitary ZX\",fontsize = 16)\n",
    "plt.plot([i for i in range(10,40,5)],estimates,color = 'g',linewidth = 2,marker = 'o',label = 'Estimates')\n",
    "plt.plot([5,50],[0.5,0.5],color = 'black')\n",
    "plt.plot([5,50],[0,0],color = 'black')\n",
    "plt.plot([5,50],[1,1],color = 'black',label = 'Correct')\n",
    "plt.xlabel('Precision')\n",
    "plt.ylabel('Estimates')\n",
    "plt.grid()\n",
    "plt.legend()\n",
    "plt.savefig(zx_path+\"stat_qpe.JPG\",dpi = 200)"
   ]
  },
  {
   "cell_type": "markdown",
   "metadata": {},
   "source": [
    "- Kitaev's Algorithm"
   ]
  },
  {
   "cell_type": "code",
   "execution_count": 65,
   "metadata": {
    "ExecuteTime": {
     "end_time": "2021-06-17T08:37:33.383810Z",
     "start_time": "2021-06-17T08:37:29.115221Z"
    }
   },
   "outputs": [
    {
     "name": "stdout",
     "output_type": "stream",
     "text": [
      "Precision : 5\n",
      "Phase: (-0.497016194448965, [0, 0, 0, 0, 0])\n",
      "Precision : 6\n",
      "Phase: (0.49651904078015835, [0, 1, 1, 1, 1, 1])\n",
      "Precision : 7\n",
      "Phase: (-0.4980106668181378, [0, 0, 0, 0, 0, 0, 0])\n",
      "Precision : 8\n",
      "Phase: (0.4941586537208397, [0, 1, 1, 1, 1, 1, 1, 0])\n",
      "Precision : 9\n",
      "Phase: (0.49825931221991, [0, 1, 1, 1, 1, 1, 1, 1, 1])\n",
      "Precision : 10\n",
      "Phase: (-0.4998756602260065, [0, 0, 0, 0, 0, 0, 0, 0, 0, 0])\n",
      "Precision : 11\n",
      "Phase: (0.4997357781692497, [0, 1, 1, 1, 1, 1, 1, 1, 1, 1, 1])\n",
      "Precision : 12\n",
      "Phase: (0.49993005886740144, [0, 1, 1, 1, 1, 1, 1, 1, 1, 1, 1, 1])\n",
      "Precision : 13\n",
      "Phase: (0.49911797357880044, [0, 1, 1, 1, 1, 1, 1, 1, 1, 1, 0, 0, 0])\n",
      "Precision : 14\n",
      "Phase: (0.49968915089703836, [0, 1, 1, 1, 1, 1, 1, 1, 1, 1, 1, 0, 1, 0])\n",
      "Precision : 15\n",
      "Phase: (-0.49949681405133173, [0, 0, 0, 0, 0, 0, 0, 0, 0, 0, 0, 0, 0, 0, 0])\n"
     ]
    }
   ],
   "source": [
    "estimates = []\n",
    "for precision in range(5,16): \n",
    "    kqpe = KQPE(precision=precision,unitary = u2)\n",
    "    kqpe_circ = kqpe.get_circuit()\n",
    "    qc = QuantumCircuit(2+2,2)\n",
    "    qc.x(3)   \n",
    "    qc.h(3)\n",
    "    qc.append(kqpe_circ,qargs = [0,1,2,3])\n",
    "    phase = kqpe.get_phase(qc,backend = backend, ancilla = [0,1],clbits = [0,1],show = False)\n",
    "#     display(qc.draw('mpl')) \n",
    "    print(\"Precision :\",precision)\n",
    "    print(\"Phase:\",phase)\n",
    "    estimates.append(phase[0])"
   ]
  },
  {
   "cell_type": "code",
   "execution_count": 66,
   "metadata": {
    "ExecuteTime": {
     "end_time": "2021-06-17T08:37:33.953288Z",
     "start_time": "2021-06-17T08:37:33.388801Z"
    }
   },
   "outputs": [
    {
     "data": {
      "image/png": "[encoded data removed]",
      "text/plain": [
       "<Figure size 432x288 with 1 Axes>"
      ]
     },
     "metadata": {
      "needs_background": "light"
     },
     "output_type": "display_data"
    }
   ],
   "source": [
    "plt.title(\"Phase by Kitaev's Algorithm for the zx gate\",fontsize = 16)\n",
    "plt.plot([i for i in range(5,16)],estimates,color = 'orange',alpha = 0.6,linewidth = 2,marker = 's',label = 'Estimates')\n",
    "plt.plot([5,17],[0.5,0.5],color = 'black')\n",
    "plt.plot([5,17],[-0.5,-0.5],color = 'black')\n",
    "\n",
    "plt.xlabel('Precision')     \n",
    "plt.ylabel('Estimates')\n",
    "plt.grid()\n",
    "plt.legend()\n",
    "plt.savefig(zx_path+\"kitaev_qpe.JPG\",dpi = 200)"
   ]
  },
  {
   "cell_type": "code",
   "execution_count": null,
   "metadata": {},
   "outputs": [],
   "source": []
  }
 ],
 "metadata": {
  "kernelspec": {
   "display_name": "Python 3",
   "language": "python",
   "name": "python3"
  },
  "language_info": {
   "codemirror_mode": {
    "name": "ipython",
    "version": 3
   },
   "file_extension": ".py",
   "mimetype": "text/x-python",
   "name": "python",
   "nbconvert_exporter": "python",
   "pygments_lexer": "ipython3",
   "version": "3.7.4"
  },
  "varInspector": {
   "cols": {
    "lenName": 16,
    "lenType": 16,
    "lenVar": 40
   },
   "kernels_config": {
    "python": {
     "delete_cmd_postfix": "",
     "delete_cmd_prefix": "del ",
     "library": "var_list.py",
     "varRefreshCmd": "print(var_dic_list())"
    },
    "r": {
     "delete_cmd_postfix": ") ",
     "delete_cmd_prefix": "rm(",
     "library": "var_list.r",
     "varRefreshCmd": "cat(var_dic_list()) "
    }
   },
   "types_to_exclude": [
    "module",
    "function",
    "builtin_function_or_method",
    "instance",
    "_Feature"
   ],
   "window_display": false
  }
 },
 "nbformat": 4,
 "nbformat_minor": 2
}
